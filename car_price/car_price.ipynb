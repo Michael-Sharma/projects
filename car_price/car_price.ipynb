{
 "cells": [
  {
   "cell_type": "markdown",
   "metadata": {},
   "source": [
    "## Подготовка данных"
   ]
  },
  {
   "cell_type": "code",
   "execution_count": 1,
   "metadata": {},
   "outputs": [],
   "source": [
    "import pandas as pd\n",
    "import numpy as np"
   ]
  },
  {
   "cell_type": "markdown",
   "metadata": {},
   "source": [
    "Прочтем и выведем на экран первые пять строчек датасета"
   ]
  },
  {
   "cell_type": "code",
   "execution_count": 2,
   "metadata": {},
   "outputs": [
    {
     "data": {
      "text/html": [
       "<div>\n",
       "<style scoped>\n",
       "    .dataframe tbody tr th:only-of-type {\n",
       "        vertical-align: middle;\n",
       "    }\n",
       "\n",
       "    .dataframe tbody tr th {\n",
       "        vertical-align: top;\n",
       "    }\n",
       "\n",
       "    .dataframe thead th {\n",
       "        text-align: right;\n",
       "    }\n",
       "</style>\n",
       "<table border=\"1\" class=\"dataframe\">\n",
       "  <thead>\n",
       "    <tr style=\"text-align: right;\">\n",
       "      <th></th>\n",
       "      <th>DateCrawled</th>\n",
       "      <th>Price</th>\n",
       "      <th>VehicleType</th>\n",
       "      <th>RegistrationYear</th>\n",
       "      <th>Gearbox</th>\n",
       "      <th>Power</th>\n",
       "      <th>Model</th>\n",
       "      <th>Kilometer</th>\n",
       "      <th>RegistrationMonth</th>\n",
       "      <th>FuelType</th>\n",
       "      <th>Brand</th>\n",
       "      <th>NotRepaired</th>\n",
       "      <th>DateCreated</th>\n",
       "      <th>NumberOfPictures</th>\n",
       "      <th>PostalCode</th>\n",
       "      <th>LastSeen</th>\n",
       "    </tr>\n",
       "  </thead>\n",
       "  <tbody>\n",
       "    <tr>\n",
       "      <th>0</th>\n",
       "      <td>2016-03-24 11:52:17</td>\n",
       "      <td>480</td>\n",
       "      <td>NaN</td>\n",
       "      <td>1993</td>\n",
       "      <td>manual</td>\n",
       "      <td>0</td>\n",
       "      <td>golf</td>\n",
       "      <td>150000</td>\n",
       "      <td>0</td>\n",
       "      <td>petrol</td>\n",
       "      <td>volkswagen</td>\n",
       "      <td>NaN</td>\n",
       "      <td>2016-03-24 00:00:00</td>\n",
       "      <td>0</td>\n",
       "      <td>70435</td>\n",
       "      <td>2016-04-07 03:16:57</td>\n",
       "    </tr>\n",
       "    <tr>\n",
       "      <th>1</th>\n",
       "      <td>2016-03-24 10:58:45</td>\n",
       "      <td>18300</td>\n",
       "      <td>coupe</td>\n",
       "      <td>2011</td>\n",
       "      <td>manual</td>\n",
       "      <td>190</td>\n",
       "      <td>NaN</td>\n",
       "      <td>125000</td>\n",
       "      <td>5</td>\n",
       "      <td>gasoline</td>\n",
       "      <td>audi</td>\n",
       "      <td>yes</td>\n",
       "      <td>2016-03-24 00:00:00</td>\n",
       "      <td>0</td>\n",
       "      <td>66954</td>\n",
       "      <td>2016-04-07 01:46:50</td>\n",
       "    </tr>\n",
       "    <tr>\n",
       "      <th>2</th>\n",
       "      <td>2016-03-14 12:52:21</td>\n",
       "      <td>9800</td>\n",
       "      <td>suv</td>\n",
       "      <td>2004</td>\n",
       "      <td>auto</td>\n",
       "      <td>163</td>\n",
       "      <td>grand</td>\n",
       "      <td>125000</td>\n",
       "      <td>8</td>\n",
       "      <td>gasoline</td>\n",
       "      <td>jeep</td>\n",
       "      <td>NaN</td>\n",
       "      <td>2016-03-14 00:00:00</td>\n",
       "      <td>0</td>\n",
       "      <td>90480</td>\n",
       "      <td>2016-04-05 12:47:46</td>\n",
       "    </tr>\n",
       "    <tr>\n",
       "      <th>3</th>\n",
       "      <td>2016-03-17 16:54:04</td>\n",
       "      <td>1500</td>\n",
       "      <td>small</td>\n",
       "      <td>2001</td>\n",
       "      <td>manual</td>\n",
       "      <td>75</td>\n",
       "      <td>golf</td>\n",
       "      <td>150000</td>\n",
       "      <td>6</td>\n",
       "      <td>petrol</td>\n",
       "      <td>volkswagen</td>\n",
       "      <td>no</td>\n",
       "      <td>2016-03-17 00:00:00</td>\n",
       "      <td>0</td>\n",
       "      <td>91074</td>\n",
       "      <td>2016-03-17 17:40:17</td>\n",
       "    </tr>\n",
       "    <tr>\n",
       "      <th>4</th>\n",
       "      <td>2016-03-31 17:25:20</td>\n",
       "      <td>3600</td>\n",
       "      <td>small</td>\n",
       "      <td>2008</td>\n",
       "      <td>manual</td>\n",
       "      <td>69</td>\n",
       "      <td>fabia</td>\n",
       "      <td>90000</td>\n",
       "      <td>7</td>\n",
       "      <td>gasoline</td>\n",
       "      <td>skoda</td>\n",
       "      <td>no</td>\n",
       "      <td>2016-03-31 00:00:00</td>\n",
       "      <td>0</td>\n",
       "      <td>60437</td>\n",
       "      <td>2016-04-06 10:17:21</td>\n",
       "    </tr>\n",
       "  </tbody>\n",
       "</table>\n",
       "</div>"
      ],
      "text/plain": [
       "           DateCrawled  Price VehicleType  RegistrationYear Gearbox  Power  \\\n",
       "0  2016-03-24 11:52:17    480         NaN              1993  manual      0   \n",
       "1  2016-03-24 10:58:45  18300       coupe              2011  manual    190   \n",
       "2  2016-03-14 12:52:21   9800         suv              2004    auto    163   \n",
       "3  2016-03-17 16:54:04   1500       small              2001  manual     75   \n",
       "4  2016-03-31 17:25:20   3600       small              2008  manual     69   \n",
       "\n",
       "   Model  Kilometer  RegistrationMonth  FuelType       Brand NotRepaired  \\\n",
       "0   golf     150000                  0    petrol  volkswagen         NaN   \n",
       "1    NaN     125000                  5  gasoline        audi         yes   \n",
       "2  grand     125000                  8  gasoline        jeep         NaN   \n",
       "3   golf     150000                  6    petrol  volkswagen          no   \n",
       "4  fabia      90000                  7  gasoline       skoda          no   \n",
       "\n",
       "           DateCreated  NumberOfPictures  PostalCode             LastSeen  \n",
       "0  2016-03-24 00:00:00                 0       70435  2016-04-07 03:16:57  \n",
       "1  2016-03-24 00:00:00                 0       66954  2016-04-07 01:46:50  \n",
       "2  2016-03-14 00:00:00                 0       90480  2016-04-05 12:47:46  \n",
       "3  2016-03-17 00:00:00                 0       91074  2016-03-17 17:40:17  \n",
       "4  2016-03-31 00:00:00                 0       60437  2016-04-06 10:17:21  "
      ]
     },
     "execution_count": 2,
     "metadata": {},
     "output_type": "execute_result"
    }
   ],
   "source": [
    "data = pd.read_csv('/datasets/autos.csv')\n",
    "data.head()"
   ]
  },
  {
   "cell_type": "markdown",
   "metadata": {},
   "source": [
    "Размерность"
   ]
  },
  {
   "cell_type": "code",
   "execution_count": 3,
   "metadata": {},
   "outputs": [
    {
     "data": {
      "text/plain": [
       "(354369, 16)"
      ]
     },
     "execution_count": 3,
     "metadata": {},
     "output_type": "execute_result"
    }
   ],
   "source": [
    "data.shape"
   ]
  },
  {
   "cell_type": "markdown",
   "metadata": {},
   "source": [
    "Некоторые колонки абсолютно бесполезны для предсказания цены, поэтому без сожаления удалим их"
   ]
  },
  {
   "cell_type": "code",
   "execution_count": 4,
   "metadata": {},
   "outputs": [],
   "source": [
    "data.drop(['DateCrawled', 'DateCreated', 'NumberOfPictures', 'PostalCode', 'LastSeen'], axis=1, inplace=True)"
   ]
  },
  {
   "cell_type": "markdown",
   "metadata": {},
   "source": [
    "Посмотрим на тип данных каждого столбца"
   ]
  },
  {
   "cell_type": "code",
   "execution_count": 5,
   "metadata": {},
   "outputs": [
    {
     "data": {
      "text/plain": [
       "Price                 int64\n",
       "VehicleType          object\n",
       "RegistrationYear      int64\n",
       "Gearbox              object\n",
       "Power                 int64\n",
       "Model                object\n",
       "Kilometer             int64\n",
       "RegistrationMonth     int64\n",
       "FuelType             object\n",
       "Brand                object\n",
       "NotRepaired          object\n",
       "dtype: object"
      ]
     },
     "execution_count": 5,
     "metadata": {},
     "output_type": "execute_result"
    }
   ],
   "source": [
    "data.dtypes"
   ]
  },
  {
   "cell_type": "markdown",
   "metadata": {},
   "source": [
    "Каждая колонка соответствует требуемому типу"
   ]
  },
  {
   "cell_type": "markdown",
   "metadata": {},
   "source": [
    "Посмотрим на пропуски в каждом столбце"
   ]
  },
  {
   "cell_type": "code",
   "execution_count": 6,
   "metadata": {},
   "outputs": [
    {
     "data": {
      "text/plain": [
       "Price                    0\n",
       "VehicleType          37490\n",
       "RegistrationYear         0\n",
       "Gearbox              19833\n",
       "Power                    0\n",
       "Model                19705\n",
       "Kilometer                0\n",
       "RegistrationMonth        0\n",
       "FuelType             32895\n",
       "Brand                    0\n",
       "NotRepaired          71154\n",
       "dtype: int64"
      ]
     },
     "execution_count": 6,
     "metadata": {},
     "output_type": "execute_result"
    }
   ],
   "source": [
    "data.isna().sum()"
   ]
  },
  {
   "cell_type": "markdown",
   "metadata": {},
   "source": [
    "Так как пропуски присутствуют только в категориальных признаках, заполним эти пропуски явным обозначением"
   ]
  },
  {
   "cell_type": "code",
   "execution_count": 7,
   "metadata": {},
   "outputs": [],
   "source": [
    "fillna_col = ['VehicleType', 'Gearbox', 'Model', 'FuelType', 'NotRepaired']\n",
    "data[fillna_col] = data[fillna_col].fillna('unknown')"
   ]
  },
  {
   "cell_type": "markdown",
   "metadata": {},
   "source": [
    "Пропуски ликвидированны"
   ]
  },
  {
   "cell_type": "markdown",
   "metadata": {},
   "source": [
    "Проверим наличие аномалий в столбцах с числовыми признаками (Price, RegistrationYear, Power, Kilometer, RegistrationMonth)"
   ]
  },
  {
   "cell_type": "code",
   "execution_count": 8,
   "metadata": {},
   "outputs": [
    {
     "data": {
      "text/plain": [
       "count    354369.000000\n",
       "mean       4416.656776\n",
       "std        4514.158514\n",
       "min           0.000000\n",
       "25%        1050.000000\n",
       "50%        2700.000000\n",
       "75%        6400.000000\n",
       "max       20000.000000\n",
       "Name: Price, dtype: float64"
      ]
     },
     "execution_count": 8,
     "metadata": {},
     "output_type": "execute_result"
    },
    {
     "data": {
      "image/png": "[encoded data removed]",
      "text/plain": [
       "<Figure size 504x360 with 1 Axes>"
      ]
     },
     "metadata": {
      "needs_background": "light"
     },
     "output_type": "display_data"
    }
   ],
   "source": [
    "data['Price'].hist(figsize=(7,5))\n",
    "data['Price'].describe()"
   ]
  },
  {
   "cell_type": "code",
   "execution_count": 9,
   "metadata": {},
   "outputs": [
    {
     "data": {
      "text/plain": [
       "count    354369.000000\n",
       "mean       2004.234448\n",
       "std          90.227958\n",
       "min        1000.000000\n",
       "25%        1999.000000\n",
       "50%        2003.000000\n",
       "75%        2008.000000\n",
       "max        9999.000000\n",
       "Name: RegistrationYear, dtype: float64"
      ]
     },
     "execution_count": 9,
     "metadata": {},
     "output_type": "execute_result"
    },
    {
     "data": {
      "image/png": "[encoded data removed]",
      "text/plain": [
       "<Figure size 504x360 with 1 Axes>"
      ]
     },
     "metadata": {
      "needs_background": "light"
     },
     "output_type": "display_data"
    }
   ],
   "source": [
    "data['RegistrationYear'].hist(figsize=(7,5))\n",
    "data['RegistrationYear'].describe()"
   ]
  },
  {
   "cell_type": "code",
   "execution_count": 10,
   "metadata": {},
   "outputs": [
    {
     "data": {
      "text/plain": [
       "count    354369.000000\n",
       "mean        110.094337\n",
       "std         189.850405\n",
       "min           0.000000\n",
       "25%          69.000000\n",
       "50%         105.000000\n",
       "75%         143.000000\n",
       "max       20000.000000\n",
       "Name: Power, dtype: float64"
      ]
     },
     "execution_count": 10,
     "metadata": {},
     "output_type": "execute_result"
    },
    {
     "data": {
      "image/png": "[encoded data removed]",
      "text/plain": [
       "<Figure size 504x360 with 1 Axes>"
      ]
     },
     "metadata": {
      "needs_background": "light"
     },
     "output_type": "display_data"
    }
   ],
   "source": [
    "data['Power'].hist(figsize=(7,5))\n",
    "data['Power'].describe()"
   ]
  },
  {
   "cell_type": "code",
   "execution_count": 11,
   "metadata": {},
   "outputs": [
    {
     "data": {
      "text/plain": [
       "count    354369.000000\n",
       "mean     128211.172535\n",
       "std       37905.341530\n",
       "min        5000.000000\n",
       "25%      125000.000000\n",
       "50%      150000.000000\n",
       "75%      150000.000000\n",
       "max      150000.000000\n",
       "Name: Kilometer, dtype: float64"
      ]
     },
     "execution_count": 11,
     "metadata": {},
     "output_type": "execute_result"
    },
    {
     "data": {
      "image/png": "[encoded data removed]",
      "text/plain": [
       "<Figure size 504x360 with 1 Axes>"
      ]
     },
     "metadata": {
      "needs_background": "light"
     },
     "output_type": "display_data"
    }
   ],
   "source": [
    "data['Kilometer'].hist(figsize=(7,5))\n",
    "data['Kilometer'].describe()"
   ]
  },
  {
   "cell_type": "code",
   "execution_count": 12,
   "metadata": {},
   "outputs": [
    {
     "data": {
      "text/plain": [
       "count    354369.000000\n",
       "mean          5.714645\n",
       "std           3.726421\n",
       "min           0.000000\n",
       "25%           3.000000\n",
       "50%           6.000000\n",
       "75%           9.000000\n",
       "max          12.000000\n",
       "Name: RegistrationMonth, dtype: float64"
      ]
     },
     "execution_count": 12,
     "metadata": {},
     "output_type": "execute_result"
    },
    {
     "data": {
      "image/png": "[encoded data removed]",
      "text/plain": [
       "<Figure size 504x360 with 1 Axes>"
      ]
     },
     "metadata": {
      "needs_background": "light"
     },
     "output_type": "display_data"
    }
   ],
   "source": [
    "data['RegistrationMonth'].hist(figsize=(7,5))\n",
    "data['RegistrationMonth'].describe()"
   ]
  },
  {
   "cell_type": "markdown",
   "metadata": {},
   "source": [
    "Видно, что во всех числовых столбцах, кроме Kilometer, присутствуют аномалии. От них необходимо избавиться, так обучая модели на мусоре, они и будут предсказывать мусор (принцип GIGO)\n",
    "\n",
    "Для того, чтобы избавиться от аномалий, возьмем за основу стандартный диапазон 1q - 1.5 * iqr; 3q + 1.5 * iqr, где iqr - межквартильный размах. НО, с некоторыми корректировками:\n",
    "- **Power** - от 1q до 3q + 3iqr. При использовании стандартного диапазона мы уйдем в отрицательные значения с левой стороны. Поэтому эти 1.5iqr \"сместим\" направо. Тем более, что 365 лошадок вполне реальная цифра (например, для какого-нибудь Ford Mustang);\n",
    "- **RegistrationMonth** - просто дропнем строки с нулевым месяцем;\n",
    "- **RegistrationYear** - введем ограничение с 1950 по 2022 год;\n",
    "- **Price** - введем ограничение только на минимальное значение (1q), так как максимум = 20000 - вполне реальная цена."
   ]
  },
  {
   "cell_type": "code",
   "execution_count": 13,
   "metadata": {},
   "outputs": [],
   "source": [
    "data = data.query('69<=Power<=365 and RegistrationMonth!=0 and 1950<=RegistrationYear<=2022 and 1050<=Price').reset_index(drop=True)"
   ]
  },
  {
   "cell_type": "markdown",
   "metadata": {},
   "source": [
    "## Обучение моделей"
   ]
  },
  {
   "cell_type": "markdown",
   "metadata": {},
   "source": [
    "### LinearRegression"
   ]
  },
  {
   "cell_type": "code",
   "execution_count": 14,
   "metadata": {},
   "outputs": [],
   "source": [
    "from sklearn.linear_model import LinearRegression\n",
    "from sklearn.metrics import mean_squared_error\n",
    "from sklearn.model_selection import train_test_split, GridSearchCV\n",
    "from sklearn.preprocessing import OrdinalEncoder"
   ]
  },
  {
   "cell_type": "markdown",
   "metadata": {},
   "source": [
    "Выделим категориальные признаки"
   ]
  },
  {
   "cell_type": "code",
   "execution_count": 15,
   "metadata": {},
   "outputs": [],
   "source": [
    "cat_col = ['VehicleType', 'Gearbox', 'Model', 'FuelType',\n",
    "           'Brand', 'NotRepaired']"
   ]
  },
  {
   "cell_type": "markdown",
   "metadata": {},
   "source": [
    "Для того, чтобы обучить линейную регрессию (и модели в следующих пунктах), необходимо преобразовать категоральные признаки в численные. Сделаем это с помощью порядкового кодирования."
   ]
  },
  {
   "cell_type": "code",
   "execution_count": 16,
   "metadata": {},
   "outputs": [],
   "source": [
    "encoder = OrdinalEncoder()\n",
    "encoder.fit(data[cat_col])\n",
    "data_ordinal = encoder.transform(data[cat_col])\n",
    "data_ordinal = pd.DataFrame(data_ordinal, columns=data[cat_col].columns)"
   ]
  },
  {
   "cell_type": "markdown",
   "metadata": {},
   "source": [
    "\"Восстановим\" столбцы с численными признаками"
   ]
  },
  {
   "cell_type": "code",
   "execution_count": 17,
   "metadata": {},
   "outputs": [],
   "source": [
    "data_ordinal = data_ordinal.reset_index().merge(data.drop(cat_col, axis=1).reset_index(), on='index')\n",
    "data_ordinal.drop('index', axis=1, inplace=True)"
   ]
  },
  {
   "cell_type": "markdown",
   "metadata": {},
   "source": [
    "Разделим данные на признаки и целевой признак"
   ]
  },
  {
   "cell_type": "code",
   "execution_count": 18,
   "metadata": {},
   "outputs": [],
   "source": [
    "features = data_ordinal.drop('Price', axis=1)\n",
    "target = data_ordinal['Price']"
   ]
  },
  {
   "cell_type": "markdown",
   "metadata": {},
   "source": [
    "Разделим признаки и целевой признак на тренировочную и тестовую выборку в соотношении 75:25"
   ]
  },
  {
   "cell_type": "code",
   "execution_count": 19,
   "metadata": {},
   "outputs": [],
   "source": [
    "features_train, features_test, target_train, target_test = train_test_split(features,\n",
    "                                                                            target, test_size=0.25, random_state=42)"
   ]
  },
  {
   "cell_type": "markdown",
   "metadata": {},
   "source": [
    "Размерности полученных выборок:\n",
    "- features_train - (157936, 10)\n",
    "- features_test - (52646, 10)\n",
    "- target_train - (157936, 1)\n",
    "- target_test - (52646, 1)"
   ]
  },
  {
   "cell_type": "markdown",
   "metadata": {},
   "source": [
    "Обучим модель"
   ]
  },
  {
   "cell_type": "code",
   "execution_count": 36,
   "metadata": {},
   "outputs": [
    {
     "name": "stdout",
     "output_type": "stream",
     "text": [
      "CPU times: user 37.8 ms, sys: 23.7 ms, total: 61.5 ms\n",
      "Wall time: 40.1 ms\n"
     ]
    },
    {
     "data": {
      "text/plain": [
       "LinearRegression()"
      ]
     },
     "execution_count": 36,
     "metadata": {},
     "output_type": "execute_result"
    }
   ],
   "source": [
    "%%time\n",
    "model = LinearRegression()\n",
    "model.fit(features_train, target_train)"
   ]
  },
  {
   "cell_type": "markdown",
   "metadata": {},
   "source": [
    "Сделаем предсказание на тестовой выборке"
   ]
  },
  {
   "cell_type": "code",
   "execution_count": 37,
   "metadata": {},
   "outputs": [
    {
     "name": "stdout",
     "output_type": "stream",
     "text": [
      "CPU times: user 12.8 ms, sys: 5.57 ms, total: 18.3 ms\n",
      "Wall time: 5.24 ms\n"
     ]
    }
   ],
   "source": [
    "%%time\n",
    "predict = model.predict(features_test)"
   ]
  },
  {
   "cell_type": "markdown",
   "metadata": {},
   "source": [
    "RMSE"
   ]
  },
  {
   "cell_type": "code",
   "execution_count": 38,
   "metadata": {},
   "outputs": [
    {
     "data": {
      "text/plain": [
       "3058.7558256299635"
      ]
     },
     "execution_count": 38,
     "metadata": {},
     "output_type": "execute_result"
    }
   ],
   "source": [
    "mean_squared_error(target_test, predict, squared=False)"
   ]
  },
  {
   "cell_type": "markdown",
   "metadata": {},
   "source": [
    "### RandomForestRegressor"
   ]
  },
  {
   "cell_type": "code",
   "execution_count": 39,
   "metadata": {},
   "outputs": [],
   "source": [
    "from sklearn.ensemble import RandomForestRegressor"
   ]
  },
  {
   "cell_type": "markdown",
   "metadata": {},
   "source": [
    "Подберем лучшие значения гиперпараметров модели и обучим ее"
   ]
  },
  {
   "cell_type": "code",
   "execution_count": 40,
   "metadata": {},
   "outputs": [
    {
     "name": "stdout",
     "output_type": "stream",
     "text": [
      "CPU times: user 4min 34s, sys: 2.21 s, total: 4min 36s\n",
      "Wall time: 4min 36s\n"
     ]
    },
    {
     "data": {
      "text/plain": [
       "{'n_estimators': 50}"
      ]
     },
     "execution_count": 40,
     "metadata": {},
     "output_type": "execute_result"
    }
   ],
   "source": [
    "%%time\n",
    "model = RandomForestRegressor()\n",
    "parameters = {'n_estimators': range(10,51,10)}\n",
    "grid = GridSearchCV(model, parameters, cv=5)\n",
    "grid.fit(features_train, target_train)\n",
    "grid.best_params_"
   ]
  },
  {
   "cell_type": "markdown",
   "metadata": {},
   "source": [
    "Сделаем предсказание на тестовой выборке"
   ]
  },
  {
   "cell_type": "code",
   "execution_count": 41,
   "metadata": {},
   "outputs": [
    {
     "name": "stdout",
     "output_type": "stream",
     "text": [
      "CPU times: user 1.13 s, sys: 12 µs, total: 1.13 s\n",
      "Wall time: 1.12 s\n"
     ]
    }
   ],
   "source": [
    "%%time\n",
    "predict = grid.predict(features_test)"
   ]
  },
  {
   "cell_type": "markdown",
   "metadata": {},
   "source": [
    "RMSE"
   ]
  },
  {
   "cell_type": "code",
   "execution_count": 42,
   "metadata": {},
   "outputs": [
    {
     "data": {
      "text/plain": [
       "1731.2387134412538"
      ]
     },
     "execution_count": 42,
     "metadata": {},
     "output_type": "execute_result"
    }
   ],
   "source": [
    "mean_squared_error(target_test, predict, squared=False)"
   ]
  },
  {
   "cell_type": "markdown",
   "metadata": {},
   "source": [
    "### LightGBM"
   ]
  },
  {
   "cell_type": "code",
   "execution_count": 21,
   "metadata": {},
   "outputs": [],
   "source": [
    "import lightgbm as lgb\n",
    "from lightgbm import LGBMRegressor"
   ]
  },
  {
   "cell_type": "markdown",
   "metadata": {},
   "source": [
    "Подберем лучшие значения гиперпараметров модели и обучим ее"
   ]
  },
  {
   "cell_type": "code",
   "execution_count": 81,
   "metadata": {},
   "outputs": [
    {
     "name": "stdout",
     "output_type": "stream",
     "text": [
      "CPU times: user 8min 52s, sys: 6.84 s, total: 8min 59s\n",
      "Wall time: 9min 5s\n"
     ]
    },
    {
     "data": {
      "text/plain": [
       "{'learning_rate': 0.46415888336127775, 'n_estimators': 50, 'num_leaves': 41}"
      ]
     },
     "execution_count": 81,
     "metadata": {},
     "output_type": "execute_result"
    }
   ],
   "source": [
    "%%time\n",
    "model = LGBMRegressor()\n",
    "params = {'n_estimators': [40, 50],\n",
    "          'num_leaves': [21, 31, 41],\n",
    "          'learning_rate': np.logspace(-3, 0, 10)}\n",
    "grid_gbm = GridSearchCV(model, params, cv=5)\n",
    "grid_gbm.fit(features_train, target_train)\n",
    "grid_gbm.best_params_"
   ]
  },
  {
   "cell_type": "markdown",
   "metadata": {},
   "source": [
    "Сделаем предсказание на тестовой выборке"
   ]
  },
  {
   "cell_type": "code",
   "execution_count": 82,
   "metadata": {},
   "outputs": [
    {
     "name": "stdout",
     "output_type": "stream",
     "text": [
      "CPU times: user 192 ms, sys: 16 ms, total: 208 ms\n",
      "Wall time: 150 ms\n"
     ]
    }
   ],
   "source": [
    "%%time\n",
    "predict = grid_gbm.predict(features_test)"
   ]
  },
  {
   "cell_type": "markdown",
   "metadata": {},
   "source": [
    "RMSE"
   ]
  },
  {
   "cell_type": "code",
   "execution_count": 83,
   "metadata": {},
   "outputs": [
    {
     "data": {
      "text/plain": [
       "1779.456130109848"
      ]
     },
     "execution_count": 83,
     "metadata": {},
     "output_type": "execute_result"
    }
   ],
   "source": [
    "mean_squared_error(target_test, predict, squared=False)"
   ]
  },
  {
   "cell_type": "markdown",
   "metadata": {},
   "source": [
    "### CatBoost"
   ]
  },
  {
   "cell_type": "code",
   "execution_count": 84,
   "metadata": {},
   "outputs": [],
   "source": [
    "from catboost import CatBoostRegressor"
   ]
  },
  {
   "cell_type": "markdown",
   "metadata": {},
   "source": [
    "Так как catboost работает с категориальными признаками напрямую, будем передавать модели признаки, не подверженные кодированию"
   ]
  },
  {
   "cell_type": "code",
   "execution_count": 25,
   "metadata": {},
   "outputs": [],
   "source": [
    "X = data.drop('Price', axis=1)\n",
    "y = data['Price']\n",
    "\n",
    "X_train, X_test, y_train, y_test = train_test_split(X, y, test_size=0.25, random_state=42)"
   ]
  },
  {
   "cell_type": "markdown",
   "metadata": {},
   "source": [
    "Размерности полученных выборок:\n",
    "- X_train - (157936, 10)\n",
    "- X_test - (52646, 10)\n",
    "- y_train - (157936, 1)\n",
    "- y_test - (52646, 1)"
   ]
  },
  {
   "cell_type": "markdown",
   "metadata": {},
   "source": [
    "Подберем лучшие значения гиперпараметров модели и обучим ее"
   ]
  },
  {
   "cell_type": "code",
   "execution_count": 87,
   "metadata": {},
   "outputs": [
    {
     "name": "stdout",
     "output_type": "stream",
     "text": [
      "CPU times: user 7min 20s, sys: 3.42 s, total: 7min 23s\n",
      "Wall time: 9min 9s\n"
     ]
    },
    {
     "data": {
      "text/plain": [
       "{'iterations': 80, 'learning_rate': 0.46415888336127775}"
      ]
     },
     "execution_count": 87,
     "metadata": {},
     "output_type": "execute_result"
    }
   ],
   "source": [
    "%%time\n",
    "model = CatBoostRegressor(loss_function='RMSE', cat_features=cat_col)\n",
    "parametrs = {'iterations': [40, 60, 80],\n",
    "             'learning_rate': np.logspace(-3, 0, 10)}\n",
    "grid_cbr = GridSearchCV(model, parametrs, cv=5)\n",
    "grid_cbr.fit(X_train, y_train, verbose=False)\n",
    "grid_cbr.best_params_"
   ]
  },
  {
   "cell_type": "markdown",
   "metadata": {},
   "source": [
    "Сделаем предсказание на тестовой выборке"
   ]
  },
  {
   "cell_type": "code",
   "execution_count": 88,
   "metadata": {},
   "outputs": [
    {
     "name": "stdout",
     "output_type": "stream",
     "text": [
      "CPU times: user 67.1 ms, sys: 32 µs, total: 67.2 ms\n",
      "Wall time: 65 ms\n"
     ]
    }
   ],
   "source": [
    "%%time\n",
    "predict = grid_cbr.predict(X_test)"
   ]
  },
  {
   "cell_type": "markdown",
   "metadata": {},
   "source": [
    "RMSE"
   ]
  },
  {
   "cell_type": "code",
   "execution_count": 89,
   "metadata": {},
   "outputs": [
    {
     "data": {
      "text/plain": [
       "1829.2883955101568"
      ]
     },
     "execution_count": 89,
     "metadata": {},
     "output_type": "execute_result"
    }
   ],
   "source": [
    "mean_squared_error(y_test, predict, squared=False)"
   ]
  },
  {
   "cell_type": "markdown",
   "metadata": {},
   "source": [
    "## Анализ моделей"
   ]
  },
  {
   "cell_type": "markdown",
   "metadata": {},
   "source": [
    "Результаты представлены в таблице"
   ]
  },
  {
   "cell_type": "code",
   "execution_count": 93,
   "metadata": {},
   "outputs": [
    {
     "data": {
      "text/html": [
       "<div>\n",
       "<style scoped>\n",
       "    .dataframe tbody tr th:only-of-type {\n",
       "        vertical-align: middle;\n",
       "    }\n",
       "\n",
       "    .dataframe tbody tr th {\n",
       "        vertical-align: top;\n",
       "    }\n",
       "\n",
       "    .dataframe thead th {\n",
       "        text-align: right;\n",
       "    }\n",
       "</style>\n",
       "<table border=\"1\" class=\"dataframe\">\n",
       "  <thead>\n",
       "    <tr style=\"text-align: right;\">\n",
       "      <th></th>\n",
       "      <th>model</th>\n",
       "      <th>Training time</th>\n",
       "      <th>Inference</th>\n",
       "      <th>RMSE</th>\n",
       "    </tr>\n",
       "  </thead>\n",
       "  <tbody>\n",
       "    <tr>\n",
       "      <th>0</th>\n",
       "      <td>LinearRegression</td>\n",
       "      <td>40.1 ms</td>\n",
       "      <td>5.24 ms</td>\n",
       "      <td>3058.755</td>\n",
       "    </tr>\n",
       "    <tr>\n",
       "      <th>1</th>\n",
       "      <td>RandomForestRegressor</td>\n",
       "      <td>4min 36s</td>\n",
       "      <td>1.12 s</td>\n",
       "      <td>1731.238</td>\n",
       "    </tr>\n",
       "    <tr>\n",
       "      <th>2</th>\n",
       "      <td>LightGBM</td>\n",
       "      <td>9min 5s</td>\n",
       "      <td>150 ms</td>\n",
       "      <td>1779.456</td>\n",
       "    </tr>\n",
       "    <tr>\n",
       "      <th>3</th>\n",
       "      <td>CatBoost</td>\n",
       "      <td>9min 9s</td>\n",
       "      <td>65 ms</td>\n",
       "      <td>1829.288</td>\n",
       "    </tr>\n",
       "  </tbody>\n",
       "</table>\n",
       "</div>"
      ],
      "text/plain": [
       "                    model Training time Inference      RMSE\n",
       "0        LinearRegression       40.1 ms   5.24 ms  3058.755\n",
       "1   RandomForestRegressor      4min 36s    1.12 s  1731.238\n",
       "2                LightGBM       9min 5s    150 ms  1779.456\n",
       "3                CatBoost       9min 9s     65 ms  1829.288"
      ]
     },
     "execution_count": 93,
     "metadata": {},
     "output_type": "execute_result"
    }
   ],
   "source": [
    "pd.DataFrame({'model': ['LinearRegression', ' RandomForestRegressor', 'LightGBM', 'CatBoost'],\n",
    "              'Training time': ['40.1 ms', '4min 36s', '9min 5s', '9min 9s'],\n",
    "              'Inference': ['5.24 ms', '1.12 s', '150 ms', '65 ms'],\n",
    "              'RMSE': [3058.755, 1731.238, 1779.456, 1829.288]})"
   ]
  },
  {
   "cell_type": "markdown",
   "metadata": {},
   "source": [
    "**Вывод:** Исходя из полученных данных, можно сделать вывод, что моделью с наилучшим качеством и оптимальным быстродействием оказался случайный лес."
   ]
  },
  {
   "cell_type": "markdown",
   "metadata": {},
   "source": [
    "Также, построим график важности факторов и посмотрим, насколько каждый из них важен при моделировании"
   ]
  },
  {
   "cell_type": "code",
   "execution_count": 34,
   "metadata": {},
   "outputs": [
    {
     "data": {
      "image/png": "[encoded data removed]",
      "text/plain": [
       "<Figure size 432x288 with 1 Axes>"
      ]
     },
     "metadata": {
      "needs_background": "light"
     },
     "output_type": "display_data"
    }
   ],
   "source": [
    "import matplotlib.pyplot as plt    \n",
    "import seaborn as sns\n",
    "feature_importance = model.feature_importances_\n",
    "feature_imp = pd.DataFrame(sorted(zip(feature_importance, features.columns)), columns=['Value','Feature'])\n",
    "sns.barplot(x=\"Value\", y=\"Feature\", data=feature_imp.sort_values(by=\"Value\", ascending=False))\n",
    "plt.title('Feature importance')\n",
    "plt.tight_layout()\n",
    "plt.show();\n"
   ]
  },
  {
   "cell_type": "markdown",
   "metadata": {},
   "source": [
    "Из графика видно, что наиболее значимыми факторами при моделировании являются:\n",
    "- год регистрации автомобиля\n",
    "- мощность (л. с.)\n",
    "- марка автомобиля\n",
    "- модель автомобиля\n",
    "- тип автомобильного кузова\n",
    "- пробег (км)"
   ]
  }
 ],
 "metadata": {
  "ExecuteTimeLog": [
   {
    "duration": 585,
    "start_time": "2022-03-14T13:01:41.263Z"
   },
   {
    "duration": 714,
    "start_time": "2022-03-14T13:02:02.403Z"
   },
   {
    "duration": 25,
    "start_time": "2022-03-14T13:02:06.318Z"
   },
   {
    "duration": 711,
    "start_time": "2022-03-14T13:02:17.475Z"
   },
   {
    "duration": 20,
    "start_time": "2022-03-14T13:02:23.587Z"
   },
   {
    "duration": 356,
    "start_time": "2022-03-14T13:04:44.336Z"
   },
   {
    "duration": 4,
    "start_time": "2022-03-14T13:04:48.113Z"
   },
   {
    "duration": 5,
    "start_time": "2022-03-14T13:07:55.055Z"
   },
   {
    "duration": 297,
    "start_time": "2022-03-14T13:07:58.492Z"
   },
   {
    "duration": 5,
    "start_time": "2022-03-14T13:08:01.722Z"
   },
   {
    "duration": 324,
    "start_time": "2022-03-14T13:16:48.313Z"
   },
   {
    "duration": 49,
    "start_time": "2022-03-14T13:16:53.978Z"
   },
   {
    "duration": 299,
    "start_time": "2022-03-14T13:17:23.715Z"
   },
   {
    "duration": 50,
    "start_time": "2022-03-14T13:17:28.260Z"
   },
   {
    "duration": 50,
    "start_time": "2022-03-14T13:22:20.013Z"
   },
   {
    "duration": 24,
    "start_time": "2022-03-14T13:22:45.105Z"
   },
   {
    "duration": 16,
    "start_time": "2022-03-14T13:22:49.657Z"
   },
   {
    "duration": 5,
    "start_time": "2022-03-14T13:23:22.897Z"
   },
   {
    "duration": 10,
    "start_time": "2022-03-14T13:23:41.570Z"
   },
   {
    "duration": 9,
    "start_time": "2022-03-14T13:23:44.836Z"
   },
   {
    "duration": 73,
    "start_time": "2022-03-14T13:24:51.571Z"
   },
   {
    "duration": 70,
    "start_time": "2022-03-14T13:24:58.751Z"
   },
   {
    "duration": 76,
    "start_time": "2022-03-14T13:25:01.612Z"
   },
   {
    "duration": 165,
    "start_time": "2022-03-14T13:25:17.164Z"
   },
   {
    "duration": 163,
    "start_time": "2022-03-14T13:25:21.638Z"
   },
   {
    "duration": 161,
    "start_time": "2022-03-14T13:25:26.598Z"
   },
   {
    "duration": 166,
    "start_time": "2022-03-14T13:25:29.689Z"
   },
   {
    "duration": 216,
    "start_time": "2022-03-14T13:26:06.011Z"
   },
   {
    "duration": 51,
    "start_time": "2022-03-14T13:29:04.824Z"
   },
   {
    "duration": 61,
    "start_time": "2022-03-14T13:29:17.992Z"
   },
   {
    "duration": 8317,
    "start_time": "2022-03-14T13:29:49.250Z"
   },
   {
    "duration": 59,
    "start_time": "2022-03-14T13:30:08.299Z"
   },
   {
    "duration": 15,
    "start_time": "2022-03-14T13:40:30.431Z"
   },
   {
    "duration": 8,
    "start_time": "2022-03-14T13:40:39.006Z"
   },
   {
    "duration": 274,
    "start_time": "2022-03-14T13:40:46.020Z"
   },
   {
    "duration": 183,
    "start_time": "2022-03-14T13:52:39.408Z"
   },
   {
    "duration": 81,
    "start_time": "2022-03-14T13:52:43.425Z"
   },
   {
    "duration": 100,
    "start_time": "2022-03-14T13:54:29.635Z"
   },
   {
    "duration": 307,
    "start_time": "2022-03-14T13:55:09.894Z"
   },
   {
    "duration": 7605,
    "start_time": "2022-03-14T13:55:34.368Z"
   },
   {
    "duration": 7457,
    "start_time": "2022-03-14T13:55:46.569Z"
   },
   {
    "duration": 382,
    "start_time": "2022-03-14T13:58:03.584Z"
   },
   {
    "duration": 147,
    "start_time": "2022-03-14T13:58:08.677Z"
   },
   {
    "duration": 176,
    "start_time": "2022-03-14T13:58:18.224Z"
   },
   {
    "duration": 129,
    "start_time": "2022-03-14T13:59:39.835Z"
   },
   {
    "duration": 172,
    "start_time": "2022-03-14T13:59:47.712Z"
   },
   {
    "duration": 104,
    "start_time": "2022-03-14T13:59:58.488Z"
   },
   {
    "duration": 77,
    "start_time": "2022-03-14T14:00:07.263Z"
   },
   {
    "duration": 2,
    "start_time": "2022-03-14T14:13:36.159Z"
   },
   {
    "duration": 15,
    "start_time": "2022-03-14T14:22:32.326Z"
   },
   {
    "duration": 3,
    "start_time": "2022-03-14T14:23:28.539Z"
   },
   {
    "duration": 16,
    "start_time": "2022-03-14T14:28:27.975Z"
   },
   {
    "duration": 18,
    "start_time": "2022-03-14T14:28:32.206Z"
   },
   {
    "duration": 16,
    "start_time": "2022-03-14T14:28:43.347Z"
   },
   {
    "duration": 21,
    "start_time": "2022-03-14T14:29:03.238Z"
   },
   {
    "duration": 5,
    "start_time": "2022-03-14T14:29:10.527Z"
   },
   {
    "duration": 81,
    "start_time": "2022-03-14T14:44:21.318Z"
   },
   {
    "duration": 413,
    "start_time": "2022-03-14T14:45:33.506Z"
   },
   {
    "duration": 19,
    "start_time": "2022-03-14T15:04:33.173Z"
   },
   {
    "duration": 17,
    "start_time": "2022-03-14T15:04:39.864Z"
   },
   {
    "duration": 5,
    "start_time": "2022-03-14T15:05:11.381Z"
   },
   {
    "duration": 610,
    "start_time": "2022-03-14T15:06:24.273Z"
   },
   {
    "duration": 762,
    "start_time": "2022-03-14T15:06:24.887Z"
   },
   {
    "duration": 3,
    "start_time": "2022-03-14T15:06:25.650Z"
   },
   {
    "duration": 624,
    "start_time": "2022-03-14T15:06:25.654Z"
   },
   {
    "duration": 452,
    "start_time": "2022-03-14T15:06:26.279Z"
   },
   {
    "duration": 333,
    "start_time": "2022-03-14T15:06:26.734Z"
   },
   {
    "duration": 315,
    "start_time": "2022-03-14T15:06:27.069Z"
   },
   {
    "duration": 786,
    "start_time": "2022-03-14T15:06:27.387Z"
   },
   {
    "duration": 68,
    "start_time": "2022-03-14T15:06:28.175Z"
   },
   {
    "duration": 471,
    "start_time": "2022-03-14T15:06:28.244Z"
   },
   {
    "duration": 5,
    "start_time": "2022-03-14T15:06:35.689Z"
   },
   {
    "duration": 33,
    "start_time": "2022-03-14T15:06:43.149Z"
   },
   {
    "duration": 3,
    "start_time": "2022-03-14T15:22:20.452Z"
   },
   {
    "duration": 810,
    "start_time": "2022-03-14T15:24:12.092Z"
   },
   {
    "duration": 5,
    "start_time": "2022-03-14T15:24:17.908Z"
   },
   {
    "duration": 1944,
    "start_time": "2022-03-14T15:24:56.667Z"
   },
   {
    "duration": 21,
    "start_time": "2022-03-14T15:24:58.613Z"
   },
   {
    "duration": 670,
    "start_time": "2022-03-14T15:25:13.539Z"
   },
   {
    "duration": 15,
    "start_time": "2022-03-14T15:25:15.311Z"
   },
   {
    "duration": 16,
    "start_time": "2022-03-14T15:25:20.443Z"
   },
   {
    "duration": 14,
    "start_time": "2022-03-14T15:40:01.935Z"
   },
   {
    "duration": 10,
    "start_time": "2022-03-14T15:40:38.781Z"
   },
   {
    "duration": 62,
    "start_time": "2022-03-14T15:40:44.245Z"
   },
   {
    "duration": 115,
    "start_time": "2022-03-14T15:41:05.773Z"
   },
   {
    "duration": 120,
    "start_time": "2022-03-14T15:41:30.472Z"
   },
   {
    "duration": 3,
    "start_time": "2022-03-14T15:41:33.604Z"
   },
   {
    "duration": 75,
    "start_time": "2022-03-14T15:41:37.134Z"
   },
   {
    "duration": 33,
    "start_time": "2022-03-14T15:42:03.548Z"
   },
   {
    "duration": 11,
    "start_time": "2022-03-14T15:42:19.922Z"
   },
   {
    "duration": 9,
    "start_time": "2022-03-14T15:42:55.952Z"
   },
   {
    "duration": 5,
    "start_time": "2022-03-14T15:43:30.762Z"
   },
   {
    "duration": 5,
    "start_time": "2022-03-14T15:43:45.547Z"
   },
   {
    "duration": 5,
    "start_time": "2022-03-14T15:44:13.111Z"
   },
   {
    "duration": 366,
    "start_time": "2022-03-14T15:45:19.541Z"
   },
   {
    "duration": 5,
    "start_time": "2022-03-14T15:45:28.857Z"
   },
   {
    "duration": 14,
    "start_time": "2022-03-14T15:46:12.561Z"
   },
   {
    "duration": 18,
    "start_time": "2022-03-14T15:46:30.396Z"
   },
   {
    "duration": 300,
    "start_time": "2022-03-14T15:46:35.039Z"
   },
   {
    "duration": 678,
    "start_time": "2022-03-14T15:46:45.116Z"
   },
   {
    "duration": 10,
    "start_time": "2022-03-14T15:46:48.863Z"
   },
   {
    "duration": 60,
    "start_time": "2022-03-14T15:46:50.835Z"
   },
   {
    "duration": 78,
    "start_time": "2022-03-14T15:46:51.609Z"
   },
   {
    "duration": 14,
    "start_time": "2022-03-14T15:46:52.625Z"
   },
   {
    "duration": 6,
    "start_time": "2022-03-14T15:46:53.218Z"
   },
   {
    "duration": 20,
    "start_time": "2022-03-14T15:47:00.636Z"
   },
   {
    "duration": 14,
    "start_time": "2022-03-14T15:47:10.800Z"
   },
   {
    "duration": 15,
    "start_time": "2022-03-14T15:47:16.274Z"
   },
   {
    "duration": 20,
    "start_time": "2022-03-14T15:47:30.664Z"
   },
   {
    "duration": 14,
    "start_time": "2022-03-14T15:47:49.171Z"
   },
   {
    "duration": 13,
    "start_time": "2022-03-14T15:47:54.569Z"
   },
   {
    "duration": 15,
    "start_time": "2022-03-14T15:48:06.394Z"
   },
   {
    "duration": 2,
    "start_time": "2022-03-14T15:49:58.035Z"
   },
   {
    "duration": 2,
    "start_time": "2022-03-14T16:03:36.725Z"
   },
   {
    "duration": 560907,
    "start_time": "2022-03-14T16:07:25.985Z"
   },
   {
    "duration": 1988,
    "start_time": "2022-03-14T16:23:41.221Z"
   },
   {
    "duration": 2022,
    "start_time": "2022-03-14T16:24:13.043Z"
   },
   {
    "duration": 6,
    "start_time": "2022-03-14T16:24:31.252Z"
   },
   {
    "duration": 5,
    "start_time": "2022-03-14T16:24:35.579Z"
   },
   {
    "duration": 5,
    "start_time": "2022-03-14T16:25:02.459Z"
   },
   {
    "duration": 5,
    "start_time": "2022-03-14T16:28:27.816Z"
   },
   {
    "duration": 14,
    "start_time": "2022-03-14T17:20:05.563Z"
   },
   {
    "duration": 5,
    "start_time": "2022-03-14T17:20:14.154Z"
   },
   {
    "duration": 3,
    "start_time": "2022-03-14T18:11:00.291Z"
   },
   {
    "duration": 4,
    "start_time": "2022-03-14T19:30:48.413Z"
   },
   {
    "duration": 1116939,
    "start_time": "2022-03-14T19:33:45.344Z"
   },
   {
    "duration": 5,
    "start_time": "2022-03-14T19:55:42.822Z"
   },
   {
    "duration": 739,
    "start_time": "2022-03-14T19:55:59.904Z"
   },
   {
    "duration": 652,
    "start_time": "2022-03-14T19:58:28.252Z"
   },
   {
    "duration": 696,
    "start_time": "2022-03-14T19:58:34.300Z"
   },
   {
    "duration": 747,
    "start_time": "2022-03-14T20:11:20.813Z"
   },
   {
    "duration": 7,
    "start_time": "2022-03-14T20:11:21.669Z"
   },
   {
    "duration": 670,
    "start_time": "2022-03-15T11:28:48.250Z"
   },
   {
    "duration": 725,
    "start_time": "2022-03-15T11:29:05.477Z"
   },
   {
    "duration": 792,
    "start_time": "2022-03-15T11:29:06.204Z"
   },
   {
    "duration": 4,
    "start_time": "2022-03-15T11:29:08.918Z"
   },
   {
    "duration": 25,
    "start_time": "2022-03-15T11:29:09.792Z"
   },
   {
    "duration": 5,
    "start_time": "2022-03-15T11:29:12.255Z"
   },
   {
    "duration": 149,
    "start_time": "2022-03-15T11:29:13.723Z"
   },
   {
    "duration": 226,
    "start_time": "2022-03-15T11:29:14.205Z"
   },
   {
    "duration": 444,
    "start_time": "2022-03-15T11:29:15.248Z"
   },
   {
    "duration": 1100,
    "start_time": "2022-03-15T11:29:15.829Z"
   },
   {
    "duration": 19,
    "start_time": "2022-03-15T11:29:16.931Z"
   },
   {
    "duration": 73,
    "start_time": "2022-03-15T11:29:19.674Z"
   },
   {
    "duration": 102,
    "start_time": "2022-03-15T11:29:20.879Z"
   },
   {
    "duration": 9,
    "start_time": "2022-03-15T11:29:23.325Z"
   },
   {
    "duration": 8,
    "start_time": "2022-03-15T11:29:24.681Z"
   },
   {
    "duration": 23,
    "start_time": "2022-03-15T11:29:27.207Z"
   },
   {
    "duration": 658173,
    "start_time": "2022-03-15T11:29:28.812Z"
   },
   {
    "duration": 2448,
    "start_time": "2022-03-15T11:44:13.543Z"
   },
   {
    "duration": 5,
    "start_time": "2022-03-15T11:44:18.406Z"
   },
   {
    "duration": 23,
    "start_time": "2022-03-15T11:44:20.652Z"
   },
   {
    "duration": 648,
    "start_time": "2022-03-15T11:57:35.595Z"
   },
   {
    "duration": 895,
    "start_time": "2022-03-15T11:57:37.290Z"
   },
   {
    "duration": 7,
    "start_time": "2022-03-15T11:57:38.990Z"
   },
   {
    "duration": 38,
    "start_time": "2022-03-15T11:57:39.572Z"
   },
   {
    "duration": 7,
    "start_time": "2022-03-15T11:57:39.986Z"
   },
   {
    "duration": 151,
    "start_time": "2022-03-15T11:57:41.648Z"
   },
   {
    "duration": 218,
    "start_time": "2022-03-15T11:57:42.062Z"
   },
   {
    "duration": 475,
    "start_time": "2022-03-15T11:57:44.251Z"
   },
   {
    "duration": 799,
    "start_time": "2022-03-15T11:57:45.080Z"
   },
   {
    "duration": 15,
    "start_time": "2022-03-15T11:57:46.539Z"
   },
   {
    "duration": 75,
    "start_time": "2022-03-15T11:57:47.256Z"
   },
   {
    "duration": 104,
    "start_time": "2022-03-15T11:57:49.085Z"
   },
   {
    "duration": 78,
    "start_time": "2022-03-15T11:57:50.194Z"
   },
   {
    "duration": 5,
    "start_time": "2022-03-15T11:57:51.802Z"
   },
   {
    "duration": 29,
    "start_time": "2022-03-15T11:57:53.156Z"
   },
   {
    "duration": 3,
    "start_time": "2022-03-15T11:58:08.288Z"
   },
   {
    "duration": 669261,
    "start_time": "2022-03-15T11:58:09.624Z"
   },
   {
    "duration": 2368,
    "start_time": "2022-03-15T12:10:22.212Z"
   },
   {
    "duration": 6,
    "start_time": "2022-03-15T12:10:32.489Z"
   },
   {
    "duration": 13,
    "start_time": "2022-03-15T12:10:40.989Z"
   },
   {
    "duration": 3028942,
    "start_time": "2022-03-15T12:10:45.412Z"
   },
   {
    "duration": 24,
    "start_time": "2022-03-15T13:01:36.009Z"
   },
   {
    "duration": 5,
    "start_time": "2022-03-15T13:01:41.521Z"
   },
   {
    "duration": 4,
    "start_time": "2022-03-15T13:02:03.023Z"
   },
   {
    "duration": 102,
    "start_time": "2022-03-15T13:02:36.992Z"
   },
   {
    "duration": 16,
    "start_time": "2022-03-15T13:02:39.331Z"
   },
   {
    "duration": 5,
    "start_time": "2022-03-15T13:02:41.082Z"
   },
   {
    "duration": 5,
    "start_time": "2022-03-15T13:02:47.879Z"
   },
   {
    "duration": 4,
    "start_time": "2022-03-15T13:02:54.770Z"
   },
   {
    "duration": 5,
    "start_time": "2022-03-15T13:03:05.594Z"
   },
   {
    "duration": 6,
    "start_time": "2022-03-15T13:03:11.315Z"
   },
   {
    "duration": 3,
    "start_time": "2022-03-15T13:03:16.992Z"
   },
   {
    "duration": 729,
    "start_time": "2022-03-15T13:33:24.960Z"
   },
   {
    "duration": 854,
    "start_time": "2022-03-15T13:33:26.555Z"
   },
   {
    "duration": 4,
    "start_time": "2022-03-15T13:33:28.374Z"
   },
   {
    "duration": 30,
    "start_time": "2022-03-15T13:33:28.742Z"
   },
   {
    "duration": 6,
    "start_time": "2022-03-15T13:33:29.062Z"
   },
   {
    "duration": 79,
    "start_time": "2022-03-15T13:33:29.549Z"
   },
   {
    "duration": 255,
    "start_time": "2022-03-15T13:33:29.848Z"
   },
   {
    "duration": 559,
    "start_time": "2022-03-15T13:33:31.511Z"
   },
   {
    "duration": 1163,
    "start_time": "2022-03-15T13:33:32.535Z"
   },
   {
    "duration": 19,
    "start_time": "2022-03-15T13:33:33.721Z"
   },
   {
    "duration": 89,
    "start_time": "2022-03-15T13:33:34.126Z"
   },
   {
    "duration": 100,
    "start_time": "2022-03-15T13:33:34.606Z"
   },
   {
    "duration": 121,
    "start_time": "2022-03-15T13:33:37.054Z"
   },
   {
    "duration": 6,
    "start_time": "2022-03-15T13:33:39.497Z"
   },
   {
    "duration": 28,
    "start_time": "2022-03-15T13:33:40.936Z"
   },
   {
    "duration": 622786,
    "start_time": "2022-03-15T13:33:46.921Z"
   },
   {
    "duration": 2371,
    "start_time": "2022-03-15T13:44:31.337Z"
   },
   {
    "duration": 6,
    "start_time": "2022-03-15T13:44:35.799Z"
   },
   {
    "duration": 14,
    "start_time": "2022-03-15T13:44:36.852Z"
   },
   {
    "duration": 585,
    "start_time": "2022-03-15T14:30:50.640Z"
   },
   {
    "duration": 817,
    "start_time": "2022-03-15T14:30:51.371Z"
   },
   {
    "duration": 4,
    "start_time": "2022-03-15T14:30:54.843Z"
   },
   {
    "duration": 29,
    "start_time": "2022-03-15T14:30:55.394Z"
   },
   {
    "duration": 5,
    "start_time": "2022-03-15T14:30:55.780Z"
   },
   {
    "duration": 78,
    "start_time": "2022-03-15T14:30:56.338Z"
   },
   {
    "duration": 168,
    "start_time": "2022-03-15T14:30:56.774Z"
   },
   {
    "duration": 485,
    "start_time": "2022-03-15T14:30:58.237Z"
   },
   {
    "duration": 739,
    "start_time": "2022-03-15T14:30:59.229Z"
   },
   {
    "duration": 17,
    "start_time": "2022-03-15T14:30:59.969Z"
   },
   {
    "duration": 71,
    "start_time": "2022-03-15T14:31:00.464Z"
   },
   {
    "duration": 113,
    "start_time": "2022-03-15T14:31:01.057Z"
   },
   {
    "duration": 15,
    "start_time": "2022-03-15T14:31:02.764Z"
   },
   {
    "duration": 5,
    "start_time": "2022-03-15T14:31:03.691Z"
   },
   {
    "duration": 22,
    "start_time": "2022-03-15T14:31:05.896Z"
   },
   {
    "duration": 610059,
    "start_time": "2022-03-15T14:31:07.007Z"
   },
   {
    "duration": 2344,
    "start_time": "2022-03-15T14:41:21.557Z"
   },
   {
    "duration": 5,
    "start_time": "2022-03-15T14:41:25.286Z"
   },
   {
    "duration": 14,
    "start_time": "2022-03-15T14:41:26.164Z"
   },
   {
    "duration": 7,
    "start_time": "2022-03-15T14:45:19.214Z"
   },
   {
    "duration": 4,
    "start_time": "2022-03-15T14:45:20.206Z"
   },
   {
    "duration": 1637016,
    "start_time": "2022-03-15T14:45:41.159Z"
   },
   {
    "duration": 412,
    "start_time": "2022-03-15T15:13:16.658Z"
   },
   {
    "duration": 5,
    "start_time": "2022-03-15T15:13:21.864Z"
   },
   {
    "duration": 2,
    "start_time": "2022-03-15T15:14:21.327Z"
   },
   {
    "duration": 17,
    "start_time": "2022-03-15T15:16:22.955Z"
   },
   {
    "duration": 16,
    "start_time": "2022-03-15T15:16:25.170Z"
   },
   {
    "duration": 16,
    "start_time": "2022-03-15T15:16:35.549Z"
   },
   {
    "duration": 8,
    "start_time": "2022-03-15T15:16:40.471Z"
   },
   {
    "duration": 98,
    "start_time": "2022-03-15T15:17:50.888Z"
   },
   {
    "duration": 18,
    "start_time": "2022-03-15T15:17:54.828Z"
   },
   {
    "duration": 18,
    "start_time": "2022-03-15T15:18:01.780Z"
   },
   {
    "duration": 15,
    "start_time": "2022-03-15T15:18:13.626Z"
   },
   {
    "duration": 3,
    "start_time": "2022-03-15T15:20:26.581Z"
   },
   {
    "duration": 17,
    "start_time": "2022-03-15T15:20:34.258Z"
   },
   {
    "duration": 5,
    "start_time": "2022-03-15T15:21:50.825Z"
   },
   {
    "duration": 3,
    "start_time": "2022-03-15T15:22:06.045Z"
   },
   {
    "duration": 4,
    "start_time": "2022-03-15T15:24:50.853Z"
   },
   {
    "duration": 4,
    "start_time": "2022-03-15T15:24:53.558Z"
   },
   {
    "duration": 5,
    "start_time": "2022-03-15T15:29:48.896Z"
   },
   {
    "duration": 4,
    "start_time": "2022-03-15T15:29:53.819Z"
   },
   {
    "duration": 4,
    "start_time": "2022-03-15T15:33:37.219Z"
   },
   {
    "duration": 214,
    "start_time": "2022-03-16T10:32:46.189Z"
   },
   {
    "duration": 711,
    "start_time": "2022-03-16T10:33:01.547Z"
   },
   {
    "duration": 1120,
    "start_time": "2022-03-16T10:33:03.398Z"
   },
   {
    "duration": 4,
    "start_time": "2022-03-16T10:33:07.160Z"
   },
   {
    "duration": 28,
    "start_time": "2022-03-16T10:33:09.484Z"
   },
   {
    "duration": 5,
    "start_time": "2022-03-16T10:33:15.053Z"
   },
   {
    "duration": 79,
    "start_time": "2022-03-16T10:33:19.209Z"
   },
   {
    "duration": 154,
    "start_time": "2022-03-16T10:33:23.383Z"
   },
   {
    "duration": 446,
    "start_time": "2022-03-16T10:33:25.398Z"
   },
   {
    "duration": 688,
    "start_time": "2022-03-16T10:33:26.214Z"
   },
   {
    "duration": 14,
    "start_time": "2022-03-16T10:33:29.405Z"
   },
   {
    "duration": 63,
    "start_time": "2022-03-16T10:33:38.901Z"
   },
   {
    "duration": 125,
    "start_time": "2022-03-16T10:33:39.909Z"
   },
   {
    "duration": 13,
    "start_time": "2022-03-16T10:33:42.704Z"
   },
   {
    "duration": 5,
    "start_time": "2022-03-16T10:33:45.685Z"
   },
   {
    "duration": 22,
    "start_time": "2022-03-16T10:33:48.648Z"
   },
   {
    "duration": 597901,
    "start_time": "2022-03-16T10:33:49.583Z"
   },
   {
    "duration": 2322,
    "start_time": "2022-03-16T10:45:50.349Z"
   },
   {
    "duration": 5,
    "start_time": "2022-03-16T10:45:57.469Z"
   },
   {
    "duration": 30,
    "start_time": "2022-03-16T10:46:00.251Z"
   },
   {
    "duration": 940467,
    "start_time": "2022-03-16T10:46:03.768Z"
   },
   {
    "duration": 376,
    "start_time": "2022-03-16T11:03:28.658Z"
   },
   {
    "duration": 5,
    "start_time": "2022-03-16T11:03:32.863Z"
   },
   {
    "duration": 81,
    "start_time": "2022-03-16T11:03:48.353Z"
   },
   {
    "duration": 89,
    "start_time": "2022-03-16T11:03:52.509Z"
   },
   {
    "duration": 2,
    "start_time": "2022-03-16T11:03:53.689Z"
   },
   {
    "duration": 2,
    "start_time": "2022-03-16T11:05:56.629Z"
   },
   {
    "duration": 2498068,
    "start_time": "2022-03-16T11:06:16.375Z"
   },
   {
    "duration": 421,
    "start_time": "2022-03-16T11:48:56.136Z"
   },
   {
    "duration": 4,
    "start_time": "2022-03-16T11:48:57.255Z"
   },
   {
    "duration": 6,
    "start_time": "2022-03-16T11:50:01.688Z"
   },
   {
    "duration": 3,
    "start_time": "2022-03-16T11:50:10.813Z"
   },
   {
    "duration": 89,
    "start_time": "2022-03-16T11:50:18.014Z"
   },
   {
    "duration": 3,
    "start_time": "2022-03-16T11:50:36.096Z"
   },
   {
    "duration": 16,
    "start_time": "2022-03-16T11:51:44.050Z"
   },
   {
    "duration": 6,
    "start_time": "2022-03-16T11:51:49.942Z"
   },
   {
    "duration": 4,
    "start_time": "2022-03-16T11:53:17.532Z"
   },
   {
    "duration": 6,
    "start_time": "2022-03-16T11:53:24.654Z"
   },
   {
    "duration": 4,
    "start_time": "2022-03-16T11:53:36.962Z"
   },
   {
    "duration": 4,
    "start_time": "2022-03-16T11:53:44.106Z"
   },
   {
    "duration": 248,
    "start_time": "2022-03-16T11:53:59.551Z"
   },
   {
    "duration": 158,
    "start_time": "2022-03-16T11:54:46.516Z"
   },
   {
    "duration": 357595,
    "start_time": "2022-03-16T11:56:32.364Z"
   },
   {
    "duration": 153,
    "start_time": "2022-03-16T12:04:20.033Z"
   },
   {
    "duration": 171,
    "start_time": "2022-03-16T12:05:12.508Z"
   },
   {
    "duration": 158,
    "start_time": "2022-03-16T12:06:58.415Z"
   },
   {
    "duration": 155,
    "start_time": "2022-03-16T12:12:03.502Z"
   },
   {
    "duration": 3,
    "start_time": "2022-03-16T12:13:18.182Z"
   },
   {
    "duration": 22,
    "start_time": "2022-03-16T12:19:11.099Z"
   },
   {
    "duration": 4,
    "start_time": "2022-03-16T12:19:20.171Z"
   },
   {
    "duration": 24,
    "start_time": "2022-03-16T12:20:39.859Z"
   },
   {
    "duration": 29401,
    "start_time": "2022-03-16T12:21:23.565Z"
   },
   {
    "duration": 17,
    "start_time": "2022-03-16T12:22:02.696Z"
   },
   {
    "duration": 47862,
    "start_time": "2022-03-16T12:22:32.431Z"
   },
   {
    "duration": 73,
    "start_time": "2022-03-16T12:23:38.975Z"
   },
   {
    "duration": 351941,
    "start_time": "2022-03-16T12:23:48.080Z"
   },
   {
    "duration": 236,
    "start_time": "2022-03-16T12:38:24.322Z"
   },
   {
    "duration": 5,
    "start_time": "2022-03-16T12:38:30.581Z"
   },
   {
    "duration": 849800,
    "start_time": "2022-03-16T12:40:13.751Z"
   },
   {
    "duration": 5,
    "start_time": "2022-03-16T12:56:02.933Z"
   },
   {
    "duration": 5,
    "start_time": "2022-03-16T12:56:17.885Z"
   },
   {
    "duration": 315,
    "start_time": "2022-03-16T12:56:28.528Z"
   },
   {
    "duration": 4,
    "start_time": "2022-03-16T12:56:30.549Z"
   },
   {
    "duration": 8,
    "start_time": "2022-03-16T13:03:07.746Z"
   },
   {
    "duration": 12,
    "start_time": "2022-03-16T13:12:03.640Z"
   },
   {
    "duration": 15,
    "start_time": "2022-03-16T13:12:19.326Z"
   },
   {
    "duration": 420,
    "start_time": "2022-03-18T12:15:41.275Z"
   },
   {
    "duration": 5191,
    "start_time": "2022-03-18T12:15:42.327Z"
   },
   {
    "duration": 3,
    "start_time": "2022-03-18T12:15:47.520Z"
   },
   {
    "duration": 32,
    "start_time": "2022-03-18T12:15:47.525Z"
   },
   {
    "duration": 5,
    "start_time": "2022-03-18T12:15:48.434Z"
   },
   {
    "duration": 92,
    "start_time": "2022-03-18T12:15:50.685Z"
   },
   {
    "duration": 135,
    "start_time": "2022-03-18T12:15:53.715Z"
   },
   {
    "duration": 28,
    "start_time": "2022-03-18T12:16:34.878Z"
   },
   {
    "duration": 26,
    "start_time": "2022-03-18T12:17:09.837Z"
   },
   {
    "duration": 21,
    "start_time": "2022-03-18T12:17:29.162Z"
   },
   {
    "duration": 73,
    "start_time": "2022-03-18T12:20:31.074Z"
   },
   {
    "duration": 28,
    "start_time": "2022-03-18T12:22:10.565Z"
   },
   {
    "duration": 19,
    "start_time": "2022-03-18T12:22:12.911Z"
   },
   {
    "duration": 27,
    "start_time": "2022-03-18T12:22:14.604Z"
   },
   {
    "duration": 32,
    "start_time": "2022-03-18T12:22:32.352Z"
   },
   {
    "duration": 31,
    "start_time": "2022-03-18T12:22:48.126Z"
   },
   {
    "duration": 32,
    "start_time": "2022-03-18T12:22:55.145Z"
   },
   {
    "duration": 4,
    "start_time": "2022-03-18T12:23:14.057Z"
   },
   {
    "duration": 82,
    "start_time": "2022-03-18T12:41:03.735Z"
   },
   {
    "duration": 5,
    "start_time": "2022-03-18T12:45:04.238Z"
   },
   {
    "duration": 619,
    "start_time": "2022-03-18T12:45:10.874Z"
   },
   {
    "duration": 178,
    "start_time": "2022-03-18T12:45:26.937Z"
   },
   {
    "duration": 147,
    "start_time": "2022-03-18T12:45:37.033Z"
   },
   {
    "duration": 163,
    "start_time": "2022-03-18T12:45:49.847Z"
   },
   {
    "duration": 149,
    "start_time": "2022-03-18T12:46:06.373Z"
   },
   {
    "duration": 155,
    "start_time": "2022-03-18T12:46:40.893Z"
   },
   {
    "duration": 172,
    "start_time": "2022-03-18T12:47:00.360Z"
   },
   {
    "duration": 141,
    "start_time": "2022-03-18T12:47:37.422Z"
   },
   {
    "duration": 143,
    "start_time": "2022-03-18T12:48:20.536Z"
   },
   {
    "duration": 146,
    "start_time": "2022-03-18T12:48:25.938Z"
   },
   {
    "duration": 17,
    "start_time": "2022-03-18T12:51:22.871Z"
   },
   {
    "duration": 152,
    "start_time": "2022-03-18T12:51:45.094Z"
   },
   {
    "duration": 168,
    "start_time": "2022-03-18T12:52:10.118Z"
   },
   {
    "duration": 179,
    "start_time": "2022-03-18T12:52:21.576Z"
   },
   {
    "duration": 166,
    "start_time": "2022-03-18T12:52:41.098Z"
   },
   {
    "duration": 156,
    "start_time": "2022-03-18T12:52:52.618Z"
   },
   {
    "duration": 162,
    "start_time": "2022-03-18T12:53:34.235Z"
   },
   {
    "duration": 21,
    "start_time": "2022-03-18T13:05:45.576Z"
   },
   {
    "duration": 4,
    "start_time": "2022-03-18T13:09:26.623Z"
   },
   {
    "duration": 5,
    "start_time": "2022-03-18T13:10:12.129Z"
   },
   {
    "duration": 3,
    "start_time": "2022-03-18T13:10:20.640Z"
   },
   {
    "duration": 4,
    "start_time": "2022-03-18T13:10:40.630Z"
   },
   {
    "duration": 4,
    "start_time": "2022-03-18T13:10:44.163Z"
   },
   {
    "duration": 4,
    "start_time": "2022-03-18T13:10:45.902Z"
   },
   {
    "duration": 4,
    "start_time": "2022-03-18T13:12:33.952Z"
   },
   {
    "duration": 44,
    "start_time": "2022-03-18T13:12:45.427Z"
   },
   {
    "duration": 38,
    "start_time": "2022-03-18T13:13:06.841Z"
   },
   {
    "duration": 43,
    "start_time": "2022-03-18T13:13:12.308Z"
   },
   {
    "duration": 38,
    "start_time": "2022-03-18T13:13:29.551Z"
   },
   {
    "duration": 4,
    "start_time": "2022-03-18T13:16:15.115Z"
   },
   {
    "duration": 4,
    "start_time": "2022-03-18T13:24:11.996Z"
   },
   {
    "duration": 4,
    "start_time": "2022-03-18T13:24:17.299Z"
   },
   {
    "duration": 52,
    "start_time": "2022-03-18T13:25:32.520Z"
   },
   {
    "duration": 18,
    "start_time": "2022-03-18T13:25:56.746Z"
   },
   {
    "duration": 5,
    "start_time": "2022-03-18T13:26:53.666Z"
   },
   {
    "duration": 4,
    "start_time": "2022-03-18T13:27:05.037Z"
   },
   {
    "duration": 4,
    "start_time": "2022-03-18T13:27:12.420Z"
   },
   {
    "duration": 14,
    "start_time": "2022-03-18T13:27:32.622Z"
   },
   {
    "duration": 23,
    "start_time": "2022-03-18T13:28:09.136Z"
   },
   {
    "duration": 55,
    "start_time": "2022-03-18T13:28:50.775Z"
   },
   {
    "duration": 58,
    "start_time": "2022-03-18T13:29:18.076Z"
   },
   {
    "duration": 3,
    "start_time": "2022-03-18T13:48:07.903Z"
   },
   {
    "duration": 4,
    "start_time": "2022-03-18T13:48:23.523Z"
   },
   {
    "duration": 5,
    "start_time": "2022-03-18T13:48:28.781Z"
   },
   {
    "duration": 4,
    "start_time": "2022-03-18T13:48:39.424Z"
   },
   {
    "duration": 58,
    "start_time": "2022-03-18T13:49:22.706Z"
   },
   {
    "duration": 56,
    "start_time": "2022-03-18T13:50:03.321Z"
   },
   {
    "duration": 45,
    "start_time": "2022-03-18T13:50:23.763Z"
   },
   {
    "duration": 47,
    "start_time": "2022-03-18T13:52:44.572Z"
   },
   {
    "duration": 46,
    "start_time": "2022-03-18T13:52:59.810Z"
   },
   {
    "duration": 48,
    "start_time": "2022-03-18T13:53:07.055Z"
   },
   {
    "duration": 66,
    "start_time": "2022-03-18T13:53:13.719Z"
   },
   {
    "duration": 46,
    "start_time": "2022-03-18T13:54:28.969Z"
   },
   {
    "duration": 51,
    "start_time": "2022-03-18T13:54:40.255Z"
   },
   {
    "duration": 45,
    "start_time": "2022-03-18T13:54:51.705Z"
   },
   {
    "duration": 25,
    "start_time": "2022-03-18T13:55:36.249Z"
   },
   {
    "duration": 5,
    "start_time": "2022-03-18T13:58:02.075Z"
   },
   {
    "duration": 5,
    "start_time": "2022-03-18T13:58:18.093Z"
   },
   {
    "duration": 17,
    "start_time": "2022-03-18T14:00:35.380Z"
   },
   {
    "duration": 3,
    "start_time": "2022-03-18T14:00:37.881Z"
   },
   {
    "duration": 4,
    "start_time": "2022-03-18T14:01:00.103Z"
   },
   {
    "duration": 18,
    "start_time": "2022-03-18T14:02:18.547Z"
   },
   {
    "duration": 20,
    "start_time": "2022-03-18T14:02:32.098Z"
   },
   {
    "duration": 24,
    "start_time": "2022-03-18T14:02:59.164Z"
   },
   {
    "duration": 29,
    "start_time": "2022-03-18T14:03:20.788Z"
   },
   {
    "duration": 63,
    "start_time": "2022-03-18T14:03:55.806Z"
   },
   {
    "duration": 297,
    "start_time": "2022-03-18T14:04:17.872Z"
   },
   {
    "duration": 46,
    "start_time": "2022-03-18T14:04:40.022Z"
   },
   {
    "duration": 17,
    "start_time": "2022-03-18T14:04:43.419Z"
   },
   {
    "duration": 19,
    "start_time": "2022-03-18T14:04:58.376Z"
   },
   {
    "duration": 19,
    "start_time": "2022-03-18T14:06:38.627Z"
   },
   {
    "duration": 960,
    "start_time": "2022-03-18T14:23:10.752Z"
   },
   {
    "duration": 19,
    "start_time": "2022-03-18T14:23:15.684Z"
   },
   {
    "duration": 11,
    "start_time": "2022-03-18T14:24:29.993Z"
   },
   {
    "duration": 2,
    "start_time": "2022-03-18T14:24:56.369Z"
   },
   {
    "duration": 19,
    "start_time": "2022-03-18T14:25:06.283Z"
   },
   {
    "duration": 337,
    "start_time": "2022-03-18T14:26:43.649Z"
   },
   {
    "duration": 307,
    "start_time": "2022-03-18T14:26:48.710Z"
   },
   {
    "duration": 16,
    "start_time": "2022-03-18T14:26:54.061Z"
   },
   {
    "duration": 432,
    "start_time": "2022-03-18T14:29:08.098Z"
   },
   {
    "duration": 25,
    "start_time": "2022-03-18T14:29:08.569Z"
   },
   {
    "duration": 8,
    "start_time": "2022-03-18T14:29:31.434Z"
   },
   {
    "duration": 74,
    "start_time": "2022-03-18T14:29:40.877Z"
   },
   {
    "duration": 5,
    "start_time": "2022-03-18T14:29:44.130Z"
   },
   {
    "duration": 7,
    "start_time": "2022-03-18T14:29:52.375Z"
   },
   {
    "duration": 5,
    "start_time": "2022-03-18T14:29:56.064Z"
   },
   {
    "duration": 297,
    "start_time": "2022-03-18T14:31:56.245Z"
   },
   {
    "duration": 14,
    "start_time": "2022-03-18T14:31:56.657Z"
   },
   {
    "duration": 19,
    "start_time": "2022-03-18T14:34:37.889Z"
   },
   {
    "duration": 12,
    "start_time": "2022-03-18T14:35:27.414Z"
   },
   {
    "duration": 20,
    "start_time": "2022-03-18T14:35:45.256Z"
   },
   {
    "duration": 14,
    "start_time": "2022-03-18T14:35:57.197Z"
   },
   {
    "duration": 17,
    "start_time": "2022-03-18T14:36:05.347Z"
   },
   {
    "duration": 99,
    "start_time": "2022-03-18T14:37:11.253Z"
   },
   {
    "duration": 20,
    "start_time": "2022-03-18T14:37:27.764Z"
   },
   {
    "duration": 83,
    "start_time": "2022-03-18T14:37:31.404Z"
   },
   {
    "duration": 86,
    "start_time": "2022-03-18T14:37:37.980Z"
   },
   {
    "duration": 72,
    "start_time": "2022-03-18T14:38:07.657Z"
   },
   {
    "duration": 18,
    "start_time": "2022-03-18T14:38:12.088Z"
   },
   {
    "duration": 36,
    "start_time": "2022-03-18T14:39:05.466Z"
   },
   {
    "duration": 25,
    "start_time": "2022-03-18T14:39:10.668Z"
   },
   {
    "duration": 110,
    "start_time": "2022-03-18T14:39:24.822Z"
   },
   {
    "duration": 20,
    "start_time": "2022-03-18T14:39:29.610Z"
   },
   {
    "duration": 333,
    "start_time": "2022-03-18T14:39:35.824Z"
   },
   {
    "duration": 81,
    "start_time": "2022-03-18T14:39:37.533Z"
   },
   {
    "duration": 18,
    "start_time": "2022-03-18T14:39:38.062Z"
   },
   {
    "duration": 26,
    "start_time": "2022-03-18T14:39:46.237Z"
   },
   {
    "duration": 3,
    "start_time": "2022-03-18T14:40:38.436Z"
   },
   {
    "duration": 297,
    "start_time": "2022-03-18T14:40:38.976Z"
   },
   {
    "duration": 81,
    "start_time": "2022-03-18T14:40:39.276Z"
   },
   {
    "duration": 15,
    "start_time": "2022-03-18T14:40:39.692Z"
   },
   {
    "duration": 5,
    "start_time": "2022-03-18T14:40:58.127Z"
   },
   {
    "duration": 63,
    "start_time": "2022-03-18T14:41:04.603Z"
   },
   {
    "duration": 4,
    "start_time": "2022-03-18T14:41:07.451Z"
   },
   {
    "duration": 4,
    "start_time": "2022-03-18T14:43:03.514Z"
   },
   {
    "duration": 6,
    "start_time": "2022-03-18T14:43:08.925Z"
   },
   {
    "duration": 16,
    "start_time": "2022-03-18T14:45:42.280Z"
   },
   {
    "duration": 6,
    "start_time": "2022-03-18T14:45:50.600Z"
   },
   {
    "duration": 16,
    "start_time": "2022-03-18T14:46:36.303Z"
   },
   {
    "duration": 7,
    "start_time": "2022-03-18T14:46:46.754Z"
   },
   {
    "duration": 34,
    "start_time": "2022-03-18T14:46:48.156Z"
   },
   {
    "duration": 44,
    "start_time": "2022-03-18T14:46:49.120Z"
   },
   {
    "duration": 14,
    "start_time": "2022-03-18T14:46:54.866Z"
   },
   {
    "duration": 5,
    "start_time": "2022-03-18T14:46:55.890Z"
   },
   {
    "duration": 5,
    "start_time": "2022-03-18T14:47:14.007Z"
   },
   {
    "duration": 5,
    "start_time": "2022-03-18T14:47:21.198Z"
   },
   {
    "duration": 28,
    "start_time": "2022-03-18T14:47:27.030Z"
   },
   {
    "duration": 302206,
    "start_time": "2022-03-18T14:48:29.704Z"
   },
   {
    "duration": 1180,
    "start_time": "2022-03-18T14:54:21.848Z"
   },
   {
    "duration": 5,
    "start_time": "2022-03-18T14:54:25.277Z"
   },
   {
    "duration": 6,
    "start_time": "2022-03-18T14:54:38.313Z"
   },
   {
    "duration": 74,
    "start_time": "2022-03-18T14:55:48.357Z"
   },
   {
    "duration": 131,
    "start_time": "2022-03-18T15:10:35.675Z"
   },
   {
    "duration": 12911,
    "start_time": "2022-03-18T15:11:18.990Z"
   },
   {
    "duration": 63,
    "start_time": "2022-03-18T15:12:18.840Z"
   },
   {
    "duration": 17,
    "start_time": "2022-03-18T15:12:22.863Z"
   },
   {
    "duration": 174,
    "start_time": "2022-03-18T15:13:02.040Z"
   },
   {
    "duration": 160,
    "start_time": "2022-03-18T15:13:14.501Z"
   },
   {
    "duration": 4,
    "start_time": "2022-03-18T15:13:30.384Z"
   },
   {
    "duration": 158,
    "start_time": "2022-03-18T15:13:58.457Z"
   },
   {
    "duration": 184,
    "start_time": "2022-03-18T15:14:11.042Z"
   },
   {
    "duration": 147,
    "start_time": "2022-03-18T15:14:21.433Z"
   },
   {
    "duration": 146,
    "start_time": "2022-03-18T15:24:24.447Z"
   },
   {
    "duration": 38,
    "start_time": "2022-03-18T15:24:51.905Z"
   },
   {
    "duration": 154,
    "start_time": "2022-03-18T15:25:03.229Z"
   },
   {
    "duration": 2,
    "start_time": "2022-03-18T15:27:51.719Z"
   },
   {
    "duration": 377,
    "start_time": "2022-03-18T22:04:25.896Z"
   },
   {
    "duration": 812,
    "start_time": "2022-03-18T22:04:28.845Z"
   },
   {
    "duration": 4,
    "start_time": "2022-03-18T22:04:31.843Z"
   },
   {
    "duration": 30,
    "start_time": "2022-03-18T22:04:32.921Z"
   },
   {
    "duration": 5,
    "start_time": "2022-03-18T22:04:35.366Z"
   },
   {
    "duration": 83,
    "start_time": "2022-03-18T22:04:37.998Z"
   },
   {
    "duration": 127,
    "start_time": "2022-03-18T22:04:43.179Z"
   },
   {
    "duration": 797,
    "start_time": "2022-03-18T22:05:08.177Z"
   },
   {
    "duration": 4,
    "start_time": "2022-03-18T22:05:10.221Z"
   },
   {
    "duration": 22,
    "start_time": "2022-03-18T22:05:11.128Z"
   },
   {
    "duration": 6,
    "start_time": "2022-03-18T22:05:11.683Z"
   },
   {
    "duration": 81,
    "start_time": "2022-03-18T22:05:14.127Z"
   },
   {
    "duration": 123,
    "start_time": "2022-03-18T22:05:15.995Z"
   },
   {
    "duration": 622,
    "start_time": "2022-03-18T22:05:34.815Z"
   },
   {
    "duration": 146,
    "start_time": "2022-03-18T22:05:35.439Z"
   },
   {
    "duration": 148,
    "start_time": "2022-03-18T22:05:36.411Z"
   },
   {
    "duration": 141,
    "start_time": "2022-03-18T22:05:37.249Z"
   },
   {
    "duration": 202,
    "start_time": "2022-03-18T22:05:37.865Z"
   },
   {
    "duration": 58,
    "start_time": "2022-03-18T22:05:44.395Z"
   },
   {
    "duration": 664,
    "start_time": "2022-03-18T22:05:46.030Z"
   },
   {
    "duration": 2,
    "start_time": "2022-03-18T22:05:48.425Z"
   },
   {
    "duration": 310,
    "start_time": "2022-03-18T22:06:28.184Z"
   },
   {
    "duration": 85,
    "start_time": "2022-03-18T22:06:30.676Z"
   },
   {
    "duration": 7,
    "start_time": "2022-03-18T22:08:04.271Z"
   },
   {
    "duration": 30,
    "start_time": "2022-03-18T22:08:06.435Z"
   },
   {
    "duration": 4,
    "start_time": "2022-03-18T22:08:35.823Z"
   },
   {
    "duration": 3,
    "start_time": "2022-03-18T22:09:02.135Z"
   },
   {
    "duration": 3,
    "start_time": "2022-03-18T22:09:15.919Z"
   },
   {
    "duration": 4,
    "start_time": "2022-03-18T22:09:33.502Z"
   },
   {
    "duration": 17,
    "start_time": "2022-03-18T22:11:03.763Z"
   },
   {
    "duration": 3,
    "start_time": "2022-03-18T22:11:41.753Z"
   },
   {
    "duration": 318,
    "start_time": "2022-03-18T22:11:42.400Z"
   },
   {
    "duration": 83,
    "start_time": "2022-03-18T22:11:43.722Z"
   },
   {
    "duration": 9,
    "start_time": "2022-03-18T22:11:46.329Z"
   },
   {
    "duration": 38,
    "start_time": "2022-03-18T22:11:47.260Z"
   },
   {
    "duration": 47,
    "start_time": "2022-03-18T22:11:49.791Z"
   },
   {
    "duration": 11,
    "start_time": "2022-03-18T22:11:53.012Z"
   },
   {
    "duration": 6,
    "start_time": "2022-03-18T22:11:55.002Z"
   },
   {
    "duration": 27,
    "start_time": "2022-03-18T22:11:58.884Z"
   },
   {
    "duration": 276973,
    "start_time": "2022-03-18T22:12:10.615Z"
   },
   {
    "duration": 1127,
    "start_time": "2022-03-18T22:17:56.429Z"
   },
   {
    "duration": 4,
    "start_time": "2022-03-18T22:18:01.954Z"
   },
   {
    "duration": 26,
    "start_time": "2022-03-18T22:18:04.092Z"
   },
   {
    "duration": 56216,
    "start_time": "2022-03-18T22:18:12.826Z"
   },
   {
    "duration": 185,
    "start_time": "2022-03-18T22:28:02.853Z"
   },
   {
    "duration": 6,
    "start_time": "2022-03-18T22:28:06.474Z"
   },
   {
    "duration": 6,
    "start_time": "2022-03-18T22:28:18.240Z"
   },
   {
    "duration": 50,
    "start_time": "2022-03-18T22:28:20.120Z"
   },
   {
    "duration": 56,
    "start_time": "2022-03-18T22:28:24.078Z"
   },
   {
    "duration": 4,
    "start_time": "2022-03-18T22:29:12.197Z"
   },
   {
    "duration": 4,
    "start_time": "2022-03-18T22:29:23.341Z"
   },
   {
    "duration": 4,
    "start_time": "2022-03-18T22:29:32.252Z"
   },
   {
    "duration": 4,
    "start_time": "2022-03-18T22:29:36.597Z"
   },
   {
    "duration": 60,
    "start_time": "2022-03-18T22:29:49.378Z"
   },
   {
    "duration": 16,
    "start_time": "2022-03-18T22:29:57.143Z"
   },
   {
    "duration": 213093,
    "start_time": "2022-03-18T22:30:14.338Z"
   },
   {
    "duration": 79,
    "start_time": "2022-03-18T22:34:46.101Z"
   },
   {
    "duration": 5,
    "start_time": "2022-03-18T22:34:47.413Z"
   },
   {
    "duration": 5,
    "start_time": "2022-03-18T22:34:59.250Z"
   },
   {
    "duration": 2,
    "start_time": "2022-03-18T22:50:18.946Z"
   },
   {
    "duration": 2,
    "start_time": "2022-03-18T22:50:32.871Z"
   },
   {
    "duration": 4,
    "start_time": "2022-03-18T22:51:27.954Z"
   },
   {
    "duration": 5,
    "start_time": "2022-03-18T22:51:41.145Z"
   },
   {
    "duration": 5,
    "start_time": "2022-03-18T22:51:44.897Z"
   },
   {
    "duration": 5,
    "start_time": "2022-03-18T22:51:48.190Z"
   },
   {
    "duration": 4,
    "start_time": "2022-03-18T22:51:51.759Z"
   },
   {
    "duration": 4,
    "start_time": "2022-03-18T22:51:55.816Z"
   },
   {
    "duration": 4,
    "start_time": "2022-03-18T22:52:24.606Z"
   },
   {
    "duration": 4,
    "start_time": "2022-03-18T22:52:28.571Z"
   },
   {
    "duration": 4,
    "start_time": "2022-03-18T22:52:36.029Z"
   },
   {
    "duration": 524563,
    "start_time": "2022-03-18T22:53:10.172Z"
   },
   {
    "duration": 6,
    "start_time": "2022-03-18T23:08:59.287Z"
   },
   {
    "duration": 3,
    "start_time": "2022-03-18T23:09:09.272Z"
   },
   {
    "duration": 4,
    "start_time": "2022-03-18T23:09:14.613Z"
   },
   {
    "duration": 4,
    "start_time": "2022-03-18T23:09:44.318Z"
   },
   {
    "duration": 4,
    "start_time": "2022-03-18T23:09:57.295Z"
   },
   {
    "duration": 4,
    "start_time": "2022-03-18T23:10:16.635Z"
   },
   {
    "duration": 4,
    "start_time": "2022-03-18T23:10:29.710Z"
   },
   {
    "duration": 5,
    "start_time": "2022-03-18T23:10:51.044Z"
   },
   {
    "duration": 4,
    "start_time": "2022-03-18T23:11:00.627Z"
   },
   {
    "duration": 545292,
    "start_time": "2022-03-18T23:11:43.954Z"
   },
   {
    "duration": 153,
    "start_time": "2022-03-18T23:22:01.781Z"
   },
   {
    "duration": 5,
    "start_time": "2022-03-18T23:22:05.366Z"
   },
   {
    "duration": 3,
    "start_time": "2022-03-18T23:22:09.974Z"
   },
   {
    "duration": 53,
    "start_time": "2022-03-18T23:22:11.039Z"
   },
   {
    "duration": 58,
    "start_time": "2022-03-18T23:23:34.251Z"
   },
   {
    "duration": 549729,
    "start_time": "2022-03-18T23:23:53.246Z"
   },
   {
    "duration": 68,
    "start_time": "2022-03-18T23:33:43.251Z"
   },
   {
    "duration": 5,
    "start_time": "2022-03-18T23:33:44.676Z"
   },
   {
    "duration": 4,
    "start_time": "2022-03-18T23:35:26.607Z"
   },
   {
    "duration": 6,
    "start_time": "2022-03-18T23:35:34.670Z"
   },
   {
    "duration": 4,
    "start_time": "2022-03-18T23:35:40.410Z"
   },
   {
    "duration": 10,
    "start_time": "2022-03-18T23:46:22.028Z"
   },
   {
    "duration": 658,
    "start_time": "2022-03-19T07:49:08.389Z"
   },
   {
    "duration": 6742,
    "start_time": "2022-03-19T07:49:21.682Z"
   },
   {
    "duration": 19,
    "start_time": "2022-03-19T07:49:28.427Z"
   },
   {
    "duration": 42,
    "start_time": "2022-03-19T07:49:28.449Z"
   },
   {
    "duration": 9,
    "start_time": "2022-03-19T07:49:28.494Z"
   },
   {
    "duration": 146,
    "start_time": "2022-03-19T07:49:28.506Z"
   },
   {
    "duration": 192,
    "start_time": "2022-03-19T07:49:28.654Z"
   },
   {
    "duration": 13297,
    "start_time": "2022-03-19T07:50:14.777Z"
   },
   {
    "duration": 291,
    "start_time": "2022-03-19T07:50:28.077Z"
   },
   {
    "duration": 294,
    "start_time": "2022-03-19T07:50:28.370Z"
   },
   {
    "duration": 270,
    "start_time": "2022-03-19T07:50:28.666Z"
   },
   {
    "duration": 318,
    "start_time": "2022-03-19T07:50:28.939Z"
   },
   {
    "duration": 96,
    "start_time": "2022-03-19T07:50:29.259Z"
   },
   {
    "duration": 87531,
    "start_time": "2022-03-19T07:50:29.357Z"
   },
   {
    "duration": 4,
    "start_time": "2022-03-19T07:51:56.890Z"
   },
   {
    "duration": 501,
    "start_time": "2022-03-19T07:51:56.897Z"
   },
   {
    "duration": 147,
    "start_time": "2022-03-19T07:51:57.401Z"
   },
   {
    "duration": 9,
    "start_time": "2022-03-19T07:51:57.551Z"
   },
   {
    "duration": 44,
    "start_time": "2022-03-19T07:51:57.562Z"
   },
   {
    "duration": 166,
    "start_time": "2022-03-19T07:51:57.608Z"
   },
   {
    "duration": 0,
    "start_time": "2022-03-19T07:51:57.776Z"
   },
   {
    "duration": 0,
    "start_time": "2022-03-19T07:51:57.777Z"
   },
   {
    "duration": 35,
    "start_time": "2022-03-19T07:53:33.508Z"
   },
   {
    "duration": 3,
    "start_time": "2022-03-19T07:54:03.779Z"
   },
   {
    "duration": 15,
    "start_time": "2022-03-19T07:54:04.542Z"
   },
   {
    "duration": 11,
    "start_time": "2022-03-19T07:54:06.081Z"
   },
   {
    "duration": 123,
    "start_time": "2022-03-19T07:54:17.984Z"
   },
   {
    "duration": 42,
    "start_time": "2022-03-19T07:54:21.860Z"
   },
   {
    "duration": 314736,
    "start_time": "2022-03-19T07:54:52.718Z"
   },
   {
    "duration": 0,
    "start_time": "2022-03-19T08:00:07.470Z"
   },
   {
    "duration": 6,
    "start_time": "2022-03-19T08:00:13.497Z"
   },
   {
    "duration": 577,
    "start_time": "2022-03-19T08:00:57.610Z"
   },
   {
    "duration": 385,
    "start_time": "2022-03-19T08:00:58.927Z"
   },
   {
    "duration": 16,
    "start_time": "2022-03-19T08:01:08.524Z"
   },
   {
    "duration": 17,
    "start_time": "2022-03-19T08:01:13.235Z"
   },
   {
    "duration": 451,
    "start_time": "2022-03-19T08:01:24.782Z"
   }
  ],
  "kernelspec": {
   "display_name": "Python 3",
   "language": "python",
   "name": "python3"
  },
  "language_info": {
   "codemirror_mode": {
    "name": "ipython",
    "version": 3
   },
   "file_extension": ".py",
   "mimetype": "text/x-python",
   "name": "python",
   "nbconvert_exporter": "python",
   "pygments_lexer": "ipython3",
   "version": "3.8.5"
  },
  "toc": {
   "base_numbering": 1,
   "nav_menu": {},
   "number_sections": true,
   "sideBar": true,
   "skip_h1_title": true,
   "title_cell": "Table of Contents",
   "title_sidebar": "Contents",
   "toc_cell": false,
   "toc_position": {
    "height": "calc(100% - 180px)",
    "left": "10px",
    "top": "150px",
    "width": "270.390625px"
   },
   "toc_section_display": true,
   "toc_window_display": true
  }
 },
 "nbformat": 4,
 "nbformat_minor": 2
}
