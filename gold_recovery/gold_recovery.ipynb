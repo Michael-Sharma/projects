{
 "cells": [
  {
   "cell_type": "markdown",
   "metadata": {},
   "source": [
    "## Подготовка данных"
   ]
  },
  {
   "cell_type": "code",
   "execution_count": 1,
   "metadata": {},
   "outputs": [],
   "source": [
    "import pandas as pd\n",
    "import numpy as np\n",
    "from sklearn.metrics import mean_squared_error\n",
    "import seaborn as sns\n",
    "import matplotlib.pyplot as plt\n",
    "from sklearn.model_selection import cross_val_score\n",
    "from sklearn.model_selection import GridSearchCV\n",
    "from sklearn.ensemble import RandomForestRegressor\n",
    "from sklearn.linear_model import LinearRegression"
   ]
  },
  {
   "cell_type": "markdown",
   "metadata": {},
   "source": [
    "### Выгрузка и ознакомление с данными"
   ]
  },
  {
   "cell_type": "markdown",
   "metadata": {},
   "source": [
    "Прочтем и выведем на экран первые пять строчек каждой из таблиц и их размерности"
   ]
  },
  {
   "cell_type": "code",
   "execution_count": 2,
   "metadata": {},
   "outputs": [
    {
     "data": {
      "text/html": [
       "<div>\n",
       "<style scoped>\n",
       "    .dataframe tbody tr th:only-of-type {\n",
       "        vertical-align: middle;\n",
       "    }\n",
       "\n",
       "    .dataframe tbody tr th {\n",
       "        vertical-align: top;\n",
       "    }\n",
       "\n",
       "    .dataframe thead th {\n",
       "        text-align: right;\n",
       "    }\n",
       "</style>\n",
       "<table border=\"1\" class=\"dataframe\">\n",
       "  <thead>\n",
       "    <tr style=\"text-align: right;\">\n",
       "      <th></th>\n",
       "      <th>date</th>\n",
       "      <th>final.output.concentrate_ag</th>\n",
       "      <th>final.output.concentrate_pb</th>\n",
       "      <th>final.output.concentrate_sol</th>\n",
       "      <th>final.output.concentrate_au</th>\n",
       "      <th>final.output.recovery</th>\n",
       "      <th>final.output.tail_ag</th>\n",
       "      <th>final.output.tail_pb</th>\n",
       "      <th>final.output.tail_sol</th>\n",
       "      <th>final.output.tail_au</th>\n",
       "      <th>...</th>\n",
       "      <th>secondary_cleaner.state.floatbank4_a_air</th>\n",
       "      <th>secondary_cleaner.state.floatbank4_a_level</th>\n",
       "      <th>secondary_cleaner.state.floatbank4_b_air</th>\n",
       "      <th>secondary_cleaner.state.floatbank4_b_level</th>\n",
       "      <th>secondary_cleaner.state.floatbank5_a_air</th>\n",
       "      <th>secondary_cleaner.state.floatbank5_a_level</th>\n",
       "      <th>secondary_cleaner.state.floatbank5_b_air</th>\n",
       "      <th>secondary_cleaner.state.floatbank5_b_level</th>\n",
       "      <th>secondary_cleaner.state.floatbank6_a_air</th>\n",
       "      <th>secondary_cleaner.state.floatbank6_a_level</th>\n",
       "    </tr>\n",
       "  </thead>\n",
       "  <tbody>\n",
       "    <tr>\n",
       "      <td>0</td>\n",
       "      <td>2016-01-15 00:00:00</td>\n",
       "      <td>6.055403</td>\n",
       "      <td>9.889648</td>\n",
       "      <td>5.507324</td>\n",
       "      <td>42.192020</td>\n",
       "      <td>70.541216</td>\n",
       "      <td>10.411962</td>\n",
       "      <td>0.895447</td>\n",
       "      <td>16.904297</td>\n",
       "      <td>2.143149</td>\n",
       "      <td>...</td>\n",
       "      <td>14.016835</td>\n",
       "      <td>-502.488007</td>\n",
       "      <td>12.099931</td>\n",
       "      <td>-504.715942</td>\n",
       "      <td>9.925633</td>\n",
       "      <td>-498.310211</td>\n",
       "      <td>8.079666</td>\n",
       "      <td>-500.470978</td>\n",
       "      <td>14.151341</td>\n",
       "      <td>-605.841980</td>\n",
       "    </tr>\n",
       "    <tr>\n",
       "      <td>1</td>\n",
       "      <td>2016-01-15 01:00:00</td>\n",
       "      <td>6.029369</td>\n",
       "      <td>9.968944</td>\n",
       "      <td>5.257781</td>\n",
       "      <td>42.701629</td>\n",
       "      <td>69.266198</td>\n",
       "      <td>10.462676</td>\n",
       "      <td>0.927452</td>\n",
       "      <td>16.634514</td>\n",
       "      <td>2.224930</td>\n",
       "      <td>...</td>\n",
       "      <td>13.992281</td>\n",
       "      <td>-505.503262</td>\n",
       "      <td>11.950531</td>\n",
       "      <td>-501.331529</td>\n",
       "      <td>10.039245</td>\n",
       "      <td>-500.169983</td>\n",
       "      <td>7.984757</td>\n",
       "      <td>-500.582168</td>\n",
       "      <td>13.998353</td>\n",
       "      <td>-599.787184</td>\n",
       "    </tr>\n",
       "    <tr>\n",
       "      <td>2</td>\n",
       "      <td>2016-01-15 02:00:00</td>\n",
       "      <td>6.055926</td>\n",
       "      <td>10.213995</td>\n",
       "      <td>5.383759</td>\n",
       "      <td>42.657501</td>\n",
       "      <td>68.116445</td>\n",
       "      <td>10.507046</td>\n",
       "      <td>0.953716</td>\n",
       "      <td>16.208849</td>\n",
       "      <td>2.257889</td>\n",
       "      <td>...</td>\n",
       "      <td>14.015015</td>\n",
       "      <td>-502.520901</td>\n",
       "      <td>11.912783</td>\n",
       "      <td>-501.133383</td>\n",
       "      <td>10.070913</td>\n",
       "      <td>-500.129135</td>\n",
       "      <td>8.013877</td>\n",
       "      <td>-500.517572</td>\n",
       "      <td>14.028663</td>\n",
       "      <td>-601.427363</td>\n",
       "    </tr>\n",
       "    <tr>\n",
       "      <td>3</td>\n",
       "      <td>2016-01-15 03:00:00</td>\n",
       "      <td>6.047977</td>\n",
       "      <td>9.977019</td>\n",
       "      <td>4.858634</td>\n",
       "      <td>42.689819</td>\n",
       "      <td>68.347543</td>\n",
       "      <td>10.422762</td>\n",
       "      <td>0.883763</td>\n",
       "      <td>16.532835</td>\n",
       "      <td>2.146849</td>\n",
       "      <td>...</td>\n",
       "      <td>14.036510</td>\n",
       "      <td>-500.857308</td>\n",
       "      <td>11.999550</td>\n",
       "      <td>-501.193686</td>\n",
       "      <td>9.970366</td>\n",
       "      <td>-499.201640</td>\n",
       "      <td>7.977324</td>\n",
       "      <td>-500.255908</td>\n",
       "      <td>14.005551</td>\n",
       "      <td>-599.996129</td>\n",
       "    </tr>\n",
       "    <tr>\n",
       "      <td>4</td>\n",
       "      <td>2016-01-15 04:00:00</td>\n",
       "      <td>6.148599</td>\n",
       "      <td>10.142511</td>\n",
       "      <td>4.939416</td>\n",
       "      <td>42.774141</td>\n",
       "      <td>66.927016</td>\n",
       "      <td>10.360302</td>\n",
       "      <td>0.792826</td>\n",
       "      <td>16.525686</td>\n",
       "      <td>2.055292</td>\n",
       "      <td>...</td>\n",
       "      <td>14.027298</td>\n",
       "      <td>-499.838632</td>\n",
       "      <td>11.953070</td>\n",
       "      <td>-501.053894</td>\n",
       "      <td>9.925709</td>\n",
       "      <td>-501.686727</td>\n",
       "      <td>7.894242</td>\n",
       "      <td>-500.356035</td>\n",
       "      <td>13.996647</td>\n",
       "      <td>-601.496691</td>\n",
       "    </tr>\n",
       "  </tbody>\n",
       "</table>\n",
       "<p>5 rows × 87 columns</p>\n",
       "</div>"
      ],
      "text/plain": [
       "                  date  final.output.concentrate_ag  \\\n",
       "0  2016-01-15 00:00:00                     6.055403   \n",
       "1  2016-01-15 01:00:00                     6.029369   \n",
       "2  2016-01-15 02:00:00                     6.055926   \n",
       "3  2016-01-15 03:00:00                     6.047977   \n",
       "4  2016-01-15 04:00:00                     6.148599   \n",
       "\n",
       "   final.output.concentrate_pb  final.output.concentrate_sol  \\\n",
       "0                     9.889648                      5.507324   \n",
       "1                     9.968944                      5.257781   \n",
       "2                    10.213995                      5.383759   \n",
       "3                     9.977019                      4.858634   \n",
       "4                    10.142511                      4.939416   \n",
       "\n",
       "   final.output.concentrate_au  final.output.recovery  final.output.tail_ag  \\\n",
       "0                    42.192020              70.541216             10.411962   \n",
       "1                    42.701629              69.266198             10.462676   \n",
       "2                    42.657501              68.116445             10.507046   \n",
       "3                    42.689819              68.347543             10.422762   \n",
       "4                    42.774141              66.927016             10.360302   \n",
       "\n",
       "   final.output.tail_pb  final.output.tail_sol  final.output.tail_au  ...  \\\n",
       "0              0.895447              16.904297              2.143149  ...   \n",
       "1              0.927452              16.634514              2.224930  ...   \n",
       "2              0.953716              16.208849              2.257889  ...   \n",
       "3              0.883763              16.532835              2.146849  ...   \n",
       "4              0.792826              16.525686              2.055292  ...   \n",
       "\n",
       "   secondary_cleaner.state.floatbank4_a_air  \\\n",
       "0                                 14.016835   \n",
       "1                                 13.992281   \n",
       "2                                 14.015015   \n",
       "3                                 14.036510   \n",
       "4                                 14.027298   \n",
       "\n",
       "   secondary_cleaner.state.floatbank4_a_level  \\\n",
       "0                                 -502.488007   \n",
       "1                                 -505.503262   \n",
       "2                                 -502.520901   \n",
       "3                                 -500.857308   \n",
       "4                                 -499.838632   \n",
       "\n",
       "   secondary_cleaner.state.floatbank4_b_air  \\\n",
       "0                                 12.099931   \n",
       "1                                 11.950531   \n",
       "2                                 11.912783   \n",
       "3                                 11.999550   \n",
       "4                                 11.953070   \n",
       "\n",
       "   secondary_cleaner.state.floatbank4_b_level  \\\n",
       "0                                 -504.715942   \n",
       "1                                 -501.331529   \n",
       "2                                 -501.133383   \n",
       "3                                 -501.193686   \n",
       "4                                 -501.053894   \n",
       "\n",
       "   secondary_cleaner.state.floatbank5_a_air  \\\n",
       "0                                  9.925633   \n",
       "1                                 10.039245   \n",
       "2                                 10.070913   \n",
       "3                                  9.970366   \n",
       "4                                  9.925709   \n",
       "\n",
       "   secondary_cleaner.state.floatbank5_a_level  \\\n",
       "0                                 -498.310211   \n",
       "1                                 -500.169983   \n",
       "2                                 -500.129135   \n",
       "3                                 -499.201640   \n",
       "4                                 -501.686727   \n",
       "\n",
       "   secondary_cleaner.state.floatbank5_b_air  \\\n",
       "0                                  8.079666   \n",
       "1                                  7.984757   \n",
       "2                                  8.013877   \n",
       "3                                  7.977324   \n",
       "4                                  7.894242   \n",
       "\n",
       "   secondary_cleaner.state.floatbank5_b_level  \\\n",
       "0                                 -500.470978   \n",
       "1                                 -500.582168   \n",
       "2                                 -500.517572   \n",
       "3                                 -500.255908   \n",
       "4                                 -500.356035   \n",
       "\n",
       "   secondary_cleaner.state.floatbank6_a_air  \\\n",
       "0                                 14.151341   \n",
       "1                                 13.998353   \n",
       "2                                 14.028663   \n",
       "3                                 14.005551   \n",
       "4                                 13.996647   \n",
       "\n",
       "   secondary_cleaner.state.floatbank6_a_level  \n",
       "0                                 -605.841980  \n",
       "1                                 -599.787184  \n",
       "2                                 -601.427363  \n",
       "3                                 -599.996129  \n",
       "4                                 -601.496691  \n",
       "\n",
       "[5 rows x 87 columns]"
      ]
     },
     "metadata": {},
     "output_type": "display_data"
    },
    {
     "data": {
      "text/html": [
       "<div>\n",
       "<style scoped>\n",
       "    .dataframe tbody tr th:only-of-type {\n",
       "        vertical-align: middle;\n",
       "    }\n",
       "\n",
       "    .dataframe tbody tr th {\n",
       "        vertical-align: top;\n",
       "    }\n",
       "\n",
       "    .dataframe thead th {\n",
       "        text-align: right;\n",
       "    }\n",
       "</style>\n",
       "<table border=\"1\" class=\"dataframe\">\n",
       "  <thead>\n",
       "    <tr style=\"text-align: right;\">\n",
       "      <th></th>\n",
       "      <th>date</th>\n",
       "      <th>primary_cleaner.input.sulfate</th>\n",
       "      <th>primary_cleaner.input.depressant</th>\n",
       "      <th>primary_cleaner.input.feed_size</th>\n",
       "      <th>primary_cleaner.input.xanthate</th>\n",
       "      <th>primary_cleaner.state.floatbank8_a_air</th>\n",
       "      <th>primary_cleaner.state.floatbank8_a_level</th>\n",
       "      <th>primary_cleaner.state.floatbank8_b_air</th>\n",
       "      <th>primary_cleaner.state.floatbank8_b_level</th>\n",
       "      <th>primary_cleaner.state.floatbank8_c_air</th>\n",
       "      <th>...</th>\n",
       "      <th>secondary_cleaner.state.floatbank4_a_air</th>\n",
       "      <th>secondary_cleaner.state.floatbank4_a_level</th>\n",
       "      <th>secondary_cleaner.state.floatbank4_b_air</th>\n",
       "      <th>secondary_cleaner.state.floatbank4_b_level</th>\n",
       "      <th>secondary_cleaner.state.floatbank5_a_air</th>\n",
       "      <th>secondary_cleaner.state.floatbank5_a_level</th>\n",
       "      <th>secondary_cleaner.state.floatbank5_b_air</th>\n",
       "      <th>secondary_cleaner.state.floatbank5_b_level</th>\n",
       "      <th>secondary_cleaner.state.floatbank6_a_air</th>\n",
       "      <th>secondary_cleaner.state.floatbank6_a_level</th>\n",
       "    </tr>\n",
       "  </thead>\n",
       "  <tbody>\n",
       "    <tr>\n",
       "      <td>0</td>\n",
       "      <td>2016-09-01 00:59:59</td>\n",
       "      <td>210.800909</td>\n",
       "      <td>14.993118</td>\n",
       "      <td>8.080000</td>\n",
       "      <td>1.005021</td>\n",
       "      <td>1398.981301</td>\n",
       "      <td>-500.225577</td>\n",
       "      <td>1399.144926</td>\n",
       "      <td>-499.919735</td>\n",
       "      <td>1400.102998</td>\n",
       "      <td>...</td>\n",
       "      <td>12.023554</td>\n",
       "      <td>-497.795834</td>\n",
       "      <td>8.016656</td>\n",
       "      <td>-501.289139</td>\n",
       "      <td>7.946562</td>\n",
       "      <td>-432.317850</td>\n",
       "      <td>4.872511</td>\n",
       "      <td>-500.037437</td>\n",
       "      <td>26.705889</td>\n",
       "      <td>-499.709414</td>\n",
       "    </tr>\n",
       "    <tr>\n",
       "      <td>1</td>\n",
       "      <td>2016-09-01 01:59:59</td>\n",
       "      <td>215.392455</td>\n",
       "      <td>14.987471</td>\n",
       "      <td>8.080000</td>\n",
       "      <td>0.990469</td>\n",
       "      <td>1398.777912</td>\n",
       "      <td>-500.057435</td>\n",
       "      <td>1398.055362</td>\n",
       "      <td>-499.778182</td>\n",
       "      <td>1396.151033</td>\n",
       "      <td>...</td>\n",
       "      <td>12.058140</td>\n",
       "      <td>-498.695773</td>\n",
       "      <td>8.130979</td>\n",
       "      <td>-499.634209</td>\n",
       "      <td>7.958270</td>\n",
       "      <td>-525.839648</td>\n",
       "      <td>4.878850</td>\n",
       "      <td>-500.162375</td>\n",
       "      <td>25.019940</td>\n",
       "      <td>-499.819438</td>\n",
       "    </tr>\n",
       "    <tr>\n",
       "      <td>2</td>\n",
       "      <td>2016-09-01 02:59:59</td>\n",
       "      <td>215.259946</td>\n",
       "      <td>12.884934</td>\n",
       "      <td>7.786667</td>\n",
       "      <td>0.996043</td>\n",
       "      <td>1398.493666</td>\n",
       "      <td>-500.868360</td>\n",
       "      <td>1398.860436</td>\n",
       "      <td>-499.764529</td>\n",
       "      <td>1398.075709</td>\n",
       "      <td>...</td>\n",
       "      <td>11.962366</td>\n",
       "      <td>-498.767484</td>\n",
       "      <td>8.096893</td>\n",
       "      <td>-500.827423</td>\n",
       "      <td>8.071056</td>\n",
       "      <td>-500.801673</td>\n",
       "      <td>4.905125</td>\n",
       "      <td>-499.828510</td>\n",
       "      <td>24.994862</td>\n",
       "      <td>-500.622559</td>\n",
       "    </tr>\n",
       "    <tr>\n",
       "      <td>3</td>\n",
       "      <td>2016-09-01 03:59:59</td>\n",
       "      <td>215.336236</td>\n",
       "      <td>12.006805</td>\n",
       "      <td>7.640000</td>\n",
       "      <td>0.863514</td>\n",
       "      <td>1399.618111</td>\n",
       "      <td>-498.863574</td>\n",
       "      <td>1397.440120</td>\n",
       "      <td>-499.211024</td>\n",
       "      <td>1400.129303</td>\n",
       "      <td>...</td>\n",
       "      <td>12.033091</td>\n",
       "      <td>-498.350935</td>\n",
       "      <td>8.074946</td>\n",
       "      <td>-499.474407</td>\n",
       "      <td>7.897085</td>\n",
       "      <td>-500.868509</td>\n",
       "      <td>4.931400</td>\n",
       "      <td>-499.963623</td>\n",
       "      <td>24.948919</td>\n",
       "      <td>-498.709987</td>\n",
       "    </tr>\n",
       "    <tr>\n",
       "      <td>4</td>\n",
       "      <td>2016-09-01 04:59:59</td>\n",
       "      <td>199.099327</td>\n",
       "      <td>10.682530</td>\n",
       "      <td>7.530000</td>\n",
       "      <td>0.805575</td>\n",
       "      <td>1401.268123</td>\n",
       "      <td>-500.808305</td>\n",
       "      <td>1398.128818</td>\n",
       "      <td>-499.504543</td>\n",
       "      <td>1402.172226</td>\n",
       "      <td>...</td>\n",
       "      <td>12.025367</td>\n",
       "      <td>-500.786497</td>\n",
       "      <td>8.054678</td>\n",
       "      <td>-500.397500</td>\n",
       "      <td>8.107890</td>\n",
       "      <td>-509.526725</td>\n",
       "      <td>4.957674</td>\n",
       "      <td>-500.360026</td>\n",
       "      <td>25.003331</td>\n",
       "      <td>-500.856333</td>\n",
       "    </tr>\n",
       "  </tbody>\n",
       "</table>\n",
       "<p>5 rows × 53 columns</p>\n",
       "</div>"
      ],
      "text/plain": [
       "                  date  primary_cleaner.input.sulfate  \\\n",
       "0  2016-09-01 00:59:59                     210.800909   \n",
       "1  2016-09-01 01:59:59                     215.392455   \n",
       "2  2016-09-01 02:59:59                     215.259946   \n",
       "3  2016-09-01 03:59:59                     215.336236   \n",
       "4  2016-09-01 04:59:59                     199.099327   \n",
       "\n",
       "   primary_cleaner.input.depressant  primary_cleaner.input.feed_size  \\\n",
       "0                         14.993118                         8.080000   \n",
       "1                         14.987471                         8.080000   \n",
       "2                         12.884934                         7.786667   \n",
       "3                         12.006805                         7.640000   \n",
       "4                         10.682530                         7.530000   \n",
       "\n",
       "   primary_cleaner.input.xanthate  primary_cleaner.state.floatbank8_a_air  \\\n",
       "0                        1.005021                             1398.981301   \n",
       "1                        0.990469                             1398.777912   \n",
       "2                        0.996043                             1398.493666   \n",
       "3                        0.863514                             1399.618111   \n",
       "4                        0.805575                             1401.268123   \n",
       "\n",
       "   primary_cleaner.state.floatbank8_a_level  \\\n",
       "0                               -500.225577   \n",
       "1                               -500.057435   \n",
       "2                               -500.868360   \n",
       "3                               -498.863574   \n",
       "4                               -500.808305   \n",
       "\n",
       "   primary_cleaner.state.floatbank8_b_air  \\\n",
       "0                             1399.144926   \n",
       "1                             1398.055362   \n",
       "2                             1398.860436   \n",
       "3                             1397.440120   \n",
       "4                             1398.128818   \n",
       "\n",
       "   primary_cleaner.state.floatbank8_b_level  \\\n",
       "0                               -499.919735   \n",
       "1                               -499.778182   \n",
       "2                               -499.764529   \n",
       "3                               -499.211024   \n",
       "4                               -499.504543   \n",
       "\n",
       "   primary_cleaner.state.floatbank8_c_air  ...  \\\n",
       "0                             1400.102998  ...   \n",
       "1                             1396.151033  ...   \n",
       "2                             1398.075709  ...   \n",
       "3                             1400.129303  ...   \n",
       "4                             1402.172226  ...   \n",
       "\n",
       "   secondary_cleaner.state.floatbank4_a_air  \\\n",
       "0                                 12.023554   \n",
       "1                                 12.058140   \n",
       "2                                 11.962366   \n",
       "3                                 12.033091   \n",
       "4                                 12.025367   \n",
       "\n",
       "   secondary_cleaner.state.floatbank4_a_level  \\\n",
       "0                                 -497.795834   \n",
       "1                                 -498.695773   \n",
       "2                                 -498.767484   \n",
       "3                                 -498.350935   \n",
       "4                                 -500.786497   \n",
       "\n",
       "   secondary_cleaner.state.floatbank4_b_air  \\\n",
       "0                                  8.016656   \n",
       "1                                  8.130979   \n",
       "2                                  8.096893   \n",
       "3                                  8.074946   \n",
       "4                                  8.054678   \n",
       "\n",
       "   secondary_cleaner.state.floatbank4_b_level  \\\n",
       "0                                 -501.289139   \n",
       "1                                 -499.634209   \n",
       "2                                 -500.827423   \n",
       "3                                 -499.474407   \n",
       "4                                 -500.397500   \n",
       "\n",
       "   secondary_cleaner.state.floatbank5_a_air  \\\n",
       "0                                  7.946562   \n",
       "1                                  7.958270   \n",
       "2                                  8.071056   \n",
       "3                                  7.897085   \n",
       "4                                  8.107890   \n",
       "\n",
       "   secondary_cleaner.state.floatbank5_a_level  \\\n",
       "0                                 -432.317850   \n",
       "1                                 -525.839648   \n",
       "2                                 -500.801673   \n",
       "3                                 -500.868509   \n",
       "4                                 -509.526725   \n",
       "\n",
       "   secondary_cleaner.state.floatbank5_b_air  \\\n",
       "0                                  4.872511   \n",
       "1                                  4.878850   \n",
       "2                                  4.905125   \n",
       "3                                  4.931400   \n",
       "4                                  4.957674   \n",
       "\n",
       "   secondary_cleaner.state.floatbank5_b_level  \\\n",
       "0                                 -500.037437   \n",
       "1                                 -500.162375   \n",
       "2                                 -499.828510   \n",
       "3                                 -499.963623   \n",
       "4                                 -500.360026   \n",
       "\n",
       "   secondary_cleaner.state.floatbank6_a_air  \\\n",
       "0                                 26.705889   \n",
       "1                                 25.019940   \n",
       "2                                 24.994862   \n",
       "3                                 24.948919   \n",
       "4                                 25.003331   \n",
       "\n",
       "   secondary_cleaner.state.floatbank6_a_level  \n",
       "0                                 -499.709414  \n",
       "1                                 -499.819438  \n",
       "2                                 -500.622559  \n",
       "3                                 -498.709987  \n",
       "4                                 -500.856333  \n",
       "\n",
       "[5 rows x 53 columns]"
      ]
     },
     "metadata": {},
     "output_type": "display_data"
    },
    {
     "data": {
      "text/html": [
       "<div>\n",
       "<style scoped>\n",
       "    .dataframe tbody tr th:only-of-type {\n",
       "        vertical-align: middle;\n",
       "    }\n",
       "\n",
       "    .dataframe tbody tr th {\n",
       "        vertical-align: top;\n",
       "    }\n",
       "\n",
       "    .dataframe thead th {\n",
       "        text-align: right;\n",
       "    }\n",
       "</style>\n",
       "<table border=\"1\" class=\"dataframe\">\n",
       "  <thead>\n",
       "    <tr style=\"text-align: right;\">\n",
       "      <th></th>\n",
       "      <th>date</th>\n",
       "      <th>final.output.concentrate_ag</th>\n",
       "      <th>final.output.concentrate_pb</th>\n",
       "      <th>final.output.concentrate_sol</th>\n",
       "      <th>final.output.concentrate_au</th>\n",
       "      <th>final.output.recovery</th>\n",
       "      <th>final.output.tail_ag</th>\n",
       "      <th>final.output.tail_pb</th>\n",
       "      <th>final.output.tail_sol</th>\n",
       "      <th>final.output.tail_au</th>\n",
       "      <th>...</th>\n",
       "      <th>secondary_cleaner.state.floatbank4_a_air</th>\n",
       "      <th>secondary_cleaner.state.floatbank4_a_level</th>\n",
       "      <th>secondary_cleaner.state.floatbank4_b_air</th>\n",
       "      <th>secondary_cleaner.state.floatbank4_b_level</th>\n",
       "      <th>secondary_cleaner.state.floatbank5_a_air</th>\n",
       "      <th>secondary_cleaner.state.floatbank5_a_level</th>\n",
       "      <th>secondary_cleaner.state.floatbank5_b_air</th>\n",
       "      <th>secondary_cleaner.state.floatbank5_b_level</th>\n",
       "      <th>secondary_cleaner.state.floatbank6_a_air</th>\n",
       "      <th>secondary_cleaner.state.floatbank6_a_level</th>\n",
       "    </tr>\n",
       "  </thead>\n",
       "  <tbody>\n",
       "    <tr>\n",
       "      <td>0</td>\n",
       "      <td>2016-01-15 00:00:00</td>\n",
       "      <td>6.055403</td>\n",
       "      <td>9.889648</td>\n",
       "      <td>5.507324</td>\n",
       "      <td>42.192020</td>\n",
       "      <td>70.541216</td>\n",
       "      <td>10.411962</td>\n",
       "      <td>0.895447</td>\n",
       "      <td>16.904297</td>\n",
       "      <td>2.143149</td>\n",
       "      <td>...</td>\n",
       "      <td>14.016835</td>\n",
       "      <td>-502.488007</td>\n",
       "      <td>12.099931</td>\n",
       "      <td>-504.715942</td>\n",
       "      <td>9.925633</td>\n",
       "      <td>-498.310211</td>\n",
       "      <td>8.079666</td>\n",
       "      <td>-500.470978</td>\n",
       "      <td>14.151341</td>\n",
       "      <td>-605.841980</td>\n",
       "    </tr>\n",
       "    <tr>\n",
       "      <td>1</td>\n",
       "      <td>2016-01-15 01:00:00</td>\n",
       "      <td>6.029369</td>\n",
       "      <td>9.968944</td>\n",
       "      <td>5.257781</td>\n",
       "      <td>42.701629</td>\n",
       "      <td>69.266198</td>\n",
       "      <td>10.462676</td>\n",
       "      <td>0.927452</td>\n",
       "      <td>16.634514</td>\n",
       "      <td>2.224930</td>\n",
       "      <td>...</td>\n",
       "      <td>13.992281</td>\n",
       "      <td>-505.503262</td>\n",
       "      <td>11.950531</td>\n",
       "      <td>-501.331529</td>\n",
       "      <td>10.039245</td>\n",
       "      <td>-500.169983</td>\n",
       "      <td>7.984757</td>\n",
       "      <td>-500.582168</td>\n",
       "      <td>13.998353</td>\n",
       "      <td>-599.787184</td>\n",
       "    </tr>\n",
       "    <tr>\n",
       "      <td>2</td>\n",
       "      <td>2016-01-15 02:00:00</td>\n",
       "      <td>6.055926</td>\n",
       "      <td>10.213995</td>\n",
       "      <td>5.383759</td>\n",
       "      <td>42.657501</td>\n",
       "      <td>68.116445</td>\n",
       "      <td>10.507046</td>\n",
       "      <td>0.953716</td>\n",
       "      <td>16.208849</td>\n",
       "      <td>2.257889</td>\n",
       "      <td>...</td>\n",
       "      <td>14.015015</td>\n",
       "      <td>-502.520901</td>\n",
       "      <td>11.912783</td>\n",
       "      <td>-501.133383</td>\n",
       "      <td>10.070913</td>\n",
       "      <td>-500.129135</td>\n",
       "      <td>8.013877</td>\n",
       "      <td>-500.517572</td>\n",
       "      <td>14.028663</td>\n",
       "      <td>-601.427363</td>\n",
       "    </tr>\n",
       "    <tr>\n",
       "      <td>3</td>\n",
       "      <td>2016-01-15 03:00:00</td>\n",
       "      <td>6.047977</td>\n",
       "      <td>9.977019</td>\n",
       "      <td>4.858634</td>\n",
       "      <td>42.689819</td>\n",
       "      <td>68.347543</td>\n",
       "      <td>10.422762</td>\n",
       "      <td>0.883763</td>\n",
       "      <td>16.532835</td>\n",
       "      <td>2.146849</td>\n",
       "      <td>...</td>\n",
       "      <td>14.036510</td>\n",
       "      <td>-500.857308</td>\n",
       "      <td>11.999550</td>\n",
       "      <td>-501.193686</td>\n",
       "      <td>9.970366</td>\n",
       "      <td>-499.201640</td>\n",
       "      <td>7.977324</td>\n",
       "      <td>-500.255908</td>\n",
       "      <td>14.005551</td>\n",
       "      <td>-599.996129</td>\n",
       "    </tr>\n",
       "    <tr>\n",
       "      <td>4</td>\n",
       "      <td>2016-01-15 04:00:00</td>\n",
       "      <td>6.148599</td>\n",
       "      <td>10.142511</td>\n",
       "      <td>4.939416</td>\n",
       "      <td>42.774141</td>\n",
       "      <td>66.927016</td>\n",
       "      <td>10.360302</td>\n",
       "      <td>0.792826</td>\n",
       "      <td>16.525686</td>\n",
       "      <td>2.055292</td>\n",
       "      <td>...</td>\n",
       "      <td>14.027298</td>\n",
       "      <td>-499.838632</td>\n",
       "      <td>11.953070</td>\n",
       "      <td>-501.053894</td>\n",
       "      <td>9.925709</td>\n",
       "      <td>-501.686727</td>\n",
       "      <td>7.894242</td>\n",
       "      <td>-500.356035</td>\n",
       "      <td>13.996647</td>\n",
       "      <td>-601.496691</td>\n",
       "    </tr>\n",
       "  </tbody>\n",
       "</table>\n",
       "<p>5 rows × 87 columns</p>\n",
       "</div>"
      ],
      "text/plain": [
       "                  date  final.output.concentrate_ag  \\\n",
       "0  2016-01-15 00:00:00                     6.055403   \n",
       "1  2016-01-15 01:00:00                     6.029369   \n",
       "2  2016-01-15 02:00:00                     6.055926   \n",
       "3  2016-01-15 03:00:00                     6.047977   \n",
       "4  2016-01-15 04:00:00                     6.148599   \n",
       "\n",
       "   final.output.concentrate_pb  final.output.concentrate_sol  \\\n",
       "0                     9.889648                      5.507324   \n",
       "1                     9.968944                      5.257781   \n",
       "2                    10.213995                      5.383759   \n",
       "3                     9.977019                      4.858634   \n",
       "4                    10.142511                      4.939416   \n",
       "\n",
       "   final.output.concentrate_au  final.output.recovery  final.output.tail_ag  \\\n",
       "0                    42.192020              70.541216             10.411962   \n",
       "1                    42.701629              69.266198             10.462676   \n",
       "2                    42.657501              68.116445             10.507046   \n",
       "3                    42.689819              68.347543             10.422762   \n",
       "4                    42.774141              66.927016             10.360302   \n",
       "\n",
       "   final.output.tail_pb  final.output.tail_sol  final.output.tail_au  ...  \\\n",
       "0              0.895447              16.904297              2.143149  ...   \n",
       "1              0.927452              16.634514              2.224930  ...   \n",
       "2              0.953716              16.208849              2.257889  ...   \n",
       "3              0.883763              16.532835              2.146849  ...   \n",
       "4              0.792826              16.525686              2.055292  ...   \n",
       "\n",
       "   secondary_cleaner.state.floatbank4_a_air  \\\n",
       "0                                 14.016835   \n",
       "1                                 13.992281   \n",
       "2                                 14.015015   \n",
       "3                                 14.036510   \n",
       "4                                 14.027298   \n",
       "\n",
       "   secondary_cleaner.state.floatbank4_a_level  \\\n",
       "0                                 -502.488007   \n",
       "1                                 -505.503262   \n",
       "2                                 -502.520901   \n",
       "3                                 -500.857308   \n",
       "4                                 -499.838632   \n",
       "\n",
       "   secondary_cleaner.state.floatbank4_b_air  \\\n",
       "0                                 12.099931   \n",
       "1                                 11.950531   \n",
       "2                                 11.912783   \n",
       "3                                 11.999550   \n",
       "4                                 11.953070   \n",
       "\n",
       "   secondary_cleaner.state.floatbank4_b_level  \\\n",
       "0                                 -504.715942   \n",
       "1                                 -501.331529   \n",
       "2                                 -501.133383   \n",
       "3                                 -501.193686   \n",
       "4                                 -501.053894   \n",
       "\n",
       "   secondary_cleaner.state.floatbank5_a_air  \\\n",
       "0                                  9.925633   \n",
       "1                                 10.039245   \n",
       "2                                 10.070913   \n",
       "3                                  9.970366   \n",
       "4                                  9.925709   \n",
       "\n",
       "   secondary_cleaner.state.floatbank5_a_level  \\\n",
       "0                                 -498.310211   \n",
       "1                                 -500.169983   \n",
       "2                                 -500.129135   \n",
       "3                                 -499.201640   \n",
       "4                                 -501.686727   \n",
       "\n",
       "   secondary_cleaner.state.floatbank5_b_air  \\\n",
       "0                                  8.079666   \n",
       "1                                  7.984757   \n",
       "2                                  8.013877   \n",
       "3                                  7.977324   \n",
       "4                                  7.894242   \n",
       "\n",
       "   secondary_cleaner.state.floatbank5_b_level  \\\n",
       "0                                 -500.470978   \n",
       "1                                 -500.582168   \n",
       "2                                 -500.517572   \n",
       "3                                 -500.255908   \n",
       "4                                 -500.356035   \n",
       "\n",
       "   secondary_cleaner.state.floatbank6_a_air  \\\n",
       "0                                 14.151341   \n",
       "1                                 13.998353   \n",
       "2                                 14.028663   \n",
       "3                                 14.005551   \n",
       "4                                 13.996647   \n",
       "\n",
       "   secondary_cleaner.state.floatbank6_a_level  \n",
       "0                                 -605.841980  \n",
       "1                                 -599.787184  \n",
       "2                                 -601.427363  \n",
       "3                                 -599.996129  \n",
       "4                                 -601.496691  \n",
       "\n",
       "[5 rows x 87 columns]"
      ]
     },
     "metadata": {},
     "output_type": "display_data"
    },
    {
     "data": {
      "text/plain": [
       "((14149, 87), (5290, 53), (19439, 87))"
      ]
     },
     "execution_count": 2,
     "metadata": {},
     "output_type": "execute_result"
    }
   ],
   "source": [
    "train = pd.read_csv('/datasets/gold_recovery_train_new.csv')\n",
    "test = pd.read_csv('/datasets/gold_recovery_test_new.csv')\n",
    "full = pd.read_csv('/datasets/gold_recovery_full_new.csv')\n",
    "display(train.head(), test.head(), full.head())\n",
    "train.shape, test.shape, full.shape"
   ]
  },
  {
   "cell_type": "markdown",
   "metadata": {},
   "source": [
    "Необходимо проверить, что эффективность обогащения рассчитана правильно. Вычислим её на обучающей выборке для признака rougher.output.recovery. Также, найдем MAE между расчётами и значением признака."
   ]
  },
  {
   "cell_type": "markdown",
   "metadata": {},
   "source": [
    "Напишем функцию для расчета эффективности и сохраним наши расчеты"
   ]
  },
  {
   "cell_type": "code",
   "execution_count": 3,
   "metadata": {},
   "outputs": [],
   "source": [
    "def recovery(train):\n",
    "    C = train['rougher.output.concentrate_au']\n",
    "    F = train['rougher.input.feed_au']\n",
    "    T = train['rougher.output.tail_au']\n",
    "    rec = (C*(F-T))/(F*(C-T)) * 100\n",
    "    return rec\n",
    "\n",
    "recovery_estimated = train.apply(recovery, axis=1)"
   ]
  },
  {
   "cell_type": "markdown",
   "metadata": {},
   "source": [
    "MAE между расчетами и значением признака"
   ]
  },
  {
   "cell_type": "code",
   "execution_count": 4,
   "metadata": {},
   "outputs": [
    {
     "data": {
      "text/plain": [
       "2.1207417887083724e-28"
      ]
     },
     "execution_count": 4,
     "metadata": {},
     "output_type": "execute_result"
    }
   ],
   "source": [
    "mean_squared_error(recovery_estimated, train['rougher.output.recovery'])"
   ]
  },
  {
   "cell_type": "markdown",
   "metadata": {},
   "source": [
    "**Вывод:** MAE практически нулевая. Это говорит о том, что эффективность обогащения рассчитана правильно."
   ]
  },
  {
   "cell_type": "markdown",
   "metadata": {},
   "source": [
    "Проанализируем признаки, недоступные в тестовой выборке"
   ]
  },
  {
   "cell_type": "code",
   "execution_count": 5,
   "metadata": {},
   "outputs": [
    {
     "data": {
      "text/plain": [
       "{'final.output.concentrate_ag',\n",
       " 'final.output.concentrate_au',\n",
       " 'final.output.concentrate_pb',\n",
       " 'final.output.concentrate_sol',\n",
       " 'final.output.recovery',\n",
       " 'final.output.tail_ag',\n",
       " 'final.output.tail_au',\n",
       " 'final.output.tail_pb',\n",
       " 'final.output.tail_sol',\n",
       " 'primary_cleaner.output.concentrate_ag',\n",
       " 'primary_cleaner.output.concentrate_au',\n",
       " 'primary_cleaner.output.concentrate_pb',\n",
       " 'primary_cleaner.output.concentrate_sol',\n",
       " 'primary_cleaner.output.tail_ag',\n",
       " 'primary_cleaner.output.tail_au',\n",
       " 'primary_cleaner.output.tail_pb',\n",
       " 'primary_cleaner.output.tail_sol',\n",
       " 'rougher.calculation.au_pb_ratio',\n",
       " 'rougher.calculation.floatbank10_sulfate_to_au_feed',\n",
       " 'rougher.calculation.floatbank11_sulfate_to_au_feed',\n",
       " 'rougher.calculation.sulfate_to_au_concentrate',\n",
       " 'rougher.output.concentrate_ag',\n",
       " 'rougher.output.concentrate_au',\n",
       " 'rougher.output.concentrate_pb',\n",
       " 'rougher.output.concentrate_sol',\n",
       " 'rougher.output.recovery',\n",
       " 'rougher.output.tail_ag',\n",
       " 'rougher.output.tail_au',\n",
       " 'rougher.output.tail_pb',\n",
       " 'rougher.output.tail_sol',\n",
       " 'secondary_cleaner.output.tail_ag',\n",
       " 'secondary_cleaner.output.tail_au',\n",
       " 'secondary_cleaner.output.tail_pb',\n",
       " 'secondary_cleaner.output.tail_sol'}"
      ]
     },
     "execution_count": 5,
     "metadata": {},
     "output_type": "execute_result"
    }
   ],
   "source": [
    "set(train.columns) - set(test.columns)"
   ]
  },
  {
   "cell_type": "markdown",
   "metadata": {},
   "source": [
    "Признаки, недоступные в тестовой выборке относятся к параметрам продукта (иными словами выходным параметрам) и расчетным характеристикам"
   ]
  },
  {
   "cell_type": "markdown",
   "metadata": {},
   "source": [
    "### Предобработка данных"
   ]
  },
  {
   "cell_type": "markdown",
   "metadata": {},
   "source": [
    "Переведем дату в соответствующий тип"
   ]
  },
  {
   "cell_type": "code",
   "execution_count": 6,
   "metadata": {},
   "outputs": [],
   "source": [
    "train['date'] = pd.to_datetime(train['date'], format='%Y-%m-%d')\n",
    "test['date'] = pd.to_datetime(test['date'], format='%Y-%m-%d')\n",
    "full['date'] = pd.to_datetime(full['date'], format='%Y-%m-%d')"
   ]
  },
  {
   "cell_type": "markdown",
   "metadata": {},
   "source": [
    "Необходимо избавиться от пропусков. Так как соседние по времени параметры часто похожи, а данные отсортированны по времени (столбец date), то можно заполнить пропуски с помощью fillna c параметром method='ffill'"
   ]
  },
  {
   "cell_type": "code",
   "execution_count": 7,
   "metadata": {},
   "outputs": [],
   "source": [
    "train = train.fillna(method='ffill')\n",
    "test = test.fillna(method='ffill')\n",
    "full = full.fillna(method='ffill')"
   ]
  },
  {
   "cell_type": "markdown",
   "metadata": {},
   "source": [
    "## Анализ данных"
   ]
  },
  {
   "cell_type": "markdown",
   "metadata": {},
   "source": [
    "### Концентрация металлов (Au, Ag, Pb) на различных этапах очистки"
   ]
  },
  {
   "cell_type": "code",
   "execution_count": 8,
   "metadata": {},
   "outputs": [
    {
     "data": {
      "image/png": "[encoded data removed]",
      "text/plain": [
       "<Figure size 432x288 with 1 Axes>"
      ]
     },
     "metadata": {
      "needs_background": "light"
     },
     "output_type": "display_data"
    },
    {
     "data": {
      "image/png": "[encoded data removed]",
      "text/plain": [
       "<Figure size 432x288 with 1 Axes>"
      ]
     },
     "metadata": {
      "needs_background": "light"
     },
     "output_type": "display_data"
    },
    {
     "data": {
      "image/png": "[encoded data removed]",
      "text/plain": [
       "<Figure size 432x288 with 1 Axes>"
      ]
     },
     "metadata": {
      "needs_background": "light"
     },
     "output_type": "display_data"
    },
    {
     "data": {
      "image/png": "[encoded data removed]",
      "text/plain": [
       "<Figure size 432x288 with 1 Axes>"
      ]
     },
     "metadata": {
      "needs_background": "light"
     },
     "output_type": "display_data"
    }
   ],
   "source": [
    "processes=['rougher.input.feed', 'rougher.output.concentrate',\n",
    "         'primary_cleaner.output.concentrate', 'final.output.concentrate']\n",
    "metals=['au', 'ag', 'pb']\n",
    "for process in processes:\n",
    "    for metal in metals:\n",
    "        sns.distplot(train[process+'_'+metal], label=metal)\n",
    "        plt.legend(title='metal')\n",
    "        plt.title(process)\n",
    "        plt.xlabel('')\n",
    "    plt.show()"
   ]
  },
  {
   "cell_type": "markdown",
   "metadata": {},
   "source": [
    "**Вывод:** Из графиков видно, что в процессе очистки концентрация золота возрастает. Концентрация дргуих металлов меняется незначительно"
   ]
  },
  {
   "cell_type": "markdown",
   "metadata": {},
   "source": [
    "### Распределения размеров гранул сырья на обучающей и тестовой выборках"
   ]
  },
  {
   "cell_type": "markdown",
   "metadata": {},
   "source": [
    "Сравним распределения размеров гранул сырья на обучающей и тестовой выборках для двух стадий: флотации и первичной очистки"
   ]
  },
  {
   "cell_type": "code",
   "execution_count": 9,
   "metadata": {},
   "outputs": [
    {
     "data": {
      "image/png": "[encoded data removed]",
      "text/plain": [
       "<Figure size 432x288 with 1 Axes>"
      ]
     },
     "metadata": {
      "needs_background": "light"
     },
     "output_type": "display_data"
    },
    {
     "data": {
      "text/plain": [
       "<matplotlib.axes._subplots.AxesSubplot at 0x7f6858d5ead0>"
      ]
     },
     "execution_count": 9,
     "metadata": {},
     "output_type": "execute_result"
    },
    {
     "data": {
      "image/png": "[encoded data removed]",
      "text/plain": [
       "<Figure size 432x288 with 1 Axes>"
      ]
     },
     "metadata": {
      "needs_background": "light"
     },
     "output_type": "display_data"
    }
   ],
   "source": [
    "sns.distplot(train['rougher.input.feed_size'])\n",
    "sns.distplot(test['rougher.input.feed_size'])\n",
    "plt.show()\n",
    "sns.distplot(train['primary_cleaner.input.feed_size'])\n",
    "sns.distplot(test['primary_cleaner.input.feed_size'])"
   ]
  },
  {
   "cell_type": "markdown",
   "metadata": {},
   "source": [
    "**Вывод:** Из графиков видно, что распределения размеров гранул сырья на обучающей и тестовой выборках практически не отличаются"
   ]
  },
  {
   "cell_type": "markdown",
   "metadata": {},
   "source": [
    "### Суммарная концентрация всех веществ"
   ]
  },
  {
   "cell_type": "markdown",
   "metadata": {},
   "source": [
    "Исследуем суммарную концентрацию всех веществ на разных стадиях: в сырье, в черновом и финальном концентратах"
   ]
  },
  {
   "cell_type": "code",
   "execution_count": 10,
   "metadata": {},
   "outputs": [
    {
     "data": {
      "image/png": "[encoded data removed]",
      "text/plain": [
       "<Figure size 432x288 with 1 Axes>"
      ]
     },
     "metadata": {
      "needs_background": "light"
     },
     "output_type": "display_data"
    },
    {
     "data": {
      "image/png": "[encoded data removed]",
      "text/plain": [
       "<Figure size 432x288 with 1 Axes>"
      ]
     },
     "metadata": {
      "needs_background": "light"
     },
     "output_type": "display_data"
    },
    {
     "data": {
      "image/png": "[encoded data removed]",
      "text/plain": [
       "<Figure size 432x288 with 1 Axes>"
      ]
     },
     "metadata": {
      "needs_background": "light"
     },
     "output_type": "display_data"
    },
    {
     "data": {
      "image/png": "[encoded data removed]",
      "text/plain": [
       "<Figure size 432x288 with 1 Axes>"
      ]
     },
     "metadata": {
      "needs_background": "light"
     },
     "output_type": "display_data"
    }
   ],
   "source": [
    "metals.append('sol')\n",
    "for process in processes:\n",
    "    sum_concentration = 0\n",
    "    for metal in metals:\n",
    "        sum_concentration += train[process+'_'+metal]\n",
    "    sns.distplot(sum_concentration)\n",
    "    plt.xlabel('')\n",
    "    plt.title(process)\n",
    "    plt.show()"
   ]
  },
  {
   "cell_type": "markdown",
   "metadata": {},
   "source": [
    "Наблюдаются нулевые аномалии в суммарных концентрациях. От них необходимо избавиться, тк в \"суммарной руде\" (золото+серебро+свинец) что-то из этого списка должно присутствовать. Наличие нуля в суммарной концентрации может свидетельствовать о неточности измерений."
   ]
  },
  {
   "cell_type": "code",
   "execution_count": 11,
   "metadata": {},
   "outputs": [],
   "source": [
    "train['sum_concentration'] = sum_concentration\n",
    "train = train.query('sum_concentration!=0')"
   ]
  },
  {
   "cell_type": "markdown",
   "metadata": {},
   "source": [
    "## Модель"
   ]
  },
  {
   "cell_type": "markdown",
   "metadata": {},
   "source": [
    "Необходимо построить модель для предсказания коэффициента восстановления золота из золотосодержащей руды"
   ]
  },
  {
   "cell_type": "markdown",
   "metadata": {},
   "source": [
    "Посмотрим еще раз на признаки, недоступные в тестовой выборке (без учета таргетов)"
   ]
  },
  {
   "cell_type": "code",
   "execution_count": 12,
   "metadata": {
    "scrolled": false
   },
   "outputs": [
    {
     "data": {
      "text/plain": [
       "{'final.output.concentrate_ag',\n",
       " 'final.output.concentrate_au',\n",
       " 'final.output.concentrate_pb',\n",
       " 'final.output.concentrate_sol',\n",
       " 'final.output.tail_ag',\n",
       " 'final.output.tail_au',\n",
       " 'final.output.tail_pb',\n",
       " 'final.output.tail_sol',\n",
       " 'primary_cleaner.output.concentrate_ag',\n",
       " 'primary_cleaner.output.concentrate_au',\n",
       " 'primary_cleaner.output.concentrate_pb',\n",
       " 'primary_cleaner.output.concentrate_sol',\n",
       " 'primary_cleaner.output.tail_ag',\n",
       " 'primary_cleaner.output.tail_au',\n",
       " 'primary_cleaner.output.tail_pb',\n",
       " 'primary_cleaner.output.tail_sol',\n",
       " 'rougher.calculation.au_pb_ratio',\n",
       " 'rougher.calculation.floatbank10_sulfate_to_au_feed',\n",
       " 'rougher.calculation.floatbank11_sulfate_to_au_feed',\n",
       " 'rougher.calculation.sulfate_to_au_concentrate',\n",
       " 'rougher.output.concentrate_ag',\n",
       " 'rougher.output.concentrate_au',\n",
       " 'rougher.output.concentrate_pb',\n",
       " 'rougher.output.concentrate_sol',\n",
       " 'rougher.output.tail_ag',\n",
       " 'rougher.output.tail_au',\n",
       " 'rougher.output.tail_pb',\n",
       " 'rougher.output.tail_sol',\n",
       " 'secondary_cleaner.output.tail_ag',\n",
       " 'secondary_cleaner.output.tail_au',\n",
       " 'secondary_cleaner.output.tail_pb',\n",
       " 'secondary_cleaner.output.tail_sol',\n",
       " 'sum_concentration'}"
      ]
     },
     "execution_count": 12,
     "metadata": {},
     "output_type": "execute_result"
    }
   ],
   "source": [
    "drop_col = set(train.drop(['final.output.recovery', 'rougher.output.recovery'],\n",
    "                          axis=1).columns)-set(test.columns)\n",
    "drop_col"
   ]
  },
  {
   "cell_type": "markdown",
   "metadata": {},
   "source": [
    "На этих признаках необходимо обучать модель, тк в проде доступны будут только они. Для расчета метрик необходимо, чтобы в тестовой выборке были таргеты. Возьмем их из общей таблицы (full)"
   ]
  },
  {
   "cell_type": "code",
   "execution_count": 13,
   "metadata": {},
   "outputs": [],
   "source": [
    "train = train.drop(drop_col, axis=1)\n",
    "date = test['date']\n",
    "test['final.output.recovery'] = full.query('date in @date')['final.output.recovery'].reset_index(drop=True)\n",
    "test['rougher.output.recovery'] = full.query('date in @date')['rougher.output.recovery'].reset_index(drop=True)"
   ]
  },
  {
   "cell_type": "markdown",
   "metadata": {},
   "source": [
    "Напишем функцию для расчета итоговой sMAPE"
   ]
  },
  {
   "cell_type": "code",
   "execution_count": 14,
   "metadata": {},
   "outputs": [],
   "source": [
    "def final_sMAPE(y_true_rougher, y_pred_rougher, y_true_final, y_pred_final, N):\n",
    "    smape_rougher = (abs(y_true_rougher-y_pred_rougher)/(abs(y_true_rougher+y_pred_rougher)/2)).sum()/N\n",
    "    smape_final = (abs(y_true_final-y_pred_final)/(abs(y_true_final+y_pred_final)/2)).sum()/N\n",
    "    return (0.25*smape_rougher + 0.75*smape_final)*100"
   ]
  },
  {
   "cell_type": "markdown",
   "metadata": {},
   "source": [
    "Разделим данные на признаки и целевые признаки"
   ]
  },
  {
   "cell_type": "code",
   "execution_count": 15,
   "metadata": {},
   "outputs": [],
   "source": [
    "features_train = train.drop(['final.output.recovery', 'rougher.output.recovery', 'date'], axis=1)\n",
    "target_rougher_train = train['rougher.output.recovery']\n",
    "target_final_train = train['final.output.recovery']\n",
    "\n",
    "features_test = test.drop(['final.output.recovery', 'rougher.output.recovery', 'date'], axis=1)\n",
    "target_rougher_test = test['rougher.output.recovery']\n",
    "target_final_test = test['final.output.recovery']"
   ]
  },
  {
   "cell_type": "markdown",
   "metadata": {},
   "source": [
    "### RandomForestRegressor"
   ]
  },
  {
   "cell_type": "markdown",
   "metadata": {},
   "source": [
    "Подберем лучшие значения гиперпараметров модели (для чернового концентрата) и обучим ее."
   ]
  },
  {
   "cell_type": "code",
   "execution_count": 16,
   "metadata": {},
   "outputs": [
    {
     "name": "stdout",
     "output_type": "stream",
     "text": [
      "CPU times: user 17min 6s, sys: 765 ms, total: 17min 7s\n",
      "Wall time: 17min 7s\n"
     ]
    },
    {
     "data": {
      "text/plain": [
       "{'max_depth': 5, 'n_estimators': 10}"
      ]
     },
     "execution_count": 16,
     "metadata": {},
     "output_type": "execute_result"
    }
   ],
   "source": [
    "%%time\n",
    "model = RandomForestRegressor()\n",
    "parametrs = {'n_estimators': range(10,51,10), 'max_depth': range(1,13, 2)}\n",
    "grid_rougher = GridSearchCV(model, parametrs, cv=5)\n",
    "grid_rougher.fit(features_train, target_rougher_train)\n",
    "grid_rougher.best_params_"
   ]
  },
  {
   "cell_type": "markdown",
   "metadata": {},
   "source": [
    "Получим предсказания для rougher"
   ]
  },
  {
   "cell_type": "code",
   "execution_count": 17,
   "metadata": {},
   "outputs": [],
   "source": [
    "predict_rougher = grid_rougher.predict(features_test)"
   ]
  },
  {
   "cell_type": "markdown",
   "metadata": {},
   "source": [
    "Подберем лучшие значения гиперпараметров модели (для финального концентрата) и обучим ее."
   ]
  },
  {
   "cell_type": "code",
   "execution_count": 18,
   "metadata": {},
   "outputs": [
    {
     "name": "stdout",
     "output_type": "stream",
     "text": [
      "CPU times: user 17min 30s, sys: 648 ms, total: 17min 30s\n",
      "Wall time: 17min 31s\n"
     ]
    },
    {
     "data": {
      "text/plain": [
       "{'max_depth': 5, 'n_estimators': 30}"
      ]
     },
     "execution_count": 18,
     "metadata": {},
     "output_type": "execute_result"
    }
   ],
   "source": [
    "%%time\n",
    "grid_final =  GridSearchCV(model, parametrs, cv=5)\n",
    "grid_final.fit(features_train, target_final_train)\n",
    "grid_final.best_params_"
   ]
  },
  {
   "cell_type": "markdown",
   "metadata": {},
   "source": [
    "Получим предсказания для final"
   ]
  },
  {
   "cell_type": "code",
   "execution_count": 19,
   "metadata": {},
   "outputs": [],
   "source": [
    "predict_final = grid_final.predict(features_test)"
   ]
  },
  {
   "cell_type": "markdown",
   "metadata": {},
   "source": [
    "Рассчитаем итоговую sMAPE для предсказаний моделей случайного леса"
   ]
  },
  {
   "cell_type": "code",
   "execution_count": 20,
   "metadata": {},
   "outputs": [
    {
     "data": {
      "text/plain": [
       "10.067026894805007"
      ]
     },
     "execution_count": 20,
     "metadata": {},
     "output_type": "execute_result"
    }
   ],
   "source": [
    "final_sMAPE(target_rougher_test, predict_rougher, target_final_test, predict_final, len(test))"
   ]
  },
  {
   "cell_type": "markdown",
   "metadata": {},
   "source": [
    "### LinearRegression"
   ]
  },
  {
   "cell_type": "markdown",
   "metadata": {},
   "source": [
    "Рассмотрим LinearRegression для чернового концентрата. Оценим ее качество кросс-валидацией"
   ]
  },
  {
   "cell_type": "code",
   "execution_count": 21,
   "metadata": {},
   "outputs": [
    {
     "data": {
      "text/plain": [
       "-0.4931182168529412"
      ]
     },
     "execution_count": 21,
     "metadata": {},
     "output_type": "execute_result"
    }
   ],
   "source": [
    "model = LinearRegression()\n",
    "scores = cross_val_score(model, features_train, target_rougher_train, cv=5)\n",
    "scores.mean()"
   ]
  },
  {
   "cell_type": "markdown",
   "metadata": {},
   "source": [
    "Обучим модель"
   ]
  },
  {
   "cell_type": "code",
   "execution_count": 22,
   "metadata": {},
   "outputs": [
    {
     "data": {
      "text/plain": [
       "LinearRegression(copy_X=True, fit_intercept=True, n_jobs=None, normalize=False)"
      ]
     },
     "execution_count": 22,
     "metadata": {},
     "output_type": "execute_result"
    }
   ],
   "source": [
    "model = LinearRegression()\n",
    "model.fit(features_train, target_rougher_train)"
   ]
  },
  {
   "cell_type": "markdown",
   "metadata": {},
   "source": [
    "Получим предсказания для rougher"
   ]
  },
  {
   "cell_type": "code",
   "execution_count": 23,
   "metadata": {},
   "outputs": [],
   "source": [
    "predict_rougher_2 = model.predict(features_test)"
   ]
  },
  {
   "cell_type": "markdown",
   "metadata": {},
   "source": [
    "Рассмотрим LinearRegression для финального концентрата. Оценим ее качество кросс-валидацией"
   ]
  },
  {
   "cell_type": "code",
   "execution_count": 24,
   "metadata": {},
   "outputs": [
    {
     "data": {
      "text/plain": [
       "-0.16605156602498955"
      ]
     },
     "execution_count": 24,
     "metadata": {},
     "output_type": "execute_result"
    }
   ],
   "source": [
    "model = LinearRegression()\n",
    "scores = cross_val_score(model, features_train, target_final_train, cv=5)\n",
    "scores.mean()"
   ]
  },
  {
   "cell_type": "markdown",
   "metadata": {},
   "source": [
    "Обучим модель"
   ]
  },
  {
   "cell_type": "code",
   "execution_count": 25,
   "metadata": {},
   "outputs": [
    {
     "data": {
      "text/plain": [
       "LinearRegression(copy_X=True, fit_intercept=True, n_jobs=None, normalize=False)"
      ]
     },
     "execution_count": 25,
     "metadata": {},
     "output_type": "execute_result"
    }
   ],
   "source": [
    "model = LinearRegression()\n",
    "model.fit(features_train, target_final_train)"
   ]
  },
  {
   "cell_type": "markdown",
   "metadata": {},
   "source": [
    "Получим предсказания для final"
   ]
  },
  {
   "cell_type": "code",
   "execution_count": 26,
   "metadata": {},
   "outputs": [],
   "source": [
    "predict_final_2 = model.predict(features_test)"
   ]
  },
  {
   "cell_type": "markdown",
   "metadata": {},
   "source": [
    "Рассчитаем итоговую sMAPE для предсказаний моделей линейной регрессии"
   ]
  },
  {
   "cell_type": "code",
   "execution_count": 28,
   "metadata": {},
   "outputs": [
    {
     "data": {
      "text/plain": [
       "9.894008661300994"
      ]
     },
     "execution_count": 28,
     "metadata": {},
     "output_type": "execute_result"
    }
   ],
   "source": [
    "final_sMAPE(target_rougher_test, predict_rougher_2, target_final_test, predict_final_2, len(test))"
   ]
  },
  {
   "cell_type": "markdown",
   "metadata": {},
   "source": [
    "## Вывод"
   ]
  },
  {
   "cell_type": "markdown",
   "metadata": {},
   "source": [
    "Результаты исследования приведены в таблице"
   ]
  },
  {
   "cell_type": "code",
   "execution_count": 30,
   "metadata": {},
   "outputs": [
    {
     "data": {
      "text/html": [
       "<div>\n",
       "<style scoped>\n",
       "    .dataframe tbody tr th:only-of-type {\n",
       "        vertical-align: middle;\n",
       "    }\n",
       "\n",
       "    .dataframe tbody tr th {\n",
       "        vertical-align: top;\n",
       "    }\n",
       "\n",
       "    .dataframe thead th {\n",
       "        text-align: right;\n",
       "    }\n",
       "</style>\n",
       "<table border=\"1\" class=\"dataframe\">\n",
       "  <thead>\n",
       "    <tr style=\"text-align: right;\">\n",
       "      <th></th>\n",
       "      <th>model</th>\n",
       "      <th>sMAPE</th>\n",
       "    </tr>\n",
       "  </thead>\n",
       "  <tbody>\n",
       "    <tr>\n",
       "      <td>0</td>\n",
       "      <td>RandomForestRegressor</td>\n",
       "      <td>10.067</td>\n",
       "    </tr>\n",
       "    <tr>\n",
       "      <td>1</td>\n",
       "      <td>LinearRegression</td>\n",
       "      <td>9.894</td>\n",
       "    </tr>\n",
       "  </tbody>\n",
       "</table>\n",
       "</div>"
      ],
      "text/plain": [
       "                   model   sMAPE\n",
       "0  RandomForestRegressor  10.067\n",
       "1       LinearRegression   9.894"
      ]
     },
     "execution_count": 30,
     "metadata": {},
     "output_type": "execute_result"
    }
   ],
   "source": [
    "pd.DataFrame({'model': ['RandomForestRegressor', ' LinearRegression'], 'sMAPE': [10.067, 9.894]})"
   ]
  },
  {
   "cell_type": "markdown",
   "metadata": {},
   "source": [
    "Для предсказания коэффициента восстановления золота из золотосодержащей руды использовались модели случайного леса и линейная регрессия. По результатам видно, что обе модели дают хорошее значение метрики sMAPE, но линейная регрессия показывает немного лучший результат. К тому же, на обучение случайного леса уходит намного больше времени, чем у линейной регрессии."
   ]
  }
 ],
 "metadata": {
  "ExecuteTimeLog": [
   {
    "duration": 709,
    "start_time": "2022-02-09T11:27:54.702Z"
   },
   {
    "duration": 286,
    "start_time": "2022-02-09T11:28:39.956Z"
   },
   {
    "duration": 2515,
    "start_time": "2022-02-09T11:29:04.852Z"
   },
   {
    "duration": 717,
    "start_time": "2022-02-09T11:29:33.829Z"
   },
   {
    "duration": 34,
    "start_time": "2022-02-09T11:29:39.902Z"
   },
   {
    "duration": 20,
    "start_time": "2022-02-09T11:36:56.866Z"
   },
   {
    "duration": 19,
    "start_time": "2022-02-09T11:37:07.549Z"
   },
   {
    "duration": 33,
    "start_time": "2022-02-09T11:37:19.458Z"
   },
   {
    "duration": 27,
    "start_time": "2022-02-09T11:37:30.560Z"
   },
   {
    "duration": 20,
    "start_time": "2022-02-09T11:37:46.906Z"
   },
   {
    "duration": 262,
    "start_time": "2022-02-09T11:38:09.838Z"
   },
   {
    "duration": 5,
    "start_time": "2022-02-09T11:38:11.684Z"
   },
   {
    "duration": 4,
    "start_time": "2022-02-09T11:38:34.853Z"
   },
   {
    "duration": 4,
    "start_time": "2022-02-09T11:38:42.354Z"
   },
   {
    "duration": 4,
    "start_time": "2022-02-09T11:38:49.767Z"
   },
   {
    "duration": 344,
    "start_time": "2022-02-09T11:39:07.312Z"
   },
   {
    "duration": 4,
    "start_time": "2022-02-09T11:39:14.463Z"
   },
   {
    "duration": 10,
    "start_time": "2022-02-09T11:44:18.047Z"
   },
   {
    "duration": 8,
    "start_time": "2022-02-09T11:48:51.232Z"
   },
   {
    "duration": 10,
    "start_time": "2022-02-09T11:49:09.280Z"
   },
   {
    "duration": 92,
    "start_time": "2022-02-09T11:49:30.421Z"
   },
   {
    "duration": 25,
    "start_time": "2022-02-09T11:49:35.559Z"
   },
   {
    "duration": 119,
    "start_time": "2022-02-09T11:49:40.068Z"
   },
   {
    "duration": 4,
    "start_time": "2022-02-09T12:04:10.611Z"
   },
   {
    "duration": 4,
    "start_time": "2022-02-09T12:04:18.756Z"
   },
   {
    "duration": 730,
    "start_time": "2022-02-09T12:49:51.492Z"
   },
   {
    "duration": 754,
    "start_time": "2022-02-09T12:49:52.225Z"
   },
   {
    "duration": 38,
    "start_time": "2022-02-09T12:49:52.981Z"
   },
   {
    "duration": 21,
    "start_time": "2022-02-09T12:49:53.022Z"
   },
   {
    "duration": 33,
    "start_time": "2022-02-09T12:49:53.045Z"
   },
   {
    "duration": 11,
    "start_time": "2022-02-09T12:49:53.080Z"
   },
   {
    "duration": 26,
    "start_time": "2022-02-09T12:49:53.093Z"
   },
   {
    "duration": 1011,
    "start_time": "2022-02-09T12:59:06.933Z"
   },
   {
    "duration": 757,
    "start_time": "2022-02-09T12:59:10.814Z"
   },
   {
    "duration": 753,
    "start_time": "2022-02-09T12:59:22.997Z"
   },
   {
    "duration": 707,
    "start_time": "2022-02-09T12:59:34.696Z"
   },
   {
    "duration": 729,
    "start_time": "2022-02-09T12:59:44.590Z"
   },
   {
    "duration": 726,
    "start_time": "2022-02-09T12:59:56.063Z"
   },
   {
    "duration": 755,
    "start_time": "2022-02-09T13:00:22.882Z"
   },
   {
    "duration": 714,
    "start_time": "2022-02-09T13:04:55.483Z"
   },
   {
    "duration": 6,
    "start_time": "2022-02-09T13:05:13.999Z"
   },
   {
    "duration": 259,
    "start_time": "2022-02-09T13:05:29.726Z"
   },
   {
    "duration": 4,
    "start_time": "2022-02-09T13:05:36.734Z"
   },
   {
    "duration": 4,
    "start_time": "2022-02-09T13:05:39.414Z"
   },
   {
    "duration": 617,
    "start_time": "2022-02-09T13:09:26.007Z"
   },
   {
    "duration": 729,
    "start_time": "2022-02-09T13:09:26.626Z"
   },
   {
    "duration": 3,
    "start_time": "2022-02-09T13:09:27.357Z"
   },
   {
    "duration": 4,
    "start_time": "2022-02-09T13:09:39.406Z"
   },
   {
    "duration": 5,
    "start_time": "2022-02-09T13:11:22.623Z"
   },
   {
    "duration": 5,
    "start_time": "2022-02-09T13:11:41.688Z"
   },
   {
    "duration": 5,
    "start_time": "2022-02-09T13:33:21.435Z"
   },
   {
    "duration": 3,
    "start_time": "2022-02-09T13:36:00.430Z"
   },
   {
    "duration": 5,
    "start_time": "2022-02-09T13:52:05.159Z"
   },
   {
    "duration": 4,
    "start_time": "2022-02-09T13:59:54.503Z"
   },
   {
    "duration": 433,
    "start_time": "2022-02-09T14:00:30.061Z"
   },
   {
    "duration": 5,
    "start_time": "2022-02-09T14:00:35.023Z"
   },
   {
    "duration": 439,
    "start_time": "2022-02-09T14:06:09.846Z"
   },
   {
    "duration": 5,
    "start_time": "2022-02-09T14:06:40.980Z"
   },
   {
    "duration": 5,
    "start_time": "2022-02-09T14:06:55.787Z"
   },
   {
    "duration": 5,
    "start_time": "2022-02-09T14:07:02.398Z"
   },
   {
    "duration": 4,
    "start_time": "2022-02-09T14:20:29.328Z"
   },
   {
    "duration": 444,
    "start_time": "2022-02-09T14:29:21.256Z"
   },
   {
    "duration": 401,
    "start_time": "2022-02-09T14:29:25.852Z"
   },
   {
    "duration": 5,
    "start_time": "2022-02-09T14:29:27.512Z"
   },
   {
    "duration": 5,
    "start_time": "2022-02-09T14:30:39.096Z"
   },
   {
    "duration": 779,
    "start_time": "2022-02-09T14:31:20.051Z"
   },
   {
    "duration": 765,
    "start_time": "2022-02-09T14:31:39.579Z"
   },
   {
    "duration": 807,
    "start_time": "2022-02-09T14:32:00.665Z"
   },
   {
    "duration": 404,
    "start_time": "2022-02-09T14:36:13.082Z"
   },
   {
    "duration": 5,
    "start_time": "2022-02-09T14:36:26.593Z"
   },
   {
    "duration": 5,
    "start_time": "2022-02-09T14:36:38.193Z"
   },
   {
    "duration": 5,
    "start_time": "2022-02-09T14:37:08.797Z"
   },
   {
    "duration": 6,
    "start_time": "2022-02-09T14:37:15.101Z"
   },
   {
    "duration": 6,
    "start_time": "2022-02-09T14:51:57.611Z"
   },
   {
    "duration": 5,
    "start_time": "2022-02-09T14:51:59.838Z"
   },
   {
    "duration": 4,
    "start_time": "2022-02-09T15:04:04.170Z"
   },
   {
    "duration": 6,
    "start_time": "2022-02-09T15:04:07.828Z"
   },
   {
    "duration": 8,
    "start_time": "2022-02-09T15:21:32.048Z"
   },
   {
    "duration": 24,
    "start_time": "2022-02-09T15:22:03.576Z"
   },
   {
    "duration": 26,
    "start_time": "2022-02-09T15:22:26.411Z"
   },
   {
    "duration": 77,
    "start_time": "2022-02-09T15:22:40.088Z"
   },
   {
    "duration": 46,
    "start_time": "2022-02-09T15:23:01.240Z"
   },
   {
    "duration": 8,
    "start_time": "2022-02-09T15:23:12.199Z"
   },
   {
    "duration": 7,
    "start_time": "2022-02-09T15:23:45.604Z"
   },
   {
    "duration": 7,
    "start_time": "2022-02-09T15:23:52.825Z"
   },
   {
    "duration": 6,
    "start_time": "2022-02-09T15:26:03.395Z"
   },
   {
    "duration": 22,
    "start_time": "2022-02-09T15:26:09.208Z"
   },
   {
    "duration": 8,
    "start_time": "2022-02-09T15:26:12.975Z"
   },
   {
    "duration": 7,
    "start_time": "2022-02-09T15:26:16.917Z"
   },
   {
    "duration": 8,
    "start_time": "2022-02-09T15:26:27.576Z"
   },
   {
    "duration": 8,
    "start_time": "2022-02-09T15:26:34.707Z"
   },
   {
    "duration": 3,
    "start_time": "2022-02-09T15:27:45.417Z"
   },
   {
    "duration": 4,
    "start_time": "2022-02-09T15:27:49.269Z"
   },
   {
    "duration": 4,
    "start_time": "2022-02-09T15:27:59.733Z"
   },
   {
    "duration": 3,
    "start_time": "2022-02-09T15:28:14.000Z"
   },
   {
    "duration": 4,
    "start_time": "2022-02-09T15:28:17.738Z"
   },
   {
    "duration": 3,
    "start_time": "2022-02-09T15:28:23.912Z"
   },
   {
    "duration": 5,
    "start_time": "2022-02-09T15:28:50.027Z"
   },
   {
    "duration": 253,
    "start_time": "2022-02-09T15:28:53.594Z"
   },
   {
    "duration": 290,
    "start_time": "2022-02-09T15:28:57.527Z"
   },
   {
    "duration": 4,
    "start_time": "2022-02-09T15:29:02.266Z"
   },
   {
    "duration": 259,
    "start_time": "2022-02-09T15:29:09.166Z"
   },
   {
    "duration": 297,
    "start_time": "2022-02-09T15:29:14.212Z"
   },
   {
    "duration": 255,
    "start_time": "2022-02-09T15:29:23.641Z"
   },
   {
    "duration": 4,
    "start_time": "2022-02-09T15:30:10.440Z"
   },
   {
    "duration": 3,
    "start_time": "2022-02-09T15:30:30.340Z"
   },
   {
    "duration": 4,
    "start_time": "2022-02-09T15:30:59.808Z"
   },
   {
    "duration": 8294,
    "start_time": "2022-02-09T15:31:13.655Z"
   },
   {
    "duration": 516,
    "start_time": "2022-02-09T15:31:44.337Z"
   },
   {
    "duration": 4,
    "start_time": "2022-02-09T15:31:57.980Z"
   },
   {
    "duration": 363,
    "start_time": "2022-02-09T15:32:05.389Z"
   },
   {
    "duration": 33,
    "start_time": "2022-02-09T15:33:20.900Z"
   },
   {
    "duration": 30,
    "start_time": "2022-02-09T15:33:48.026Z"
   },
   {
    "duration": 3,
    "start_time": "2022-02-09T15:42:59.219Z"
   },
   {
    "duration": 31,
    "start_time": "2022-02-09T15:43:10.972Z"
   },
   {
    "duration": 11,
    "start_time": "2022-02-09T15:43:22.262Z"
   },
   {
    "duration": 10,
    "start_time": "2022-02-09T15:43:34.135Z"
   },
   {
    "duration": 31,
    "start_time": "2022-02-09T15:43:40.812Z"
   },
   {
    "duration": 11,
    "start_time": "2022-02-09T15:43:51.428Z"
   },
   {
    "duration": 11,
    "start_time": "2022-02-09T15:44:01.692Z"
   },
   {
    "duration": 10,
    "start_time": "2022-02-09T15:44:05.932Z"
   },
   {
    "duration": 13,
    "start_time": "2022-02-09T15:44:10.080Z"
   },
   {
    "duration": 292,
    "start_time": "2022-02-09T15:44:17.350Z"
   },
   {
    "duration": 11,
    "start_time": "2022-02-09T15:44:29.103Z"
   },
   {
    "duration": 17,
    "start_time": "2022-02-09T15:44:33.769Z"
   },
   {
    "duration": 6,
    "start_time": "2022-02-09T15:47:18.252Z"
   },
   {
    "duration": 6,
    "start_time": "2022-02-09T15:47:37.073Z"
   },
   {
    "duration": 6,
    "start_time": "2022-02-09T15:48:11.766Z"
   },
   {
    "duration": 596,
    "start_time": "2022-02-09T15:48:48.356Z"
   },
   {
    "duration": 2146,
    "start_time": "2022-02-09T15:49:19.116Z"
   },
   {
    "duration": 2221,
    "start_time": "2022-02-09T15:50:55.690Z"
   },
   {
    "duration": 2498,
    "start_time": "2022-02-09T15:51:29.649Z"
   },
   {
    "duration": 7,
    "start_time": "2022-02-09T15:53:34.783Z"
   },
   {
    "duration": 6,
    "start_time": "2022-02-09T15:53:39.952Z"
   },
   {
    "duration": 5,
    "start_time": "2022-02-09T15:53:45.186Z"
   },
   {
    "duration": 27,
    "start_time": "2022-02-09T15:53:48.630Z"
   },
   {
    "duration": 7,
    "start_time": "2022-02-09T15:53:56.749Z"
   },
   {
    "duration": 26,
    "start_time": "2022-02-09T15:58:23.673Z"
   },
   {
    "duration": 6,
    "start_time": "2022-02-09T15:58:33.330Z"
   },
   {
    "duration": 6,
    "start_time": "2022-02-09T15:58:58.582Z"
   },
   {
    "duration": 6,
    "start_time": "2022-02-09T16:00:44.030Z"
   },
   {
    "duration": 6,
    "start_time": "2022-02-09T16:00:48.235Z"
   },
   {
    "duration": 6,
    "start_time": "2022-02-09T16:00:56.500Z"
   },
   {
    "duration": 13,
    "start_time": "2022-02-09T16:01:01.160Z"
   },
   {
    "duration": 6,
    "start_time": "2022-02-09T16:01:06.889Z"
   },
   {
    "duration": 6,
    "start_time": "2022-02-09T16:01:12.175Z"
   },
   {
    "duration": 1058,
    "start_time": "2022-02-09T16:14:55.279Z"
   },
   {
    "duration": 788,
    "start_time": "2022-02-09T16:14:56.339Z"
   },
   {
    "duration": 444,
    "start_time": "2022-02-09T16:14:57.129Z"
   },
   {
    "duration": 6,
    "start_time": "2022-02-09T16:14:57.575Z"
   },
   {
    "duration": 14,
    "start_time": "2022-02-09T16:14:57.582Z"
   },
   {
    "duration": 27,
    "start_time": "2022-02-09T16:14:57.597Z"
   },
   {
    "duration": 331,
    "start_time": "2022-02-09T16:14:57.625Z"
   },
   {
    "duration": -33,
    "start_time": "2022-02-09T16:14:57.991Z"
   },
   {
    "duration": 355,
    "start_time": "2022-02-09T16:22:28.279Z"
   },
   {
    "duration": 32,
    "start_time": "2022-02-09T16:22:37.053Z"
   },
   {
    "duration": 16,
    "start_time": "2022-02-09T16:22:52.466Z"
   },
   {
    "duration": 15,
    "start_time": "2022-02-09T16:22:56.608Z"
   },
   {
    "duration": 32,
    "start_time": "2022-02-09T16:23:02.993Z"
   },
   {
    "duration": 258,
    "start_time": "2022-02-09T16:23:08.433Z"
   },
   {
    "duration": 46,
    "start_time": "2022-02-09T16:23:35.189Z"
   },
   {
    "duration": 9,
    "start_time": "2022-02-09T16:23:57.166Z"
   },
   {
    "duration": 6,
    "start_time": "2022-02-09T16:24:01.573Z"
   },
   {
    "duration": 10,
    "start_time": "2022-02-09T16:24:04.603Z"
   },
   {
    "duration": 22,
    "start_time": "2022-02-09T16:24:21.577Z"
   },
   {
    "duration": 9,
    "start_time": "2022-02-09T16:24:32.160Z"
   },
   {
    "duration": 8,
    "start_time": "2022-02-09T16:24:35.913Z"
   },
   {
    "duration": 6,
    "start_time": "2022-02-09T16:36:49.143Z"
   },
   {
    "duration": 341,
    "start_time": "2022-02-09T16:40:02.338Z"
   },
   {
    "duration": 966,
    "start_time": "2022-02-09T16:40:05.913Z"
   },
   {
    "duration": 319,
    "start_time": "2022-02-09T16:41:20.936Z"
   },
   {
    "duration": 304,
    "start_time": "2022-02-09T16:41:47.326Z"
   },
   {
    "duration": 3,
    "start_time": "2022-02-09T16:42:38.091Z"
   },
   {
    "duration": 5,
    "start_time": "2022-02-09T16:42:42.823Z"
   },
   {
    "duration": 5,
    "start_time": "2022-02-09T16:42:48.091Z"
   },
   {
    "duration": 4,
    "start_time": "2022-02-09T16:42:53.081Z"
   },
   {
    "duration": 269,
    "start_time": "2022-02-09T16:43:38.033Z"
   },
   {
    "duration": 7,
    "start_time": "2022-02-09T16:43:41.498Z"
   },
   {
    "duration": 5,
    "start_time": "2022-02-09T16:44:00.713Z"
   },
   {
    "duration": 7,
    "start_time": "2022-02-09T17:29:44.711Z"
   },
   {
    "duration": 6,
    "start_time": "2022-02-09T17:29:47.032Z"
   },
   {
    "duration": 5,
    "start_time": "2022-02-09T17:35:52.583Z"
   },
   {
    "duration": 3,
    "start_time": "2022-02-09T17:36:10.080Z"
   },
   {
    "duration": 5,
    "start_time": "2022-02-09T17:36:14.400Z"
   },
   {
    "duration": 3,
    "start_time": "2022-02-09T17:38:02.475Z"
   },
   {
    "duration": 5,
    "start_time": "2022-02-09T17:38:08.044Z"
   },
   {
    "duration": 4,
    "start_time": "2022-02-09T17:38:49.705Z"
   },
   {
    "duration": 4,
    "start_time": "2022-02-09T17:46:08.564Z"
   },
   {
    "duration": 6,
    "start_time": "2022-02-09T18:02:56.808Z"
   },
   {
    "duration": 8,
    "start_time": "2022-02-09T18:03:15.288Z"
   },
   {
    "duration": 3,
    "start_time": "2022-02-09T18:22:15.297Z"
   },
   {
    "duration": 123,
    "start_time": "2022-02-09T18:25:31.174Z"
   },
   {
    "duration": 265,
    "start_time": "2022-02-09T18:25:59.202Z"
   },
   {
    "duration": 263,
    "start_time": "2022-02-09T18:27:50.377Z"
   },
   {
    "duration": 4,
    "start_time": "2022-02-09T18:28:49.689Z"
   },
   {
    "duration": 350,
    "start_time": "2022-02-09T18:29:21.759Z"
   },
   {
    "duration": 443,
    "start_time": "2022-02-09T18:29:31.211Z"
   },
   {
    "duration": 1144,
    "start_time": "2022-02-10T15:56:24.129Z"
   },
   {
    "duration": 736,
    "start_time": "2022-02-10T15:56:25.275Z"
   },
   {
    "duration": 397,
    "start_time": "2022-02-10T15:56:26.013Z"
   },
   {
    "duration": 5,
    "start_time": "2022-02-10T15:56:26.412Z"
   },
   {
    "duration": 4,
    "start_time": "2022-02-10T15:56:26.419Z"
   },
   {
    "duration": 14,
    "start_time": "2022-02-10T15:56:26.425Z"
   },
   {
    "duration": 40,
    "start_time": "2022-02-10T15:56:26.440Z"
   },
   {
    "duration": 2,
    "start_time": "2022-02-10T15:56:26.481Z"
   },
   {
    "duration": 418,
    "start_time": "2022-02-10T15:56:26.485Z"
   },
   {
    "duration": 793,
    "start_time": "2022-02-10T15:57:54.120Z"
   },
   {
    "duration": 457,
    "start_time": "2022-02-10T15:58:11.258Z"
   },
   {
    "duration": 797,
    "start_time": "2022-02-10T15:58:24.674Z"
   },
   {
    "duration": 383,
    "start_time": "2022-02-10T15:58:28.539Z"
   },
   {
    "duration": 5,
    "start_time": "2022-02-10T15:58:46.627Z"
   },
   {
    "duration": 4,
    "start_time": "2022-02-10T15:58:56.690Z"
   },
   {
    "duration": 5,
    "start_time": "2022-02-10T15:59:20.020Z"
   },
   {
    "duration": 334,
    "start_time": "2022-02-10T16:00:36.857Z"
   },
   {
    "duration": 7,
    "start_time": "2022-02-10T16:00:39.549Z"
   },
   {
    "duration": 7,
    "start_time": "2022-02-10T16:00:52.219Z"
   },
   {
    "duration": 4,
    "start_time": "2022-02-10T16:01:09.643Z"
   },
   {
    "duration": 4,
    "start_time": "2022-02-10T16:02:06.335Z"
   },
   {
    "duration": 7,
    "start_time": "2022-02-10T16:02:12.785Z"
   },
   {
    "duration": 5,
    "start_time": "2022-02-10T16:02:12.976Z"
   },
   {
    "duration": 5,
    "start_time": "2022-02-10T16:02:13.207Z"
   },
   {
    "duration": 4,
    "start_time": "2022-02-10T16:02:13.352Z"
   },
   {
    "duration": 3,
    "start_time": "2022-02-10T16:10:16.065Z"
   },
   {
    "duration": 4,
    "start_time": "2022-02-10T16:10:40.495Z"
   },
   {
    "duration": 4,
    "start_time": "2022-02-10T16:10:49.724Z"
   },
   {
    "duration": 3,
    "start_time": "2022-02-10T16:11:44.275Z"
   },
   {
    "duration": 6,
    "start_time": "2022-02-10T16:11:50.511Z"
   },
   {
    "duration": 405,
    "start_time": "2022-02-10T16:14:53.640Z"
   },
   {
    "duration": 271,
    "start_time": "2022-02-10T16:16:46.794Z"
   },
   {
    "duration": 349,
    "start_time": "2022-02-10T16:17:44.769Z"
   },
   {
    "duration": 390,
    "start_time": "2022-02-10T16:18:32.205Z"
   },
   {
    "duration": 478,
    "start_time": "2022-02-10T16:18:44.607Z"
   },
   {
    "duration": 469,
    "start_time": "2022-02-10T16:18:50.630Z"
   },
   {
    "duration": 408,
    "start_time": "2022-02-10T16:19:56.289Z"
   },
   {
    "duration": 548,
    "start_time": "2022-02-10T16:20:04.397Z"
   },
   {
    "duration": 422,
    "start_time": "2022-02-10T16:20:34.552Z"
   },
   {
    "duration": 595,
    "start_time": "2022-02-10T16:20:51.404Z"
   },
   {
    "duration": 464,
    "start_time": "2022-02-10T16:20:57.796Z"
   },
   {
    "duration": 460,
    "start_time": "2022-02-10T16:24:03.019Z"
   },
   {
    "duration": 3,
    "start_time": "2022-02-10T16:58:50.975Z"
   },
   {
    "duration": 850,
    "start_time": "2022-02-10T16:58:50.980Z"
   },
   {
    "duration": 378,
    "start_time": "2022-02-10T16:58:51.832Z"
   },
   {
    "duration": 4,
    "start_time": "2022-02-10T16:58:52.212Z"
   },
   {
    "duration": 6,
    "start_time": "2022-02-10T16:58:52.217Z"
   },
   {
    "duration": 15,
    "start_time": "2022-02-10T16:58:52.224Z"
   },
   {
    "duration": 33,
    "start_time": "2022-02-10T16:58:52.240Z"
   },
   {
    "duration": 458,
    "start_time": "2022-02-10T16:58:52.274Z"
   },
   {
    "duration": 3,
    "start_time": "2022-02-10T16:58:52.735Z"
   },
   {
    "duration": 9,
    "start_time": "2022-02-10T16:58:52.740Z"
   },
   {
    "duration": 23,
    "start_time": "2022-02-10T16:58:52.750Z"
   },
   {
    "duration": 5,
    "start_time": "2022-02-10T16:58:52.774Z"
   },
   {
    "duration": 5,
    "start_time": "2022-02-10T16:58:52.781Z"
   },
   {
    "duration": 2,
    "start_time": "2022-02-10T17:06:22.027Z"
   },
   {
    "duration": 1584,
    "start_time": "2022-02-10T17:09:07.940Z"
   },
   {
    "duration": 1135,
    "start_time": "2022-02-10T17:09:43.457Z"
   },
   {
    "duration": 3417,
    "start_time": "2022-02-10T17:10:19.435Z"
   },
   {
    "duration": 1972,
    "start_time": "2022-02-10T17:10:34.440Z"
   },
   {
    "duration": 2104,
    "start_time": "2022-02-10T17:11:03.800Z"
   },
   {
    "duration": 557,
    "start_time": "2022-02-10T17:11:15.508Z"
   },
   {
    "duration": 2037,
    "start_time": "2022-02-10T17:11:29.432Z"
   },
   {
    "duration": 1915,
    "start_time": "2022-02-10T17:13:39.211Z"
   },
   {
    "duration": 1938,
    "start_time": "2022-02-10T17:13:48.480Z"
   },
   {
    "duration": 1924,
    "start_time": "2022-02-10T17:14:26.720Z"
   },
   {
    "duration": 3803,
    "start_time": "2022-02-10T17:19:05.466Z"
   },
   {
    "duration": 2428,
    "start_time": "2022-02-10T17:19:31.411Z"
   },
   {
    "duration": 1956,
    "start_time": "2022-02-10T17:19:49.863Z"
   },
   {
    "duration": 6905,
    "start_time": "2022-02-10T17:21:13.174Z"
   },
   {
    "duration": 3462,
    "start_time": "2022-02-10T17:21:26.216Z"
   },
   {
    "duration": 915,
    "start_time": "2022-02-10T17:21:57.959Z"
   },
   {
    "duration": 1915,
    "start_time": "2022-02-10T17:22:05.791Z"
   },
   {
    "duration": 104,
    "start_time": "2022-02-10T17:36:24.017Z"
   },
   {
    "duration": 113,
    "start_time": "2022-02-10T17:36:26.493Z"
   },
   {
    "duration": 4,
    "start_time": "2022-02-10T17:36:34.953Z"
   },
   {
    "duration": 5,
    "start_time": "2022-02-10T17:37:15.854Z"
   },
   {
    "duration": 3,
    "start_time": "2022-02-10T17:37:47.123Z"
   },
   {
    "duration": 4,
    "start_time": "2022-02-10T17:37:51.856Z"
   },
   {
    "duration": 6,
    "start_time": "2022-02-10T17:38:04.697Z"
   },
   {
    "duration": 4,
    "start_time": "2022-02-10T17:38:15.715Z"
   },
   {
    "duration": 7,
    "start_time": "2022-02-10T17:38:22.926Z"
   },
   {
    "duration": 3,
    "start_time": "2022-02-10T17:40:11.418Z"
   },
   {
    "duration": 677,
    "start_time": "2022-02-10T17:40:53.746Z"
   },
   {
    "duration": 233,
    "start_time": "2022-02-10T17:40:58.031Z"
   },
   {
    "duration": 304,
    "start_time": "2022-02-10T17:41:14.948Z"
   },
   {
    "duration": 301,
    "start_time": "2022-02-10T17:41:28.902Z"
   },
   {
    "duration": 450,
    "start_time": "2022-02-10T17:41:35.974Z"
   },
   {
    "duration": 575,
    "start_time": "2022-02-10T17:42:21.353Z"
   },
   {
    "duration": 635,
    "start_time": "2022-02-10T17:43:00.436Z"
   },
   {
    "duration": 608,
    "start_time": "2022-02-10T17:54:39.484Z"
   },
   {
    "duration": 100,
    "start_time": "2022-02-10T18:09:35.245Z"
   },
   {
    "duration": 4,
    "start_time": "2022-02-10T18:09:41.193Z"
   },
   {
    "duration": 5,
    "start_time": "2022-02-10T18:11:20.959Z"
   },
   {
    "duration": 7,
    "start_time": "2022-02-10T18:15:58.191Z"
   },
   {
    "duration": 4,
    "start_time": "2022-02-10T18:16:25.447Z"
   },
   {
    "duration": 4,
    "start_time": "2022-02-10T18:16:47.570Z"
   },
   {
    "duration": 3,
    "start_time": "2022-02-10T18:16:55.972Z"
   },
   {
    "duration": 4,
    "start_time": "2022-02-10T18:16:59.709Z"
   },
   {
    "duration": 6,
    "start_time": "2022-02-10T18:17:16.232Z"
   },
   {
    "duration": 6,
    "start_time": "2022-02-10T18:18:17.946Z"
   },
   {
    "duration": 6,
    "start_time": "2022-02-10T18:18:21.019Z"
   },
   {
    "duration": 2,
    "start_time": "2022-02-10T18:32:58.872Z"
   },
   {
    "duration": 3,
    "start_time": "2022-02-10T18:33:05.070Z"
   },
   {
    "duration": 2,
    "start_time": "2022-02-10T18:33:07.085Z"
   },
   {
    "duration": 3,
    "start_time": "2022-02-10T18:33:07.329Z"
   },
   {
    "duration": 2563,
    "start_time": "2022-02-10T18:33:25.152Z"
   },
   {
    "duration": 781,
    "start_time": "2022-02-10T18:33:30.502Z"
   },
   {
    "duration": 4,
    "start_time": "2022-02-10T18:33:32.268Z"
   },
   {
    "duration": 6,
    "start_time": "2022-02-10T18:33:36.564Z"
   },
   {
    "duration": 2,
    "start_time": "2022-02-10T18:33:37.562Z"
   },
   {
    "duration": 4,
    "start_time": "2022-02-10T18:33:38.285Z"
   },
   {
    "duration": 4,
    "start_time": "2022-02-10T18:34:23.488Z"
   },
   {
    "duration": 5,
    "start_time": "2022-02-10T18:41:14.573Z"
   },
   {
    "duration": 12,
    "start_time": "2022-02-10T18:41:25.773Z"
   },
   {
    "duration": 104,
    "start_time": "2022-02-10T18:42:31.452Z"
   },
   {
    "duration": 7,
    "start_time": "2022-02-10T18:42:36.405Z"
   },
   {
    "duration": 13,
    "start_time": "2022-02-10T18:44:40.716Z"
   },
   {
    "duration": 479,
    "start_time": "2022-02-10T18:47:32.271Z"
   },
   {
    "duration": 1029,
    "start_time": "2022-02-10T18:51:47.630Z"
   },
   {
    "duration": 1452,
    "start_time": "2022-02-10T18:52:20.130Z"
   },
   {
    "duration": 890,
    "start_time": "2022-02-10T18:52:34.898Z"
   },
   {
    "duration": 1062,
    "start_time": "2022-02-10T18:52:48.938Z"
   },
   {
    "duration": 895,
    "start_time": "2022-02-10T18:52:56.237Z"
   },
   {
    "duration": 153,
    "start_time": "2022-02-10T18:55:17.814Z"
   },
   {
    "duration": 513,
    "start_time": "2022-02-10T18:55:59.755Z"
   },
   {
    "duration": 172,
    "start_time": "2022-02-10T18:56:15.385Z"
   },
   {
    "duration": 1145,
    "start_time": "2022-02-10T18:57:51.528Z"
   },
   {
    "duration": 777,
    "start_time": "2022-02-10T18:57:52.675Z"
   },
   {
    "duration": 396,
    "start_time": "2022-02-10T18:57:53.454Z"
   },
   {
    "duration": 6,
    "start_time": "2022-02-10T18:57:53.852Z"
   },
   {
    "duration": 15,
    "start_time": "2022-02-10T18:57:53.860Z"
   },
   {
    "duration": 15,
    "start_time": "2022-02-10T18:57:53.877Z"
   },
   {
    "duration": 21,
    "start_time": "2022-02-10T18:57:53.894Z"
   },
   {
    "duration": 2082,
    "start_time": "2022-02-10T18:57:53.918Z"
   },
   {
    "duration": 623,
    "start_time": "2022-02-10T18:57:56.001Z"
   },
   {
    "duration": 2,
    "start_time": "2022-02-10T18:57:56.626Z"
   },
   {
    "duration": 5,
    "start_time": "2022-02-10T18:57:56.630Z"
   },
   {
    "duration": 3,
    "start_time": "2022-02-10T18:57:56.636Z"
   },
   {
    "duration": 1021,
    "start_time": "2022-02-10T18:57:56.641Z"
   },
   {
    "duration": 8,
    "start_time": "2022-02-10T18:57:57.664Z"
   },
   {
    "duration": 150,
    "start_time": "2022-02-10T18:58:24.146Z"
   },
   {
    "duration": 7,
    "start_time": "2022-02-10T18:58:52.939Z"
   },
   {
    "duration": 7,
    "start_time": "2022-02-10T18:59:07.582Z"
   },
   {
    "duration": 1117,
    "start_time": "2022-02-10T19:00:47.554Z"
   },
   {
    "duration": 712,
    "start_time": "2022-02-10T19:00:48.673Z"
   },
   {
    "duration": 381,
    "start_time": "2022-02-10T19:00:49.387Z"
   },
   {
    "duration": 5,
    "start_time": "2022-02-10T19:00:49.771Z"
   },
   {
    "duration": 6,
    "start_time": "2022-02-10T19:00:49.777Z"
   },
   {
    "duration": 15,
    "start_time": "2022-02-10T19:00:49.784Z"
   },
   {
    "duration": 20,
    "start_time": "2022-02-10T19:00:49.800Z"
   },
   {
    "duration": 1892,
    "start_time": "2022-02-10T19:00:49.822Z"
   },
   {
    "duration": 624,
    "start_time": "2022-02-10T19:00:51.716Z"
   },
   {
    "duration": 1005,
    "start_time": "2022-02-10T19:00:52.342Z"
   },
   {
    "duration": 1052,
    "start_time": "2022-02-10T19:43:52.708Z"
   },
   {
    "duration": 711,
    "start_time": "2022-02-10T19:43:53.762Z"
   },
   {
    "duration": 384,
    "start_time": "2022-02-10T19:43:54.475Z"
   },
   {
    "duration": 5,
    "start_time": "2022-02-10T19:43:54.861Z"
   },
   {
    "duration": 5,
    "start_time": "2022-02-10T19:43:54.872Z"
   },
   {
    "duration": 16,
    "start_time": "2022-02-10T19:43:54.879Z"
   },
   {
    "duration": 19,
    "start_time": "2022-02-10T19:43:54.897Z"
   },
   {
    "duration": 1849,
    "start_time": "2022-02-10T19:43:54.918Z"
   },
   {
    "duration": 592,
    "start_time": "2022-02-10T19:43:56.771Z"
   },
   {
    "duration": 975,
    "start_time": "2022-02-10T19:43:57.364Z"
   },
   {
    "duration": 3,
    "start_time": "2022-02-10T19:43:58.341Z"
   },
   {
    "duration": 1058,
    "start_time": "2022-02-10T20:14:05.020Z"
   },
   {
    "duration": 700,
    "start_time": "2022-02-10T20:14:06.080Z"
   },
   {
    "duration": 389,
    "start_time": "2022-02-10T20:14:06.782Z"
   },
   {
    "duration": 5,
    "start_time": "2022-02-10T20:14:07.173Z"
   },
   {
    "duration": 5,
    "start_time": "2022-02-10T20:14:07.179Z"
   },
   {
    "duration": 13,
    "start_time": "2022-02-10T20:14:07.186Z"
   },
   {
    "duration": 20,
    "start_time": "2022-02-10T20:14:07.200Z"
   },
   {
    "duration": 1936,
    "start_time": "2022-02-10T20:14:07.222Z"
   },
   {
    "duration": 613,
    "start_time": "2022-02-10T20:14:09.160Z"
   },
   {
    "duration": 961,
    "start_time": "2022-02-10T20:14:09.775Z"
   },
   {
    "duration": 4,
    "start_time": "2022-02-10T20:14:10.737Z"
   },
   {
    "duration": 1144,
    "start_time": "2022-02-11T11:38:04.523Z"
   },
   {
    "duration": 704,
    "start_time": "2022-02-11T11:38:05.668Z"
   },
   {
    "duration": 415,
    "start_time": "2022-02-11T11:38:06.374Z"
   },
   {
    "duration": 5,
    "start_time": "2022-02-11T11:38:06.791Z"
   },
   {
    "duration": 6,
    "start_time": "2022-02-11T11:38:06.798Z"
   },
   {
    "duration": 14,
    "start_time": "2022-02-11T11:38:06.806Z"
   },
   {
    "duration": 40,
    "start_time": "2022-02-11T11:38:06.822Z"
   },
   {
    "duration": 2170,
    "start_time": "2022-02-11T11:38:06.864Z"
   },
   {
    "duration": 678,
    "start_time": "2022-02-11T11:38:09.036Z"
   },
   {
    "duration": 1145,
    "start_time": "2022-02-11T11:38:09.716Z"
   },
   {
    "duration": 4,
    "start_time": "2022-02-11T11:38:10.863Z"
   },
   {
    "duration": 5,
    "start_time": "2022-02-11T12:28:36.651Z"
   },
   {
    "duration": 4,
    "start_time": "2022-02-11T12:28:41.798Z"
   },
   {
    "duration": 5,
    "start_time": "2022-02-11T12:31:13.654Z"
   },
   {
    "duration": 268,
    "start_time": "2022-02-11T12:32:05.968Z"
   },
   {
    "duration": 4,
    "start_time": "2022-02-11T12:32:14.261Z"
   },
   {
    "duration": 3,
    "start_time": "2022-02-11T12:33:08.646Z"
   },
   {
    "duration": 3,
    "start_time": "2022-02-11T12:33:13.756Z"
   },
   {
    "duration": 3,
    "start_time": "2022-02-11T12:37:20.113Z"
   },
   {
    "duration": 28,
    "start_time": "2022-02-11T12:37:23.978Z"
   },
   {
    "duration": 32,
    "start_time": "2022-02-11T12:37:38.131Z"
   },
   {
    "duration": 5,
    "start_time": "2022-02-11T12:37:50.503Z"
   },
   {
    "duration": 1124,
    "start_time": "2022-02-11T13:13:36.614Z"
   },
   {
    "duration": 729,
    "start_time": "2022-02-11T13:13:37.740Z"
   },
   {
    "duration": 418,
    "start_time": "2022-02-11T13:13:38.471Z"
   },
   {
    "duration": 5,
    "start_time": "2022-02-11T13:13:38.891Z"
   },
   {
    "duration": 7,
    "start_time": "2022-02-11T13:13:38.898Z"
   },
   {
    "duration": 19,
    "start_time": "2022-02-11T13:13:38.907Z"
   },
   {
    "duration": 42,
    "start_time": "2022-02-11T13:13:38.928Z"
   },
   {
    "duration": 2288,
    "start_time": "2022-02-11T13:13:38.972Z"
   },
   {
    "duration": 750,
    "start_time": "2022-02-11T13:13:41.262Z"
   },
   {
    "duration": 1246,
    "start_time": "2022-02-11T13:13:42.013Z"
   },
   {
    "duration": 5,
    "start_time": "2022-02-11T13:13:43.260Z"
   },
   {
    "duration": 5,
    "start_time": "2022-02-11T13:24:46.542Z"
   },
   {
    "duration": 268,
    "start_time": "2022-02-11T13:25:41.372Z"
   },
   {
    "duration": 11,
    "start_time": "2022-02-11T13:25:55.587Z"
   },
   {
    "duration": 8,
    "start_time": "2022-02-11T13:26:06.391Z"
   },
   {
    "duration": 4,
    "start_time": "2022-02-11T13:26:13.477Z"
   },
   {
    "duration": 8,
    "start_time": "2022-02-11T13:27:59.019Z"
   },
   {
    "duration": 29,
    "start_time": "2022-02-11T13:33:53.759Z"
   },
   {
    "duration": 8,
    "start_time": "2022-02-11T13:34:53.126Z"
   },
   {
    "duration": 36,
    "start_time": "2022-02-11T13:35:45.784Z"
   },
   {
    "duration": 4517,
    "start_time": "2022-02-11T13:37:31.120Z"
   },
   {
    "duration": 4780,
    "start_time": "2022-02-11T13:37:50.118Z"
   },
   {
    "duration": 5,
    "start_time": "2022-02-11T13:37:59.022Z"
   },
   {
    "duration": 5,
    "start_time": "2022-02-11T13:38:51.299Z"
   },
   {
    "duration": 5,
    "start_time": "2022-02-11T13:39:04.008Z"
   },
   {
    "duration": 186,
    "start_time": "2022-02-11T13:39:49.233Z"
   },
   {
    "duration": 61,
    "start_time": "2022-02-11T13:40:19.520Z"
   },
   {
    "duration": 6,
    "start_time": "2022-02-11T13:41:29.453Z"
   },
   {
    "duration": 6,
    "start_time": "2022-02-11T13:41:37.891Z"
   },
   {
    "duration": 29,
    "start_time": "2022-02-11T13:42:03.302Z"
   },
   {
    "duration": 26,
    "start_time": "2022-02-11T13:42:09.562Z"
   },
   {
    "duration": 32,
    "start_time": "2022-02-11T13:47:53.774Z"
   },
   {
    "duration": 10,
    "start_time": "2022-02-11T13:48:12.156Z"
   },
   {
    "duration": 14,
    "start_time": "2022-02-11T13:49:04.243Z"
   },
   {
    "duration": 6,
    "start_time": "2022-02-11T13:49:09.006Z"
   },
   {
    "duration": 11,
    "start_time": "2022-02-11T13:49:27.786Z"
   },
   {
    "duration": 9,
    "start_time": "2022-02-11T13:49:32.355Z"
   },
   {
    "duration": 7,
    "start_time": "2022-02-11T13:49:56.582Z"
   },
   {
    "duration": 5,
    "start_time": "2022-02-11T13:50:18.390Z"
   },
   {
    "duration": 5,
    "start_time": "2022-02-11T13:50:53.546Z"
   },
   {
    "duration": 167,
    "start_time": "2022-02-11T13:51:41.439Z"
   },
   {
    "duration": 163,
    "start_time": "2022-02-11T13:52:04.231Z"
   },
   {
    "duration": 186,
    "start_time": "2022-02-11T13:52:25.661Z"
   },
   {
    "duration": 5,
    "start_time": "2022-02-11T13:52:40.982Z"
   },
   {
    "duration": 5,
    "start_time": "2022-02-11T13:53:05.496Z"
   },
   {
    "duration": 13,
    "start_time": "2022-02-11T13:53:57.209Z"
   },
   {
    "duration": 11,
    "start_time": "2022-02-11T13:54:17.470Z"
   },
   {
    "duration": 9,
    "start_time": "2022-02-11T13:54:20.438Z"
   },
   {
    "duration": 10,
    "start_time": "2022-02-11T13:54:38.723Z"
   },
   {
    "duration": 5,
    "start_time": "2022-02-11T13:54:43.709Z"
   },
   {
    "duration": 16,
    "start_time": "2022-02-11T13:55:33.436Z"
   },
   {
    "duration": 9,
    "start_time": "2022-02-11T13:55:42.143Z"
   },
   {
    "duration": 10,
    "start_time": "2022-02-11T13:55:56.552Z"
   },
   {
    "duration": 17,
    "start_time": "2022-02-11T13:56:10.419Z"
   },
   {
    "duration": 10,
    "start_time": "2022-02-11T13:56:16.351Z"
   },
   {
    "duration": 4,
    "start_time": "2022-02-11T13:56:42.447Z"
   },
   {
    "duration": 821,
    "start_time": "2022-02-11T13:56:42.453Z"
   },
   {
    "duration": 426,
    "start_time": "2022-02-11T13:56:43.277Z"
   },
   {
    "duration": 4,
    "start_time": "2022-02-11T13:56:43.705Z"
   },
   {
    "duration": 5,
    "start_time": "2022-02-11T13:56:43.711Z"
   },
   {
    "duration": 18,
    "start_time": "2022-02-11T13:56:43.718Z"
   },
   {
    "duration": 34,
    "start_time": "2022-02-11T13:56:43.738Z"
   },
   {
    "duration": 2343,
    "start_time": "2022-02-11T13:56:43.773Z"
   },
   {
    "duration": 841,
    "start_time": "2022-02-11T13:56:46.118Z"
   },
   {
    "duration": 1016,
    "start_time": "2022-02-11T13:56:46.961Z"
   },
   {
    "duration": 7,
    "start_time": "2022-02-11T13:56:47.979Z"
   },
   {
    "duration": 8,
    "start_time": "2022-02-11T13:56:47.988Z"
   },
   {
    "duration": 15,
    "start_time": "2022-02-11T13:56:47.997Z"
   },
   {
    "duration": 8,
    "start_time": "2022-02-11T13:56:48.014Z"
   },
   {
    "duration": 6,
    "start_time": "2022-02-11T13:57:01.650Z"
   },
   {
    "duration": 5,
    "start_time": "2022-02-11T13:57:10.942Z"
   },
   {
    "duration": 5,
    "start_time": "2022-02-11T13:57:29.753Z"
   },
   {
    "duration": 11,
    "start_time": "2022-02-11T13:58:01.071Z"
   },
   {
    "duration": 27,
    "start_time": "2022-02-11T13:58:14.050Z"
   },
   {
    "duration": 30,
    "start_time": "2022-02-11T13:58:43.286Z"
   },
   {
    "duration": 14,
    "start_time": "2022-02-11T13:59:06.543Z"
   },
   {
    "duration": 4,
    "start_time": "2022-02-11T14:28:37.036Z"
   },
   {
    "duration": 4,
    "start_time": "2022-02-11T14:28:42.066Z"
   },
   {
    "duration": 5,
    "start_time": "2022-02-11T14:29:27.707Z"
   },
   {
    "duration": 6,
    "start_time": "2022-02-11T14:29:39.130Z"
   },
   {
    "duration": 6,
    "start_time": "2022-02-11T14:29:48.446Z"
   },
   {
    "duration": 6,
    "start_time": "2022-02-11T14:39:04.061Z"
   },
   {
    "duration": 7,
    "start_time": "2022-02-11T14:39:32.761Z"
   },
   {
    "duration": 6,
    "start_time": "2022-02-11T14:39:36.812Z"
   },
   {
    "duration": 7,
    "start_time": "2022-02-11T14:39:54.748Z"
   },
   {
    "duration": 6,
    "start_time": "2022-02-11T14:40:04.699Z"
   },
   {
    "duration": 3,
    "start_time": "2022-02-11T14:40:34.538Z"
   },
   {
    "duration": 5,
    "start_time": "2022-02-11T14:40:44.408Z"
   },
   {
    "duration": 174,
    "start_time": "2022-02-11T14:40:48.465Z"
   },
   {
    "duration": 56,
    "start_time": "2022-02-11T14:41:09.164Z"
   },
   {
    "duration": 170,
    "start_time": "2022-02-11T14:41:24.505Z"
   },
   {
    "duration": 6,
    "start_time": "2022-02-11T14:41:53.962Z"
   },
   {
    "duration": 4,
    "start_time": "2022-02-11T14:42:03.855Z"
   },
   {
    "duration": 6,
    "start_time": "2022-02-11T14:42:11.518Z"
   },
   {
    "duration": 5,
    "start_time": "2022-02-11T14:42:17.877Z"
   },
   {
    "duration": 5,
    "start_time": "2022-02-11T14:42:25.043Z"
   },
   {
    "duration": 3,
    "start_time": "2022-02-11T14:43:32.786Z"
   },
   {
    "duration": 3,
    "start_time": "2022-02-11T14:43:34.397Z"
   },
   {
    "duration": 4,
    "start_time": "2022-02-11T14:43:38.345Z"
   },
   {
    "duration": 3,
    "start_time": "2022-02-11T14:44:19.101Z"
   },
   {
    "duration": 4,
    "start_time": "2022-02-11T14:44:21.492Z"
   },
   {
    "duration": 4,
    "start_time": "2022-02-11T14:44:25.125Z"
   },
   {
    "duration": 4,
    "start_time": "2022-02-11T14:44:29.073Z"
   },
   {
    "duration": 4,
    "start_time": "2022-02-11T14:44:33.685Z"
   },
   {
    "duration": 4,
    "start_time": "2022-02-11T14:44:38.974Z"
   },
   {
    "duration": 3,
    "start_time": "2022-02-11T14:48:12.818Z"
   },
   {
    "duration": 179,
    "start_time": "2022-02-11T14:49:25.263Z"
   },
   {
    "duration": 7,
    "start_time": "2022-02-11T14:49:34.673Z"
   },
   {
    "duration": 2,
    "start_time": "2022-02-11T15:01:27.495Z"
   },
   {
    "duration": 31,
    "start_time": "2022-02-11T15:03:02.125Z"
   },
   {
    "duration": 26,
    "start_time": "2022-02-11T15:03:08.172Z"
   },
   {
    "duration": 1261,
    "start_time": "2022-02-11T15:03:25.221Z"
   },
   {
    "duration": 33,
    "start_time": "2022-02-11T15:03:51.848Z"
   },
   {
    "duration": 11,
    "start_time": "2022-02-11T15:04:07.761Z"
   },
   {
    "duration": 26,
    "start_time": "2022-02-11T15:05:37.774Z"
   },
   {
    "duration": 258,
    "start_time": "2022-02-11T15:05:43.419Z"
   },
   {
    "duration": 18,
    "start_time": "2022-02-11T15:05:56.366Z"
   },
   {
    "duration": 27,
    "start_time": "2022-02-11T15:06:03.905Z"
   },
   {
    "duration": 6,
    "start_time": "2022-02-11T15:06:10.442Z"
   },
   {
    "duration": 6,
    "start_time": "2022-02-11T15:06:15.781Z"
   },
   {
    "duration": 41,
    "start_time": "2022-02-11T15:06:23.963Z"
   },
   {
    "duration": 26,
    "start_time": "2022-02-11T15:06:29.587Z"
   },
   {
    "duration": 7,
    "start_time": "2022-02-11T15:07:08.125Z"
   },
   {
    "duration": 25,
    "start_time": "2022-02-11T15:07:11.960Z"
   },
   {
    "duration": 15,
    "start_time": "2022-02-11T15:09:05.418Z"
   },
   {
    "duration": 60,
    "start_time": "2022-02-11T15:13:51.734Z"
   },
   {
    "duration": 258,
    "start_time": "2022-02-11T15:13:58.259Z"
   },
   {
    "duration": 338,
    "start_time": "2022-02-11T15:14:18.731Z"
   },
   {
    "duration": 29,
    "start_time": "2022-02-11T15:15:02.662Z"
   },
   {
    "duration": 5,
    "start_time": "2022-02-11T15:15:15.251Z"
   },
   {
    "duration": 8,
    "start_time": "2022-02-11T15:16:50.039Z"
   },
   {
    "duration": 1180,
    "start_time": "2022-02-11T15:33:10.644Z"
   },
   {
    "duration": 772,
    "start_time": "2022-02-11T15:33:11.826Z"
   },
   {
    "duration": 429,
    "start_time": "2022-02-11T15:33:12.600Z"
   },
   {
    "duration": 5,
    "start_time": "2022-02-11T15:33:13.031Z"
   },
   {
    "duration": 6,
    "start_time": "2022-02-11T15:33:13.037Z"
   },
   {
    "duration": 24,
    "start_time": "2022-02-11T15:33:13.044Z"
   },
   {
    "duration": 26,
    "start_time": "2022-02-11T15:33:13.070Z"
   },
   {
    "duration": 2141,
    "start_time": "2022-02-11T15:33:13.098Z"
   },
   {
    "duration": 689,
    "start_time": "2022-02-11T15:33:15.241Z"
   },
   {
    "duration": 1130,
    "start_time": "2022-02-11T15:33:15.932Z"
   },
   {
    "duration": 10,
    "start_time": "2022-02-11T15:33:17.064Z"
   },
   {
    "duration": 21,
    "start_time": "2022-02-11T15:33:17.075Z"
   },
   {
    "duration": 3,
    "start_time": "2022-02-11T15:33:17.097Z"
   },
   {
    "duration": 15,
    "start_time": "2022-02-11T15:33:17.102Z"
   },
   {
    "duration": 167994,
    "start_time": "2022-02-11T15:33:38.357Z"
   },
   {
    "duration": 4,
    "start_time": "2022-02-11T15:37:16.904Z"
   },
   {
    "duration": 833911,
    "start_time": "2022-02-11T15:38:59.705Z"
   },
   {
    "duration": 5,
    "start_time": "2022-02-11T15:53:06.947Z"
   },
   {
    "duration": 278,
    "start_time": "2022-02-11T15:54:37.048Z"
   },
   {
    "duration": 8,
    "start_time": "2022-02-11T15:55:12.167Z"
   },
   {
    "duration": 208,
    "start_time": "2022-02-11T15:55:21.752Z"
   },
   {
    "duration": 9,
    "start_time": "2022-02-11T15:55:34.698Z"
   },
   {
    "duration": 2795,
    "start_time": "2022-02-11T15:58:40.806Z"
   },
   {
    "duration": 2820,
    "start_time": "2022-02-11T15:59:35.706Z"
   },
   {
    "duration": 8,
    "start_time": "2022-02-11T15:59:44.783Z"
   },
   {
    "duration": 9,
    "start_time": "2022-02-11T15:59:46.510Z"
   },
   {
    "duration": 8,
    "start_time": "2022-02-11T15:59:48.004Z"
   },
   {
    "duration": 2800,
    "start_time": "2022-02-11T15:59:49.536Z"
   },
   {
    "duration": 2845,
    "start_time": "2022-02-11T16:00:02.605Z"
   },
   {
    "duration": 8,
    "start_time": "2022-02-11T16:09:06.256Z"
   },
   {
    "duration": 6,
    "start_time": "2022-02-11T16:09:28.897Z"
   },
   {
    "duration": 4,
    "start_time": "2022-02-11T16:10:02.128Z"
   },
   {
    "duration": 4,
    "start_time": "2022-02-11T16:10:10.097Z"
   },
   {
    "duration": 5,
    "start_time": "2022-02-11T16:10:24.308Z"
   },
   {
    "duration": 2782,
    "start_time": "2022-02-11T16:12:12.349Z"
   },
   {
    "duration": 5,
    "start_time": "2022-02-11T16:12:18.225Z"
   },
   {
    "duration": 2800,
    "start_time": "2022-02-11T16:12:27.847Z"
   },
   {
    "duration": 6,
    "start_time": "2022-02-11T16:12:32.208Z"
   },
   {
    "duration": 5,
    "start_time": "2022-02-11T16:12:41.100Z"
   },
   {
    "duration": 1522,
    "start_time": "2022-02-11T21:34:31.621Z"
   },
   {
    "duration": 955,
    "start_time": "2022-02-11T21:34:33.145Z"
   },
   {
    "duration": 699,
    "start_time": "2022-02-11T21:34:34.103Z"
   },
   {
    "duration": 7,
    "start_time": "2022-02-11T21:34:34.804Z"
   },
   {
    "duration": 19,
    "start_time": "2022-02-11T21:34:34.813Z"
   },
   {
    "duration": 20,
    "start_time": "2022-02-11T21:34:34.834Z"
   },
   {
    "duration": 25,
    "start_time": "2022-02-11T21:34:34.857Z"
   },
   {
    "duration": 3532,
    "start_time": "2022-02-11T21:34:34.885Z"
   },
   {
    "duration": 1124,
    "start_time": "2022-02-11T21:34:38.420Z"
   },
   {
    "duration": 1735,
    "start_time": "2022-02-11T21:34:39.546Z"
   },
   {
    "duration": 13,
    "start_time": "2022-02-11T21:34:41.285Z"
   },
   {
    "duration": 47,
    "start_time": "2022-02-11T21:34:41.301Z"
   },
   {
    "duration": 5,
    "start_time": "2022-02-11T21:34:41.351Z"
   },
   {
    "duration": 12,
    "start_time": "2022-02-11T21:35:20.191Z"
   },
   {
    "duration": 10,
    "start_time": "2022-02-11T21:38:05.271Z"
   },
   {
    "duration": 9,
    "start_time": "2022-02-11T21:38:13.164Z"
   },
   {
    "duration": 323,
    "start_time": "2022-02-11T21:39:09.452Z"
   },
   {
    "duration": 1101774,
    "start_time": "2022-02-11T21:39:16.575Z"
   },
   {
    "duration": 21,
    "start_time": "2022-02-11T21:58:50.854Z"
   },
   {
    "duration": 8,
    "start_time": "2022-02-11T21:58:51.157Z"
   },
   {
    "duration": 21,
    "start_time": "2022-02-11T21:59:00.099Z"
   },
   {
    "duration": 8,
    "start_time": "2022-02-11T21:59:00.847Z"
   },
   {
    "duration": 20,
    "start_time": "2022-02-11T21:59:43.948Z"
   },
   {
    "duration": 8,
    "start_time": "2022-02-11T21:59:44.302Z"
   },
   {
    "duration": 8,
    "start_time": "2022-02-11T21:59:54.303Z"
   },
   {
    "duration": 6,
    "start_time": "2022-02-11T22:01:38.543Z"
   },
   {
    "duration": 1082546,
    "start_time": "2022-02-11T22:02:11.925Z"
   },
   {
    "duration": 26,
    "start_time": "2022-02-11T22:21:09.555Z"
   },
   {
    "duration": 7,
    "start_time": "2022-02-11T22:21:25.527Z"
   },
   {
    "duration": 6,
    "start_time": "2022-02-11T22:21:49.251Z"
   },
   {
    "duration": 19,
    "start_time": "2022-02-11T22:24:52.058Z"
   },
   {
    "duration": 6,
    "start_time": "2022-02-11T22:32:18.494Z"
   },
   {
    "duration": 10,
    "start_time": "2022-02-11T22:33:38.935Z"
   },
   {
    "duration": 8,
    "start_time": "2022-02-11T22:34:06.534Z"
   },
   {
    "duration": 8,
    "start_time": "2022-02-11T22:34:13.972Z"
   },
   {
    "duration": 14,
    "start_time": "2022-02-11T22:34:42.317Z"
   },
   {
    "duration": 11,
    "start_time": "2022-02-11T22:34:50.508Z"
   },
   {
    "duration": 5,
    "start_time": "2022-02-11T22:38:59.419Z"
   },
   {
    "duration": 4,
    "start_time": "2022-02-11T22:45:41.498Z"
   },
   {
    "duration": 1598,
    "start_time": "2022-02-11T22:53:44.736Z"
   },
   {
    "duration": 1547,
    "start_time": "2022-02-11T22:54:01.487Z"
   },
   {
    "duration": 401,
    "start_time": "2022-02-11T23:00:36.820Z"
   },
   {
    "duration": 1439,
    "start_time": "2022-02-11T23:00:45.701Z"
   },
   {
    "duration": 1625,
    "start_time": "2022-02-11T23:02:11.409Z"
   },
   {
    "duration": 261,
    "start_time": "2022-02-11T23:02:44.332Z"
   },
   {
    "duration": 1632,
    "start_time": "2022-02-11T23:02:54.600Z"
   },
   {
    "duration": 258,
    "start_time": "2022-02-11T23:05:23.891Z"
   },
   {
    "duration": 4,
    "start_time": "2022-02-11T23:06:55.050Z"
   },
   {
    "duration": 227,
    "start_time": "2022-02-11T23:06:55.634Z"
   },
   {
    "duration": 235,
    "start_time": "2022-02-11T23:07:28.675Z"
   },
   {
    "duration": 238,
    "start_time": "2022-02-11T23:07:35.793Z"
   },
   {
    "duration": 4,
    "start_time": "2022-02-11T23:08:16.000Z"
   },
   {
    "duration": 240,
    "start_time": "2022-02-11T23:08:21.767Z"
   },
   {
    "duration": 263,
    "start_time": "2022-02-11T23:11:13.697Z"
   },
   {
    "duration": 1430,
    "start_time": "2022-02-11T23:23:25.204Z"
   },
   {
    "duration": 253,
    "start_time": "2022-02-11T23:25:19.688Z"
   },
   {
    "duration": 232,
    "start_time": "2022-02-11T23:25:34.271Z"
   },
   {
    "duration": 104,
    "start_time": "2022-02-11T23:26:03.766Z"
   },
   {
    "duration": 255,
    "start_time": "2022-02-11T23:26:09.581Z"
   },
   {
    "duration": 1600,
    "start_time": "2022-02-11T23:26:14.932Z"
   },
   {
    "duration": 4,
    "start_time": "2022-02-11T23:28:04.250Z"
   },
   {
    "duration": 4,
    "start_time": "2022-02-11T23:29:01.527Z"
   },
   {
    "duration": 1709,
    "start_time": "2022-02-11T23:29:05.124Z"
   },
   {
    "duration": 285,
    "start_time": "2022-02-11T23:29:19.330Z"
   },
   {
    "duration": 3,
    "start_time": "2022-02-11T23:29:35.374Z"
   },
   {
    "duration": 232,
    "start_time": "2022-02-11T23:30:47.356Z"
   },
   {
    "duration": 254,
    "start_time": "2022-02-11T23:30:55.397Z"
   },
   {
    "duration": 250,
    "start_time": "2022-02-11T23:30:55.881Z"
   },
   {
    "duration": 261,
    "start_time": "2022-02-11T23:31:45.105Z"
   },
   {
    "duration": 1421,
    "start_time": "2022-02-11T23:31:50.918Z"
   },
   {
    "duration": 6,
    "start_time": "2022-02-11T23:32:39.621Z"
   },
   {
    "duration": 248,
    "start_time": "2022-02-11T23:33:34.352Z"
   },
   {
    "duration": 249,
    "start_time": "2022-02-11T23:34:23.134Z"
   },
   {
    "duration": 83,
    "start_time": "2022-02-11T23:34:29.957Z"
   },
   {
    "duration": 8,
    "start_time": "2022-02-11T23:34:32.554Z"
   },
   {
    "duration": 61,
    "start_time": "2022-02-11T23:34:57.479Z"
   },
   {
    "duration": 1918,
    "start_time": "2022-02-11T23:35:21.416Z"
   },
   {
    "duration": 251,
    "start_time": "2022-02-11T23:35:25.058Z"
   },
   {
    "duration": 180,
    "start_time": "2022-02-11T23:36:19.556Z"
   },
   {
    "duration": 11,
    "start_time": "2022-02-11T23:36:20.454Z"
   },
   {
    "duration": 203,
    "start_time": "2022-02-11T23:36:25.838Z"
   },
   {
    "duration": 6,
    "start_time": "2022-02-11T23:36:36.412Z"
   },
   {
    "duration": 10,
    "start_time": "2022-02-11T23:36:44.421Z"
   },
   {
    "duration": 6,
    "start_time": "2022-02-11T23:37:07.352Z"
   },
   {
    "duration": 6,
    "start_time": "2022-02-11T23:37:15.742Z"
   },
   {
    "duration": 10,
    "start_time": "2022-02-11T23:37:22.556Z"
   },
   {
    "duration": 4,
    "start_time": "2022-02-11T23:37:40.925Z"
   },
   {
    "duration": 4,
    "start_time": "2022-02-11T23:37:43.651Z"
   },
   {
    "duration": 258,
    "start_time": "2022-02-11T23:37:45.454Z"
   },
   {
    "duration": 87,
    "start_time": "2022-02-11T23:37:47.055Z"
   },
   {
    "duration": 9,
    "start_time": "2022-02-11T23:37:47.780Z"
   },
   {
    "duration": 172,
    "start_time": "2022-02-11T23:37:58.362Z"
   },
   {
    "duration": 6,
    "start_time": "2022-02-11T23:37:59.607Z"
   },
   {
    "duration": 9,
    "start_time": "2022-02-11T23:37:59.988Z"
   },
   {
    "duration": 6,
    "start_time": "2022-02-11T23:38:07.704Z"
   },
   {
    "duration": 6,
    "start_time": "2022-02-11T23:38:11.796Z"
   },
   {
    "duration": 8,
    "start_time": "2022-02-11T23:40:46.196Z"
   },
   {
    "duration": 12,
    "start_time": "2022-02-11T23:41:05.081Z"
   },
   {
    "duration": 4,
    "start_time": "2022-02-11T23:41:09.926Z"
   },
   {
    "duration": 103,
    "start_time": "2022-02-11T23:41:10.636Z"
   },
   {
    "duration": 10,
    "start_time": "2022-02-11T23:41:12.663Z"
   },
   {
    "duration": 106,
    "start_time": "2022-02-11T23:41:15.334Z"
   },
   {
    "duration": 5,
    "start_time": "2022-02-11T23:41:19.491Z"
   },
   {
    "duration": 10,
    "start_time": "2022-02-11T23:41:23.188Z"
   },
   {
    "duration": 11,
    "start_time": "2022-02-11T23:41:25.787Z"
   },
   {
    "duration": 11,
    "start_time": "2022-02-11T23:41:33.975Z"
   },
   {
    "duration": 1530,
    "start_time": "2022-02-11T23:46:39.004Z"
   },
   {
    "duration": 942,
    "start_time": "2022-02-11T23:46:40.537Z"
   },
   {
    "duration": 706,
    "start_time": "2022-02-11T23:46:41.483Z"
   },
   {
    "duration": 8,
    "start_time": "2022-02-11T23:46:42.192Z"
   },
   {
    "duration": 7,
    "start_time": "2022-02-11T23:46:42.202Z"
   },
   {
    "duration": 20,
    "start_time": "2022-02-11T23:46:42.233Z"
   },
   {
    "duration": 23,
    "start_time": "2022-02-11T23:46:42.255Z"
   },
   {
    "duration": 3320,
    "start_time": "2022-02-11T23:46:42.283Z"
   },
   {
    "duration": 1100,
    "start_time": "2022-02-11T23:46:45.606Z"
   },
   {
    "duration": 1692,
    "start_time": "2022-02-11T23:46:46.709Z"
   },
   {
    "duration": 14,
    "start_time": "2022-02-11T23:46:48.403Z"
   },
   {
    "duration": 31,
    "start_time": "2022-02-11T23:46:48.420Z"
   },
   {
    "duration": 4,
    "start_time": "2022-02-11T23:46:48.453Z"
   },
   {
    "duration": 11,
    "start_time": "2022-02-11T23:46:48.460Z"
   },
   {
    "duration": 1917,
    "start_time": "2022-02-12T10:22:34.916Z"
   },
   {
    "duration": 984,
    "start_time": "2022-02-12T10:22:36.836Z"
   },
   {
    "duration": 469,
    "start_time": "2022-02-12T10:22:37.823Z"
   },
   {
    "duration": 14,
    "start_time": "2022-02-12T10:22:38.294Z"
   },
   {
    "duration": 6,
    "start_time": "2022-02-12T10:22:38.310Z"
   },
   {
    "duration": 30,
    "start_time": "2022-02-12T10:22:38.318Z"
   },
   {
    "duration": 28,
    "start_time": "2022-02-12T10:22:38.351Z"
   },
   {
    "duration": 3659,
    "start_time": "2022-02-12T10:22:38.406Z"
   },
   {
    "duration": 951,
    "start_time": "2022-02-12T10:22:42.068Z"
   },
   {
    "duration": 1844,
    "start_time": "2022-02-12T10:22:43.021Z"
   },
   {
    "duration": 11,
    "start_time": "2022-02-12T10:22:53.314Z"
   },
   {
    "duration": 19,
    "start_time": "2022-02-12T10:23:00.741Z"
   },
   {
    "duration": 4,
    "start_time": "2022-02-12T10:24:01.345Z"
   },
   {
    "duration": 10,
    "start_time": "2022-02-12T10:24:02.268Z"
   },
   {
    "duration": 1305,
    "start_time": "2022-02-12T10:28:53.001Z"
   },
   {
    "duration": 789,
    "start_time": "2022-02-12T10:28:54.308Z"
   },
   {
    "duration": 480,
    "start_time": "2022-02-12T10:28:55.107Z"
   },
   {
    "duration": 5,
    "start_time": "2022-02-12T10:28:55.589Z"
   },
   {
    "duration": 5,
    "start_time": "2022-02-12T10:28:55.608Z"
   },
   {
    "duration": 21,
    "start_time": "2022-02-12T10:28:55.614Z"
   },
   {
    "duration": 27,
    "start_time": "2022-02-12T10:28:55.636Z"
   },
   {
    "duration": 2490,
    "start_time": "2022-02-12T10:28:55.665Z"
   },
   {
    "duration": 865,
    "start_time": "2022-02-12T10:28:58.159Z"
   },
   {
    "duration": 1204,
    "start_time": "2022-02-12T10:28:59.027Z"
   },
   {
    "duration": 12,
    "start_time": "2022-02-12T10:29:00.233Z"
   },
   {
    "duration": 28,
    "start_time": "2022-02-12T10:29:00.247Z"
   },
   {
    "duration": 5,
    "start_time": "2022-02-12T10:29:00.277Z"
   },
   {
    "duration": 25,
    "start_time": "2022-02-12T10:29:00.284Z"
   },
   {
    "duration": 29,
    "start_time": "2022-02-12T10:29:32.155Z"
   },
   {
    "duration": 1048175,
    "start_time": "2022-02-12T10:30:05.137Z"
   },
   {
    "duration": 8,
    "start_time": "2022-02-12T10:49:15.721Z"
   },
   {
    "duration": 334,
    "start_time": "2022-02-12T10:50:08.000Z"
   },
   {
    "duration": 1033938,
    "start_time": "2022-02-12T10:50:17.952Z"
   },
   {
    "duration": 13,
    "start_time": "2022-02-12T11:16:24.091Z"
   },
   {
    "duration": 7,
    "start_time": "2022-02-12T11:16:26.416Z"
   },
   {
    "duration": 29,
    "start_time": "2022-02-12T11:17:00.585Z"
   },
   {
    "duration": 15,
    "start_time": "2022-02-12T11:17:03.030Z"
   },
   {
    "duration": 112,
    "start_time": "2022-02-12T11:17:04.797Z"
   },
   {
    "duration": 5,
    "start_time": "2022-02-12T11:17:09.713Z"
   },
   {
    "duration": 9,
    "start_time": "2022-02-12T11:17:21.378Z"
   },
   {
    "duration": 3,
    "start_time": "2022-02-12T11:22:20.412Z"
   },
   {
    "duration": 239,
    "start_time": "2022-02-12T11:22:22.104Z"
   },
   {
    "duration": 1475,
    "start_time": "2022-02-12T11:22:51.136Z"
   },
   {
    "duration": 261,
    "start_time": "2022-02-12T11:23:40.832Z"
   },
   {
    "duration": 1378,
    "start_time": "2022-02-12T11:24:38.928Z"
   },
   {
    "duration": 257,
    "start_time": "2022-02-12T11:24:55.943Z"
   },
   {
    "duration": 2068,
    "start_time": "2022-02-12T11:25:23.638Z"
   },
   {
    "duration": 1591,
    "start_time": "2022-02-12T11:25:42.719Z"
   },
   {
    "duration": 1304,
    "start_time": "2022-02-12T11:25:56.414Z"
   },
   {
    "duration": 1371,
    "start_time": "2022-02-12T11:26:05.638Z"
   },
   {
    "duration": 1655,
    "start_time": "2022-02-12T11:30:33.457Z"
   },
   {
    "duration": 259,
    "start_time": "2022-02-12T11:31:01.171Z"
   },
   {
    "duration": 277,
    "start_time": "2022-02-12T11:32:16.574Z"
   },
   {
    "duration": 1750,
    "start_time": "2022-02-12T11:34:19.370Z"
   },
   {
    "duration": 253,
    "start_time": "2022-02-12T11:35:36.684Z"
   },
   {
    "duration": 1943,
    "start_time": "2022-02-12T11:35:52.470Z"
   },
   {
    "duration": 1454,
    "start_time": "2022-02-12T11:36:52.174Z"
   },
   {
    "duration": 1696,
    "start_time": "2022-02-12T11:37:06.082Z"
   },
   {
    "duration": 1777,
    "start_time": "2022-02-12T11:37:12.742Z"
   },
   {
    "duration": 2940,
    "start_time": "2022-02-12T11:37:17.768Z"
   },
   {
    "duration": 276,
    "start_time": "2022-02-12T11:37:50.054Z"
   },
   {
    "duration": 1272,
    "start_time": "2022-02-12T11:37:55.073Z"
   },
   {
    "duration": 768,
    "start_time": "2022-02-12T11:38:10.250Z"
   },
   {
    "duration": 1436,
    "start_time": "2022-02-12T11:38:15.378Z"
   },
   {
    "duration": 1374,
    "start_time": "2022-02-12T11:39:01.434Z"
   },
   {
    "duration": 1307,
    "start_time": "2022-02-12T11:40:23.006Z"
   },
   {
    "duration": 65,
    "start_time": "2022-02-12T11:40:51.249Z"
   },
   {
    "duration": 8,
    "start_time": "2022-02-12T11:41:09.902Z"
   },
   {
    "duration": 1498,
    "start_time": "2022-02-12T11:41:59.613Z"
   },
   {
    "duration": 42,
    "start_time": "2022-02-12T11:42:16.767Z"
   },
   {
    "duration": 40,
    "start_time": "2022-02-12T11:48:10.877Z"
   },
   {
    "duration": 25,
    "start_time": "2022-02-12T11:48:11.871Z"
   },
   {
    "duration": 7,
    "start_time": "2022-02-12T11:48:12.640Z"
   },
   {
    "duration": 8,
    "start_time": "2022-02-12T11:51:27.809Z"
   },
   {
    "duration": 31,
    "start_time": "2022-02-12T11:54:33.535Z"
   },
   {
    "duration": 73,
    "start_time": "2022-02-12T11:54:52.255Z"
   },
   {
    "duration": 8,
    "start_time": "2022-02-12T11:55:18.038Z"
   },
   {
    "duration": 8,
    "start_time": "2022-02-12T12:04:54.871Z"
   },
   {
    "duration": 298,
    "start_time": "2022-02-13T11:55:36.467Z"
   },
   {
    "duration": 1295,
    "start_time": "2022-02-13T11:55:40.715Z"
   },
   {
    "duration": 852,
    "start_time": "2022-02-13T11:55:45.272Z"
   },
   {
    "duration": 489,
    "start_time": "2022-02-13T11:55:46.338Z"
   },
   {
    "duration": 7,
    "start_time": "2022-02-13T11:55:48.476Z"
   },
   {
    "duration": 5,
    "start_time": "2022-02-13T11:56:29.100Z"
   },
   {
    "duration": 17,
    "start_time": "2022-02-13T11:56:34.245Z"
   },
   {
    "duration": 27,
    "start_time": "2022-02-13T11:56:35.368Z"
   },
   {
    "duration": 2530,
    "start_time": "2022-02-13T11:56:38.345Z"
   },
   {
    "duration": 2639,
    "start_time": "2022-02-13T11:57:07.211Z"
   },
   {
    "duration": 994,
    "start_time": "2022-02-13T11:59:30.922Z"
   },
   {
    "duration": 7,
    "start_time": "2022-02-13T12:04:44.820Z"
   },
   {
    "duration": 903,
    "start_time": "2022-02-13T12:08:15.346Z"
   },
   {
    "duration": 1284,
    "start_time": "2022-02-13T12:08:52.767Z"
   },
   {
    "duration": 7,
    "start_time": "2022-02-13T12:10:10.619Z"
   },
   {
    "duration": 6,
    "start_time": "2022-02-13T12:10:17.118Z"
   },
   {
    "duration": 5,
    "start_time": "2022-02-13T12:10:26.430Z"
   },
   {
    "duration": 109,
    "start_time": "2022-02-13T12:10:37.131Z"
   },
   {
    "duration": 3,
    "start_time": "2022-02-13T12:12:34.879Z"
   },
   {
    "duration": 5,
    "start_time": "2022-02-13T12:12:40.313Z"
   },
   {
    "duration": 1340,
    "start_time": "2022-02-13T12:12:43.151Z"
   },
   {
    "duration": 7,
    "start_time": "2022-02-13T12:12:47.220Z"
   },
   {
    "duration": 6,
    "start_time": "2022-02-13T12:12:49.911Z"
   },
   {
    "duration": 9,
    "start_time": "2022-02-13T12:13:10.811Z"
   },
   {
    "duration": 8,
    "start_time": "2022-02-13T12:13:23.183Z"
   },
   {
    "duration": 6722,
    "start_time": "2022-02-13T12:14:25.915Z"
   },
   {
    "duration": 5,
    "start_time": "2022-02-13T12:14:41.929Z"
   },
   {
    "duration": 5,
    "start_time": "2022-02-13T12:15:06.505Z"
   },
   {
    "duration": 4,
    "start_time": "2022-02-13T12:15:08.092Z"
   },
   {
    "duration": 8,
    "start_time": "2022-02-13T12:15:15.598Z"
   },
   {
    "duration": 5,
    "start_time": "2022-02-13T12:15:28.224Z"
   },
   {
    "duration": 6,
    "start_time": "2022-02-13T12:15:33.655Z"
   },
   {
    "duration": 2,
    "start_time": "2022-02-13T12:22:16.255Z"
   },
   {
    "duration": 35,
    "start_time": "2022-02-13T12:22:19.877Z"
   },
   {
    "duration": 70,
    "start_time": "2022-02-13T12:23:03.075Z"
   },
   {
    "duration": 282,
    "start_time": "2022-02-13T12:23:20.344Z"
   },
   {
    "duration": 285,
    "start_time": "2022-02-13T12:23:31.428Z"
   },
   {
    "duration": 10,
    "start_time": "2022-02-13T12:23:38.264Z"
   },
   {
    "duration": 47,
    "start_time": "2022-02-13T12:23:58.966Z"
   },
   {
    "duration": 276,
    "start_time": "2022-02-13T12:24:22.650Z"
   },
   {
    "duration": 8,
    "start_time": "2022-02-13T12:24:28.487Z"
   },
   {
    "duration": 34,
    "start_time": "2022-02-13T12:24:33.494Z"
   },
   {
    "duration": 57,
    "start_time": "2022-02-13T12:24:45.299Z"
   },
   {
    "duration": 262,
    "start_time": "2022-02-13T12:24:52.726Z"
   },
   {
    "duration": 61,
    "start_time": "2022-02-13T12:25:55.914Z"
   },
   {
    "duration": 14,
    "start_time": "2022-02-13T12:26:24.573Z"
   },
   {
    "duration": 38,
    "start_time": "2022-02-13T12:26:28.724Z"
   },
   {
    "duration": 7,
    "start_time": "2022-02-13T12:26:40.766Z"
   },
   {
    "duration": 7,
    "start_time": "2022-02-13T12:26:42.915Z"
   },
   {
    "duration": 3,
    "start_time": "2022-02-13T12:26:53.388Z"
   },
   {
    "duration": 8,
    "start_time": "2022-02-13T12:26:54.247Z"
   },
   {
    "duration": 4,
    "start_time": "2022-02-13T12:26:58.424Z"
   },
   {
    "duration": 8,
    "start_time": "2022-02-13T12:26:59.138Z"
   },
   {
    "duration": 8,
    "start_time": "2022-02-13T12:27:07.435Z"
   },
   {
    "duration": 5,
    "start_time": "2022-02-13T12:27:16.522Z"
   },
   {
    "duration": 8,
    "start_time": "2022-02-13T12:27:23.700Z"
   },
   {
    "duration": 1268,
    "start_time": "2022-02-13T12:28:23.713Z"
   },
   {
    "duration": 852,
    "start_time": "2022-02-13T12:28:24.983Z"
   },
   {
    "duration": 509,
    "start_time": "2022-02-13T12:28:25.837Z"
   },
   {
    "duration": 6,
    "start_time": "2022-02-13T12:28:26.348Z"
   },
   {
    "duration": 7,
    "start_time": "2022-02-13T12:28:26.356Z"
   },
   {
    "duration": 48,
    "start_time": "2022-02-13T12:28:26.365Z"
   },
   {
    "duration": 23,
    "start_time": "2022-02-13T12:28:26.415Z"
   },
   {
    "duration": 2695,
    "start_time": "2022-02-13T12:28:26.441Z"
   },
   {
    "duration": 906,
    "start_time": "2022-02-13T12:28:29.138Z"
   },
   {
    "duration": 1527,
    "start_time": "2022-02-13T12:28:30.046Z"
   },
   {
    "duration": 7011,
    "start_time": "2022-02-13T12:29:33.448Z"
   },
   {
    "duration": 5,
    "start_time": "2022-02-13T12:29:41.819Z"
   },
   {
    "duration": 7,
    "start_time": "2022-02-13T12:29:42.090Z"
   },
   {
    "duration": 33,
    "start_time": "2022-02-13T12:29:45.740Z"
   },
   {
    "duration": 4,
    "start_time": "2022-02-13T12:29:55.356Z"
   },
   {
    "duration": 299,
    "start_time": "2022-02-13T12:30:01.992Z"
   },
   {
    "duration": 33,
    "start_time": "2022-02-13T12:30:02.410Z"
   },
   {
    "duration": 5,
    "start_time": "2022-02-13T12:30:17.797Z"
   },
   {
    "duration": 64,
    "start_time": "2022-02-13T12:30:39.612Z"
   },
   {
    "duration": 47,
    "start_time": "2022-02-13T12:33:06.035Z"
   },
   {
    "duration": 6,
    "start_time": "2022-02-13T12:33:24.759Z"
   },
   {
    "duration": 11,
    "start_time": "2022-02-13T12:34:01.750Z"
   },
   {
    "duration": 4,
    "start_time": "2022-02-13T12:34:02.849Z"
   },
   {
    "duration": 44,
    "start_time": "2022-02-13T12:34:10.265Z"
   },
   {
    "duration": 18,
    "start_time": "2022-02-13T12:34:16.796Z"
   },
   {
    "duration": 16,
    "start_time": "2022-02-13T12:34:40.620Z"
   },
   {
    "duration": 1259,
    "start_time": "2022-02-13T13:14:54.144Z"
   },
   {
    "duration": 913,
    "start_time": "2022-02-13T13:14:55.405Z"
   },
   {
    "duration": 478,
    "start_time": "2022-02-13T13:14:56.320Z"
   },
   {
    "duration": 6,
    "start_time": "2022-02-13T13:14:56.800Z"
   },
   {
    "duration": 5,
    "start_time": "2022-02-13T13:14:56.807Z"
   },
   {
    "duration": 18,
    "start_time": "2022-02-13T13:14:56.814Z"
   },
   {
    "duration": 23,
    "start_time": "2022-02-13T13:14:56.833Z"
   },
   {
    "duration": 2666,
    "start_time": "2022-02-13T13:14:56.858Z"
   },
   {
    "duration": 888,
    "start_time": "2022-02-13T13:14:59.527Z"
   },
   {
    "duration": 1671,
    "start_time": "2022-02-13T13:15:00.417Z"
   },
   {
    "duration": 38,
    "start_time": "2022-02-13T13:15:02.090Z"
   },
   {
    "duration": 5,
    "start_time": "2022-02-13T13:16:06.310Z"
   },
   {
    "duration": 9,
    "start_time": "2022-02-13T13:16:16.951Z"
   },
   {
    "duration": 18,
    "start_time": "2022-02-13T13:16:20.130Z"
   },
   {
    "duration": 441,
    "start_time": "2022-02-13T13:28:09.520Z"
   },
   {
    "duration": 7,
    "start_time": "2022-02-13T13:28:23.845Z"
   },
   {
    "duration": 1253,
    "start_time": "2022-02-13T13:28:42.644Z"
   },
   {
    "duration": 1140,
    "start_time": "2022-02-13T13:28:43.906Z"
   },
   {
    "duration": 508,
    "start_time": "2022-02-13T13:28:45.048Z"
   },
   {
    "duration": 7,
    "start_time": "2022-02-13T13:28:45.558Z"
   },
   {
    "duration": 8,
    "start_time": "2022-02-13T13:28:45.567Z"
   },
   {
    "duration": 45,
    "start_time": "2022-02-13T13:28:45.577Z"
   },
   {
    "duration": 24,
    "start_time": "2022-02-13T13:28:45.624Z"
   },
   {
    "duration": 2597,
    "start_time": "2022-02-13T13:28:45.650Z"
   },
   {
    "duration": 837,
    "start_time": "2022-02-13T13:28:48.250Z"
   },
   {
    "duration": 1352,
    "start_time": "2022-02-13T13:28:49.089Z"
   },
   {
    "duration": 21,
    "start_time": "2022-02-13T13:28:50.443Z"
   },
   {
    "duration": 8,
    "start_time": "2022-02-13T13:30:22.511Z"
   },
   {
    "duration": 18,
    "start_time": "2022-02-13T13:30:26.840Z"
   },
   {
    "duration": 3,
    "start_time": "2022-02-13T13:30:29.877Z"
   },
   {
    "duration": 9,
    "start_time": "2022-02-13T13:30:32.065Z"
   },
   {
    "duration": 1027872,
    "start_time": "2022-02-13T13:30:36.775Z"
   },
   {
    "duration": 8,
    "start_time": "2022-02-13T13:48:23.636Z"
   },
   {
    "duration": 1051662,
    "start_time": "2022-02-13T13:48:27.267Z"
   },
   {
    "duration": 17,
    "start_time": "2022-02-13T14:08:45.191Z"
   },
   {
    "duration": 8,
    "start_time": "2022-02-13T14:08:46.580Z"
   },
   {
    "duration": 1799,
    "start_time": "2022-02-13T14:08:59.505Z"
   },
   {
    "duration": 69,
    "start_time": "2022-02-13T14:09:09.332Z"
   },
   {
    "duration": 5,
    "start_time": "2022-02-13T14:09:10.909Z"
   },
   {
    "duration": 1812,
    "start_time": "2022-02-13T14:09:11.988Z"
   },
   {
    "duration": 200,
    "start_time": "2022-02-13T14:09:13.803Z"
   },
   {
    "duration": 13,
    "start_time": "2022-02-13T14:09:16.134Z"
   },
   {
    "duration": 10,
    "start_time": "2022-02-13T14:09:17.545Z"
   },
   {
    "duration": 13,
    "start_time": "2022-02-13T14:11:46.793Z"
   },
   {
    "duration": 9,
    "start_time": "2022-02-13T14:15:10.811Z"
   },
   {
    "duration": 8,
    "start_time": "2022-02-13T14:17:54.580Z"
   }
  ],
  "kernelspec": {
   "display_name": "Python 3",
   "language": "python",
   "name": "python3"
  },
  "language_info": {
   "codemirror_mode": {
    "name": "ipython",
    "version": 3
   },
   "file_extension": ".py",
   "mimetype": "text/x-python",
   "name": "python",
   "nbconvert_exporter": "python",
   "pygments_lexer": "ipython3",
   "version": "3.8.5"
  },
  "toc": {
   "base_numbering": 1,
   "nav_menu": {},
   "number_sections": true,
   "sideBar": true,
   "skip_h1_title": true,
   "title_cell": "Содержание",
   "title_sidebar": "Contents",
   "toc_cell": true,
   "toc_position": {
    "height": "calc(100% - 180px)",
    "left": "10px",
    "top": "150px",
    "width": "214px"
   },
   "toc_section_display": true,
   "toc_window_display": true
  }
 },
 "nbformat": 4,
 "nbformat_minor": 2
}
