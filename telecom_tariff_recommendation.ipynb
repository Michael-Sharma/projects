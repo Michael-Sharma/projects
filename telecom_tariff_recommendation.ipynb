{
 "cells": [
  {
   "cell_type": "code",
   "execution_count": 2,
   "metadata": {},
   "outputs": [],
   "source": [
    "import pandas as pd\n",
    "from sklearn.model_selection import train_test_split\n",
    "from sklearn.tree import DecisionTreeClassifier\n",
    "from sklearn.ensemble import RandomForestClassifier\n",
    "from sklearn.linear_model import LogisticRegression\n",
    "from sklearn.metrics import accuracy_score"
   ]
  },
  {
   "cell_type": "markdown",
   "metadata": {},
   "source": [
    "## Изучение данных"
   ]
  },
  {
   "cell_type": "markdown",
   "metadata": {},
   "source": [
    "Откроем файл с исходными данными и выведем первые пять строк на экран"
   ]
  },
  {
   "cell_type": "code",
   "execution_count": 3,
   "metadata": {},
   "outputs": [],
   "source": [
    "data = pd.read_csv('/datasets/users_behavior.csv')"
   ]
  },
  {
   "cell_type": "code",
   "execution_count": 4,
   "metadata": {},
   "outputs": [
    {
     "data": {
      "text/html": [
       "<div>\n",
       "<style scoped>\n",
       "    .dataframe tbody tr th:only-of-type {\n",
       "        vertical-align: middle;\n",
       "    }\n",
       "\n",
       "    .dataframe tbody tr th {\n",
       "        vertical-align: top;\n",
       "    }\n",
       "\n",
       "    .dataframe thead th {\n",
       "        text-align: right;\n",
       "    }\n",
       "</style>\n",
       "<table border=\"1\" class=\"dataframe\">\n",
       "  <thead>\n",
       "    <tr style=\"text-align: right;\">\n",
       "      <th></th>\n",
       "      <th>calls</th>\n",
       "      <th>minutes</th>\n",
       "      <th>messages</th>\n",
       "      <th>mb_used</th>\n",
       "      <th>is_ultra</th>\n",
       "    </tr>\n",
       "  </thead>\n",
       "  <tbody>\n",
       "    <tr>\n",
       "      <td>0</td>\n",
       "      <td>40.0</td>\n",
       "      <td>311.90</td>\n",
       "      <td>83.0</td>\n",
       "      <td>19915.42</td>\n",
       "      <td>0</td>\n",
       "    </tr>\n",
       "    <tr>\n",
       "      <td>1</td>\n",
       "      <td>85.0</td>\n",
       "      <td>516.75</td>\n",
       "      <td>56.0</td>\n",
       "      <td>22696.96</td>\n",
       "      <td>0</td>\n",
       "    </tr>\n",
       "    <tr>\n",
       "      <td>2</td>\n",
       "      <td>77.0</td>\n",
       "      <td>467.66</td>\n",
       "      <td>86.0</td>\n",
       "      <td>21060.45</td>\n",
       "      <td>0</td>\n",
       "    </tr>\n",
       "    <tr>\n",
       "      <td>3</td>\n",
       "      <td>106.0</td>\n",
       "      <td>745.53</td>\n",
       "      <td>81.0</td>\n",
       "      <td>8437.39</td>\n",
       "      <td>1</td>\n",
       "    </tr>\n",
       "    <tr>\n",
       "      <td>4</td>\n",
       "      <td>66.0</td>\n",
       "      <td>418.74</td>\n",
       "      <td>1.0</td>\n",
       "      <td>14502.75</td>\n",
       "      <td>0</td>\n",
       "    </tr>\n",
       "  </tbody>\n",
       "</table>\n",
       "</div>"
      ],
      "text/plain": [
       "   calls  minutes  messages   mb_used  is_ultra\n",
       "0   40.0   311.90      83.0  19915.42         0\n",
       "1   85.0   516.75      56.0  22696.96         0\n",
       "2   77.0   467.66      86.0  21060.45         0\n",
       "3  106.0   745.53      81.0   8437.39         1\n",
       "4   66.0   418.74       1.0  14502.75         0"
      ]
     },
     "execution_count": 4,
     "metadata": {},
     "output_type": "execute_result"
    }
   ],
   "source": [
    "data.head()"
   ]
  },
  {
   "cell_type": "markdown",
   "metadata": {},
   "source": [
    "## Разделение данных на выборки"
   ]
  },
  {
   "cell_type": "markdown",
   "metadata": {},
   "source": [
    "Сначала выделим признаки и целевой признак"
   ]
  },
  {
   "cell_type": "code",
   "execution_count": 5,
   "metadata": {},
   "outputs": [],
   "source": [
    "features = data.drop('is_ultra', axis=1)\n",
    "target = data['is_ultra']"
   ]
  },
  {
   "cell_type": "markdown",
   "metadata": {},
   "source": [
    "Теперь разделим признаки и целевой признак на тренировочную, валидационную и тестовую выборки в соотношении 3:1:1"
   ]
  },
  {
   "cell_type": "markdown",
   "metadata": {},
   "source": [
    "**features**"
   ]
  },
  {
   "cell_type": "code",
   "execution_count": 6,
   "metadata": {},
   "outputs": [],
   "source": [
    "features_train, features_valid_test = train_test_split(features, test_size=0.4, random_state=2021)"
   ]
  },
  {
   "cell_type": "code",
   "execution_count": 7,
   "metadata": {},
   "outputs": [],
   "source": [
    "features_valid, features_test = train_test_split(features_valid_test, test_size=0.5, random_state=2021)"
   ]
  },
  {
   "cell_type": "markdown",
   "metadata": {},
   "source": [
    "**target**"
   ]
  },
  {
   "cell_type": "code",
   "execution_count": 8,
   "metadata": {},
   "outputs": [],
   "source": [
    "target_train, target_valid_test = train_test_split(target, test_size=0.4, random_state=2021)"
   ]
  },
  {
   "cell_type": "code",
   "execution_count": 9,
   "metadata": {},
   "outputs": [],
   "source": [
    "target_valid, target_test = train_test_split(target_valid_test, test_size=0.5, random_state=2021)"
   ]
  },
  {
   "cell_type": "markdown",
   "metadata": {},
   "source": [
    "В итоге:\n",
    "\n",
    "Для признаков(features):\n",
    "- features_train - тренировочная выборка (размер 1928)\n",
    "- features_valid - валидационная выборка (размер 643)\n",
    "- features_test - тестовая выборка (размер 643)\n",
    "\n",
    "Для целевого признака(target):\n",
    "- target_train - тренировочная выборка (размер 1928)\n",
    "- target_valid - валидационная выборка (размер 643)\n",
    "- target_test - тестовая выборка (размер 643)\n"
   ]
  },
  {
   "cell_type": "markdown",
   "metadata": {},
   "source": [
    "## Исследование моделей"
   ]
  },
  {
   "cell_type": "markdown",
   "metadata": {},
   "source": [
    "Необходимо выбрать модель и гиперпараметры, которые обеспечивают лучшее выполнение (самое большое значение accuracy) на валидационном наборе"
   ]
  },
  {
   "cell_type": "markdown",
   "metadata": {},
   "source": [
    "### DecisionTreeClassifier"
   ]
  },
  {
   "cell_type": "code",
   "execution_count": 19,
   "metadata": {},
   "outputs": [
    {
     "name": "stdout",
     "output_type": "stream",
     "text": [
      "Лучший результат: 0.80248833592535\n",
      "Глубина дерева: 10\n"
     ]
    }
   ],
   "source": [
    "best_result = 0\n",
    "best_tree_model = None\n",
    "for depth in range(1, 20):\n",
    "    model = DecisionTreeClassifier(random_state=2021, max_depth=depth)\n",
    "    model.fit(features_train, target_train)\n",
    "    predict = model.predict(features_valid)\n",
    "    accuracy = accuracy_score(target_valid, predict)\n",
    "    if accuracy > best_result:\n",
    "        best_result = accuracy\n",
    "        best_depth = depth\n",
    "        best_tree_model = model\n",
    "print(f'Лучший результат: {best_result}')\n",
    "print(f'Глубина дерева: {best_depth}')"
   ]
  },
  {
   "cell_type": "markdown",
   "metadata": {},
   "source": [
    "**Вывод:** Лучший результат accuracy = 0.802 достигается при глубине дерева 10"
   ]
  },
  {
   "cell_type": "markdown",
   "metadata": {},
   "source": [
    "### RandomForestClassifier"
   ]
  },
  {
   "cell_type": "code",
   "execution_count": 20,
   "metadata": {},
   "outputs": [
    {
     "name": "stdout",
     "output_type": "stream",
     "text": [
      "Лучший результат: 0.8087091757387247\n",
      "Количество деревьев: 5\n",
      "Глубина: 13\n"
     ]
    }
   ],
   "source": [
    "best_result = 0\n",
    "best_estmators = 0\n",
    "best_forest_model = None\n",
    "for estimators in range(1, 20):\n",
    "    for depth in range(1, 20):\n",
    "        model = RandomForestClassifier(random_state=2021, n_estimators=estimators, max_depth=depth)\n",
    "        model.fit(features_train, target_train)\n",
    "        predict = model.predict(features_valid)\n",
    "        accuracy = accuracy_score(target_valid, predict)\n",
    "        if accuracy > best_result:\n",
    "            best_result = accuracy\n",
    "            best_estmators = estimators\n",
    "            best_depth = depth\n",
    "            best_forest_model = model\n",
    "print(f'Лучший результат: {best_result}')\n",
    "print(f'Количество деревьев: {best_estmators}')\n",
    "print(f'Глубина: {best_depth}')"
   ]
  },
  {
   "cell_type": "markdown",
   "metadata": {},
   "source": [
    "**Вывод:** Лучший результат accuracy = 0.808 достигается при количестве деревьев 5 и глубине 13\n"
   ]
  },
  {
   "cell_type": "markdown",
   "metadata": {},
   "source": [
    "### LogisticRegression"
   ]
  },
  {
   "cell_type": "code",
   "execution_count": 21,
   "metadata": {
    "scrolled": true
   },
   "outputs": [
    {
     "name": "stderr",
     "output_type": "stream",
     "text": [
      "/opt/conda/lib/python3.7/site-packages/sklearn/linear_model/logistic.py:432: FutureWarning: Default solver will be changed to 'lbfgs' in 0.22. Specify a solver to silence this warning.\n",
      "  FutureWarning)\n"
     ]
    },
    {
     "data": {
      "text/plain": [
       "0.7045101088646968"
      ]
     },
     "execution_count": 21,
     "metadata": {},
     "output_type": "execute_result"
    }
   ],
   "source": [
    "model = LogisticRegression(random_state=2021)\n",
    "model.fit(features_train, target_train)\n",
    "predict = model.predict(features_valid)\n",
    "accuracy_score(target_valid, predict)"
   ]
  },
  {
   "cell_type": "markdown",
   "metadata": {},
   "source": [
    "**Вывод:** accuracy = 0.704 \n"
   ]
  },
  {
   "cell_type": "markdown",
   "metadata": {},
   "source": [
    "## Проверка на тестовой выборке"
   ]
  },
  {
   "cell_type": "markdown",
   "metadata": {},
   "source": [
    "Проверим значение метрики accuracy на моделях, которые дали лучший результат на валидационной выборке"
   ]
  },
  {
   "cell_type": "markdown",
   "metadata": {},
   "source": [
    "**DecisionTreeClassifier**"
   ]
  },
  {
   "cell_type": "code",
   "execution_count": 22,
   "metadata": {},
   "outputs": [
    {
     "data": {
      "text/plain": [
       "0.7993779160186625"
      ]
     },
     "execution_count": 22,
     "metadata": {},
     "output_type": "execute_result"
    }
   ],
   "source": [
    "predict = best_tree_model.predict(features_test)\n",
    "accuracy_score(target_test, predict)"
   ]
  },
  {
   "cell_type": "markdown",
   "metadata": {},
   "source": [
    "**RandomForestClassifier**"
   ]
  },
  {
   "cell_type": "code",
   "execution_count": 23,
   "metadata": {},
   "outputs": [
    {
     "data": {
      "text/plain": [
       "0.7962674961119751"
      ]
     },
     "execution_count": 23,
     "metadata": {},
     "output_type": "execute_result"
    }
   ],
   "source": [
    "predict = best_forest_model.predict(features_test)\n",
    "accuracy_score(target_test, predict)"
   ]
  },
  {
   "cell_type": "markdown",
   "metadata": {},
   "source": [
    "**LogisticRegression**"
   ]
  },
  {
   "cell_type": "code",
   "execution_count": 24,
   "metadata": {},
   "outputs": [
    {
     "name": "stderr",
     "output_type": "stream",
     "text": [
      "/opt/conda/lib/python3.7/site-packages/sklearn/linear_model/logistic.py:432: FutureWarning: Default solver will be changed to 'lbfgs' in 0.22. Specify a solver to silence this warning.\n",
      "  FutureWarning)\n"
     ]
    },
    {
     "data": {
      "text/plain": [
       "0.6936236391912908"
      ]
     },
     "execution_count": 24,
     "metadata": {},
     "output_type": "execute_result"
    }
   ],
   "source": [
    "model = LogisticRegression(random_state=2021)\n",
    "model.fit(features_train, target_train)\n",
    "predict = model.predict(features_test)\n",
    "accuracy_score(target_test, predict)"
   ]
  },
  {
   "cell_type": "markdown",
   "metadata": {},
   "source": [
    "## Общий вывод"
   ]
  },
  {
   "cell_type": "markdown",
   "metadata": {},
   "source": [
    "Луший результат дала модель DecisionTreeClassifier с глубиной дерева 10"
   ]
  }
 ],
 "metadata": {
  "ExecuteTimeLog": [
   {
    "duration": 756,
    "start_time": "2021-12-23T16:50:34.246Z"
   },
   {
    "duration": 22,
    "start_time": "2021-12-23T16:50:47.801Z"
   },
   {
    "duration": 19,
    "start_time": "2021-12-23T16:50:53.858Z"
   },
   {
    "duration": 545,
    "start_time": "2021-12-23T17:11:42.882Z"
   },
   {
    "duration": 475,
    "start_time": "2021-12-23T17:19:05.825Z"
   },
   {
    "duration": 4,
    "start_time": "2021-12-23T17:29:04.327Z"
   },
   {
    "duration": 281,
    "start_time": "2021-12-23T17:29:13.303Z"
   },
   {
    "duration": 12,
    "start_time": "2021-12-23T17:29:16.312Z"
   },
   {
    "duration": 10,
    "start_time": "2021-12-23T17:29:27.558Z"
   },
   {
    "duration": 1309,
    "start_time": "2021-12-24T09:45:59.340Z"
   },
   {
    "duration": 22,
    "start_time": "2021-12-24T09:46:06.340Z"
   },
   {
    "duration": 21,
    "start_time": "2021-12-24T09:46:06.578Z"
   },
   {
    "duration": 6,
    "start_time": "2021-12-24T09:46:10.020Z"
   },
   {
    "duration": 17,
    "start_time": "2021-12-24T09:46:19.895Z"
   },
   {
    "duration": 8,
    "start_time": "2021-12-24T09:46:25.781Z"
   },
   {
    "duration": 9,
    "start_time": "2021-12-24T09:47:25.902Z"
   },
   {
    "duration": 25,
    "start_time": "2021-12-24T09:47:31.608Z"
   },
   {
    "duration": 17,
    "start_time": "2021-12-24T09:47:46.034Z"
   },
   {
    "duration": 8,
    "start_time": "2021-12-24T09:48:49.523Z"
   },
   {
    "duration": 17,
    "start_time": "2021-12-24T09:48:54.367Z"
   },
   {
    "duration": 21,
    "start_time": "2021-12-24T09:49:03.178Z"
   },
   {
    "duration": 7,
    "start_time": "2021-12-24T09:54:03.889Z"
   },
   {
    "duration": 16,
    "start_time": "2021-12-24T09:54:08.699Z"
   },
   {
    "duration": 14,
    "start_time": "2021-12-24T09:54:15.643Z"
   },
   {
    "duration": 17,
    "start_time": "2021-12-24T09:54:30.290Z"
   },
   {
    "duration": 19,
    "start_time": "2021-12-24T09:56:33.551Z"
   },
   {
    "duration": 6,
    "start_time": "2021-12-24T10:00:41.346Z"
   },
   {
    "duration": 6,
    "start_time": "2021-12-24T10:01:03.012Z"
   },
   {
    "duration": 16,
    "start_time": "2021-12-24T10:01:09.150Z"
   },
   {
    "duration": 5,
    "start_time": "2021-12-24T10:05:04.247Z"
   },
   {
    "duration": 8,
    "start_time": "2021-12-24T10:05:11.658Z"
   },
   {
    "duration": 7,
    "start_time": "2021-12-24T10:05:21.045Z"
   },
   {
    "duration": 7,
    "start_time": "2021-12-24T10:05:27.197Z"
   },
   {
    "duration": 9,
    "start_time": "2021-12-24T10:05:44.061Z"
   },
   {
    "duration": 17,
    "start_time": "2021-12-24T10:05:56.473Z"
   },
   {
    "duration": 49,
    "start_time": "2021-12-24T10:14:25.183Z"
   },
   {
    "duration": 5,
    "start_time": "2021-12-24T10:15:05.085Z"
   },
   {
    "duration": 4,
    "start_time": "2021-12-24T10:16:26.190Z"
   },
   {
    "duration": 19,
    "start_time": "2021-12-24T10:17:55.578Z"
   },
   {
    "duration": 392,
    "start_time": "2021-12-24T10:18:38.991Z"
   },
   {
    "duration": 8,
    "start_time": "2021-12-24T10:18:45.911Z"
   },
   {
    "duration": 331,
    "start_time": "2021-12-24T10:22:39.479Z"
   },
   {
    "duration": 5,
    "start_time": "2021-12-24T10:23:08.327Z"
   },
   {
    "duration": 7,
    "start_time": "2021-12-24T10:24:00.759Z"
   },
   {
    "duration": 3,
    "start_time": "2021-12-24T10:27:04.518Z"
   },
   {
    "duration": 16,
    "start_time": "2021-12-24T10:27:05.791Z"
   },
   {
    "duration": 5,
    "start_time": "2021-12-24T10:27:06.823Z"
   },
   {
    "duration": 7,
    "start_time": "2021-12-24T10:27:07.545Z"
   },
   {
    "duration": 8,
    "start_time": "2021-12-24T10:27:38.690Z"
   },
   {
    "duration": 3,
    "start_time": "2021-12-24T10:28:35.154Z"
   },
   {
    "duration": 16,
    "start_time": "2021-12-24T10:28:36.254Z"
   },
   {
    "duration": 5,
    "start_time": "2021-12-24T10:28:36.508Z"
   },
   {
    "duration": 7,
    "start_time": "2021-12-24T10:28:36.851Z"
   },
   {
    "duration": 6,
    "start_time": "2021-12-24T10:28:37.644Z"
   },
   {
    "duration": 1340,
    "start_time": "2021-12-24T16:11:24.773Z"
   },
   {
    "duration": 23,
    "start_time": "2021-12-24T16:11:27.488Z"
   },
   {
    "duration": 23,
    "start_time": "2021-12-24T16:11:28.071Z"
   },
   {
    "duration": 7,
    "start_time": "2021-12-24T16:11:30.518Z"
   },
   {
    "duration": 7,
    "start_time": "2021-12-24T16:11:45.944Z"
   },
   {
    "duration": 7,
    "start_time": "2021-12-24T16:11:46.325Z"
   },
   {
    "duration": 7,
    "start_time": "2021-12-24T16:11:47.024Z"
   },
   {
    "duration": 5,
    "start_time": "2021-12-24T16:11:47.360Z"
   },
   {
    "duration": 3,
    "start_time": "2021-12-24T16:11:55.124Z"
   },
   {
    "duration": 20,
    "start_time": "2021-12-24T16:11:55.772Z"
   },
   {
    "duration": 5,
    "start_time": "2021-12-24T16:11:57.677Z"
   },
   {
    "duration": 6,
    "start_time": "2021-12-24T16:11:58.019Z"
   },
   {
    "duration": 7,
    "start_time": "2021-12-24T16:11:59.012Z"
   },
   {
    "duration": 4,
    "start_time": "2021-12-24T16:12:21.036Z"
   },
   {
    "duration": 16,
    "start_time": "2021-12-24T16:12:21.362Z"
   },
   {
    "duration": 4,
    "start_time": "2021-12-24T16:12:21.871Z"
   },
   {
    "duration": 8,
    "start_time": "2021-12-24T16:12:22.318Z"
   },
   {
    "duration": 6,
    "start_time": "2021-12-24T16:12:22.952Z"
   },
   {
    "duration": 4,
    "start_time": "2021-12-24T16:12:31.591Z"
   },
   {
    "duration": 18,
    "start_time": "2021-12-24T16:12:31.968Z"
   },
   {
    "duration": 4,
    "start_time": "2021-12-24T16:12:33.687Z"
   },
   {
    "duration": 6,
    "start_time": "2021-12-24T16:12:35.067Z"
   },
   {
    "duration": 6,
    "start_time": "2021-12-24T16:12:36.503Z"
   },
   {
    "duration": 4,
    "start_time": "2021-12-24T16:12:41.008Z"
   },
   {
    "duration": 18,
    "start_time": "2021-12-24T16:12:41.624Z"
   },
   {
    "duration": 5,
    "start_time": "2021-12-24T16:12:43.151Z"
   },
   {
    "duration": 7,
    "start_time": "2021-12-24T16:12:43.500Z"
   },
   {
    "duration": 10,
    "start_time": "2021-12-24T16:12:44.164Z"
   },
   {
    "duration": 4,
    "start_time": "2021-12-24T16:12:47.788Z"
   },
   {
    "duration": 15,
    "start_time": "2021-12-24T16:12:48.099Z"
   },
   {
    "duration": 6,
    "start_time": "2021-12-24T16:12:48.338Z"
   },
   {
    "duration": 7,
    "start_time": "2021-12-24T16:12:48.686Z"
   },
   {
    "duration": 7,
    "start_time": "2021-12-24T16:12:49.395Z"
   },
   {
    "duration": 4,
    "start_time": "2021-12-24T16:13:00.179Z"
   },
   {
    "duration": 17,
    "start_time": "2021-12-24T16:13:00.537Z"
   },
   {
    "duration": 5,
    "start_time": "2021-12-24T16:13:00.923Z"
   },
   {
    "duration": 8,
    "start_time": "2021-12-24T16:13:01.229Z"
   },
   {
    "duration": 7,
    "start_time": "2021-12-24T16:13:03.505Z"
   },
   {
    "duration": 4,
    "start_time": "2021-12-24T16:13:12.043Z"
   },
   {
    "duration": 17,
    "start_time": "2021-12-24T16:13:14.042Z"
   },
   {
    "duration": 5,
    "start_time": "2021-12-24T16:13:14.288Z"
   },
   {
    "duration": 7,
    "start_time": "2021-12-24T16:13:14.640Z"
   },
   {
    "duration": 7,
    "start_time": "2021-12-24T16:13:14.887Z"
   },
   {
    "duration": 4,
    "start_time": "2021-12-24T16:15:06.480Z"
   },
   {
    "duration": 15,
    "start_time": "2021-12-24T16:15:06.930Z"
   },
   {
    "duration": 6,
    "start_time": "2021-12-24T16:15:07.741Z"
   },
   {
    "duration": 6,
    "start_time": "2021-12-24T16:15:08.065Z"
   },
   {
    "duration": 7,
    "start_time": "2021-12-24T16:15:08.661Z"
   },
   {
    "duration": 4,
    "start_time": "2021-12-24T16:15:14.734Z"
   },
   {
    "duration": 16,
    "start_time": "2021-12-24T16:15:15.235Z"
   },
   {
    "duration": 6,
    "start_time": "2021-12-24T16:15:15.595Z"
   },
   {
    "duration": 7,
    "start_time": "2021-12-24T16:15:15.901Z"
   },
   {
    "duration": 6,
    "start_time": "2021-12-24T16:15:16.300Z"
   },
   {
    "duration": 3,
    "start_time": "2021-12-24T16:15:20.023Z"
   },
   {
    "duration": 16,
    "start_time": "2021-12-24T16:15:20.456Z"
   },
   {
    "duration": 5,
    "start_time": "2021-12-24T16:15:20.662Z"
   },
   {
    "duration": 7,
    "start_time": "2021-12-24T16:15:21.123Z"
   },
   {
    "duration": 7,
    "start_time": "2021-12-24T16:15:21.553Z"
   },
   {
    "duration": 4,
    "start_time": "2021-12-24T16:15:24.895Z"
   },
   {
    "duration": 16,
    "start_time": "2021-12-24T16:15:27.455Z"
   },
   {
    "duration": 5,
    "start_time": "2021-12-24T16:15:27.652Z"
   },
   {
    "duration": 7,
    "start_time": "2021-12-24T16:15:27.865Z"
   },
   {
    "duration": 7,
    "start_time": "2021-12-24T16:15:28.288Z"
   },
   {
    "duration": 496,
    "start_time": "2021-12-24T16:19:04.128Z"
   },
   {
    "duration": 6,
    "start_time": "2021-12-24T16:19:09.547Z"
   },
   {
    "duration": 8,
    "start_time": "2021-12-24T16:19:16.117Z"
   },
   {
    "duration": 387,
    "start_time": "2021-12-24T16:19:19.313Z"
   },
   {
    "duration": 7,
    "start_time": "2021-12-24T16:19:20.643Z"
   },
   {
    "duration": 13,
    "start_time": "2021-12-24T16:19:25.060Z"
   },
   {
    "duration": 9,
    "start_time": "2021-12-24T16:19:26.022Z"
   },
   {
    "duration": 9,
    "start_time": "2021-12-24T16:19:29.797Z"
   },
   {
    "duration": 8,
    "start_time": "2021-12-24T16:19:30.606Z"
   },
   {
    "duration": 10,
    "start_time": "2021-12-24T16:19:34.801Z"
   },
   {
    "duration": 6,
    "start_time": "2021-12-24T16:19:35.130Z"
   },
   {
    "duration": 11,
    "start_time": "2021-12-24T16:19:38.699Z"
   },
   {
    "duration": 7,
    "start_time": "2021-12-24T16:19:39.015Z"
   },
   {
    "duration": 15,
    "start_time": "2021-12-24T16:19:46.319Z"
   },
   {
    "duration": 9,
    "start_time": "2021-12-24T16:19:46.648Z"
   },
   {
    "duration": 8,
    "start_time": "2021-12-24T16:19:53.700Z"
   },
   {
    "duration": 15,
    "start_time": "2021-12-24T16:19:58.137Z"
   },
   {
    "duration": 8,
    "start_time": "2021-12-24T16:19:58.525Z"
   },
   {
    "duration": 8,
    "start_time": "2021-12-24T16:19:59.965Z"
   },
   {
    "duration": 12,
    "start_time": "2021-12-24T16:20:10.603Z"
   },
   {
    "duration": 7,
    "start_time": "2021-12-24T16:20:10.918Z"
   },
   {
    "duration": 6,
    "start_time": "2021-12-24T16:20:12.092Z"
   },
   {
    "duration": 377,
    "start_time": "2021-12-24T16:22:56.510Z"
   },
   {
    "duration": 377,
    "start_time": "2021-12-24T16:23:46.651Z"
   },
   {
    "duration": 28,
    "start_time": "2021-12-24T16:24:01.464Z"
   },
   {
    "duration": 5,
    "start_time": "2021-12-24T16:24:16.778Z"
   },
   {
    "duration": 5,
    "start_time": "2021-12-24T16:24:37.528Z"
   },
   {
    "duration": 9,
    "start_time": "2021-12-24T16:25:31.934Z"
   },
   {
    "duration": 6,
    "start_time": "2021-12-24T16:25:32.206Z"
   },
   {
    "duration": 9,
    "start_time": "2021-12-24T16:25:35.679Z"
   },
   {
    "duration": 6,
    "start_time": "2021-12-24T16:25:35.927Z"
   },
   {
    "duration": 10,
    "start_time": "2021-12-24T16:25:39.148Z"
   },
   {
    "duration": 7,
    "start_time": "2021-12-24T16:25:39.371Z"
   },
   {
    "duration": 11,
    "start_time": "2021-12-24T16:25:43.378Z"
   },
   {
    "duration": 7,
    "start_time": "2021-12-24T16:25:43.679Z"
   },
   {
    "duration": 12,
    "start_time": "2021-12-24T16:25:47.003Z"
   },
   {
    "duration": 7,
    "start_time": "2021-12-24T16:25:47.248Z"
   },
   {
    "duration": 14,
    "start_time": "2021-12-24T16:25:50.746Z"
   },
   {
    "duration": 7,
    "start_time": "2021-12-24T16:25:51.051Z"
   },
   {
    "duration": 13,
    "start_time": "2021-12-24T16:25:54.811Z"
   },
   {
    "duration": 7,
    "start_time": "2021-12-24T16:25:55.023Z"
   },
   {
    "duration": 15,
    "start_time": "2021-12-24T16:25:57.917Z"
   },
   {
    "duration": 6,
    "start_time": "2021-12-24T16:25:58.158Z"
   },
   {
    "duration": 14,
    "start_time": "2021-12-24T16:26:01.455Z"
   },
   {
    "duration": 7,
    "start_time": "2021-12-24T16:26:01.701Z"
   },
   {
    "duration": 16,
    "start_time": "2021-12-24T16:26:04.748Z"
   },
   {
    "duration": 6,
    "start_time": "2021-12-24T16:26:05.051Z"
   },
   {
    "duration": 15,
    "start_time": "2021-12-24T16:26:08.557Z"
   },
   {
    "duration": 7,
    "start_time": "2021-12-24T16:26:09.857Z"
   },
   {
    "duration": 15,
    "start_time": "2021-12-24T16:26:12.695Z"
   },
   {
    "duration": 7,
    "start_time": "2021-12-24T16:26:12.977Z"
   },
   {
    "duration": 16,
    "start_time": "2021-12-24T16:26:17.768Z"
   },
   {
    "duration": 7,
    "start_time": "2021-12-24T16:26:18.129Z"
   },
   {
    "duration": 17,
    "start_time": "2021-12-24T16:26:25.536Z"
   },
   {
    "duration": 6,
    "start_time": "2021-12-24T16:26:25.824Z"
   },
   {
    "duration": 17,
    "start_time": "2021-12-24T16:26:28.780Z"
   },
   {
    "duration": 7,
    "start_time": "2021-12-24T16:26:29.001Z"
   },
   {
    "duration": 23,
    "start_time": "2021-12-24T16:26:32.640Z"
   },
   {
    "duration": 9,
    "start_time": "2021-12-24T16:26:32.856Z"
   },
   {
    "duration": 19,
    "start_time": "2021-12-24T16:26:35.820Z"
   },
   {
    "duration": 6,
    "start_time": "2021-12-24T16:26:36.023Z"
   },
   {
    "duration": 20,
    "start_time": "2021-12-24T16:26:40.359Z"
   },
   {
    "duration": 7,
    "start_time": "2021-12-24T16:26:40.627Z"
   },
   {
    "duration": 19,
    "start_time": "2021-12-24T16:26:43.501Z"
   },
   {
    "duration": 8,
    "start_time": "2021-12-24T16:26:43.693Z"
   },
   {
    "duration": 18,
    "start_time": "2021-12-24T16:26:46.626Z"
   },
   {
    "duration": 117,
    "start_time": "2021-12-24T16:26:46.811Z"
   },
   {
    "duration": 18,
    "start_time": "2021-12-24T16:26:52.267Z"
   },
   {
    "duration": 7,
    "start_time": "2021-12-24T16:26:52.527Z"
   },
   {
    "duration": 18,
    "start_time": "2021-12-24T16:26:55.854Z"
   },
   {
    "duration": 8,
    "start_time": "2021-12-24T16:26:56.082Z"
   },
   {
    "duration": 16,
    "start_time": "2021-12-24T16:27:00.113Z"
   },
   {
    "duration": 7,
    "start_time": "2021-12-24T16:27:00.367Z"
   },
   {
    "duration": 74,
    "start_time": "2021-12-24T16:27:29.999Z"
   },
   {
    "duration": 5,
    "start_time": "2021-12-24T16:27:30.258Z"
   },
   {
    "duration": 6,
    "start_time": "2021-12-24T16:27:32.277Z"
   },
   {
    "duration": 184,
    "start_time": "2021-12-24T16:27:56.005Z"
   },
   {
    "duration": 5,
    "start_time": "2021-12-24T16:27:56.703Z"
   },
   {
    "duration": 5,
    "start_time": "2021-12-24T16:28:02.894Z"
   },
   {
    "duration": 176,
    "start_time": "2021-12-24T16:28:34.426Z"
   },
   {
    "duration": 5,
    "start_time": "2021-12-24T16:28:34.888Z"
   },
   {
    "duration": 5,
    "start_time": "2021-12-24T16:28:35.608Z"
   },
   {
    "duration": 18,
    "start_time": "2021-12-24T16:29:02.938Z"
   },
   {
    "duration": 6,
    "start_time": "2021-12-24T16:29:02.959Z"
   },
   {
    "duration": 5,
    "start_time": "2021-12-24T16:29:19.747Z"
   },
   {
    "duration": 5,
    "start_time": "2021-12-24T16:32:13.160Z"
   },
   {
    "duration": 5,
    "start_time": "2021-12-24T16:32:14.060Z"
   },
   {
    "duration": 185,
    "start_time": "2021-12-24T16:35:21.385Z"
   },
   {
    "duration": 5,
    "start_time": "2021-12-24T16:35:22.170Z"
   },
   {
    "duration": 9,
    "start_time": "2021-12-24T16:35:24.052Z"
   },
   {
    "duration": 192,
    "start_time": "2021-12-24T16:37:00.945Z"
   },
   {
    "duration": 185,
    "start_time": "2021-12-24T16:38:51.589Z"
   },
   {
    "duration": 1231,
    "start_time": "2021-12-24T16:41:42.149Z"
   },
   {
    "duration": 182,
    "start_time": "2021-12-24T16:41:51.811Z"
   },
   {
    "duration": 201,
    "start_time": "2021-12-24T16:41:55.325Z"
   },
   {
    "duration": 16,
    "start_time": "2021-12-24T16:42:47.840Z"
   },
   {
    "duration": 18,
    "start_time": "2021-12-24T16:42:52.912Z"
   },
   {
    "duration": 18,
    "start_time": "2021-12-24T16:43:08.349Z"
   },
   {
    "duration": 17,
    "start_time": "2021-12-24T16:43:17.590Z"
   },
   {
    "duration": 15,
    "start_time": "2021-12-24T16:43:23.622Z"
   },
   {
    "duration": 15,
    "start_time": "2021-12-24T16:43:32.632Z"
   },
   {
    "duration": 208,
    "start_time": "2021-12-24T16:48:21.919Z"
   },
   {
    "duration": 190,
    "start_time": "2021-12-24T16:50:30.843Z"
   },
   {
    "duration": 192,
    "start_time": "2021-12-24T16:50:33.169Z"
   },
   {
    "duration": 210,
    "start_time": "2021-12-24T16:50:35.282Z"
   },
   {
    "duration": 356,
    "start_time": "2021-12-24T16:50:44.625Z"
   },
   {
    "duration": 204,
    "start_time": "2021-12-24T16:50:50.090Z"
   },
   {
    "duration": 206,
    "start_time": "2021-12-24T16:56:59.168Z"
   },
   {
    "duration": 353,
    "start_time": "2021-12-24T16:57:10.629Z"
   },
   {
    "duration": 210,
    "start_time": "2021-12-24T16:57:16.751Z"
   },
   {
    "duration": 4,
    "start_time": "2021-12-24T17:23:46.173Z"
   },
   {
    "duration": 443,
    "start_time": "2021-12-24T17:29:38.641Z"
   },
   {
    "duration": 12,
    "start_time": "2021-12-24T17:29:50.368Z"
   },
   {
    "duration": 10,
    "start_time": "2021-12-24T17:32:51.115Z"
   },
   {
    "duration": 7,
    "start_time": "2021-12-24T17:33:08.334Z"
   },
   {
    "duration": 8,
    "start_time": "2021-12-24T17:33:13.844Z"
   },
   {
    "duration": 4,
    "start_time": "2021-12-24T17:33:21.317Z"
   },
   {
    "duration": 14,
    "start_time": "2021-12-24T17:33:24.150Z"
   },
   {
    "duration": 6,
    "start_time": "2021-12-24T17:33:24.735Z"
   },
   {
    "duration": 6,
    "start_time": "2021-12-24T17:33:25.203Z"
   },
   {
    "duration": 6,
    "start_time": "2021-12-24T17:33:48.236Z"
   },
   {
    "duration": 19,
    "start_time": "2021-12-24T17:34:20.554Z"
   },
   {
    "duration": 8,
    "start_time": "2021-12-24T17:34:20.990Z"
   },
   {
    "duration": 15,
    "start_time": "2021-12-24T17:34:24.309Z"
   },
   {
    "duration": 7,
    "start_time": "2021-12-24T17:34:24.739Z"
   },
   {
    "duration": 13,
    "start_time": "2021-12-24T17:34:28.237Z"
   },
   {
    "duration": 20,
    "start_time": "2021-12-24T17:35:53.613Z"
   },
   {
    "duration": 6,
    "start_time": "2021-12-24T17:35:53.925Z"
   },
   {
    "duration": 26,
    "start_time": "2021-12-24T17:36:03.804Z"
   },
   {
    "duration": 7,
    "start_time": "2021-12-24T17:36:04.137Z"
   },
   {
    "duration": 488,
    "start_time": "2021-12-24T17:38:14.683Z"
   },
   {
    "duration": -51,
    "start_time": "2021-12-24T17:38:15.225Z"
   },
   {
    "duration": 21,
    "start_time": "2021-12-24T17:38:18.335Z"
   },
   {
    "duration": 8,
    "start_time": "2021-12-24T17:38:19.678Z"
   },
   {
    "duration": 5163,
    "start_time": "2021-12-24T17:50:38.521Z"
   },
   {
    "duration": 5261,
    "start_time": "2021-12-24T17:52:06.778Z"
   },
   {
    "duration": 17069,
    "start_time": "2021-12-24T17:52:34.924Z"
   },
   {
    "duration": 16009,
    "start_time": "2021-12-24T18:24:39.364Z"
   },
   {
    "duration": 225,
    "start_time": "2021-12-24T18:26:52.456Z"
   },
   {
    "duration": 209,
    "start_time": "2021-12-24T18:27:34.392Z"
   },
   {
    "duration": 179,
    "start_time": "2021-12-24T18:27:53.972Z"
   },
   {
    "duration": 183,
    "start_time": "2021-12-24T18:27:58.290Z"
   },
   {
    "duration": 16405,
    "start_time": "2021-12-24T18:28:07.902Z"
   },
   {
    "duration": 16103,
    "start_time": "2021-12-24T18:28:33.465Z"
   },
   {
    "duration": 17222,
    "start_time": "2021-12-24T18:34:43.760Z"
   },
   {
    "duration": 12813,
    "start_time": "2021-12-24T18:37:44.547Z"
   },
   {
    "duration": 199,
    "start_time": "2021-12-24T18:38:06.727Z"
   },
   {
    "duration": 1435,
    "start_time": "2021-12-24T20:08:37.032Z"
   },
   {
    "duration": 22,
    "start_time": "2021-12-24T20:08:38.470Z"
   },
   {
    "duration": 25,
    "start_time": "2021-12-24T20:08:38.495Z"
   },
   {
    "duration": 7,
    "start_time": "2021-12-24T20:08:38.524Z"
   },
   {
    "duration": 35,
    "start_time": "2021-12-24T20:08:38.534Z"
   },
   {
    "duration": 6,
    "start_time": "2021-12-24T20:08:38.571Z"
   },
   {
    "duration": 9,
    "start_time": "2021-12-24T20:08:38.579Z"
   },
   {
    "duration": 6,
    "start_time": "2021-12-24T20:08:38.590Z"
   },
   {
    "duration": 218,
    "start_time": "2021-12-24T20:08:38.599Z"
   },
   {
    "duration": 206,
    "start_time": "2021-12-24T20:08:38.820Z"
   },
   {
    "duration": 243,
    "start_time": "2021-12-24T20:08:39.029Z"
   },
   {
    "duration": 16417,
    "start_time": "2021-12-24T20:08:39.275Z"
   },
   {
    "duration": 16247,
    "start_time": "2021-12-24T20:08:55.694Z"
   },
   {
    "duration": 17578,
    "start_time": "2021-12-24T20:09:11.944Z"
   },
   {
    "duration": 5,
    "start_time": "2021-12-24T20:38:18.943Z"
   },
   {
    "duration": 9,
    "start_time": "2021-12-24T20:42:08.748Z"
   },
   {
    "duration": 27,
    "start_time": "2021-12-24T20:46:07.080Z"
   },
   {
    "duration": 21,
    "start_time": "2021-12-24T20:46:22.428Z"
   },
   {
    "duration": 24,
    "start_time": "2021-12-24T20:46:49.115Z"
   },
   {
    "duration": 23,
    "start_time": "2021-12-24T20:47:14.937Z"
   },
   {
    "duration": 25,
    "start_time": "2021-12-24T20:47:24.075Z"
   },
   {
    "duration": 25,
    "start_time": "2021-12-24T20:47:33.556Z"
   },
   {
    "duration": 22,
    "start_time": "2021-12-24T20:47:35.289Z"
   },
   {
    "duration": 190,
    "start_time": "2021-12-24T21:20:03.160Z"
   },
   {
    "duration": 19,
    "start_time": "2021-12-24T21:20:54.416Z"
   },
   {
    "duration": 18,
    "start_time": "2021-12-24T21:23:26.559Z"
   },
   {
    "duration": 185,
    "start_time": "2021-12-24T21:27:15.220Z"
   },
   {
    "duration": 7,
    "start_time": "2021-12-24T21:27:29.751Z"
   },
   {
    "duration": 7,
    "start_time": "2021-12-24T21:28:22.118Z"
   },
   {
    "duration": 17111,
    "start_time": "2021-12-24T21:31:13.425Z"
   },
   {
    "duration": 6,
    "start_time": "2021-12-24T21:36:26.352Z"
   },
   {
    "duration": 10,
    "start_time": "2021-12-24T21:39:03.876Z"
   },
   {
    "duration": 23,
    "start_time": "2021-12-24T21:40:20.349Z"
   },
   {
    "duration": 23,
    "start_time": "2021-12-24T21:40:27.943Z"
   },
   {
    "duration": 277,
    "start_time": "2021-12-25T15:22:18.176Z"
   },
   {
    "duration": 1091,
    "start_time": "2021-12-25T15:22:22.376Z"
   },
   {
    "duration": 20,
    "start_time": "2021-12-25T15:22:23.992Z"
   },
   {
    "duration": 14,
    "start_time": "2021-12-25T15:22:25.019Z"
   },
   {
    "duration": 3,
    "start_time": "2021-12-25T15:22:27.706Z"
   },
   {
    "duration": 4,
    "start_time": "2021-12-25T15:22:28.434Z"
   },
   {
    "duration": 5,
    "start_time": "2021-12-25T15:22:28.636Z"
   },
   {
    "duration": 4,
    "start_time": "2021-12-25T15:22:29.137Z"
   },
   {
    "duration": 4,
    "start_time": "2021-12-25T15:22:29.549Z"
   },
   {
    "duration": 4,
    "start_time": "2021-12-25T15:22:57.644Z"
   },
   {
    "duration": 329,
    "start_time": "2021-12-25T15:23:02.990Z"
   },
   {
    "duration": 253,
    "start_time": "2021-12-25T15:23:05.532Z"
   },
   {
    "duration": 4,
    "start_time": "2021-12-25T15:23:09.779Z"
   },
   {
    "duration": 4,
    "start_time": "2021-12-25T15:23:47.217Z"
   },
   {
    "duration": 3,
    "start_time": "2021-12-25T15:24:21.839Z"
   },
   {
    "duration": 3,
    "start_time": "2021-12-25T15:24:44.527Z"
   },
   {
    "duration": 4,
    "start_time": "2021-12-25T15:24:57.856Z"
   },
   {
    "duration": 4,
    "start_time": "2021-12-25T15:25:05.082Z"
   },
   {
    "duration": 129,
    "start_time": "2021-12-25T15:28:35.432Z"
   },
   {
    "duration": 9824,
    "start_time": "2021-12-25T15:28:36.285Z"
   },
   {
    "duration": 12,
    "start_time": "2021-12-25T15:28:46.110Z"
   },
   {
    "duration": 4,
    "start_time": "2021-12-25T15:28:46.124Z"
   },
   {
    "duration": 16,
    "start_time": "2021-12-25T15:28:46.129Z"
   },
   {
    "duration": 11,
    "start_time": "2021-12-25T15:28:46.146Z"
   }
  ],
  "kernelspec": {
   "display_name": "Python 3",
   "language": "python",
   "name": "python3"
  },
  "language_info": {
   "codemirror_mode": {
    "name": "ipython",
    "version": 3
   },
   "file_extension": ".py",
   "mimetype": "text/x-python",
   "name": "python",
   "nbconvert_exporter": "python",
   "pygments_lexer": "ipython3",
   "version": "3.8.5"
  },
  "toc": {
   "base_numbering": 1,
   "nav_menu": {},
   "number_sections": true,
   "sideBar": true,
   "skip_h1_title": true,
   "title_cell": "Table of Contents",
   "title_sidebar": "Contents",
   "toc_cell": false,
   "toc_position": {
    "height": "calc(100% - 180px)",
    "left": "10px",
    "top": "150px",
    "width": "245.797px"
   },
   "toc_section_display": true,
   "toc_window_display": false
  }
 },
 "nbformat": 4,
 "nbformat_minor": 2
}
