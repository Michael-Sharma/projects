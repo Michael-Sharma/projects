{
 "cells": [
  {
   "cell_type": "code",
   "execution_count": 69,
   "metadata": {},
   "outputs": [],
   "source": [
    "import pandas as pd\n",
    "import numpy as np\n",
    "\n",
    "from sklearn.model_selection import train_test_split, KFold, StratifiedKFold\n",
    "\n",
    "from sklearn.metrics import roc_auc_score, mean_absolute_error, mean_squared_error\n",
    "\n",
    "from sklearn.linear_model import LogisticRegression, LinearRegression\n",
    "from sklearn.ensemble import StackingClassifier, StackingRegressor, RandomForestClassifier\n",
    "\n",
    "from lightgbm import LGBMClassifier, LGBMRegressor\n",
    "from catboost import CatBoostClassifier, CatBoostRegressor\n",
    "\n",
    "import optuna\n",
    "\n",
    "from get_metrics import get_metrics_classification, get_metrics_regression\n",
    "\n",
    "import warnings\n",
    "warnings.filterwarnings(\"ignore\");\n",
    "\n",
    "PATH = '../MTS ML Cup/'\n",
    "RAND = 42\n",
    "N_FOLDS = 3\n",
    "\n",
    "pd.set_option('display.max_columns', None)\n",
    "# pd.set_option('display.max_rows', None)"
   ]
  },
  {
   "cell_type": "markdown",
   "metadata": {},
   "source": [
    "Прочтем файлы с данными"
   ]
  },
  {
   "cell_type": "code",
   "execution_count": 4,
   "metadata": {},
   "outputs": [],
   "source": [
    "X_train = pd.read_csv(PATH+'X_train.csv')\n",
    "X_train_ = pd.read_csv(PATH+'X_train_.csv')\n",
    "X_val = pd.read_csv(PATH+'X_val.csv')\n",
    "X_test = pd.read_csv(PATH+'X_test.csv')\n",
    "\n",
    "y_train = pd.read_csv(PATH+'y_train.csv')\n",
    "y_train_ = pd.read_csv(PATH+'y_train_.csv')\n",
    "y_val = pd.read_csv(PATH+'y_val.csv')\n",
    "y_test = pd.read_csv(PATH+'y_test.csv')"
   ]
  },
  {
   "cell_type": "markdown",
   "metadata": {},
   "source": [
    "На всякий случай проверим данные на наличие пропусков"
   ]
  },
  {
   "cell_type": "code",
   "execution_count": 72,
   "metadata": {},
   "outputs": [
    {
     "name": "stdout",
     "output_type": "stream",
     "text": [
      "0\n",
      "0\n",
      "0\n",
      "0\n",
      "0\n",
      "0\n",
      "0\n",
      "0\n"
     ]
    }
   ],
   "source": [
    "data_list = [X_train, X_train_, X_val, X_test,\n",
    "             y_train, y_train_, y_val, y_test]\n",
    "\n",
    "for  data in data_list:\n",
    "    print(data.isna().sum().sum())"
   ]
  },
  {
   "cell_type": "markdown",
   "metadata": {},
   "source": [
    "# Классификация. Определение пола"
   ]
  },
  {
   "cell_type": "markdown",
   "metadata": {},
   "source": [
    "Функция для проверки на переобучение (для классификации)"
   ]
  },
  {
   "cell_type": "code",
   "execution_count": 5,
   "metadata": {},
   "outputs": [],
   "source": [
    "def check_overfitting(model, X_train, y_train, X_test, y_test):\n",
    "    \"\"\"\n",
    "    Проверка на overfitting для классификации \n",
    "    \"\"\"\n",
    "    y_score_train = model.predict_proba(X_train)\n",
    "    y_score_test = model.predict_proba(X_test)\n",
    "    value_train = roc_auc_score(y_train, y_score_train[:, 1])\n",
    "    value_test = roc_auc_score(y_test, y_score_test[:, 1])\n",
    "\n",
    "    print(f'{roc_auc_score.__name__} train: %.3f' % value_train)\n",
    "    print(f'{roc_auc_score.__name__} test: %.3f' % value_test)\n",
    "    print(f'delta = {(abs(value_train - value_test)/value_test*100):.1f} %')"
   ]
  },
  {
   "cell_type": "markdown",
   "metadata": {},
   "source": [
    "## LightGBM"
   ]
  },
  {
   "cell_type": "markdown",
   "metadata": {},
   "source": [
    "Попробуем улучшить значения метрик baseline (roc-auc 0.768) с помощью optuna. Сначала подберем лучшее количество базовых алгоритмов, потом зафиксируем его. Затем подберем лучшее значение шага и так же зафиксируем его. И потом с подобранными количеством базовых алгоритмов и шагом будем крутить остальные параметры."
   ]
  },
  {
   "cell_type": "code",
   "execution_count": 6,
   "metadata": {},
   "outputs": [],
   "source": [
    "# целевая функция\n",
    "def objective_lgb(trial, X, y, N_FOLDS, random_state=RAND):\n",
    "    lgb_params = {\n",
    "#         \"n_estimators\": trial.suggest_categorical(\"n_estimators\", [1000, 1500, 2000, 2500, 3000, 4000]),\n",
    "        \"n_estimators\": trial.suggest_categorical(\"n_estimators\", [2000]),\n",
    "#         \"learning_rate\": trial.suggest_float(\"learning_rate\",\n",
    "#                                              0.001,\n",
    "#                                              0.3),\n",
    "        \"learning_rate\": trial.suggest_categorical(\"learning_rate\", [0.09142235679746477]),\n",
    "        \"num_leaves\": trial.suggest_int(\"num_leaves\", 15, 40, step=5),\n",
    "        \"min_child_samples\": trial.suggest_int(\"min_child_samples\", 15, 40, step=5),\n",
    "        \"objective\": trial.suggest_categorical(\"objective\", [\"binary\"]),\n",
    "        \"random_state\": trial.suggest_categorical(\"random_state\", [random_state])\n",
    "    }\n",
    "\n",
    "    cv = StratifiedKFold(n_splits=N_FOLDS, shuffle=True, random_state=random_state)\n",
    "\n",
    "    cv_predicts = np.empty(N_FOLDS)\n",
    "    for idx, (train_idx, test_idx) in enumerate(cv.split(X, y)):\n",
    "        X_train, X_test = X.iloc[train_idx], X.iloc[test_idx]\n",
    "        y_train, y_test = y.iloc[train_idx], y.iloc[test_idx]\n",
    "\n",
    "        pruning_callback = optuna.integration.LightGBMPruningCallback(\n",
    "            trial, \"auc\")\n",
    "        model = LGBMClassifier(**lgb_params)\n",
    "        model.fit(X_train,\n",
    "                  y_train,\n",
    "                  eval_set=[(X_test, y_test)],\n",
    "                  eval_metric=\"auc\",\n",
    "                  early_stopping_rounds=100,\n",
    "                  callbacks=[pruning_callback],\n",
    "                  verbose=0)\n",
    "\n",
    "        probas = model.predict_proba(X_test)[:, 1]\n",
    "        cv_predicts[idx] = roc_auc_score(y_test, probas)\n",
    "\n",
    "    return np.mean(cv_predicts)"
   ]
  },
  {
   "cell_type": "code",
   "execution_count": 7,
   "metadata": {
    "scrolled": false
   },
   "outputs": [
    {
     "name": "stderr",
     "output_type": "stream",
     "text": [
      "\u001b[32m[I 2023-04-17 12:21:38,771]\u001b[0m A new study created in memory with name: LGB_01\u001b[0m\n"
     ]
    },
    {
     "data": {
      "application/vnd.jupyter.widget-view+json": {
       "model_id": "a58b32307c12420aa10c4d10d7c39fd9",
       "version_major": 2,
       "version_minor": 0
      },
      "text/plain": [
       "HBox(children=(HTML(value=''), FloatProgress(value=0.0, max=7.0), HTML(value='')))"
      ]
     },
     "metadata": {},
     "output_type": "display_data"
    },
    {
     "name": "stdout",
     "output_type": "stream",
     "text": [
      "\n",
      "CPU times: user 46min 36s, sys: 5min 3s, total: 51min 40s\n",
      "Wall time: 6min 36s\n"
     ]
    }
   ],
   "source": [
    "%%time\n",
    "study = optuna.create_study(direction=\"maximize\", study_name=\"LGB_01\")\n",
    "func = lambda trial: objective_lgb(\n",
    "    trial, X_train, y_train.is_male, N_FOLDS=N_FOLDS, random_state=RAND)\n",
    "optuna.logging.set_verbosity(optuna.logging.WARNING)\n",
    "study.optimize(func, n_trials=7, show_progress_bar=True)"
   ]
  },
  {
   "cell_type": "markdown",
   "metadata": {},
   "source": [
    "Лучшие значения параметров"
   ]
  },
  {
   "cell_type": "code",
   "execution_count": 9,
   "metadata": {
    "scrolled": true
   },
   "outputs": [
    {
     "data": {
      "text/plain": [
       "{'n_estimators': 2000,\n",
       " 'learning_rate': 0.09142235679746477,\n",
       " 'num_leaves': 40,\n",
       " 'min_child_samples': 15,\n",
       " 'objective': 'binary',\n",
       " 'random_state': 42}"
      ]
     },
     "execution_count": 9,
     "metadata": {},
     "output_type": "execute_result"
    }
   ],
   "source": [
    "study.best_params"
   ]
  },
  {
   "cell_type": "markdown",
   "metadata": {},
   "source": [
    "Обучим модель"
   ]
  },
  {
   "cell_type": "code",
   "execution_count": 10,
   "metadata": {},
   "outputs": [
    {
     "name": "stdout",
     "output_type": "stream",
     "text": [
      "CPU times: user 2min 8s, sys: 10.9 s, total: 2min 19s\n",
      "Wall time: 18.5 s\n"
     ]
    },
    {
     "data": {
      "text/html": [
       "<style>#sk-container-id-1 {color: black;background-color: white;}#sk-container-id-1 pre{padding: 0;}#sk-container-id-1 div.sk-toggleable {background-color: white;}#sk-container-id-1 label.sk-toggleable__label {cursor: pointer;display: block;width: 100%;margin-bottom: 0;padding: 0.3em;box-sizing: border-box;text-align: center;}#sk-container-id-1 label.sk-toggleable__label-arrow:before {content: \"▸\";float: left;margin-right: 0.25em;color: #696969;}#sk-container-id-1 label.sk-toggleable__label-arrow:hover:before {color: black;}#sk-container-id-1 div.sk-estimator:hover label.sk-toggleable__label-arrow:before {color: black;}#sk-container-id-1 div.sk-toggleable__content {max-height: 0;max-width: 0;overflow: hidden;text-align: left;background-color: #f0f8ff;}#sk-container-id-1 div.sk-toggleable__content pre {margin: 0.2em;color: black;border-radius: 0.25em;background-color: #f0f8ff;}#sk-container-id-1 input.sk-toggleable__control:checked~div.sk-toggleable__content {max-height: 200px;max-width: 100%;overflow: auto;}#sk-container-id-1 input.sk-toggleable__control:checked~label.sk-toggleable__label-arrow:before {content: \"▾\";}#sk-container-id-1 div.sk-estimator input.sk-toggleable__control:checked~label.sk-toggleable__label {background-color: #d4ebff;}#sk-container-id-1 div.sk-label input.sk-toggleable__control:checked~label.sk-toggleable__label {background-color: #d4ebff;}#sk-container-id-1 input.sk-hidden--visually {border: 0;clip: rect(1px 1px 1px 1px);clip: rect(1px, 1px, 1px, 1px);height: 1px;margin: -1px;overflow: hidden;padding: 0;position: absolute;width: 1px;}#sk-container-id-1 div.sk-estimator {font-family: monospace;background-color: #f0f8ff;border: 1px dotted black;border-radius: 0.25em;box-sizing: border-box;margin-bottom: 0.5em;}#sk-container-id-1 div.sk-estimator:hover {background-color: #d4ebff;}#sk-container-id-1 div.sk-parallel-item::after {content: \"\";width: 100%;border-bottom: 1px solid gray;flex-grow: 1;}#sk-container-id-1 div.sk-label:hover label.sk-toggleable__label {background-color: #d4ebff;}#sk-container-id-1 div.sk-serial::before {content: \"\";position: absolute;border-left: 1px solid gray;box-sizing: border-box;top: 0;bottom: 0;left: 50%;z-index: 0;}#sk-container-id-1 div.sk-serial {display: flex;flex-direction: column;align-items: center;background-color: white;padding-right: 0.2em;padding-left: 0.2em;position: relative;}#sk-container-id-1 div.sk-item {position: relative;z-index: 1;}#sk-container-id-1 div.sk-parallel {display: flex;align-items: stretch;justify-content: center;background-color: white;position: relative;}#sk-container-id-1 div.sk-item::before, #sk-container-id-1 div.sk-parallel-item::before {content: \"\";position: absolute;border-left: 1px solid gray;box-sizing: border-box;top: 0;bottom: 0;left: 50%;z-index: -1;}#sk-container-id-1 div.sk-parallel-item {display: flex;flex-direction: column;z-index: 1;position: relative;background-color: white;}#sk-container-id-1 div.sk-parallel-item:first-child::after {align-self: flex-end;width: 50%;}#sk-container-id-1 div.sk-parallel-item:last-child::after {align-self: flex-start;width: 50%;}#sk-container-id-1 div.sk-parallel-item:only-child::after {width: 0;}#sk-container-id-1 div.sk-dashed-wrapped {border: 1px dashed gray;margin: 0 0.4em 0.5em 0.4em;box-sizing: border-box;padding-bottom: 0.4em;background-color: white;}#sk-container-id-1 div.sk-label label {font-family: monospace;font-weight: bold;display: inline-block;line-height: 1.2em;}#sk-container-id-1 div.sk-label-container {text-align: center;}#sk-container-id-1 div.sk-container {/* jupyter's `normalize.less` sets `[hidden] { display: none; }` but bootstrap.min.css set `[hidden] { display: none !important; }` so we also need the `!important` here to be able to override the default hidden behavior on the sphinx rendered scikit-learn.org. See: https://github.com/scikit-learn/scikit-learn/issues/21755 */display: inline-block !important;position: relative;}#sk-container-id-1 div.sk-text-repr-fallback {display: none;}</style><div id=\"sk-container-id-1\" class=\"sk-top-container\"><div class=\"sk-text-repr-fallback\"><pre>LGBMClassifier(learning_rate=0.09142235679746477, min_child_samples=15,\n",
       "               n_estimators=2000, num_leaves=40, objective=&#x27;binary&#x27;,\n",
       "               random_state=42, scale_pos_weight=0.9361879512447268)</pre><b>In a Jupyter environment, please rerun this cell to show the HTML representation or trust the notebook. <br />On GitHub, the HTML representation is unable to render, please try loading this page with nbviewer.org.</b></div><div class=\"sk-container\" hidden><div class=\"sk-item\"><div class=\"sk-estimator sk-toggleable\"><input class=\"sk-toggleable__control sk-hidden--visually\" id=\"sk-estimator-id-1\" type=\"checkbox\" checked><label for=\"sk-estimator-id-1\" class=\"sk-toggleable__label sk-toggleable__label-arrow\">LGBMClassifier</label><div class=\"sk-toggleable__content\"><pre>LGBMClassifier(learning_rate=0.09142235679746477, min_child_samples=15,\n",
       "               n_estimators=2000, num_leaves=40, objective=&#x27;binary&#x27;,\n",
       "               random_state=42, scale_pos_weight=0.9361879512447268)</pre></div></div></div></div></div>"
      ],
      "text/plain": [
       "LGBMClassifier(learning_rate=0.09142235679746477, min_child_samples=15,\n",
       "               n_estimators=2000, num_leaves=40, objective='binary',\n",
       "               random_state=42, scale_pos_weight=0.9361879512447268)"
      ]
     },
     "execution_count": 10,
     "metadata": {},
     "output_type": "execute_result"
    }
   ],
   "source": [
    "%%time\n",
    "eval_set = [(X_val, y_val.is_male)]\n",
    "ratio = float(np.sum(y_train_.is_male == 0)) / np.sum(y_train_.is_male == 1)\n",
    "\n",
    "lgbm_clf = LGBMClassifier(**study.best_params, scale_pos_weight=ratio)\n",
    "\n",
    "lgbm_clf.fit(X_train_,\n",
    "             y_train_.is_male,\n",
    "             eval_set=eval_set,\n",
    "             verbose=False,\n",
    "             early_stopping_rounds=100);"
   ]
  },
  {
   "cell_type": "markdown",
   "metadata": {},
   "source": [
    "Проверим факт переобучения"
   ]
  },
  {
   "cell_type": "code",
   "execution_count": 11,
   "metadata": {},
   "outputs": [
    {
     "name": "stdout",
     "output_type": "stream",
     "text": [
      "roc_auc_score train: 0.997\n",
      "roc_auc_score test: 0.906\n",
      "delta = 10.1 %\n"
     ]
    }
   ],
   "source": [
    "check_overfitting(lgbm_clf,\n",
    "                  X_train_,\n",
    "                  y_train_.is_male,\n",
    "                  X_test,\n",
    "                  y_test.is_male)"
   ]
  },
  {
   "cell_type": "markdown",
   "metadata": {},
   "source": [
    "Сделаем предикт"
   ]
  },
  {
   "cell_type": "code",
   "execution_count": 12,
   "metadata": {},
   "outputs": [],
   "source": [
    "predict = lgbm_clf.predict(X_test)\n",
    "proba = lgbm_clf.predict_proba(X_test)"
   ]
  },
  {
   "cell_type": "markdown",
   "metadata": {},
   "source": [
    "Таблица с метриками"
   ]
  },
  {
   "cell_type": "code",
   "execution_count": 13,
   "metadata": {},
   "outputs": [
    {
     "data": {
      "text/html": [
       "<div>\n",
       "<style scoped>\n",
       "    .dataframe tbody tr th:only-of-type {\n",
       "        vertical-align: middle;\n",
       "    }\n",
       "\n",
       "    .dataframe tbody tr th {\n",
       "        vertical-align: top;\n",
       "    }\n",
       "\n",
       "    .dataframe thead th {\n",
       "        text-align: right;\n",
       "    }\n",
       "</style>\n",
       "<table border=\"1\" class=\"dataframe\">\n",
       "  <thead>\n",
       "    <tr style=\"text-align: right;\">\n",
       "      <th></th>\n",
       "      <th>model</th>\n",
       "      <th>Accuracy</th>\n",
       "      <th>ROC_AUC</th>\n",
       "      <th>Precision</th>\n",
       "      <th>Recall</th>\n",
       "      <th>f1</th>\n",
       "      <th>Logloss</th>\n",
       "    </tr>\n",
       "  </thead>\n",
       "  <tbody>\n",
       "    <tr>\n",
       "      <th>0</th>\n",
       "      <td>LGBMClassifier_Optuna</td>\n",
       "      <td>0.818113</td>\n",
       "      <td>0.9056</td>\n",
       "      <td>0.8299</td>\n",
       "      <td>0.814836</td>\n",
       "      <td>0.822299</td>\n",
       "      <td>0.391573</td>\n",
       "    </tr>\n",
       "  </tbody>\n",
       "</table>\n",
       "</div>"
      ],
      "text/plain": [
       "                   model  Accuracy  ROC_AUC  Precision    Recall        f1  \\\n",
       "0  LGBMClassifier_Optuna  0.818113   0.9056     0.8299  0.814836  0.822299   \n",
       "\n",
       "    Logloss  \n",
       "0  0.391573  "
      ]
     },
     "execution_count": 13,
     "metadata": {},
     "output_type": "execute_result"
    }
   ],
   "source": [
    "metrics = get_metrics_classification(y_test=y_test.is_male,\n",
    "                                     y_pred=predict,\n",
    "                                     y_score=proba,\n",
    "                                     name='LGBMClassifier_Optuna')\n",
    "metrics"
   ]
  },
  {
   "cell_type": "markdown",
   "metadata": {},
   "source": [
    "## CatBoost"
   ]
  },
  {
   "cell_type": "markdown",
   "metadata": {},
   "source": [
    "Попробуем улучшить значения метрик baseline (roc-auc 0.858) с помощью Random Search. Подбирать будем аналогичным предыдущему пункту способом (сначала n_estimators, затем learning_rate, а потом все остальное)"
   ]
  },
  {
   "cell_type": "code",
   "execution_count": 14,
   "metadata": {
    "scrolled": true
   },
   "outputs": [
    {
     "name": "stdout",
     "output_type": "stream",
     "text": [
      "\n",
      "bestTest = 0.8664721863\n",
      "bestIteration = 3996\n",
      "\n",
      "Metric AUC is not calculated on train by default. To calculate this metric on train, add hints=skip_train~false to metric parameters.\n",
      "0:\tloss: 0.8664722\tbest: 0.8664722 (0)\ttotal: 42.7s\tremaining: 6m 23s\n",
      "\n",
      "bestTest = 0.94325345\n",
      "bestIteration = 3998\n",
      "\n",
      "Metric AUC is not calculated on train by default. To calculate this metric on train, add hints=skip_train~false to metric parameters.\n",
      "1:\tloss: 0.9432535\tbest: 0.9432535 (1)\ttotal: 2m 9s\tremaining: 8m 38s\n",
      "\n",
      "bestTest = 0.9203525563\n",
      "bestIteration = 3999\n",
      "\n",
      "Metric AUC is not calculated on train by default. To calculate this metric on train, add hints=skip_train~false to metric parameters.\n",
      "2:\tloss: 0.9203526\tbest: 0.9432535 (1)\ttotal: 3m 18s\tremaining: 7m 43s\n",
      "\n",
      "bestTest = 0.8681434651\n",
      "bestIteration = 3999\n",
      "\n",
      "Metric AUC is not calculated on train by default. To calculate this metric on train, add hints=skip_train~false to metric parameters.\n",
      "3:\tloss: 0.8681435\tbest: 0.9432535 (1)\ttotal: 4m 39s\tremaining: 6m 58s\n",
      "\n",
      "bestTest = 0.9480431663\n",
      "bestIteration = 3989\n",
      "\n",
      "Metric AUC is not calculated on train by default. To calculate this metric on train, add hints=skip_train~false to metric parameters.\n",
      "4:\tloss: 0.9480432\tbest: 0.9480432 (4)\ttotal: 7m 16s\tremaining: 7m 16s\n",
      "\n",
      "bestTest = 0.9535259117\n",
      "bestIteration = 3999\n",
      "\n",
      "Metric AUC is not calculated on train by default. To calculate this metric on train, add hints=skip_train~false to metric parameters.\n",
      "5:\tloss: 0.9535259\tbest: 0.9535259 (5)\ttotal: 9m 44s\tremaining: 6m 29s\n",
      "Estimating final quality...\n",
      "Training on fold [0/3]\n",
      "\n",
      "bestTest = 0.943742455\n",
      "bestIteration = 3989\n",
      "\n",
      "Training on fold [1/3]\n",
      "\n",
      "bestTest = 0.9444895995\n",
      "bestIteration = 3988\n",
      "\n",
      "Training on fold [2/3]\n",
      "\n",
      "bestTest = 0.9454052908\n",
      "bestIteration = 3988\n",
      "\n",
      "CPU times: user 2h 56s, sys: 9min 33s, total: 2h 10min 30s\n",
      "Wall time: 19min 21s\n"
     ]
    }
   ],
   "source": [
    "%%time\n",
    "grid = {\n",
    "#     \"n_estimators\": [1000, 1500, 2000, 2500, 3000, 4000],\n",
    "    \"n_estimators\": [4000],\n",
    "#     \"learning_rate\": np.logspace(-3, -0.9, 10),\n",
    "    \"learning_rate\" : [0.12589254117941673],\n",
    "    \"boosting_type\" : ['Ordered', 'Plain'],\n",
    "    \"max_depth\": list(range(3, 17)),\n",
    "    \"bootstrap_type\": [\"Bayesian\", \"Bernoulli\", \"MVS\", \"No\"],\n",
    "    'grow_policy': [\"SymmetricTree\", \"Depthwise\", \"Lossguide\"],\n",
    "    \"random_state\": [RAND]\n",
    "\n",
    "}\n",
    "\n",
    "model = CatBoostClassifier(loss_function=\"Logloss\",\n",
    "                           eval_metric=\"AUC\",\n",
    "                           silent=True)\n",
    "grid_search_result = model.randomized_search(grid,\n",
    "                                             X=X_train_,\n",
    "                                             y=y_train_.is_male,\n",
    "                                             plot=False);"
   ]
  },
  {
   "cell_type": "markdown",
   "metadata": {},
   "source": [
    "Лучшие значения параметров"
   ]
  },
  {
   "cell_type": "code",
   "execution_count": 15,
   "metadata": {},
   "outputs": [
    {
     "data": {
      "text/plain": [
       "{'depth': 12,\n",
       " 'random_seed': 42,\n",
       " 'iterations': 4000,\n",
       " 'learning_rate': 0.12589254117941673,\n",
       " 'grow_policy': 'Lossguide',\n",
       " 'boosting_type': 'Plain',\n",
       " 'bootstrap_type': 'MVS'}"
      ]
     },
     "execution_count": 15,
     "metadata": {},
     "output_type": "execute_result"
    }
   ],
   "source": [
    "grid_search_result['params']"
   ]
  },
  {
   "cell_type": "markdown",
   "metadata": {},
   "source": [
    "Обучим модель"
   ]
  },
  {
   "cell_type": "code",
   "execution_count": 16,
   "metadata": {},
   "outputs": [
    {
     "name": "stdout",
     "output_type": "stream",
     "text": [
      "CPU times: user 13min 37s, sys: 1min 15s, total: 14min 53s\n",
      "Wall time: 2min 43s\n"
     ]
    },
    {
     "data": {
      "text/plain": [
       "<catboost.core.CatBoostClassifier at 0x7fdb499fb7c0>"
      ]
     },
     "execution_count": 16,
     "metadata": {},
     "output_type": "execute_result"
    }
   ],
   "source": [
    "%%time\n",
    "ctbst_clf = CatBoostClassifier(**grid_search_result['params'],\n",
    "                               scale_pos_weight=ratio,\n",
    "                               loss_function='Logloss',\n",
    "                               eval_metric='AUC')\n",
    "ctbst_clf.fit(X_train_,\n",
    "              y_train_.is_male,\n",
    "              eval_set=eval_set,\n",
    "              verbose=False,\n",
    "              early_stopping_rounds=100);"
   ]
  },
  {
   "cell_type": "markdown",
   "metadata": {},
   "source": [
    "Проверим факт переобучения"
   ]
  },
  {
   "cell_type": "code",
   "execution_count": 17,
   "metadata": {},
   "outputs": [
    {
     "name": "stdout",
     "output_type": "stream",
     "text": [
      "roc_auc_score train: 1.000\n",
      "roc_auc_score test: 0.914\n",
      "delta = 9.5 %\n"
     ]
    }
   ],
   "source": [
    "check_overfitting(ctbst_clf,\n",
    "                  X_train_,\n",
    "                  y_train_.is_male,\n",
    "                  X_test,\n",
    "                  y_test.is_male)"
   ]
  },
  {
   "cell_type": "markdown",
   "metadata": {},
   "source": [
    "Сделаем предикт"
   ]
  },
  {
   "cell_type": "code",
   "execution_count": 18,
   "metadata": {},
   "outputs": [],
   "source": [
    "predict = ctbst_clf.predict(X_test)\n",
    "proba = ctbst_clf.predict_proba(X_test)"
   ]
  },
  {
   "cell_type": "markdown",
   "metadata": {},
   "source": [
    "Таблица с метриками"
   ]
  },
  {
   "cell_type": "code",
   "execution_count": 19,
   "metadata": {},
   "outputs": [
    {
     "data": {
      "text/html": [
       "<div>\n",
       "<style scoped>\n",
       "    .dataframe tbody tr th:only-of-type {\n",
       "        vertical-align: middle;\n",
       "    }\n",
       "\n",
       "    .dataframe tbody tr th {\n",
       "        vertical-align: top;\n",
       "    }\n",
       "\n",
       "    .dataframe thead th {\n",
       "        text-align: right;\n",
       "    }\n",
       "</style>\n",
       "<table border=\"1\" class=\"dataframe\">\n",
       "  <thead>\n",
       "    <tr style=\"text-align: right;\">\n",
       "      <th></th>\n",
       "      <th>model</th>\n",
       "      <th>Accuracy</th>\n",
       "      <th>ROC_AUC</th>\n",
       "      <th>Precision</th>\n",
       "      <th>Recall</th>\n",
       "      <th>f1</th>\n",
       "      <th>Logloss</th>\n",
       "    </tr>\n",
       "  </thead>\n",
       "  <tbody>\n",
       "    <tr>\n",
       "      <th>0</th>\n",
       "      <td>LGBMClassifier_Optuna</td>\n",
       "      <td>0.818113</td>\n",
       "      <td>0.905600</td>\n",
       "      <td>0.829900</td>\n",
       "      <td>0.814836</td>\n",
       "      <td>0.822299</td>\n",
       "      <td>0.391573</td>\n",
       "    </tr>\n",
       "    <tr>\n",
       "      <th>0</th>\n",
       "      <td>CatBoostClassifier_RandomSearch</td>\n",
       "      <td>0.829832</td>\n",
       "      <td>0.913606</td>\n",
       "      <td>0.837051</td>\n",
       "      <td>0.832596</td>\n",
       "      <td>0.834817</td>\n",
       "      <td>0.375223</td>\n",
       "    </tr>\n",
       "  </tbody>\n",
       "</table>\n",
       "</div>"
      ],
      "text/plain": [
       "                             model  Accuracy   ROC_AUC  Precision    Recall  \\\n",
       "0            LGBMClassifier_Optuna  0.818113  0.905600   0.829900  0.814836   \n",
       "0  CatBoostClassifier_RandomSearch  0.829832  0.913606   0.837051  0.832596   \n",
       "\n",
       "         f1   Logloss  \n",
       "0  0.822299  0.391573  \n",
       "0  0.834817  0.375223  "
      ]
     },
     "execution_count": 19,
     "metadata": {},
     "output_type": "execute_result"
    }
   ],
   "source": [
    "metrics = metrics.append(get_metrics_classification(y_test=y_test.is_male,\n",
    "                                                    y_pred=predict,\n",
    "                                                    y_score=proba,\n",
    "                                                    name='CatBoostClassifier_RandomSearch'))\n",
    "\n",
    "metrics"
   ]
  },
  {
   "cell_type": "markdown",
   "metadata": {},
   "source": [
    "## Stacking"
   ]
  },
  {
   "cell_type": "markdown",
   "metadata": {},
   "source": [
    "Попробуем улучшить результат с помощью стекинга. В качестве базовых алгоритмов возьмем Tuned LGBMClassifier, Tuned CatBoostClassifier и Baseline RandomForestClassifier. Мета-алгоритмом будет логистическая регрессия."
   ]
  },
  {
   "cell_type": "code",
   "execution_count": 20,
   "metadata": {},
   "outputs": [],
   "source": [
    "estimators = [('lgb', lgbm_clf),\n",
    "              ('ctb', ctbst_clf),\n",
    "              ('rf', RandomForestClassifier(class_weight='balanced',\n",
    "                                            random_state=RAND))]\n",
    "\n",
    "cv = StratifiedKFold(n_splits=N_FOLDS)\n",
    "\n",
    "meta = StackingClassifier(\n",
    "    estimators=estimators,\n",
    "    cv=cv,\n",
    "    final_estimator=LogisticRegression(random_state=RAND, class_weight='balanced'))"
   ]
  },
  {
   "cell_type": "markdown",
   "metadata": {},
   "source": [
    "Обучим модель"
   ]
  },
  {
   "cell_type": "code",
   "execution_count": 21,
   "metadata": {},
   "outputs": [],
   "source": [
    "meta.fit(X_train, y_train.is_male);"
   ]
  },
  {
   "cell_type": "markdown",
   "metadata": {},
   "source": [
    "Проверим факт переобучения"
   ]
  },
  {
   "cell_type": "code",
   "execution_count": 22,
   "metadata": {},
   "outputs": [
    {
     "name": "stdout",
     "output_type": "stream",
     "text": [
      "roc_auc_score train: 0.999\n",
      "roc_auc_score test: 0.924\n",
      "delta = 8.1 %\n"
     ]
    }
   ],
   "source": [
    "check_overfitting(meta,\n",
    "                  X_train_,\n",
    "                  y_train_.is_male,\n",
    "                  X_test,\n",
    "                  y_test.is_male)"
   ]
  },
  {
   "cell_type": "markdown",
   "metadata": {},
   "source": [
    "Сделаем предикт"
   ]
  },
  {
   "cell_type": "code",
   "execution_count": 23,
   "metadata": {},
   "outputs": [],
   "source": [
    "predict = meta.predict(X_test)\n",
    "proba = meta.predict_proba(X_test)"
   ]
  },
  {
   "cell_type": "markdown",
   "metadata": {},
   "source": [
    "Таблица с метриками"
   ]
  },
  {
   "cell_type": "code",
   "execution_count": 24,
   "metadata": {},
   "outputs": [
    {
     "data": {
      "text/html": [
       "<div>\n",
       "<style scoped>\n",
       "    .dataframe tbody tr th:only-of-type {\n",
       "        vertical-align: middle;\n",
       "    }\n",
       "\n",
       "    .dataframe tbody tr th {\n",
       "        vertical-align: top;\n",
       "    }\n",
       "\n",
       "    .dataframe thead th {\n",
       "        text-align: right;\n",
       "    }\n",
       "</style>\n",
       "<table border=\"1\" class=\"dataframe\">\n",
       "  <thead>\n",
       "    <tr style=\"text-align: right;\">\n",
       "      <th></th>\n",
       "      <th>model</th>\n",
       "      <th>Accuracy</th>\n",
       "      <th>ROC_AUC</th>\n",
       "      <th>Precision</th>\n",
       "      <th>Recall</th>\n",
       "      <th>f1</th>\n",
       "      <th>Logloss</th>\n",
       "    </tr>\n",
       "  </thead>\n",
       "  <tbody>\n",
       "    <tr>\n",
       "      <th>0</th>\n",
       "      <td>LGBMClassifier_Optuna</td>\n",
       "      <td>0.818113</td>\n",
       "      <td>0.905600</td>\n",
       "      <td>0.829900</td>\n",
       "      <td>0.814836</td>\n",
       "      <td>0.822299</td>\n",
       "      <td>0.391573</td>\n",
       "    </tr>\n",
       "    <tr>\n",
       "      <th>0</th>\n",
       "      <td>CatBoostClassifier_RandomSearch</td>\n",
       "      <td>0.829832</td>\n",
       "      <td>0.913606</td>\n",
       "      <td>0.837051</td>\n",
       "      <td>0.832596</td>\n",
       "      <td>0.834817</td>\n",
       "      <td>0.375223</td>\n",
       "    </tr>\n",
       "    <tr>\n",
       "      <th>0</th>\n",
       "      <td>StackingClassifier</td>\n",
       "      <td>0.844792</td>\n",
       "      <td>0.924260</td>\n",
       "      <td>0.854426</td>\n",
       "      <td>0.843128</td>\n",
       "      <td>0.848739</td>\n",
       "      <td>0.359731</td>\n",
       "    </tr>\n",
       "  </tbody>\n",
       "</table>\n",
       "</div>"
      ],
      "text/plain": [
       "                             model  Accuracy   ROC_AUC  Precision    Recall  \\\n",
       "0            LGBMClassifier_Optuna  0.818113  0.905600   0.829900  0.814836   \n",
       "0  CatBoostClassifier_RandomSearch  0.829832  0.913606   0.837051  0.832596   \n",
       "0               StackingClassifier  0.844792  0.924260   0.854426  0.843128   \n",
       "\n",
       "         f1   Logloss  \n",
       "0  0.822299  0.391573  \n",
       "0  0.834817  0.375223  \n",
       "0  0.848739  0.359731  "
      ]
     },
     "execution_count": 24,
     "metadata": {},
     "output_type": "execute_result"
    }
   ],
   "source": [
    "metrics = metrics.append(get_metrics_classification(y_test=y_test.is_male,\n",
    "                                                    y_pred=predict,\n",
    "                                                    y_score=proba,\n",
    "                                                    name='StackingClassifier'))\n",
    "\n",
    "metrics"
   ]
  },
  {
   "cell_type": "markdown",
   "metadata": {},
   "source": [
    "## Выводы"
   ]
  },
  {
   "cell_type": "markdown",
   "metadata": {},
   "source": [
    "После подбора гиперпараметров значения метрик значительно улучшились:\n",
    "- Baseline LGB (roc-auc=0.768) -> Optuna LGB (roc-auc=0.905)\n",
    "- Baseline CatBoost (roc-auc=0.858) -> Random Search CatBoost (roc-auc=0.913)\n",
    "\n",
    "Также удалось немного улучшить результаты, используя стекинг (roc-auc=0.924)"
   ]
  },
  {
   "cell_type": "markdown",
   "metadata": {},
   "source": [
    "# Регрессия. Определение возраста"
   ]
  },
  {
   "cell_type": "markdown",
   "metadata": {},
   "source": [
    "Функция для проверки на переобучение (для регрессии)"
   ]
  },
  {
   "cell_type": "code",
   "execution_count": 9,
   "metadata": {},
   "outputs": [],
   "source": [
    "def check_overfitting(model, X_train, y_train, X_test, y_test, metric_fun):\n",
    "    \"\"\"\n",
    "    Проверка на overfitting для регрессии\n",
    "    \"\"\"\n",
    "    y_pred_train = model.predict(X_train)\n",
    "    y_pred_test = model.predict(X_test)\n",
    "    value_train = metric_fun(y_train, y_pred_train)\n",
    "    value_test = metric_fun(y_test, y_pred_test)\n",
    "\n",
    "    print(f'{metric_fun.__name__} train: %.3f' % value_train)\n",
    "    print(f'{metric_fun.__name__} test: %.3f' % value_test)\n",
    "    print(f'delta = {(abs(value_train - value_test)/value_test*100):.1f} %')"
   ]
  },
  {
   "cell_type": "markdown",
   "metadata": {},
   "source": [
    "## LightGBM"
   ]
  },
  {
   "cell_type": "markdown",
   "metadata": {},
   "source": [
    "Попробуем улучшить значения метрик baseline (mae 7.519) с помощью optuna. Сначала подберем лучшее количество базовых алгоритмов, потом зафиксируем его. Затем подберем лучшее значение шага и так же зафиксируем его. И потом с подобранными количеством базовых алгоритмов и шагом будем крутить остальные параметры."
   ]
  },
  {
   "cell_type": "code",
   "execution_count": 26,
   "metadata": {},
   "outputs": [],
   "source": [
    "# целевая функция\n",
    "def objective_lgb(trial, X, y, N_FOLDS, random_state=RAND):\n",
    "    lgb_params = {\n",
    "#         \"n_estimators\": trial.suggest_categorical(\"n_estimators\", [1000, 1200, 1500, 1700, 2000, 2300]),\n",
    "        \"n_estimators\": trial.suggest_categorical(\"n_estimators\", [2000]),\n",
    "#         \"learning_rate\": trial.suggest_float(\"learning_rate\",\n",
    "#                                              0.001,\n",
    "#                                              0.3),\n",
    "        \"learning_rate\": trial.suggest_categorical(\"learning_rate\", [0.2902529161087996]),\n",
    "        \"num_leaves\": trial.suggest_int(\"num_leaves\", 10, 30, step=5),\n",
    "        \"min_child_samples\": trial.suggest_int(\"min_child_samples\", 20, 50, step=5),\n",
    "        \"objective\": trial.suggest_categorical(\"objective\", [\"mae\"]),\n",
    "        \"random_state\": trial.suggest_categorical(\"random_state\", [random_state])\n",
    "    }\n",
    "\n",
    "    cv = KFold(n_splits=N_FOLDS, shuffle=True, random_state=random_state)\n",
    "\n",
    "    cv_predicts = np.empty(N_FOLDS)\n",
    "    for idx, (train_idx, test_idx) in enumerate(cv.split(X, y)):\n",
    "        X_train, X_test = X.iloc[train_idx], X.iloc[test_idx]\n",
    "        y_train, y_test = y.iloc[train_idx], y.iloc[test_idx]\n",
    "\n",
    "        pruning_callback = optuna.integration.LightGBMPruningCallback(\n",
    "            trial, \"l1\")\n",
    "        model = LGBMRegressor(**lgb_params)\n",
    "        model.fit(X_train,\n",
    "                  y_train,\n",
    "                  eval_set=[(X_test, y_test)],\n",
    "                  eval_metric=\"mae\",\n",
    "                  early_stopping_rounds=100,\n",
    "                  callbacks=[pruning_callback],\n",
    "                  verbose=0)\n",
    "\n",
    "        preds = model.predict(X_test)\n",
    "        cv_predicts[idx] = mean_absolute_error(y_test, preds)\n",
    "\n",
    "    return np.mean(cv_predicts)"
   ]
  },
  {
   "cell_type": "code",
   "execution_count": 27,
   "metadata": {},
   "outputs": [
    {
     "data": {
      "application/vnd.jupyter.widget-view+json": {
       "model_id": "90838fd0a11642f8896a240b8626bf45",
       "version_major": 2,
       "version_minor": 0
      },
      "text/plain": [
       "HBox(children=(HTML(value=''), FloatProgress(value=0.0, max=7.0), HTML(value='')))"
      ]
     },
     "metadata": {},
     "output_type": "display_data"
    },
    {
     "name": "stdout",
     "output_type": "stream",
     "text": [
      "\n",
      "CPU times: user 46min 4s, sys: 5min 42s, total: 51min 47s\n",
      "Wall time: 6min 34s\n"
     ]
    }
   ],
   "source": [
    "%%time\n",
    "study = optuna.create_study(direction=\"minimize\", study_name=\"LGB_02\")\n",
    "func = lambda trial: objective_lgb(\n",
    "    trial, X_train, y_train.age, N_FOLDS=N_FOLDS, random_state=RAND)\n",
    "optuna.logging.set_verbosity(optuna.logging.WARNING)\n",
    "study.optimize(func, n_trials=7, show_progress_bar=True)"
   ]
  },
  {
   "cell_type": "markdown",
   "metadata": {},
   "source": [
    "Лучшие значения параметров"
   ]
  },
  {
   "cell_type": "code",
   "execution_count": 28,
   "metadata": {
    "scrolled": true
   },
   "outputs": [
    {
     "data": {
      "text/plain": [
       "{'n_estimators': 2000,\n",
       " 'learning_rate': 0.2902529161087996,\n",
       " 'num_leaves': 30,\n",
       " 'min_child_samples': 20,\n",
       " 'objective': 'mae',\n",
       " 'random_state': 42}"
      ]
     },
     "execution_count": 28,
     "metadata": {},
     "output_type": "execute_result"
    }
   ],
   "source": [
    "study.best_params"
   ]
  },
  {
   "cell_type": "markdown",
   "metadata": {},
   "source": [
    "Обучим модель"
   ]
  },
  {
   "cell_type": "code",
   "execution_count": 29,
   "metadata": {},
   "outputs": [
    {
     "name": "stdout",
     "output_type": "stream",
     "text": [
      "CPU times: user 2min 13s, sys: 14.9 s, total: 2min 27s\n",
      "Wall time: 19.6 s\n"
     ]
    },
    {
     "data": {
      "text/html": [
       "<style>#sk-container-id-4 {color: black;background-color: white;}#sk-container-id-4 pre{padding: 0;}#sk-container-id-4 div.sk-toggleable {background-color: white;}#sk-container-id-4 label.sk-toggleable__label {cursor: pointer;display: block;width: 100%;margin-bottom: 0;padding: 0.3em;box-sizing: border-box;text-align: center;}#sk-container-id-4 label.sk-toggleable__label-arrow:before {content: \"▸\";float: left;margin-right: 0.25em;color: #696969;}#sk-container-id-4 label.sk-toggleable__label-arrow:hover:before {color: black;}#sk-container-id-4 div.sk-estimator:hover label.sk-toggleable__label-arrow:before {color: black;}#sk-container-id-4 div.sk-toggleable__content {max-height: 0;max-width: 0;overflow: hidden;text-align: left;background-color: #f0f8ff;}#sk-container-id-4 div.sk-toggleable__content pre {margin: 0.2em;color: black;border-radius: 0.25em;background-color: #f0f8ff;}#sk-container-id-4 input.sk-toggleable__control:checked~div.sk-toggleable__content {max-height: 200px;max-width: 100%;overflow: auto;}#sk-container-id-4 input.sk-toggleable__control:checked~label.sk-toggleable__label-arrow:before {content: \"▾\";}#sk-container-id-4 div.sk-estimator input.sk-toggleable__control:checked~label.sk-toggleable__label {background-color: #d4ebff;}#sk-container-id-4 div.sk-label input.sk-toggleable__control:checked~label.sk-toggleable__label {background-color: #d4ebff;}#sk-container-id-4 input.sk-hidden--visually {border: 0;clip: rect(1px 1px 1px 1px);clip: rect(1px, 1px, 1px, 1px);height: 1px;margin: -1px;overflow: hidden;padding: 0;position: absolute;width: 1px;}#sk-container-id-4 div.sk-estimator {font-family: monospace;background-color: #f0f8ff;border: 1px dotted black;border-radius: 0.25em;box-sizing: border-box;margin-bottom: 0.5em;}#sk-container-id-4 div.sk-estimator:hover {background-color: #d4ebff;}#sk-container-id-4 div.sk-parallel-item::after {content: \"\";width: 100%;border-bottom: 1px solid gray;flex-grow: 1;}#sk-container-id-4 div.sk-label:hover label.sk-toggleable__label {background-color: #d4ebff;}#sk-container-id-4 div.sk-serial::before {content: \"\";position: absolute;border-left: 1px solid gray;box-sizing: border-box;top: 0;bottom: 0;left: 50%;z-index: 0;}#sk-container-id-4 div.sk-serial {display: flex;flex-direction: column;align-items: center;background-color: white;padding-right: 0.2em;padding-left: 0.2em;position: relative;}#sk-container-id-4 div.sk-item {position: relative;z-index: 1;}#sk-container-id-4 div.sk-parallel {display: flex;align-items: stretch;justify-content: center;background-color: white;position: relative;}#sk-container-id-4 div.sk-item::before, #sk-container-id-4 div.sk-parallel-item::before {content: \"\";position: absolute;border-left: 1px solid gray;box-sizing: border-box;top: 0;bottom: 0;left: 50%;z-index: -1;}#sk-container-id-4 div.sk-parallel-item {display: flex;flex-direction: column;z-index: 1;position: relative;background-color: white;}#sk-container-id-4 div.sk-parallel-item:first-child::after {align-self: flex-end;width: 50%;}#sk-container-id-4 div.sk-parallel-item:last-child::after {align-self: flex-start;width: 50%;}#sk-container-id-4 div.sk-parallel-item:only-child::after {width: 0;}#sk-container-id-4 div.sk-dashed-wrapped {border: 1px dashed gray;margin: 0 0.4em 0.5em 0.4em;box-sizing: border-box;padding-bottom: 0.4em;background-color: white;}#sk-container-id-4 div.sk-label label {font-family: monospace;font-weight: bold;display: inline-block;line-height: 1.2em;}#sk-container-id-4 div.sk-label-container {text-align: center;}#sk-container-id-4 div.sk-container {/* jupyter's `normalize.less` sets `[hidden] { display: none; }` but bootstrap.min.css set `[hidden] { display: none !important; }` so we also need the `!important` here to be able to override the default hidden behavior on the sphinx rendered scikit-learn.org. See: https://github.com/scikit-learn/scikit-learn/issues/21755 */display: inline-block !important;position: relative;}#sk-container-id-4 div.sk-text-repr-fallback {display: none;}</style><div id=\"sk-container-id-4\" class=\"sk-top-container\"><div class=\"sk-text-repr-fallback\"><pre>LGBMRegressor(learning_rate=0.2902529161087996, n_estimators=2000,\n",
       "              num_leaves=30, objective=&#x27;mae&#x27;, random_state=42)</pre><b>In a Jupyter environment, please rerun this cell to show the HTML representation or trust the notebook. <br />On GitHub, the HTML representation is unable to render, please try loading this page with nbviewer.org.</b></div><div class=\"sk-container\" hidden><div class=\"sk-item\"><div class=\"sk-estimator sk-toggleable\"><input class=\"sk-toggleable__control sk-hidden--visually\" id=\"sk-estimator-id-4\" type=\"checkbox\" checked><label for=\"sk-estimator-id-4\" class=\"sk-toggleable__label sk-toggleable__label-arrow\">LGBMRegressor</label><div class=\"sk-toggleable__content\"><pre>LGBMRegressor(learning_rate=0.2902529161087996, n_estimators=2000,\n",
       "              num_leaves=30, objective=&#x27;mae&#x27;, random_state=42)</pre></div></div></div></div></div>"
      ],
      "text/plain": [
       "LGBMRegressor(learning_rate=0.2902529161087996, n_estimators=2000,\n",
       "              num_leaves=30, objective='mae', random_state=42)"
      ]
     },
     "execution_count": 29,
     "metadata": {},
     "output_type": "execute_result"
    }
   ],
   "source": [
    "%%time\n",
    "eval_set = [(X_val, y_val.age)]\n",
    "\n",
    "lgbm_reg = LGBMRegressor(**study.best_params)\n",
    "\n",
    "lgbm_reg.fit(X_train_,\n",
    "             y_train_.age,\n",
    "             eval_set=eval_set,\n",
    "             verbose=False,\n",
    "             early_stopping_rounds=100);"
   ]
  },
  {
   "cell_type": "markdown",
   "metadata": {},
   "source": [
    "Проверим факт переобучения"
   ]
  },
  {
   "cell_type": "code",
   "execution_count": 30,
   "metadata": {},
   "outputs": [
    {
     "name": "stdout",
     "output_type": "stream",
     "text": [
      "mean_absolute_error train: 3.297\n",
      "mean_absolute_error test: 5.303\n",
      "delta = 37.8 %\n"
     ]
    }
   ],
   "source": [
    "check_overfitting(lgbm_reg,\n",
    "                  X_train_,\n",
    "                  y_train_.age,\n",
    "                  X_test,\n",
    "                  y_test.age,\n",
    "                  metric_fun=mean_absolute_error)"
   ]
  },
  {
   "cell_type": "markdown",
   "metadata": {},
   "source": [
    "Сделаем предикт"
   ]
  },
  {
   "cell_type": "code",
   "execution_count": 31,
   "metadata": {},
   "outputs": [],
   "source": [
    "predict = lgbm_reg.predict(X_test)"
   ]
  },
  {
   "cell_type": "markdown",
   "metadata": {},
   "source": [
    "Таблица с метриками"
   ]
  },
  {
   "cell_type": "code",
   "execution_count": 32,
   "metadata": {},
   "outputs": [
    {
     "data": {
      "text/html": [
       "<div>\n",
       "<style scoped>\n",
       "    .dataframe tbody tr th:only-of-type {\n",
       "        vertical-align: middle;\n",
       "    }\n",
       "\n",
       "    .dataframe tbody tr th {\n",
       "        vertical-align: top;\n",
       "    }\n",
       "\n",
       "    .dataframe thead th {\n",
       "        text-align: right;\n",
       "    }\n",
       "</style>\n",
       "<table border=\"1\" class=\"dataframe\">\n",
       "  <thead>\n",
       "    <tr style=\"text-align: right;\">\n",
       "      <th></th>\n",
       "      <th>MAE</th>\n",
       "      <th>MSE</th>\n",
       "      <th>RMSE</th>\n",
       "      <th>RMSLE</th>\n",
       "      <th>R2 adjusted</th>\n",
       "      <th>MPE_%</th>\n",
       "      <th>MAPE_%</th>\n",
       "      <th>WAPE_%</th>\n",
       "    </tr>\n",
       "    <tr>\n",
       "      <th>model</th>\n",
       "      <th></th>\n",
       "      <th></th>\n",
       "      <th></th>\n",
       "      <th></th>\n",
       "      <th></th>\n",
       "      <th></th>\n",
       "      <th></th>\n",
       "      <th></th>\n",
       "    </tr>\n",
       "  </thead>\n",
       "  <tbody>\n",
       "    <tr>\n",
       "      <th>LGBMRegressor_Optuna</th>\n",
       "      <td>5.303</td>\n",
       "      <td>65.682</td>\n",
       "      <td>8.104</td>\n",
       "      <td>0.207</td>\n",
       "      <td>0.477</td>\n",
       "      <td>-2.893</td>\n",
       "      <td>14.804</td>\n",
       "      <td>14.458</td>\n",
       "    </tr>\n",
       "  </tbody>\n",
       "</table>\n",
       "</div>"
      ],
      "text/plain": [
       "                        MAE     MSE   RMSE  RMSLE  R2 adjusted  MPE_%  MAPE_%  \\\n",
       "model                                                                           \n",
       "LGBMRegressor_Optuna  5.303  65.682  8.104  0.207        0.477 -2.893  14.804   \n",
       "\n",
       "                      WAPE_%  \n",
       "model                         \n",
       "LGBMRegressor_Optuna  14.458  "
      ]
     },
     "execution_count": 32,
     "metadata": {},
     "output_type": "execute_result"
    }
   ],
   "source": [
    "metrics = get_metrics_regression(y_test=y_test.age,\n",
    "                                 y_pred=predict,\n",
    "                                 X_test=X_test,\n",
    "                                 name='LGBMRegressor_Optuna')\n",
    "\n",
    "round(metrics.set_index('model'), 3)"
   ]
  },
  {
   "cell_type": "markdown",
   "metadata": {},
   "source": [
    "## CatBoost"
   ]
  },
  {
   "cell_type": "markdown",
   "metadata": {},
   "source": [
    "Попробуем улучшить значения метрик baseline (mae 6.613) с помощью Random Search. Подбирать будем аналогичным предыдущему пункту способом (сначала n_estimators, затем learning_rate, а потом все остальное)"
   ]
  },
  {
   "cell_type": "code",
   "execution_count": 45,
   "metadata": {},
   "outputs": [
    {
     "name": "stdout",
     "output_type": "stream",
     "text": [
      "\n",
      "bestTest = 6.940566737\n",
      "bestIteration = 2299\n",
      "\n",
      "0:\tloss: 6.9405667\tbest: 6.9405667 (0)\ttotal: 19.1s\tremaining: 2m 51s\n",
      "\n",
      "bestTest = 5.263099178\n",
      "bestIteration = 2299\n",
      "\n",
      "1:\tloss: 5.2630992\tbest: 5.2630992 (1)\ttotal: 1m 3s\tremaining: 4m 15s\n",
      "\n",
      "bestTest = 5.944241067\n",
      "bestIteration = 2299\n",
      "\n",
      "2:\tloss: 5.9442411\tbest: 5.2630992 (1)\ttotal: 1m 37s\tremaining: 3m 47s\n",
      "\n",
      "bestTest = 6.696874157\n",
      "bestIteration = 2299\n",
      "\n",
      "3:\tloss: 6.6968742\tbest: 5.2630992 (1)\ttotal: 2m 18s\tremaining: 3m 28s\n",
      "\n",
      "bestTest = 5.018859413\n",
      "bestIteration = 2299\n",
      "\n",
      "4:\tloss: 5.0188594\tbest: 5.0188594 (4)\ttotal: 3m 53s\tremaining: 3m 53s\n",
      "\n",
      "bestTest = 4.839146924\n",
      "bestIteration = 2299\n",
      "\n",
      "5:\tloss: 4.8391469\tbest: 4.8391469 (5)\ttotal: 5m 32s\tremaining: 3m 41s\n",
      "Estimating final quality...\n",
      "Training on fold [0/3]\n",
      "\n",
      "bestTest = 5.056171003\n",
      "bestIteration = 2299\n",
      "\n",
      "Training on fold [1/3]\n",
      "\n",
      "bestTest = 5.03675986\n",
      "bestIteration = 2298\n",
      "\n",
      "Training on fold [2/3]\n",
      "\n",
      "bestTest = 4.988859112\n",
      "bestIteration = 2299\n",
      "\n",
      "CPU times: user 1h 12min 4s, sys: 4min 37s, total: 1h 16min 42s\n",
      "Wall time: 11min 55s\n"
     ]
    }
   ],
   "source": [
    "%%time\n",
    "grid = {\n",
    "#     \"n_estimators\": [1000, 1200, 1500, 1700, 2000, 2300],\n",
    "    \"n_estimators\": [2300],\n",
    "#     \"learning_rate\": np.logspace(-3, -0.9, 10),\n",
    "    \"learning_rate\" : [0.12589254117941673],\n",
    "    \"boosting_type\" : ['Ordered', 'Plain'],\n",
    "    \"max_depth\": list(range(3, 17)),\n",
    "    \"bootstrap_type\": [\"Bayesian\", \"Bernoulli\", \"MVS\", \"No\"],\n",
    "    'grow_policy': [\"SymmetricTree\", \"Depthwise\", \"Lossguide\"],\n",
    "    \"random_state\": [RAND]\n",
    "\n",
    "}\n",
    "\n",
    "model = CatBoostRegressor(loss_function=\"MAE\",\n",
    "                          eval_metric=\"MAE\",\n",
    "                          silent=True)\n",
    "grid_search_result = model.randomized_search(grid,\n",
    "                                             X=X_train_,\n",
    "                                             y=y_train_.age,\n",
    "                                             plot=False);"
   ]
  },
  {
   "cell_type": "markdown",
   "metadata": {},
   "source": [
    "Лучшие значения параметров"
   ]
  },
  {
   "cell_type": "code",
   "execution_count": 46,
   "metadata": {},
   "outputs": [
    {
     "data": {
      "text/plain": [
       "{'depth': 12,\n",
       " 'random_seed': 42,\n",
       " 'iterations': 2300,\n",
       " 'learning_rate': 0.12589254117941673,\n",
       " 'grow_policy': 'Lossguide',\n",
       " 'boosting_type': 'Plain',\n",
       " 'bootstrap_type': 'MVS'}"
      ]
     },
     "execution_count": 46,
     "metadata": {},
     "output_type": "execute_result"
    }
   ],
   "source": [
    "grid_search_result['params']"
   ]
  },
  {
   "cell_type": "markdown",
   "metadata": {},
   "source": [
    "Обучим модель"
   ]
  },
  {
   "cell_type": "code",
   "execution_count": 47,
   "metadata": {},
   "outputs": [
    {
     "name": "stdout",
     "output_type": "stream",
     "text": [
      "CPU times: user 9min 31s, sys: 45 s, total: 10min 16s\n",
      "Wall time: 1min 53s\n"
     ]
    },
    {
     "data": {
      "text/plain": [
       "<catboost.core.CatBoostRegressor at 0x7ff450f19b80>"
      ]
     },
     "execution_count": 47,
     "metadata": {},
     "output_type": "execute_result"
    }
   ],
   "source": [
    "%%time\n",
    "ctbst_reg = CatBoostRegressor(**grid_search_result['params'],\n",
    "                              loss_function='MAE',\n",
    "                              eval_metric='MAE')\n",
    "ctbst_reg.fit(X_train_,\n",
    "              y_train_.age,\n",
    "              eval_set=eval_set,\n",
    "              verbose=False,\n",
    "              early_stopping_rounds=100);"
   ]
  },
  {
   "cell_type": "markdown",
   "metadata": {},
   "source": [
    "Проверим факт переобучения"
   ]
  },
  {
   "cell_type": "code",
   "execution_count": 48,
   "metadata": {
    "scrolled": true
   },
   "outputs": [
    {
     "name": "stdout",
     "output_type": "stream",
     "text": [
      "mean_absolute_error train: 4.043\n",
      "mean_absolute_error test: 5.458\n",
      "delta = 25.9 %\n"
     ]
    }
   ],
   "source": [
    "check_overfitting(ctbst_reg,\n",
    "                  X_train_,\n",
    "                  y_train_.age,\n",
    "                  X_test,\n",
    "                  y_test.age,\n",
    "                  metric_fun=mean_absolute_error)"
   ]
  },
  {
   "cell_type": "markdown",
   "metadata": {},
   "source": [
    "Сделаем предикт"
   ]
  },
  {
   "cell_type": "code",
   "execution_count": 49,
   "metadata": {},
   "outputs": [],
   "source": [
    "predict = ctbst_reg.predict(X_test)"
   ]
  },
  {
   "cell_type": "markdown",
   "metadata": {},
   "source": [
    "Таблица с метриками"
   ]
  },
  {
   "cell_type": "code",
   "execution_count": 50,
   "metadata": {},
   "outputs": [
    {
     "data": {
      "text/html": [
       "<div>\n",
       "<style scoped>\n",
       "    .dataframe tbody tr th:only-of-type {\n",
       "        vertical-align: middle;\n",
       "    }\n",
       "\n",
       "    .dataframe tbody tr th {\n",
       "        vertical-align: top;\n",
       "    }\n",
       "\n",
       "    .dataframe thead th {\n",
       "        text-align: right;\n",
       "    }\n",
       "</style>\n",
       "<table border=\"1\" class=\"dataframe\">\n",
       "  <thead>\n",
       "    <tr style=\"text-align: right;\">\n",
       "      <th></th>\n",
       "      <th>MAE</th>\n",
       "      <th>MSE</th>\n",
       "      <th>RMSE</th>\n",
       "      <th>RMSLE</th>\n",
       "      <th>R2 adjusted</th>\n",
       "      <th>MPE_%</th>\n",
       "      <th>MAPE_%</th>\n",
       "      <th>WAPE_%</th>\n",
       "    </tr>\n",
       "    <tr>\n",
       "      <th>model</th>\n",
       "      <th></th>\n",
       "      <th></th>\n",
       "      <th></th>\n",
       "      <th></th>\n",
       "      <th></th>\n",
       "      <th></th>\n",
       "      <th></th>\n",
       "      <th></th>\n",
       "    </tr>\n",
       "  </thead>\n",
       "  <tbody>\n",
       "    <tr>\n",
       "      <th>LGBMRegressor_Optuna</th>\n",
       "      <td>5.303</td>\n",
       "      <td>65.682</td>\n",
       "      <td>8.104</td>\n",
       "      <td>0.207</td>\n",
       "      <td>0.477</td>\n",
       "      <td>-2.893</td>\n",
       "      <td>14.804</td>\n",
       "      <td>14.458</td>\n",
       "    </tr>\n",
       "    <tr>\n",
       "      <th>CatBoostRegressor_RandomSearch</th>\n",
       "      <td>5.458</td>\n",
       "      <td>68.453</td>\n",
       "      <td>8.274</td>\n",
       "      <td>0.209</td>\n",
       "      <td>0.455</td>\n",
       "      <td>-2.624</td>\n",
       "      <td>15.099</td>\n",
       "      <td>14.881</td>\n",
       "    </tr>\n",
       "  </tbody>\n",
       "</table>\n",
       "</div>"
      ],
      "text/plain": [
       "                                  MAE     MSE   RMSE  RMSLE  R2 adjusted  \\\n",
       "model                                                                      \n",
       "LGBMRegressor_Optuna            5.303  65.682  8.104  0.207        0.477   \n",
       "CatBoostRegressor_RandomSearch  5.458  68.453  8.274  0.209        0.455   \n",
       "\n",
       "                                MPE_%  MAPE_%  WAPE_%  \n",
       "model                                                  \n",
       "LGBMRegressor_Optuna           -2.893  14.804  14.458  \n",
       "CatBoostRegressor_RandomSearch -2.624  15.099  14.881  "
      ]
     },
     "execution_count": 50,
     "metadata": {},
     "output_type": "execute_result"
    }
   ],
   "source": [
    "metrics = metrics.append(get_metrics_regression(y_test=y_test.age,\n",
    "                                                y_pred=predict,\n",
    "                                                X_test=X_test,\n",
    "                                                name='CatBoostRegressor_RandomSearch'))\n",
    "\n",
    "round(metrics.set_index('model'), 3)"
   ]
  },
  {
   "cell_type": "markdown",
   "metadata": {},
   "source": [
    "## Stacking"
   ]
  },
  {
   "cell_type": "markdown",
   "metadata": {},
   "source": [
    "Попробуем улучшить результат с помощью стекинга. В качестве базовых алгоритмов возьмем Tuned LGBMRegressor, Tuned CatBoostRegressor, Baseline LGBMRegressor и Baseline CatBoostRegressor. Мета-алгоритмом будет LinearRegression."
   ]
  },
  {
   "cell_type": "code",
   "execution_count": 64,
   "metadata": {},
   "outputs": [],
   "source": [
    "estimators = [('lgb_tuned', lgbm_reg),\n",
    "              ('lgb_baseline', LGBMRegressor(random_state=RAND)),\n",
    "              ('ctb_tuned', ctbst_reg),\n",
    "              ('ctb_baseline', CatBoostRegressor(random_state=RAND))]\n",
    "\n",
    "cv = KFold(n_splits=N_FOLDS)\n",
    "\n",
    "meta = StackingRegressor(\n",
    "    estimators=estimators,\n",
    "    cv=cv,\n",
    "    final_estimator=LinearRegression())"
   ]
  },
  {
   "cell_type": "markdown",
   "metadata": {},
   "source": [
    "Обучим модель"
   ]
  },
  {
   "cell_type": "code",
   "execution_count": 65,
   "metadata": {
    "scrolled": true
   },
   "outputs": [],
   "source": [
    "meta.fit(X_train, y_train.age);"
   ]
  },
  {
   "cell_type": "markdown",
   "metadata": {},
   "source": [
    "Проверим факт переобучения"
   ]
  },
  {
   "cell_type": "code",
   "execution_count": 68,
   "metadata": {},
   "outputs": [
    {
     "name": "stdout",
     "output_type": "stream",
     "text": [
      "mean_absolute_error train: 3.613\n",
      "mean_absolute_error test: 5.217\n",
      "delta = 30.7 %\n"
     ]
    }
   ],
   "source": [
    "check_overfitting(meta,\n",
    "                  X_train,\n",
    "                  y_train.age,\n",
    "                  X_test,\n",
    "                  y_test.age,\n",
    "                  metric_fun=mean_absolute_error)"
   ]
  },
  {
   "cell_type": "markdown",
   "metadata": {},
   "source": [
    "Сделаем предикт"
   ]
  },
  {
   "cell_type": "code",
   "execution_count": 70,
   "metadata": {},
   "outputs": [],
   "source": [
    "predict = meta.predict(X_test)"
   ]
  },
  {
   "cell_type": "markdown",
   "metadata": {},
   "source": [
    "Таблица с метриками"
   ]
  },
  {
   "cell_type": "code",
   "execution_count": 71,
   "metadata": {},
   "outputs": [
    {
     "data": {
      "text/html": [
       "<div>\n",
       "<style scoped>\n",
       "    .dataframe tbody tr th:only-of-type {\n",
       "        vertical-align: middle;\n",
       "    }\n",
       "\n",
       "    .dataframe tbody tr th {\n",
       "        vertical-align: top;\n",
       "    }\n",
       "\n",
       "    .dataframe thead th {\n",
       "        text-align: right;\n",
       "    }\n",
       "</style>\n",
       "<table border=\"1\" class=\"dataframe\">\n",
       "  <thead>\n",
       "    <tr style=\"text-align: right;\">\n",
       "      <th></th>\n",
       "      <th>MAE</th>\n",
       "      <th>MSE</th>\n",
       "      <th>RMSE</th>\n",
       "      <th>RMSLE</th>\n",
       "      <th>R2 adjusted</th>\n",
       "      <th>MPE_%</th>\n",
       "      <th>MAPE_%</th>\n",
       "      <th>WAPE_%</th>\n",
       "    </tr>\n",
       "    <tr>\n",
       "      <th>model</th>\n",
       "      <th></th>\n",
       "      <th></th>\n",
       "      <th></th>\n",
       "      <th></th>\n",
       "      <th></th>\n",
       "      <th></th>\n",
       "      <th></th>\n",
       "      <th></th>\n",
       "    </tr>\n",
       "  </thead>\n",
       "  <tbody>\n",
       "    <tr>\n",
       "      <th>LGBMRegressor_Optuna</th>\n",
       "      <td>5.303</td>\n",
       "      <td>65.682</td>\n",
       "      <td>8.104</td>\n",
       "      <td>0.207</td>\n",
       "      <td>0.477</td>\n",
       "      <td>-2.893</td>\n",
       "      <td>14.804</td>\n",
       "      <td>14.458</td>\n",
       "    </tr>\n",
       "    <tr>\n",
       "      <th>CatBoostRegressor_RandomSearch</th>\n",
       "      <td>5.458</td>\n",
       "      <td>68.453</td>\n",
       "      <td>8.274</td>\n",
       "      <td>0.209</td>\n",
       "      <td>0.455</td>\n",
       "      <td>-2.624</td>\n",
       "      <td>15.099</td>\n",
       "      <td>14.881</td>\n",
       "    </tr>\n",
       "    <tr>\n",
       "      <th>StackingRegressor</th>\n",
       "      <td>5.217</td>\n",
       "      <td>61.354</td>\n",
       "      <td>7.833</td>\n",
       "      <td>0.201</td>\n",
       "      <td>0.512</td>\n",
       "      <td>-4.588</td>\n",
       "      <td>14.839</td>\n",
       "      <td>14.224</td>\n",
       "    </tr>\n",
       "  </tbody>\n",
       "</table>\n",
       "</div>"
      ],
      "text/plain": [
       "                                  MAE     MSE   RMSE  RMSLE  R2 adjusted  \\\n",
       "model                                                                      \n",
       "LGBMRegressor_Optuna            5.303  65.682  8.104  0.207        0.477   \n",
       "CatBoostRegressor_RandomSearch  5.458  68.453  8.274  0.209        0.455   \n",
       "StackingRegressor               5.217  61.354  7.833  0.201        0.512   \n",
       "\n",
       "                                MPE_%  MAPE_%  WAPE_%  \n",
       "model                                                  \n",
       "LGBMRegressor_Optuna           -2.893  14.804  14.458  \n",
       "CatBoostRegressor_RandomSearch -2.624  15.099  14.881  \n",
       "StackingRegressor              -4.588  14.839  14.224  "
      ]
     },
     "execution_count": 71,
     "metadata": {},
     "output_type": "execute_result"
    }
   ],
   "source": [
    "metrics = metrics.append(get_metrics_regression(y_test=y_test.age,\n",
    "                                                y_pred=predict,\n",
    "                                                X_test=X_test,\n",
    "                                                name='StackingRegressor'))\n",
    "\n",
    "round(metrics.set_index('model'), 3)"
   ]
  },
  {
   "cell_type": "markdown",
   "metadata": {},
   "source": [
    "## Выводы"
   ]
  },
  {
   "cell_type": "markdown",
   "metadata": {},
   "source": [
    "После подбора гиперпараметров значения метрик стали лучше:\n",
    "- Baseline LGB (mae=7.519) -> Optuna LGB (mae=5.303)\n",
    "- Baseline CatBoost (mae=6.613) -> Random Search CatBoost (mae=5.458)\n",
    "\n",
    "Также удалось немного улучшить результаты с помощью стекинга (mae=5.217)"
   ]
  },
  {
   "cell_type": "code",
   "execution_count": null,
   "metadata": {},
   "outputs": [],
   "source": []
  }
 ],
 "metadata": {
  "kernelspec": {
   "display_name": "Python 3",
   "language": "python",
   "name": "python3"
  },
  "language_info": {
   "codemirror_mode": {
    "name": "ipython",
    "version": 3
   },
   "file_extension": ".py",
   "mimetype": "text/x-python",
   "name": "python",
   "nbconvert_exporter": "python",
   "pygments_lexer": "ipython3",
   "version": "3.8.5"
  },
  "varInspector": {
   "cols": {
    "lenName": 16,
    "lenType": 16,
    "lenVar": 40
   },
   "kernels_config": {
    "python": {
     "delete_cmd_postfix": "",
     "delete_cmd_prefix": "del ",
     "library": "var_list.py",
     "varRefreshCmd": "print(var_dic_list())"
    },
    "r": {
     "delete_cmd_postfix": ") ",
     "delete_cmd_prefix": "rm(",
     "library": "var_list.r",
     "varRefreshCmd": "cat(var_dic_list()) "
    }
   },
   "types_to_exclude": [
    "module",
    "function",
    "builtin_function_or_method",
    "instance",
    "_Feature"
   ],
   "window_display": false
  }
 },
 "nbformat": 4,
 "nbformat_minor": 4
}
