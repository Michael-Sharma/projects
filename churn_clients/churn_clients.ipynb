{
 "cells": [
  {
   "cell_type": "markdown",
   "metadata": {},
   "source": [
    "## Подготовка данных"
   ]
  },
  {
   "cell_type": "code",
   "execution_count": 1,
   "metadata": {},
   "outputs": [],
   "source": [
    "import pandas as pd\n",
    "import numpy as np\n",
    "from sklearn.model_selection import train_test_split\n",
    "from sklearn.tree import DecisionTreeClassifier\n",
    "from sklearn.ensemble import RandomForestClassifier\n",
    "from sklearn.linear_model import LogisticRegression\n",
    "from sklearn.metrics import f1_score\n",
    "from sklearn.metrics import roc_auc_score\n",
    "from sklearn.preprocessing import OrdinalEncoder\n",
    "from sklearn.preprocessing import StandardScaler\n",
    "from sklearn.utils import shuffle"
   ]
  },
  {
   "cell_type": "markdown",
   "metadata": {},
   "source": [
    "Прочтем файл и выведем первые 5 строчек на экран"
   ]
  },
  {
   "cell_type": "code",
   "execution_count": 2,
   "metadata": {
    "scrolled": false
   },
   "outputs": [
    {
     "data": {
      "text/html": [
       "<div>\n",
       "<style scoped>\n",
       "    .dataframe tbody tr th:only-of-type {\n",
       "        vertical-align: middle;\n",
       "    }\n",
       "\n",
       "    .dataframe tbody tr th {\n",
       "        vertical-align: top;\n",
       "    }\n",
       "\n",
       "    .dataframe thead th {\n",
       "        text-align: right;\n",
       "    }\n",
       "</style>\n",
       "<table border=\"1\" class=\"dataframe\">\n",
       "  <thead>\n",
       "    <tr style=\"text-align: right;\">\n",
       "      <th></th>\n",
       "      <th>RowNumber</th>\n",
       "      <th>CustomerId</th>\n",
       "      <th>Surname</th>\n",
       "      <th>CreditScore</th>\n",
       "      <th>Geography</th>\n",
       "      <th>Gender</th>\n",
       "      <th>Age</th>\n",
       "      <th>Tenure</th>\n",
       "      <th>Balance</th>\n",
       "      <th>NumOfProducts</th>\n",
       "      <th>HasCrCard</th>\n",
       "      <th>IsActiveMember</th>\n",
       "      <th>EstimatedSalary</th>\n",
       "      <th>Exited</th>\n",
       "    </tr>\n",
       "  </thead>\n",
       "  <tbody>\n",
       "    <tr>\n",
       "      <td>0</td>\n",
       "      <td>1</td>\n",
       "      <td>15634602</td>\n",
       "      <td>Hargrave</td>\n",
       "      <td>619</td>\n",
       "      <td>France</td>\n",
       "      <td>Female</td>\n",
       "      <td>42</td>\n",
       "      <td>2.0</td>\n",
       "      <td>0.00</td>\n",
       "      <td>1</td>\n",
       "      <td>1</td>\n",
       "      <td>1</td>\n",
       "      <td>101348.88</td>\n",
       "      <td>1</td>\n",
       "    </tr>\n",
       "    <tr>\n",
       "      <td>1</td>\n",
       "      <td>2</td>\n",
       "      <td>15647311</td>\n",
       "      <td>Hill</td>\n",
       "      <td>608</td>\n",
       "      <td>Spain</td>\n",
       "      <td>Female</td>\n",
       "      <td>41</td>\n",
       "      <td>1.0</td>\n",
       "      <td>83807.86</td>\n",
       "      <td>1</td>\n",
       "      <td>0</td>\n",
       "      <td>1</td>\n",
       "      <td>112542.58</td>\n",
       "      <td>0</td>\n",
       "    </tr>\n",
       "    <tr>\n",
       "      <td>2</td>\n",
       "      <td>3</td>\n",
       "      <td>15619304</td>\n",
       "      <td>Onio</td>\n",
       "      <td>502</td>\n",
       "      <td>France</td>\n",
       "      <td>Female</td>\n",
       "      <td>42</td>\n",
       "      <td>8.0</td>\n",
       "      <td>159660.80</td>\n",
       "      <td>3</td>\n",
       "      <td>1</td>\n",
       "      <td>0</td>\n",
       "      <td>113931.57</td>\n",
       "      <td>1</td>\n",
       "    </tr>\n",
       "    <tr>\n",
       "      <td>3</td>\n",
       "      <td>4</td>\n",
       "      <td>15701354</td>\n",
       "      <td>Boni</td>\n",
       "      <td>699</td>\n",
       "      <td>France</td>\n",
       "      <td>Female</td>\n",
       "      <td>39</td>\n",
       "      <td>1.0</td>\n",
       "      <td>0.00</td>\n",
       "      <td>2</td>\n",
       "      <td>0</td>\n",
       "      <td>0</td>\n",
       "      <td>93826.63</td>\n",
       "      <td>0</td>\n",
       "    </tr>\n",
       "    <tr>\n",
       "      <td>4</td>\n",
       "      <td>5</td>\n",
       "      <td>15737888</td>\n",
       "      <td>Mitchell</td>\n",
       "      <td>850</td>\n",
       "      <td>Spain</td>\n",
       "      <td>Female</td>\n",
       "      <td>43</td>\n",
       "      <td>2.0</td>\n",
       "      <td>125510.82</td>\n",
       "      <td>1</td>\n",
       "      <td>1</td>\n",
       "      <td>1</td>\n",
       "      <td>79084.10</td>\n",
       "      <td>0</td>\n",
       "    </tr>\n",
       "  </tbody>\n",
       "</table>\n",
       "</div>"
      ],
      "text/plain": [
       "   RowNumber  CustomerId   Surname  CreditScore Geography  Gender  Age  \\\n",
       "0          1    15634602  Hargrave          619    France  Female   42   \n",
       "1          2    15647311      Hill          608     Spain  Female   41   \n",
       "2          3    15619304      Onio          502    France  Female   42   \n",
       "3          4    15701354      Boni          699    France  Female   39   \n",
       "4          5    15737888  Mitchell          850     Spain  Female   43   \n",
       "\n",
       "   Tenure    Balance  NumOfProducts  HasCrCard  IsActiveMember  \\\n",
       "0     2.0       0.00              1          1               1   \n",
       "1     1.0   83807.86              1          0               1   \n",
       "2     8.0  159660.80              3          1               0   \n",
       "3     1.0       0.00              2          0               0   \n",
       "4     2.0  125510.82              1          1               1   \n",
       "\n",
       "   EstimatedSalary  Exited  \n",
       "0        101348.88       1  \n",
       "1        112542.58       0  \n",
       "2        113931.57       1  \n",
       "3         93826.63       0  \n",
       "4         79084.10       0  "
      ]
     },
     "execution_count": 2,
     "metadata": {},
     "output_type": "execute_result"
    }
   ],
   "source": [
    "data = pd.read_csv('/datasets/Churn.csv')\n",
    "data.head()"
   ]
  },
  {
   "cell_type": "markdown",
   "metadata": {},
   "source": [
    "### Предобработка данных"
   ]
  },
  {
   "cell_type": "markdown",
   "metadata": {},
   "source": [
    "Проверим данные на наличие дубликатов"
   ]
  },
  {
   "cell_type": "code",
   "execution_count": 3,
   "metadata": {},
   "outputs": [
    {
     "data": {
      "text/plain": [
       "0"
      ]
     },
     "execution_count": 3,
     "metadata": {},
     "output_type": "execute_result"
    }
   ],
   "source": [
    "data.duplicated().sum()"
   ]
  },
  {
   "cell_type": "markdown",
   "metadata": {},
   "source": [
    "Явные дубликаты отсутствуют. Далее необходимо проверить данные на наличие пропусков"
   ]
  },
  {
   "cell_type": "code",
   "execution_count": 4,
   "metadata": {},
   "outputs": [
    {
     "data": {
      "text/plain": [
       "RowNumber            0\n",
       "CustomerId           0\n",
       "Surname              0\n",
       "CreditScore          0\n",
       "Geography            0\n",
       "Gender               0\n",
       "Age                  0\n",
       "Tenure             909\n",
       "Balance              0\n",
       "NumOfProducts        0\n",
       "HasCrCard            0\n",
       "IsActiveMember       0\n",
       "EstimatedSalary      0\n",
       "Exited               0\n",
       "dtype: int64"
      ]
     },
     "execution_count": 4,
     "metadata": {},
     "output_type": "execute_result"
    }
   ],
   "source": [
    "data.isna().sum()"
   ]
  },
  {
   "cell_type": "markdown",
   "metadata": {},
   "source": [
    "Пропуски присутствуют в столбце **Tenure**, который показывает, сколько лет человек является клиентом банка. Заполнение подобных пропусков синтетическими значениями (например, медианой) может сильно испортить исходное распределение. Но в то же время библиотеки машинного обучения не умеют работать с пропусками. Поэтому остается одно - избавиться от строк с пропусками в данном столбце."
   ]
  },
  {
   "cell_type": "code",
   "execution_count": 5,
   "metadata": {},
   "outputs": [],
   "source": [
    "data.dropna(inplace=True)"
   ]
  },
  {
   "cell_type": "markdown",
   "metadata": {},
   "source": [
    "### Разделение выборок"
   ]
  },
  {
   "cell_type": "markdown",
   "metadata": {},
   "source": [
    "Чтобы преобразовать категориальные признаки в количественные, применим прямое кодирование ко всему датафрейму. От столбцов **Surname** и **RowNumber** можно избавиться, тк они мало чем помогут построению моделей, а объем данных значительно возрастет, если эти столбцы оставить"
   ]
  },
  {
   "cell_type": "code",
   "execution_count": 6,
   "metadata": {},
   "outputs": [],
   "source": [
    "data_ohe = pd.get_dummies(data.drop(['Surname', 'RowNumber'], axis=1))"
   ]
  },
  {
   "cell_type": "markdown",
   "metadata": {},
   "source": [
    "Разделим данные на признаки и целевой признак"
   ]
  },
  {
   "cell_type": "code",
   "execution_count": 7,
   "metadata": {},
   "outputs": [],
   "source": [
    "features = data_ohe.drop('Exited', axis=1)\n",
    "target = data_ohe['Exited']"
   ]
  },
  {
   "cell_type": "markdown",
   "metadata": {},
   "source": [
    "Разделим данные на обучающую, валидационную и тестовую выборки"
   ]
  },
  {
   "cell_type": "code",
   "execution_count": 8,
   "metadata": {},
   "outputs": [],
   "source": [
    "features_train, features_valid_test, target_train, target_valid_test = train_test_split(\n",
    "                                        features, target, test_size=0.4, random_state=42)\n",
    "features_valid, features_test, target_valid, target_test = train_test_split(\n",
    "                    features_valid_test, target_valid_test, test_size=0.5, random_state=42)"
   ]
  },
  {
   "cell_type": "code",
   "execution_count": 9,
   "metadata": {},
   "outputs": [
    {
     "name": "stdout",
     "output_type": "stream",
     "text": [
      "(5454, 14) (1818, 14) (1819, 14)\n",
      "(5454,) (1818,) (1819,)\n"
     ]
    }
   ],
   "source": [
    "print(features_train.shape, features_valid.shape, features_test.shape)\n",
    "print(target_train.shape, target_valid.shape, target_test.shape)"
   ]
  },
  {
   "cell_type": "markdown",
   "metadata": {},
   "source": [
    "В итоге имеем:\n",
    "- features_train, target_train - обучающая выборка (размеры (5454, 14) и (5454,) соответственно)\n",
    "- features_valid, target_valid - валидационная выборка (размеры (1818, 14) и (1818,) соответственно)\n",
    "- features_test, target_test - тестовая выборка (размеры (1819, 14) и (1819,) соответственно)"
   ]
  },
  {
   "cell_type": "markdown",
   "metadata": {},
   "source": [
    "## Исследование задачи"
   ]
  },
  {
   "cell_type": "markdown",
   "metadata": {},
   "source": [
    "### Исследование баланса классов"
   ]
  },
  {
   "cell_type": "markdown",
   "metadata": {},
   "source": [
    "Посмотрим, сколько положительных и отрицательных объектов в обучающей выборке "
   ]
  },
  {
   "cell_type": "code",
   "execution_count": 10,
   "metadata": {},
   "outputs": [
    {
     "data": {
      "text/plain": [
       "0    4343\n",
       "1    1111\n",
       "Name: Exited, dtype: int64"
      ]
     },
     "execution_count": 10,
     "metadata": {},
     "output_type": "execute_result"
    }
   ],
   "source": [
    "target_train.value_counts()"
   ]
  },
  {
   "cell_type": "markdown",
   "metadata": {},
   "source": [
    "Количество отрицательных объектов: 4343, количество положительных объектов: 1111\n",
    "\n",
    "Наблюдается явный дисбаланс классов"
   ]
  },
  {
   "cell_type": "markdown",
   "metadata": {},
   "source": [
    "### Исследование моделей без учета дисбаланса классов"
   ]
  },
  {
   "cell_type": "markdown",
   "metadata": {},
   "source": [
    "#### Решающее дерево"
   ]
  },
  {
   "cell_type": "markdown",
   "metadata": {},
   "source": [
    "Рассмотрим решающее дерево с глубиной от 1 до 15 и найдем наилучшие значения гиперпараметров"
   ]
  },
  {
   "cell_type": "code",
   "execution_count": 11,
   "metadata": {},
   "outputs": [
    {
     "name": "stderr",
     "output_type": "stream",
     "text": [
      "/opt/conda/lib/python3.7/site-packages/sklearn/metrics/classification.py:1437: UndefinedMetricWarning: F-score is ill-defined and being set to 0.0 due to no predicted samples.\n",
      "  'precision', 'predicted', average, warn_for)\n"
     ]
    },
    {
     "name": "stdout",
     "output_type": "stream",
     "text": [
      "8\n",
      "0.5209003215434084\n"
     ]
    }
   ],
   "source": [
    "best_depth = 1\n",
    "best_f1 = 0\n",
    "for depth in range(1, 16):\n",
    "    model = DecisionTreeClassifier(max_depth=depth, random_state=42)\n",
    "    model.fit(features_train, target_train)\n",
    "    predict_valid = model.predict(features_valid)\n",
    "    if best_f1 < f1_score(target_valid, predict_valid):\n",
    "        best_depth = depth\n",
    "        best_f1 = f1_score(target_valid, predict_valid)\n",
    "print(best_depth)\n",
    "print(best_f1)"
   ]
  },
  {
   "cell_type": "markdown",
   "metadata": {},
   "source": [
    "Измерим значение AUC-ROC"
   ]
  },
  {
   "cell_type": "code",
   "execution_count": 12,
   "metadata": {},
   "outputs": [
    {
     "data": {
      "text/plain": [
       "0.677207363693317"
      ]
     },
     "execution_count": 12,
     "metadata": {},
     "output_type": "execute_result"
    }
   ],
   "source": [
    "probabilities_one_valid = model.predict_proba(features_valid)[:,1]\n",
    "roc_auc_score(target_valid, probabilities_one_valid)"
   ]
  },
  {
   "cell_type": "markdown",
   "metadata": {},
   "source": [
    "**Вывод:** наибольшее значение f1 = 0.52 достигается при глубине дерева 8. Значение AUC-ROC = 0.67"
   ]
  },
  {
   "cell_type": "markdown",
   "metadata": {},
   "source": [
    "#### Случайный лес"
   ]
  },
  {
   "cell_type": "markdown",
   "metadata": {},
   "source": [
    "Рассмотрим случайный лес с количеством деревьев от 1 до 200 и найдем то количество, при котором достигается наибольшее значение f1 метрики"
   ]
  },
  {
   "cell_type": "code",
   "execution_count": 13,
   "metadata": {},
   "outputs": [
    {
     "name": "stdout",
     "output_type": "stream",
     "text": [
      "59\n",
      "0.5145797598627787\n",
      "CPU times: user 2min 3s, sys: 530 ms, total: 2min 4s\n",
      "Wall time: 2min 4s\n"
     ]
    }
   ],
   "source": [
    "%%time\n",
    "best_estimators = 1\n",
    "best_f1 = 0\n",
    "for estimators in range(1, 201):\n",
    "    model = RandomForestClassifier(n_estimators=estimators, max_depth=depth, random_state=42)\n",
    "    model.fit(features_train, target_train)\n",
    "    predict_valid = model.predict(features_valid)\n",
    "    f1_score(target_valid, predict_valid)\n",
    "    if best_f1 < f1_score(target_valid, predict_valid):\n",
    "        best_estimators = estimators\n",
    "        best_f1 = f1_score(target_valid, predict_valid)\n",
    "\n",
    "print(best_estimators)\n",
    "print(best_f1)"
   ]
  },
  {
   "cell_type": "markdown",
   "metadata": {},
   "source": [
    "Измерим значение AUC-ROC"
   ]
  },
  {
   "cell_type": "code",
   "execution_count": 14,
   "metadata": {},
   "outputs": [
    {
     "data": {
      "text/plain": [
       "0.8536649515887758"
      ]
     },
     "execution_count": 14,
     "metadata": {},
     "output_type": "execute_result"
    }
   ],
   "source": [
    "probabilities_one_valid = model.predict_proba(features_valid)[:,1]\n",
    "roc_auc_score(target_valid, probabilities_one_valid)"
   ]
  },
  {
   "cell_type": "markdown",
   "metadata": {},
   "source": [
    "**Вывод:** наибольшее значение f1 = 0.51 достигается при количестве дереьвев 59. Значение AUC-ROC = 0.853"
   ]
  },
  {
   "cell_type": "markdown",
   "metadata": {},
   "source": [
    "#### Логистическая регрессия"
   ]
  },
  {
   "cell_type": "markdown",
   "metadata": {},
   "source": [
    "Посмотрим, какое качество обеспечит логистическая регрессия"
   ]
  },
  {
   "cell_type": "code",
   "execution_count": 15,
   "metadata": {},
   "outputs": [
    {
     "name": "stderr",
     "output_type": "stream",
     "text": [
      "/opt/conda/lib/python3.7/site-packages/sklearn/linear_model/logistic.py:432: FutureWarning: Default solver will be changed to 'lbfgs' in 0.22. Specify a solver to silence this warning.\n",
      "  FutureWarning)\n",
      "/opt/conda/lib/python3.7/site-packages/sklearn/metrics/classification.py:1437: UndefinedMetricWarning: F-score is ill-defined and being set to 0.0 due to no predicted samples.\n",
      "  'precision', 'predicted', average, warn_for)\n"
     ]
    },
    {
     "data": {
      "text/plain": [
       "0.0"
      ]
     },
     "execution_count": 15,
     "metadata": {},
     "output_type": "execute_result"
    }
   ],
   "source": [
    "model = LogisticRegression(random_state=42)\n",
    "model.fit(features_train, target_train)\n",
    "predict_valid = model.predict(features_valid)\n",
    "f1_score(target_valid, predict_valid)"
   ]
  },
  {
   "cell_type": "markdown",
   "metadata": {},
   "source": [
    "Измерим значение AUC-ROC"
   ]
  },
  {
   "cell_type": "code",
   "execution_count": 16,
   "metadata": {},
   "outputs": [
    {
     "data": {
      "text/plain": [
       "0.6047065098073596"
      ]
     },
     "execution_count": 16,
     "metadata": {},
     "output_type": "execute_result"
    }
   ],
   "source": [
    "probabilities_one_valid = model.predict_proba(features_valid)[:,1]\n",
    "roc_auc_score(target_valid, probabilities_one_valid)"
   ]
  },
  {
   "cell_type": "markdown",
   "metadata": {},
   "source": [
    "Теперь выставим параметр class_weight='balanced' и посмотрим, как поменяется значение f1"
   ]
  },
  {
   "cell_type": "code",
   "execution_count": 17,
   "metadata": {},
   "outputs": [
    {
     "data": {
      "text/plain": [
       "0.4919278252611586"
      ]
     },
     "execution_count": 17,
     "metadata": {},
     "output_type": "execute_result"
    }
   ],
   "source": [
    "model = LogisticRegression(class_weight='balanced', random_state=42, solver='liblinear')\n",
    "model.fit(features_train, target_train)\n",
    "predict_valid = model.predict(features_valid)\n",
    "f1_score(target_valid, predict_valid)"
   ]
  },
  {
   "cell_type": "markdown",
   "metadata": {},
   "source": [
    "Измерим значение AUC-ROC"
   ]
  },
  {
   "cell_type": "code",
   "execution_count": 18,
   "metadata": {},
   "outputs": [
    {
     "data": {
      "text/plain": [
       "0.7458725801237267"
      ]
     },
     "execution_count": 18,
     "metadata": {},
     "output_type": "execute_result"
    }
   ],
   "source": [
    "probabilities_one_valid = model.predict_proba(features_valid)[:,1]\n",
    "roc_auc_score(target_valid, probabilities_one_valid)"
   ]
  },
  {
   "cell_type": "markdown",
   "metadata": {},
   "source": [
    "**Вывод:** логистическая регрессия обеспечивает низкое качество метрики f1 = 0 и значение AUC-ROC = 0.604, но при параметре class_weight='balanced' значение f1 поднимается до 0.49 и значение AUC-ROC = 0.74"
   ]
  },
  {
   "cell_type": "markdown",
   "metadata": {},
   "source": [
    "## Борьба с дисбалансом"
   ]
  },
  {
   "cell_type": "markdown",
   "metadata": {},
   "source": [
    "Рассмотрим два метода борьбы с дисбалансом: увеличение выборки (upsampling) и уменьшение выборки (downsampling)"
   ]
  },
  {
   "cell_type": "markdown",
   "metadata": {},
   "source": [
    "### Upsampling"
   ]
  },
  {
   "cell_type": "markdown",
   "metadata": {},
   "source": [
    "Увеличим выборку положительного класса, чтобы устранить дисбаланс"
   ]
  },
  {
   "cell_type": "code",
   "execution_count": 19,
   "metadata": {},
   "outputs": [],
   "source": [
    "def upsample(features, target, repeat):\n",
    "    features_zeros = features[target == 0]\n",
    "    features_ones = features[target == 1]\n",
    "    target_zeros = target[target == 0]\n",
    "    target_ones = target[target == 1]\n",
    "    \n",
    "    features_upsampled = pd.concat([features_zeros] + [features_ones]*repeat)\n",
    "    target_upsampled = pd.concat([target_zeros] + [target_ones]*repeat)\n",
    "    \n",
    "    features_upsampled, target_upsampled = shuffle(features_upsampled, target_upsampled, random_state=12345)\n",
    "    \n",
    "    return features_upsampled, target_upsampled\n",
    "features_upsampled, target_upsampled = upsample(features_train, target_train, 4)"
   ]
  },
  {
   "cell_type": "markdown",
   "metadata": {},
   "source": [
    "#### Решающее дерево"
   ]
  },
  {
   "cell_type": "markdown",
   "metadata": {},
   "source": [
    "Рассмотрим решающее дерево с глубиной от 1 до 15 и найдем наилучшие значения гиперпараметров"
   ]
  },
  {
   "cell_type": "code",
   "execution_count": 20,
   "metadata": {
    "scrolled": true
   },
   "outputs": [
    {
     "name": "stdout",
     "output_type": "stream",
     "text": [
      "4\n",
      "0.5702127659574469\n"
     ]
    }
   ],
   "source": [
    "best_depth = 1\n",
    "best_f1 = 0\n",
    "for depth in range(1, 16):\n",
    "    model = DecisionTreeClassifier(max_depth=depth, random_state=42)\n",
    "    model.fit(features_upsampled, target_upsampled)\n",
    "    predict_valid = model.predict(features_valid)\n",
    "    if best_f1 < f1_score(target_valid, predict_valid):\n",
    "        best_depth = depth\n",
    "        best_f1 = f1_score(target_valid, predict_valid)\n",
    "print(best_depth)\n",
    "print(best_f1)"
   ]
  },
  {
   "cell_type": "markdown",
   "metadata": {},
   "source": [
    "Измерим значение AUC-ROC"
   ]
  },
  {
   "cell_type": "code",
   "execution_count": 21,
   "metadata": {},
   "outputs": [
    {
     "data": {
      "text/plain": [
       "0.6789288343132474"
      ]
     },
     "execution_count": 21,
     "metadata": {},
     "output_type": "execute_result"
    }
   ],
   "source": [
    "probabilities_one_valid = model.predict_proba(features_valid)[:,1]\n",
    "roc_auc_score(target_valid, probabilities_one_valid)"
   ]
  },
  {
   "cell_type": "markdown",
   "metadata": {},
   "source": [
    "**Вывод:** наибольшее значение f1 = 0.57 достигается при глубине дерева 4. Значение AUC-ROC = 0.678"
   ]
  },
  {
   "cell_type": "markdown",
   "metadata": {},
   "source": [
    "#### Случайный лес"
   ]
  },
  {
   "cell_type": "markdown",
   "metadata": {},
   "source": [
    "Рассмотрим случайный лес с количеством деревьев от 1 до 200 и глубиной дерева от 1 до 15. Также, найдем значения гиперпараметров, при которых достигается наибольшее значение f1 метрики"
   ]
  },
  {
   "cell_type": "code",
   "execution_count": 40,
   "metadata": {},
   "outputs": [
    {
     "name": "stdout",
     "output_type": "stream",
     "text": [
      "количество деревьев: 163\n",
      "глубина: 8\n",
      "f1: 0.6295857988165681\n",
      "CPU times: user 31min 6s, sys: 4.95 s, total: 31min 11s\n",
      "Wall time: 31min 11s\n"
     ]
    }
   ],
   "source": [
    "%%time\n",
    "best_estimators = 1\n",
    "best_depth = 1\n",
    "best_f1 = 0\n",
    "for estimators in range(1, 201):\n",
    "    for depth in range(1, 16):\n",
    "        model = RandomForestClassifier(n_estimators=estimators, max_depth=depth, random_state=12345)\n",
    "        model.fit(features_upsampled, target_upsampled)\n",
    "        predict_valid = model.predict(features_valid)\n",
    "        f1_score(target_valid, predict_valid)\n",
    "        if best_f1 < f1_score(target_valid, predict_valid):\n",
    "            best_estimators = estimators\n",
    "            best_depth = depth\n",
    "            best_f1 = f1_score(target_valid, predict_valid)\n",
    "\n",
    "print('количество деревьев:',best_estimators)\n",
    "print('глубина:',best_depth)\n",
    "print('f1:',best_f1)"
   ]
  },
  {
   "cell_type": "markdown",
   "metadata": {},
   "source": [
    "Измерим значение AUC-ROC"
   ]
  },
  {
   "cell_type": "code",
   "execution_count": 41,
   "metadata": {},
   "outputs": [
    {
     "data": {
      "text/plain": [
       "0.8520010155306786"
      ]
     },
     "execution_count": 41,
     "metadata": {},
     "output_type": "execute_result"
    }
   ],
   "source": [
    "probabilities_one_valid = model.predict_proba(features_valid)[:,1]\n",
    "roc_auc_score(target_valid, probabilities_one_valid)"
   ]
  },
  {
   "cell_type": "markdown",
   "metadata": {},
   "source": [
    "**Вывод:** наибольшее значение f1 = 0.629 достигается при количестве дереьвев 163 и глубине 8. Значение AUC-ROC = 0.85"
   ]
  },
  {
   "cell_type": "markdown",
   "metadata": {},
   "source": [
    "#### Логистическая регрессия"
   ]
  },
  {
   "cell_type": "markdown",
   "metadata": {},
   "source": [
    "Посмотрим, какое качество обеспечит логистическая регрессия"
   ]
  },
  {
   "cell_type": "code",
   "execution_count": 42,
   "metadata": {},
   "outputs": [
    {
     "name": "stderr",
     "output_type": "stream",
     "text": [
      "/opt/conda/lib/python3.7/site-packages/sklearn/linear_model/logistic.py:432: FutureWarning: Default solver will be changed to 'lbfgs' in 0.22. Specify a solver to silence this warning.\n",
      "  FutureWarning)\n"
     ]
    },
    {
     "data": {
      "text/plain": [
       "0.3828016643550624"
      ]
     },
     "execution_count": 42,
     "metadata": {},
     "output_type": "execute_result"
    }
   ],
   "source": [
    "model = LogisticRegression(random_state=42)\n",
    "model.fit(features_upsampled, target_upsampled)\n",
    "predict_valid = model.predict(features_valid)\n",
    "f1_score(target_valid, predict_valid)"
   ]
  },
  {
   "cell_type": "markdown",
   "metadata": {},
   "source": [
    "Измерим значение AUC-ROC"
   ]
  },
  {
   "cell_type": "code",
   "execution_count": 43,
   "metadata": {},
   "outputs": [
    {
     "data": {
      "text/plain": [
       "0.6038590165790862"
      ]
     },
     "execution_count": 43,
     "metadata": {},
     "output_type": "execute_result"
    }
   ],
   "source": [
    "probabilities_one_valid = model.predict_proba(features_valid)[:,1]\n",
    "roc_auc_score(target_valid, probabilities_one_valid)"
   ]
  },
  {
   "cell_type": "markdown",
   "metadata": {},
   "source": [
    "Теперь выставим параметр class_weight='balanced' и посмотрим, как поменяется значение f1"
   ]
  },
  {
   "cell_type": "code",
   "execution_count": 44,
   "metadata": {},
   "outputs": [
    {
     "data": {
      "text/plain": [
       "0.4919278252611586"
      ]
     },
     "execution_count": 44,
     "metadata": {},
     "output_type": "execute_result"
    }
   ],
   "source": [
    "model = LogisticRegression(class_weight='balanced', random_state=42, solver='liblinear')\n",
    "model.fit(features_upsampled, target_upsampled)\n",
    "predict_valid = model.predict(features_valid)\n",
    "f1_score(target_valid, predict_valid)"
   ]
  },
  {
   "cell_type": "markdown",
   "metadata": {},
   "source": [
    "Измерим значение AUC-ROC"
   ]
  },
  {
   "cell_type": "code",
   "execution_count": 45,
   "metadata": {},
   "outputs": [
    {
     "data": {
      "text/plain": [
       "0.745881712593859"
      ]
     },
     "execution_count": 45,
     "metadata": {},
     "output_type": "execute_result"
    }
   ],
   "source": [
    "probabilities_one_valid = model.predict_proba(features_valid)[:,1]\n",
    "roc_auc_score(target_valid, probabilities_one_valid)"
   ]
  },
  {
   "cell_type": "markdown",
   "metadata": {},
   "source": [
    "**Вывод:** логистическая регрессия обеспечивает низкое качество метрики f1 = 0.38 и значение AUC-ROC = 0.6, но при параметре class_weight='balanced' значение f1 поднимается до 0.49 и значение AUC-ROC = 0.745"
   ]
  },
  {
   "cell_type": "markdown",
   "metadata": {},
   "source": [
    "### Downsampling"
   ]
  },
  {
   "cell_type": "markdown",
   "metadata": {},
   "source": [
    "Уменьшим выборку отрицательного класса, чтобы устранить дисбаланс"
   ]
  },
  {
   "cell_type": "code",
   "execution_count": 46,
   "metadata": {},
   "outputs": [],
   "source": [
    "def downsample(features, target):\n",
    "    features_zeros = features[target == 0]\n",
    "    features_ones = features[target == 1]\n",
    "    target_zeros = target[target == 0]\n",
    "    target_ones = target[target == 1]\n",
    "\n",
    "    features_downsampled = pd.concat(\n",
    "        [features_zeros.sample(frac=0.25, random_state=42)] + [features_ones])\n",
    "    target_downsampled = pd.concat(\n",
    "        [target_zeros.sample(frac=0.25, random_state=42)] + [target_ones])\n",
    "    \n",
    "    features_downsampled, target_downsampled = shuffle(\n",
    "        features_downsampled, target_downsampled, random_state=12345)\n",
    "    \n",
    "    return features_downsampled, target_downsampled\n",
    "features_downsampled, target_downsampled = downsample(features_train, target_train)"
   ]
  },
  {
   "cell_type": "markdown",
   "metadata": {},
   "source": [
    "#### Решающее дерево"
   ]
  },
  {
   "cell_type": "markdown",
   "metadata": {},
   "source": [
    "Рассмотрим решающее дерево с глубиной от 1 до 15 и найдем наилучшие значения гиперпараметров"
   ]
  },
  {
   "cell_type": "code",
   "execution_count": 47,
   "metadata": {
    "scrolled": true
   },
   "outputs": [
    {
     "name": "stdout",
     "output_type": "stream",
     "text": [
      "6\n",
      "0.5393939393939393\n"
     ]
    }
   ],
   "source": [
    "best_depth = 1\n",
    "best_f1 = 0\n",
    "for depth in range(1, 16):\n",
    "    model = DecisionTreeClassifier(max_depth=depth, random_state=42)\n",
    "    model.fit(features_downsampled, target_downsampled)\n",
    "    predict_valid = model.predict(features_valid)\n",
    "    if best_f1 < f1_score(target_valid, predict_valid):\n",
    "        best_depth = depth\n",
    "        best_f1 = f1_score(target_valid, predict_valid)\n",
    "print(best_depth)\n",
    "print(best_f1)"
   ]
  },
  {
   "cell_type": "markdown",
   "metadata": {},
   "source": [
    "Измерим значение AUC-ROC"
   ]
  },
  {
   "cell_type": "code",
   "execution_count": 48,
   "metadata": {},
   "outputs": [
    {
     "data": {
      "text/plain": [
       "0.6737470707602051"
      ]
     },
     "execution_count": 48,
     "metadata": {},
     "output_type": "execute_result"
    }
   ],
   "source": [
    "probabilities_one_valid = model.predict_proba(features_valid)[:,1]\n",
    "roc_auc_score(target_valid, probabilities_one_valid)"
   ]
  },
  {
   "cell_type": "markdown",
   "metadata": {},
   "source": [
    "**Вывод:** наибольшее значение f1 = 0.54 достигается при глубине дерева 6. Значение AUC-ROC = 0.67"
   ]
  },
  {
   "cell_type": "markdown",
   "metadata": {},
   "source": [
    "#### Случайный лес"
   ]
  },
  {
   "cell_type": "markdown",
   "metadata": {},
   "source": [
    "Рассмотрим случайный лес с количеством деревьев от 1 до 200 и глубиной дерева от 1 до 15. Также, найдем значения гиперпараметров, при которых достигается наибольшее значение f1 метрики"
   ]
  },
  {
   "cell_type": "code",
   "execution_count": 49,
   "metadata": {},
   "outputs": [
    {
     "name": "stdout",
     "output_type": "stream",
     "text": [
      "количество деревьев: 101\n",
      "глубина: 8\n",
      "f1: 0.6040554962646745\n",
      "CPU times: user 12min 33s, sys: 3.44 s, total: 12min 36s\n",
      "Wall time: 12min 37s\n"
     ]
    }
   ],
   "source": [
    "%%time\n",
    "best_estimators = 1\n",
    "best_depth = 1\n",
    "best_f1 = 0\n",
    "for estimators in range(1, 201):\n",
    "    for depth in range(1, 16):\n",
    "        model = RandomForestClassifier(n_estimators=estimators, max_depth=depth, random_state=12345)\n",
    "        model.fit(features_downsampled, target_downsampled)\n",
    "        predict_valid = model.predict(features_valid)\n",
    "        f1_score(target_valid, predict_valid)\n",
    "        if best_f1 < f1_score(target_valid, predict_valid):\n",
    "            best_estimators = estimators\n",
    "            best_depth = depth\n",
    "            best_f1 = f1_score(target_valid, predict_valid)\n",
    "\n",
    "print('количество деревьев:',best_estimators)\n",
    "print('глубина:',best_depth)\n",
    "print('f1:',best_f1)"
   ]
  },
  {
   "cell_type": "markdown",
   "metadata": {},
   "source": [
    "Измерим значение AUC-ROC"
   ]
  },
  {
   "cell_type": "code",
   "execution_count": 52,
   "metadata": {},
   "outputs": [
    {
     "data": {
      "text/plain": [
       "0.8488283954067328"
      ]
     },
     "execution_count": 52,
     "metadata": {},
     "output_type": "execute_result"
    }
   ],
   "source": [
    "probabilities_one_valid = model.predict_proba(features_valid)[:,1]\n",
    "roc_auc_score(target_valid, probabilities_one_valid)"
   ]
  },
  {
   "cell_type": "markdown",
   "metadata": {},
   "source": [
    "**Вывод:** наибольшее значение f1 = 0.604 достигается при количестве дереьвев 101 и глубине 8. Значение AUC-ROC = 0.85"
   ]
  },
  {
   "cell_type": "markdown",
   "metadata": {},
   "source": [
    "#### Логистическая регрессия"
   ]
  },
  {
   "cell_type": "markdown",
   "metadata": {},
   "source": [
    "Посмотрим, какое качество обеспечит логистическая регрессия"
   ]
  },
  {
   "cell_type": "code",
   "execution_count": 53,
   "metadata": {},
   "outputs": [
    {
     "name": "stderr",
     "output_type": "stream",
     "text": [
      "/opt/conda/lib/python3.7/site-packages/sklearn/linear_model/logistic.py:432: FutureWarning: Default solver will be changed to 'lbfgs' in 0.22. Specify a solver to silence this warning.\n",
      "  FutureWarning)\n"
     ]
    },
    {
     "data": {
      "text/plain": [
       "0.38333333333333336"
      ]
     },
     "execution_count": 53,
     "metadata": {},
     "output_type": "execute_result"
    }
   ],
   "source": [
    "model = LogisticRegression(random_state=42)\n",
    "model.fit(features_downsampled, target_downsampled)\n",
    "predict_valid = model.predict(features_valid)\n",
    "f1_score(target_valid, predict_valid)"
   ]
  },
  {
   "cell_type": "markdown",
   "metadata": {},
   "source": [
    "Измерим значение AUC-ROC"
   ]
  },
  {
   "cell_type": "code",
   "execution_count": 54,
   "metadata": {},
   "outputs": [
    {
     "data": {
      "text/plain": [
       "0.6031886932713787"
      ]
     },
     "execution_count": 54,
     "metadata": {},
     "output_type": "execute_result"
    }
   ],
   "source": [
    "probabilities_one_valid = model.predict_proba(features_valid)[:,1]\n",
    "roc_auc_score(target_valid, probabilities_one_valid)"
   ]
  },
  {
   "cell_type": "markdown",
   "metadata": {},
   "source": [
    "Теперь выставим параметр class_weight='balanced' и посмотрим, как поменяется значение f1"
   ]
  },
  {
   "cell_type": "code",
   "execution_count": 55,
   "metadata": {},
   "outputs": [
    {
     "data": {
      "text/plain": [
       "0.4976258309591643"
      ]
     },
     "execution_count": 55,
     "metadata": {},
     "output_type": "execute_result"
    }
   ],
   "source": [
    "model = LogisticRegression(class_weight='balanced', random_state=42, solver='liblinear')\n",
    "model.fit(features_downsampled, target_downsampled)\n",
    "predict_valid = model.predict(features_valid)\n",
    "f1_score(target_valid, predict_valid)"
   ]
  },
  {
   "cell_type": "markdown",
   "metadata": {},
   "source": [
    "Измерим значение AUC-ROC"
   ]
  },
  {
   "cell_type": "code",
   "execution_count": 56,
   "metadata": {},
   "outputs": [
    {
     "data": {
      "text/plain": [
       "0.7460168731518164"
      ]
     },
     "execution_count": 56,
     "metadata": {},
     "output_type": "execute_result"
    }
   ],
   "source": [
    "probabilities_one_valid = model.predict_proba(features_valid)[:,1]\n",
    "roc_auc_score(target_valid, probabilities_one_valid)"
   ]
  },
  {
   "cell_type": "markdown",
   "metadata": {},
   "source": [
    "**Вывод:** логистическая регрессия обеспечивает низкое качество метрики f1 = 0.38 и значение AUC-ROC = 0.60, но при параметре class_weight='balanced' значение f1 поднимается до 0.497 и значение AUC-ROC = 0.746"
   ]
  },
  {
   "cell_type": "markdown",
   "metadata": {},
   "source": [
    "## Тестирование модели"
   ]
  },
  {
   "cell_type": "markdown",
   "metadata": {},
   "source": [
    "Лучший результат на валидационной выборке показали модели случайного леса с количеством деревьев 163 и глубиной 8 при увеличении выборки положительного класса и с количеством деревьев 101 и глубиной 8 при уменьшении выборки отрицательного класса. Посмотрим, какой результат покажут эти модели на тестовой выборке"
   ]
  },
  {
   "cell_type": "code",
   "execution_count": 59,
   "metadata": {},
   "outputs": [
    {
     "data": {
      "text/plain": [
       "0.5904059040590405"
      ]
     },
     "execution_count": 59,
     "metadata": {},
     "output_type": "execute_result"
    }
   ],
   "source": [
    "model = RandomForestClassifier(n_estimators=163, max_depth=8, random_state=12345)\n",
    "model.fit(features_upsampled, target_upsampled)\n",
    "predict_test = model.predict(features_test)\n",
    "f1_score(target_test, predict_test)"
   ]
  },
  {
   "cell_type": "code",
   "execution_count": 60,
   "metadata": {},
   "outputs": [
    {
     "data": {
      "text/plain": [
       "0.567391304347826"
      ]
     },
     "execution_count": 60,
     "metadata": {},
     "output_type": "execute_result"
    }
   ],
   "source": [
    "model = RandomForestClassifier(n_estimators=101, max_depth=8, random_state=12345)\n",
    "model.fit(features_downsampled, target_downsampled)\n",
    "predict_test = model.predict(features_test)\n",
    "f1_score(target_test, predict_test)"
   ]
  },
  {
   "cell_type": "markdown",
   "metadata": {},
   "source": [
    "**Вывод:** на тестовой выборке лучший результат f1 = 0.59 достигается при количестве деревьев 163 и глубине 8 на модели случайного леса при использовании upsampling в качестве метода борьбы с дисбалансом"
   ]
  },
  {
   "cell_type": "markdown",
   "metadata": {},
   "source": [
    "## Общий вывод"
   ]
  },
  {
   "cell_type": "markdown",
   "metadata": {},
   "source": [
    "В работе рассмотрено несколько моделей машинного обучения для решения задачи классификации: решающее дерево, случайный лес и логистическая регрессия. Исследован баланс классов и построены модели с учетом и без учета дисбаланса классов. Подобраны гиперпараметры моделей, при которых достигается наибольшее значение f1 метрики для каждой модели. Достичь лучшего результата на валидационной выборке (f1 = 0.6295) удалось с помощью случайного леса с количеством деревьев 163 и глубине 8 при использовании upsampling в качестве метода борьбы с дисбалансом. На тестовой выборке данная модель обеспечивает f1=0.59."
   ]
  }
 ],
 "metadata": {
  "ExecuteTimeLog": [
   {
    "duration": 559,
    "start_time": "2022-01-18T11:51:30.856Z"
   },
   {
    "duration": 47,
    "start_time": "2022-01-18T11:51:54.672Z"
   },
   {
    "duration": 5,
    "start_time": "2022-01-18T11:52:07.341Z"
   },
   {
    "duration": 7,
    "start_time": "2022-01-18T11:57:02.256Z"
   },
   {
    "duration": 6,
    "start_time": "2022-01-18T11:57:14.747Z"
   },
   {
    "duration": 5,
    "start_time": "2022-01-18T11:57:24.692Z"
   },
   {
    "duration": 8,
    "start_time": "2022-01-18T11:57:53.564Z"
   },
   {
    "duration": 13,
    "start_time": "2022-01-18T11:58:33.857Z"
   },
   {
    "duration": 7,
    "start_time": "2022-01-18T11:58:37.387Z"
   },
   {
    "duration": 4,
    "start_time": "2022-01-18T11:58:55.697Z"
   },
   {
    "duration": 9,
    "start_time": "2022-01-18T12:00:01.150Z"
   },
   {
    "duration": 6,
    "start_time": "2022-01-18T12:02:09.917Z"
   },
   {
    "duration": 38,
    "start_time": "2022-01-18T12:03:12.691Z"
   },
   {
    "duration": 568,
    "start_time": "2022-01-18T12:08:25.258Z"
   },
   {
    "duration": 201,
    "start_time": "2022-01-18T12:08:46.249Z"
   },
   {
    "duration": 6,
    "start_time": "2022-01-18T12:14:55.699Z"
   },
   {
    "duration": 21,
    "start_time": "2022-01-18T12:15:05.449Z"
   },
   {
    "duration": 6,
    "start_time": "2022-01-18T12:16:32.374Z"
   },
   {
    "duration": 5,
    "start_time": "2022-01-18T12:16:37.287Z"
   },
   {
    "duration": 10,
    "start_time": "2022-01-18T12:24:12.081Z"
   },
   {
    "duration": 4,
    "start_time": "2022-01-18T12:24:36.810Z"
   },
   {
    "duration": 4,
    "start_time": "2022-01-18T12:24:41.035Z"
   },
   {
    "duration": 4,
    "start_time": "2022-01-18T12:24:44.912Z"
   },
   {
    "duration": 4,
    "start_time": "2022-01-18T12:24:55.969Z"
   },
   {
    "duration": 3,
    "start_time": "2022-01-18T12:25:07.028Z"
   },
   {
    "duration": 3,
    "start_time": "2022-01-18T12:25:12.922Z"
   },
   {
    "duration": 4,
    "start_time": "2022-01-18T12:25:17.307Z"
   },
   {
    "duration": 6,
    "start_time": "2022-01-18T12:39:11.146Z"
   },
   {
    "duration": 7,
    "start_time": "2022-01-18T12:39:18.731Z"
   },
   {
    "duration": 7,
    "start_time": "2022-01-18T12:39:42.259Z"
   },
   {
    "duration": 5,
    "start_time": "2022-01-18T12:39:45.095Z"
   },
   {
    "duration": 6,
    "start_time": "2022-01-18T12:40:16.961Z"
   },
   {
    "duration": 5,
    "start_time": "2022-01-18T12:40:27.108Z"
   },
   {
    "duration": 5,
    "start_time": "2022-01-18T12:41:07.437Z"
   },
   {
    "duration": 8,
    "start_time": "2022-01-18T12:41:19.876Z"
   },
   {
    "duration": 10,
    "start_time": "2022-01-18T12:41:42.420Z"
   },
   {
    "duration": 8,
    "start_time": "2022-01-18T12:44:58.128Z"
   },
   {
    "duration": 1106,
    "start_time": "2022-01-18T13:04:11.807Z"
   },
   {
    "duration": 49,
    "start_time": "2022-01-18T13:04:12.914Z"
   },
   {
    "duration": 4,
    "start_time": "2022-01-18T13:04:12.964Z"
   },
   {
    "duration": 13,
    "start_time": "2022-01-18T13:04:12.970Z"
   },
   {
    "duration": 14,
    "start_time": "2022-01-18T13:04:12.985Z"
   },
   {
    "duration": 34,
    "start_time": "2022-01-18T13:10:16.412Z"
   },
   {
    "duration": 3,
    "start_time": "2022-01-18T13:13:21.250Z"
   },
   {
    "duration": 389,
    "start_time": "2022-01-18T13:13:36.957Z"
   },
   {
    "duration": 277,
    "start_time": "2022-01-18T13:16:16.182Z"
   },
   {
    "duration": 5,
    "start_time": "2022-01-18T13:19:36.706Z"
   },
   {
    "duration": 11,
    "start_time": "2022-01-18T13:20:37.834Z"
   },
   {
    "duration": 338,
    "start_time": "2022-01-18T13:20:53.783Z"
   },
   {
    "duration": 9,
    "start_time": "2022-01-18T13:21:00.995Z"
   },
   {
    "duration": 42,
    "start_time": "2022-01-18T13:21:28.216Z"
   },
   {
    "duration": 224,
    "start_time": "2022-01-18T13:25:53.247Z"
   },
   {
    "duration": 14,
    "start_time": "2022-01-18T13:26:45.686Z"
   },
   {
    "duration": 12,
    "start_time": "2022-01-18T13:27:24.395Z"
   },
   {
    "duration": 6,
    "start_time": "2022-01-18T13:27:29.313Z"
   },
   {
    "duration": 20,
    "start_time": "2022-01-18T13:27:35.945Z"
   },
   {
    "duration": 20,
    "start_time": "2022-01-18T13:27:44.239Z"
   },
   {
    "duration": 5,
    "start_time": "2022-01-18T13:28:21.437Z"
   },
   {
    "duration": 4,
    "start_time": "2022-01-18T13:30:09.149Z"
   },
   {
    "duration": 9,
    "start_time": "2022-01-18T13:30:10.533Z"
   },
   {
    "duration": 9,
    "start_time": "2022-01-18T13:30:17.137Z"
   },
   {
    "duration": 269,
    "start_time": "2022-01-18T13:30:26.074Z"
   },
   {
    "duration": 5,
    "start_time": "2022-01-18T13:30:36.810Z"
   },
   {
    "duration": 28,
    "start_time": "2022-01-18T13:30:49.280Z"
   },
   {
    "duration": 6,
    "start_time": "2022-01-18T13:31:59.995Z"
   },
   {
    "duration": 9,
    "start_time": "2022-01-18T13:32:00.738Z"
   },
   {
    "duration": 9,
    "start_time": "2022-01-18T13:32:05.273Z"
   },
   {
    "duration": 285,
    "start_time": "2022-01-18T13:32:08.020Z"
   },
   {
    "duration": 7,
    "start_time": "2022-01-18T13:32:11.633Z"
   },
   {
    "duration": 24,
    "start_time": "2022-01-18T13:32:14.711Z"
   },
   {
    "duration": 36,
    "start_time": "2022-01-18T13:32:18.284Z"
   },
   {
    "duration": 27,
    "start_time": "2022-01-18T13:32:40.932Z"
   },
   {
    "duration": 27,
    "start_time": "2022-01-18T13:33:02.506Z"
   },
   {
    "duration": 4,
    "start_time": "2022-01-18T13:43:51.574Z"
   },
   {
    "duration": 270,
    "start_time": "2022-01-18T13:45:24.783Z"
   },
   {
    "duration": 305,
    "start_time": "2022-01-18T13:45:30.112Z"
   },
   {
    "duration": 280,
    "start_time": "2022-01-18T13:48:18.874Z"
   },
   {
    "duration": 321,
    "start_time": "2022-01-18T13:49:04.899Z"
   },
   {
    "duration": 1105,
    "start_time": "2022-01-18T13:49:16.633Z"
   },
   {
    "duration": 44,
    "start_time": "2022-01-18T13:49:17.958Z"
   },
   {
    "duration": 4,
    "start_time": "2022-01-18T13:49:20.581Z"
   },
   {
    "duration": 376,
    "start_time": "2022-01-18T13:49:22.078Z"
   },
   {
    "duration": 6,
    "start_time": "2022-01-18T13:50:33.175Z"
   },
   {
    "duration": 271,
    "start_time": "2022-01-18T13:53:13.715Z"
   },
   {
    "duration": 20,
    "start_time": "2022-01-18T13:53:22.273Z"
   },
   {
    "duration": 10,
    "start_time": "2022-01-18T13:53:40.099Z"
   },
   {
    "duration": 21,
    "start_time": "2022-01-18T13:53:45.870Z"
   },
   {
    "duration": 30,
    "start_time": "2022-01-18T13:54:53.394Z"
   },
   {
    "duration": 17,
    "start_time": "2022-01-18T13:54:59.093Z"
   },
   {
    "duration": 5,
    "start_time": "2022-01-18T13:56:06.776Z"
   },
   {
    "duration": 7,
    "start_time": "2022-01-18T13:56:30.658Z"
   },
   {
    "duration": 1126,
    "start_time": "2022-01-18T13:56:55.900Z"
   },
   {
    "duration": 46,
    "start_time": "2022-01-18T13:56:57.028Z"
   },
   {
    "duration": 5,
    "start_time": "2022-01-18T13:57:00.108Z"
   },
   {
    "duration": 8,
    "start_time": "2022-01-18T13:57:01.397Z"
   },
   {
    "duration": 5,
    "start_time": "2022-01-18T13:57:21.329Z"
   },
   {
    "duration": 39,
    "start_time": "2022-01-18T13:57:27.941Z"
   },
   {
    "duration": 5,
    "start_time": "2022-01-18T13:57:36.462Z"
   },
   {
    "duration": 1137,
    "start_time": "2022-01-18T13:58:41.397Z"
   },
   {
    "duration": 43,
    "start_time": "2022-01-18T13:58:42.536Z"
   },
   {
    "duration": 5,
    "start_time": "2022-01-18T13:58:46.773Z"
   },
   {
    "duration": 5,
    "start_time": "2022-01-18T13:58:47.173Z"
   },
   {
    "duration": 30,
    "start_time": "2022-01-18T13:58:49.634Z"
   },
   {
    "duration": 4,
    "start_time": "2022-01-18T13:58:51.071Z"
   },
   {
    "duration": 1085,
    "start_time": "2022-01-18T13:59:41.171Z"
   },
   {
    "duration": 44,
    "start_time": "2022-01-18T13:59:42.258Z"
   },
   {
    "duration": 5,
    "start_time": "2022-01-18T13:59:45.483Z"
   },
   {
    "duration": 6,
    "start_time": "2022-01-18T13:59:46.244Z"
   },
   {
    "duration": 16,
    "start_time": "2022-01-18T14:00:46.521Z"
   },
   {
    "duration": 6,
    "start_time": "2022-01-18T14:00:48.198Z"
   },
   {
    "duration": 6851,
    "start_time": "2022-01-18T14:01:57.790Z"
   },
   {
    "duration": 7009,
    "start_time": "2022-01-18T14:02:17.079Z"
   },
   {
    "duration": 5,
    "start_time": "2022-01-18T14:02:29.097Z"
   },
   {
    "duration": 11,
    "start_time": "2022-01-18T14:02:37.041Z"
   },
   {
    "duration": 10,
    "start_time": "2022-01-18T14:02:41.167Z"
   },
   {
    "duration": 264,
    "start_time": "2022-01-18T14:02:43.626Z"
   },
   {
    "duration": 397,
    "start_time": "2022-01-18T14:04:31.704Z"
   },
   {
    "duration": 1277,
    "start_time": "2022-01-18T14:04:33.603Z"
   },
   {
    "duration": 42,
    "start_time": "2022-01-18T14:04:34.882Z"
   },
   {
    "duration": 5,
    "start_time": "2022-01-18T14:04:37.464Z"
   },
   {
    "duration": 5,
    "start_time": "2022-01-18T14:04:47.651Z"
   },
   {
    "duration": 348,
    "start_time": "2022-01-18T14:05:00.460Z"
   },
   {
    "duration": 6,
    "start_time": "2022-01-18T14:05:07.187Z"
   },
   {
    "duration": 302,
    "start_time": "2022-01-18T14:05:19.290Z"
   },
   {
    "duration": 8,
    "start_time": "2022-01-18T14:07:16.027Z"
   },
   {
    "duration": 1020,
    "start_time": "2022-01-18T14:09:40.427Z"
   },
   {
    "duration": 42,
    "start_time": "2022-01-18T14:09:41.449Z"
   },
   {
    "duration": 5,
    "start_time": "2022-01-18T14:09:44.013Z"
   },
   {
    "duration": 4,
    "start_time": "2022-01-18T14:09:45.082Z"
   },
   {
    "duration": 29,
    "start_time": "2022-01-18T14:09:47.071Z"
   },
   {
    "duration": 1316,
    "start_time": "2022-01-18T14:10:30.037Z"
   },
   {
    "duration": 47,
    "start_time": "2022-01-18T14:10:31.355Z"
   },
   {
    "duration": 5,
    "start_time": "2022-01-18T14:10:34.586Z"
   },
   {
    "duration": 5,
    "start_time": "2022-01-18T14:10:48.228Z"
   },
   {
    "duration": 6,
    "start_time": "2022-01-18T14:11:14.362Z"
   },
   {
    "duration": 361,
    "start_time": "2022-01-18T14:11:32.222Z"
   },
   {
    "duration": 287,
    "start_time": "2022-01-18T14:11:55.953Z"
   },
   {
    "duration": 1043,
    "start_time": "2022-01-18T14:19:56.304Z"
   },
   {
    "duration": 45,
    "start_time": "2022-01-18T14:19:57.349Z"
   },
   {
    "duration": 5,
    "start_time": "2022-01-18T14:19:59.394Z"
   },
   {
    "duration": 35,
    "start_time": "2022-01-18T14:20:02.328Z"
   },
   {
    "duration": 775,
    "start_time": "2022-01-18T14:20:36.335Z"
   },
   {
    "duration": 314,
    "start_time": "2022-01-18T14:20:39.736Z"
   },
   {
    "duration": 288,
    "start_time": "2022-01-18T14:20:46.578Z"
   },
   {
    "duration": 16,
    "start_time": "2022-01-18T14:21:09.321Z"
   },
   {
    "duration": 5,
    "start_time": "2022-01-18T14:21:31.131Z"
   },
   {
    "duration": 5,
    "start_time": "2022-01-18T14:22:13.292Z"
   },
   {
    "duration": 1071,
    "start_time": "2022-01-18T14:22:28.570Z"
   },
   {
    "duration": 45,
    "start_time": "2022-01-18T14:22:29.758Z"
   },
   {
    "duration": 5,
    "start_time": "2022-01-18T14:22:33.070Z"
   },
   {
    "duration": 4,
    "start_time": "2022-01-18T14:22:42.135Z"
   },
   {
    "duration": 3,
    "start_time": "2022-01-18T14:22:47.570Z"
   },
   {
    "duration": 32,
    "start_time": "2022-01-18T14:23:10.188Z"
   },
   {
    "duration": 18,
    "start_time": "2022-01-18T14:23:15.503Z"
   },
   {
    "duration": 992,
    "start_time": "2022-01-18T14:23:40.147Z"
   },
   {
    "duration": 44,
    "start_time": "2022-01-18T14:23:41.141Z"
   },
   {
    "duration": 5,
    "start_time": "2022-01-18T14:23:43.364Z"
   },
   {
    "duration": 29,
    "start_time": "2022-01-18T14:23:44.899Z"
   },
   {
    "duration": 18,
    "start_time": "2022-01-18T14:23:45.582Z"
   },
   {
    "duration": 1119,
    "start_time": "2022-01-18T14:25:21.834Z"
   },
   {
    "duration": 46,
    "start_time": "2022-01-18T14:25:22.955Z"
   },
   {
    "duration": 5,
    "start_time": "2022-01-18T14:25:25.191Z"
   },
   {
    "duration": 6,
    "start_time": "2022-01-18T14:25:26.588Z"
   },
   {
    "duration": 370,
    "start_time": "2022-01-18T14:25:28.404Z"
   },
   {
    "duration": 1064,
    "start_time": "2022-01-18T14:26:24.322Z"
   },
   {
    "duration": 45,
    "start_time": "2022-01-18T14:26:25.387Z"
   },
   {
    "duration": 5,
    "start_time": "2022-01-18T14:26:27.305Z"
   },
   {
    "duration": 4,
    "start_time": "2022-01-18T14:26:29.116Z"
   },
   {
    "duration": 30,
    "start_time": "2022-01-18T14:26:30.771Z"
   },
   {
    "duration": 17,
    "start_time": "2022-01-18T14:26:31.982Z"
   },
   {
    "duration": 9,
    "start_time": "2022-01-18T14:26:43.627Z"
   },
   {
    "duration": 9,
    "start_time": "2022-01-18T14:27:04.297Z"
   },
   {
    "duration": 38,
    "start_time": "2022-01-18T14:27:07.969Z"
   },
   {
    "duration": 1135,
    "start_time": "2022-01-18T14:28:42.883Z"
   },
   {
    "duration": 45,
    "start_time": "2022-01-18T14:28:44.979Z"
   },
   {
    "duration": 5,
    "start_time": "2022-01-18T14:28:47.771Z"
   },
   {
    "duration": 266,
    "start_time": "2022-01-18T14:29:05.692Z"
   },
   {
    "duration": 5,
    "start_time": "2022-01-18T14:31:04.620Z"
   },
   {
    "duration": 6,
    "start_time": "2022-01-18T14:31:23.020Z"
   },
   {
    "duration": 5,
    "start_time": "2022-01-18T14:31:45.663Z"
   },
   {
    "duration": 188,
    "start_time": "2022-01-18T14:32:34.134Z"
   },
   {
    "duration": 182,
    "start_time": "2022-01-18T14:32:46.525Z"
   },
   {
    "duration": 188,
    "start_time": "2022-01-18T14:33:03.714Z"
   },
   {
    "duration": 204,
    "start_time": "2022-01-18T14:33:09.237Z"
   },
   {
    "duration": 4,
    "start_time": "2022-01-18T14:34:42.938Z"
   },
   {
    "duration": 5225,
    "start_time": "2022-01-18T14:35:23.340Z"
   },
   {
    "duration": 4,
    "start_time": "2022-01-18T14:35:29.281Z"
   },
   {
    "duration": 9,
    "start_time": "2022-01-18T14:35:36.430Z"
   },
   {
    "duration": 8,
    "start_time": "2022-01-18T14:36:03.019Z"
   },
   {
    "duration": 10,
    "start_time": "2022-01-18T14:36:31.323Z"
   },
   {
    "duration": 24,
    "start_time": "2022-01-18T14:36:56.478Z"
   },
   {
    "duration": 10,
    "start_time": "2022-01-18T14:37:05.993Z"
   },
   {
    "duration": 5,
    "start_time": "2022-01-18T14:37:30.690Z"
   },
   {
    "duration": 5,
    "start_time": "2022-01-18T14:37:37.414Z"
   },
   {
    "duration": 272,
    "start_time": "2022-01-18T14:38:15.771Z"
   },
   {
    "duration": 24,
    "start_time": "2022-01-18T14:38:30.250Z"
   },
   {
    "duration": 276,
    "start_time": "2022-01-18T14:40:17.054Z"
   },
   {
    "duration": 10,
    "start_time": "2022-01-18T14:40:29.072Z"
   },
   {
    "duration": 27,
    "start_time": "2022-01-18T14:41:48.508Z"
   },
   {
    "duration": 23,
    "start_time": "2022-01-18T14:41:54.519Z"
   },
   {
    "duration": 8,
    "start_time": "2022-01-18T14:42:16.682Z"
   },
   {
    "duration": 21,
    "start_time": "2022-01-18T14:42:20.361Z"
   },
   {
    "duration": 1004,
    "start_time": "2022-01-18T14:48:56.037Z"
   },
   {
    "duration": 43,
    "start_time": "2022-01-18T14:48:57.043Z"
   },
   {
    "duration": 4,
    "start_time": "2022-01-18T14:49:15.621Z"
   },
   {
    "duration": 464,
    "start_time": "2022-01-18T14:50:34.732Z"
   },
   {
    "duration": 12,
    "start_time": "2022-01-18T14:50:38.435Z"
   },
   {
    "duration": 7,
    "start_time": "2022-01-18T14:51:41.309Z"
   },
   {
    "duration": 4,
    "start_time": "2022-01-18T14:57:12.174Z"
   },
   {
    "duration": 7,
    "start_time": "2022-01-18T14:57:15.047Z"
   },
   {
    "duration": 4,
    "start_time": "2022-01-18T14:57:15.394Z"
   },
   {
    "duration": 5,
    "start_time": "2022-01-18T14:57:23.189Z"
   },
   {
    "duration": 25,
    "start_time": "2022-01-18T14:57:34.609Z"
   },
   {
    "duration": 8,
    "start_time": "2022-01-18T14:57:36.870Z"
   },
   {
    "duration": 407,
    "start_time": "2022-01-18T14:57:44.178Z"
   },
   {
    "duration": 17,
    "start_time": "2022-01-18T14:58:21.694Z"
   },
   {
    "duration": 4,
    "start_time": "2022-01-18T14:58:28.790Z"
   },
   {
    "duration": 281,
    "start_time": "2022-01-18T14:58:44.597Z"
   },
   {
    "duration": 1121,
    "start_time": "2022-01-18T15:00:16.825Z"
   },
   {
    "duration": 44,
    "start_time": "2022-01-18T15:00:17.948Z"
   },
   {
    "duration": 13,
    "start_time": "2022-01-18T15:00:19.751Z"
   },
   {
    "duration": 7,
    "start_time": "2022-01-18T15:00:20.290Z"
   },
   {
    "duration": 8,
    "start_time": "2022-01-18T15:00:22.091Z"
   },
   {
    "duration": 5,
    "start_time": "2022-01-18T15:00:25.787Z"
   },
   {
    "duration": 11,
    "start_time": "2022-01-18T15:00:29.675Z"
   },
   {
    "duration": 11,
    "start_time": "2022-01-18T15:00:32.349Z"
   },
   {
    "duration": 3,
    "start_time": "2022-01-18T15:01:07.781Z"
   },
   {
    "duration": 3,
    "start_time": "2022-01-18T15:01:20.030Z"
   },
   {
    "duration": 27,
    "start_time": "2022-01-18T15:01:24.026Z"
   },
   {
    "duration": 4,
    "start_time": "2022-01-18T15:01:25.782Z"
   },
   {
    "duration": 10,
    "start_time": "2022-01-18T15:01:34.220Z"
   },
   {
    "duration": 356,
    "start_time": "2022-01-18T15:01:36.408Z"
   },
   {
    "duration": 1014,
    "start_time": "2022-01-18T15:02:04.251Z"
   },
   {
    "duration": 44,
    "start_time": "2022-01-18T15:02:05.267Z"
   },
   {
    "duration": 13,
    "start_time": "2022-01-18T15:02:06.998Z"
   },
   {
    "duration": 8,
    "start_time": "2022-01-18T15:02:07.296Z"
   },
   {
    "duration": 7,
    "start_time": "2022-01-18T15:02:07.600Z"
   },
   {
    "duration": 5,
    "start_time": "2022-01-18T15:02:09.578Z"
   },
   {
    "duration": 4,
    "start_time": "2022-01-18T15:02:12.245Z"
   },
   {
    "duration": 4,
    "start_time": "2022-01-18T15:02:19.914Z"
   },
   {
    "duration": 4,
    "start_time": "2022-01-18T15:02:20.377Z"
   },
   {
    "duration": 18,
    "start_time": "2022-01-18T15:02:36.606Z"
   },
   {
    "duration": 28,
    "start_time": "2022-01-18T15:02:47.706Z"
   },
   {
    "duration": 16,
    "start_time": "2022-01-18T15:02:51.622Z"
   },
   {
    "duration": 10,
    "start_time": "2022-01-18T15:03:06.382Z"
   },
   {
    "duration": 17,
    "start_time": "2022-01-18T15:04:06.514Z"
   },
   {
    "duration": 400,
    "start_time": "2022-01-18T15:04:21.554Z"
   },
   {
    "duration": 3,
    "start_time": "2022-01-18T15:05:06.694Z"
   },
   {
    "duration": 4,
    "start_time": "2022-01-18T15:05:19.397Z"
   },
   {
    "duration": 6,
    "start_time": "2022-01-18T15:05:31.492Z"
   },
   {
    "duration": 7,
    "start_time": "2022-01-18T15:07:08.877Z"
   },
   {
    "duration": 7,
    "start_time": "2022-01-18T15:07:17.495Z"
   },
   {
    "duration": 6,
    "start_time": "2022-01-18T15:07:24.966Z"
   },
   {
    "duration": 267,
    "start_time": "2022-01-18T15:08:05.486Z"
   },
   {
    "duration": 4,
    "start_time": "2022-01-18T15:08:26.044Z"
   },
   {
    "duration": 277,
    "start_time": "2022-01-18T15:08:34.017Z"
   },
   {
    "duration": 5,
    "start_time": "2022-01-18T15:08:58.095Z"
   },
   {
    "duration": 7,
    "start_time": "2022-01-18T15:10:19.566Z"
   },
   {
    "duration": 300,
    "start_time": "2022-01-18T15:10:29.161Z"
   },
   {
    "duration": 36,
    "start_time": "2022-01-18T15:10:41.812Z"
   },
   {
    "duration": 5,
    "start_time": "2022-01-18T15:11:41.832Z"
   },
   {
    "duration": 995,
    "start_time": "2022-01-18T15:12:18.252Z"
   },
   {
    "duration": 46,
    "start_time": "2022-01-18T15:12:19.676Z"
   },
   {
    "duration": 13,
    "start_time": "2022-01-18T15:12:23.364Z"
   },
   {
    "duration": 7,
    "start_time": "2022-01-18T15:12:23.903Z"
   },
   {
    "duration": 9,
    "start_time": "2022-01-18T15:12:25.785Z"
   },
   {
    "duration": 5,
    "start_time": "2022-01-18T15:12:26.739Z"
   },
   {
    "duration": 6,
    "start_time": "2022-01-18T15:12:33.757Z"
   },
   {
    "duration": 30,
    "start_time": "2022-01-18T15:13:12.515Z"
   },
   {
    "duration": 6,
    "start_time": "2022-01-18T15:13:17.648Z"
   },
   {
    "duration": 1178,
    "start_time": "2022-01-18T15:13:48.880Z"
   },
   {
    "duration": 46,
    "start_time": "2022-01-18T15:13:50.060Z"
   },
   {
    "duration": 13,
    "start_time": "2022-01-18T15:13:50.172Z"
   },
   {
    "duration": 10,
    "start_time": "2022-01-18T15:13:51.589Z"
   },
   {
    "duration": 8,
    "start_time": "2022-01-18T15:13:53.950Z"
   },
   {
    "duration": 5,
    "start_time": "2022-01-18T15:13:54.655Z"
   },
   {
    "duration": 5,
    "start_time": "2022-01-18T15:13:54.959Z"
   },
   {
    "duration": 27,
    "start_time": "2022-01-18T15:13:56.678Z"
   },
   {
    "duration": 9,
    "start_time": "2022-01-18T15:13:57.091Z"
   },
   {
    "duration": 5,
    "start_time": "2022-01-18T15:15:35.136Z"
   },
   {
    "duration": 365,
    "start_time": "2022-01-18T15:15:37.891Z"
   },
   {
    "duration": 5,
    "start_time": "2022-01-18T15:16:03.175Z"
   },
   {
    "duration": 4,
    "start_time": "2022-01-18T15:19:28.586Z"
   },
   {
    "duration": 40,
    "start_time": "2022-01-18T15:19:29.485Z"
   },
   {
    "duration": 13,
    "start_time": "2022-01-18T15:19:31.786Z"
   },
   {
    "duration": 8,
    "start_time": "2022-01-18T15:19:32.678Z"
   },
   {
    "duration": 7,
    "start_time": "2022-01-18T15:19:35.120Z"
   },
   {
    "duration": 5,
    "start_time": "2022-01-18T15:19:37.480Z"
   },
   {
    "duration": 29,
    "start_time": "2022-01-18T15:19:39.621Z"
   },
   {
    "duration": 9,
    "start_time": "2022-01-18T15:19:44.866Z"
   },
   {
    "duration": 271,
    "start_time": "2022-01-18T15:19:50.532Z"
   },
   {
    "duration": 6,
    "start_time": "2022-01-18T15:19:58.880Z"
   },
   {
    "duration": 38,
    "start_time": "2022-01-18T15:20:17.102Z"
   },
   {
    "duration": 4,
    "start_time": "2022-01-18T15:20:43.672Z"
   },
   {
    "duration": 7,
    "start_time": "2022-01-18T15:21:27.673Z"
   },
   {
    "duration": 30,
    "start_time": "2022-01-18T15:22:28.892Z"
   },
   {
    "duration": 4,
    "start_time": "2022-01-18T15:22:30.143Z"
   },
   {
    "duration": 9,
    "start_time": "2022-01-18T15:22:30.583Z"
   },
   {
    "duration": 36,
    "start_time": "2022-01-18T15:22:34.266Z"
   },
   {
    "duration": 4,
    "start_time": "2022-01-18T15:22:34.747Z"
   },
   {
    "duration": 6,
    "start_time": "2022-01-18T15:22:35.079Z"
   },
   {
    "duration": 31,
    "start_time": "2022-01-18T15:22:39.468Z"
   },
   {
    "duration": 4,
    "start_time": "2022-01-18T15:22:39.855Z"
   },
   {
    "duration": 6,
    "start_time": "2022-01-18T15:22:40.156Z"
   },
   {
    "duration": 26,
    "start_time": "2022-01-18T15:22:45.248Z"
   },
   {
    "duration": 4,
    "start_time": "2022-01-18T15:22:45.701Z"
   },
   {
    "duration": 6,
    "start_time": "2022-01-18T15:22:46.036Z"
   },
   {
    "duration": 31,
    "start_time": "2022-01-18T15:22:58.161Z"
   },
   {
    "duration": 314,
    "start_time": "2022-01-18T15:23:56.519Z"
   },
   {
    "duration": 473,
    "start_time": "2022-01-18T15:24:35.180Z"
   },
   {
    "duration": 312,
    "start_time": "2022-01-18T15:24:48.028Z"
   },
   {
    "duration": 10,
    "start_time": "2022-01-18T15:25:40.192Z"
   },
   {
    "duration": 345,
    "start_time": "2022-01-18T15:25:57.232Z"
   },
   {
    "duration": 281,
    "start_time": "2022-01-18T15:29:12.548Z"
   },
   {
    "duration": 339,
    "start_time": "2022-01-18T15:29:42.219Z"
   },
   {
    "duration": 16,
    "start_time": "2022-01-18T15:30:18.591Z"
   },
   {
    "duration": 24,
    "start_time": "2022-01-18T15:30:23.419Z"
   },
   {
    "duration": 324,
    "start_time": "2022-01-18T15:30:33.904Z"
   },
   {
    "duration": 258,
    "start_time": "2022-01-18T15:49:53.078Z"
   },
   {
    "duration": 4,
    "start_time": "2022-01-18T15:50:04.663Z"
   },
   {
    "duration": 7,
    "start_time": "2022-01-18T15:52:58.301Z"
   },
   {
    "duration": 6,
    "start_time": "2022-01-18T15:53:03.025Z"
   },
   {
    "duration": 308,
    "start_time": "2022-01-18T15:53:05.756Z"
   },
   {
    "duration": 5,
    "start_time": "2022-01-18T15:55:53.179Z"
   },
   {
    "duration": 4,
    "start_time": "2022-01-18T15:56:07.937Z"
   },
   {
    "duration": 18,
    "start_time": "2022-01-18T15:56:15.510Z"
   },
   {
    "duration": 346,
    "start_time": "2022-01-18T15:56:25.082Z"
   },
   {
    "duration": 301,
    "start_time": "2022-01-18T15:56:31.815Z"
   },
   {
    "duration": 1075,
    "start_time": "2022-01-18T15:56:48.266Z"
   },
   {
    "duration": 45,
    "start_time": "2022-01-18T15:56:50.089Z"
   },
   {
    "duration": 13,
    "start_time": "2022-01-18T15:56:51.223Z"
   },
   {
    "duration": 7,
    "start_time": "2022-01-18T15:56:51.606Z"
   },
   {
    "duration": 8,
    "start_time": "2022-01-18T15:56:51.967Z"
   },
   {
    "duration": 5,
    "start_time": "2022-01-18T15:56:52.570Z"
   },
   {
    "duration": 26,
    "start_time": "2022-01-18T15:56:52.970Z"
   },
   {
    "duration": 7,
    "start_time": "2022-01-18T15:56:55.045Z"
   },
   {
    "duration": 5,
    "start_time": "2022-01-18T15:56:59.232Z"
   },
   {
    "duration": 420,
    "start_time": "2022-01-18T15:57:01.756Z"
   },
   {
    "duration": 325,
    "start_time": "2022-01-18T15:57:15.090Z"
   },
   {
    "duration": 17,
    "start_time": "2022-01-18T15:57:28.849Z"
   },
   {
    "duration": 8,
    "start_time": "2022-01-18T15:57:33.922Z"
   },
   {
    "duration": 309,
    "start_time": "2022-01-18T15:57:37.596Z"
   },
   {
    "duration": 4,
    "start_time": "2022-01-18T15:57:43.285Z"
   },
   {
    "duration": 321,
    "start_time": "2022-01-18T15:58:26.040Z"
   },
   {
    "duration": 348,
    "start_time": "2022-01-18T15:58:42.676Z"
   },
   {
    "duration": 335,
    "start_time": "2022-01-18T15:58:58.108Z"
   },
   {
    "duration": 377,
    "start_time": "2022-01-18T15:59:23.084Z"
   },
   {
    "duration": 333,
    "start_time": "2022-01-18T15:59:33.493Z"
   },
   {
    "duration": 5,
    "start_time": "2022-01-18T16:00:19.885Z"
   },
   {
    "duration": 4,
    "start_time": "2022-01-18T16:00:26.020Z"
   },
   {
    "duration": 5,
    "start_time": "2022-01-18T16:00:29.793Z"
   },
   {
    "duration": 5,
    "start_time": "2022-01-18T16:03:43.027Z"
   },
   {
    "duration": 5,
    "start_time": "2022-01-18T16:03:47.881Z"
   },
   {
    "duration": 5,
    "start_time": "2022-01-18T16:04:00.245Z"
   },
   {
    "duration": 8,
    "start_time": "2022-01-18T16:04:18.498Z"
   },
   {
    "duration": 349,
    "start_time": "2022-01-18T16:05:01.366Z"
   },
   {
    "duration": 339,
    "start_time": "2022-01-18T16:05:04.700Z"
   },
   {
    "duration": 339,
    "start_time": "2022-01-18T16:05:06.507Z"
   },
   {
    "duration": 326,
    "start_time": "2022-01-18T16:05:08.258Z"
   },
   {
    "duration": 366,
    "start_time": "2022-01-18T16:05:19.967Z"
   },
   {
    "duration": 329,
    "start_time": "2022-01-18T16:05:31.515Z"
   },
   {
    "duration": 15,
    "start_time": "2022-01-18T16:06:57.409Z"
   },
   {
    "duration": 18,
    "start_time": "2022-01-18T16:07:06.440Z"
   },
   {
    "duration": 38,
    "start_time": "2022-01-18T16:07:12.106Z"
   },
   {
    "duration": 58,
    "start_time": "2022-01-18T16:07:20.712Z"
   },
   {
    "duration": 371,
    "start_time": "2022-01-18T16:07:28.632Z"
   },
   {
    "duration": 517,
    "start_time": "2022-01-18T16:07:34.027Z"
   },
   {
    "duration": 14,
    "start_time": "2022-01-18T16:07:40.673Z"
   },
   {
    "duration": 16,
    "start_time": "2022-01-18T16:07:43.537Z"
   },
   {
    "duration": 657,
    "start_time": "2022-01-18T16:09:37.395Z"
   },
   {
    "duration": 787,
    "start_time": "2022-01-18T16:09:42.742Z"
   },
   {
    "duration": 743,
    "start_time": "2022-01-18T16:10:11.610Z"
   },
   {
    "duration": 153,
    "start_time": "2022-01-18T16:10:29.632Z"
   },
   {
    "duration": 174,
    "start_time": "2022-01-18T16:10:45.661Z"
   },
   {
    "duration": 137,
    "start_time": "2022-01-18T16:10:50.374Z"
   },
   {
    "duration": 99,
    "start_time": "2022-01-18T16:10:55.947Z"
   },
   {
    "duration": 167,
    "start_time": "2022-01-18T16:11:01.770Z"
   },
   {
    "duration": 81,
    "start_time": "2022-01-18T16:12:14.867Z"
   },
   {
    "duration": 134421,
    "start_time": "2022-01-18T16:17:32.234Z"
   },
   {
    "duration": 298,
    "start_time": "2022-01-18T16:21:31.329Z"
   },
   {
    "duration": 308,
    "start_time": "2022-01-18T16:21:35.610Z"
   },
   {
    "duration": 303,
    "start_time": "2022-01-18T16:21:39.510Z"
   },
   {
    "duration": 294,
    "start_time": "2022-01-18T16:21:49.497Z"
   },
   {
    "duration": 3,
    "start_time": "2022-01-18T16:46:30.190Z"
   },
   {
    "duration": 2,
    "start_time": "2022-01-18T16:46:36.557Z"
   },
   {
    "duration": 4,
    "start_time": "2022-01-18T16:46:51.575Z"
   },
   {
    "duration": 20,
    "start_time": "2022-01-18T16:49:35.431Z"
   },
   {
    "duration": 20,
    "start_time": "2022-01-18T16:51:36.888Z"
   },
   {
    "duration": 20,
    "start_time": "2022-01-18T16:51:46.583Z"
   },
   {
    "duration": 255,
    "start_time": "2022-01-18T17:06:07.064Z"
   },
   {
    "duration": 71,
    "start_time": "2022-01-18T17:06:24.428Z"
   },
   {
    "duration": 17,
    "start_time": "2022-01-18T17:08:34.266Z"
   },
   {
    "duration": 18,
    "start_time": "2022-01-18T17:08:35.892Z"
   },
   {
    "duration": 3,
    "start_time": "2022-01-18T17:19:17.875Z"
   },
   {
    "duration": 18,
    "start_time": "2022-01-18T17:20:27.162Z"
   },
   {
    "duration": 80,
    "start_time": "2022-01-18T17:20:47.922Z"
   },
   {
    "duration": 21,
    "start_time": "2022-01-18T17:20:55.051Z"
   },
   {
    "duration": 378,
    "start_time": "2022-01-18T17:22:02.529Z"
   },
   {
    "duration": 6,
    "start_time": "2022-01-18T17:22:32.754Z"
   },
   {
    "duration": 4,
    "start_time": "2022-01-18T17:27:57.979Z"
   },
   {
    "duration": 535,
    "start_time": "2022-01-18T17:28:33.055Z"
   },
   {
    "duration": 4,
    "start_time": "2022-01-18T17:29:23.697Z"
   },
   {
    "duration": 520,
    "start_time": "2022-01-18T17:29:24.553Z"
   },
   {
    "duration": 4,
    "start_time": "2022-01-18T17:31:33.211Z"
   },
   {
    "duration": 2,
    "start_time": "2022-01-18T17:31:46.985Z"
   },
   {
    "duration": 4,
    "start_time": "2022-01-18T17:31:51.880Z"
   },
   {
    "duration": 5,
    "start_time": "2022-01-18T17:32:02.040Z"
   },
   {
    "duration": 4,
    "start_time": "2022-01-18T17:32:21.892Z"
   },
   {
    "duration": 537,
    "start_time": "2022-01-18T17:32:22.955Z"
   },
   {
    "duration": 1072,
    "start_time": "2022-01-18T17:32:49.597Z"
   },
   {
    "duration": 52,
    "start_time": "2022-01-18T17:32:50.670Z"
   },
   {
    "duration": 15,
    "start_time": "2022-01-18T17:32:52.121Z"
   },
   {
    "duration": 8,
    "start_time": "2022-01-18T17:32:52.559Z"
   },
   {
    "duration": 9,
    "start_time": "2022-01-18T17:32:52.997Z"
   },
   {
    "duration": 5,
    "start_time": "2022-01-18T17:32:54.499Z"
   },
   {
    "duration": 27,
    "start_time": "2022-01-18T17:32:55.163Z"
   },
   {
    "duration": 8,
    "start_time": "2022-01-18T17:32:56.048Z"
   },
   {
    "duration": 366,
    "start_time": "2022-01-18T17:33:02.616Z"
   },
   {
    "duration": 329,
    "start_time": "2022-01-18T17:33:13.918Z"
   },
   {
    "duration": 120334,
    "start_time": "2022-01-18T17:33:20.233Z"
   },
   {
    "duration": 111,
    "start_time": "2022-01-18T17:36:55.488Z"
   },
   {
    "duration": 114,
    "start_time": "2022-01-18T17:36:58.085Z"
   },
   {
    "duration": 4,
    "start_time": "2022-01-18T17:37:04.209Z"
   },
   {
    "duration": 751,
    "start_time": "2022-01-18T17:37:05.297Z"
   },
   {
    "duration": 8,
    "start_time": "2022-01-18T17:37:30.451Z"
   },
   {
    "duration": 7,
    "start_time": "2022-01-18T17:37:33.499Z"
   },
   {
    "duration": 309,
    "start_time": "2022-01-18T17:37:36.570Z"
   },
   {
    "duration": 122459,
    "start_time": "2022-01-18T17:37:40.424Z"
   },
   {
    "duration": 26,
    "start_time": "2022-01-18T17:39:42.885Z"
   },
   {
    "duration": 17,
    "start_time": "2022-01-18T17:40:25.624Z"
   },
   {
    "duration": 3,
    "start_time": "2022-01-18T17:40:32.392Z"
   },
   {
    "duration": 523,
    "start_time": "2022-01-18T17:40:34.715Z"
   },
   {
    "duration": 4,
    "start_time": "2022-01-18T17:41:56.950Z"
   },
   {
    "duration": 553,
    "start_time": "2022-01-18T17:41:58.635Z"
   },
   {
    "duration": 27,
    "start_time": "2022-01-18T17:42:11.632Z"
   },
   {
    "duration": 5,
    "start_time": "2022-01-18T17:42:16.329Z"
   },
   {
    "duration": 5,
    "start_time": "2022-01-18T17:42:25.686Z"
   },
   {
    "duration": 4,
    "start_time": "2022-01-18T17:42:34.785Z"
   },
   {
    "duration": 273,
    "start_time": "2022-01-18T17:42:58.398Z"
   },
   {
    "duration": 4,
    "start_time": "2022-01-18T17:43:30.530Z"
   },
   {
    "duration": 5,
    "start_time": "2022-01-18T17:43:34.044Z"
   },
   {
    "duration": 24,
    "start_time": "2022-01-18T17:44:45.873Z"
   },
   {
    "duration": 5,
    "start_time": "2022-01-18T17:45:25.713Z"
   },
   {
    "duration": 3,
    "start_time": "2022-01-18T17:45:32.113Z"
   },
   {
    "duration": 4,
    "start_time": "2022-01-18T17:45:35.408Z"
   },
   {
    "duration": 530,
    "start_time": "2022-01-18T17:45:36.097Z"
   },
   {
    "duration": 1109,
    "start_time": "2022-01-18T17:47:15.398Z"
   },
   {
    "duration": 60,
    "start_time": "2022-01-18T17:47:17.158Z"
   },
   {
    "duration": 17,
    "start_time": "2022-01-18T17:47:18.512Z"
   },
   {
    "duration": 11,
    "start_time": "2022-01-18T17:47:19.951Z"
   },
   {
    "duration": 10,
    "start_time": "2022-01-18T17:47:21.370Z"
   },
   {
    "duration": 6,
    "start_time": "2022-01-18T17:47:23.844Z"
   },
   {
    "duration": 40,
    "start_time": "2022-01-18T17:47:31.374Z"
   },
   {
    "duration": 10,
    "start_time": "2022-01-18T17:47:35.042Z"
   },
   {
    "duration": 376,
    "start_time": "2022-01-18T17:47:47.734Z"
   },
   {
    "duration": 343,
    "start_time": "2022-01-18T17:48:20.289Z"
   },
   {
    "duration": 123065,
    "start_time": "2022-01-18T17:48:27.070Z"
   },
   {
    "duration": 118,
    "start_time": "2022-01-18T17:51:15.581Z"
   },
   {
    "duration": 88,
    "start_time": "2022-01-18T17:51:18.411Z"
   },
   {
    "duration": 4,
    "start_time": "2022-01-18T17:51:39.684Z"
   },
   {
    "duration": 561,
    "start_time": "2022-01-18T17:51:40.082Z"
   },
   {
    "duration": 1286,
    "start_time": "2022-01-18T17:52:22.565Z"
   },
   {
    "duration": 1004,
    "start_time": "2022-01-18T17:52:23.853Z"
   },
   {
    "duration": 12,
    "start_time": "2022-01-18T17:52:24.859Z"
   },
   {
    "duration": 8,
    "start_time": "2022-01-18T17:52:25.326Z"
   },
   {
    "duration": 7,
    "start_time": "2022-01-18T17:52:26.967Z"
   },
   {
    "duration": 5,
    "start_time": "2022-01-18T17:52:27.970Z"
   },
   {
    "duration": 14,
    "start_time": "2022-01-18T17:52:32.445Z"
   },
   {
    "duration": 13,
    "start_time": "2022-01-18T17:52:35.005Z"
   },
   {
    "duration": 387,
    "start_time": "2022-01-18T17:52:41.851Z"
   },
   {
    "duration": 4,
    "start_time": "2022-01-18T17:52:53.603Z"
   },
   {
    "duration": 14,
    "start_time": "2022-01-18T17:52:54.343Z"
   },
   {
    "duration": 5,
    "start_time": "2022-01-18T17:53:02.519Z"
   },
   {
    "duration": 5,
    "start_time": "2022-01-18T17:53:28.980Z"
   },
   {
    "duration": 1139,
    "start_time": "2022-01-18T17:54:06.712Z"
   },
   {
    "duration": 44,
    "start_time": "2022-01-18T17:54:07.853Z"
   },
   {
    "duration": 13,
    "start_time": "2022-01-18T17:54:09.357Z"
   },
   {
    "duration": 9,
    "start_time": "2022-01-18T17:54:13.378Z"
   },
   {
    "duration": 8,
    "start_time": "2022-01-18T17:54:16.409Z"
   },
   {
    "duration": 5,
    "start_time": "2022-01-18T17:54:20.079Z"
   },
   {
    "duration": 1011,
    "start_time": "2022-01-18T17:55:34.034Z"
   },
   {
    "duration": 42,
    "start_time": "2022-01-18T17:55:35.047Z"
   },
   {
    "duration": 13,
    "start_time": "2022-01-18T17:55:35.438Z"
   },
   {
    "duration": 8,
    "start_time": "2022-01-18T17:55:38.005Z"
   },
   {
    "duration": 7,
    "start_time": "2022-01-18T17:55:38.973Z"
   },
   {
    "duration": 4,
    "start_time": "2022-01-18T17:57:31.699Z"
   },
   {
    "duration": 14,
    "start_time": "2022-01-18T17:57:54.884Z"
   },
   {
    "duration": 21,
    "start_time": "2022-01-18T17:57:59.383Z"
   },
   {
    "duration": 6,
    "start_time": "2022-01-18T17:58:43.254Z"
   },
   {
    "duration": 8,
    "start_time": "2022-01-18T17:58:47.793Z"
   },
   {
    "duration": 9,
    "start_time": "2022-01-18T17:58:50.581Z"
   },
   {
    "duration": 20,
    "start_time": "2022-01-18T17:59:00.281Z"
   },
   {
    "duration": 373,
    "start_time": "2022-01-18T17:59:10.825Z"
   },
   {
    "duration": 111527,
    "start_time": "2022-01-18T17:59:14.727Z"
   },
   {
    "duration": 64,
    "start_time": "2022-01-18T18:01:52.538Z"
   },
   {
    "duration": 25,
    "start_time": "2022-01-18T18:02:00.462Z"
   },
   {
    "duration": 82,
    "start_time": "2022-01-18T18:02:06.718Z"
   },
   {
    "duration": 21,
    "start_time": "2022-01-18T18:02:10.897Z"
   },
   {
    "duration": 42,
    "start_time": "2022-01-18T18:02:12.540Z"
   },
   {
    "duration": 4,
    "start_time": "2022-01-18T18:02:21.270Z"
   },
   {
    "duration": 13,
    "start_time": "2022-01-18T18:02:24.616Z"
   },
   {
    "duration": 20,
    "start_time": "2022-01-18T18:02:29.777Z"
   },
   {
    "duration": 22,
    "start_time": "2022-01-18T18:02:52.835Z"
   },
   {
    "duration": 1097,
    "start_time": "2022-01-18T18:04:11.754Z"
   },
   {
    "duration": 46,
    "start_time": "2022-01-18T18:04:12.853Z"
   },
   {
    "duration": 13,
    "start_time": "2022-01-18T18:04:15.680Z"
   },
   {
    "duration": 8,
    "start_time": "2022-01-18T18:04:17.969Z"
   },
   {
    "duration": 8,
    "start_time": "2022-01-18T18:04:21.250Z"
   },
   {
    "duration": 17,
    "start_time": "2022-01-18T18:04:24.533Z"
   },
   {
    "duration": 6,
    "start_time": "2022-01-18T18:04:26.702Z"
   },
   {
    "duration": 8,
    "start_time": "2022-01-18T18:04:36.211Z"
   },
   {
    "duration": 9,
    "start_time": "2022-01-18T18:04:39.836Z"
   },
   {
    "duration": 359,
    "start_time": "2022-01-18T18:04:42.793Z"
   },
   {
    "duration": 332,
    "start_time": "2022-01-18T18:04:54.239Z"
   },
   {
    "duration": 351,
    "start_time": "2022-01-18T18:04:56.453Z"
   },
   {
    "duration": 24,
    "start_time": "2022-01-18T18:05:01.986Z"
   },
   {
    "duration": 46,
    "start_time": "2022-01-18T18:05:03.983Z"
   },
   {
    "duration": 5,
    "start_time": "2022-01-18T18:05:07.139Z"
   },
   {
    "duration": 14,
    "start_time": "2022-01-18T18:05:08.662Z"
   },
   {
    "duration": 9,
    "start_time": "2022-01-18T18:10:22.758Z"
   },
   {
    "duration": 1154,
    "start_time": "2022-01-18T18:10:33.295Z"
   },
   {
    "duration": 48,
    "start_time": "2022-01-18T18:10:34.451Z"
   },
   {
    "duration": 15,
    "start_time": "2022-01-18T18:10:35.633Z"
   },
   {
    "duration": 8,
    "start_time": "2022-01-18T18:10:37.376Z"
   },
   {
    "duration": 9,
    "start_time": "2022-01-18T18:10:37.826Z"
   },
   {
    "duration": 15,
    "start_time": "2022-01-18T18:10:39.924Z"
   },
   {
    "duration": 7,
    "start_time": "2022-01-18T18:10:40.807Z"
   },
   {
    "duration": 9,
    "start_time": "2022-01-18T18:10:41.552Z"
   },
   {
    "duration": 8,
    "start_time": "2022-01-18T18:10:42.544Z"
   },
   {
    "duration": 8,
    "start_time": "2022-01-18T18:10:44.897Z"
   },
   {
    "duration": 4,
    "start_time": "2022-01-18T18:10:53.234Z"
   },
   {
    "duration": 341,
    "start_time": "2022-01-18T18:10:59.840Z"
   },
   {
    "duration": 29,
    "start_time": "2022-01-18T18:11:04.842Z"
   },
   {
    "duration": 17,
    "start_time": "2022-01-18T18:11:06.969Z"
   },
   {
    "duration": 4,
    "start_time": "2022-01-18T18:11:09.326Z"
   },
   {
    "duration": 625,
    "start_time": "2022-01-18T18:11:09.969Z"
   },
   {
    "duration": 1066,
    "start_time": "2022-01-18T18:11:37.164Z"
   },
   {
    "duration": 42,
    "start_time": "2022-01-18T18:11:38.232Z"
   },
   {
    "duration": 13,
    "start_time": "2022-01-18T18:11:39.828Z"
   },
   {
    "duration": 9,
    "start_time": "2022-01-18T18:11:40.245Z"
   },
   {
    "duration": 9,
    "start_time": "2022-01-18T18:11:41.796Z"
   },
   {
    "duration": 26,
    "start_time": "2022-01-18T18:11:42.488Z"
   },
   {
    "duration": 7,
    "start_time": "2022-01-18T18:11:43.479Z"
   },
   {
    "duration": 14,
    "start_time": "2022-01-18T18:11:45.936Z"
   },
   {
    "duration": 16,
    "start_time": "2022-01-18T18:11:50.066Z"
   },
   {
    "duration": 362,
    "start_time": "2022-01-18T18:11:57.757Z"
   },
   {
    "duration": 365,
    "start_time": "2022-01-18T18:12:32.333Z"
   },
   {
    "duration": 118609,
    "start_time": "2022-01-18T18:12:35.191Z"
   },
   {
    "duration": 22,
    "start_time": "2022-01-18T18:17:18.635Z"
   },
   {
    "duration": 23,
    "start_time": "2022-01-18T18:17:36.553Z"
   },
   {
    "duration": 22,
    "start_time": "2022-01-18T18:17:50.101Z"
   },
   {
    "duration": 3,
    "start_time": "2022-01-18T18:18:21.314Z"
   },
   {
    "duration": 20,
    "start_time": "2022-01-18T18:18:27.516Z"
   },
   {
    "duration": 22,
    "start_time": "2022-01-18T18:18:34.730Z"
   },
   {
    "duration": 22,
    "start_time": "2022-01-18T18:19:29.121Z"
   },
   {
    "duration": 43,
    "start_time": "2022-01-18T18:19:31.870Z"
   },
   {
    "duration": 3,
    "start_time": "2022-01-18T18:19:55.077Z"
   },
   {
    "duration": 13,
    "start_time": "2022-01-18T18:19:55.681Z"
   },
   {
    "duration": 459,
    "start_time": "2022-01-18T18:22:50.382Z"
   },
   {
    "duration": 156881,
    "start_time": "2022-01-18T18:24:41.584Z"
   },
   {
    "duration": 3,
    "start_time": "2022-01-18T19:09:22.562Z"
   },
   {
    "duration": 48,
    "start_time": "2022-01-18T19:09:24.883Z"
   },
   {
    "duration": 12,
    "start_time": "2022-01-18T19:09:26.173Z"
   },
   {
    "duration": 8,
    "start_time": "2022-01-18T19:09:27.530Z"
   },
   {
    "duration": 8,
    "start_time": "2022-01-18T19:09:32.223Z"
   },
   {
    "duration": 15,
    "start_time": "2022-01-18T19:09:34.107Z"
   },
   {
    "duration": 5,
    "start_time": "2022-01-18T19:09:36.526Z"
   },
   {
    "duration": 9,
    "start_time": "2022-01-18T19:09:37.005Z"
   },
   {
    "duration": 9,
    "start_time": "2022-01-18T19:09:39.570Z"
   },
   {
    "duration": 344,
    "start_time": "2022-01-18T19:09:47.781Z"
   },
   {
    "duration": 115030,
    "start_time": "2022-01-18T19:10:00.325Z"
   },
   {
    "duration": 114,
    "start_time": "2022-01-18T19:15:46.987Z"
   },
   {
    "duration": 41,
    "start_time": "2022-01-18T19:15:49.339Z"
   },
   {
    "duration": 4,
    "start_time": "2022-01-18T19:15:51.296Z"
   },
   {
    "duration": 13,
    "start_time": "2022-01-18T19:15:51.644Z"
   },
   {
    "duration": 475,
    "start_time": "2022-01-18T19:15:51.910Z"
   },
   {
    "duration": 153482,
    "start_time": "2022-01-18T19:15:58.869Z"
   },
   {
    "duration": 58,
    "start_time": "2022-01-18T19:25:29.441Z"
   },
   {
    "duration": 65,
    "start_time": "2022-01-18T19:25:37.966Z"
   },
   {
    "duration": 89,
    "start_time": "2022-01-18T19:25:51.510Z"
   },
   {
    "duration": 1017,
    "start_time": "2022-01-18T19:56:42.126Z"
   },
   {
    "duration": 43,
    "start_time": "2022-01-18T19:56:43.145Z"
   },
   {
    "duration": 16,
    "start_time": "2022-01-18T19:56:43.192Z"
   },
   {
    "duration": 6,
    "start_time": "2022-01-18T19:56:43.209Z"
   },
   {
    "duration": 10,
    "start_time": "2022-01-18T19:56:43.217Z"
   },
   {
    "duration": 16,
    "start_time": "2022-01-18T19:56:43.228Z"
   },
   {
    "duration": 5,
    "start_time": "2022-01-18T19:56:43.246Z"
   },
   {
    "duration": 10,
    "start_time": "2022-01-18T19:56:43.253Z"
   },
   {
    "duration": 37,
    "start_time": "2022-01-18T19:56:43.265Z"
   },
   {
    "duration": 350,
    "start_time": "2022-01-18T19:56:43.303Z"
   },
   {
    "duration": 110183,
    "start_time": "2022-01-18T19:56:43.655Z"
   },
   {
    "duration": 67,
    "start_time": "2022-01-18T19:58:33.839Z"
   },
   {
    "duration": 100,
    "start_time": "2022-01-18T19:58:33.998Z"
   },
   {
    "duration": 94,
    "start_time": "2022-01-18T19:58:34.105Z"
   },
   {
    "duration": 19,
    "start_time": "2022-01-18T19:58:34.201Z"
   },
   {
    "duration": 451,
    "start_time": "2022-01-18T19:58:34.222Z"
   },
   {
    "duration": 151874,
    "start_time": "2022-01-18T19:58:34.675Z"
   },
   {
    "duration": 50,
    "start_time": "2022-01-18T20:01:06.551Z"
   },
   {
    "duration": 198,
    "start_time": "2022-01-18T20:01:06.603Z"
   },
   {
    "duration": 18,
    "start_time": "2022-01-18T20:11:15.427Z"
   },
   {
    "duration": 20,
    "start_time": "2022-01-18T20:11:26.858Z"
   },
   {
    "duration": 4,
    "start_time": "2022-01-18T20:12:45.542Z"
   },
   {
    "duration": 12,
    "start_time": "2022-01-18T20:13:45.853Z"
   },
   {
    "duration": 17,
    "start_time": "2022-01-18T20:13:50.846Z"
   },
   {
    "duration": 18,
    "start_time": "2022-01-18T20:14:02.804Z"
   },
   {
    "duration": 175,
    "start_time": "2022-01-18T20:15:19.717Z"
   },
   {
    "duration": 64034,
    "start_time": "2022-01-18T20:15:49.501Z"
   },
   {
    "duration": 17,
    "start_time": "2022-01-18T20:17:50.814Z"
   },
   {
    "duration": 23,
    "start_time": "2022-01-18T20:17:58.813Z"
   },
   {
    "duration": 3,
    "start_time": "2022-01-18T20:20:37.596Z"
   },
   {
    "duration": 56,
    "start_time": "2022-01-18T20:22:25.843Z"
   },
   {
    "duration": 6,
    "start_time": "2022-01-18T20:23:35.727Z"
   },
   {
    "duration": 5,
    "start_time": "2022-01-18T20:23:43.969Z"
   },
   {
    "duration": 6,
    "start_time": "2022-01-18T20:24:07.232Z"
   },
   {
    "duration": 14,
    "start_time": "2022-01-18T20:24:54.532Z"
   },
   {
    "duration": 13,
    "start_time": "2022-01-18T20:25:32.207Z"
   },
   {
    "duration": 341,
    "start_time": "2022-01-18T20:28:19.612Z"
   },
   {
    "duration": 8,
    "start_time": "2022-01-18T20:28:30.819Z"
   },
   {
    "duration": 110990,
    "start_time": "2022-01-18T20:29:35.489Z"
   },
   {
    "duration": 27,
    "start_time": "2022-01-18T20:31:45.431Z"
   },
   {
    "duration": 22,
    "start_time": "2022-01-18T20:32:11.437Z"
   },
   {
    "duration": 13,
    "start_time": "2022-01-18T20:32:13.370Z"
   },
   {
    "duration": 69,
    "start_time": "2022-01-18T20:32:28.130Z"
   },
   {
    "duration": 8,
    "start_time": "2022-01-18T20:32:29.406Z"
   },
   {
    "duration": 17,
    "start_time": "2022-01-18T20:33:30.136Z"
   },
   {
    "duration": 494,
    "start_time": "2022-01-18T20:33:37.652Z"
   },
   {
    "duration": 9,
    "start_time": "2022-01-18T20:34:39.580Z"
   },
   {
    "duration": 156290,
    "start_time": "2022-01-18T20:35:08.018Z"
   },
   {
    "duration": 89,
    "start_time": "2022-01-18T20:38:08.754Z"
   },
   {
    "duration": 89,
    "start_time": "2022-01-18T20:38:48.714Z"
   },
   {
    "duration": 98,
    "start_time": "2022-01-18T20:39:09.201Z"
   },
   {
    "duration": 67,
    "start_time": "2022-01-18T20:39:19.046Z"
   },
   {
    "duration": 62,
    "start_time": "2022-01-18T20:39:39.138Z"
   },
   {
    "duration": 13,
    "start_time": "2022-01-18T20:44:45.523Z"
   },
   {
    "duration": 14,
    "start_time": "2022-01-18T20:44:52.980Z"
   },
   {
    "duration": 173,
    "start_time": "2022-01-18T20:44:56.147Z"
   },
   {
    "duration": 7,
    "start_time": "2022-01-18T20:45:23.244Z"
   },
   {
    "duration": 63715,
    "start_time": "2022-01-18T20:46:19.310Z"
   },
   {
    "duration": 28,
    "start_time": "2022-01-18T20:48:24.894Z"
   },
   {
    "duration": 87,
    "start_time": "2022-01-18T20:48:39.313Z"
   },
   {
    "duration": 10,
    "start_time": "2022-01-18T20:49:12.373Z"
   },
   {
    "duration": 17,
    "start_time": "2022-01-18T20:49:14.230Z"
   },
   {
    "duration": 10,
    "start_time": "2022-01-18T20:49:15.122Z"
   },
   {
    "duration": 16,
    "start_time": "2022-01-18T20:49:17.456Z"
   },
   {
    "duration": 11,
    "start_time": "2022-01-18T20:49:18.563Z"
   },
   {
    "duration": 26,
    "start_time": "2022-01-18T20:49:20.780Z"
   },
   {
    "duration": 13,
    "start_time": "2022-01-18T20:49:24.864Z"
   },
   {
    "duration": 191,
    "start_time": "2022-01-18T20:55:23.115Z"
   },
   {
    "duration": 6,
    "start_time": "2022-01-18T20:56:32.741Z"
   },
   {
    "duration": 11,
    "start_time": "2022-01-18T20:56:57.010Z"
   },
   {
    "duration": 7,
    "start_time": "2022-01-18T20:57:11.010Z"
   },
   {
    "duration": 173,
    "start_time": "2022-01-18T20:57:59.460Z"
   },
   {
    "duration": 177,
    "start_time": "2022-01-18T20:58:25.039Z"
   },
   {
    "duration": 146,
    "start_time": "2022-01-18T20:59:27.087Z"
   },
   {
    "duration": 181,
    "start_time": "2022-01-18T20:59:36.031Z"
   },
   {
    "duration": 189,
    "start_time": "2022-01-18T20:59:42.175Z"
   },
   {
    "duration": 205,
    "start_time": "2022-01-18T20:59:49.979Z"
   },
   {
    "duration": 201,
    "start_time": "2022-01-18T20:59:53.495Z"
   },
   {
    "duration": 195,
    "start_time": "2022-01-18T20:59:58.623Z"
   },
   {
    "duration": 218,
    "start_time": "2022-01-18T21:00:02.969Z"
   },
   {
    "duration": 218,
    "start_time": "2022-01-18T21:00:07.681Z"
   },
   {
    "duration": 227,
    "start_time": "2022-01-18T21:00:11.155Z"
   },
   {
    "duration": 231,
    "start_time": "2022-01-18T21:00:15.080Z"
   },
   {
    "duration": 238,
    "start_time": "2022-01-18T21:00:20.673Z"
   },
   {
    "duration": 276,
    "start_time": "2022-01-18T21:00:24.726Z"
   },
   {
    "duration": 330,
    "start_time": "2022-01-18T21:00:31.856Z"
   },
   {
    "duration": 312,
    "start_time": "2022-01-18T21:00:39.144Z"
   },
   {
    "duration": 321,
    "start_time": "2022-01-18T21:00:43.890Z"
   },
   {
    "duration": 482,
    "start_time": "2022-01-18T21:00:49.447Z"
   },
   {
    "duration": 339,
    "start_time": "2022-01-18T21:00:55.573Z"
   },
   {
    "duration": 78,
    "start_time": "2022-01-18T21:01:21.393Z"
   },
   {
    "duration": 178,
    "start_time": "2022-01-18T21:01:47.906Z"
   },
   {
    "duration": 176,
    "start_time": "2022-01-18T21:02:10.652Z"
   },
   {
    "duration": 192,
    "start_time": "2022-01-18T21:02:15.706Z"
   },
   {
    "duration": 232,
    "start_time": "2022-01-18T21:02:20.273Z"
   },
   {
    "duration": 216,
    "start_time": "2022-01-18T21:02:24.237Z"
   },
   {
    "duration": 215,
    "start_time": "2022-01-18T21:02:28.417Z"
   },
   {
    "duration": 225,
    "start_time": "2022-01-18T21:02:31.954Z"
   },
   {
    "duration": 238,
    "start_time": "2022-01-18T21:02:34.858Z"
   },
   {
    "duration": 245,
    "start_time": "2022-01-18T21:02:37.701Z"
   },
   {
    "duration": 248,
    "start_time": "2022-01-18T21:02:40.622Z"
   },
   {
    "duration": 269,
    "start_time": "2022-01-18T21:02:43.840Z"
   },
   {
    "duration": 266,
    "start_time": "2022-01-18T21:02:47.165Z"
   },
   {
    "duration": 215,
    "start_time": "2022-01-18T21:02:59.286Z"
   },
   {
    "duration": 182,
    "start_time": "2022-01-18T21:03:04.452Z"
   },
   {
    "duration": 62473,
    "start_time": "2022-01-18T21:04:23.096Z"
   },
   {
    "duration": 208180,
    "start_time": "2022-01-18T21:09:39.699Z"
   },
   {
    "duration": 107,
    "start_time": "2022-01-18T21:14:29.235Z"
   },
   {
    "duration": 178,
    "start_time": "2022-01-18T21:16:16.595Z"
   },
   {
    "duration": 996,
    "start_time": "2022-01-19T15:12:28.735Z"
   },
   {
    "duration": 38,
    "start_time": "2022-01-19T15:12:30.894Z"
   },
   {
    "duration": 11,
    "start_time": "2022-01-19T15:12:32.741Z"
   },
   {
    "duration": 7,
    "start_time": "2022-01-19T15:12:33.129Z"
   },
   {
    "duration": 7,
    "start_time": "2022-01-19T15:12:35.316Z"
   },
   {
    "duration": 13,
    "start_time": "2022-01-19T15:12:36.405Z"
   },
   {
    "duration": 4,
    "start_time": "2022-01-19T15:12:37.651Z"
   },
   {
    "duration": 8,
    "start_time": "2022-01-19T15:12:38.904Z"
   },
   {
    "duration": 8,
    "start_time": "2022-01-19T15:12:45.425Z"
   },
   {
    "duration": 350,
    "start_time": "2022-01-19T15:12:51.880Z"
   },
   {
    "duration": 7,
    "start_time": "2022-01-19T15:12:52.856Z"
   },
   {
    "duration": 105244,
    "start_time": "2022-01-19T15:12:56.615Z"
   },
   {
    "duration": 27,
    "start_time": "2022-01-19T15:15:37.965Z"
   },
   {
    "duration": 24,
    "start_time": "2022-01-19T15:15:39.919Z"
   },
   {
    "duration": 21,
    "start_time": "2022-01-19T15:15:42.320Z"
   },
   {
    "duration": 74,
    "start_time": "2022-01-19T15:15:43.040Z"
   },
   {
    "duration": 11,
    "start_time": "2022-01-19T15:15:44.964Z"
   },
   {
    "duration": 12,
    "start_time": "2022-01-19T15:15:53.901Z"
   },
   {
    "duration": 12,
    "start_time": "2022-01-19T15:16:36.108Z"
   },
   {
    "duration": 402,
    "start_time": "2022-01-19T15:16:40.679Z"
   },
   {
    "duration": 9,
    "start_time": "2022-01-19T15:16:44.911Z"
   },
   {
    "duration": 1779624,
    "start_time": "2022-01-19T15:17:14.768Z"
   },
   {
    "duration": 948,
    "start_time": "2022-01-19T21:23:58.061Z"
   },
   {
    "duration": 43,
    "start_time": "2022-01-19T21:24:10.371Z"
   },
   {
    "duration": 34,
    "start_time": "2022-01-19T21:24:23.662Z"
   },
   {
    "duration": 13,
    "start_time": "2022-01-19T21:24:25.700Z"
   },
   {
    "duration": 8,
    "start_time": "2022-01-19T21:24:26.049Z"
   },
   {
    "duration": 8,
    "start_time": "2022-01-19T21:24:28.203Z"
   },
   {
    "duration": 15,
    "start_time": "2022-01-19T21:24:28.890Z"
   },
   {
    "duration": 6,
    "start_time": "2022-01-19T21:24:29.319Z"
   },
   {
    "duration": 8,
    "start_time": "2022-01-19T21:24:29.874Z"
   },
   {
    "duration": 8,
    "start_time": "2022-01-19T21:24:31.912Z"
   },
   {
    "duration": 268,
    "start_time": "2022-01-19T21:25:49.293Z"
   },
   {
    "duration": 6,
    "start_time": "2022-01-19T21:26:03.868Z"
   },
   {
    "duration": 5,
    "start_time": "2022-01-19T21:26:23.174Z"
   },
   {
    "duration": 4,
    "start_time": "2022-01-19T21:27:54.628Z"
   },
   {
    "duration": 4,
    "start_time": "2022-01-19T21:28:14.409Z"
   },
   {
    "duration": 4,
    "start_time": "2022-01-19T21:28:34.892Z"
   },
   {
    "duration": 4,
    "start_time": "2022-01-19T21:28:56.084Z"
   },
   {
    "duration": 6,
    "start_time": "2022-01-19T21:31:02.811Z"
   },
   {
    "duration": 348,
    "start_time": "2022-01-19T21:31:05.474Z"
   },
   {
    "duration": 7,
    "start_time": "2022-01-19T21:31:08.106Z"
   },
   {
    "duration": 103729,
    "start_time": "2022-01-19T21:31:08.884Z"
   },
   {
    "duration": 28,
    "start_time": "2022-01-19T21:33:21.586Z"
   },
   {
    "duration": 21,
    "start_time": "2022-01-19T21:33:24.233Z"
   },
   {
    "duration": 9,
    "start_time": "2022-01-19T21:33:27.557Z"
   },
   {
    "duration": 95,
    "start_time": "2022-01-19T21:33:29.617Z"
   },
   {
    "duration": 10,
    "start_time": "2022-01-19T21:33:31.460Z"
   },
   {
    "duration": 13,
    "start_time": "2022-01-19T21:33:36.776Z"
   },
   {
    "duration": 428,
    "start_time": "2022-01-19T21:33:48.806Z"
   },
   {
    "duration": 9,
    "start_time": "2022-01-19T21:33:53.880Z"
   },
   {
    "duration": 385,
    "start_time": "2022-01-19T21:35:38.318Z"
   },
   {
    "duration": 202,
    "start_time": "2022-01-19T21:35:42.067Z"
   },
   {
    "duration": 9,
    "start_time": "2022-01-19T21:36:21.097Z"
   },
   {
    "duration": 5,
    "start_time": "2022-01-19T21:36:39.584Z"
   },
   {
    "duration": 3,
    "start_time": "2022-01-19T21:36:42.712Z"
   },
   {
    "duration": 4,
    "start_time": "2022-01-19T21:36:55.564Z"
   },
   {
    "duration": 3,
    "start_time": "2022-01-19T21:37:48.875Z"
   },
   {
    "duration": 10,
    "start_time": "2022-01-19T21:38:17.077Z"
   },
   {
    "duration": 10,
    "start_time": "2022-01-19T21:39:46.960Z"
   },
   {
    "duration": 11,
    "start_time": "2022-01-19T21:41:04.080Z"
   },
   {
    "duration": 9,
    "start_time": "2022-01-19T21:41:08.409Z"
   },
   {
    "duration": 997,
    "start_time": "2022-01-19T22:20:05.727Z"
   },
   {
    "duration": 44,
    "start_time": "2022-01-19T22:20:16.072Z"
   },
   {
    "duration": 13,
    "start_time": "2022-01-19T22:20:17.330Z"
   },
   {
    "duration": 8,
    "start_time": "2022-01-19T22:20:18.853Z"
   },
   {
    "duration": 8,
    "start_time": "2022-01-19T22:20:19.367Z"
   },
   {
    "duration": 17,
    "start_time": "2022-01-19T22:20:19.992Z"
   },
   {
    "duration": 6,
    "start_time": "2022-01-19T22:20:20.472Z"
   },
   {
    "duration": 9,
    "start_time": "2022-01-19T22:20:20.966Z"
   },
   {
    "duration": 4,
    "start_time": "2022-01-19T22:20:21.216Z"
   },
   {
    "duration": 5,
    "start_time": "2022-01-19T22:20:24.051Z"
   },
   {
    "duration": 309,
    "start_time": "2022-01-19T22:20:25.542Z"
   },
   {
    "duration": 7,
    "start_time": "2022-01-19T22:20:27.670Z"
   },
   {
    "duration": 106984,
    "start_time": "2022-01-19T22:20:28.664Z"
   },
   {
    "duration": 24,
    "start_time": "2022-01-19T22:22:15.650Z"
   },
   {
    "duration": 42,
    "start_time": "2022-01-19T22:22:15.676Z"
   },
   {
    "duration": 97,
    "start_time": "2022-01-19T22:22:15.720Z"
   },
   {
    "duration": 39,
    "start_time": "2022-01-19T22:22:46.961Z"
   },
   {
    "duration": 11,
    "start_time": "2022-01-19T22:22:48.363Z"
   },
   {
    "duration": 14,
    "start_time": "2022-01-19T22:22:51.594Z"
   },
   {
    "duration": 400,
    "start_time": "2022-01-19T22:22:52.801Z"
   },
   {
    "duration": 9,
    "start_time": "2022-01-19T22:22:54.864Z"
   },
   {
    "duration": 1377,
    "start_time": "2022-01-20T14:28:58.835Z"
   },
   {
    "duration": 60,
    "start_time": "2022-01-20T14:29:03.821Z"
   },
   {
    "duration": 18,
    "start_time": "2022-01-20T14:29:04.746Z"
   },
   {
    "duration": 11,
    "start_time": "2022-01-20T14:29:05.113Z"
   },
   {
    "duration": 9,
    "start_time": "2022-01-20T14:29:05.653Z"
   },
   {
    "duration": 23,
    "start_time": "2022-01-20T14:29:06.420Z"
   },
   {
    "duration": 7,
    "start_time": "2022-01-20T14:29:06.772Z"
   },
   {
    "duration": 13,
    "start_time": "2022-01-20T14:29:07.121Z"
   },
   {
    "duration": 6,
    "start_time": "2022-01-20T14:29:07.287Z"
   },
   {
    "duration": 8,
    "start_time": "2022-01-20T14:29:11.191Z"
   },
   {
    "duration": 455,
    "start_time": "2022-01-20T14:29:13.074Z"
   },
   {
    "duration": 10,
    "start_time": "2022-01-20T14:29:16.515Z"
   },
   {
    "duration": 160628,
    "start_time": "2022-01-20T14:29:20.199Z"
   },
   {
    "duration": 65,
    "start_time": "2022-01-20T14:33:55.331Z"
   },
   {
    "duration": 82,
    "start_time": "2022-01-20T14:33:56.183Z"
   },
   {
    "duration": 18,
    "start_time": "2022-01-20T14:33:56.925Z"
   },
   {
    "duration": 94,
    "start_time": "2022-01-20T14:33:57.274Z"
   },
   {
    "duration": 12,
    "start_time": "2022-01-20T14:33:57.667Z"
   },
   {
    "duration": 21,
    "start_time": "2022-01-20T14:34:01.155Z"
   },
   {
    "duration": 619,
    "start_time": "2022-01-20T14:34:04.411Z"
   },
   {
    "duration": 13,
    "start_time": "2022-01-20T14:34:05.620Z"
   },
   {
    "duration": 266,
    "start_time": "2022-01-20T14:38:15.869Z"
   },
   {
    "duration": 2571,
    "start_time": "2022-01-20T14:38:26.352Z"
   },
   {
    "duration": 268170,
    "start_time": "2022-01-20T14:38:51.098Z"
   },
   {
    "duration": 870,
    "start_time": "2022-01-20T14:45:18.116Z"
   },
   {
    "duration": 94,
    "start_time": "2022-01-20T14:46:01.075Z"
   },
   {
    "duration": 107,
    "start_time": "2022-01-20T14:46:55.661Z"
   },
   {
    "duration": 64,
    "start_time": "2022-01-20T14:47:05.202Z"
   },
   {
    "duration": 94,
    "start_time": "2022-01-20T14:47:28.977Z"
   },
   {
    "duration": 165,
    "start_time": "2022-01-20T14:47:48.005Z"
   },
   {
    "duration": 309,
    "start_time": "2022-01-20T14:47:50.164Z"
   },
   {
    "duration": 314,
    "start_time": "2022-01-20T14:48:12.056Z"
   },
   {
    "duration": 156,
    "start_time": "2022-01-20T14:48:21.410Z"
   },
   {
    "duration": 20,
    "start_time": "2022-01-20T14:48:22.441Z"
   },
   {
    "duration": 258,
    "start_time": "2022-01-20T14:48:24.219Z"
   },
   {
    "duration": 15,
    "start_time": "2022-01-20T14:48:27.463Z"
   },
   {
    "duration": 104633,
    "start_time": "2022-01-20T14:50:10.411Z"
   },
   {
    "duration": 890,
    "start_time": "2022-01-20T14:54:52.485Z"
   },
   {
    "duration": 11,
    "start_time": "2022-01-20T15:03:12.325Z"
   },
   {
    "duration": 71,
    "start_time": "2022-01-20T15:04:13.299Z"
   },
   {
    "duration": 106,
    "start_time": "2022-01-20T15:04:35.462Z"
   },
   {
    "duration": 1471,
    "start_time": "2022-01-20T19:20:08.118Z"
   },
   {
    "duration": 173,
    "start_time": "2022-01-20T19:20:09.598Z"
   },
   {
    "duration": 12,
    "start_time": "2022-01-20T19:20:15.113Z"
   },
   {
    "duration": 7,
    "start_time": "2022-01-20T19:20:15.595Z"
   },
   {
    "duration": 7,
    "start_time": "2022-01-20T19:20:17.331Z"
   },
   {
    "duration": 19,
    "start_time": "2022-01-20T19:21:12.597Z"
   },
   {
    "duration": 11,
    "start_time": "2022-01-20T19:21:17.338Z"
   },
   {
    "duration": 409,
    "start_time": "2022-01-20T19:22:47.902Z"
   },
   {
    "duration": 5,
    "start_time": "2022-01-20T19:24:10.475Z"
   },
   {
    "duration": 18,
    "start_time": "2022-01-20T19:24:15.354Z"
   },
   {
    "duration": 326,
    "start_time": "2022-01-20T19:24:24.568Z"
   },
   {
    "duration": 11,
    "start_time": "2022-01-20T19:24:30.709Z"
   },
   {
    "duration": 3,
    "start_time": "2022-01-20T19:26:01.008Z"
   },
   {
    "duration": 35,
    "start_time": "2022-01-20T19:26:01.768Z"
   },
   {
    "duration": 12,
    "start_time": "2022-01-20T19:26:04.049Z"
   },
   {
    "duration": 7,
    "start_time": "2022-01-20T19:26:04.449Z"
   },
   {
    "duration": 7,
    "start_time": "2022-01-20T19:26:05.021Z"
   },
   {
    "duration": 17,
    "start_time": "2022-01-20T19:26:07.370Z"
   },
   {
    "duration": 6,
    "start_time": "2022-01-20T19:26:11.852Z"
   },
   {
    "duration": 8,
    "start_time": "2022-01-20T19:26:13.373Z"
   },
   {
    "duration": 4,
    "start_time": "2022-01-20T19:26:14.698Z"
   },
   {
    "duration": 5,
    "start_time": "2022-01-20T19:26:17.846Z"
   },
   {
    "duration": 515,
    "start_time": "2022-01-20T19:26:20.994Z"
   },
   {
    "duration": 7,
    "start_time": "2022-01-20T19:26:23.981Z"
   },
   {
    "duration": 107273,
    "start_time": "2022-01-20T19:26:26.413Z"
   },
   {
    "duration": 27,
    "start_time": "2022-01-20T19:29:47.176Z"
   },
   {
    "duration": 33,
    "start_time": "2022-01-20T19:29:48.990Z"
   },
   {
    "duration": 12,
    "start_time": "2022-01-20T19:29:51.276Z"
   },
   {
    "duration": 105,
    "start_time": "2022-01-20T19:29:52.268Z"
   },
   {
    "duration": 10,
    "start_time": "2022-01-20T19:29:54.014Z"
   },
   {
    "duration": 21,
    "start_time": "2022-01-20T19:30:16.806Z"
   },
   {
    "duration": 8,
    "start_time": "2022-01-20T19:30:17.590Z"
   },
   {
    "duration": 48,
    "start_time": "2022-01-20T19:30:19.829Z"
   },
   {
    "duration": 12,
    "start_time": "2022-01-20T19:30:21.559Z"
   },
   {
    "duration": 13,
    "start_time": "2022-01-20T19:30:25.267Z"
   },
   {
    "duration": 424,
    "start_time": "2022-01-20T19:30:28.733Z"
   },
   {
    "duration": 3726,
    "start_time": "2022-01-20T19:30:39.064Z"
   },
   {
    "duration": 417,
    "start_time": "2022-01-20T19:30:56.960Z"
   },
   {
    "duration": 9,
    "start_time": "2022-01-20T19:30:59.011Z"
   },
   {
    "duration": 170068,
    "start_time": "2022-01-20T19:31:47.652Z"
   },
   {
    "duration": 253,
    "start_time": "2022-01-20T19:37:16.556Z"
   },
   {
    "duration": 83,
    "start_time": "2022-01-20T19:37:21.092Z"
   },
   {
    "duration": 61,
    "start_time": "2022-01-20T19:37:23.514Z"
   },
   {
    "duration": 60,
    "start_time": "2022-01-20T19:37:25.444Z"
   },
   {
    "duration": 43,
    "start_time": "2022-01-20T19:37:29.730Z"
   },
   {
    "duration": 8,
    "start_time": "2022-01-20T19:37:54.700Z"
   },
   {
    "duration": 24,
    "start_time": "2022-01-20T19:38:04.284Z"
   },
   {
    "duration": 14,
    "start_time": "2022-01-20T19:38:18.933Z"
   },
   {
    "duration": 151,
    "start_time": "2022-01-20T19:38:21.978Z"
   },
   {
    "duration": 8,
    "start_time": "2022-01-20T19:38:23.986Z"
   },
   {
    "duration": 60836,
    "start_time": "2022-01-20T19:39:00.574Z"
   },
   {
    "duration": 93,
    "start_time": "2022-01-20T19:43:54.809Z"
   },
   {
    "duration": 15,
    "start_time": "2022-01-20T19:43:56.374Z"
   },
   {
    "duration": 11,
    "start_time": "2022-01-20T19:43:58.863Z"
   },
   {
    "duration": 36,
    "start_time": "2022-01-20T19:44:00.985Z"
   },
   {
    "duration": 9,
    "start_time": "2022-01-20T19:44:09.094Z"
   },
   {
    "duration": 7,
    "start_time": "2022-01-20T19:50:03.327Z"
   },
   {
    "duration": 13,
    "start_time": "2022-01-20T19:50:54.472Z"
   },
   {
    "duration": 13,
    "start_time": "2022-01-20T19:50:59.284Z"
   },
   {
    "duration": 29,
    "start_time": "2022-01-20T19:51:06.810Z"
   },
   {
    "duration": 16,
    "start_time": "2022-01-20T19:51:08.658Z"
   },
   {
    "duration": 88,
    "start_time": "2022-01-20T19:51:09.085Z"
   },
   {
    "duration": 47,
    "start_time": "2022-01-20T19:51:10.927Z"
   },
   {
    "duration": 9,
    "start_time": "2022-01-20T19:51:11.515Z"
   },
   {
    "duration": 27,
    "start_time": "2022-01-20T19:51:13.020Z"
   },
   {
    "duration": 7,
    "start_time": "2022-01-20T19:51:28.700Z"
   },
   {
    "duration": 14,
    "start_time": "2022-01-20T19:51:31.742Z"
   },
   {
    "duration": 532,
    "start_time": "2022-01-20T19:51:41.681Z"
   },
   {
    "duration": 582,
    "start_time": "2022-01-20T19:51:43.426Z"
   },
   {
    "duration": 26,
    "start_time": "2022-01-20T19:52:38.851Z"
   },
   {
    "duration": 14,
    "start_time": "2022-01-20T19:53:00.747Z"
   },
   {
    "duration": 117860,
    "start_time": "2022-01-20T20:11:11.219Z"
   },
   {
    "duration": 74,
    "start_time": "2022-01-20T20:18:09.977Z"
   },
   {
    "duration": 20,
    "start_time": "2022-01-20T20:18:44.187Z"
   },
   {
    "duration": 8,
    "start_time": "2022-01-20T20:18:44.970Z"
   },
   {
    "duration": 40,
    "start_time": "2022-01-20T20:18:45.806Z"
   },
   {
    "duration": 9,
    "start_time": "2022-01-20T20:18:48.421Z"
   },
   {
    "duration": 14,
    "start_time": "2022-01-20T20:18:59.642Z"
   },
   {
    "duration": 421,
    "start_time": "2022-01-20T20:19:03.090Z"
   },
   {
    "duration": 11,
    "start_time": "2022-01-20T20:19:05.790Z"
   },
   {
    "duration": 6,
    "start_time": "2022-01-20T20:21:43.268Z"
   },
   {
    "duration": 40,
    "start_time": "2022-01-20T20:21:47.863Z"
   },
   {
    "duration": 9,
    "start_time": "2022-01-20T20:21:48.782Z"
   },
   {
    "duration": 13,
    "start_time": "2022-01-20T20:22:00.839Z"
   },
   {
    "duration": 409,
    "start_time": "2022-01-20T20:22:06.673Z"
   },
   {
    "duration": 10,
    "start_time": "2022-01-20T20:22:08.241Z"
   },
   {
    "duration": 177078,
    "start_time": "2022-01-20T20:22:50.122Z"
   },
   {
    "duration": 247,
    "start_time": "2022-01-20T20:26:12.488Z"
   },
   {
    "duration": 28,
    "start_time": "2022-01-20T20:29:36.944Z"
   },
   {
    "duration": 13,
    "start_time": "2022-01-20T20:29:38.499Z"
   },
   {
    "duration": 84,
    "start_time": "2022-01-20T20:29:39.388Z"
   },
   {
    "duration": 15,
    "start_time": "2022-01-20T20:29:41.057Z"
   },
   {
    "duration": 8,
    "start_time": "2022-01-20T20:30:47.914Z"
   },
   {
    "duration": 24,
    "start_time": "2022-01-20T20:30:48.260Z"
   },
   {
    "duration": 13,
    "start_time": "2022-01-20T20:32:44.807Z"
   },
   {
    "duration": 152,
    "start_time": "2022-01-20T20:32:53.654Z"
   },
   {
    "duration": 7,
    "start_time": "2022-01-20T20:32:56.356Z"
   },
   {
    "duration": 60904,
    "start_time": "2022-01-20T20:33:22.216Z"
   },
   {
    "duration": 73,
    "start_time": "2022-01-20T20:40:04.824Z"
   },
   {
    "duration": 23,
    "start_time": "2022-01-20T20:40:48.457Z"
   },
   {
    "duration": 10,
    "start_time": "2022-01-20T20:40:50.049Z"
   },
   {
    "duration": 23,
    "start_time": "2022-01-20T20:40:50.447Z"
   },
   {
    "duration": 11,
    "start_time": "2022-01-20T20:40:50.865Z"
   },
   {
    "duration": 541,
    "start_time": "2022-01-20T20:46:14.373Z"
   },
   {
    "duration": 568,
    "start_time": "2022-01-20T20:46:15.864Z"
   },
   {
    "duration": 568,
    "start_time": "2022-01-20T20:48:10.049Z"
   },
   {
    "duration": 591,
    "start_time": "2022-01-20T20:48:11.062Z"
   },
   {
    "duration": 1227,
    "start_time": "2022-01-22T10:52:52.501Z"
   },
   {
    "duration": 54,
    "start_time": "2022-01-22T10:52:53.730Z"
   },
   {
    "duration": 20,
    "start_time": "2022-01-22T10:52:53.787Z"
   },
   {
    "duration": 8,
    "start_time": "2022-01-22T10:52:54.136Z"
   },
   {
    "duration": 9,
    "start_time": "2022-01-22T10:52:54.687Z"
   },
   {
    "duration": 22,
    "start_time": "2022-01-22T10:52:55.428Z"
   },
   {
    "duration": 8,
    "start_time": "2022-01-22T10:52:55.771Z"
   },
   {
    "duration": 10,
    "start_time": "2022-01-22T10:52:56.354Z"
   },
   {
    "duration": 6,
    "start_time": "2022-01-22T10:52:56.430Z"
   },
   {
    "duration": 7,
    "start_time": "2022-01-22T10:53:08.025Z"
   },
   {
    "duration": 410,
    "start_time": "2022-01-22T10:53:08.696Z"
   },
   {
    "duration": 8,
    "start_time": "2022-01-22T10:53:18.767Z"
   },
   {
    "duration": 131558,
    "start_time": "2022-01-22T10:53:19.606Z"
   },
   {
    "duration": 74,
    "start_time": "2022-01-22T10:58:02.246Z"
   },
   {
    "duration": 24,
    "start_time": "2022-01-22T10:58:05.003Z"
   },
   {
    "duration": 9,
    "start_time": "2022-01-22T10:58:07.305Z"
   },
   {
    "duration": 41,
    "start_time": "2022-01-22T10:58:09.982Z"
   },
   {
    "duration": 9,
    "start_time": "2022-01-22T10:58:10.975Z"
   },
   {
    "duration": 13,
    "start_time": "2022-01-22T10:58:33.278Z"
   },
   {
    "duration": 445,
    "start_time": "2022-01-22T10:58:39.993Z"
   },
   {
    "duration": 10,
    "start_time": "2022-01-22T10:58:45.332Z"
   },
   {
    "duration": 350,
    "start_time": "2022-01-22T11:00:51.334Z"
   },
   {
    "duration": 11,
    "start_time": "2022-01-22T11:01:07.075Z"
   },
   {
    "duration": 7,
    "start_time": "2022-01-22T11:01:46.354Z"
   },
   {
    "duration": 183516,
    "start_time": "2022-01-22T11:02:15.837Z"
   },
   {
    "duration": 1088,
    "start_time": "2022-01-22T11:08:30.163Z"
   },
   {
    "duration": 3,
    "start_time": "2022-01-22T11:08:41.520Z"
   },
   {
    "duration": 45,
    "start_time": "2022-01-22T11:08:43.036Z"
   },
   {
    "duration": 4,
    "start_time": "2022-01-22T11:09:21.325Z"
   },
   {
    "duration": 35,
    "start_time": "2022-01-22T11:09:22.092Z"
   },
   {
    "duration": 13,
    "start_time": "2022-01-22T11:09:22.959Z"
   },
   {
    "duration": 7,
    "start_time": "2022-01-22T11:09:23.395Z"
   },
   {
    "duration": 7,
    "start_time": "2022-01-22T11:09:24.143Z"
   },
   {
    "duration": 17,
    "start_time": "2022-01-22T11:09:24.915Z"
   },
   {
    "duration": 6,
    "start_time": "2022-01-22T11:09:25.274Z"
   },
   {
    "duration": 9,
    "start_time": "2022-01-22T11:09:25.658Z"
   },
   {
    "duration": 5,
    "start_time": "2022-01-22T11:09:25.839Z"
   },
   {
    "duration": 6,
    "start_time": "2022-01-22T11:09:27.509Z"
   },
   {
    "duration": 369,
    "start_time": "2022-01-22T11:09:32.527Z"
   },
   {
    "duration": 8,
    "start_time": "2022-01-22T11:09:34.712Z"
   },
   {
    "duration": 132843,
    "start_time": "2022-01-22T11:09:46.971Z"
   },
   {
    "duration": 81,
    "start_time": "2022-01-22T11:12:07.249Z"
   },
   {
    "duration": 88,
    "start_time": "2022-01-22T11:12:10.011Z"
   },
   {
    "duration": 13,
    "start_time": "2022-01-22T11:12:10.590Z"
   },
   {
    "duration": 43,
    "start_time": "2022-01-22T11:12:11.177Z"
   },
   {
    "duration": 13,
    "start_time": "2022-01-22T11:12:11.702Z"
   },
   {
    "duration": 15,
    "start_time": "2022-01-22T11:12:18.414Z"
   },
   {
    "duration": 477,
    "start_time": "2022-01-22T11:12:22.143Z"
   },
   {
    "duration": 7,
    "start_time": "2022-01-22T11:12:24.339Z"
   },
   {
    "duration": 189949,
    "start_time": "2022-01-22T11:13:03.863Z"
   },
   {
    "duration": 85,
    "start_time": "2022-01-22T11:16:23.633Z"
   },
   {
    "duration": 33,
    "start_time": "2022-01-22T11:16:31.976Z"
   },
   {
    "duration": 11,
    "start_time": "2022-01-22T11:16:35.012Z"
   },
   {
    "duration": 78,
    "start_time": "2022-01-22T11:16:35.422Z"
   },
   {
    "duration": 11,
    "start_time": "2022-01-22T11:16:36.499Z"
   },
   {
    "duration": 14,
    "start_time": "2022-01-22T11:16:40.567Z"
   },
   {
    "duration": 175,
    "start_time": "2022-01-22T11:16:44.938Z"
   },
   {
    "duration": 8,
    "start_time": "2022-01-22T11:16:46.281Z"
   },
   {
    "duration": 72845,
    "start_time": "2022-01-22T11:17:03.133Z"
   },
   {
    "duration": 89,
    "start_time": "2022-01-22T11:18:31.829Z"
   },
   {
    "duration": 20,
    "start_time": "2022-01-22T11:18:34.515Z"
   },
   {
    "duration": 67,
    "start_time": "2022-01-22T11:18:36.730Z"
   },
   {
    "duration": 26,
    "start_time": "2022-01-22T11:18:37.203Z"
   },
   {
    "duration": 14,
    "start_time": "2022-01-22T11:18:37.667Z"
   },
   {
    "duration": 638,
    "start_time": "2022-01-22T11:18:40.417Z"
   },
   {
    "duration": 1701,
    "start_time": "2022-01-22T11:19:29.933Z"
   },
   {
    "duration": 148,
    "start_time": "2022-01-22T11:19:45.205Z"
   },
   {
    "duration": 27,
    "start_time": "2022-01-22T11:22:00.739Z"
   },
   {
    "duration": 1560,
    "start_time": "2022-01-22T11:23:45.067Z"
   },
   {
    "duration": 448,
    "start_time": "2022-01-22T11:24:30.772Z"
   },
   {
    "duration": 774,
    "start_time": "2022-01-22T11:24:34.655Z"
   },
   {
    "duration": 863,
    "start_time": "2022-01-22T11:24:47.958Z"
   },
   {
    "duration": 966,
    "start_time": "2022-01-22T11:24:52.456Z"
   },
   {
    "duration": 1040,
    "start_time": "2022-01-22T11:24:56.666Z"
   },
   {
    "duration": 1124,
    "start_time": "2022-01-22T11:25:02.218Z"
   },
   {
    "duration": 1058,
    "start_time": "2022-01-22T11:25:07.752Z"
   },
   {
    "duration": 1097,
    "start_time": "2022-01-22T11:25:14.260Z"
   },
   {
    "duration": 1153,
    "start_time": "2022-01-22T11:25:20.578Z"
   },
   {
    "duration": 1050,
    "start_time": "2022-01-22T11:25:25.211Z"
   },
   {
    "duration": 1059,
    "start_time": "2022-01-22T11:25:37.889Z"
   },
   {
    "duration": 1120,
    "start_time": "2022-01-22T11:47:28.514Z"
   },
   {
    "duration": 44,
    "start_time": "2022-01-22T11:47:29.636Z"
   },
   {
    "duration": 16,
    "start_time": "2022-01-22T11:47:31.825Z"
   },
   {
    "duration": 8,
    "start_time": "2022-01-22T11:47:32.297Z"
   },
   {
    "duration": 8,
    "start_time": "2022-01-22T11:47:35.034Z"
   },
   {
    "duration": 16,
    "start_time": "2022-01-22T11:47:35.875Z"
   },
   {
    "duration": 6,
    "start_time": "2022-01-22T11:47:36.267Z"
   },
   {
    "duration": 10,
    "start_time": "2022-01-22T11:47:36.642Z"
   },
   {
    "duration": 6,
    "start_time": "2022-01-22T11:47:36.815Z"
   },
   {
    "duration": 5,
    "start_time": "2022-01-22T11:47:39.191Z"
   },
   {
    "duration": 977,
    "start_time": "2022-01-22T11:49:42.061Z"
   },
   {
    "duration": 43,
    "start_time": "2022-01-22T11:49:43.040Z"
   },
   {
    "duration": 13,
    "start_time": "2022-01-22T11:49:43.085Z"
   },
   {
    "duration": 6,
    "start_time": "2022-01-22T11:49:43.100Z"
   },
   {
    "duration": 6,
    "start_time": "2022-01-22T11:49:43.107Z"
   },
   {
    "duration": 17,
    "start_time": "2022-01-22T11:49:43.115Z"
   },
   {
    "duration": 8,
    "start_time": "2022-01-22T11:49:43.133Z"
   },
   {
    "duration": 10,
    "start_time": "2022-01-22T11:49:43.142Z"
   },
   {
    "duration": 3,
    "start_time": "2022-01-22T11:49:43.155Z"
   },
   {
    "duration": 7,
    "start_time": "2022-01-22T11:49:43.160Z"
   },
   {
    "duration": 372,
    "start_time": "2022-01-22T11:49:43.169Z"
   },
   {
    "duration": 6,
    "start_time": "2022-01-22T11:49:43.543Z"
   },
   {
    "duration": 124355,
    "start_time": "2022-01-22T11:49:43.551Z"
   },
   {
    "duration": 71,
    "start_time": "2022-01-22T11:51:47.908Z"
   },
   {
    "duration": 117,
    "start_time": "2022-01-22T11:51:47.981Z"
   },
   {
    "duration": 98,
    "start_time": "2022-01-22T11:51:48.101Z"
   },
   {
    "duration": 198,
    "start_time": "2022-01-22T11:51:48.201Z"
   },
   {
    "duration": 98,
    "start_time": "2022-01-22T11:51:48.401Z"
   },
   {
    "duration": 111,
    "start_time": "2022-01-22T11:51:48.502Z"
   },
   {
    "duration": 475,
    "start_time": "2022-01-22T11:51:48.615Z"
   },
   {
    "duration": 8,
    "start_time": "2022-01-22T11:51:49.091Z"
   },
   {
    "duration": 186909,
    "start_time": "2022-01-22T11:51:49.101Z"
   },
   {
    "duration": 78,
    "start_time": "2022-01-22T11:54:56.012Z"
   },
   {
    "duration": 105,
    "start_time": "2022-01-22T11:54:56.099Z"
   },
   {
    "duration": 101,
    "start_time": "2022-01-22T11:54:56.206Z"
   },
   {
    "duration": 290,
    "start_time": "2022-01-22T11:54:56.309Z"
   },
   {
    "duration": 100,
    "start_time": "2022-01-22T11:54:56.605Z"
   },
   {
    "duration": 195,
    "start_time": "2022-01-22T11:54:56.708Z"
   },
   {
    "duration": 172,
    "start_time": "2022-01-22T11:54:56.905Z"
   },
   {
    "duration": 6,
    "start_time": "2022-01-22T11:54:57.079Z"
   },
   {
    "duration": 63460,
    "start_time": "2022-01-22T11:54:57.086Z"
   },
   {
    "duration": 74,
    "start_time": "2022-01-22T11:56:00.548Z"
   },
   {
    "duration": 79,
    "start_time": "2022-01-22T11:56:00.624Z"
   },
   {
    "duration": 104,
    "start_time": "2022-01-22T11:56:00.705Z"
   },
   {
    "duration": 204,
    "start_time": "2022-01-22T11:56:00.812Z"
   },
   {
    "duration": 90,
    "start_time": "2022-01-22T11:56:01.018Z"
   },
   {
    "duration": 1293,
    "start_time": "2022-01-22T11:56:01.200Z"
   },
   {
    "duration": 1079,
    "start_time": "2022-01-22T11:56:02.494Z"
   },
   {
    "duration": 133,
    "start_time": "2022-01-22T11:56:03.575Z"
   },
   {
    "duration": 1871951,
    "start_time": "2022-01-22T12:02:27.334Z"
   },
   {
    "duration": 76,
    "start_time": "2022-01-22T12:38:48.671Z"
   },
   {
    "duration": 33,
    "start_time": "2022-01-22T12:39:33.594Z"
   },
   {
    "duration": 11,
    "start_time": "2022-01-22T12:39:36.101Z"
   },
   {
    "duration": 77,
    "start_time": "2022-01-22T12:39:38.723Z"
   },
   {
    "duration": 10,
    "start_time": "2022-01-22T12:39:41.261Z"
   },
   {
    "duration": 12,
    "start_time": "2022-01-22T12:40:25.426Z"
   },
   {
    "duration": 164,
    "start_time": "2022-01-22T12:40:28.640Z"
   },
   {
    "duration": 7,
    "start_time": "2022-01-22T12:40:30.558Z"
   },
   {
    "duration": 757014,
    "start_time": "2022-01-22T12:51:22.026Z"
   },
   {
    "duration": 68,
    "start_time": "2022-01-22T13:05:16.299Z"
   },
   {
    "duration": 74,
    "start_time": "2022-01-22T13:06:05.732Z"
   },
   {
    "duration": 76,
    "start_time": "2022-01-22T13:06:22.863Z"
   },
   {
    "duration": 21,
    "start_time": "2022-01-22T13:08:32.704Z"
   },
   {
    "duration": 8,
    "start_time": "2022-01-22T13:08:35.208Z"
   },
   {
    "duration": 25,
    "start_time": "2022-01-22T13:08:37.058Z"
   },
   {
    "duration": 10,
    "start_time": "2022-01-22T13:08:38.912Z"
   },
   {
    "duration": 1176,
    "start_time": "2022-01-22T13:13:01.693Z"
   },
   {
    "duration": 281,
    "start_time": "2022-01-22T13:14:20.394Z"
   },
   {
    "duration": 1096,
    "start_time": "2022-01-22T13:15:09.032Z"
   },
   {
    "duration": 264,
    "start_time": "2022-01-22T13:15:10.727Z"
   }
  ],
  "kernelspec": {
   "display_name": "Python 3",
   "language": "python",
   "name": "python3"
  },
  "language_info": {
   "codemirror_mode": {
    "name": "ipython",
    "version": 3
   },
   "file_extension": ".py",
   "mimetype": "text/x-python",
   "name": "python",
   "nbconvert_exporter": "python",
   "pygments_lexer": "ipython3",
   "version": "3.8.5"
  },
  "toc": {
   "base_numbering": 1,
   "nav_menu": {},
   "number_sections": true,
   "sideBar": true,
   "skip_h1_title": true,
   "title_cell": "Содержание",
   "title_sidebar": "Contents",
   "toc_cell": true,
   "toc_position": {
    "height": "calc(100% - 180px)",
    "left": "10px",
    "top": "150px",
    "width": "253.797px"
   },
   "toc_section_display": true,
   "toc_window_display": false
  }
 },
 "nbformat": 4,
 "nbformat_minor": 2
}
