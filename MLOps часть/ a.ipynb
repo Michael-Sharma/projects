{
 "cells": [
  {
   "cell_type": "markdown",
   "metadata": {},
   "source": [
    "# Определение пола владельца HTTP cookie по истории активности пользователя в интернете"
   ]
  },
  {
   "cell_type": "markdown",
   "metadata": {},
   "source": [
    "Необходимо по цифровым следам пользователя (на каких сайтах  он сидел, сколько раз заходил, какое у него устройство и тд) определить его пол. Данные взяты с соревнований MTS ML CUP (https://ods.ai/competitions/mtsmlcup)."
   ]
  },
  {
   "cell_type": "markdown",
   "metadata": {},
   "source": [
    "Описание колонок файла с данными:\n",
    "\n",
    "- 'region_name' – Регион\n",
    "\n",
    "- 'city_name' – Населенный пункт\n",
    "\n",
    "- 'cpe_manufacturer_name' – Производитель устройства\n",
    "\n",
    "- 'cpe_model_name' – Модель устройства\n",
    "\n",
    "- 'url_host' – Домен, с которого пришел рекламный запрос\n",
    "\n",
    "- 'cpe_model_os_type' – Операционка на устройстве\n",
    "\n",
    "- 'price' – Оценка цены устройства\n",
    "\n",
    "- 'date' – Дата\n",
    "\n",
    "- 'part_of_day' – Время дня (утро, вечер, итд)\n",
    "\n",
    "- 'request_cnt' – Число запросов одного пользователя за время дня (поле part_of_day)\n",
    "\n",
    "- 'user_id' – ID пользователя\n",
    "\n",
    "Таргет:\n",
    "\n",
    "- 'is_male' – Признак пользователя : мужчина (1-Да, 0-Нет)\n",
    "\n"
   ]
  },
  {
   "cell_type": "code",
   "execution_count": 1,
   "metadata": {},
   "outputs": [],
   "source": [
    "import pandas as pd\n",
    "import numpy as np\n",
    "\n",
    "import matplotlib.pyplot as plt\n",
    "import seaborn as sns\n",
    "\n",
    "from sklearn.model_selection import train_test_split, StratifiedKFold\n",
    "from sklearn.metrics import roc_auc_score, precision_score, recall_score, f1_score, log_loss\n",
    "\n",
    "from lightgbm import LGBMClassifier\n",
    "\n",
    "from umap import UMAP\n",
    "\n",
    "import optuna\n",
    "\n",
    "import yaml\n",
    "import joblib\n",
    "\n",
    "from typing import Dict\n",
    "\n",
    "import warnings\n",
    "warnings.filterwarnings(\"ignore\");\n",
    "\n",
    "PATH = '/Users/michael/Documents/PyMagic/MTS ML Cup/'\n",
    "RAND = 42\n",
    "\n",
    "pd.set_option('display.max_columns', None)\n",
    "# pd.set_option('display.max_rows', None)"
   ]
  },
  {
   "cell_type": "markdown",
   "metadata": {},
   "source": [
    "Прочтем конфигурационный файл"
   ]
  },
  {
   "cell_type": "code",
   "execution_count": 2,
   "metadata": {},
   "outputs": [],
   "source": [
    "config_path = 'Pet Project 2/config/params.yml'\n",
    "config = yaml.load(open(config_path), Loader=yaml.FullLoader)\n",
    "\n",
    "preprocessing = config['preprocessing']\n",
    "train = config['train']"
   ]
  },
  {
   "cell_type": "markdown",
   "metadata": {},
   "source": [
    "# Предварительный просмотр данных"
   ]
  },
  {
   "cell_type": "markdown",
   "metadata": {},
   "source": [
    "Прочтем файл с данными"
   ]
  },
  {
   "cell_type": "code",
   "execution_count": 3,
   "metadata": {},
   "outputs": [
    {
     "data": {
      "text/html": [
       "<div>\n",
       "<style scoped>\n",
       "    .dataframe tbody tr th:only-of-type {\n",
       "        vertical-align: middle;\n",
       "    }\n",
       "\n",
       "    .dataframe tbody tr th {\n",
       "        vertical-align: top;\n",
       "    }\n",
       "\n",
       "    .dataframe thead th {\n",
       "        text-align: right;\n",
       "    }\n",
       "</style>\n",
       "<table border=\"1\" class=\"dataframe\">\n",
       "  <thead>\n",
       "    <tr style=\"text-align: right;\">\n",
       "      <th></th>\n",
       "      <th>region_name</th>\n",
       "      <th>city_name</th>\n",
       "      <th>cpe_manufacturer_name</th>\n",
       "      <th>cpe_model_name</th>\n",
       "      <th>url_host</th>\n",
       "      <th>cpe_model_os_type</th>\n",
       "      <th>price</th>\n",
       "      <th>date</th>\n",
       "      <th>part_of_day</th>\n",
       "      <th>request_cnt</th>\n",
       "      <th>user_id</th>\n",
       "      <th>is_male</th>\n",
       "    </tr>\n",
       "  </thead>\n",
       "  <tbody>\n",
       "    <tr>\n",
       "      <th>0</th>\n",
       "      <td>Краснодарский край</td>\n",
       "      <td>Геленджик</td>\n",
       "      <td>Apple</td>\n",
       "      <td>iPhone X</td>\n",
       "      <td>instagram.com</td>\n",
       "      <td>iOS</td>\n",
       "      <td>67590.0</td>\n",
       "      <td>2021-06-29</td>\n",
       "      <td>day</td>\n",
       "      <td>2</td>\n",
       "      <td>214519</td>\n",
       "      <td>0</td>\n",
       "    </tr>\n",
       "    <tr>\n",
       "      <th>1</th>\n",
       "      <td>Краснодарский край</td>\n",
       "      <td>Геленджик</td>\n",
       "      <td>Apple</td>\n",
       "      <td>iPhone X</td>\n",
       "      <td>instagram.com</td>\n",
       "      <td>iOS</td>\n",
       "      <td>67590.0</td>\n",
       "      <td>2021-06-29</td>\n",
       "      <td>evening</td>\n",
       "      <td>6</td>\n",
       "      <td>214519</td>\n",
       "      <td>0</td>\n",
       "    </tr>\n",
       "    <tr>\n",
       "      <th>2</th>\n",
       "      <td>Краснодарский край</td>\n",
       "      <td>Геленджик</td>\n",
       "      <td>Apple</td>\n",
       "      <td>iPhone X</td>\n",
       "      <td>googleads.g.doubleclick.net</td>\n",
       "      <td>iOS</td>\n",
       "      <td>76665.0</td>\n",
       "      <td>2021-07-19</td>\n",
       "      <td>day</td>\n",
       "      <td>3</td>\n",
       "      <td>60193</td>\n",
       "      <td>1</td>\n",
       "    </tr>\n",
       "    <tr>\n",
       "      <th>3</th>\n",
       "      <td>Краснодарский край</td>\n",
       "      <td>Геленджик</td>\n",
       "      <td>Apple</td>\n",
       "      <td>iPhone X</td>\n",
       "      <td>vk.com</td>\n",
       "      <td>iOS</td>\n",
       "      <td>73374.0</td>\n",
       "      <td>2021-07-28</td>\n",
       "      <td>day</td>\n",
       "      <td>1</td>\n",
       "      <td>319852</td>\n",
       "      <td>0</td>\n",
       "    </tr>\n",
       "    <tr>\n",
       "      <th>4</th>\n",
       "      <td>Краснодарский край</td>\n",
       "      <td>Геленджик</td>\n",
       "      <td>Apple</td>\n",
       "      <td>iPhone X</td>\n",
       "      <td>tpc.googlesyndication.com</td>\n",
       "      <td>iOS</td>\n",
       "      <td>73374.0</td>\n",
       "      <td>2021-07-24</td>\n",
       "      <td>morning</td>\n",
       "      <td>1</td>\n",
       "      <td>319852</td>\n",
       "      <td>0</td>\n",
       "    </tr>\n",
       "  </tbody>\n",
       "</table>\n",
       "</div>"
      ],
      "text/plain": [
       "          region_name  city_name cpe_manufacturer_name cpe_model_name  \\\n",
       "0  Краснодарский край  Геленджик                 Apple       iPhone X   \n",
       "1  Краснодарский край  Геленджик                 Apple       iPhone X   \n",
       "2  Краснодарский край  Геленджик                 Apple       iPhone X   \n",
       "3  Краснодарский край  Геленджик                 Apple       iPhone X   \n",
       "4  Краснодарский край  Геленджик                 Apple       iPhone X   \n",
       "\n",
       "                      url_host cpe_model_os_type    price        date  \\\n",
       "0                instagram.com               iOS  67590.0  2021-06-29   \n",
       "1                instagram.com               iOS  67590.0  2021-06-29   \n",
       "2  googleads.g.doubleclick.net               iOS  76665.0  2021-07-19   \n",
       "3                       vk.com               iOS  73374.0  2021-07-28   \n",
       "4    tpc.googlesyndication.com               iOS  73374.0  2021-07-24   \n",
       "\n",
       "  part_of_day  request_cnt  user_id  is_male  \n",
       "0         day            2   214519        0  \n",
       "1     evening            6   214519        0  \n",
       "2         day            3    60193        1  \n",
       "3         day            1   319852        0  \n",
       "4     morning            1   319852        0  "
      ]
     },
     "execution_count": 3,
     "metadata": {},
     "output_type": "execute_result"
    }
   ],
   "source": [
    "df = pd.read_csv(preprocessing['data_path'])\n",
    "df.head()"
   ]
  },
  {
   "cell_type": "markdown",
   "metadata": {},
   "source": [
    "Типы данных для каждого столбца"
   ]
  },
  {
   "cell_type": "code",
   "execution_count": 4,
   "metadata": {},
   "outputs": [
    {
     "data": {
      "text/plain": [
       "region_name               object\n",
       "city_name                 object\n",
       "cpe_manufacturer_name     object\n",
       "cpe_model_name            object\n",
       "url_host                  object\n",
       "cpe_model_os_type         object\n",
       "price                    float64\n",
       "date                      object\n",
       "part_of_day               object\n",
       "request_cnt                int64\n",
       "user_id                    int64\n",
       "is_male                    int64\n",
       "dtype: object"
      ]
     },
     "execution_count": 4,
     "metadata": {},
     "output_type": "execute_result"
    }
   ],
   "source": [
    "df.dtypes"
   ]
  },
  {
   "cell_type": "markdown",
   "metadata": {},
   "source": [
    "Количество пропусков по столбцам"
   ]
  },
  {
   "cell_type": "code",
   "execution_count": 5,
   "metadata": {},
   "outputs": [
    {
     "data": {
      "text/plain": [
       "region_name              0\n",
       "city_name                0\n",
       "cpe_manufacturer_name    0\n",
       "cpe_model_name           0\n",
       "url_host                 0\n",
       "cpe_model_os_type        0\n",
       "price                    0\n",
       "date                     0\n",
       "part_of_day              0\n",
       "request_cnt              0\n",
       "user_id                  0\n",
       "is_male                  0\n",
       "dtype: int64"
      ]
     },
     "execution_count": 5,
     "metadata": {},
     "output_type": "execute_result"
    }
   ],
   "source": [
    "df.isna().sum()"
   ]
  },
  {
   "cell_type": "markdown",
   "metadata": {},
   "source": [
    "Описание числовых признаков"
   ]
  },
  {
   "cell_type": "code",
   "execution_count": 6,
   "metadata": {},
   "outputs": [
    {
     "data": {
      "text/html": [
       "<div>\n",
       "<style scoped>\n",
       "    .dataframe tbody tr th:only-of-type {\n",
       "        vertical-align: middle;\n",
       "    }\n",
       "\n",
       "    .dataframe tbody tr th {\n",
       "        vertical-align: top;\n",
       "    }\n",
       "\n",
       "    .dataframe thead th {\n",
       "        text-align: right;\n",
       "    }\n",
       "</style>\n",
       "<table border=\"1\" class=\"dataframe\">\n",
       "  <thead>\n",
       "    <tr style=\"text-align: right;\">\n",
       "      <th></th>\n",
       "      <th>price</th>\n",
       "      <th>request_cnt</th>\n",
       "      <th>user_id</th>\n",
       "      <th>is_male</th>\n",
       "    </tr>\n",
       "  </thead>\n",
       "  <tbody>\n",
       "    <tr>\n",
       "      <th>count</th>\n",
       "      <td>172797.000000</td>\n",
       "      <td>172797.000000</td>\n",
       "      <td>172797.000000</td>\n",
       "      <td>172797.000000</td>\n",
       "    </tr>\n",
       "    <tr>\n",
       "      <th>mean</th>\n",
       "      <td>35025.938194</td>\n",
       "      <td>1.728711</td>\n",
       "      <td>205589.040747</td>\n",
       "      <td>0.516473</td>\n",
       "    </tr>\n",
       "    <tr>\n",
       "      <th>std</th>\n",
       "      <td>26485.140735</td>\n",
       "      <td>1.215745</td>\n",
       "      <td>119226.875755</td>\n",
       "      <td>0.499730</td>\n",
       "    </tr>\n",
       "    <tr>\n",
       "      <th>min</th>\n",
       "      <td>90.000000</td>\n",
       "      <td>1.000000</td>\n",
       "      <td>4.000000</td>\n",
       "      <td>0.000000</td>\n",
       "    </tr>\n",
       "    <tr>\n",
       "      <th>25%</th>\n",
       "      <td>14768.000000</td>\n",
       "      <td>1.000000</td>\n",
       "      <td>102661.000000</td>\n",
       "      <td>0.000000</td>\n",
       "    </tr>\n",
       "    <tr>\n",
       "      <th>50%</th>\n",
       "      <td>23966.000000</td>\n",
       "      <td>1.000000</td>\n",
       "      <td>206255.000000</td>\n",
       "      <td>1.000000</td>\n",
       "    </tr>\n",
       "    <tr>\n",
       "      <th>75%</th>\n",
       "      <td>52288.000000</td>\n",
       "      <td>2.000000</td>\n",
       "      <td>309647.000000</td>\n",
       "      <td>1.000000</td>\n",
       "    </tr>\n",
       "    <tr>\n",
       "      <th>max</th>\n",
       "      <td>140990.000000</td>\n",
       "      <td>12.000000</td>\n",
       "      <td>415157.000000</td>\n",
       "      <td>1.000000</td>\n",
       "    </tr>\n",
       "  </tbody>\n",
       "</table>\n",
       "</div>"
      ],
      "text/plain": [
       "               price    request_cnt        user_id        is_male\n",
       "count  172797.000000  172797.000000  172797.000000  172797.000000\n",
       "mean    35025.938194       1.728711  205589.040747       0.516473\n",
       "std     26485.140735       1.215745  119226.875755       0.499730\n",
       "min        90.000000       1.000000       4.000000       0.000000\n",
       "25%     14768.000000       1.000000  102661.000000       0.000000\n",
       "50%     23966.000000       1.000000  206255.000000       1.000000\n",
       "75%     52288.000000       2.000000  309647.000000       1.000000\n",
       "max    140990.000000      12.000000  415157.000000       1.000000"
      ]
     },
     "execution_count": 6,
     "metadata": {},
     "output_type": "execute_result"
    }
   ],
   "source": [
    "df.describe()"
   ]
  },
  {
   "cell_type": "markdown",
   "metadata": {},
   "source": [
    "Описание категориальных признаков"
   ]
  },
  {
   "cell_type": "code",
   "execution_count": 7,
   "metadata": {},
   "outputs": [
    {
     "data": {
      "text/html": [
       "<div>\n",
       "<style scoped>\n",
       "    .dataframe tbody tr th:only-of-type {\n",
       "        vertical-align: middle;\n",
       "    }\n",
       "\n",
       "    .dataframe tbody tr th {\n",
       "        vertical-align: top;\n",
       "    }\n",
       "\n",
       "    .dataframe thead th {\n",
       "        text-align: right;\n",
       "    }\n",
       "</style>\n",
       "<table border=\"1\" class=\"dataframe\">\n",
       "  <thead>\n",
       "    <tr style=\"text-align: right;\">\n",
       "      <th></th>\n",
       "      <th>region_name</th>\n",
       "      <th>city_name</th>\n",
       "      <th>cpe_manufacturer_name</th>\n",
       "      <th>cpe_model_name</th>\n",
       "      <th>url_host</th>\n",
       "      <th>cpe_model_os_type</th>\n",
       "      <th>date</th>\n",
       "      <th>part_of_day</th>\n",
       "    </tr>\n",
       "  </thead>\n",
       "  <tbody>\n",
       "    <tr>\n",
       "      <th>count</th>\n",
       "      <td>172797</td>\n",
       "      <td>172797</td>\n",
       "      <td>172797</td>\n",
       "      <td>172797</td>\n",
       "      <td>172797</td>\n",
       "      <td>172797</td>\n",
       "      <td>172797</td>\n",
       "      <td>172797</td>\n",
       "    </tr>\n",
       "    <tr>\n",
       "      <th>unique</th>\n",
       "      <td>69</td>\n",
       "      <td>148</td>\n",
       "      <td>6</td>\n",
       "      <td>136</td>\n",
       "      <td>4887</td>\n",
       "      <td>2</td>\n",
       "      <td>369</td>\n",
       "      <td>4</td>\n",
       "    </tr>\n",
       "    <tr>\n",
       "      <th>top</th>\n",
       "      <td>Москва</td>\n",
       "      <td>Москва</td>\n",
       "      <td>Apple</td>\n",
       "      <td>iPhone 11</td>\n",
       "      <td>googleads.g.doubleclick.net</td>\n",
       "      <td>Android</td>\n",
       "      <td>2021-06-16</td>\n",
       "      <td>day</td>\n",
       "    </tr>\n",
       "    <tr>\n",
       "      <th>freq</th>\n",
       "      <td>27648</td>\n",
       "      <td>27648</td>\n",
       "      <td>73402</td>\n",
       "      <td>17031</td>\n",
       "      <td>11442</td>\n",
       "      <td>99395</td>\n",
       "      <td>3695</td>\n",
       "      <td>57480</td>\n",
       "    </tr>\n",
       "  </tbody>\n",
       "</table>\n",
       "</div>"
      ],
      "text/plain": [
       "       region_name city_name cpe_manufacturer_name cpe_model_name  \\\n",
       "count       172797    172797                172797         172797   \n",
       "unique          69       148                     6            136   \n",
       "top         Москва    Москва                 Apple      iPhone 11   \n",
       "freq         27648     27648                 73402          17031   \n",
       "\n",
       "                           url_host cpe_model_os_type        date part_of_day  \n",
       "count                        172797            172797      172797      172797  \n",
       "unique                         4887                 2         369           4  \n",
       "top     googleads.g.doubleclick.net           Android  2021-06-16         day  \n",
       "freq                          11442             99395        3695       57480  "
      ]
     },
     "execution_count": 7,
     "metadata": {},
     "output_type": "execute_result"
    }
   ],
   "source": [
    "df.describe(include='object')"
   ]
  },
  {
   "cell_type": "markdown",
   "metadata": {},
   "source": [
    "Количество явных дубликатов"
   ]
  },
  {
   "cell_type": "code",
   "execution_count": 8,
   "metadata": {},
   "outputs": [
    {
     "data": {
      "text/plain": [
       "0"
      ]
     },
     "execution_count": 8,
     "metadata": {},
     "output_type": "execute_result"
    }
   ],
   "source": [
    "df.duplicated().sum()"
   ]
  },
  {
   "cell_type": "markdown",
   "metadata": {},
   "source": [
    "# EDA"
   ]
  },
  {
   "cell_type": "markdown",
   "metadata": {},
   "source": [
    "## Таргет"
   ]
  },
  {
   "cell_type": "code",
   "execution_count": 9,
   "metadata": {},
   "outputs": [
    {
     "data": {
      "image/png": "[encoded data removed]",
      "text/plain": [
       "<Figure size 720x504 with 1 Axes>"
      ]
     },
     "metadata": {
      "needs_background": "light"
     },
     "output_type": "display_data"
    }
   ],
   "source": [
    "gender_values = (df.is_male\n",
    "                   .value_counts(normalize=True)\n",
    "                   .mul(100)\n",
    "                   .rename('percent')\n",
    "                   .reset_index()) \n",
    "\n",
    "fig = plt.figure(figsize=(10, 7))\n",
    "\n",
    "ax = sns.barplot(x='index',\n",
    "                 y='percent',\n",
    "                 data=gender_values,\n",
    "                 palette='mako')\n",
    "\n",
    "for p in ax.patches:\n",
    "    percentage = '{:.1f}%'.format(p.get_height())\n",
    "    ax.annotate(percentage, \n",
    "                (p.get_x() + p.get_width() / 2., p.get_height()),\n",
    "                ha='center', \n",
    "                va='center',\n",
    "                xytext=(0, 10),\n",
    "                textcoords='offset points',\n",
    "                fontsize=14)\n",
    "    \n",
    "plt.title('Процентное распределение пользователей по полу', fontsize=20)\n",
    "\n",
    "plt.xlabel('Пол', fontsize=14)\n",
    "plt.ylabel('Проценты', fontsize=14)\n",
    "\n",
    "plt.xticks(fontsize=14)\n",
    "plt.yticks(fontsize=14);"
   ]
  },
  {
   "cell_type": "markdown",
   "metadata": {},
   "source": [
    "**Вывод:** дисбаланса классов не наблюдается"
   ]
  },
  {
   "cell_type": "markdown",
   "metadata": {},
   "source": [
    "## Влияние различных признаков на целевую переменную"
   ]
  },
  {
   "cell_type": "markdown",
   "metadata": {},
   "source": [
    "### Время дня"
   ]
  },
  {
   "cell_type": "markdown",
   "metadata": {},
   "source": [
    "Создадим функцию для построения вспомогательной сводной таблицы для построения требуемого графика"
   ]
  },
  {
   "cell_type": "code",
   "execution_count": 10,
   "metadata": {},
   "outputs": [],
   "source": [
    "def pivot(column: str) -> pd.DataFrame:\n",
    "    pivot = df.pivot_table(index=['is_male',column],\n",
    "                           values='user_id',\n",
    "                           aggfunc='count').reset_index()\n",
    "    pivot_1 = pivot.groupby('is_male').sum('user_id').reset_index().rename(columns={'user_id': 'sum_gender'})\n",
    "    pivot = pivot.merge(pivot_1, on='is_male')\n",
    "    pivot['percent'] = (pivot['user_id'] / pivot['sum_gender']) * 100\n",
    "    \n",
    "    return pivot.sort_values('percent', ascending=False)"
   ]
  },
  {
   "cell_type": "markdown",
   "metadata": {},
   "source": [
    "Построим график"
   ]
  },
  {
   "cell_type": "code",
   "execution_count": 11,
   "metadata": {},
   "outputs": [
    {
     "data": {
      "image/png": "[encoded data removed]",
      "text/plain": [
       "<Figure size 864x504 with 1 Axes>"
      ]
     },
     "metadata": {
      "needs_background": "light"
     },
     "output_type": "display_data"
    }
   ],
   "source": [
    "fig = plt.figure(figsize=(12,7))\n",
    "\n",
    "ax = sns.barplot(x='part_of_day',\n",
    "                 y='percent',\n",
    "                 data=pivot('part_of_day'),\n",
    "                 palette='mako',\n",
    "                 hue='is_male')\n",
    "\n",
    "for p in ax.patches:\n",
    "    percentage = '{:.1f}%'.format(p.get_height())\n",
    "    ax.annotate(percentage, \n",
    "                (p.get_x() + p.get_width() / 2., p.get_height()), \n",
    "                ha='center', \n",
    "                va='center',\n",
    "                xytext=(0, 10),\n",
    "                textcoords='offset points', \n",
    "                fontsize=14)\n",
    "    \n",
    "plt.title('Доли пользователей в разрезе пола \\n в зависимости от времени дня ', fontsize=20)\n",
    "\n",
    "plt.xlabel('Время дня', fontsize=14)\n",
    "plt.ylabel('Проценты', fontsize=14)\n",
    "\n",
    "plt.xticks(fontsize=14)\n",
    "plt.yticks(fontsize=14);\n"
   ]
  },
  {
   "cell_type": "markdown",
   "metadata": {},
   "source": [
    "**Вывод:** Чаще всего пользователи выходят в сеть днем, чуть реже вечером и утром. Ночью, как правило, люди спят, отсюда и небольшое число пользователей, выходивших в сеть в сравнении с отсальными временами дня. Стоит отметить, что днем и вечером чаще выходят в сеть женщины, а утром и ночью мужчины."
   ]
  },
  {
   "cell_type": "markdown",
   "metadata": {},
   "source": [
    "### Производитель устройства"
   ]
  },
  {
   "cell_type": "code",
   "execution_count": 12,
   "metadata": {},
   "outputs": [
    {
     "data": {
      "image/png": "[encoded data removed]",
      "text/plain": [
       "<Figure size 1080x504 with 1 Axes>"
      ]
     },
     "metadata": {
      "needs_background": "light"
     },
     "output_type": "display_data"
    }
   ],
   "source": [
    "fig = plt.figure(figsize=(15,7))\n",
    "\n",
    "ax = sns.barplot(x='cpe_manufacturer_name',\n",
    "                 y='percent',\n",
    "                 data=pivot('cpe_manufacturer_name'),\n",
    "                 palette='mako',\n",
    "                 hue='is_male')\n",
    "\n",
    "for p in ax.patches:\n",
    "    percentage = '{:.1f}%'.format(p.get_height())\n",
    "    ax.annotate(percentage, \n",
    "                (p.get_x() + p.get_width() / 2., p.get_height()), \n",
    "                ha='center', \n",
    "                va='center',\n",
    "                xytext=(0, 10),\n",
    "                textcoords='offset points', \n",
    "                fontsize=14)\n",
    "    \n",
    "plt.title('Доли пользователей в разрезе пола \\n в зависимости от производителя устройства', fontsize=20)\n",
    "\n",
    "plt.xlabel('Производитель устройства', fontsize=14)\n",
    "plt.ylabel('Проценты', fontsize=14)\n",
    "\n",
    "plt.xticks(fontsize=14)\n",
    "plt.yticks(fontsize=14);"
   ]
  },
  {
   "cell_type": "markdown",
   "metadata": {},
   "source": [
    "**Вывод:** Лидирующим брендом по количеству пользователей является Apple. Дальше идут Samsung, Huawei и Xiaomi. Пользователей с устройствами других производителей значительно меньше. При этом среди пользователей Apple и Samsung больше женщин, а среди пользователей остальных производителей больше мужчин."
   ]
  },
  {
   "cell_type": "markdown",
   "metadata": {},
   "source": [
    "### Операционная система на устройстве"
   ]
  },
  {
   "cell_type": "code",
   "execution_count": 13,
   "metadata": {},
   "outputs": [
    {
     "data": {
      "image/png": "[encoded data removed]",
      "text/plain": [
       "<Figure size 1080x504 with 1 Axes>"
      ]
     },
     "metadata": {
      "needs_background": "light"
     },
     "output_type": "display_data"
    }
   ],
   "source": [
    "fig = plt.figure(figsize=(15,7))\n",
    "\n",
    "ax = sns.barplot(x='cpe_model_os_type',\n",
    "                 y='percent',\n",
    "                 data=pivot('cpe_model_os_type'),\n",
    "                 palette='mako',\n",
    "                 hue='is_male')\n",
    "\n",
    "for p in ax.patches:\n",
    "    percentage = '{:.1f}%'.format(p.get_height())\n",
    "    ax.annotate(percentage, \n",
    "                (p.get_x() + p.get_width() / 2., p.get_height()), \n",
    "                ha='center', \n",
    "                va='center',\n",
    "                xytext=(0, 10),\n",
    "                textcoords='offset points', \n",
    "                fontsize=14)\n",
    "    \n",
    "plt.title('Доли пользователей в разрезе пола \\n в зависимости от операционной системы на устройстве', fontsize=20)\n",
    "\n",
    "plt.xlabel('Операционная система', fontsize=14)\n",
    "plt.ylabel('Проценты', fontsize=14)\n",
    "\n",
    "plt.xticks(fontsize=14)\n",
    "plt.yticks(fontsize=14);"
   ]
  },
  {
   "cell_type": "markdown",
   "metadata": {},
   "source": [
    "**Вывод:** Процент пользователей Android больше, чем у iOS (пользователей Apple больше, чем у других производителей по отдельности, но не в сумме). При этом Android больше предпочитают мужчины, а iOS женщины."
   ]
  },
  {
   "cell_type": "markdown",
   "metadata": {},
   "source": [
    "### Оценка цены устройства"
   ]
  },
  {
   "cell_type": "code",
   "execution_count": 14,
   "metadata": {},
   "outputs": [
    {
     "data": {
      "image/png": "[encoded data removed]",
      "text/plain": [
       "<Figure size 864x432 with 1 Axes>"
      ]
     },
     "metadata": {
      "needs_background": "light"
     },
     "output_type": "display_data"
    }
   ],
   "source": [
    "fig = plt.figure(figsize=(12,6))\n",
    "\n",
    "sns.kdeplot(data={\n",
    "                  '0': df[df.is_male==0].price,\n",
    "                  '1': df[df.is_male==1].price,\n",
    "            },\n",
    "            common_norm=False,\n",
    "            palette='mako')\n",
    "\n",
    "plt.title('Распределение цены устройства в разрезе пола', fontsize=15)\n",
    "\n",
    "plt.xlabel('Цена устройства', fontsize=14)\n",
    "plt.ylabel('Density', fontsize=14);"
   ]
  },
  {
   "cell_type": "markdown",
   "metadata": {},
   "source": [
    "**Вывод:** характеры распределений цены устройства в разрезе пола практически идентичны"
   ]
  },
  {
   "cell_type": "markdown",
   "metadata": {},
   "source": [
    "# Подготовка данных для моделирования"
   ]
  },
  {
   "cell_type": "markdown",
   "metadata": {},
   "source": [
    "Функция для сохранения уникальных значений признаков (для FrontEnd части, чтобы можно было потом эти значения подавать на вход модели)"
   ]
  },
  {
   "cell_type": "code",
   "execution_count": 15,
   "metadata": {},
   "outputs": [],
   "source": [
    "def save_unique_train_data(\n",
    "    data: pd.DataFrame, drop_columns: list, target_column: str, unique_values_path: str\n",
    ") -> None:\n",
    "    \"\"\"\n",
    "    Сохранение словаря с признаками и уникальными значениями\n",
    "    :param drop_columns: список с признаками для удаления\n",
    "    :param data: датасет\n",
    "    :param target_column: целевая переменная\n",
    "    :param unique_values_path: путь до файла со словарем\n",
    "    :return: None\n",
    "    \"\"\"\n",
    "    unique_df = data.drop(\n",
    "        columns=drop_columns+[target_column], axis=1, errors=\"ignore\"\n",
    "    )\n",
    "    # создаем словарь с уникальными значениями для вывода в UI\n",
    "    dict_unique = {key: unique_df[key].unique().tolist() for key in unique_df.columns}\n",
    "    with open(unique_values_path, \"w\") as file:\n",
    "        json.dump(dict_unique, file, ensure_ascii=False)"
   ]
  },
  {
   "cell_type": "code",
   "execution_count": 16,
   "metadata": {},
   "outputs": [],
   "source": [
    "save_unique_train_data(\n",
    "    data=df,\n",
    "    drop_columns=preprocessing[\"drop_for_unique\"],\n",
    "    target_column=train[\"target_column\"],\n",
    "    unique_values_path=preprocessing[\"unique_values_path\"],\n",
    ")"
   ]
  },
  {
   "cell_type": "markdown",
   "metadata": {},
   "source": [
    "# Training"
   ]
  },
  {
   "cell_type": "markdown",
   "metadata": {},
   "source": [
    "## Baseline"
   ]
  },
  {
   "cell_type": "markdown",
   "metadata": {},
   "source": [
    "Удалим ненужные колонки"
   ]
  },
  {
   "cell_type": "code",
   "execution_count": 17,
   "metadata": {},
   "outputs": [],
   "source": [
    "df = df.drop(preprocessing['drop_columns'], axis=1)"
   ]
  },
  {
   "cell_type": "markdown",
   "metadata": {},
   "source": [
    "Преобразуем категориальные типы колонок из object в category для подачи в LightGBM"
   ]
  },
  {
   "cell_type": "code",
   "execution_count": 18,
   "metadata": {},
   "outputs": [],
   "source": [
    "def transform_types(data: pd.DataFrame, change_type_columns: dict) -> pd.DataFrame:\n",
    "    \"\"\"\n",
    "    Преобразование признаков в заданный тип данных\n",
    "    :param data: датасет\n",
    "    :param change_type_columns: словарь с признаками и типами данных\n",
    "    :return:\n",
    "    \"\"\"\n",
    "    return data.astype(change_type_columns, errors=\"raise\")"
   ]
  },
  {
   "cell_type": "code",
   "execution_count": 19,
   "metadata": {},
   "outputs": [],
   "source": [
    "df = transform_types(data=df, change_type_columns=preprocessing['change_type_columns'])"
   ]
  },
  {
   "cell_type": "markdown",
   "metadata": {},
   "source": [
    "Теперь разобьем данные на обучающую и тестовую выборки"
   ]
  },
  {
   "cell_type": "code",
   "execution_count": 20,
   "metadata": {},
   "outputs": [],
   "source": [
    "X = df.drop([train['target_column']], axis=1)\n",
    "y = df[train['target_column']]\n",
    "\n",
    "X_train, X_test, y_train, y_test = train_test_split(X,\n",
    "                                                    y,\n",
    "                                                    test_size=train['test_size'],\n",
    "                                                    shuffle=True,\n",
    "                                                    stratify=y,\n",
    "                                                    random_state=train['random_state'])\n",
    "\n",
    "X_train_, X_val, y_train_, y_val = train_test_split(X_train,\n",
    "                                                    y_train,\n",
    "                                                    test_size=train['val_size'],\n",
    "                                                    shuffle=True,\n",
    "                                                    stratify=y_train,\n",
    "                                                    random_state=train['random_state'])\n",
    "\n",
    "eval_set = [(X_val, y_val)]"
   ]
  },
  {
   "cell_type": "markdown",
   "metadata": {},
   "source": [
    "Обучим модель"
   ]
  },
  {
   "cell_type": "code",
   "execution_count": 21,
   "metadata": {},
   "outputs": [],
   "source": [
    "lgb = LGBMClassifier(random_state=train['random_state'])\n",
    "\n",
    "lgb.fit(X_train_,\n",
    "        y_train_,\n",
    "        eval_metric=train['eval_metric'],\n",
    "        eval_set=eval_set,\n",
    "        verbose=False,\n",
    "        early_stopping_rounds=train['early_stopping_rounds']);"
   ]
  },
  {
   "cell_type": "markdown",
   "metadata": {},
   "source": [
    "Функция для вывода метрик"
   ]
  },
  {
   "cell_type": "code",
   "execution_count": 22,
   "metadata": {},
   "outputs": [],
   "source": [
    "def get_metrics(y_test: np.array, y_pred: np.array, y_proba: np.array) -> Dict:\n",
    "    dict_metrics = {\n",
    "        'roc_auc': round(roc_auc_score(y_test, y_proba[:, 1]), 3),\n",
    "        'precision': round(precision_score(y_test, y_pred), 3),\n",
    "        'recall': round(recall_score(y_test, y_pred), 3),\n",
    "        'f1': round(f1_score(y_test, y_pred), 3),\n",
    "        'logloss': round(log_loss(y_test, y_proba), 3)\n",
    "    }\n",
    "\n",
    "    return dict_metrics"
   ]
  },
  {
   "cell_type": "markdown",
   "metadata": {},
   "source": [
    "Сделаем предикт и посмотрим на метрики"
   ]
  },
  {
   "cell_type": "code",
   "execution_count": 23,
   "metadata": {},
   "outputs": [
    {
     "name": "stdout",
     "output_type": "stream",
     "text": [
      "roc-auc: 0.862\n",
      "precision: 0.775\n",
      "recall: 0.792\n",
      "f1: 0.783\n",
      "logloss: 0.489\n"
     ]
    }
   ],
   "source": [
    "y_pred = lgb.predict(X_test)\n",
    "y_pred_proba = lgb.predict_proba(X_test)\n",
    "\n",
    "result = get_metrics(y_test, y_pred, y_pred_proba)\n",
    "\n",
    "print('roc-auc:', result['roc_auc'])\n",
    "print('precision:', result['precision'])\n",
    "print('recall:', result['recall'])\n",
    "print('f1:', result['f1'])\n",
    "print('logloss:', result['logloss'])"
   ]
  },
  {
   "cell_type": "markdown",
   "metadata": {},
   "source": [
    "## Tuning"
   ]
  },
  {
   "cell_type": "markdown",
   "metadata": {},
   "source": [
    "Подберем опитмальные значения гиперпараметров с помощью optuna"
   ]
  },
  {
   "cell_type": "code",
   "execution_count": 24,
   "metadata": {},
   "outputs": [],
   "source": [
    "# целевая функция\n",
    "def objective_lgb(trial, X, y, N_FOLDS, random_state):\n",
    "    lgb_params = {\n",
    "#         \"n_estimators\": trial.suggest_categorical(\"n_estimators\", [1000, 1200, 1300, 1500, 1700, 2000, 2300]),\n",
    "        \"n_estimators\": trial.suggest_categorical(\"n_estimators\", [2300]),\n",
    "#         \"learning_rate\": trial.suggest_float(\"learning_rate\",\n",
    "#                                              0.001,\n",
    "#                                              0.3),\n",
    "        \"learning_rate\": trial.suggest_categorical(\"learning_rate\", [0.17865787263309982]),\n",
    "        \"num_leaves\": trial.suggest_int(\"num_leaves\", 15, 40, step=5),\n",
    "        \"min_child_samples\": trial.suggest_int(\"min_child_samples\", 15, 40, step=5),\n",
    "        \"objective\": trial.suggest_categorical(\"objective\", [\"binary\"]),\n",
    "        \"random_state\": trial.suggest_categorical(\"random_state\", [random_state])\n",
    "    }\n",
    "\n",
    "    cv = StratifiedKFold(n_splits=N_FOLDS, shuffle=True, random_state=random_state)\n",
    "\n",
    "    cv_predicts = np.empty(N_FOLDS)\n",
    "    for idx, (train_idx, test_idx) in enumerate(cv.split(X, y)):\n",
    "        X_train, X_test = X.iloc[train_idx], X.iloc[test_idx]\n",
    "        y_train, y_test = y.iloc[train_idx], y.iloc[test_idx]\n",
    "\n",
    "        pruning_callback = optuna.integration.LightGBMPruningCallback(\n",
    "            trial, \"auc\")\n",
    "        model = LGBMClassifier(**lgb_params)\n",
    "        model.fit(X_train,\n",
    "                  y_train,\n",
    "                  eval_set=[(X_test, y_test)],\n",
    "                  eval_metric=\"auc\",\n",
    "                  early_stopping_rounds=100,\n",
    "                  callbacks=[pruning_callback],\n",
    "                  verbose=0)\n",
    "\n",
    "        probas = model.predict_proba(X_test)[:, 1]\n",
    "        cv_predicts[idx] = roc_auc_score(y_test, probas)\n",
    "\n",
    "    return np.mean(cv_predicts)"
   ]
  },
  {
   "cell_type": "code",
   "execution_count": 25,
   "metadata": {},
   "outputs": [
    {
     "name": "stderr",
     "output_type": "stream",
     "text": [
      "\u001b[32m[I 2023-05-05 01:17:33,459]\u001b[0m A new study created in memory with name: LGB\u001b[0m\n"
     ]
    },
    {
     "data": {
      "application/vnd.jupyter.widget-view+json": {
       "model_id": "1d91ee44fa764638be2596cbd2d16fe9",
       "version_major": 2,
       "version_minor": 0
      },
      "text/plain": [
       "HBox(children=(HTML(value=''), FloatProgress(value=0.0, max=7.0), HTML(value='')))"
      ]
     },
     "metadata": {},
     "output_type": "display_data"
    },
    {
     "name": "stdout",
     "output_type": "stream",
     "text": [
      "\n",
      "CPU times: user 24min 43s, sys: 2min 3s, total: 26min 47s\n",
      "Wall time: 3min 24s\n"
     ]
    }
   ],
   "source": [
    "%%time\n",
    "study = optuna.create_study(direction=\"maximize\", study_name=\"LGB\")\n",
    "func = lambda trial: objective_lgb(\n",
    "    trial, X_train, y_train, N_FOLDS=train['n_folds'], random_state=train['random_state'])\n",
    "optuna.logging.set_verbosity(optuna.logging.WARNING)\n",
    "study.optimize(func, n_trials=train['n_trials'], show_progress_bar=True)"
   ]
  },
  {
   "cell_type": "markdown",
   "metadata": {},
   "source": [
    "Лучшие значения параметров"
   ]
  },
  {
   "cell_type": "code",
   "execution_count": 26,
   "metadata": {
    "scrolled": false
   },
   "outputs": [
    {
     "data": {
      "text/plain": [
       "{'n_estimators': 2300,\n",
       " 'learning_rate': 0.17865787263309982,\n",
       " 'num_leaves': 35,\n",
       " 'min_child_samples': 15,\n",
       " 'objective': 'binary',\n",
       " 'random_state': 42}"
      ]
     },
     "execution_count": 26,
     "metadata": {},
     "output_type": "execute_result"
    }
   ],
   "source": [
    "study.best_params"
   ]
  },
  {
   "cell_type": "code",
   "execution_count": 27,
   "metadata": {},
   "outputs": [],
   "source": [
    "best_params = train['params_path']\n",
    "\n",
    "with open(best_params, 'w') as f:\n",
    "    json.dump(study.best_params, f)"
   ]
  },
  {
   "cell_type": "markdown",
   "metadata": {},
   "source": [
    "Обучим модель"
   ]
  },
  {
   "cell_type": "code",
   "execution_count": 28,
   "metadata": {},
   "outputs": [
    {
     "name": "stdout",
     "output_type": "stream",
     "text": [
      "CPU times: user 50.7 s, sys: 3.78 s, total: 54.4 s\n",
      "Wall time: 7.06 s\n"
     ]
    },
    {
     "data": {
      "text/plain": [
       "LGBMClassifier(learning_rate=0.17865787263309982, min_child_samples=15,\n",
       "               n_estimators=2300, num_leaves=35, objective='binary',\n",
       "               random_state=42)"
      ]
     },
     "execution_count": 28,
     "metadata": {},
     "output_type": "execute_result"
    }
   ],
   "source": [
    "%%time\n",
    "lgb_tuned = LGBMClassifier(**study.best_params)\n",
    "\n",
    "lgb_tuned.fit(X_train_,\n",
    "              y_train_,\n",
    "              eval_set=eval_set,\n",
    "              verbose=False,\n",
    "              early_stopping_rounds=train['early_stopping_rounds']);"
   ]
  },
  {
   "cell_type": "code",
   "execution_count": 29,
   "metadata": {},
   "outputs": [
    {
     "data": {
      "text/plain": [
       "['Pet Project 2/models/model_lgb.joblib']"
      ]
     },
     "execution_count": 29,
     "metadata": {},
     "output_type": "execute_result"
    }
   ],
   "source": [
    "# save model\n",
    "joblib.dump(lgb_tuned, train['model_path'])"
   ]
  },
  {
   "cell_type": "markdown",
   "metadata": {},
   "source": [
    "Сделаем предикт и посмотрим на метрики"
   ]
  },
  {
   "cell_type": "code",
   "execution_count": 30,
   "metadata": {},
   "outputs": [
    {
     "name": "stdout",
     "output_type": "stream",
     "text": [
      "roc-auc: 0.96\n",
      "precision: 0.895\n",
      "recall: 0.899\n",
      "f1: 0.897\n",
      "logloss: 0.258\n"
     ]
    }
   ],
   "source": [
    "y_pred = lgb_tuned.predict(X_test)\n",
    "y_pred_proba = lgb_tuned.predict_proba(X_test)\n",
    "\n",
    "result = get_metrics(y_test, y_pred, y_pred_proba)\n",
    "\n",
    "print('roc-auc:', result['roc_auc'])\n",
    "print('precision:', result['precision'])\n",
    "print('recall:', result['recall'])\n",
    "print('f1:', result['f1'])\n",
    "print('logloss:', result['logloss'])"
   ]
  },
  {
   "cell_type": "code",
   "execution_count": 31,
   "metadata": {},
   "outputs": [],
   "source": [
    "metrics = get_metrics(y_test, lgb_tuned.predict(X_test), lgb_tuned.predict_proba(X_test))\n",
    "with open(train['metrics_path'], 'w') as f:\n",
    "    json.dump(metrics, f)"
   ]
  },
  {
   "cell_type": "code",
   "execution_count": null,
   "metadata": {},
   "outputs": [],
   "source": []
  }
 ],
 "metadata": {
  "kernelspec": {
   "display_name": "Python 3",
   "language": "python",
   "name": "python3"
  },
  "language_info": {
   "codemirror_mode": {
    "name": "ipython",
    "version": 3
   },
   "file_extension": ".py",
   "mimetype": "text/x-python",
   "name": "python",
   "nbconvert_exporter": "python",
   "pygments_lexer": "ipython3",
   "version": "3.8.5"
  },
  "varInspector": {
   "cols": {
    "lenName": 16,
    "lenType": 16,
    "lenVar": 40
   },
   "kernels_config": {
    "python": {
     "delete_cmd_postfix": "",
     "delete_cmd_prefix": "del ",
     "library": "var_list.py",
     "varRefreshCmd": "print(var_dic_list())"
    },
    "r": {
     "delete_cmd_postfix": ") ",
     "delete_cmd_prefix": "rm(",
     "library": "var_list.r",
     "varRefreshCmd": "cat(var_dic_list()) "
    }
   },
   "types_to_exclude": [
    "module",
    "function",
    "builtin_function_or_method",
    "instance",
    "_Feature"
   ],
   "window_display": false
  }
 },
 "nbformat": 4,
 "nbformat_minor": 4
}
