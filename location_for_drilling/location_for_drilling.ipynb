{
 "cells": [
  {
   "cell_type": "markdown",
   "metadata": {},
   "source": [
    "## Загрузка и подготовка данных"
   ]
  },
  {
   "cell_type": "code",
   "execution_count": 1,
   "metadata": {},
   "outputs": [],
   "source": [
    "import pandas as pd\n",
    "from sklearn.model_selection import train_test_split\n",
    "from sklearn.linear_model import LinearRegression\n",
    "from sklearn.metrics import mean_squared_error\n",
    "from scipy import stats as st\n",
    "import numpy as np\n",
    "import matplotlib.pyplot as plt\n",
    "import seaborn as sns"
   ]
  },
  {
   "cell_type": "markdown",
   "metadata": {},
   "source": [
    "### Загрузка данных"
   ]
  },
  {
   "cell_type": "markdown",
   "metadata": {},
   "source": [
    "Прочтем и выведем на экран данные геологоразведки трех регионов из каждого файла"
   ]
  },
  {
   "cell_type": "code",
   "execution_count": 2,
   "metadata": {},
   "outputs": [
    {
     "data": {
      "text/html": [
       "<div>\n",
       "<style scoped>\n",
       "    .dataframe tbody tr th:only-of-type {\n",
       "        vertical-align: middle;\n",
       "    }\n",
       "\n",
       "    .dataframe tbody tr th {\n",
       "        vertical-align: top;\n",
       "    }\n",
       "\n",
       "    .dataframe thead th {\n",
       "        text-align: right;\n",
       "    }\n",
       "</style>\n",
       "<table border=\"1\" class=\"dataframe\">\n",
       "  <thead>\n",
       "    <tr style=\"text-align: right;\">\n",
       "      <th></th>\n",
       "      <th>id</th>\n",
       "      <th>f0</th>\n",
       "      <th>f1</th>\n",
       "      <th>f2</th>\n",
       "      <th>product</th>\n",
       "    </tr>\n",
       "  </thead>\n",
       "  <tbody>\n",
       "    <tr>\n",
       "      <td>0</td>\n",
       "      <td>txEyH</td>\n",
       "      <td>0.705745</td>\n",
       "      <td>-0.497823</td>\n",
       "      <td>1.221170</td>\n",
       "      <td>105.280062</td>\n",
       "    </tr>\n",
       "    <tr>\n",
       "      <td>1</td>\n",
       "      <td>2acmU</td>\n",
       "      <td>1.334711</td>\n",
       "      <td>-0.340164</td>\n",
       "      <td>4.365080</td>\n",
       "      <td>73.037750</td>\n",
       "    </tr>\n",
       "    <tr>\n",
       "      <td>2</td>\n",
       "      <td>409Wp</td>\n",
       "      <td>1.022732</td>\n",
       "      <td>0.151990</td>\n",
       "      <td>1.419926</td>\n",
       "      <td>85.265647</td>\n",
       "    </tr>\n",
       "    <tr>\n",
       "      <td>3</td>\n",
       "      <td>iJLyR</td>\n",
       "      <td>-0.032172</td>\n",
       "      <td>0.139033</td>\n",
       "      <td>2.978566</td>\n",
       "      <td>168.620776</td>\n",
       "    </tr>\n",
       "    <tr>\n",
       "      <td>4</td>\n",
       "      <td>Xdl7t</td>\n",
       "      <td>1.988431</td>\n",
       "      <td>0.155413</td>\n",
       "      <td>4.751769</td>\n",
       "      <td>154.036647</td>\n",
       "    </tr>\n",
       "  </tbody>\n",
       "</table>\n",
       "</div>"
      ],
      "text/plain": [
       "      id        f0        f1        f2     product\n",
       "0  txEyH  0.705745 -0.497823  1.221170  105.280062\n",
       "1  2acmU  1.334711 -0.340164  4.365080   73.037750\n",
       "2  409Wp  1.022732  0.151990  1.419926   85.265647\n",
       "3  iJLyR -0.032172  0.139033  2.978566  168.620776\n",
       "4  Xdl7t  1.988431  0.155413  4.751769  154.036647"
      ]
     },
     "execution_count": 2,
     "metadata": {},
     "output_type": "execute_result"
    }
   ],
   "source": [
    "data_1 = pd.read_csv('/datasets/geo_data_0.csv')\n",
    "data_1.head()"
   ]
  },
  {
   "cell_type": "code",
   "execution_count": 3,
   "metadata": {},
   "outputs": [
    {
     "data": {
      "text/html": [
       "<div>\n",
       "<style scoped>\n",
       "    .dataframe tbody tr th:only-of-type {\n",
       "        vertical-align: middle;\n",
       "    }\n",
       "\n",
       "    .dataframe tbody tr th {\n",
       "        vertical-align: top;\n",
       "    }\n",
       "\n",
       "    .dataframe thead th {\n",
       "        text-align: right;\n",
       "    }\n",
       "</style>\n",
       "<table border=\"1\" class=\"dataframe\">\n",
       "  <thead>\n",
       "    <tr style=\"text-align: right;\">\n",
       "      <th></th>\n",
       "      <th>id</th>\n",
       "      <th>f0</th>\n",
       "      <th>f1</th>\n",
       "      <th>f2</th>\n",
       "      <th>product</th>\n",
       "    </tr>\n",
       "  </thead>\n",
       "  <tbody>\n",
       "    <tr>\n",
       "      <td>0</td>\n",
       "      <td>kBEdx</td>\n",
       "      <td>-15.001348</td>\n",
       "      <td>-8.276000</td>\n",
       "      <td>-0.005876</td>\n",
       "      <td>3.179103</td>\n",
       "    </tr>\n",
       "    <tr>\n",
       "      <td>1</td>\n",
       "      <td>62mP7</td>\n",
       "      <td>14.272088</td>\n",
       "      <td>-3.475083</td>\n",
       "      <td>0.999183</td>\n",
       "      <td>26.953261</td>\n",
       "    </tr>\n",
       "    <tr>\n",
       "      <td>2</td>\n",
       "      <td>vyE1P</td>\n",
       "      <td>6.263187</td>\n",
       "      <td>-5.948386</td>\n",
       "      <td>5.001160</td>\n",
       "      <td>134.766305</td>\n",
       "    </tr>\n",
       "    <tr>\n",
       "      <td>3</td>\n",
       "      <td>KcrkZ</td>\n",
       "      <td>-13.081196</td>\n",
       "      <td>-11.506057</td>\n",
       "      <td>4.999415</td>\n",
       "      <td>137.945408</td>\n",
       "    </tr>\n",
       "    <tr>\n",
       "      <td>4</td>\n",
       "      <td>AHL4O</td>\n",
       "      <td>12.702195</td>\n",
       "      <td>-8.147433</td>\n",
       "      <td>5.004363</td>\n",
       "      <td>134.766305</td>\n",
       "    </tr>\n",
       "  </tbody>\n",
       "</table>\n",
       "</div>"
      ],
      "text/plain": [
       "      id         f0         f1        f2     product\n",
       "0  kBEdx -15.001348  -8.276000 -0.005876    3.179103\n",
       "1  62mP7  14.272088  -3.475083  0.999183   26.953261\n",
       "2  vyE1P   6.263187  -5.948386  5.001160  134.766305\n",
       "3  KcrkZ -13.081196 -11.506057  4.999415  137.945408\n",
       "4  AHL4O  12.702195  -8.147433  5.004363  134.766305"
      ]
     },
     "execution_count": 3,
     "metadata": {},
     "output_type": "execute_result"
    }
   ],
   "source": [
    "data_2 = pd.read_csv('/datasets/geo_data_1.csv')\n",
    "data_2.head()"
   ]
  },
  {
   "cell_type": "code",
   "execution_count": 4,
   "metadata": {},
   "outputs": [
    {
     "data": {
      "text/html": [
       "<div>\n",
       "<style scoped>\n",
       "    .dataframe tbody tr th:only-of-type {\n",
       "        vertical-align: middle;\n",
       "    }\n",
       "\n",
       "    .dataframe tbody tr th {\n",
       "        vertical-align: top;\n",
       "    }\n",
       "\n",
       "    .dataframe thead th {\n",
       "        text-align: right;\n",
       "    }\n",
       "</style>\n",
       "<table border=\"1\" class=\"dataframe\">\n",
       "  <thead>\n",
       "    <tr style=\"text-align: right;\">\n",
       "      <th></th>\n",
       "      <th>id</th>\n",
       "      <th>f0</th>\n",
       "      <th>f1</th>\n",
       "      <th>f2</th>\n",
       "      <th>product</th>\n",
       "    </tr>\n",
       "  </thead>\n",
       "  <tbody>\n",
       "    <tr>\n",
       "      <td>0</td>\n",
       "      <td>fwXo0</td>\n",
       "      <td>-1.146987</td>\n",
       "      <td>0.963328</td>\n",
       "      <td>-0.828965</td>\n",
       "      <td>27.758673</td>\n",
       "    </tr>\n",
       "    <tr>\n",
       "      <td>1</td>\n",
       "      <td>WJtFt</td>\n",
       "      <td>0.262778</td>\n",
       "      <td>0.269839</td>\n",
       "      <td>-2.530187</td>\n",
       "      <td>56.069697</td>\n",
       "    </tr>\n",
       "    <tr>\n",
       "      <td>2</td>\n",
       "      <td>ovLUW</td>\n",
       "      <td>0.194587</td>\n",
       "      <td>0.289035</td>\n",
       "      <td>-5.586433</td>\n",
       "      <td>62.871910</td>\n",
       "    </tr>\n",
       "    <tr>\n",
       "      <td>3</td>\n",
       "      <td>q6cA6</td>\n",
       "      <td>2.236060</td>\n",
       "      <td>-0.553760</td>\n",
       "      <td>0.930038</td>\n",
       "      <td>114.572842</td>\n",
       "    </tr>\n",
       "    <tr>\n",
       "      <td>4</td>\n",
       "      <td>WPMUX</td>\n",
       "      <td>-0.515993</td>\n",
       "      <td>1.716266</td>\n",
       "      <td>5.899011</td>\n",
       "      <td>149.600746</td>\n",
       "    </tr>\n",
       "  </tbody>\n",
       "</table>\n",
       "</div>"
      ],
      "text/plain": [
       "      id        f0        f1        f2     product\n",
       "0  fwXo0 -1.146987  0.963328 -0.828965   27.758673\n",
       "1  WJtFt  0.262778  0.269839 -2.530187   56.069697\n",
       "2  ovLUW  0.194587  0.289035 -5.586433   62.871910\n",
       "3  q6cA6  2.236060 -0.553760  0.930038  114.572842\n",
       "4  WPMUX -0.515993  1.716266  5.899011  149.600746"
      ]
     },
     "execution_count": 4,
     "metadata": {},
     "output_type": "execute_result"
    }
   ],
   "source": [
    "data_3 = pd.read_csv('/datasets/geo_data_2.csv')\n",
    "data_3.head()"
   ]
  },
  {
   "cell_type": "markdown",
   "metadata": {},
   "source": [
    "### Предобработка данных\n",
    "\n",
    "Проверим каждую таблицу на наличие пропусков, дубликатов и соответсвие типов данных требуемым типам"
   ]
  },
  {
   "cell_type": "markdown",
   "metadata": {},
   "source": [
    "**Первая таблица**"
   ]
  },
  {
   "cell_type": "code",
   "execution_count": 5,
   "metadata": {},
   "outputs": [
    {
     "data": {
      "text/plain": [
       "id         0\n",
       "f0         0\n",
       "f1         0\n",
       "f2         0\n",
       "product    0\n",
       "dtype: int64"
      ]
     },
     "execution_count": 5,
     "metadata": {},
     "output_type": "execute_result"
    }
   ],
   "source": [
    "data_1.isna().sum()"
   ]
  },
  {
   "cell_type": "code",
   "execution_count": 6,
   "metadata": {},
   "outputs": [
    {
     "data": {
      "text/plain": [
       "0"
      ]
     },
     "execution_count": 6,
     "metadata": {},
     "output_type": "execute_result"
    }
   ],
   "source": [
    "data_1.duplicated().sum()"
   ]
  },
  {
   "cell_type": "code",
   "execution_count": 7,
   "metadata": {},
   "outputs": [
    {
     "data": {
      "text/plain": [
       "id          object\n",
       "f0         float64\n",
       "f1         float64\n",
       "f2         float64\n",
       "product    float64\n",
       "dtype: object"
      ]
     },
     "execution_count": 7,
     "metadata": {},
     "output_type": "execute_result"
    }
   ],
   "source": [
    "data_1.dtypes"
   ]
  },
  {
   "cell_type": "markdown",
   "metadata": {},
   "source": [
    "**Вторая таблица**"
   ]
  },
  {
   "cell_type": "code",
   "execution_count": 8,
   "metadata": {},
   "outputs": [
    {
     "data": {
      "text/plain": [
       "id         0\n",
       "f0         0\n",
       "f1         0\n",
       "f2         0\n",
       "product    0\n",
       "dtype: int64"
      ]
     },
     "execution_count": 8,
     "metadata": {},
     "output_type": "execute_result"
    }
   ],
   "source": [
    "data_2.isna().sum()"
   ]
  },
  {
   "cell_type": "code",
   "execution_count": 9,
   "metadata": {},
   "outputs": [
    {
     "data": {
      "text/plain": [
       "0"
      ]
     },
     "execution_count": 9,
     "metadata": {},
     "output_type": "execute_result"
    }
   ],
   "source": [
    "data_2.duplicated().sum()"
   ]
  },
  {
   "cell_type": "code",
   "execution_count": 10,
   "metadata": {},
   "outputs": [
    {
     "data": {
      "text/plain": [
       "id          object\n",
       "f0         float64\n",
       "f1         float64\n",
       "f2         float64\n",
       "product    float64\n",
       "dtype: object"
      ]
     },
     "execution_count": 10,
     "metadata": {},
     "output_type": "execute_result"
    }
   ],
   "source": [
    "data_2.dtypes"
   ]
  },
  {
   "cell_type": "markdown",
   "metadata": {},
   "source": [
    "**Третья таблица**"
   ]
  },
  {
   "cell_type": "code",
   "execution_count": 11,
   "metadata": {},
   "outputs": [
    {
     "data": {
      "text/plain": [
       "id         0\n",
       "f0         0\n",
       "f1         0\n",
       "f2         0\n",
       "product    0\n",
       "dtype: int64"
      ]
     },
     "execution_count": 11,
     "metadata": {},
     "output_type": "execute_result"
    }
   ],
   "source": [
    "data_3.isna().sum()"
   ]
  },
  {
   "cell_type": "code",
   "execution_count": 12,
   "metadata": {},
   "outputs": [
    {
     "data": {
      "text/plain": [
       "0"
      ]
     },
     "execution_count": 12,
     "metadata": {},
     "output_type": "execute_result"
    }
   ],
   "source": [
    "data_3.duplicated().sum()"
   ]
  },
  {
   "cell_type": "code",
   "execution_count": 13,
   "metadata": {},
   "outputs": [
    {
     "data": {
      "text/plain": [
       "id          object\n",
       "f0         float64\n",
       "f1         float64\n",
       "f2         float64\n",
       "product    float64\n",
       "dtype: object"
      ]
     },
     "execution_count": 13,
     "metadata": {},
     "output_type": "execute_result"
    }
   ],
   "source": [
    "data_3.dtypes"
   ]
  },
  {
   "cell_type": "markdown",
   "metadata": {},
   "source": [
    "**Выводы:** Данные \"чистые\", предобработка не требуется"
   ]
  },
  {
   "cell_type": "markdown",
   "metadata": {},
   "source": [
    "### Определение признаков и целевого признака"
   ]
  },
  {
   "cell_type": "markdown",
   "metadata": {},
   "source": [
    "Целевой признак - product (объём запасов в скважине), признаки - f0, f1, f2"
   ]
  },
  {
   "cell_type": "code",
   "execution_count": 14,
   "metadata": {},
   "outputs": [],
   "source": [
    "features_1 = data_1.drop(['product', 'id'], axis=1)\n",
    "target_1 = data_1['product']\n",
    "features_2 = data_2.drop(['product', 'id'], axis=1)\n",
    "target_2 = data_2['product']\n",
    "features_3 = data_3.drop(['product', 'id'], axis=1)\n",
    "target_3 = data_3['product']"
   ]
  },
  {
   "cell_type": "markdown",
   "metadata": {},
   "source": [
    "## Обучение и проверка модели"
   ]
  },
  {
   "cell_type": "markdown",
   "metadata": {},
   "source": [
    "### Первый регион"
   ]
  },
  {
   "cell_type": "markdown",
   "metadata": {},
   "source": [
    "Разделим данные по первому региону на тестовую и валидационную выборку в соотношении 75:25"
   ]
  },
  {
   "cell_type": "code",
   "execution_count": 15,
   "metadata": {},
   "outputs": [],
   "source": [
    "features_train_1, features_valid_1, target_train_1, target_valid_1 = train_test_split(\n",
    "                                features_1, target_1, test_size=0.25, random_state=42)"
   ]
  },
  {
   "cell_type": "markdown",
   "metadata": {},
   "source": [
    "Обучим модель (линейная регрессия) и сделаем предсказания на валидационной выборке"
   ]
  },
  {
   "cell_type": "code",
   "execution_count": 16,
   "metadata": {},
   "outputs": [],
   "source": [
    "model = LinearRegression()\n",
    "model.fit(features_train_1, target_train_1)\n",
    "predict_1 = model.predict(features_valid_1)"
   ]
  },
  {
   "cell_type": "markdown",
   "metadata": {},
   "source": [
    "Средний запас предсказанного сырья"
   ]
  },
  {
   "cell_type": "code",
   "execution_count": 17,
   "metadata": {},
   "outputs": [
    {
     "data": {
      "text/plain": [
       "92.39879990657768"
      ]
     },
     "execution_count": 17,
     "metadata": {},
     "output_type": "execute_result"
    }
   ],
   "source": [
    "predict_1.mean()"
   ]
  },
  {
   "cell_type": "markdown",
   "metadata": {},
   "source": [
    "RMSE модели "
   ]
  },
  {
   "cell_type": "code",
   "execution_count": 18,
   "metadata": {
    "scrolled": true
   },
   "outputs": [
    {
     "data": {
      "text/plain": [
       "37.75660035026169"
      ]
     },
     "execution_count": 18,
     "metadata": {},
     "output_type": "execute_result"
    }
   ],
   "source": [
    "mean_squared_error(target_valid_1, predict_1)**0.5"
   ]
  },
  {
   "cell_type": "markdown",
   "metadata": {},
   "source": [
    "### Второй регион"
   ]
  },
  {
   "cell_type": "markdown",
   "metadata": {},
   "source": [
    "Разделим данные по второму региону на тестовую и валидационную выборку в соотношении 75:25"
   ]
  },
  {
   "cell_type": "code",
   "execution_count": 19,
   "metadata": {},
   "outputs": [],
   "source": [
    "features_train_2, features_valid_2, target_train_2, target_valid_2 = train_test_split(\n",
    "                                features_2, target_2, test_size=0.25, random_state=42)"
   ]
  },
  {
   "cell_type": "markdown",
   "metadata": {},
   "source": [
    "Обучим модель (линейная регрессия) и сделаем предсказания на валидационной выборке"
   ]
  },
  {
   "cell_type": "code",
   "execution_count": 20,
   "metadata": {},
   "outputs": [],
   "source": [
    "model.fit(features_train_2, target_train_2)\n",
    "predict_2 = model.predict(features_valid_2)"
   ]
  },
  {
   "cell_type": "markdown",
   "metadata": {},
   "source": [
    "Средний запас предсказанного сырья"
   ]
  },
  {
   "cell_type": "code",
   "execution_count": 21,
   "metadata": {},
   "outputs": [
    {
     "data": {
      "text/plain": [
       "68.71287803913764"
      ]
     },
     "execution_count": 21,
     "metadata": {},
     "output_type": "execute_result"
    }
   ],
   "source": [
    "predict_2.mean()"
   ]
  },
  {
   "cell_type": "markdown",
   "metadata": {},
   "source": [
    "RMSE модели"
   ]
  },
  {
   "cell_type": "code",
   "execution_count": 22,
   "metadata": {},
   "outputs": [
    {
     "data": {
      "text/plain": [
       "0.8902801001028828"
      ]
     },
     "execution_count": 22,
     "metadata": {},
     "output_type": "execute_result"
    }
   ],
   "source": [
    "mean_squared_error(target_valid_2, predict_2)**0.5"
   ]
  },
  {
   "cell_type": "markdown",
   "metadata": {},
   "source": [
    "### Третий регион"
   ]
  },
  {
   "cell_type": "markdown",
   "metadata": {},
   "source": [
    "Разделим данные по третьему региону на тестовую и валидационную выборку в соотношении 75:25"
   ]
  },
  {
   "cell_type": "code",
   "execution_count": 23,
   "metadata": {},
   "outputs": [],
   "source": [
    "features_train_3, features_valid_3, target_train_3, target_valid_3 = train_test_split(\n",
    "                                features_3, target_3, test_size=0.25, random_state=42)"
   ]
  },
  {
   "cell_type": "markdown",
   "metadata": {},
   "source": [
    "Обучим модель (линейная регрессия) и сделаем предсказания на валидационной выборке"
   ]
  },
  {
   "cell_type": "code",
   "execution_count": 24,
   "metadata": {},
   "outputs": [],
   "source": [
    "model.fit(features_train_3, target_train_3)\n",
    "predict_3 = model.predict(features_valid_3)"
   ]
  },
  {
   "cell_type": "markdown",
   "metadata": {},
   "source": [
    "Средний запас предсказанного сырья"
   ]
  },
  {
   "cell_type": "code",
   "execution_count": 25,
   "metadata": {},
   "outputs": [
    {
     "data": {
      "text/plain": [
       "94.77102387765939"
      ]
     },
     "execution_count": 25,
     "metadata": {},
     "output_type": "execute_result"
    }
   ],
   "source": [
    "predict_3.mean()"
   ]
  },
  {
   "cell_type": "markdown",
   "metadata": {},
   "source": [
    "RMSE модели"
   ]
  },
  {
   "cell_type": "code",
   "execution_count": 26,
   "metadata": {},
   "outputs": [
    {
     "data": {
      "text/plain": [
       "40.145872311342174"
      ]
     },
     "execution_count": 26,
     "metadata": {},
     "output_type": "execute_result"
    }
   ],
   "source": [
    "mean_squared_error(target_valid_3, predict_3)**0.5"
   ]
  },
  {
   "cell_type": "markdown",
   "metadata": {},
   "source": [
    "### Выводы"
   ]
  },
  {
   "cell_type": "markdown",
   "metadata": {},
   "source": [
    "Наибольший средний запас предсказанного сырья принадлежит третьему региону, но при этом RMSE у модели третьего региона наибольшая. Наименьший запас предсказанного сырья принадлежит второму региону, но при этом RMSE у модели второго региона принимает наименьшее значение и ничтожно мало по сравнению с RMSE других двух регионов."
   ]
  },
  {
   "cell_type": "markdown",
   "metadata": {},
   "source": [
    "## Подготовка к расчету прибыли"
   ]
  },
  {
   "cell_type": "markdown",
   "metadata": {},
   "source": [
    "Сохраним все ключевые значения для расчётов в отдельных переменных"
   ]
  },
  {
   "cell_type": "code",
   "execution_count": 27,
   "metadata": {},
   "outputs": [],
   "source": [
    "POINTS = 500\n",
    "TOTAL_BUDGET = 10e9\n",
    "ONE_POINT_COST = 50e6 # total_budget / 200\n",
    "BARREL_PROFIT = 450\n",
    "BOOTSTRAP_SAMPLES = 1000"
   ]
  },
  {
   "cell_type": "markdown",
   "metadata": {},
   "source": [
    "Рассчитаем минимальный объём сырья для безубыточной разработки новой скважины"
   ]
  },
  {
   "cell_type": "code",
   "execution_count": 28,
   "metadata": {},
   "outputs": [
    {
     "data": {
      "text/plain": [
       "111.11111111111111"
      ]
     },
     "execution_count": 28,
     "metadata": {},
     "output_type": "execute_result"
    }
   ],
   "source": [
    "min_barrels = ONE_POINT_COST / (BARREL_PROFIT * 1000)\n",
    "min_barrels"
   ]
  },
  {
   "cell_type": "markdown",
   "metadata": {},
   "source": [
    "Данный объем больше средних запасов сырья в каждом регионе (92.4, 68.7, 94.7)"
   ]
  },
  {
   "cell_type": "markdown",
   "metadata": {},
   "source": [
    "## Расчёт прибыли и рисков "
   ]
  },
  {
   "cell_type": "markdown",
   "metadata": {},
   "source": [
    "Функция для расчета прибыли"
   ]
  },
  {
   "cell_type": "code",
   "execution_count": 45,
   "metadata": {},
   "outputs": [],
   "source": [
    "def profit(target, prediction, count):\n",
    "    top = prediction.sort_values(ascending=False).head(count)\n",
    "    total_profit = (target.loc[top.index] * BARREL_PROFIT * 1000).sum()\n",
    "    return total_profit - (ONE_POINT_COST * count)"
   ]
  },
  {
   "cell_type": "markdown",
   "metadata": {},
   "source": [
    "Далее необходимо посчитать прибыль и риски для каждого региона"
   ]
  },
  {
   "cell_type": "markdown",
   "metadata": {},
   "source": [
    "### Первый регион"
   ]
  },
  {
   "cell_type": "code",
   "execution_count": 46,
   "metadata": {},
   "outputs": [],
   "source": [
    "values_1 = list()\n",
    "predict_1 = pd.Series(predict_1)\n",
    "predict_1.index = target_valid_1.index\n",
    "state = np.random.RandomState(42)\n",
    "for i in range(BOOTSTRAP_SAMPLES):\n",
    "    target_subsample = target_valid_1.sample(POINTS, random_state=state)\n",
    "    prediction_subsample = predict_1.loc[target_subsample.index]\n",
    "    values_1.append(profit(target_subsample, prediction_subsample, 200))\n",
    "values_1 = pd.Series(values_1)"
   ]
  },
  {
   "cell_type": "markdown",
   "metadata": {},
   "source": [
    "Средняя прибыль"
   ]
  },
  {
   "cell_type": "code",
   "execution_count": 47,
   "metadata": {},
   "outputs": [
    {
     "data": {
      "text/plain": [
       "408515053.8838972"
      ]
     },
     "execution_count": 47,
     "metadata": {},
     "output_type": "execute_result"
    }
   ],
   "source": [
    "values_1.mean()"
   ]
  },
  {
   "cell_type": "markdown",
   "metadata": {},
   "source": [
    "Риск убытков"
   ]
  },
  {
   "cell_type": "code",
   "execution_count": 48,
   "metadata": {},
   "outputs": [
    {
     "data": {
      "text/plain": [
       "0.074"
      ]
     },
     "execution_count": 48,
     "metadata": {},
     "output_type": "execute_result"
    }
   ],
   "source": [
    "values_1[values_1<0].count() / values_1.count()"
   ]
  },
  {
   "cell_type": "markdown",
   "metadata": {},
   "source": [
    "95% доверительный интервал"
   ]
  },
  {
   "cell_type": "code",
   "execution_count": 49,
   "metadata": {},
   "outputs": [
    {
     "name": "stdout",
     "output_type": "stream",
     "text": [
      "Доверительный интервал: -138678493.88196227, 952414908.4140624\n"
     ]
    }
   ],
   "source": [
    "lower_1 = values_1.quantile(0.025)\n",
    "upper_1 = values_1.quantile(0.975)\n",
    "print(f'Доверительный интервал: {lower_1}, {upper_1}')"
   ]
  },
  {
   "cell_type": "markdown",
   "metadata": {},
   "source": [
    "### Второй регион"
   ]
  },
  {
   "cell_type": "code",
   "execution_count": 34,
   "metadata": {},
   "outputs": [],
   "source": [
    "values_2 = list()\n",
    "predict_2 = pd.Series(predict_2)\n",
    "predict_2.index = target_valid_2.index\n",
    "state = np.random.RandomState(42)\n",
    "for i in range(BOOTSTRAP_SAMPLES):\n",
    "    target_subsample = target_valid_2.sample(POINTS, random_state=state)\n",
    "    prediction_subsample = predict_2.loc[target_subsample.index]\n",
    "    values_2.append(profit(target_subsample, prediction_subsample, 200))\n",
    "values_2 = pd.Series(values_2)"
   ]
  },
  {
   "cell_type": "markdown",
   "metadata": {},
   "source": [
    "Средняя прибыль"
   ]
  },
  {
   "cell_type": "code",
   "execution_count": 35,
   "metadata": {},
   "outputs": [
    {
     "data": {
      "text/plain": [
       "441672839.14009184"
      ]
     },
     "execution_count": 35,
     "metadata": {},
     "output_type": "execute_result"
    }
   ],
   "source": [
    "values_2.mean()"
   ]
  },
  {
   "cell_type": "markdown",
   "metadata": {},
   "source": [
    "Риск убытков"
   ]
  },
  {
   "cell_type": "code",
   "execution_count": 36,
   "metadata": {},
   "outputs": [
    {
     "data": {
      "text/plain": [
       "0.022"
      ]
     },
     "execution_count": 36,
     "metadata": {},
     "output_type": "execute_result"
    }
   ],
   "source": [
    "values_2[values_2<0].count() / values_2.count()"
   ]
  },
  {
   "cell_type": "markdown",
   "metadata": {},
   "source": [
    "95% доверительный интервал"
   ]
  },
  {
   "cell_type": "code",
   "execution_count": 37,
   "metadata": {},
   "outputs": [
    {
     "name": "stdout",
     "output_type": "stream",
     "text": [
      "Доверительный интервал: 15291179.10368758, 831000005.9747208\n"
     ]
    }
   ],
   "source": [
    "lower_2 = values_2.quantile(0.025)\n",
    "upper_2 = values_2.quantile(0.975)\n",
    "print(f'Доверительный интервал: {lower_2}, {upper_2}')"
   ]
  },
  {
   "cell_type": "markdown",
   "metadata": {},
   "source": [
    "### Третий регион"
   ]
  },
  {
   "cell_type": "code",
   "execution_count": 38,
   "metadata": {},
   "outputs": [],
   "source": [
    "values_3 = list()\n",
    "predict_3 = pd.Series(predict_3)\n",
    "predict_3.index = target_valid_3.index\n",
    "state = np.random.RandomState(42)\n",
    "for i in range(BOOTSTRAP_SAMPLES):\n",
    "    target_subsample = target_valid_3.sample(POINTS, random_state=state)\n",
    "    prediction_subsample = predict_3.loc[target_subsample.index]\n",
    "    values_3.append(profit(target_subsample, prediction_subsample, 200))\n",
    "values_3 = pd.Series(values_3)"
   ]
  },
  {
   "cell_type": "markdown",
   "metadata": {},
   "source": [
    "Средняя прибыль"
   ]
  },
  {
   "cell_type": "code",
   "execution_count": 39,
   "metadata": {},
   "outputs": [
    {
     "data": {
      "text/plain": [
       "378388183.0015765"
      ]
     },
     "execution_count": 39,
     "metadata": {},
     "output_type": "execute_result"
    }
   ],
   "source": [
    "values_3.mean()"
   ]
  },
  {
   "cell_type": "markdown",
   "metadata": {},
   "source": [
    "Риск убытков"
   ]
  },
  {
   "cell_type": "code",
   "execution_count": 40,
   "metadata": {},
   "outputs": [
    {
     "data": {
      "text/plain": [
       "0.078"
      ]
     },
     "execution_count": 40,
     "metadata": {},
     "output_type": "execute_result"
    }
   ],
   "source": [
    "values_3[values_3<0].count() / values_3.count()"
   ]
  },
  {
   "cell_type": "markdown",
   "metadata": {},
   "source": [
    "95% доверительный интервал"
   ]
  },
  {
   "cell_type": "code",
   "execution_count": 41,
   "metadata": {},
   "outputs": [
    {
     "name": "stdout",
     "output_type": "stream",
     "text": [
      "Доверительный интервал: -152715001.72096324, 874058317.5983077\n"
     ]
    }
   ],
   "source": [
    "lower_3 = values_3.quantile(0.025)\n",
    "upper_3 = values_3.quantile(0.975)\n",
    "print(f'Доверительный интервал: {lower_3}, {upper_3}')"
   ]
  },
  {
   "cell_type": "markdown",
   "metadata": {},
   "source": [
    "### Выводы"
   ]
  },
  {
   "cell_type": "markdown",
   "metadata": {},
   "source": [
    "Построим гистограммы для каждого региона для бОльшей наглядности"
   ]
  },
  {
   "cell_type": "code",
   "execution_count": 42,
   "metadata": {
    "scrolled": true
   },
   "outputs": [
    {
     "data": {
      "image/png": "[encoded data removed]",
      "text/plain": [
       "<Figure size 432x288 with 1 Axes>"
      ]
     },
     "metadata": {
      "needs_background": "light"
     },
     "output_type": "display_data"
    }
   ],
   "source": [
    "values = [values_1, values_2, values_3]\n",
    "for i in range(1, len(values)+1):\n",
    "    sns.distplot(values[i-1], label=f'регион {i}')\n",
    "    plt.legend(title='Bootstrap distribution')"
   ]
  },
  {
   "cell_type": "markdown",
   "metadata": {},
   "source": [
    "Исходя из полученных данных, я бы выбрал 2 регион, так как в нем самая высокая средняя прибыть, самый узкий 95% доверительный интервал и наименьший риск убытков. Также, это единственный регион, в котором риск убытков не превышает порог в 2.5%"
   ]
  }
 ],
 "metadata": {
  "ExecuteTimeLog": [
   {
    "duration": 740,
    "start_time": "2022-01-31T14:12:43.592Z"
   },
   {
    "duration": 499,
    "start_time": "2022-01-31T14:13:33.674Z"
   },
   {
    "duration": 1097,
    "start_time": "2022-01-31T14:13:42.312Z"
   },
   {
    "duration": 174,
    "start_time": "2022-01-31T14:14:32.977Z"
   },
   {
    "duration": 1183,
    "start_time": "2022-01-31T14:14:50.759Z"
   },
   {
    "duration": 869,
    "start_time": "2022-01-31T14:15:03.799Z"
   },
   {
    "duration": 13,
    "start_time": "2022-01-31T14:15:56.940Z"
   },
   {
    "duration": 383,
    "start_time": "2022-01-31T14:16:18.495Z"
   },
   {
    "duration": 14,
    "start_time": "2022-01-31T14:16:29.945Z"
   },
   {
    "duration": 65,
    "start_time": "2022-01-31T14:16:52.861Z"
   },
   {
    "duration": 14,
    "start_time": "2022-01-31T14:17:08.228Z"
   },
   {
    "duration": 58,
    "start_time": "2022-01-31T14:17:11.842Z"
   },
   {
    "duration": 13,
    "start_time": "2022-01-31T14:17:15.391Z"
   },
   {
    "duration": 61,
    "start_time": "2022-01-31T14:17:19.714Z"
   },
   {
    "duration": 3,
    "start_time": "2022-01-31T14:20:07.694Z"
   },
   {
    "duration": 1022,
    "start_time": "2022-01-31T14:20:15.618Z"
   },
   {
    "duration": 13,
    "start_time": "2022-01-31T14:20:22.418Z"
   },
   {
    "duration": 3,
    "start_time": "2022-01-31T14:20:54.628Z"
   },
   {
    "duration": 75,
    "start_time": "2022-01-31T14:20:55.475Z"
   },
   {
    "duration": 4,
    "start_time": "2022-01-31T14:21:14.221Z"
   },
   {
    "duration": 13,
    "start_time": "2022-01-31T14:21:14.557Z"
   },
   {
    "duration": 4,
    "start_time": "2022-01-31T14:21:17.762Z"
   },
   {
    "duration": 66,
    "start_time": "2022-01-31T14:21:20.578Z"
   },
   {
    "duration": 4,
    "start_time": "2022-01-31T14:22:08.293Z"
   },
   {
    "duration": 66,
    "start_time": "2022-01-31T14:22:09.230Z"
   },
   {
    "duration": 3,
    "start_time": "2022-01-31T14:22:36.914Z"
   },
   {
    "duration": 67,
    "start_time": "2022-01-31T14:22:37.295Z"
   },
   {
    "duration": 4,
    "start_time": "2022-01-31T14:22:49.484Z"
   },
   {
    "duration": 69,
    "start_time": "2022-01-31T14:22:49.772Z"
   },
   {
    "duration": 4,
    "start_time": "2022-01-31T14:23:18.685Z"
   },
   {
    "duration": 92,
    "start_time": "2022-01-31T14:23:19.051Z"
   },
   {
    "duration": 4,
    "start_time": "2022-01-31T14:23:32.187Z"
   },
   {
    "duration": 69,
    "start_time": "2022-01-31T14:23:32.637Z"
   },
   {
    "duration": 5,
    "start_time": "2022-01-31T14:23:37.174Z"
   },
   {
    "duration": 67,
    "start_time": "2022-01-31T14:23:38.481Z"
   },
   {
    "duration": 4,
    "start_time": "2022-01-31T14:23:45.212Z"
   },
   {
    "duration": 68,
    "start_time": "2022-01-31T14:23:45.485Z"
   },
   {
    "duration": 6,
    "start_time": "2022-01-31T14:23:57.829Z"
   },
   {
    "duration": 69,
    "start_time": "2022-01-31T14:23:58.044Z"
   },
   {
    "duration": 5,
    "start_time": "2022-01-31T14:24:35.624Z"
   },
   {
    "duration": 71,
    "start_time": "2022-01-31T14:24:36.145Z"
   },
   {
    "duration": 4,
    "start_time": "2022-01-31T14:25:13.093Z"
   },
   {
    "duration": 70,
    "start_time": "2022-01-31T14:25:13.311Z"
   },
   {
    "duration": 5,
    "start_time": "2022-01-31T14:26:33.968Z"
   },
   {
    "duration": 75,
    "start_time": "2022-01-31T14:26:34.354Z"
   },
   {
    "duration": 5,
    "start_time": "2022-01-31T14:27:02.466Z"
   },
   {
    "duration": 74,
    "start_time": "2022-01-31T14:27:03.639Z"
   },
   {
    "duration": 5,
    "start_time": "2022-01-31T14:28:31.730Z"
   },
   {
    "duration": 69,
    "start_time": "2022-01-31T14:28:32.090Z"
   },
   {
    "duration": 7,
    "start_time": "2022-01-31T14:28:52.839Z"
   },
   {
    "duration": 5,
    "start_time": "2022-01-31T14:28:54.763Z"
   },
   {
    "duration": 70,
    "start_time": "2022-01-31T14:28:56.564Z"
   },
   {
    "duration": 6,
    "start_time": "2022-01-31T14:29:43.478Z"
   },
   {
    "duration": 68,
    "start_time": "2022-01-31T14:29:43.811Z"
   },
   {
    "duration": 5,
    "start_time": "2022-01-31T14:30:02.357Z"
   },
   {
    "duration": 68,
    "start_time": "2022-01-31T14:30:02.600Z"
   },
   {
    "duration": 5,
    "start_time": "2022-01-31T14:30:17.536Z"
   },
   {
    "duration": 69,
    "start_time": "2022-01-31T14:30:17.809Z"
   },
   {
    "duration": 6,
    "start_time": "2022-01-31T14:30:34.811Z"
   },
   {
    "duration": 73,
    "start_time": "2022-01-31T14:30:35.106Z"
   },
   {
    "duration": 7,
    "start_time": "2022-01-31T14:31:54.556Z"
   },
   {
    "duration": 1458,
    "start_time": "2022-01-31T14:31:55.068Z"
   },
   {
    "duration": 6,
    "start_time": "2022-01-31T14:32:14.648Z"
   },
   {
    "duration": 80,
    "start_time": "2022-01-31T14:32:14.952Z"
   },
   {
    "duration": 13,
    "start_time": "2022-01-31T14:35:17.632Z"
   },
   {
    "duration": 915,
    "start_time": "2022-01-31T14:35:54.257Z"
   },
   {
    "duration": 70,
    "start_time": "2022-01-31T14:36:00.219Z"
   },
   {
    "duration": 774,
    "start_time": "2022-01-31T14:36:16.401Z"
   },
   {
    "duration": 6,
    "start_time": "2022-01-31T14:36:20.846Z"
   },
   {
    "duration": 13,
    "start_time": "2022-01-31T14:36:47.102Z"
   },
   {
    "duration": 59,
    "start_time": "2022-01-31T14:36:52.240Z"
   },
   {
    "duration": 6,
    "start_time": "2022-01-31T14:36:57.365Z"
   },
   {
    "duration": 7,
    "start_time": "2022-01-31T14:37:53.219Z"
   },
   {
    "duration": 13,
    "start_time": "2022-01-31T14:37:55.465Z"
   },
   {
    "duration": 65,
    "start_time": "2022-01-31T14:37:55.663Z"
   },
   {
    "duration": 6,
    "start_time": "2022-01-31T14:37:55.873Z"
   },
   {
    "duration": 3,
    "start_time": "2022-01-31T15:08:07.401Z"
   },
   {
    "duration": 797,
    "start_time": "2022-01-31T15:08:07.407Z"
   },
   {
    "duration": 207,
    "start_time": "2022-01-31T15:08:08.207Z"
   },
   {
    "duration": 262,
    "start_time": "2022-01-31T15:08:08.418Z"
   },
   {
    "duration": 12,
    "start_time": "2022-01-31T15:08:08.682Z"
   },
   {
    "duration": 90,
    "start_time": "2022-01-31T15:08:08.697Z"
   },
   {
    "duration": 6,
    "start_time": "2022-01-31T15:08:08.789Z"
   },
   {
    "duration": 16,
    "start_time": "2022-01-31T15:08:08.797Z"
   },
   {
    "duration": 87,
    "start_time": "2022-01-31T15:08:08.816Z"
   },
   {
    "duration": 7,
    "start_time": "2022-01-31T15:08:08.905Z"
   },
   {
    "duration": 16,
    "start_time": "2022-01-31T15:08:08.915Z"
   },
   {
    "duration": 84,
    "start_time": "2022-01-31T15:08:08.959Z"
   },
   {
    "duration": 20,
    "start_time": "2022-01-31T15:08:09.046Z"
   },
   {
    "duration": 632,
    "start_time": "2022-01-31T15:10:50.659Z"
   },
   {
    "duration": 22,
    "start_time": "2022-01-31T15:20:21.887Z"
   },
   {
    "duration": 24,
    "start_time": "2022-01-31T15:23:31.117Z"
   },
   {
    "duration": 5,
    "start_time": "2022-01-31T15:23:41.096Z"
   },
   {
    "duration": 161,
    "start_time": "2022-01-31T15:23:53.322Z"
   },
   {
    "duration": 9,
    "start_time": "2022-01-31T15:34:16.780Z"
   },
   {
    "duration": 1190,
    "start_time": "2022-01-31T15:35:29.323Z"
   },
   {
    "duration": 9,
    "start_time": "2022-01-31T15:35:34.413Z"
   },
   {
    "duration": 13,
    "start_time": "2022-01-31T15:36:59.917Z"
   },
   {
    "duration": 6,
    "start_time": "2022-01-31T15:37:36.134Z"
   },
   {
    "duration": 9,
    "start_time": "2022-01-31T15:37:42.841Z"
   },
   {
    "duration": 14,
    "start_time": "2022-01-31T15:38:25.540Z"
   },
   {
    "duration": 26,
    "start_time": "2022-01-31T15:45:06.853Z"
   },
   {
    "duration": 6,
    "start_time": "2022-01-31T15:45:19.618Z"
   },
   {
    "duration": 5,
    "start_time": "2022-01-31T15:45:25.988Z"
   },
   {
    "duration": 5,
    "start_time": "2022-01-31T15:45:36.088Z"
   },
   {
    "duration": 6,
    "start_time": "2022-01-31T15:45:42.651Z"
   },
   {
    "duration": 5,
    "start_time": "2022-01-31T15:45:49.694Z"
   },
   {
    "duration": 4,
    "start_time": "2022-01-31T15:45:52.707Z"
   },
   {
    "duration": 23,
    "start_time": "2022-01-31T15:48:51.151Z"
   },
   {
    "duration": 4,
    "start_time": "2022-01-31T15:51:01.011Z"
   },
   {
    "duration": 15,
    "start_time": "2022-01-31T15:51:41.779Z"
   },
   {
    "duration": 7,
    "start_time": "2022-01-31T15:52:17.004Z"
   },
   {
    "duration": 384,
    "start_time": "2022-01-31T15:52:29.746Z"
   },
   {
    "duration": 515,
    "start_time": "2022-01-31T15:52:52.414Z"
   },
   {
    "duration": 382,
    "start_time": "2022-01-31T15:53:36.450Z"
   },
   {
    "duration": 6,
    "start_time": "2022-01-31T15:53:42.347Z"
   },
   {
    "duration": 531,
    "start_time": "2022-01-31T15:54:48.174Z"
   },
   {
    "duration": 15,
    "start_time": "2022-01-31T15:54:51.488Z"
   },
   {
    "duration": 7,
    "start_time": "2022-01-31T15:55:33.530Z"
   },
   {
    "duration": 7,
    "start_time": "2022-01-31T15:56:16.081Z"
   },
   {
    "duration": 9,
    "start_time": "2022-01-31T15:56:35.942Z"
   },
   {
    "duration": 398,
    "start_time": "2022-01-31T15:56:55.224Z"
   },
   {
    "duration": 6,
    "start_time": "2022-01-31T15:57:06.032Z"
   },
   {
    "duration": 1458,
    "start_time": "2022-02-01T11:36:01.786Z"
   },
   {
    "duration": 232,
    "start_time": "2022-02-01T11:36:03.247Z"
   },
   {
    "duration": 220,
    "start_time": "2022-02-01T11:36:03.482Z"
   },
   {
    "duration": 237,
    "start_time": "2022-02-01T11:36:03.704Z"
   },
   {
    "duration": 20,
    "start_time": "2022-02-01T11:36:03.944Z"
   },
   {
    "duration": 100,
    "start_time": "2022-02-01T11:36:03.967Z"
   },
   {
    "duration": 8,
    "start_time": "2022-02-01T11:36:04.070Z"
   },
   {
    "duration": 16,
    "start_time": "2022-02-01T11:36:04.082Z"
   },
   {
    "duration": 93,
    "start_time": "2022-02-01T11:36:04.101Z"
   },
   {
    "duration": 7,
    "start_time": "2022-02-01T11:36:04.196Z"
   },
   {
    "duration": 42,
    "start_time": "2022-02-01T11:36:04.205Z"
   },
   {
    "duration": 96,
    "start_time": "2022-02-01T11:36:04.250Z"
   },
   {
    "duration": 7,
    "start_time": "2022-02-01T11:36:04.349Z"
   },
   {
    "duration": 14,
    "start_time": "2022-02-01T11:36:04.359Z"
   },
   {
    "duration": 48,
    "start_time": "2022-02-01T11:36:04.376Z"
   },
   {
    "duration": 22,
    "start_time": "2022-02-01T11:36:04.427Z"
   },
   {
    "duration": 20,
    "start_time": "2022-02-01T11:36:04.451Z"
   },
   {
    "duration": 19,
    "start_time": "2022-02-01T11:36:04.530Z"
   },
   {
    "duration": 88,
    "start_time": "2022-02-01T11:36:04.553Z"
   },
   {
    "duration": 34,
    "start_time": "2022-02-01T11:37:19.249Z"
   },
   {
    "duration": 6,
    "start_time": "2022-02-01T11:37:24.612Z"
   },
   {
    "duration": 9,
    "start_time": "2022-02-01T11:38:46.441Z"
   },
   {
    "duration": 585,
    "start_time": "2022-02-01T11:39:04.441Z"
   },
   {
    "duration": 366,
    "start_time": "2022-02-01T11:39:21.498Z"
   },
   {
    "duration": 9,
    "start_time": "2022-02-01T11:39:30.549Z"
   },
   {
    "duration": 7,
    "start_time": "2022-02-01T11:40:37.815Z"
   },
   {
    "duration": 6,
    "start_time": "2022-02-01T11:40:59.152Z"
   },
   {
    "duration": 21,
    "start_time": "2022-02-01T11:43:11.749Z"
   },
   {
    "duration": 18,
    "start_time": "2022-02-01T11:43:35.301Z"
   },
   {
    "duration": 6,
    "start_time": "2022-02-01T11:43:38.578Z"
   },
   {
    "duration": 6,
    "start_time": "2022-02-01T11:43:41.785Z"
   },
   {
    "duration": 7,
    "start_time": "2022-02-01T11:43:51.592Z"
   },
   {
    "duration": 7,
    "start_time": "2022-02-01T11:44:04.111Z"
   },
   {
    "duration": 16,
    "start_time": "2022-02-01T11:44:13.985Z"
   },
   {
    "duration": 7,
    "start_time": "2022-02-01T11:44:15.149Z"
   },
   {
    "duration": 7,
    "start_time": "2022-02-01T11:44:16.917Z"
   },
   {
    "duration": 19,
    "start_time": "2022-02-01T11:44:38.359Z"
   },
   {
    "duration": 25,
    "start_time": "2022-02-01T11:45:01.071Z"
   },
   {
    "duration": 8,
    "start_time": "2022-02-01T11:45:02.326Z"
   },
   {
    "duration": 8,
    "start_time": "2022-02-01T11:45:19.604Z"
   },
   {
    "duration": 21,
    "start_time": "2022-02-01T11:45:35.766Z"
   },
   {
    "duration": 7,
    "start_time": "2022-02-01T11:45:36.826Z"
   },
   {
    "duration": 10,
    "start_time": "2022-02-01T11:45:38.452Z"
   },
   {
    "duration": 19,
    "start_time": "2022-02-01T11:45:44.138Z"
   },
   {
    "duration": 11,
    "start_time": "2022-02-01T11:45:44.937Z"
   },
   {
    "duration": 8,
    "start_time": "2022-02-01T11:45:46.791Z"
   },
   {
    "duration": 33,
    "start_time": "2022-02-01T11:45:49.332Z"
   },
   {
    "duration": 55,
    "start_time": "2022-02-01T11:45:49.877Z"
   },
   {
    "duration": 8,
    "start_time": "2022-02-01T11:45:50.949Z"
   },
   {
    "duration": 8,
    "start_time": "2022-02-01T11:45:52.421Z"
   },
   {
    "duration": 577,
    "start_time": "2022-02-01T11:46:38.607Z"
   },
   {
    "duration": 352,
    "start_time": "2022-02-01T11:46:47.060Z"
   },
   {
    "duration": 335,
    "start_time": "2022-02-01T11:46:54.270Z"
   },
   {
    "duration": 18,
    "start_time": "2022-02-01T11:48:10.289Z"
   },
   {
    "duration": 38,
    "start_time": "2022-02-01T11:48:29.628Z"
   },
   {
    "duration": 6,
    "start_time": "2022-02-01T11:48:31.702Z"
   },
   {
    "duration": 7,
    "start_time": "2022-02-01T11:48:47.147Z"
   },
   {
    "duration": 6,
    "start_time": "2022-02-01T12:36:14.792Z"
   },
   {
    "duration": 11,
    "start_time": "2022-02-01T12:36:21.349Z"
   },
   {
    "duration": 8,
    "start_time": "2022-02-01T12:36:22.453Z"
   },
   {
    "duration": 436,
    "start_time": "2022-02-01T12:40:46.703Z"
   },
   {
    "duration": 24,
    "start_time": "2022-02-01T12:40:53.153Z"
   },
   {
    "duration": 6,
    "start_time": "2022-02-01T12:40:54.176Z"
   },
   {
    "duration": 7,
    "start_time": "2022-02-01T12:40:55.157Z"
   },
   {
    "duration": 31,
    "start_time": "2022-02-01T12:40:57.908Z"
   },
   {
    "duration": 25,
    "start_time": "2022-02-01T12:41:07.004Z"
   },
   {
    "duration": 6,
    "start_time": "2022-02-01T12:41:08.069Z"
   },
   {
    "duration": 7,
    "start_time": "2022-02-01T12:41:12.796Z"
   },
   {
    "duration": 35,
    "start_time": "2022-02-01T12:41:37.325Z"
   },
   {
    "duration": 6,
    "start_time": "2022-02-01T12:41:43.674Z"
   },
   {
    "duration": 8,
    "start_time": "2022-02-01T12:41:49.629Z"
   },
   {
    "duration": 5,
    "start_time": "2022-02-01T12:51:04.693Z"
   },
   {
    "duration": 6,
    "start_time": "2022-02-01T12:51:13.635Z"
   },
   {
    "duration": 5,
    "start_time": "2022-02-01T12:51:18.002Z"
   },
   {
    "duration": 5,
    "start_time": "2022-02-01T13:04:02.484Z"
   },
   {
    "duration": 4,
    "start_time": "2022-02-01T13:51:58.179Z"
   },
   {
    "duration": 4,
    "start_time": "2022-02-01T13:52:02.776Z"
   },
   {
    "duration": 4,
    "start_time": "2022-02-01T14:10:38.924Z"
   },
   {
    "duration": 14,
    "start_time": "2022-02-01T14:41:09.908Z"
   },
   {
    "duration": 5,
    "start_time": "2022-02-01T14:42:40.970Z"
   },
   {
    "duration": 4,
    "start_time": "2022-02-01T14:45:35.513Z"
   },
   {
    "duration": 5,
    "start_time": "2022-02-01T14:45:36.471Z"
   },
   {
    "duration": 5,
    "start_time": "2022-02-01T14:47:18.502Z"
   },
   {
    "duration": 6,
    "start_time": "2022-02-01T14:47:19.000Z"
   },
   {
    "duration": 5,
    "start_time": "2022-02-01T14:47:33.669Z"
   },
   {
    "duration": 8,
    "start_time": "2022-02-01T15:25:24.441Z"
   },
   {
    "duration": 4,
    "start_time": "2022-02-01T15:27:29.255Z"
   },
   {
    "duration": 93,
    "start_time": "2022-02-01T15:29:00.648Z"
   },
   {
    "duration": 1370,
    "start_time": "2022-02-01T21:45:10.251Z"
   },
   {
    "duration": 196,
    "start_time": "2022-02-01T21:45:11.624Z"
   },
   {
    "duration": 182,
    "start_time": "2022-02-01T21:45:11.823Z"
   },
   {
    "duration": 193,
    "start_time": "2022-02-01T21:45:12.007Z"
   },
   {
    "duration": 12,
    "start_time": "2022-02-01T21:45:12.202Z"
   },
   {
    "duration": 96,
    "start_time": "2022-02-01T21:45:12.216Z"
   },
   {
    "duration": 6,
    "start_time": "2022-02-01T21:45:12.314Z"
   },
   {
    "duration": 28,
    "start_time": "2022-02-01T21:45:12.322Z"
   },
   {
    "duration": 79,
    "start_time": "2022-02-01T21:45:12.359Z"
   },
   {
    "duration": 10,
    "start_time": "2022-02-01T21:45:12.442Z"
   },
   {
    "duration": 24,
    "start_time": "2022-02-01T21:45:12.455Z"
   },
   {
    "duration": 87,
    "start_time": "2022-02-01T21:45:12.481Z"
   },
   {
    "duration": 7,
    "start_time": "2022-02-01T21:45:12.571Z"
   },
   {
    "duration": 12,
    "start_time": "2022-02-01T21:45:12.581Z"
   },
   {
    "duration": 40,
    "start_time": "2022-02-01T21:45:12.596Z"
   },
   {
    "duration": 27,
    "start_time": "2022-02-01T21:45:12.640Z"
   },
   {
    "duration": 128,
    "start_time": "2022-02-01T21:45:12.733Z"
   },
   {
    "duration": 14,
    "start_time": "2022-02-01T21:45:12.863Z"
   },
   {
    "duration": 21,
    "start_time": "2022-02-01T21:45:12.880Z"
   },
   {
    "duration": 48,
    "start_time": "2022-02-01T21:45:12.903Z"
   },
   {
    "duration": 81,
    "start_time": "2022-02-01T21:45:12.955Z"
   },
   {
    "duration": 37,
    "start_time": "2022-02-01T21:45:13.039Z"
   },
   {
    "duration": 43,
    "start_time": "2022-02-01T21:45:13.132Z"
   },
   {
    "duration": 58,
    "start_time": "2022-02-01T21:45:13.178Z"
   },
   {
    "duration": 6,
    "start_time": "2022-02-01T21:45:13.239Z"
   },
   {
    "duration": 110,
    "start_time": "2022-02-01T21:45:13.248Z"
   },
   {
    "duration": 7,
    "start_time": "2022-02-01T21:45:13.363Z"
   },
   {
    "duration": 10,
    "start_time": "2022-02-01T21:45:13.372Z"
   },
   {
    "duration": 8,
    "start_time": "2022-02-01T21:45:13.384Z"
   },
   {
    "duration": 4,
    "start_time": "2022-02-01T22:04:21.112Z"
   },
   {
    "duration": 391,
    "start_time": "2022-02-01T22:20:44.084Z"
   },
   {
    "duration": 250,
    "start_time": "2022-02-01T22:20:49.411Z"
   },
   {
    "duration": 6,
    "start_time": "2022-02-01T22:20:58.197Z"
   },
   {
    "duration": 6,
    "start_time": "2022-02-01T22:21:08.389Z"
   },
   {
    "duration": 5,
    "start_time": "2022-02-01T22:21:16.644Z"
   },
   {
    "duration": 259,
    "start_time": "2022-02-01T22:24:06.775Z"
   },
   {
    "duration": 5,
    "start_time": "2022-02-01T22:24:36.275Z"
   },
   {
    "duration": 8,
    "start_time": "2022-02-01T22:24:53.354Z"
   },
   {
    "duration": 5,
    "start_time": "2022-02-01T22:25:06.420Z"
   },
   {
    "duration": 7,
    "start_time": "2022-02-01T22:25:13.706Z"
   },
   {
    "duration": 3622,
    "start_time": "2022-02-01T22:25:55.055Z"
   },
   {
    "duration": 7,
    "start_time": "2022-02-01T22:26:06.424Z"
   },
   {
    "duration": 5,
    "start_time": "2022-02-01T22:26:12.967Z"
   },
   {
    "duration": 11,
    "start_time": "2022-02-01T22:26:39.670Z"
   },
   {
    "duration": 5,
    "start_time": "2022-02-01T22:27:12.545Z"
   },
   {
    "duration": 4,
    "start_time": "2022-02-01T22:32:13.264Z"
   },
   {
    "duration": 260,
    "start_time": "2022-02-01T22:33:45.971Z"
   },
   {
    "duration": 8,
    "start_time": "2022-02-01T22:34:16.718Z"
   },
   {
    "duration": 11,
    "start_time": "2022-02-01T22:34:49.084Z"
   },
   {
    "duration": 8,
    "start_time": "2022-02-01T22:35:23.917Z"
   },
   {
    "duration": 3451,
    "start_time": "2022-02-01T22:37:08.494Z"
   },
   {
    "duration": 7,
    "start_time": "2022-02-01T22:37:13.147Z"
   },
   {
    "duration": 3618,
    "start_time": "2022-02-01T22:37:28.945Z"
   },
   {
    "duration": 3256,
    "start_time": "2022-02-01T22:37:48.821Z"
   },
   {
    "duration": 7,
    "start_time": "2022-02-01T22:37:54.150Z"
   },
   {
    "duration": 5,
    "start_time": "2022-02-01T22:38:58.896Z"
   },
   {
    "duration": 3332,
    "start_time": "2022-02-01T22:39:01.158Z"
   },
   {
    "duration": 6,
    "start_time": "2022-02-01T22:39:07.466Z"
   },
   {
    "duration": 5,
    "start_time": "2022-02-01T22:40:32.738Z"
   },
   {
    "duration": 3297,
    "start_time": "2022-02-01T22:40:33.816Z"
   },
   {
    "duration": 7,
    "start_time": "2022-02-01T22:40:46.754Z"
   },
   {
    "duration": 7,
    "start_time": "2022-02-01T22:57:42.481Z"
   },
   {
    "duration": 3158,
    "start_time": "2022-02-01T22:59:01.808Z"
   },
   {
    "duration": 7,
    "start_time": "2022-02-01T22:59:04.994Z"
   },
   {
    "duration": 5,
    "start_time": "2022-02-01T22:59:51.974Z"
   },
   {
    "duration": 5,
    "start_time": "2022-02-01T23:00:01.875Z"
   },
   {
    "duration": 7,
    "start_time": "2022-02-01T23:01:11.268Z"
   },
   {
    "duration": 7,
    "start_time": "2022-02-01T23:02:07.493Z"
   },
   {
    "duration": 7,
    "start_time": "2022-02-01T23:02:16.613Z"
   },
   {
    "duration": 241,
    "start_time": "2022-02-01T23:02:39.334Z"
   },
   {
    "duration": 6,
    "start_time": "2022-02-01T23:02:42.252Z"
   },
   {
    "duration": 281,
    "start_time": "2022-02-01T23:03:04.278Z"
   },
   {
    "duration": 7,
    "start_time": "2022-02-01T23:03:09.523Z"
   },
   {
    "duration": 7,
    "start_time": "2022-02-01T23:03:12.288Z"
   },
   {
    "duration": 6,
    "start_time": "2022-02-01T23:03:19.446Z"
   },
   {
    "duration": 6,
    "start_time": "2022-02-01T23:05:03.817Z"
   },
   {
    "duration": 232,
    "start_time": "2022-02-01T23:05:09.944Z"
   },
   {
    "duration": 5,
    "start_time": "2022-02-01T23:05:13.757Z"
   },
   {
    "duration": 1332,
    "start_time": "2022-02-01T23:05:41.248Z"
   },
   {
    "duration": 185,
    "start_time": "2022-02-01T23:05:42.582Z"
   },
   {
    "duration": 166,
    "start_time": "2022-02-01T23:05:42.770Z"
   },
   {
    "duration": 164,
    "start_time": "2022-02-01T23:05:42.939Z"
   },
   {
    "duration": 13,
    "start_time": "2022-02-01T23:05:43.106Z"
   },
   {
    "duration": 70,
    "start_time": "2022-02-01T23:05:43.133Z"
   },
   {
    "duration": 7,
    "start_time": "2022-02-01T23:05:43.205Z"
   },
   {
    "duration": 17,
    "start_time": "2022-02-01T23:05:43.233Z"
   },
   {
    "duration": 84,
    "start_time": "2022-02-01T23:05:43.254Z"
   },
   {
    "duration": 8,
    "start_time": "2022-02-01T23:05:43.341Z"
   },
   {
    "duration": 16,
    "start_time": "2022-02-01T23:05:43.351Z"
   },
   {
    "duration": 95,
    "start_time": "2022-02-01T23:05:43.369Z"
   },
   {
    "duration": 6,
    "start_time": "2022-02-01T23:05:43.466Z"
   },
   {
    "duration": 15,
    "start_time": "2022-02-01T23:05:43.474Z"
   },
   {
    "duration": 43,
    "start_time": "2022-02-01T23:05:43.491Z"
   },
   {
    "duration": 27,
    "start_time": "2022-02-01T23:05:43.538Z"
   },
   {
    "duration": 89,
    "start_time": "2022-02-01T23:05:43.646Z"
   },
   {
    "duration": 17,
    "start_time": "2022-02-01T23:05:43.738Z"
   },
   {
    "duration": 20,
    "start_time": "2022-02-01T23:05:43.757Z"
   },
   {
    "duration": 59,
    "start_time": "2022-02-01T23:05:43.780Z"
   },
   {
    "duration": 89,
    "start_time": "2022-02-01T23:05:43.842Z"
   },
   {
    "duration": 11,
    "start_time": "2022-02-01T23:05:43.945Z"
   },
   {
    "duration": 21,
    "start_time": "2022-02-01T23:05:43.959Z"
   },
   {
    "duration": 60,
    "start_time": "2022-02-01T23:05:43.982Z"
   },
   {
    "duration": 97,
    "start_time": "2022-02-01T23:05:44.045Z"
   },
   {
    "duration": 10,
    "start_time": "2022-02-01T23:05:44.145Z"
   },
   {
    "duration": 13,
    "start_time": "2022-02-01T23:05:44.160Z"
   },
   {
    "duration": 13,
    "start_time": "2022-02-01T23:05:44.176Z"
   },
   {
    "duration": 8,
    "start_time": "2022-02-01T23:05:51.329Z"
   },
   {
    "duration": 388,
    "start_time": "2022-02-01T23:05:59.987Z"
   },
   {
    "duration": 5,
    "start_time": "2022-02-01T23:06:41.642Z"
   },
   {
    "duration": 235,
    "start_time": "2022-02-01T23:06:48.287Z"
   },
   {
    "duration": 5,
    "start_time": "2022-02-01T23:06:51.592Z"
   },
   {
    "duration": 5,
    "start_time": "2022-02-01T23:07:12.909Z"
   },
   {
    "duration": 243,
    "start_time": "2022-02-01T23:07:28.246Z"
   },
   {
    "duration": 6,
    "start_time": "2022-02-01T23:07:30.426Z"
   },
   {
    "duration": 4,
    "start_time": "2022-02-01T23:08:09.545Z"
   },
   {
    "duration": 7,
    "start_time": "2022-02-01T23:08:15.358Z"
   },
   {
    "duration": 9,
    "start_time": "2022-02-01T23:08:26.433Z"
   },
   {
    "duration": 3241,
    "start_time": "2022-02-01T23:08:40.565Z"
   },
   {
    "duration": 3190,
    "start_time": "2022-02-01T23:09:02.015Z"
   },
   {
    "duration": 7,
    "start_time": "2022-02-01T23:09:11.306Z"
   },
   {
    "duration": 6,
    "start_time": "2022-02-01T23:09:22.847Z"
   },
   {
    "duration": 5,
    "start_time": "2022-02-01T23:16:11.604Z"
   },
   {
    "duration": 3162,
    "start_time": "2022-02-01T23:16:12.448Z"
   },
   {
    "duration": 8,
    "start_time": "2022-02-01T23:16:19.056Z"
   },
   {
    "duration": 4,
    "start_time": "2022-02-01T23:17:51.653Z"
   },
   {
    "duration": 2981,
    "start_time": "2022-02-01T23:18:56.704Z"
   },
   {
    "duration": 8,
    "start_time": "2022-02-01T23:19:01.130Z"
   },
   {
    "duration": 1276,
    "start_time": "2022-02-01T23:28:46.595Z"
   },
   {
    "duration": 189,
    "start_time": "2022-02-01T23:28:47.874Z"
   },
   {
    "duration": 162,
    "start_time": "2022-02-01T23:28:48.066Z"
   },
   {
    "duration": 174,
    "start_time": "2022-02-01T23:28:48.232Z"
   },
   {
    "duration": 13,
    "start_time": "2022-02-01T23:28:48.409Z"
   },
   {
    "duration": 74,
    "start_time": "2022-02-01T23:28:48.434Z"
   },
   {
    "duration": 27,
    "start_time": "2022-02-01T23:28:48.510Z"
   },
   {
    "duration": 20,
    "start_time": "2022-02-01T23:28:48.540Z"
   },
   {
    "duration": 82,
    "start_time": "2022-02-01T23:28:48.564Z"
   },
   {
    "duration": 6,
    "start_time": "2022-02-01T23:28:48.650Z"
   },
   {
    "duration": 27,
    "start_time": "2022-02-01T23:28:48.658Z"
   },
   {
    "duration": 91,
    "start_time": "2022-02-01T23:28:48.688Z"
   },
   {
    "duration": 7,
    "start_time": "2022-02-01T23:28:48.781Z"
   },
   {
    "duration": 15,
    "start_time": "2022-02-01T23:28:48.790Z"
   },
   {
    "duration": 38,
    "start_time": "2022-02-01T23:28:48.807Z"
   },
   {
    "duration": 17,
    "start_time": "2022-02-01T23:28:48.848Z"
   },
   {
    "duration": 74,
    "start_time": "2022-02-01T23:28:48.872Z"
   },
   {
    "duration": 88,
    "start_time": "2022-02-01T23:28:48.952Z"
   },
   {
    "duration": 22,
    "start_time": "2022-02-01T23:28:49.049Z"
   },
   {
    "duration": 15,
    "start_time": "2022-02-01T23:28:49.073Z"
   },
   {
    "duration": 12,
    "start_time": "2022-02-01T23:28:49.139Z"
   },
   {
    "duration": 30,
    "start_time": "2022-02-01T23:28:49.232Z"
   },
   {
    "duration": 31,
    "start_time": "2022-02-01T23:28:49.264Z"
   },
   {
    "duration": 18,
    "start_time": "2022-02-01T23:28:49.298Z"
   },
   {
    "duration": 13,
    "start_time": "2022-02-01T23:28:49.337Z"
   },
   {
    "duration": 94,
    "start_time": "2022-02-01T23:28:49.353Z"
   },
   {
    "duration": 16,
    "start_time": "2022-02-01T23:28:49.531Z"
   },
   {
    "duration": 8,
    "start_time": "2022-02-01T23:28:49.551Z"
   },
   {
    "duration": 4,
    "start_time": "2022-02-01T23:28:49.562Z"
   },
   {
    "duration": 3233,
    "start_time": "2022-02-01T23:28:49.569Z"
   },
   {
    "duration": 7,
    "start_time": "2022-02-01T23:28:52.805Z"
   },
   {
    "duration": 3296,
    "start_time": "2022-02-01T23:28:58.750Z"
   },
   {
    "duration": 7,
    "start_time": "2022-02-01T23:29:03.244Z"
   },
   {
    "duration": 2829,
    "start_time": "2022-02-01T23:29:20.556Z"
   },
   {
    "duration": 6,
    "start_time": "2022-02-01T23:29:23.387Z"
   },
   {
    "duration": 3175,
    "start_time": "2022-02-01T23:29:48.619Z"
   },
   {
    "duration": 7,
    "start_time": "2022-02-01T23:29:51.797Z"
   },
   {
    "duration": 4,
    "start_time": "2022-02-01T23:30:04.282Z"
   },
   {
    "duration": 2799,
    "start_time": "2022-02-01T23:30:16.446Z"
   },
   {
    "duration": 8,
    "start_time": "2022-02-01T23:30:21.602Z"
   },
   {
    "duration": 4,
    "start_time": "2022-02-01T23:30:26.594Z"
   },
   {
    "duration": 6,
    "start_time": "2022-02-01T23:30:36.094Z"
   },
   {
    "duration": 369,
    "start_time": "2022-02-01T23:31:20.660Z"
   },
   {
    "duration": 7,
    "start_time": "2022-02-01T23:31:45.590Z"
   },
   {
    "duration": 427,
    "start_time": "2022-02-01T23:32:12.305Z"
   },
   {
    "duration": 5,
    "start_time": "2022-02-01T23:32:45.245Z"
   },
   {
    "duration": 314,
    "start_time": "2022-02-01T23:33:12.072Z"
   },
   {
    "duration": 335,
    "start_time": "2022-02-01T23:33:26.870Z"
   },
   {
    "duration": 86,
    "start_time": "2022-02-01T23:36:17.950Z"
   },
   {
    "duration": 335,
    "start_time": "2022-02-01T23:36:36.846Z"
   },
   {
    "duration": 5,
    "start_time": "2022-02-01T23:36:57.381Z"
   },
   {
    "duration": 3200,
    "start_time": "2022-02-01T23:39:35.183Z"
   },
   {
    "duration": 3193,
    "start_time": "2022-02-01T23:39:56.183Z"
   },
   {
    "duration": 2901,
    "start_time": "2022-02-01T23:41:17.046Z"
   },
   {
    "duration": 2915,
    "start_time": "2022-02-01T23:41:35.545Z"
   },
   {
    "duration": 231,
    "start_time": "2022-02-01T23:41:38.785Z"
   },
   {
    "duration": 6,
    "start_time": "2022-02-01T23:41:41.721Z"
   },
   {
    "duration": 244,
    "start_time": "2022-02-01T23:41:52.016Z"
   },
   {
    "duration": 245,
    "start_time": "2022-02-01T23:41:54.953Z"
   },
   {
    "duration": 9,
    "start_time": "2022-02-01T23:42:01.850Z"
   },
   {
    "duration": 8,
    "start_time": "2022-02-01T23:43:02.053Z"
   },
   {
    "duration": 2854,
    "start_time": "2022-02-01T23:44:23.545Z"
   },
   {
    "duration": 7,
    "start_time": "2022-02-01T23:44:27.992Z"
   },
   {
    "duration": 6,
    "start_time": "2022-02-01T23:44:33.061Z"
   },
   {
    "duration": 5,
    "start_time": "2022-02-01T23:44:42.890Z"
   },
   {
    "duration": 7,
    "start_time": "2022-02-01T23:45:14.073Z"
   },
   {
    "duration": 8,
    "start_time": "2022-02-01T23:45:23.368Z"
   },
   {
    "duration": 8,
    "start_time": "2022-02-01T23:45:29.334Z"
   },
   {
    "duration": 9,
    "start_time": "2022-02-01T23:46:06.633Z"
   },
   {
    "duration": 10,
    "start_time": "2022-02-01T23:46:13.049Z"
   },
   {
    "duration": 78,
    "start_time": "2022-02-01T23:46:24.368Z"
   },
   {
    "duration": 7,
    "start_time": "2022-02-01T23:46:30.614Z"
   },
   {
    "duration": 3281,
    "start_time": "2022-02-01T23:47:01.963Z"
   },
   {
    "duration": 7,
    "start_time": "2022-02-01T23:47:06.266Z"
   },
   {
    "duration": 8,
    "start_time": "2022-02-01T23:47:10.160Z"
   },
   {
    "duration": 2880,
    "start_time": "2022-02-01T23:47:28.854Z"
   },
   {
    "duration": 7,
    "start_time": "2022-02-01T23:47:32.794Z"
   },
   {
    "duration": 8,
    "start_time": "2022-02-01T23:47:33.178Z"
   },
   {
    "duration": 1118,
    "start_time": "2022-02-02T08:04:38.059Z"
   },
   {
    "duration": 126,
    "start_time": "2022-02-02T08:04:39.179Z"
   },
   {
    "duration": 113,
    "start_time": "2022-02-02T08:04:39.307Z"
   },
   {
    "duration": 114,
    "start_time": "2022-02-02T08:04:39.421Z"
   },
   {
    "duration": 8,
    "start_time": "2022-02-02T08:04:39.536Z"
   },
   {
    "duration": 38,
    "start_time": "2022-02-02T08:04:39.546Z"
   },
   {
    "duration": 4,
    "start_time": "2022-02-02T08:04:39.585Z"
   },
   {
    "duration": 9,
    "start_time": "2022-02-02T08:04:39.591Z"
   },
   {
    "duration": 31,
    "start_time": "2022-02-02T08:04:39.602Z"
   },
   {
    "duration": 4,
    "start_time": "2022-02-02T08:04:39.635Z"
   },
   {
    "duration": 34,
    "start_time": "2022-02-02T08:04:39.641Z"
   },
   {
    "duration": 34,
    "start_time": "2022-02-02T08:04:39.676Z"
   },
   {
    "duration": 5,
    "start_time": "2022-02-02T08:04:39.711Z"
   },
   {
    "duration": 8,
    "start_time": "2022-02-02T08:04:39.717Z"
   },
   {
    "duration": 14,
    "start_time": "2022-02-02T08:04:39.727Z"
   },
   {
    "duration": 43,
    "start_time": "2022-02-02T08:04:39.742Z"
   },
   {
    "duration": 86,
    "start_time": "2022-02-02T08:04:39.787Z"
   },
   {
    "duration": 102,
    "start_time": "2022-02-02T08:04:39.875Z"
   },
   {
    "duration": 13,
    "start_time": "2022-02-02T08:04:39.978Z"
   },
   {
    "duration": 10,
    "start_time": "2022-02-02T08:04:39.993Z"
   },
   {
    "duration": 67,
    "start_time": "2022-02-02T08:04:40.005Z"
   },
   {
    "duration": 100,
    "start_time": "2022-02-02T08:04:40.075Z"
   },
   {
    "duration": 14,
    "start_time": "2022-02-02T08:04:40.177Z"
   },
   {
    "duration": 11,
    "start_time": "2022-02-02T08:04:40.193Z"
   },
   {
    "duration": 68,
    "start_time": "2022-02-02T08:04:40.205Z"
   },
   {
    "duration": 99,
    "start_time": "2022-02-02T08:04:40.275Z"
   },
   {
    "duration": 3,
    "start_time": "2022-02-02T08:04:40.377Z"
   },
   {
    "duration": 8,
    "start_time": "2022-02-02T08:04:40.381Z"
   },
   {
    "duration": 3,
    "start_time": "2022-02-02T08:04:40.391Z"
   },
   {
    "duration": 1974,
    "start_time": "2022-02-02T08:04:53.352Z"
   },
   {
    "duration": 1530,
    "start_time": "2022-02-02T08:05:18.306Z"
   },
   {
    "duration": 4,
    "start_time": "2022-02-02T08:05:21.586Z"
   },
   {
    "duration": 5,
    "start_time": "2022-02-02T08:05:22.835Z"
   },
   {
    "duration": 1522,
    "start_time": "2022-02-02T08:05:35.177Z"
   },
   {
    "duration": 3,
    "start_time": "2022-02-02T08:05:36.701Z"
   },
   {
    "duration": 5,
    "start_time": "2022-02-02T08:05:39.252Z"
   },
   {
    "duration": 1546,
    "start_time": "2022-02-02T08:06:59.888Z"
   },
   {
    "duration": 4,
    "start_time": "2022-02-02T08:07:05.970Z"
   },
   {
    "duration": 6,
    "start_time": "2022-02-02T08:07:16.173Z"
   },
   {
    "duration": 334,
    "start_time": "2022-02-02T08:10:16.795Z"
   },
   {
    "duration": 296,
    "start_time": "2022-02-02T08:10:19.613Z"
   },
   {
    "duration": 177,
    "start_time": "2022-02-02T08:10:34.069Z"
   },
   {
    "duration": 266,
    "start_time": "2022-02-02T08:11:28.713Z"
   },
   {
    "duration": 551,
    "start_time": "2022-02-02T08:12:25.676Z"
   },
   {
    "duration": 316,
    "start_time": "2022-02-02T08:12:31.461Z"
   },
   {
    "duration": 257,
    "start_time": "2022-02-02T08:14:03.073Z"
   },
   {
    "duration": 262,
    "start_time": "2022-02-02T08:14:17.928Z"
   },
   {
    "duration": 251,
    "start_time": "2022-02-02T08:14:27.987Z"
   },
   {
    "duration": 307,
    "start_time": "2022-02-02T08:15:01.521Z"
   },
   {
    "duration": 367,
    "start_time": "2022-02-02T08:15:21.188Z"
   },
   {
    "duration": 11,
    "start_time": "2022-02-02T08:18:33.709Z"
   },
   {
    "duration": 293,
    "start_time": "2022-02-02T08:19:33.045Z"
   },
   {
    "duration": 303,
    "start_time": "2022-02-02T08:27:59.049Z"
   },
   {
    "duration": 477,
    "start_time": "2022-02-02T08:28:11.398Z"
   },
   {
    "duration": 291,
    "start_time": "2022-02-02T08:28:25.178Z"
   },
   {
    "duration": 314,
    "start_time": "2022-02-02T08:34:08.225Z"
   },
   {
    "duration": 851,
    "start_time": "2022-02-02T08:35:46.474Z"
   },
   {
    "duration": 396,
    "start_time": "2022-02-02T08:36:03.709Z"
   },
   {
    "duration": 4,
    "start_time": "2022-02-02T08:36:45.552Z"
   },
   {
    "duration": 4,
    "start_time": "2022-02-02T08:37:06.165Z"
   },
   {
    "duration": 4,
    "start_time": "2022-02-02T08:37:17.672Z"
   },
   {
    "duration": 3,
    "start_time": "2022-02-02T08:37:51.859Z"
   },
   {
    "duration": 5,
    "start_time": "2022-02-02T08:38:12.743Z"
   },
   {
    "duration": 3,
    "start_time": "2022-02-02T08:38:53.306Z"
   },
   {
    "duration": 3,
    "start_time": "2022-02-02T08:38:57.692Z"
   },
   {
    "duration": 4,
    "start_time": "2022-02-02T08:38:59.714Z"
   },
   {
    "duration": 3,
    "start_time": "2022-02-02T08:39:00.008Z"
   },
   {
    "duration": 3,
    "start_time": "2022-02-02T08:39:00.828Z"
   },
   {
    "duration": 109,
    "start_time": "2022-02-02T08:42:31.414Z"
   },
   {
    "duration": 792,
    "start_time": "2022-02-02T08:42:38.010Z"
   },
   {
    "duration": 305,
    "start_time": "2022-02-02T08:42:50.774Z"
   },
   {
    "duration": 286,
    "start_time": "2022-02-02T08:42:55.594Z"
   },
   {
    "duration": 1302,
    "start_time": "2022-02-02T21:03:44.577Z"
   },
   {
    "duration": 145,
    "start_time": "2022-02-02T21:03:45.881Z"
   },
   {
    "duration": 156,
    "start_time": "2022-02-02T21:03:46.029Z"
   },
   {
    "duration": 140,
    "start_time": "2022-02-02T21:03:46.187Z"
   },
   {
    "duration": 13,
    "start_time": "2022-02-02T21:03:46.329Z"
   },
   {
    "duration": 62,
    "start_time": "2022-02-02T21:03:46.343Z"
   },
   {
    "duration": 7,
    "start_time": "2022-02-02T21:03:46.407Z"
   },
   {
    "duration": 10,
    "start_time": "2022-02-02T21:03:46.416Z"
   },
   {
    "duration": 39,
    "start_time": "2022-02-02T21:03:46.429Z"
   },
   {
    "duration": 31,
    "start_time": "2022-02-02T21:03:46.470Z"
   },
   {
    "duration": 12,
    "start_time": "2022-02-02T21:03:46.503Z"
   },
   {
    "duration": 41,
    "start_time": "2022-02-02T21:03:46.517Z"
   },
   {
    "duration": 6,
    "start_time": "2022-02-02T21:03:46.560Z"
   },
   {
    "duration": 33,
    "start_time": "2022-02-02T21:03:46.567Z"
   },
   {
    "duration": 17,
    "start_time": "2022-02-02T21:03:46.602Z"
   },
   {
    "duration": 80,
    "start_time": "2022-02-02T21:03:46.621Z"
   },
   {
    "duration": 93,
    "start_time": "2022-02-02T21:03:46.704Z"
   },
   {
    "duration": 6,
    "start_time": "2022-02-02T21:03:46.803Z"
   },
   {
    "duration": 18,
    "start_time": "2022-02-02T21:03:46.811Z"
   },
   {
    "duration": 68,
    "start_time": "2022-02-02T21:03:46.831Z"
   },
   {
    "duration": 6,
    "start_time": "2022-02-02T21:03:46.901Z"
   },
   {
    "duration": 93,
    "start_time": "2022-02-02T21:03:46.909Z"
   },
   {
    "duration": 16,
    "start_time": "2022-02-02T21:03:47.005Z"
   },
   {
    "duration": 78,
    "start_time": "2022-02-02T21:03:47.023Z"
   },
   {
    "duration": 5,
    "start_time": "2022-02-02T21:03:47.104Z"
   },
   {
    "duration": 100,
    "start_time": "2022-02-02T21:03:47.111Z"
   },
   {
    "duration": 4,
    "start_time": "2022-02-02T21:03:47.214Z"
   },
   {
    "duration": 10,
    "start_time": "2022-02-02T21:03:47.220Z"
   },
   {
    "duration": 7,
    "start_time": "2022-02-02T21:03:47.232Z"
   },
   {
    "duration": 1893,
    "start_time": "2022-02-02T21:03:47.241Z"
   },
   {
    "duration": 9,
    "start_time": "2022-02-02T21:03:49.136Z"
   },
   {
    "duration": 16,
    "start_time": "2022-02-02T21:03:49.147Z"
   },
   {
    "duration": 1810,
    "start_time": "2022-02-02T21:03:49.165Z"
   },
   {
    "duration": 4,
    "start_time": "2022-02-02T21:03:50.977Z"
   },
   {
    "duration": 16,
    "start_time": "2022-02-02T21:03:50.983Z"
   },
   {
    "duration": 1833,
    "start_time": "2022-02-02T21:03:51.001Z"
   },
   {
    "duration": 4,
    "start_time": "2022-02-02T21:03:52.837Z"
   },
   {
    "duration": 7,
    "start_time": "2022-02-02T21:03:52.843Z"
   },
   {
    "duration": 433,
    "start_time": "2022-02-02T21:03:52.852Z"
   },
   {
    "duration": 7,
    "start_time": "2022-02-02T21:07:43.113Z"
   },
   {
    "duration": 5,
    "start_time": "2022-02-02T21:08:04.877Z"
   },
   {
    "duration": 11,
    "start_time": "2022-02-02T21:08:35.850Z"
   },
   {
    "duration": 7,
    "start_time": "2022-02-02T21:14:43.086Z"
   },
   {
    "duration": 9,
    "start_time": "2022-02-02T21:16:04.296Z"
   },
   {
    "duration": 9,
    "start_time": "2022-02-02T21:16:54.498Z"
   },
   {
    "duration": 6,
    "start_time": "2022-02-02T21:16:58.807Z"
   },
   {
    "duration": 7,
    "start_time": "2022-02-02T21:17:06.788Z"
   },
   {
    "duration": 7,
    "start_time": "2022-02-02T21:17:12.796Z"
   },
   {
    "duration": 8,
    "start_time": "2022-02-02T21:17:31.368Z"
   },
   {
    "duration": 1304,
    "start_time": "2022-02-02T21:38:03.208Z"
   },
   {
    "duration": 151,
    "start_time": "2022-02-02T21:38:04.514Z"
   },
   {
    "duration": 143,
    "start_time": "2022-02-02T21:38:04.667Z"
   },
   {
    "duration": 143,
    "start_time": "2022-02-02T21:38:04.812Z"
   },
   {
    "duration": 10,
    "start_time": "2022-02-02T21:38:04.957Z"
   },
   {
    "duration": 66,
    "start_time": "2022-02-02T21:38:04.968Z"
   },
   {
    "duration": 5,
    "start_time": "2022-02-02T21:38:05.036Z"
   },
   {
    "duration": 14,
    "start_time": "2022-02-02T21:38:05.044Z"
   },
   {
    "duration": 71,
    "start_time": "2022-02-02T21:38:05.060Z"
   },
   {
    "duration": 4,
    "start_time": "2022-02-02T21:38:05.133Z"
   },
   {
    "duration": 20,
    "start_time": "2022-02-02T21:38:05.139Z"
   },
   {
    "duration": 60,
    "start_time": "2022-02-02T21:38:05.161Z"
   },
   {
    "duration": 7,
    "start_time": "2022-02-02T21:38:05.224Z"
   },
   {
    "duration": 12,
    "start_time": "2022-02-02T21:38:05.233Z"
   },
   {
    "duration": 17,
    "start_time": "2022-02-02T21:38:05.247Z"
   },
   {
    "duration": 52,
    "start_time": "2022-02-02T21:38:05.266Z"
   },
   {
    "duration": 86,
    "start_time": "2022-02-02T21:38:05.320Z"
   },
   {
    "duration": 96,
    "start_time": "2022-02-02T21:38:05.409Z"
   },
   {
    "duration": 18,
    "start_time": "2022-02-02T21:38:05.507Z"
   },
   {
    "duration": 75,
    "start_time": "2022-02-02T21:38:05.526Z"
   },
   {
    "duration": 6,
    "start_time": "2022-02-02T21:38:05.604Z"
   },
   {
    "duration": 91,
    "start_time": "2022-02-02T21:38:05.612Z"
   },
   {
    "duration": 17,
    "start_time": "2022-02-02T21:38:05.708Z"
   },
   {
    "duration": 14,
    "start_time": "2022-02-02T21:38:05.727Z"
   },
   {
    "duration": 6,
    "start_time": "2022-02-02T21:38:05.800Z"
   },
   {
    "duration": 92,
    "start_time": "2022-02-02T21:38:05.809Z"
   },
   {
    "duration": 11,
    "start_time": "2022-02-02T21:38:05.903Z"
   },
   {
    "duration": 8,
    "start_time": "2022-02-02T21:38:05.916Z"
   },
   {
    "duration": 6,
    "start_time": "2022-02-02T21:38:05.926Z"
   },
   {
    "duration": 378,
    "start_time": "2022-02-02T21:38:05.935Z"
   },
   {
    "duration": -62,
    "start_time": "2022-02-02T21:38:06.377Z"
   },
   {
    "duration": -63,
    "start_time": "2022-02-02T21:38:06.379Z"
   },
   {
    "duration": -68,
    "start_time": "2022-02-02T21:38:06.385Z"
   },
   {
    "duration": -69,
    "start_time": "2022-02-02T21:38:06.387Z"
   },
   {
    "duration": -70,
    "start_time": "2022-02-02T21:38:06.389Z"
   },
   {
    "duration": -71,
    "start_time": "2022-02-02T21:38:06.391Z"
   },
   {
    "duration": -72,
    "start_time": "2022-02-02T21:38:06.393Z"
   },
   {
    "duration": -72,
    "start_time": "2022-02-02T21:38:06.394Z"
   },
   {
    "duration": -73,
    "start_time": "2022-02-02T21:38:06.396Z"
   },
   {
    "duration": -74,
    "start_time": "2022-02-02T21:38:06.398Z"
   },
   {
    "duration": -74,
    "start_time": "2022-02-02T21:38:06.399Z"
   },
   {
    "duration": -74,
    "start_time": "2022-02-02T21:38:06.400Z"
   },
   {
    "duration": 1277,
    "start_time": "2022-02-02T21:39:15.594Z"
   },
   {
    "duration": 149,
    "start_time": "2022-02-02T21:39:16.873Z"
   },
   {
    "duration": 142,
    "start_time": "2022-02-02T21:39:17.024Z"
   },
   {
    "duration": 142,
    "start_time": "2022-02-02T21:39:17.168Z"
   },
   {
    "duration": 11,
    "start_time": "2022-02-02T21:39:17.312Z"
   },
   {
    "duration": 44,
    "start_time": "2022-02-02T21:39:17.325Z"
   },
   {
    "duration": 5,
    "start_time": "2022-02-02T21:39:17.371Z"
   },
   {
    "duration": 31,
    "start_time": "2022-02-02T21:39:17.378Z"
   },
   {
    "duration": 42,
    "start_time": "2022-02-02T21:39:17.411Z"
   },
   {
    "duration": 5,
    "start_time": "2022-02-02T21:39:17.455Z"
   },
   {
    "duration": 48,
    "start_time": "2022-02-02T21:39:17.461Z"
   },
   {
    "duration": 44,
    "start_time": "2022-02-02T21:39:17.511Z"
   },
   {
    "duration": 6,
    "start_time": "2022-02-02T21:39:17.557Z"
   },
   {
    "duration": 38,
    "start_time": "2022-02-02T21:39:17.565Z"
   },
   {
    "duration": 16,
    "start_time": "2022-02-02T21:39:17.605Z"
   },
   {
    "duration": 14,
    "start_time": "2022-02-02T21:39:17.623Z"
   },
   {
    "duration": 65,
    "start_time": "2022-02-02T21:39:17.639Z"
   },
   {
    "duration": 100,
    "start_time": "2022-02-02T21:39:17.707Z"
   },
   {
    "duration": 16,
    "start_time": "2022-02-02T21:39:17.809Z"
   },
   {
    "duration": 13,
    "start_time": "2022-02-02T21:39:17.827Z"
   },
   {
    "duration": 57,
    "start_time": "2022-02-02T21:39:17.843Z"
   },
   {
    "duration": 102,
    "start_time": "2022-02-02T21:39:17.902Z"
   },
   {
    "duration": 17,
    "start_time": "2022-02-02T21:39:18.008Z"
   },
   {
    "duration": 12,
    "start_time": "2022-02-02T21:39:18.027Z"
   },
   {
    "duration": 58,
    "start_time": "2022-02-02T21:39:18.042Z"
   },
   {
    "duration": 6,
    "start_time": "2022-02-02T21:39:18.102Z"
   },
   {
    "duration": 93,
    "start_time": "2022-02-02T21:39:18.111Z"
   },
   {
    "duration": 7,
    "start_time": "2022-02-02T21:39:18.206Z"
   },
   {
    "duration": 4,
    "start_time": "2022-02-02T21:39:18.214Z"
   },
   {
    "duration": 1883,
    "start_time": "2022-02-02T21:39:18.219Z"
   },
   {
    "duration": 4,
    "start_time": "2022-02-02T21:39:20.104Z"
   },
   {
    "duration": 9,
    "start_time": "2022-02-02T21:39:20.110Z"
   },
   {
    "duration": 7,
    "start_time": "2022-02-02T21:39:20.121Z"
   },
   {
    "duration": 1831,
    "start_time": "2022-02-02T21:39:20.130Z"
   },
   {
    "duration": 4,
    "start_time": "2022-02-02T21:39:21.962Z"
   },
   {
    "duration": 24,
    "start_time": "2022-02-02T21:39:21.968Z"
   },
   {
    "duration": 34,
    "start_time": "2022-02-02T21:39:21.994Z"
   },
   {
    "duration": 1870,
    "start_time": "2022-02-02T21:39:22.030Z"
   },
   {
    "duration": 5,
    "start_time": "2022-02-02T21:39:23.902Z"
   },
   {
    "duration": 21,
    "start_time": "2022-02-02T21:39:23.908Z"
   },
   {
    "duration": 26,
    "start_time": "2022-02-02T21:39:23.931Z"
   },
   {
    "duration": 438,
    "start_time": "2022-02-02T21:39:23.959Z"
   },
   {
    "duration": 6,
    "start_time": "2022-02-02T21:44:54.681Z"
   },
   {
    "duration": 6,
    "start_time": "2022-02-02T21:45:00.907Z"
   },
   {
    "duration": 6,
    "start_time": "2022-02-02T21:45:33.868Z"
   },
   {
    "duration": 5,
    "start_time": "2022-02-02T21:45:57.219Z"
   },
   {
    "duration": 6,
    "start_time": "2022-02-02T21:46:03.217Z"
   },
   {
    "duration": 1247,
    "start_time": "2022-02-02T21:46:10.831Z"
   },
   {
    "duration": 152,
    "start_time": "2022-02-02T21:46:12.081Z"
   },
   {
    "duration": 142,
    "start_time": "2022-02-02T21:46:12.237Z"
   },
   {
    "duration": 163,
    "start_time": "2022-02-02T21:46:12.380Z"
   },
   {
    "duration": 10,
    "start_time": "2022-02-02T21:46:12.545Z"
   },
   {
    "duration": 68,
    "start_time": "2022-02-02T21:46:12.557Z"
   },
   {
    "duration": 7,
    "start_time": "2022-02-02T21:46:12.629Z"
   },
   {
    "duration": 12,
    "start_time": "2022-02-02T21:46:12.639Z"
   },
   {
    "duration": 64,
    "start_time": "2022-02-02T21:46:12.652Z"
   },
   {
    "duration": 5,
    "start_time": "2022-02-02T21:46:12.718Z"
   },
   {
    "duration": 12,
    "start_time": "2022-02-02T21:46:12.725Z"
   },
   {
    "duration": 61,
    "start_time": "2022-02-02T21:46:12.739Z"
   },
   {
    "duration": 5,
    "start_time": "2022-02-02T21:46:12.802Z"
   },
   {
    "duration": 14,
    "start_time": "2022-02-02T21:46:12.808Z"
   },
   {
    "duration": 18,
    "start_time": "2022-02-02T21:46:12.824Z"
   },
   {
    "duration": 58,
    "start_time": "2022-02-02T21:46:12.844Z"
   },
   {
    "duration": 5,
    "start_time": "2022-02-02T21:46:12.905Z"
   },
   {
    "duration": 88,
    "start_time": "2022-02-02T21:46:12.912Z"
   },
   {
    "duration": 24,
    "start_time": "2022-02-02T21:46:13.003Z"
   },
   {
    "duration": 72,
    "start_time": "2022-02-02T21:46:13.029Z"
   },
   {
    "duration": 5,
    "start_time": "2022-02-02T21:46:13.105Z"
   },
   {
    "duration": 93,
    "start_time": "2022-02-02T21:46:13.115Z"
   },
   {
    "duration": 23,
    "start_time": "2022-02-02T21:46:13.211Z"
   },
   {
    "duration": 17,
    "start_time": "2022-02-02T21:46:13.236Z"
   },
   {
    "duration": 6,
    "start_time": "2022-02-02T21:46:13.299Z"
   },
   {
    "duration": 95,
    "start_time": "2022-02-02T21:46:13.307Z"
   },
   {
    "duration": 5,
    "start_time": "2022-02-02T21:46:13.404Z"
   },
   {
    "duration": 6,
    "start_time": "2022-02-02T21:46:13.411Z"
   },
   {
    "duration": 5,
    "start_time": "2022-02-02T21:46:13.419Z"
   },
   {
    "duration": 1884,
    "start_time": "2022-02-02T21:46:13.426Z"
   },
   {
    "duration": 5,
    "start_time": "2022-02-02T21:46:15.311Z"
   },
   {
    "duration": 8,
    "start_time": "2022-02-02T21:46:15.318Z"
   },
   {
    "duration": 8,
    "start_time": "2022-02-02T21:46:15.327Z"
   },
   {
    "duration": 8,
    "start_time": "2022-02-02T21:46:15.337Z"
   },
   {
    "duration": 1995,
    "start_time": "2022-02-02T21:46:15.347Z"
   },
   {
    "duration": 4,
    "start_time": "2022-02-02T21:46:17.344Z"
   },
   {
    "duration": 7,
    "start_time": "2022-02-02T21:46:17.350Z"
   },
   {
    "duration": 7,
    "start_time": "2022-02-02T21:46:17.359Z"
   },
   {
    "duration": 1852,
    "start_time": "2022-02-02T21:46:17.368Z"
   },
   {
    "duration": 5,
    "start_time": "2022-02-02T21:46:19.222Z"
   },
   {
    "duration": 14,
    "start_time": "2022-02-02T21:46:19.230Z"
   },
   {
    "duration": 8,
    "start_time": "2022-02-02T21:46:19.246Z"
   },
   {
    "duration": 446,
    "start_time": "2022-02-02T21:46:19.256Z"
   },
   {
    "duration": 4,
    "start_time": "2022-02-02T21:54:22.500Z"
   },
   {
    "duration": 5,
    "start_time": "2022-02-02T21:54:46.984Z"
   },
   {
    "duration": 4,
    "start_time": "2022-02-02T21:54:52.290Z"
   },
   {
    "duration": 4,
    "start_time": "2022-02-02T21:55:43.522Z"
   },
   {
    "duration": 3,
    "start_time": "2022-02-02T21:56:29.962Z"
   },
   {
    "duration": 385,
    "start_time": "2022-02-02T21:57:27.865Z"
   },
   {
    "duration": 5,
    "start_time": "2022-02-02T21:57:45.070Z"
   },
   {
    "duration": 4,
    "start_time": "2022-02-02T21:57:45.586Z"
   },
   {
    "duration": 6,
    "start_time": "2022-02-02T21:58:09.254Z"
   },
   {
    "duration": 6,
    "start_time": "2022-02-02T21:58:21.982Z"
   },
   {
    "duration": 6,
    "start_time": "2022-02-02T21:58:51.340Z"
   },
   {
    "duration": 3,
    "start_time": "2022-02-02T22:03:44.291Z"
   },
   {
    "duration": 1200,
    "start_time": "2022-02-02T22:03:56.864Z"
   },
   {
    "duration": 147,
    "start_time": "2022-02-02T22:03:58.066Z"
   },
   {
    "duration": 140,
    "start_time": "2022-02-02T22:03:58.214Z"
   },
   {
    "duration": 138,
    "start_time": "2022-02-02T22:03:58.356Z"
   },
   {
    "duration": 11,
    "start_time": "2022-02-02T22:03:58.496Z"
   },
   {
    "duration": 45,
    "start_time": "2022-02-02T22:03:58.508Z"
   },
   {
    "duration": 5,
    "start_time": "2022-02-02T22:03:58.555Z"
   },
   {
    "duration": 37,
    "start_time": "2022-02-02T22:03:58.561Z"
   },
   {
    "duration": 42,
    "start_time": "2022-02-02T22:03:58.601Z"
   },
   {
    "duration": 4,
    "start_time": "2022-02-02T22:03:58.646Z"
   },
   {
    "duration": 18,
    "start_time": "2022-02-02T22:03:58.652Z"
   },
   {
    "duration": 63,
    "start_time": "2022-02-02T22:03:58.672Z"
   },
   {
    "duration": 5,
    "start_time": "2022-02-02T22:03:58.737Z"
   },
   {
    "duration": 10,
    "start_time": "2022-02-02T22:03:58.744Z"
   },
   {
    "duration": 18,
    "start_time": "2022-02-02T22:03:58.756Z"
   },
   {
    "duration": 32,
    "start_time": "2022-02-02T22:03:58.775Z"
   },
   {
    "duration": 5,
    "start_time": "2022-02-02T22:03:58.809Z"
   },
   {
    "duration": 106,
    "start_time": "2022-02-02T22:03:58.900Z"
   },
   {
    "duration": 18,
    "start_time": "2022-02-02T22:03:59.008Z"
   },
   {
    "duration": 14,
    "start_time": "2022-02-02T22:03:59.028Z"
   },
   {
    "duration": 8,
    "start_time": "2022-02-02T22:03:59.098Z"
   },
   {
    "duration": 102,
    "start_time": "2022-02-02T22:03:59.108Z"
   },
   {
    "duration": 16,
    "start_time": "2022-02-02T22:03:59.212Z"
   },
   {
    "duration": 70,
    "start_time": "2022-02-02T22:03:59.230Z"
   },
   {
    "duration": 5,
    "start_time": "2022-02-02T22:03:59.303Z"
   },
   {
    "duration": 11,
    "start_time": "2022-02-02T22:03:59.399Z"
   },
   {
    "duration": 7,
    "start_time": "2022-02-02T22:03:59.413Z"
   },
   {
    "duration": 12,
    "start_time": "2022-02-02T22:03:59.422Z"
   },
   {
    "duration": 6,
    "start_time": "2022-02-02T22:03:59.436Z"
   },
   {
    "duration": 1879,
    "start_time": "2022-02-02T22:03:59.444Z"
   },
   {
    "duration": 4,
    "start_time": "2022-02-02T22:04:01.325Z"
   },
   {
    "duration": 17,
    "start_time": "2022-02-02T22:04:01.330Z"
   },
   {
    "duration": 16,
    "start_time": "2022-02-02T22:04:01.349Z"
   },
   {
    "duration": 1860,
    "start_time": "2022-02-02T22:04:01.367Z"
   },
   {
    "duration": 4,
    "start_time": "2022-02-02T22:04:03.228Z"
   },
   {
    "duration": 16,
    "start_time": "2022-02-02T22:04:03.234Z"
   },
   {
    "duration": 10,
    "start_time": "2022-02-02T22:04:03.252Z"
   },
   {
    "duration": 1850,
    "start_time": "2022-02-02T22:04:03.264Z"
   },
   {
    "duration": 4,
    "start_time": "2022-02-02T22:04:05.116Z"
   },
   {
    "duration": 16,
    "start_time": "2022-02-02T22:04:05.121Z"
   },
   {
    "duration": 8,
    "start_time": "2022-02-02T22:04:05.139Z"
   },
   {
    "duration": 435,
    "start_time": "2022-02-02T22:04:05.148Z"
   },
   {
    "duration": 4,
    "start_time": "2022-02-02T22:08:03.193Z"
   },
   {
    "duration": 4,
    "start_time": "2022-02-02T22:08:07.333Z"
   },
   {
    "duration": 3,
    "start_time": "2022-02-02T22:08:09.766Z"
   },
   {
    "duration": 379,
    "start_time": "2022-02-02T22:11:16.658Z"
   },
   {
    "duration": 1795,
    "start_time": "2022-02-02T22:11:22.500Z"
   },
   {
    "duration": 4,
    "start_time": "2022-02-02T22:11:56.027Z"
   },
   {
    "duration": 2887,
    "start_time": "2022-02-02T22:11:58.540Z"
   },
   {
    "duration": 1199,
    "start_time": "2022-02-02T22:26:41.567Z"
   },
   {
    "duration": 143,
    "start_time": "2022-02-02T22:26:42.768Z"
   },
   {
    "duration": 135,
    "start_time": "2022-02-02T22:26:42.912Z"
   },
   {
    "duration": 138,
    "start_time": "2022-02-02T22:26:43.049Z"
   },
   {
    "duration": 16,
    "start_time": "2022-02-02T22:26:43.189Z"
   },
   {
    "duration": 57,
    "start_time": "2022-02-02T22:26:43.206Z"
   },
   {
    "duration": 5,
    "start_time": "2022-02-02T22:26:43.264Z"
   },
   {
    "duration": 13,
    "start_time": "2022-02-02T22:26:43.271Z"
   },
   {
    "duration": 47,
    "start_time": "2022-02-02T22:26:43.287Z"
   },
   {
    "duration": 5,
    "start_time": "2022-02-02T22:26:43.336Z"
   },
   {
    "duration": 13,
    "start_time": "2022-02-02T22:26:43.342Z"
   },
   {
    "duration": 64,
    "start_time": "2022-02-02T22:26:43.357Z"
   },
   {
    "duration": 5,
    "start_time": "2022-02-02T22:26:43.423Z"
   },
   {
    "duration": 12,
    "start_time": "2022-02-02T22:26:43.430Z"
   },
   {
    "duration": 17,
    "start_time": "2022-02-02T22:26:43.444Z"
   },
   {
    "duration": 36,
    "start_time": "2022-02-02T22:26:43.463Z"
   },
   {
    "duration": 4,
    "start_time": "2022-02-02T22:26:43.502Z"
   },
   {
    "duration": 103,
    "start_time": "2022-02-02T22:26:43.509Z"
   },
   {
    "duration": 18,
    "start_time": "2022-02-02T22:26:43.614Z"
   },
   {
    "duration": 67,
    "start_time": "2022-02-02T22:26:43.633Z"
   },
   {
    "duration": 96,
    "start_time": "2022-02-02T22:26:43.706Z"
   },
   {
    "duration": 104,
    "start_time": "2022-02-02T22:26:43.804Z"
   },
   {
    "duration": 17,
    "start_time": "2022-02-02T22:26:43.910Z"
   },
   {
    "duration": 14,
    "start_time": "2022-02-02T22:26:43.928Z"
   },
   {
    "duration": 58,
    "start_time": "2022-02-02T22:26:43.947Z"
   },
   {
    "duration": 96,
    "start_time": "2022-02-02T22:26:44.008Z"
   },
   {
    "duration": 2,
    "start_time": "2022-02-02T22:26:44.108Z"
   },
   {
    "duration": 6,
    "start_time": "2022-02-02T22:26:44.112Z"
   },
   {
    "duration": 4,
    "start_time": "2022-02-02T22:26:44.120Z"
   },
   {
    "duration": 2909,
    "start_time": "2022-02-02T22:26:44.126Z"
   },
   {
    "duration": 5,
    "start_time": "2022-02-02T22:26:47.037Z"
   },
   {
    "duration": 8,
    "start_time": "2022-02-02T22:26:47.044Z"
   },
   {
    "duration": 8,
    "start_time": "2022-02-02T22:26:47.054Z"
   },
   {
    "duration": 3007,
    "start_time": "2022-02-02T22:26:47.064Z"
   },
   {
    "duration": 4,
    "start_time": "2022-02-02T22:26:50.073Z"
   },
   {
    "duration": 27,
    "start_time": "2022-02-02T22:26:50.079Z"
   },
   {
    "duration": 9,
    "start_time": "2022-02-02T22:26:50.108Z"
   },
   {
    "duration": 2979,
    "start_time": "2022-02-02T22:26:50.119Z"
   },
   {
    "duration": 4,
    "start_time": "2022-02-02T22:26:53.100Z"
   },
   {
    "duration": 9,
    "start_time": "2022-02-02T22:26:53.105Z"
   },
   {
    "duration": 8,
    "start_time": "2022-02-02T22:26:53.116Z"
   },
   {
    "duration": 425,
    "start_time": "2022-02-02T22:26:53.126Z"
   },
   {
    "duration": 2932,
    "start_time": "2022-02-02T22:29:01.392Z"
   },
   {
    "duration": 2805,
    "start_time": "2022-02-02T22:35:55.247Z"
   },
   {
    "duration": 2904,
    "start_time": "2022-02-02T22:36:03.611Z"
   },
   {
    "duration": 4,
    "start_time": "2022-02-02T22:36:27.734Z"
   },
   {
    "duration": 2026,
    "start_time": "2022-02-02T22:36:30.654Z"
   },
   {
    "duration": 4,
    "start_time": "2022-02-02T22:36:32.682Z"
   },
   {
    "duration": 38,
    "start_time": "2022-02-02T22:36:32.688Z"
   },
   {
    "duration": 42,
    "start_time": "2022-02-02T22:36:32.727Z"
   },
   {
    "duration": 2014,
    "start_time": "2022-02-02T22:36:33.411Z"
   },
   {
    "duration": 5,
    "start_time": "2022-02-02T22:36:35.426Z"
   },
   {
    "duration": 22,
    "start_time": "2022-02-02T22:36:35.433Z"
   },
   {
    "duration": 19,
    "start_time": "2022-02-02T22:36:35.458Z"
   },
   {
    "duration": 2017,
    "start_time": "2022-02-02T22:36:35.479Z"
   },
   {
    "duration": 5,
    "start_time": "2022-02-02T22:36:37.498Z"
   },
   {
    "duration": 9,
    "start_time": "2022-02-02T22:36:37.504Z"
   },
   {
    "duration": 6,
    "start_time": "2022-02-02T22:36:37.515Z"
   },
   {
    "duration": 420,
    "start_time": "2022-02-02T22:36:37.523Z"
   },
   {
    "duration": 1212,
    "start_time": "2022-02-03T10:39:13.356Z"
   },
   {
    "duration": 141,
    "start_time": "2022-02-03T10:39:14.570Z"
   },
   {
    "duration": 136,
    "start_time": "2022-02-03T10:39:14.713Z"
   },
   {
    "duration": 135,
    "start_time": "2022-02-03T10:39:14.851Z"
   },
   {
    "duration": 11,
    "start_time": "2022-02-03T10:39:14.988Z"
   },
   {
    "duration": 48,
    "start_time": "2022-02-03T10:39:15.001Z"
   },
   {
    "duration": 6,
    "start_time": "2022-02-03T10:39:15.051Z"
   },
   {
    "duration": 38,
    "start_time": "2022-02-03T10:39:15.061Z"
   },
   {
    "duration": 43,
    "start_time": "2022-02-03T10:39:15.103Z"
   },
   {
    "duration": 6,
    "start_time": "2022-02-03T10:39:15.148Z"
   },
   {
    "duration": 43,
    "start_time": "2022-02-03T10:39:15.156Z"
   },
   {
    "duration": 46,
    "start_time": "2022-02-03T10:39:15.201Z"
   },
   {
    "duration": 6,
    "start_time": "2022-02-03T10:39:15.250Z"
   },
   {
    "duration": 41,
    "start_time": "2022-02-03T10:39:15.258Z"
   },
   {
    "duration": 16,
    "start_time": "2022-02-03T10:39:15.301Z"
   },
   {
    "duration": 20,
    "start_time": "2022-02-03T10:39:15.319Z"
   },
   {
    "duration": 96,
    "start_time": "2022-02-03T10:39:15.402Z"
   },
   {
    "duration": 6,
    "start_time": "2022-02-03T10:39:15.500Z"
   },
   {
    "duration": 15,
    "start_time": "2022-02-03T10:39:15.508Z"
   },
   {
    "duration": 13,
    "start_time": "2022-02-03T10:39:15.525Z"
   },
   {
    "duration": 61,
    "start_time": "2022-02-03T10:39:15.540Z"
   },
   {
    "duration": 100,
    "start_time": "2022-02-03T10:39:15.603Z"
   },
   {
    "duration": 16,
    "start_time": "2022-02-03T10:39:15.708Z"
   },
   {
    "duration": 72,
    "start_time": "2022-02-03T10:39:15.727Z"
   },
   {
    "duration": 6,
    "start_time": "2022-02-03T10:39:15.801Z"
   },
   {
    "duration": 98,
    "start_time": "2022-02-03T10:39:15.809Z"
   },
   {
    "duration": 6,
    "start_time": "2022-02-03T10:39:15.908Z"
   },
   {
    "duration": 9,
    "start_time": "2022-02-03T10:39:15.915Z"
   },
   {
    "duration": 5,
    "start_time": "2022-02-03T10:39:15.925Z"
   },
   {
    "duration": 3393,
    "start_time": "2022-02-03T10:39:15.932Z"
   },
   {
    "duration": 5,
    "start_time": "2022-02-03T10:39:19.327Z"
   },
   {
    "duration": 13,
    "start_time": "2022-02-03T10:39:19.334Z"
   },
   {
    "duration": 15,
    "start_time": "2022-02-03T10:39:19.349Z"
   },
   {
    "duration": 3500,
    "start_time": "2022-02-03T10:39:19.366Z"
   },
   {
    "duration": 4,
    "start_time": "2022-02-03T10:39:22.868Z"
   },
   {
    "duration": 25,
    "start_time": "2022-02-03T10:39:22.874Z"
   },
   {
    "duration": 6,
    "start_time": "2022-02-03T10:39:22.901Z"
   },
   {
    "duration": 3698,
    "start_time": "2022-02-03T10:39:22.909Z"
   },
   {
    "duration": 4,
    "start_time": "2022-02-03T10:39:26.609Z"
   },
   {
    "duration": 10,
    "start_time": "2022-02-03T10:39:26.615Z"
   },
   {
    "duration": 10,
    "start_time": "2022-02-03T10:39:26.626Z"
   },
   {
    "duration": 451,
    "start_time": "2022-02-03T10:39:26.637Z"
   },
   {
    "duration": 1201,
    "start_time": "2022-02-03T10:41:25.259Z"
   },
   {
    "duration": 147,
    "start_time": "2022-02-03T10:41:26.462Z"
   },
   {
    "duration": 138,
    "start_time": "2022-02-03T10:41:26.612Z"
   },
   {
    "duration": 136,
    "start_time": "2022-02-03T10:41:26.753Z"
   },
   {
    "duration": 12,
    "start_time": "2022-02-03T10:41:26.891Z"
   },
   {
    "duration": 45,
    "start_time": "2022-02-03T10:41:26.905Z"
   },
   {
    "duration": 7,
    "start_time": "2022-02-03T10:41:26.952Z"
   },
   {
    "duration": 41,
    "start_time": "2022-02-03T10:41:26.962Z"
   },
   {
    "duration": 44,
    "start_time": "2022-02-03T10:41:27.006Z"
   },
   {
    "duration": 6,
    "start_time": "2022-02-03T10:41:27.053Z"
   },
   {
    "duration": 43,
    "start_time": "2022-02-03T10:41:27.060Z"
   },
   {
    "duration": 45,
    "start_time": "2022-02-03T10:41:27.105Z"
   },
   {
    "duration": 4,
    "start_time": "2022-02-03T10:41:27.152Z"
   },
   {
    "duration": 13,
    "start_time": "2022-02-03T10:41:27.158Z"
   },
   {
    "duration": 16,
    "start_time": "2022-02-03T10:41:27.199Z"
   },
   {
    "duration": 13,
    "start_time": "2022-02-03T10:41:27.217Z"
   },
   {
    "duration": 169,
    "start_time": "2022-02-03T10:41:27.232Z"
   },
   {
    "duration": 7,
    "start_time": "2022-02-03T10:41:27.403Z"
   },
   {
    "duration": 16,
    "start_time": "2022-02-03T10:41:27.411Z"
   },
   {
    "duration": 71,
    "start_time": "2022-02-03T10:41:27.429Z"
   },
   {
    "duration": 6,
    "start_time": "2022-02-03T10:41:27.502Z"
   },
   {
    "duration": 7,
    "start_time": "2022-02-03T10:41:27.600Z"
   },
   {
    "duration": 15,
    "start_time": "2022-02-03T10:41:27.611Z"
   },
   {
    "duration": 71,
    "start_time": "2022-02-03T10:41:27.628Z"
   },
   {
    "duration": 6,
    "start_time": "2022-02-03T10:41:27.702Z"
   },
   {
    "duration": 4,
    "start_time": "2022-02-03T10:41:27.799Z"
   },
   {
    "duration": 4,
    "start_time": "2022-02-03T10:41:27.805Z"
   },
   {
    "duration": 6,
    "start_time": "2022-02-03T10:41:27.810Z"
   },
   {
    "duration": 4,
    "start_time": "2022-02-03T10:41:27.818Z"
   },
   {
    "duration": 2009,
    "start_time": "2022-02-03T10:41:27.824Z"
   },
   {
    "duration": 4,
    "start_time": "2022-02-03T10:41:29.834Z"
   },
   {
    "duration": 13,
    "start_time": "2022-02-03T10:41:29.840Z"
   },
   {
    "duration": 8,
    "start_time": "2022-02-03T10:41:29.854Z"
   },
   {
    "duration": 2034,
    "start_time": "2022-02-03T10:41:29.864Z"
   },
   {
    "duration": 4,
    "start_time": "2022-02-03T10:41:31.900Z"
   },
   {
    "duration": 11,
    "start_time": "2022-02-03T10:41:31.906Z"
   },
   {
    "duration": 8,
    "start_time": "2022-02-03T10:41:31.919Z"
   },
   {
    "duration": 2014,
    "start_time": "2022-02-03T10:41:31.929Z"
   },
   {
    "duration": 3,
    "start_time": "2022-02-03T10:41:33.945Z"
   },
   {
    "duration": 23,
    "start_time": "2022-02-03T10:41:33.950Z"
   },
   {
    "duration": 12,
    "start_time": "2022-02-03T10:41:33.975Z"
   },
   {
    "duration": 425,
    "start_time": "2022-02-03T10:41:33.989Z"
   },
   {
    "duration": 3,
    "start_time": "2022-02-03T10:43:15.043Z"
   },
   {
    "duration": 2902,
    "start_time": "2022-02-03T10:43:17.149Z"
   },
   {
    "duration": 3,
    "start_time": "2022-02-03T10:43:26.952Z"
   },
   {
    "duration": 2053,
    "start_time": "2022-02-03T10:43:29.441Z"
   },
   {
    "duration": 5,
    "start_time": "2022-02-03T10:43:32.957Z"
   },
   {
    "duration": 7,
    "start_time": "2022-02-03T10:43:33.970Z"
   },
   {
    "duration": 6,
    "start_time": "2022-02-03T10:43:34.579Z"
   }
  ],
  "kernelspec": {
   "display_name": "Python 3",
   "language": "python",
   "name": "python3"
  },
  "language_info": {
   "codemirror_mode": {
    "name": "ipython",
    "version": 3
   },
   "file_extension": ".py",
   "mimetype": "text/x-python",
   "name": "python",
   "nbconvert_exporter": "python",
   "pygments_lexer": "ipython3",
   "version": "3.8.5"
  },
  "toc": {
   "base_numbering": 1,
   "nav_menu": {},
   "number_sections": true,
   "sideBar": true,
   "skip_h1_title": true,
   "title_cell": "Table of Contents",
   "title_sidebar": "Contents",
   "toc_cell": false,
   "toc_position": {
    "height": "calc(100% - 180px)",
    "left": "10px",
    "top": "150px",
    "width": "270.391px"
   },
   "toc_section_display": true,
   "toc_window_display": false
  }
 },
 "nbformat": 4,
 "nbformat_minor": 2
}
