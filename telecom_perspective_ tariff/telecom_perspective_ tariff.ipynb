{
 "cells": [
  {
   "cell_type": "markdown",
   "metadata": {},
   "source": [
    "## Изучение данных из файла"
   ]
  },
  {
   "cell_type": "markdown",
   "metadata": {},
   "source": [
    "Импортируем все необходимые библиотеки"
   ]
  },
  {
   "cell_type": "code",
   "execution_count": 1,
   "metadata": {},
   "outputs": [],
   "source": [
    "import pandas as pd\n",
    "import numpy as np\n",
    "import math\n",
    "import matplotlib.pyplot as plt\n",
    "from scipy import stats as st"
   ]
  },
  {
   "cell_type": "markdown",
   "metadata": {},
   "source": [
    "### Таблица users"
   ]
  },
  {
   "cell_type": "markdown",
   "metadata": {},
   "source": [
    "Прочтем и выведем на экран первые 5 строк таблицы"
   ]
  },
  {
   "cell_type": "code",
   "execution_count": 2,
   "metadata": {},
   "outputs": [
    {
     "data": {
      "text/html": [
       "<div>\n",
       "<style scoped>\n",
       "    .dataframe tbody tr th:only-of-type {\n",
       "        vertical-align: middle;\n",
       "    }\n",
       "\n",
       "    .dataframe tbody tr th {\n",
       "        vertical-align: top;\n",
       "    }\n",
       "\n",
       "    .dataframe thead th {\n",
       "        text-align: right;\n",
       "    }\n",
       "</style>\n",
       "<table border=\"1\" class=\"dataframe\">\n",
       "  <thead>\n",
       "    <tr style=\"text-align: right;\">\n",
       "      <th></th>\n",
       "      <th>user_id</th>\n",
       "      <th>age</th>\n",
       "      <th>churn_date</th>\n",
       "      <th>city</th>\n",
       "      <th>first_name</th>\n",
       "      <th>last_name</th>\n",
       "      <th>reg_date</th>\n",
       "      <th>tariff</th>\n",
       "    </tr>\n",
       "  </thead>\n",
       "  <tbody>\n",
       "    <tr>\n",
       "      <td>0</td>\n",
       "      <td>1000</td>\n",
       "      <td>52</td>\n",
       "      <td>NaN</td>\n",
       "      <td>Краснодар</td>\n",
       "      <td>Рафаил</td>\n",
       "      <td>Верещагин</td>\n",
       "      <td>2018-05-25</td>\n",
       "      <td>ultra</td>\n",
       "    </tr>\n",
       "    <tr>\n",
       "      <td>1</td>\n",
       "      <td>1001</td>\n",
       "      <td>41</td>\n",
       "      <td>NaN</td>\n",
       "      <td>Москва</td>\n",
       "      <td>Иван</td>\n",
       "      <td>Ежов</td>\n",
       "      <td>2018-11-01</td>\n",
       "      <td>smart</td>\n",
       "    </tr>\n",
       "    <tr>\n",
       "      <td>2</td>\n",
       "      <td>1002</td>\n",
       "      <td>59</td>\n",
       "      <td>NaN</td>\n",
       "      <td>Стерлитамак</td>\n",
       "      <td>Евгений</td>\n",
       "      <td>Абрамович</td>\n",
       "      <td>2018-06-17</td>\n",
       "      <td>smart</td>\n",
       "    </tr>\n",
       "    <tr>\n",
       "      <td>3</td>\n",
       "      <td>1003</td>\n",
       "      <td>23</td>\n",
       "      <td>NaN</td>\n",
       "      <td>Москва</td>\n",
       "      <td>Белла</td>\n",
       "      <td>Белякова</td>\n",
       "      <td>2018-08-17</td>\n",
       "      <td>ultra</td>\n",
       "    </tr>\n",
       "    <tr>\n",
       "      <td>4</td>\n",
       "      <td>1004</td>\n",
       "      <td>68</td>\n",
       "      <td>NaN</td>\n",
       "      <td>Новокузнецк</td>\n",
       "      <td>Татьяна</td>\n",
       "      <td>Авдеенко</td>\n",
       "      <td>2018-05-14</td>\n",
       "      <td>ultra</td>\n",
       "    </tr>\n",
       "  </tbody>\n",
       "</table>\n",
       "</div>"
      ],
      "text/plain": [
       "   user_id  age churn_date         city first_name  last_name    reg_date  \\\n",
       "0     1000   52        NaN    Краснодар     Рафаил  Верещагин  2018-05-25   \n",
       "1     1001   41        NaN       Москва       Иван       Ежов  2018-11-01   \n",
       "2     1002   59        NaN  Стерлитамак    Евгений  Абрамович  2018-06-17   \n",
       "3     1003   23        NaN       Москва      Белла   Белякова  2018-08-17   \n",
       "4     1004   68        NaN  Новокузнецк    Татьяна   Авдеенко  2018-05-14   \n",
       "\n",
       "  tariff  \n",
       "0  ultra  \n",
       "1  smart  \n",
       "2  smart  \n",
       "3  ultra  \n",
       "4  ultra  "
      ]
     },
     "execution_count": 2,
     "metadata": {},
     "output_type": "execute_result"
    }
   ],
   "source": [
    "data_users = pd.read_csv('/datasets/users.csv')\n",
    "data_users.head()"
   ]
  },
  {
   "cell_type": "markdown",
   "metadata": {},
   "source": [
    "Выведем общую информацию о таблице"
   ]
  },
  {
   "cell_type": "code",
   "execution_count": 3,
   "metadata": {},
   "outputs": [
    {
     "name": "stdout",
     "output_type": "stream",
     "text": [
      "<class 'pandas.core.frame.DataFrame'>\n",
      "RangeIndex: 500 entries, 0 to 499\n",
      "Data columns (total 8 columns):\n",
      "user_id       500 non-null int64\n",
      "age           500 non-null int64\n",
      "churn_date    38 non-null object\n",
      "city          500 non-null object\n",
      "first_name    500 non-null object\n",
      "last_name     500 non-null object\n",
      "reg_date      500 non-null object\n",
      "tariff        500 non-null object\n",
      "dtypes: int64(2), object(6)\n",
      "memory usage: 31.4+ KB\n"
     ]
    }
   ],
   "source": [
    "data_users.info()"
   ]
  },
  {
   "cell_type": "markdown",
   "metadata": {},
   "source": [
    "**Вывод**: пропуски присутсвуют в столбце churn_date"
   ]
  },
  {
   "cell_type": "markdown",
   "metadata": {},
   "source": [
    "### Таблица calls"
   ]
  },
  {
   "cell_type": "markdown",
   "metadata": {},
   "source": [
    "Прочтем и выведем на экран первые 5 строк таблицы"
   ]
  },
  {
   "cell_type": "code",
   "execution_count": 4,
   "metadata": {},
   "outputs": [
    {
     "data": {
      "text/html": [
       "<div>\n",
       "<style scoped>\n",
       "    .dataframe tbody tr th:only-of-type {\n",
       "        vertical-align: middle;\n",
       "    }\n",
       "\n",
       "    .dataframe tbody tr th {\n",
       "        vertical-align: top;\n",
       "    }\n",
       "\n",
       "    .dataframe thead th {\n",
       "        text-align: right;\n",
       "    }\n",
       "</style>\n",
       "<table border=\"1\" class=\"dataframe\">\n",
       "  <thead>\n",
       "    <tr style=\"text-align: right;\">\n",
       "      <th></th>\n",
       "      <th>id</th>\n",
       "      <th>call_date</th>\n",
       "      <th>duration</th>\n",
       "      <th>user_id</th>\n",
       "    </tr>\n",
       "  </thead>\n",
       "  <tbody>\n",
       "    <tr>\n",
       "      <td>0</td>\n",
       "      <td>1000_0</td>\n",
       "      <td>2018-07-25</td>\n",
       "      <td>0.00</td>\n",
       "      <td>1000</td>\n",
       "    </tr>\n",
       "    <tr>\n",
       "      <td>1</td>\n",
       "      <td>1000_1</td>\n",
       "      <td>2018-08-17</td>\n",
       "      <td>0.00</td>\n",
       "      <td>1000</td>\n",
       "    </tr>\n",
       "    <tr>\n",
       "      <td>2</td>\n",
       "      <td>1000_2</td>\n",
       "      <td>2018-06-11</td>\n",
       "      <td>2.85</td>\n",
       "      <td>1000</td>\n",
       "    </tr>\n",
       "    <tr>\n",
       "      <td>3</td>\n",
       "      <td>1000_3</td>\n",
       "      <td>2018-09-21</td>\n",
       "      <td>13.80</td>\n",
       "      <td>1000</td>\n",
       "    </tr>\n",
       "    <tr>\n",
       "      <td>4</td>\n",
       "      <td>1000_4</td>\n",
       "      <td>2018-12-15</td>\n",
       "      <td>5.18</td>\n",
       "      <td>1000</td>\n",
       "    </tr>\n",
       "  </tbody>\n",
       "</table>\n",
       "</div>"
      ],
      "text/plain": [
       "       id   call_date  duration  user_id\n",
       "0  1000_0  2018-07-25      0.00     1000\n",
       "1  1000_1  2018-08-17      0.00     1000\n",
       "2  1000_2  2018-06-11      2.85     1000\n",
       "3  1000_3  2018-09-21     13.80     1000\n",
       "4  1000_4  2018-12-15      5.18     1000"
      ]
     },
     "execution_count": 4,
     "metadata": {},
     "output_type": "execute_result"
    }
   ],
   "source": [
    "data_calls = pd.read_csv('/datasets/calls.csv')\n",
    "data_calls.head()"
   ]
  },
  {
   "cell_type": "markdown",
   "metadata": {},
   "source": [
    "Выведем общую информацию о таблице"
   ]
  },
  {
   "cell_type": "code",
   "execution_count": 5,
   "metadata": {},
   "outputs": [
    {
     "name": "stdout",
     "output_type": "stream",
     "text": [
      "<class 'pandas.core.frame.DataFrame'>\n",
      "RangeIndex: 202607 entries, 0 to 202606\n",
      "Data columns (total 4 columns):\n",
      "id           202607 non-null object\n",
      "call_date    202607 non-null object\n",
      "duration     202607 non-null float64\n",
      "user_id      202607 non-null int64\n",
      "dtypes: float64(1), int64(1), object(2)\n",
      "memory usage: 6.2+ MB\n"
     ]
    }
   ],
   "source": [
    "data_calls.info()"
   ]
  },
  {
   "cell_type": "markdown",
   "metadata": {},
   "source": [
    "**Вывод**: пропуски отсутствуют"
   ]
  },
  {
   "cell_type": "markdown",
   "metadata": {},
   "source": [
    "### Таблица messages"
   ]
  },
  {
   "cell_type": "markdown",
   "metadata": {},
   "source": [
    "Прочтем и выведем на экран первые 5 строк таблицы"
   ]
  },
  {
   "cell_type": "code",
   "execution_count": 6,
   "metadata": {},
   "outputs": [
    {
     "data": {
      "text/html": [
       "<div>\n",
       "<style scoped>\n",
       "    .dataframe tbody tr th:only-of-type {\n",
       "        vertical-align: middle;\n",
       "    }\n",
       "\n",
       "    .dataframe tbody tr th {\n",
       "        vertical-align: top;\n",
       "    }\n",
       "\n",
       "    .dataframe thead th {\n",
       "        text-align: right;\n",
       "    }\n",
       "</style>\n",
       "<table border=\"1\" class=\"dataframe\">\n",
       "  <thead>\n",
       "    <tr style=\"text-align: right;\">\n",
       "      <th></th>\n",
       "      <th>id</th>\n",
       "      <th>message_date</th>\n",
       "      <th>user_id</th>\n",
       "    </tr>\n",
       "  </thead>\n",
       "  <tbody>\n",
       "    <tr>\n",
       "      <td>0</td>\n",
       "      <td>1000_0</td>\n",
       "      <td>2018-06-27</td>\n",
       "      <td>1000</td>\n",
       "    </tr>\n",
       "    <tr>\n",
       "      <td>1</td>\n",
       "      <td>1000_1</td>\n",
       "      <td>2018-10-08</td>\n",
       "      <td>1000</td>\n",
       "    </tr>\n",
       "    <tr>\n",
       "      <td>2</td>\n",
       "      <td>1000_2</td>\n",
       "      <td>2018-08-04</td>\n",
       "      <td>1000</td>\n",
       "    </tr>\n",
       "    <tr>\n",
       "      <td>3</td>\n",
       "      <td>1000_3</td>\n",
       "      <td>2018-06-16</td>\n",
       "      <td>1000</td>\n",
       "    </tr>\n",
       "    <tr>\n",
       "      <td>4</td>\n",
       "      <td>1000_4</td>\n",
       "      <td>2018-12-05</td>\n",
       "      <td>1000</td>\n",
       "    </tr>\n",
       "  </tbody>\n",
       "</table>\n",
       "</div>"
      ],
      "text/plain": [
       "       id message_date  user_id\n",
       "0  1000_0   2018-06-27     1000\n",
       "1  1000_1   2018-10-08     1000\n",
       "2  1000_2   2018-08-04     1000\n",
       "3  1000_3   2018-06-16     1000\n",
       "4  1000_4   2018-12-05     1000"
      ]
     },
     "execution_count": 6,
     "metadata": {},
     "output_type": "execute_result"
    }
   ],
   "source": [
    "data_messages = pd.read_csv('/datasets/messages.csv')\n",
    "data_messages.head()"
   ]
  },
  {
   "cell_type": "markdown",
   "metadata": {},
   "source": [
    "Выведем общую информацию о таблице"
   ]
  },
  {
   "cell_type": "code",
   "execution_count": 7,
   "metadata": {},
   "outputs": [
    {
     "name": "stdout",
     "output_type": "stream",
     "text": [
      "<class 'pandas.core.frame.DataFrame'>\n",
      "RangeIndex: 123036 entries, 0 to 123035\n",
      "Data columns (total 3 columns):\n",
      "id              123036 non-null object\n",
      "message_date    123036 non-null object\n",
      "user_id         123036 non-null int64\n",
      "dtypes: int64(1), object(2)\n",
      "memory usage: 2.8+ MB\n"
     ]
    }
   ],
   "source": [
    "data_messages.info()"
   ]
  },
  {
   "cell_type": "markdown",
   "metadata": {},
   "source": [
    "**Вывод**: пропуски отсутствуют"
   ]
  },
  {
   "cell_type": "markdown",
   "metadata": {},
   "source": [
    "### Таблица internet"
   ]
  },
  {
   "cell_type": "markdown",
   "metadata": {},
   "source": [
    "Прочтем и выведем на экран первые 5 строк таблицы"
   ]
  },
  {
   "cell_type": "code",
   "execution_count": 8,
   "metadata": {},
   "outputs": [
    {
     "data": {
      "text/html": [
       "<div>\n",
       "<style scoped>\n",
       "    .dataframe tbody tr th:only-of-type {\n",
       "        vertical-align: middle;\n",
       "    }\n",
       "\n",
       "    .dataframe tbody tr th {\n",
       "        vertical-align: top;\n",
       "    }\n",
       "\n",
       "    .dataframe thead th {\n",
       "        text-align: right;\n",
       "    }\n",
       "</style>\n",
       "<table border=\"1\" class=\"dataframe\">\n",
       "  <thead>\n",
       "    <tr style=\"text-align: right;\">\n",
       "      <th></th>\n",
       "      <th>Unnamed: 0</th>\n",
       "      <th>id</th>\n",
       "      <th>mb_used</th>\n",
       "      <th>session_date</th>\n",
       "      <th>user_id</th>\n",
       "    </tr>\n",
       "  </thead>\n",
       "  <tbody>\n",
       "    <tr>\n",
       "      <td>0</td>\n",
       "      <td>0</td>\n",
       "      <td>1000_0</td>\n",
       "      <td>112.95</td>\n",
       "      <td>2018-11-25</td>\n",
       "      <td>1000</td>\n",
       "    </tr>\n",
       "    <tr>\n",
       "      <td>1</td>\n",
       "      <td>1</td>\n",
       "      <td>1000_1</td>\n",
       "      <td>1052.81</td>\n",
       "      <td>2018-09-07</td>\n",
       "      <td>1000</td>\n",
       "    </tr>\n",
       "    <tr>\n",
       "      <td>2</td>\n",
       "      <td>2</td>\n",
       "      <td>1000_2</td>\n",
       "      <td>1197.26</td>\n",
       "      <td>2018-06-25</td>\n",
       "      <td>1000</td>\n",
       "    </tr>\n",
       "    <tr>\n",
       "      <td>3</td>\n",
       "      <td>3</td>\n",
       "      <td>1000_3</td>\n",
       "      <td>550.27</td>\n",
       "      <td>2018-08-22</td>\n",
       "      <td>1000</td>\n",
       "    </tr>\n",
       "    <tr>\n",
       "      <td>4</td>\n",
       "      <td>4</td>\n",
       "      <td>1000_4</td>\n",
       "      <td>302.56</td>\n",
       "      <td>2018-09-24</td>\n",
       "      <td>1000</td>\n",
       "    </tr>\n",
       "  </tbody>\n",
       "</table>\n",
       "</div>"
      ],
      "text/plain": [
       "   Unnamed: 0      id  mb_used session_date  user_id\n",
       "0           0  1000_0   112.95   2018-11-25     1000\n",
       "1           1  1000_1  1052.81   2018-09-07     1000\n",
       "2           2  1000_2  1197.26   2018-06-25     1000\n",
       "3           3  1000_3   550.27   2018-08-22     1000\n",
       "4           4  1000_4   302.56   2018-09-24     1000"
      ]
     },
     "execution_count": 8,
     "metadata": {},
     "output_type": "execute_result"
    }
   ],
   "source": [
    "data_internet = pd.read_csv('/datasets/internet.csv')\n",
    "data_internet.head()"
   ]
  },
  {
   "cell_type": "markdown",
   "metadata": {},
   "source": [
    "Выведем общую информацию о таблице"
   ]
  },
  {
   "cell_type": "code",
   "execution_count": 9,
   "metadata": {},
   "outputs": [
    {
     "name": "stdout",
     "output_type": "stream",
     "text": [
      "<class 'pandas.core.frame.DataFrame'>\n",
      "RangeIndex: 149396 entries, 0 to 149395\n",
      "Data columns (total 5 columns):\n",
      "Unnamed: 0      149396 non-null int64\n",
      "id              149396 non-null object\n",
      "mb_used         149396 non-null float64\n",
      "session_date    149396 non-null object\n",
      "user_id         149396 non-null int64\n",
      "dtypes: float64(1), int64(2), object(2)\n",
      "memory usage: 5.7+ MB\n"
     ]
    }
   ],
   "source": [
    "data_internet.info()"
   ]
  },
  {
   "cell_type": "markdown",
   "metadata": {},
   "source": [
    "**Вывод**: пропуски отсутствуют"
   ]
  },
  {
   "cell_type": "markdown",
   "metadata": {},
   "source": [
    "### Таблица tariffs"
   ]
  },
  {
   "cell_type": "markdown",
   "metadata": {},
   "source": [
    "Прочтем и выведем на экран информацию о тарифах"
   ]
  },
  {
   "cell_type": "code",
   "execution_count": 10,
   "metadata": {},
   "outputs": [
    {
     "data": {
      "text/html": [
       "<div>\n",
       "<style scoped>\n",
       "    .dataframe tbody tr th:only-of-type {\n",
       "        vertical-align: middle;\n",
       "    }\n",
       "\n",
       "    .dataframe tbody tr th {\n",
       "        vertical-align: top;\n",
       "    }\n",
       "\n",
       "    .dataframe thead th {\n",
       "        text-align: right;\n",
       "    }\n",
       "</style>\n",
       "<table border=\"1\" class=\"dataframe\">\n",
       "  <thead>\n",
       "    <tr style=\"text-align: right;\">\n",
       "      <th></th>\n",
       "      <th>messages_included</th>\n",
       "      <th>mb_per_month_included</th>\n",
       "      <th>minutes_included</th>\n",
       "      <th>rub_monthly_fee</th>\n",
       "      <th>rub_per_gb</th>\n",
       "      <th>rub_per_message</th>\n",
       "      <th>rub_per_minute</th>\n",
       "      <th>tariff_name</th>\n",
       "    </tr>\n",
       "  </thead>\n",
       "  <tbody>\n",
       "    <tr>\n",
       "      <td>0</td>\n",
       "      <td>50</td>\n",
       "      <td>15360</td>\n",
       "      <td>500</td>\n",
       "      <td>550</td>\n",
       "      <td>200</td>\n",
       "      <td>3</td>\n",
       "      <td>3</td>\n",
       "      <td>smart</td>\n",
       "    </tr>\n",
       "    <tr>\n",
       "      <td>1</td>\n",
       "      <td>1000</td>\n",
       "      <td>30720</td>\n",
       "      <td>3000</td>\n",
       "      <td>1950</td>\n",
       "      <td>150</td>\n",
       "      <td>1</td>\n",
       "      <td>1</td>\n",
       "      <td>ultra</td>\n",
       "    </tr>\n",
       "  </tbody>\n",
       "</table>\n",
       "</div>"
      ],
      "text/plain": [
       "   messages_included  mb_per_month_included  minutes_included  \\\n",
       "0                 50                  15360               500   \n",
       "1               1000                  30720              3000   \n",
       "\n",
       "   rub_monthly_fee  rub_per_gb  rub_per_message  rub_per_minute tariff_name  \n",
       "0              550         200                3               3       smart  \n",
       "1             1950         150                1               1       ultra  "
      ]
     },
     "execution_count": 10,
     "metadata": {},
     "output_type": "execute_result"
    }
   ],
   "source": [
    "data_tariffs = pd.read_csv('/datasets/tariffs.csv')\n",
    "data_tariffs.head()"
   ]
  },
  {
   "cell_type": "markdown",
   "metadata": {},
   "source": [
    "## Предобработка данных"
   ]
  },
  {
   "cell_type": "markdown",
   "metadata": {},
   "source": [
    "Что касается пропусков, то они присутствуют только в таблице **users** в столбце **churn_date**. Как упоминалось ранее, значения столбца - дата прекращения пользования тарифом и если значение пропущено, то тариф ещё действовал на момент выгрузки данных. Поэтому пункт по заполнению пропущенных значений заканчивается на этом:)"
   ]
  },
  {
   "cell_type": "markdown",
   "metadata": {},
   "source": [
    "Что касается дубликатов, то проверим каждую таблицу на их наличие"
   ]
  },
  {
   "cell_type": "code",
   "execution_count": 11,
   "metadata": {},
   "outputs": [
    {
     "data": {
      "text/plain": [
       "0"
      ]
     },
     "execution_count": 11,
     "metadata": {},
     "output_type": "execute_result"
    }
   ],
   "source": [
    "data_users.duplicated().sum()"
   ]
  },
  {
   "cell_type": "code",
   "execution_count": 12,
   "metadata": {},
   "outputs": [
    {
     "data": {
      "text/plain": [
       "0"
      ]
     },
     "execution_count": 12,
     "metadata": {},
     "output_type": "execute_result"
    }
   ],
   "source": [
    "data_calls.duplicated().sum()"
   ]
  },
  {
   "cell_type": "code",
   "execution_count": 13,
   "metadata": {},
   "outputs": [
    {
     "data": {
      "text/plain": [
       "0"
      ]
     },
     "execution_count": 13,
     "metadata": {},
     "output_type": "execute_result"
    }
   ],
   "source": [
    "data_messages.duplicated().sum()"
   ]
  },
  {
   "cell_type": "code",
   "execution_count": 14,
   "metadata": {},
   "outputs": [
    {
     "data": {
      "text/plain": [
       "0"
      ]
     },
     "execution_count": 14,
     "metadata": {},
     "output_type": "execute_result"
    }
   ],
   "source": [
    "data_internet.duplicated().sum()"
   ]
  },
  {
   "cell_type": "code",
   "execution_count": 15,
   "metadata": {},
   "outputs": [
    {
     "data": {
      "text/plain": [
       "0"
      ]
     },
     "execution_count": 15,
     "metadata": {},
     "output_type": "execute_result"
    }
   ],
   "source": [
    "data_tariffs.duplicated().sum()"
   ]
  },
  {
   "cell_type": "markdown",
   "metadata": {},
   "source": [
    "Дубликаты отсутствуют, поэтому нам остается один пункт по предобработке данных - приведение к нужному типу"
   ]
  },
  {
   "cell_type": "markdown",
   "metadata": {},
   "source": [
    "### Таблица users"
   ]
  },
  {
   "cell_type": "markdown",
   "metadata": {},
   "source": [
    "Посмотрим, какие типы данных соответствуют каждому столбцу"
   ]
  },
  {
   "cell_type": "code",
   "execution_count": 16,
   "metadata": {},
   "outputs": [
    {
     "data": {
      "text/plain": [
       "user_id        int64\n",
       "age            int64\n",
       "churn_date    object\n",
       "city          object\n",
       "first_name    object\n",
       "last_name     object\n",
       "reg_date      object\n",
       "tariff        object\n",
       "dtype: object"
      ]
     },
     "execution_count": 16,
     "metadata": {},
     "output_type": "execute_result"
    }
   ],
   "source": [
    "data_users.dtypes"
   ]
  },
  {
   "cell_type": "markdown",
   "metadata": {},
   "source": [
    "#### Столбец churn_date"
   ]
  },
  {
   "cell_type": "markdown",
   "metadata": {},
   "source": [
    "Значения столбца - дата прекращения пользования тарифом. Поэтому тип столбца должен быть datetime.\n",
    "Посмотрим, в каком формате должна быть записана дата в этом столбце."
   ]
  },
  {
   "cell_type": "code",
   "execution_count": 17,
   "metadata": {},
   "outputs": [
    {
     "data": {
      "text/plain": [
       "19    2018-10-05\n",
       "20    2018-12-18\n",
       "34    2018-11-21\n",
       "50    2018-10-03\n",
       "51    2018-10-14\n",
       "Name: churn_date, dtype: object"
      ]
     },
     "execution_count": 17,
     "metadata": {},
     "output_type": "execute_result"
    }
   ],
   "source": [
    "data_users[data_users['churn_date'].isna() == False]['churn_date'].head()"
   ]
  },
  {
   "cell_type": "markdown",
   "metadata": {},
   "source": [
    "Приведем тип столбца к datetime в необходимом формате"
   ]
  },
  {
   "cell_type": "code",
   "execution_count": 18,
   "metadata": {},
   "outputs": [],
   "source": [
    "data_users['churn_date'] = pd.to_datetime(data_users['churn_date'], format='%Y-%m-%d')"
   ]
  },
  {
   "cell_type": "markdown",
   "metadata": {},
   "source": [
    "#### Столбец reg_date"
   ]
  },
  {
   "cell_type": "markdown",
   "metadata": {},
   "source": [
    "Значения столбца - дата подключения тарифа. Следовательно, тип должен соответствовать datetime. Посмотрим, в каком формате должна отображаться дата."
   ]
  },
  {
   "cell_type": "code",
   "execution_count": 19,
   "metadata": {},
   "outputs": [
    {
     "data": {
      "text/plain": [
       "0    2018-05-25\n",
       "1    2018-11-01\n",
       "2    2018-06-17\n",
       "3    2018-08-17\n",
       "4    2018-05-14\n",
       "Name: reg_date, dtype: object"
      ]
     },
     "execution_count": 19,
     "metadata": {},
     "output_type": "execute_result"
    }
   ],
   "source": [
    "data_users['reg_date'].head()"
   ]
  },
  {
   "cell_type": "markdown",
   "metadata": {},
   "source": [
    "Приведем тип столбца к datetime в необходимом формате"
   ]
  },
  {
   "cell_type": "code",
   "execution_count": 20,
   "metadata": {},
   "outputs": [],
   "source": [
    "data_users['reg_date'] = pd.to_datetime(data_users['reg_date'], format='%Y-%m-%d')"
   ]
  },
  {
   "cell_type": "markdown",
   "metadata": {},
   "source": [
    "### Таблица calls"
   ]
  },
  {
   "cell_type": "markdown",
   "metadata": {},
   "source": [
    "Посмотрим, какие типы данных соответствуют каждому столбцу"
   ]
  },
  {
   "cell_type": "code",
   "execution_count": 21,
   "metadata": {},
   "outputs": [
    {
     "data": {
      "text/plain": [
       "id            object\n",
       "call_date     object\n",
       "duration     float64\n",
       "user_id        int64\n",
       "dtype: object"
      ]
     },
     "execution_count": 21,
     "metadata": {},
     "output_type": "execute_result"
    }
   ],
   "source": [
    "data_calls.dtypes"
   ]
  },
  {
   "cell_type": "markdown",
   "metadata": {},
   "source": [
    "#### Столбец call_date"
   ]
  },
  {
   "cell_type": "markdown",
   "metadata": {},
   "source": [
    "Значения столбца - дата звонка. Следовательно, тип должен соответствовать datetime. Посмотрим, в каком формате должна отображаться дата."
   ]
  },
  {
   "cell_type": "code",
   "execution_count": 22,
   "metadata": {},
   "outputs": [
    {
     "data": {
      "text/plain": [
       "0    2018-07-25\n",
       "1    2018-08-17\n",
       "2    2018-06-11\n",
       "3    2018-09-21\n",
       "4    2018-12-15\n",
       "Name: call_date, dtype: object"
      ]
     },
     "execution_count": 22,
     "metadata": {},
     "output_type": "execute_result"
    }
   ],
   "source": [
    "data_calls['call_date'].head()"
   ]
  },
  {
   "cell_type": "markdown",
   "metadata": {},
   "source": [
    "Приведем тип столбца к datetime в необходимом формате"
   ]
  },
  {
   "cell_type": "code",
   "execution_count": 23,
   "metadata": {},
   "outputs": [],
   "source": [
    "data_calls['call_date'] = pd.to_datetime(data_calls['call_date'], format='%Y-%m-%d')"
   ]
  },
  {
   "cell_type": "markdown",
   "metadata": {},
   "source": [
    "#### Столбец duration"
   ]
  },
  {
   "cell_type": "markdown",
   "metadata": {},
   "source": [
    "Как было сказано ранее в примечании, «Мегалайн» всегда округляет секунды до минут, а мегабайты — до гигабайт"
   ]
  },
  {
   "cell_type": "markdown",
   "metadata": {},
   "source": [
    "Поэтому округлим значения в столбце в большую сторону до минуты"
   ]
  },
  {
   "cell_type": "code",
   "execution_count": 24,
   "metadata": {},
   "outputs": [],
   "source": [
    "data_calls['duration'] = data_calls['duration'].apply(np.ceil)"
   ]
  },
  {
   "cell_type": "markdown",
   "metadata": {},
   "source": [
    "### Таблица messages"
   ]
  },
  {
   "cell_type": "markdown",
   "metadata": {},
   "source": [
    "Посмотрим, какие типы данных соответствуют каждому столбцу"
   ]
  },
  {
   "cell_type": "code",
   "execution_count": 25,
   "metadata": {},
   "outputs": [
    {
     "data": {
      "text/plain": [
       "id              object\n",
       "message_date    object\n",
       "user_id          int64\n",
       "dtype: object"
      ]
     },
     "execution_count": 25,
     "metadata": {},
     "output_type": "execute_result"
    }
   ],
   "source": [
    "data_messages.dtypes"
   ]
  },
  {
   "cell_type": "markdown",
   "metadata": {},
   "source": [
    "#### Столбец message_date"
   ]
  },
  {
   "cell_type": "markdown",
   "metadata": {},
   "source": [
    "Значения столбца - дата сообщения.Следовательно, тип должен соответствовать datetime. Посмотрим, в каком формате должна отображаться дата."
   ]
  },
  {
   "cell_type": "code",
   "execution_count": 26,
   "metadata": {},
   "outputs": [
    {
     "data": {
      "text/plain": [
       "0    2018-06-27\n",
       "1    2018-10-08\n",
       "2    2018-08-04\n",
       "3    2018-06-16\n",
       "4    2018-12-05\n",
       "Name: message_date, dtype: object"
      ]
     },
     "execution_count": 26,
     "metadata": {},
     "output_type": "execute_result"
    }
   ],
   "source": [
    "data_messages['message_date'].head()"
   ]
  },
  {
   "cell_type": "markdown",
   "metadata": {},
   "source": [
    "Приведем тип столбца к datetime в необходимом формате"
   ]
  },
  {
   "cell_type": "code",
   "execution_count": 27,
   "metadata": {},
   "outputs": [],
   "source": [
    "data_messages['message_date'] = pd.to_datetime(data_messages['message_date'], format='%Y-%m-%d')"
   ]
  },
  {
   "cell_type": "markdown",
   "metadata": {},
   "source": [
    "### Таблица internet"
   ]
  },
  {
   "cell_type": "code",
   "execution_count": 28,
   "metadata": {},
   "outputs": [
    {
     "data": {
      "text/html": [
       "<div>\n",
       "<style scoped>\n",
       "    .dataframe tbody tr th:only-of-type {\n",
       "        vertical-align: middle;\n",
       "    }\n",
       "\n",
       "    .dataframe tbody tr th {\n",
       "        vertical-align: top;\n",
       "    }\n",
       "\n",
       "    .dataframe thead th {\n",
       "        text-align: right;\n",
       "    }\n",
       "</style>\n",
       "<table border=\"1\" class=\"dataframe\">\n",
       "  <thead>\n",
       "    <tr style=\"text-align: right;\">\n",
       "      <th></th>\n",
       "      <th>Unnamed: 0</th>\n",
       "      <th>id</th>\n",
       "      <th>mb_used</th>\n",
       "      <th>session_date</th>\n",
       "      <th>user_id</th>\n",
       "    </tr>\n",
       "  </thead>\n",
       "  <tbody>\n",
       "    <tr>\n",
       "      <td>0</td>\n",
       "      <td>0</td>\n",
       "      <td>1000_0</td>\n",
       "      <td>112.95</td>\n",
       "      <td>2018-11-25</td>\n",
       "      <td>1000</td>\n",
       "    </tr>\n",
       "    <tr>\n",
       "      <td>1</td>\n",
       "      <td>1</td>\n",
       "      <td>1000_1</td>\n",
       "      <td>1052.81</td>\n",
       "      <td>2018-09-07</td>\n",
       "      <td>1000</td>\n",
       "    </tr>\n",
       "    <tr>\n",
       "      <td>2</td>\n",
       "      <td>2</td>\n",
       "      <td>1000_2</td>\n",
       "      <td>1197.26</td>\n",
       "      <td>2018-06-25</td>\n",
       "      <td>1000</td>\n",
       "    </tr>\n",
       "    <tr>\n",
       "      <td>3</td>\n",
       "      <td>3</td>\n",
       "      <td>1000_3</td>\n",
       "      <td>550.27</td>\n",
       "      <td>2018-08-22</td>\n",
       "      <td>1000</td>\n",
       "    </tr>\n",
       "    <tr>\n",
       "      <td>4</td>\n",
       "      <td>4</td>\n",
       "      <td>1000_4</td>\n",
       "      <td>302.56</td>\n",
       "      <td>2018-09-24</td>\n",
       "      <td>1000</td>\n",
       "    </tr>\n",
       "  </tbody>\n",
       "</table>\n",
       "</div>"
      ],
      "text/plain": [
       "   Unnamed: 0      id  mb_used session_date  user_id\n",
       "0           0  1000_0   112.95   2018-11-25     1000\n",
       "1           1  1000_1  1052.81   2018-09-07     1000\n",
       "2           2  1000_2  1197.26   2018-06-25     1000\n",
       "3           3  1000_3   550.27   2018-08-22     1000\n",
       "4           4  1000_4   302.56   2018-09-24     1000"
      ]
     },
     "execution_count": 28,
     "metadata": {},
     "output_type": "execute_result"
    }
   ],
   "source": [
    "data_internet.head()"
   ]
  },
  {
   "cell_type": "markdown",
   "metadata": {},
   "source": [
    "В данной таблице откуда-то взялся непонятный столбец (которого даже не было в описании), который просто дублирует индексы. Удалим его."
   ]
  },
  {
   "cell_type": "code",
   "execution_count": 29,
   "metadata": {},
   "outputs": [],
   "source": [
    "del data_internet['Unnamed: 0']"
   ]
  },
  {
   "cell_type": "markdown",
   "metadata": {},
   "source": [
    "Посмотрим, какие типы данных соответствуют каждому столбцу"
   ]
  },
  {
   "cell_type": "code",
   "execution_count": 30,
   "metadata": {},
   "outputs": [
    {
     "data": {
      "text/plain": [
       "id               object\n",
       "mb_used         float64\n",
       "session_date     object\n",
       "user_id           int64\n",
       "dtype: object"
      ]
     },
     "execution_count": 30,
     "metadata": {},
     "output_type": "execute_result"
    }
   ],
   "source": [
    "data_internet.dtypes"
   ]
  },
  {
   "cell_type": "markdown",
   "metadata": {},
   "source": [
    "#### Столбец session_date"
   ]
  },
  {
   "cell_type": "markdown",
   "metadata": {},
   "source": [
    "Значения столбца - дата интернет-сессии.Следовательно, тип должен соответствовать datetime. Посмотрим, в каком формате должна отображаться дата."
   ]
  },
  {
   "cell_type": "code",
   "execution_count": 31,
   "metadata": {},
   "outputs": [
    {
     "data": {
      "text/plain": [
       "0    2018-11-25\n",
       "1    2018-09-07\n",
       "2    2018-06-25\n",
       "3    2018-08-22\n",
       "4    2018-09-24\n",
       "Name: session_date, dtype: object"
      ]
     },
     "execution_count": 31,
     "metadata": {},
     "output_type": "execute_result"
    }
   ],
   "source": [
    "data_internet['session_date'].head()"
   ]
  },
  {
   "cell_type": "markdown",
   "metadata": {},
   "source": [
    "Приведем тип столбца к datetime в необходимом формате"
   ]
  },
  {
   "cell_type": "code",
   "execution_count": 32,
   "metadata": {},
   "outputs": [],
   "source": [
    "data_internet['session_date'] = pd.to_datetime(data_internet['session_date'], format='%Y-%m-%d')"
   ]
  },
  {
   "cell_type": "markdown",
   "metadata": {},
   "source": [
    "## Обнаруженные ошибки в данных"
   ]
  },
  {
   "cell_type": "markdown",
   "metadata": {},
   "source": [
    "В датасетах по звонкам и израсходованным интернет-трафикам присутствуют нулевые значения:\n",
    "- Звонки\n",
    "\n",
    "Нулевые значения - это не ошибка. Нулями обозначены пропущенные звонки, поэтому обрабатывать их каким-либо образом не следует\n",
    "- Интернет-трафик\n",
    "\n",
    "Нулевые значения - это сессии, когда подлючение к интернету было включено, но в дальнейшем не было произведено ни одной операции  (например, случаи, когда появляется и сразу пропадает связь). Эти строки необходимо исключить из датафрейма."
   ]
  },
  {
   "cell_type": "code",
   "execution_count": 33,
   "metadata": {},
   "outputs": [],
   "source": [
    "data_internet['mb_used'] = data_internet['mb_used'].replace(0, np.NaN)\n",
    "data_internet = data_internet.dropna()"
   ]
  },
  {
   "cell_type": "markdown",
   "metadata": {},
   "source": [
    "## Расчет требуемых показателей"
   ]
  },
  {
   "cell_type": "markdown",
   "metadata": {},
   "source": [
    "### Количество сделанных звонков и израсходованных минут разговора по месяцам"
   ]
  },
  {
   "cell_type": "markdown",
   "metadata": {},
   "source": [
    "Добавим столбец, отображающий месяц каждого звонка"
   ]
  },
  {
   "cell_type": "code",
   "execution_count": 34,
   "metadata": {},
   "outputs": [],
   "source": [
    "data_calls['month'] = pd.DatetimeIndex(data_calls['call_date']).month"
   ]
  },
  {
   "cell_type": "markdown",
   "metadata": {},
   "source": [
    "Посчитаем количество звонков для каждого пользователя помесячно "
   ]
  },
  {
   "cell_type": "code",
   "execution_count": 35,
   "metadata": {},
   "outputs": [],
   "source": [
    "calls_per_month = data_calls.pivot_table(index='user_id', values='id',\n",
    "                                         columns='month', aggfunc='count')"
   ]
  },
  {
   "cell_type": "markdown",
   "metadata": {},
   "source": [
    "Посчитаем количество израсходованных минут для каждого пользователя помесячно"
   ]
  },
  {
   "cell_type": "code",
   "execution_count": 36,
   "metadata": {},
   "outputs": [],
   "source": [
    "minutes_per_month = data_calls.groupby(['user_id', 'month'])['duration'].sum().reset_index()"
   ]
  },
  {
   "cell_type": "markdown",
   "metadata": {},
   "source": [
    "### Количество отправленных сообщений по месяцам"
   ]
  },
  {
   "cell_type": "markdown",
   "metadata": {},
   "source": [
    "Добавим столбец, отображающий месяц каждой отправленной смс"
   ]
  },
  {
   "cell_type": "code",
   "execution_count": 37,
   "metadata": {},
   "outputs": [],
   "source": [
    "data_messages['month'] = pd.DatetimeIndex(data_messages['message_date']).month"
   ]
  },
  {
   "cell_type": "markdown",
   "metadata": {},
   "source": [
    "Посчитаем количество отправленных сообщений для каждого пользователя помесячно"
   ]
  },
  {
   "cell_type": "code",
   "execution_count": 38,
   "metadata": {},
   "outputs": [],
   "source": [
    "messages_per_month = data_messages.groupby(['user_id', 'month'])['id'].count().reset_index()"
   ]
  },
  {
   "cell_type": "markdown",
   "metadata": {},
   "source": [
    "Переименуем столбец 'id' в 'messages'"
   ]
  },
  {
   "cell_type": "code",
   "execution_count": 39,
   "metadata": {},
   "outputs": [],
   "source": [
    "messages_per_month.rename(columns={'id':'messages'}, inplace=True)"
   ]
  },
  {
   "cell_type": "markdown",
   "metadata": {},
   "source": [
    "### Объем израсходованного интернет-трафика по месяцам"
   ]
  },
  {
   "cell_type": "markdown",
   "metadata": {},
   "source": [
    "Добавим столбец, отображающий месяц каждой интернет-сессии"
   ]
  },
  {
   "cell_type": "code",
   "execution_count": 40,
   "metadata": {},
   "outputs": [],
   "source": [
    "data_internet['month'] = pd.DatetimeIndex(data_internet['session_date']).month"
   ]
  },
  {
   "cell_type": "markdown",
   "metadata": {},
   "source": [
    "Посчитаем количество израсходованного интернет-трафика для каждого пользователя помесячно"
   ]
  },
  {
   "cell_type": "code",
   "execution_count": 41,
   "metadata": {},
   "outputs": [],
   "source": [
    "mb_per_month = data_internet.groupby(['user_id', 'month'])['mb_used'].sum().reset_index()"
   ]
  },
  {
   "cell_type": "markdown",
   "metadata": {},
   "source": [
    "### Помесячная выручка с каждого пользователя "
   ]
  },
  {
   "cell_type": "markdown",
   "metadata": {},
   "source": [
    "Создадим таблицу, в которой будут показаны помесячные расходы трафика для каждого пользователя, а также используемый тариф"
   ]
  },
  {
   "cell_type": "code",
   "execution_count": 42,
   "metadata": {},
   "outputs": [],
   "source": [
    "used_traffic = minutes_per_month.merge(messages_per_month, on=['user_id', 'month'],\n",
    "                        how='outer').merge(mb_per_month, on=['user_id', 'month'],\n",
    "                                           how='outer').merge(data_users[['user_id', 'tariff']],\n",
    "                                                              on='user_id', how='outer')"
   ]
  },
  {
   "cell_type": "markdown",
   "metadata": {},
   "source": [
    "Переведем мегабайты в гигабайты"
   ]
  },
  {
   "cell_type": "code",
   "execution_count": 43,
   "metadata": {},
   "outputs": [],
   "source": [
    "used_traffic['mb_used'] = used_traffic['mb_used'] / 1024\n",
    "used_traffic.rename(columns={'mb_used':'gb_used', 'duration': 'minutes'}, inplace=True)"
   ]
  },
  {
   "cell_type": "markdown",
   "metadata": {},
   "source": [
    "\"Мегалайн\" округляет значения помесячного интернет-трафика до гигабайта. Учтем этот факт."
   ]
  },
  {
   "cell_type": "code",
   "execution_count": 44,
   "metadata": {},
   "outputs": [],
   "source": [
    "used_traffic['gb_used'] = used_traffic['gb_used'].apply(np.ceil)"
   ]
  },
  {
   "cell_type": "markdown",
   "metadata": {},
   "source": [
    "В таблице присутствуют пустые значения (NaN). В остальных ячейках присутствуют конкретные значения. Следовательно, можно сделать вывод, что если значения нет, значит конкретный пользователь в конкретный месяц не расходовал соответствующий трафик. Поэтому заполним эти NaN нулями"
   ]
  },
  {
   "cell_type": "code",
   "execution_count": 45,
   "metadata": {},
   "outputs": [],
   "source": [
    "used_traffic = used_traffic = used_traffic.fillna(0)"
   ]
  },
  {
   "cell_type": "markdown",
   "metadata": {},
   "source": [
    "Напишем функцию, определяющую помесячный доход от каждого пользователя"
   ]
  },
  {
   "cell_type": "code",
   "execution_count": 46,
   "metadata": {},
   "outputs": [],
   "source": [
    "def income(used_traffic):\n",
    "    if used_traffic['tariff'] == 'smart':            ### SMART\n",
    "        if (used_traffic['minutes'] <= 500 and      ### укладываемся в тарифный план\n",
    "            used_traffic['messages'] <= 50 and\n",
    "            used_traffic['gb_used'] <= 15):\n",
    "            return 550\n",
    "        if (used_traffic['minutes'] > 500 and       ### превышаем лимит только по звонкам\n",
    "            used_traffic['messages'] <= 50 and\n",
    "            used_traffic['gb_used'] <= 15):\n",
    "            return 550 + (used_traffic['minutes'] - 500)*3\n",
    "        if (used_traffic['minutes'] <= 500 and      ### превышаем лимит только по смс\n",
    "            used_traffic['messages'] > 50 and\n",
    "            used_traffic['gb_used'] <= 15):\n",
    "            return 550 + (used_traffic['messages'] - 50)*3\n",
    "        if (used_traffic['minutes'] <= 500 and       ### превышаем лимит только по интернету\n",
    "            used_traffic['messages'] <= 50 and\n",
    "            used_traffic['gb_used'] > 15):\n",
    "            return 550 + 200*math.ceil(used_traffic['gb_used'] - 15)\n",
    "        if (used_traffic['minutes'] > 500 and      ### превышаем лимит по звонкам и смс\n",
    "            used_traffic['messages'] > 50 and\n",
    "            used_traffic['gb_used'] <= 15):\n",
    "            return 550 + (used_traffic['minutes'] - 500)*3 + (used_traffic['messages'] - 50)*3\n",
    "        if (used_traffic['minutes'] > 500 and      ### превышаем лимит по звонкам и интернету\n",
    "            used_traffic['messages'] <= 50 and\n",
    "            used_traffic['gb_used'] > 15):\n",
    "            return 550 + (used_traffic['minutes'] - 500)*3 + 200*math.ceil(used_traffic['gb_used'] - 15)   \n",
    "        if (used_traffic['minutes'] <= 500 and      ### превышаем лимит по смс и интернету\n",
    "            used_traffic['messages'] > 50 and\n",
    "            used_traffic['gb_used'] > 15):\n",
    "            return 550 + (used_traffic['messages'] - 500)*3 + 200*math.ceil(used_traffic['gb_used'] - 15)    \n",
    "        if (used_traffic['minutes'] > 500 and      ### превышаем лимит по всему\n",
    "            used_traffic['messages'] > 50 and\n",
    "            used_traffic['gb_used'] > 15):\n",
    "            return 550 + (used_traffic['minutes'] - 500)*3 + (used_traffic['messages'] - 50)*3 + 200*math.ceil(used_traffic['gb_used'] - 15)  \n",
    "    if used_traffic['tariff'] == 'ultra':            ### ULTRA\n",
    "        if (used_traffic['minutes'] <= 3000 and      ### укладываемся в тарифный план\n",
    "            used_traffic['messages'] <= 1000 and\n",
    "            used_traffic['gb_used'] <= 30):\n",
    "            return 1950\n",
    "        if (used_traffic['minutes'] > 3000 and       ### превышаем лимит только по звонкам\n",
    "            used_traffic['messages'] <= 1000 and\n",
    "            used_traffic['gb_used'] <= 30):\n",
    "            return 1950 + (used_traffic['minutes'] - 3000)\n",
    "        if (used_traffic['minutes'] <= 3000 and      ### превышаем лимит только по смс\n",
    "            used_traffic['messages'] > 1000 and\n",
    "            used_traffic['gb_used'] <= 30):\n",
    "            return 1950 + (used_traffic['messages'] - 1000)\n",
    "        if (used_traffic['minutes'] <= 3000 and       ### превышаем лимит только по интернету\n",
    "            used_traffic['messages'] <= 1000 and\n",
    "            used_traffic['gb_used'] > 30):\n",
    "            return 1950 + 150*math.ceil(used_traffic['gb_used'] - 30)\n",
    "        if (used_traffic['minutes'] > 3000 and      ### превышаем лимит по звонкам и смс\n",
    "            used_traffic['messages'] > 1000 and\n",
    "            used_traffic['gb_used'] <= 30):\n",
    "            return 1950 + (used_traffic['minutes'] - 3000) + (used_traffic['messages'] - 1000)\n",
    "        if (used_traffic['minutes'] > 3000 and      ### превышаем лимит по звонкам и интернету\n",
    "            used_traffic['messages'] <= 1000 and\n",
    "            used_traffic['gb_used'] > 30):\n",
    "            return 1950 + (used_traffic['minutes'] - 3000) + 150*math.ceil(used_traffic['gb_used'] - 30)    \n",
    "        if (used_traffic['minutes'] <= 3000 and      ### превышаем лимит по смс и интернету\n",
    "            used_traffic['messages'] > 1000 and\n",
    "            used_traffic['gb_used'] > 30):\n",
    "            return 1950 + (used_traffic['messages'] - 1000) + 150*math.ceil(used_traffic['gb_used'] - 30)\n",
    "        if (used_traffic['minutes'] > 3000 and      ### превышаем лимит по всему\n",
    "            used_traffic['messages'] > 1000 and\n",
    "            used_traffic['gb_used'] > 30):\n",
    "            return 1950 + (used_traffic['minutes'] - 3000) + (used_traffic['messages'] - 1000) + 150*math.ceil(used_traffic['gb_used'] - 30)   \n",
    "       \n",
    "            "
   ]
  },
  {
   "cell_type": "markdown",
   "metadata": {},
   "source": [
    "Создадим столбец, отображающий помесячный доход от каждого пользователя"
   ]
  },
  {
   "cell_type": "code",
   "execution_count": 47,
   "metadata": {},
   "outputs": [],
   "source": [
    "used_traffic['income'] = used_traffic.apply(income, axis=1)"
   ]
  },
  {
   "cell_type": "code",
   "execution_count": 48,
   "metadata": {},
   "outputs": [
    {
     "data": {
      "text/html": [
       "<div>\n",
       "<style scoped>\n",
       "    .dataframe tbody tr th:only-of-type {\n",
       "        vertical-align: middle;\n",
       "    }\n",
       "\n",
       "    .dataframe tbody tr th {\n",
       "        vertical-align: top;\n",
       "    }\n",
       "\n",
       "    .dataframe thead th {\n",
       "        text-align: right;\n",
       "    }\n",
       "</style>\n",
       "<table border=\"1\" class=\"dataframe\">\n",
       "  <thead>\n",
       "    <tr style=\"text-align: right;\">\n",
       "      <th></th>\n",
       "      <th>user_id</th>\n",
       "      <th>month</th>\n",
       "      <th>minutes</th>\n",
       "      <th>messages</th>\n",
       "      <th>gb_used</th>\n",
       "      <th>tariff</th>\n",
       "      <th>income</th>\n",
       "    </tr>\n",
       "  </thead>\n",
       "  <tbody>\n",
       "    <tr>\n",
       "      <td>0</td>\n",
       "      <td>1000</td>\n",
       "      <td>5.0</td>\n",
       "      <td>159.0</td>\n",
       "      <td>22.0</td>\n",
       "      <td>3.0</td>\n",
       "      <td>ultra</td>\n",
       "      <td>1950.0</td>\n",
       "    </tr>\n",
       "    <tr>\n",
       "      <td>1</td>\n",
       "      <td>1000</td>\n",
       "      <td>6.0</td>\n",
       "      <td>172.0</td>\n",
       "      <td>60.0</td>\n",
       "      <td>23.0</td>\n",
       "      <td>ultra</td>\n",
       "      <td>1950.0</td>\n",
       "    </tr>\n",
       "    <tr>\n",
       "      <td>2</td>\n",
       "      <td>1000</td>\n",
       "      <td>7.0</td>\n",
       "      <td>340.0</td>\n",
       "      <td>75.0</td>\n",
       "      <td>14.0</td>\n",
       "      <td>ultra</td>\n",
       "      <td>1950.0</td>\n",
       "    </tr>\n",
       "    <tr>\n",
       "      <td>3</td>\n",
       "      <td>1000</td>\n",
       "      <td>8.0</td>\n",
       "      <td>408.0</td>\n",
       "      <td>81.0</td>\n",
       "      <td>14.0</td>\n",
       "      <td>ultra</td>\n",
       "      <td>1950.0</td>\n",
       "    </tr>\n",
       "    <tr>\n",
       "      <td>4</td>\n",
       "      <td>1000</td>\n",
       "      <td>9.0</td>\n",
       "      <td>466.0</td>\n",
       "      <td>57.0</td>\n",
       "      <td>15.0</td>\n",
       "      <td>ultra</td>\n",
       "      <td>1950.0</td>\n",
       "    </tr>\n",
       "    <tr>\n",
       "      <td>...</td>\n",
       "      <td>...</td>\n",
       "      <td>...</td>\n",
       "      <td>...</td>\n",
       "      <td>...</td>\n",
       "      <td>...</td>\n",
       "      <td>...</td>\n",
       "      <td>...</td>\n",
       "    </tr>\n",
       "    <tr>\n",
       "      <td>3211</td>\n",
       "      <td>1489</td>\n",
       "      <td>10.0</td>\n",
       "      <td>0.0</td>\n",
       "      <td>21.0</td>\n",
       "      <td>20.0</td>\n",
       "      <td>smart</td>\n",
       "      <td>1550.0</td>\n",
       "    </tr>\n",
       "    <tr>\n",
       "      <td>3212</td>\n",
       "      <td>1489</td>\n",
       "      <td>11.0</td>\n",
       "      <td>0.0</td>\n",
       "      <td>20.0</td>\n",
       "      <td>18.0</td>\n",
       "      <td>smart</td>\n",
       "      <td>1150.0</td>\n",
       "    </tr>\n",
       "    <tr>\n",
       "      <td>3213</td>\n",
       "      <td>1489</td>\n",
       "      <td>12.0</td>\n",
       "      <td>0.0</td>\n",
       "      <td>35.0</td>\n",
       "      <td>17.0</td>\n",
       "      <td>smart</td>\n",
       "      <td>950.0</td>\n",
       "    </tr>\n",
       "    <tr>\n",
       "      <td>3214</td>\n",
       "      <td>1128</td>\n",
       "      <td>0.0</td>\n",
       "      <td>0.0</td>\n",
       "      <td>0.0</td>\n",
       "      <td>0.0</td>\n",
       "      <td>ultra</td>\n",
       "      <td>1950.0</td>\n",
       "    </tr>\n",
       "    <tr>\n",
       "      <td>3215</td>\n",
       "      <td>1371</td>\n",
       "      <td>0.0</td>\n",
       "      <td>0.0</td>\n",
       "      <td>0.0</td>\n",
       "      <td>0.0</td>\n",
       "      <td>smart</td>\n",
       "      <td>550.0</td>\n",
       "    </tr>\n",
       "  </tbody>\n",
       "</table>\n",
       "<p>3216 rows × 7 columns</p>\n",
       "</div>"
      ],
      "text/plain": [
       "      user_id  month  minutes  messages  gb_used tariff  income\n",
       "0        1000    5.0    159.0      22.0      3.0  ultra  1950.0\n",
       "1        1000    6.0    172.0      60.0     23.0  ultra  1950.0\n",
       "2        1000    7.0    340.0      75.0     14.0  ultra  1950.0\n",
       "3        1000    8.0    408.0      81.0     14.0  ultra  1950.0\n",
       "4        1000    9.0    466.0      57.0     15.0  ultra  1950.0\n",
       "...       ...    ...      ...       ...      ...    ...     ...\n",
       "3211     1489   10.0      0.0      21.0     20.0  smart  1550.0\n",
       "3212     1489   11.0      0.0      20.0     18.0  smart  1150.0\n",
       "3213     1489   12.0      0.0      35.0     17.0  smart   950.0\n",
       "3214     1128    0.0      0.0       0.0      0.0  ultra  1950.0\n",
       "3215     1371    0.0      0.0       0.0      0.0  smart   550.0\n",
       "\n",
       "[3216 rows x 7 columns]"
      ]
     },
     "execution_count": 48,
     "metadata": {},
     "output_type": "execute_result"
    }
   ],
   "source": [
    "used_traffic"
   ]
  },
  {
   "cell_type": "markdown",
   "metadata": {},
   "source": [
    "## Анализ данных"
   ]
  },
  {
   "cell_type": "code",
   "execution_count": 49,
   "metadata": {},
   "outputs": [
    {
     "data": {
      "text/html": [
       "<div>\n",
       "<style scoped>\n",
       "    .dataframe tbody tr th:only-of-type {\n",
       "        vertical-align: middle;\n",
       "    }\n",
       "\n",
       "    .dataframe tbody tr th {\n",
       "        vertical-align: top;\n",
       "    }\n",
       "\n",
       "    .dataframe thead th {\n",
       "        text-align: right;\n",
       "    }\n",
       "</style>\n",
       "<table border=\"1\" class=\"dataframe\">\n",
       "  <thead>\n",
       "    <tr style=\"text-align: right;\">\n",
       "      <th></th>\n",
       "      <th>user_id</th>\n",
       "      <th>month</th>\n",
       "      <th>minutes</th>\n",
       "      <th>messages</th>\n",
       "      <th>gb_used</th>\n",
       "      <th>tariff</th>\n",
       "      <th>income</th>\n",
       "    </tr>\n",
       "  </thead>\n",
       "  <tbody>\n",
       "    <tr>\n",
       "      <td>0</td>\n",
       "      <td>1000</td>\n",
       "      <td>5.0</td>\n",
       "      <td>159.0</td>\n",
       "      <td>22.0</td>\n",
       "      <td>3.0</td>\n",
       "      <td>ultra</td>\n",
       "      <td>1950.0</td>\n",
       "    </tr>\n",
       "    <tr>\n",
       "      <td>1</td>\n",
       "      <td>1000</td>\n",
       "      <td>6.0</td>\n",
       "      <td>172.0</td>\n",
       "      <td>60.0</td>\n",
       "      <td>23.0</td>\n",
       "      <td>ultra</td>\n",
       "      <td>1950.0</td>\n",
       "    </tr>\n",
       "    <tr>\n",
       "      <td>2</td>\n",
       "      <td>1000</td>\n",
       "      <td>7.0</td>\n",
       "      <td>340.0</td>\n",
       "      <td>75.0</td>\n",
       "      <td>14.0</td>\n",
       "      <td>ultra</td>\n",
       "      <td>1950.0</td>\n",
       "    </tr>\n",
       "    <tr>\n",
       "      <td>3</td>\n",
       "      <td>1000</td>\n",
       "      <td>8.0</td>\n",
       "      <td>408.0</td>\n",
       "      <td>81.0</td>\n",
       "      <td>14.0</td>\n",
       "      <td>ultra</td>\n",
       "      <td>1950.0</td>\n",
       "    </tr>\n",
       "    <tr>\n",
       "      <td>4</td>\n",
       "      <td>1000</td>\n",
       "      <td>9.0</td>\n",
       "      <td>466.0</td>\n",
       "      <td>57.0</td>\n",
       "      <td>15.0</td>\n",
       "      <td>ultra</td>\n",
       "      <td>1950.0</td>\n",
       "    </tr>\n",
       "  </tbody>\n",
       "</table>\n",
       "</div>"
      ],
      "text/plain": [
       "   user_id  month  minutes  messages  gb_used tariff  income\n",
       "0     1000    5.0    159.0      22.0      3.0  ultra  1950.0\n",
       "1     1000    6.0    172.0      60.0     23.0  ultra  1950.0\n",
       "2     1000    7.0    340.0      75.0     14.0  ultra  1950.0\n",
       "3     1000    8.0    408.0      81.0     14.0  ultra  1950.0\n",
       "4     1000    9.0    466.0      57.0     15.0  ultra  1950.0"
      ]
     },
     "execution_count": 49,
     "metadata": {},
     "output_type": "execute_result"
    }
   ],
   "source": [
    "used_traffic.head()"
   ]
  },
  {
   "cell_type": "markdown",
   "metadata": {},
   "source": [
    "### \"smart\" - клиенты"
   ]
  },
  {
   "cell_type": "markdown",
   "metadata": {},
   "source": [
    "Выделем сегмент клиентов, использующих тариф \"smart\""
   ]
  },
  {
   "cell_type": "code",
   "execution_count": 50,
   "metadata": {},
   "outputs": [],
   "source": [
    "smart_clients = used_traffic.query('tariff==\"smart\"')"
   ]
  },
  {
   "cell_type": "markdown",
   "metadata": {},
   "source": [
    "Посчитаем среднее количество, дисперсию и стандартное отклонение для минут разговоров, количества сообщений и израсходованного интернет-трафика по месяцам. Также, построим гистограммы. "
   ]
  },
  {
   "cell_type": "code",
   "execution_count": 51,
   "metadata": {
    "scrolled": false
   },
   "outputs": [
    {
     "name": "stdout",
     "output_type": "stream",
     "text": [
      "--------------------------------Минуты разговора--------------------------------\n",
      "Среднее: 417.747533632287\n",
      "Дисперсия: 36265.12415310985\n",
      "Стандартное отклонение: 190.4340414765959\n"
     ]
    },
    {
     "data": {
      "image/png": "[encoded data removed]",
      "text/plain": [
       "<Figure size 432x288 with 1 Axes>"
      ]
     },
     "metadata": {
      "needs_background": "light"
     },
     "output_type": "display_data"
    },
    {
     "name": "stdout",
     "output_type": "stream",
     "text": [
      "\n",
      "\n",
      "\n",
      "--------------------------------Количество сообщений--------------------------------\n",
      "Среднее: 33.36905829596412\n",
      "Дисперсия: 796.5978766916688\n",
      "Стандартное отклонение: 28.224065559229217\n"
     ]
    },
    {
     "data": {
      "image/png": "[encoded data removed]",
      "text/plain": [
       "<Figure size 432x288 with 1 Axes>"
      ]
     },
     "metadata": {
      "needs_background": "light"
     },
     "output_type": "display_data"
    },
    {
     "name": "stdout",
     "output_type": "stream",
     "text": [
      "\n",
      "\n",
      "\n",
      "--------------------------------Объем интернет-трафика--------------------------------\n",
      "Среднее: 16.32152466367713\n",
      "Дисперсия: 33.11859498481772\n",
      "Стандартное отклонение: 5.754875757548352\n"
     ]
    },
    {
     "data": {
      "image/png": "[encoded data removed]",
      "text/plain": [
       "<Figure size 432x288 with 1 Axes>"
      ]
     },
     "metadata": {
      "needs_background": "light"
     },
     "output_type": "display_data"
    },
    {
     "name": "stdout",
     "output_type": "stream",
     "text": [
      "\n",
      "\n",
      "\n"
     ]
    }
   ],
   "source": [
    "columns = ['minutes', 'messages', 'gb_used']\n",
    "for col in columns:\n",
    "    if col == 'minutes':\n",
    "        print('--------------------------------Минуты разговора--------------------------------')\n",
    "    elif col == 'messages':\n",
    "        print('--------------------------------Количество сообщений--------------------------------')\n",
    "    elif col == 'gb_used':\n",
    "        print('--------------------------------Объем интернет-трафика--------------------------------')\n",
    "    print(f'Среднее: {smart_clients[col].mean()}')\n",
    "    print(f'Дисперсия: {np.var(smart_clients[col])}')\n",
    "    print(f'Стандартное отклонение: {np.std(smart_clients[col])}')\n",
    "    smart_clients[col].hist()\n",
    "    plt.show()\n",
    "    print(2*'\\n')\n",
    "        "
   ]
  },
  {
   "cell_type": "markdown",
   "metadata": {},
   "source": [
    "**Выводы:**\n",
    "- **Минуты разговора**: в среднем клиенты расходуют около 418 минут из 500 доступных. Гистограмма имеет вид нормального распределения с отрицательной скошенностью, что может говорить о том, что в большинству клиентов, использующих тариф smart все же хватает всключенных в тариф 500 минут.\n",
    "\n",
    "\n",
    "- **Количество сообщений:** в среднем клиенты отправляют около 33 смс из 50 доступных. Гистограмма имеет вид показательноко распределения: клиенты, которым хватает 50 смс, включенных в тариф - подавляющее большинство.\n",
    "\n",
    "\n",
    "- **Объем интернет-трафика:** в среднем клиенты расходуют около 16 Гб. Гистограма имеет вид нормального распределения. Выходит, что среднестатистическому клиенту, использующего тариф smart, недостаточно 15 Гб, включенных в тариф. "
   ]
  },
  {
   "cell_type": "markdown",
   "metadata": {},
   "source": [
    "### \"ultra\" - клиенты"
   ]
  },
  {
   "cell_type": "markdown",
   "metadata": {},
   "source": [
    "Выделем сегмент клиентов, использующих тариф \"ultra\""
   ]
  },
  {
   "cell_type": "code",
   "execution_count": 52,
   "metadata": {},
   "outputs": [],
   "source": [
    "ultra_clients = used_traffic.query('tariff==\"ultra\"')"
   ]
  },
  {
   "cell_type": "markdown",
   "metadata": {},
   "source": [
    "Посчитаем среднее количество, дисперсию и стандартное отклонение для минут разговоров, количества сообщений и израсходованного интернет-трафика по месяцам. Также, построим гистограммы. "
   ]
  },
  {
   "cell_type": "code",
   "execution_count": 53,
   "metadata": {
    "scrolled": false
   },
   "outputs": [
    {
     "name": "stdout",
     "output_type": "stream",
     "text": [
      "--------------------------------Минуты разговора--------------------------------\n",
      "Среднее: 526.0892494929006\n",
      "Дисперсия: 100950.00623331097\n",
      "Стандартное отклонение: 317.72630711559117\n"
     ]
    },
    {
     "data": {
      "image/png": "[encoded data removed]",
      "text/plain": [
       "<Figure size 432x288 with 1 Axes>"
      ]
     },
     "metadata": {
      "needs_background": "light"
     },
     "output_type": "display_data"
    },
    {
     "name": "stdout",
     "output_type": "stream",
     "text": [
      "\n",
      "\n",
      "\n",
      "--------------------------------Количество сообщений--------------------------------\n",
      "Среднее: 49.31338742393509\n",
      "Дисперсия: 2283.0995570851965\n",
      "Стандартное отклонение: 47.781791061922284\n"
     ]
    },
    {
     "data": {
      "image/png": "[encoded data removed]",
      "text/plain": [
       "<Figure size 432x288 with 1 Axes>"
      ]
     },
     "metadata": {
      "needs_background": "light"
     },
     "output_type": "display_data"
    },
    {
     "name": "stdout",
     "output_type": "stream",
     "text": [
      "\n",
      "\n",
      "\n",
      "--------------------------------Объем интернет-трафика--------------------------------\n",
      "Среднее: 19.474645030425965\n",
      "Дисперсия: 97.27978308900676\n",
      "Стандартное отклонение: 9.863051408616238\n"
     ]
    },
    {
     "data": {
      "image/png": "[encoded data removed]",
      "text/plain": [
       "<Figure size 432x288 with 1 Axes>"
      ]
     },
     "metadata": {
      "needs_background": "light"
     },
     "output_type": "display_data"
    },
    {
     "name": "stdout",
     "output_type": "stream",
     "text": [
      "\n",
      "\n",
      "\n"
     ]
    }
   ],
   "source": [
    "for col in columns:\n",
    "    if col == 'minutes':\n",
    "        print('--------------------------------Минуты разговора--------------------------------')\n",
    "    elif col == 'messages':\n",
    "        print('--------------------------------Количество сообщений--------------------------------')\n",
    "    elif col == 'gb_used':\n",
    "        print('--------------------------------Объем интернет-трафика--------------------------------')\n",
    "    print(f'Среднее: {ultra_clients[col].mean()}')\n",
    "    print(f'Дисперсия: {np.var(ultra_clients[col])}')\n",
    "    print(f'Стандартное отклонение: {np.std(ultra_clients[col])}')\n",
    "    ultra_clients[col].hist()\n",
    "    plt.show()\n",
    "    print(2*'\\n')\n",
    "        "
   ]
  },
  {
   "cell_type": "markdown",
   "metadata": {},
   "source": [
    "**Выводы:**\n",
    "- **Минуты разговора**: в среднем клиенты расходуют около 526 минут из 3000 доступных. Гистограмма имеет вид нормального распределения с явной отрицательной скошенностью. Так же видно, что подавляющее большинство клиентов данного тарифа не разговаривают более 1000 минут в месяц и нет ни одного клиента, который бы использовал сверхпакет по звонкам.\n",
    "\n",
    "\n",
    "- **Количество сообщений:** в среднем клиенты отправляют около 49 смс из 1000 доступных. Гистограмма имеет вид показательноко распределения. Так же, как и со звонками, нет ни одного клиента, использующего сверхпакет.\n",
    "\n",
    "\n",
    "- **Объем интернет-трафика:** в среднем клиенты расходуют около 19 Гб. Гистограма имеет вид нормального распределения с положительной скошенностью. Тем не менее, клиентов, которым не хватает 30 включенных в тариф Гб, не так и много."
   ]
  },
  {
   "cell_type": "code",
   "execution_count": 54,
   "metadata": {
    "scrolled": false
   },
   "outputs": [
    {
     "name": "stdout",
     "output_type": "stream",
     "text": [
      "--------------------------------Минуты разговора--------------------------------\n",
      "smart:\t\t\t\t\t\t\t\t\tultra:\n",
      "Среднее - 417.747533632287\t\t\t\t\tСреднее - 526.0892494929006\n",
      "Дисперсия - 36265.12415310985\t\t\t\t\tДисперсия - 100950.00623331097\n",
      "Стандартное отклонение - 190.4340414765959\t\t\t\tСтандартное отклонение - 317.72630711559117\n"
     ]
    },
    {
     "data": {
      "image/png": "[encoded data removed]",
      "text/plain": [
       "<Figure size 432x288 with 1 Axes>"
      ]
     },
     "metadata": {
      "needs_background": "light"
     },
     "output_type": "display_data"
    },
    {
     "name": "stdout",
     "output_type": "stream",
     "text": [
      "\n",
      "\n",
      "\n",
      "--------------------------------Количество сообщений--------------------------------\n",
      "smart:\t\t\t\t\t\t\t\t\tultra:\n",
      "Среднее - 33.36905829596412\t\t\t\t\tСреднее - 49.31338742393509\n",
      "Дисперсия - 796.5978766916688\t\t\t\t\tДисперсия - 2283.0995570851965\n",
      "Стандартное отклонение - 28.224065559229217\t\t\t\tСтандартное отклонение - 47.781791061922284\n"
     ]
    },
    {
     "data": {
      "image/png": "[encoded data removed]",
      "text/plain": [
       "<Figure size 432x288 with 1 Axes>"
      ]
     },
     "metadata": {
      "needs_background": "light"
     },
     "output_type": "display_data"
    },
    {
     "name": "stdout",
     "output_type": "stream",
     "text": [
      "\n",
      "\n",
      "\n",
      "--------------------------------Объем интернет-трафика--------------------------------\n",
      "smart:\t\t\t\t\t\t\t\t\tultra:\n",
      "Среднее - 16.32152466367713\t\t\t\t\tСреднее - 19.474645030425965\n",
      "Дисперсия - 33.11859498481772\t\t\t\t\tДисперсия - 97.27978308900676\n",
      "Стандартное отклонение - 5.754875757548352\t\t\t\tСтандартное отклонение - 9.863051408616238\n"
     ]
    },
    {
     "data": {
      "image/png": "[encoded data removed]",
      "text/plain": [
       "<Figure size 432x288 with 1 Axes>"
      ]
     },
     "metadata": {
      "needs_background": "light"
     },
     "output_type": "display_data"
    },
    {
     "name": "stdout",
     "output_type": "stream",
     "text": [
      "\n",
      "\n",
      "\n"
     ]
    }
   ],
   "source": [
    "for col in columns:\n",
    "    if col == 'minutes':\n",
    "        print('--------------------------------Минуты разговора--------------------------------')\n",
    "    elif col == 'messages':\n",
    "        print('--------------------------------Количество сообщений--------------------------------')\n",
    "    elif col == 'gb_used':\n",
    "        print('--------------------------------Объем интернет-трафика--------------------------------')\n",
    "    print('smart:', end=9*'\\t')\n",
    "    print('ultra:')\n",
    "    print(f'Среднее - {smart_clients[col].mean()}', end=5*'\\t')\n",
    "    print(f'Среднее - {ultra_clients[col].mean()}')\n",
    "    print(f'Дисперсия - {np.var(smart_clients[col])}', end=5*'\\t')\n",
    "    print(f'Дисперсия - {np.var(ultra_clients[col])}')\n",
    "    print(f'Стандартное отклонение - {np.std(smart_clients[col])}', end=4*'\\t')\n",
    "    print(f'Стандартное отклонение - {np.std(ultra_clients[col])}')\n",
    "    smart_clients[col].plot(y=col, kind='hist', alpha=1)\n",
    "    ultra_clients[col].plot(y=col, kind='hist', color='mediumspringgreen', alpha=0.7)\n",
    "    #plt.ylabel('')\n",
    "    plt.legend(['smart', 'ultra'])\n",
    "    plt.show()\n",
    "    print(2*'\\n')"
   ]
  },
  {
   "cell_type": "markdown",
   "metadata": {},
   "source": [
    "## Проверка гипотез"
   ]
  },
  {
   "cell_type": "markdown",
   "metadata": {},
   "source": [
    "### Первая гипотеза "
   ]
  },
  {
   "cell_type": "markdown",
   "metadata": {},
   "source": [
    "# \"Средняя выручка пользователей тарифов ultra и smart различаются\""
   ]
  },
  {
   "cell_type": "markdown",
   "metadata": {},
   "source": [
    "Чтобы это проверить, необходимо сформулировать нулевую (H0) и альтернативную гипотезу (H1):\n",
    "- Нулевая гипотеза (H0) - cредние выручки пользователей тарифов ultra и smart **равны**\n",
    "- Альтернативная гипотеза (H1) - средняя выручка пользователей тарифов ultra и smart **различаются**"
   ]
  },
  {
   "cell_type": "markdown",
   "metadata": {},
   "source": [
    "Так как нам важен только факт различия средней выручки пользователей разных тарифов, то для проверки гипотез будем использовать двусторонний t-тест для двух генеральных совокупностей. Зададим пороговое значение aplha = 0.05"
   ]
  },
  {
   "cell_type": "code",
   "execution_count": 55,
   "metadata": {},
   "outputs": [
    {
     "data": {
      "text/plain": [
       "1.590528892747372e-191"
      ]
     },
     "execution_count": 55,
     "metadata": {},
     "output_type": "execute_result"
    }
   ],
   "source": [
    "alpha = 0.05\n",
    "results_1 = st.ttest_ind(used_traffic[used_traffic['tariff']=='smart']['income'],\n",
    "                         used_traffic[used_traffic['tariff']=='ultra']['income'])\n",
    "results_1.pvalue"
   ]
  },
  {
   "cell_type": "markdown",
   "metadata": {},
   "source": [
    "Полученное p-value оказалось меньше заданного, следовательно, отвергаем нулевую гипотезу о равенстве средних выручек пользователей разных тарифов. А значит, средняя выручка пользователей тарифов ultra и smart **различаются**"
   ]
  },
  {
   "cell_type": "markdown",
   "metadata": {},
   "source": [
    "### Вторая гипотеза "
   ]
  },
  {
   "cell_type": "markdown",
   "metadata": {},
   "source": [
    "# \"Средняя выручка пользователей из Москвы отличается от выручки пользователей из других регионов\""
   ]
  },
  {
   "cell_type": "markdown",
   "metadata": {},
   "source": [
    "Для начала добавим в таблицу о помесячной выручке с каждого клиента информацию о городе клиента"
   ]
  },
  {
   "cell_type": "code",
   "execution_count": 56,
   "metadata": {},
   "outputs": [],
   "source": [
    "used_traffic = used_traffic.merge(data_users[['user_id', 'city']], on='user_id', how='outer')"
   ]
  },
  {
   "cell_type": "markdown",
   "metadata": {},
   "source": [
    "Теперь сформулируем нулевую (H0) и альтернативную (H1) гипотезы:\n",
    "- Нулевая гипотеза (H0) - средняя выручка пользователей из Москвы **равна** средней выручке пользователей из других регионов \n",
    "- Альтернативная гипотеза (H1) - cредняя выручка пользователей из Москвы **отличается** от выручки пользователей из других регионов"
   ]
  },
  {
   "cell_type": "markdown",
   "metadata": {},
   "source": [
    "Так как нам важен только факт различия средней выручки московских пользователей и пользователей других регионов, то для проверки гипотез будем использовать двусторонний t-тест для двух генеральных совокупностей. Зададим пороговое значение aplha = 0.05"
   ]
  },
  {
   "cell_type": "code",
   "execution_count": 57,
   "metadata": {
    "scrolled": false
   },
   "outputs": [
    {
     "data": {
      "text/plain": [
       "0.06064803548259309"
      ]
     },
     "execution_count": 57,
     "metadata": {},
     "output_type": "execute_result"
    }
   ],
   "source": [
    "result_2 = st.ttest_ind(used_traffic[used_traffic['city']=='Москва']['income'],\n",
    "                        used_traffic[used_traffic['city']!='Москва']['income'])\n",
    "result_2.pvalue"
   ]
  },
  {
   "cell_type": "markdown",
   "metadata": {},
   "source": [
    "Полученное p-value оказалось больше заданного, следовательно, мы не можем отвергнуть нулевую гипотезу. А значит, средняя выручка московских пользователей **НЕ отличается** от среднеей выручки пользователей из други регионов"
   ]
  },
  {
   "cell_type": "markdown",
   "metadata": {},
   "source": [
    "## Определение перспективного тарифа для телеком-компании"
   ]
  },
  {
   "cell_type": "markdown",
   "metadata": {},
   "source": [
    "Посчитаем общую выручку по тарифам"
   ]
  },
  {
   "cell_type": "code",
   "execution_count": 58,
   "metadata": {},
   "outputs": [
    {
     "name": "stdout",
     "output_type": "stream",
     "text": [
      "Выручка пользователей тарифа smart -  2611301.0\n",
      "Выручка пользователей тарифа ultra -  2041050.0\n"
     ]
    },
    {
     "data": {
      "text/plain": [
       "Text(0, 0.5, '')"
      ]
     },
     "execution_count": 58,
     "metadata": {},
     "output_type": "execute_result"
    },
    {
     "data": {
      "image/png": "[encoded data removed]",
      "text/plain": [
       "<Figure size 504x504 with 1 Axes>"
      ]
     },
     "metadata": {},
     "output_type": "display_data"
    }
   ],
   "source": [
    "print(f'Выручка пользователей тарифа smart - ', used_traffic[used_traffic['tariff']=='smart']['income'].sum())\n",
    "print(f'Выручка пользователей тарифа ultra - ', used_traffic[used_traffic['tariff']=='ultra']['income'].sum())\n",
    "used_traffic.groupby('tariff')['income'].sum().plot(y='income',\n",
    "                                                    kind='pie', explode=(0, 0.05),\n",
    "                                                    title='Выручка', figsize=(7,7), legend='True')\n",
    "plt.ylabel('')"
   ]
  },
  {
   "cell_type": "markdown",
   "metadata": {},
   "source": [
    "Посчитаем количество пользователей каждого тарифа"
   ]
  },
  {
   "cell_type": "code",
   "execution_count": 59,
   "metadata": {},
   "outputs": [
    {
     "name": "stdout",
     "output_type": "stream",
     "text": [
      "Выручка пользователей тарифа smart -  2230\n",
      "Выручка пользователей тарифа ultra -  986\n"
     ]
    },
    {
     "data": {
      "text/plain": [
       "Text(0, 0.5, '')"
      ]
     },
     "execution_count": 59,
     "metadata": {},
     "output_type": "execute_result"
    },
    {
     "data": {
      "image/png": "[encoded data removed]",
      "text/plain": [
       "<Figure size 504x504 with 1 Axes>"
      ]
     },
     "metadata": {},
     "output_type": "display_data"
    }
   ],
   "source": [
    "print(f'Выручка пользователей тарифа smart - ', used_traffic[used_traffic['tariff']=='smart']['income'].count())\n",
    "print(f'Выручка пользователей тарифа ultra - ', used_traffic[used_traffic['tariff']=='ultra']['income'].count())\n",
    "used_traffic.groupby('tariff')['income'].count().plot(y='income',\n",
    "                                                    kind='pie', explode=(0, 0.05),\n",
    "                                                    title='Количество пользователей', figsize=(7,7), legend='True')\n",
    "plt.ylabel('')"
   ]
  },
  {
   "cell_type": "markdown",
   "metadata": {},
   "source": [
    "**Выводы:** \n",
    "\n",
    "Тариф smart приносит около 60% всей выручки, при этом количество пользователей тарифа smart - 2230. Остальные 40% выручки приносит тариф ultra, но эту выручку приносят 986 пользователей. Ранее мы выяснили, что пользователям тарифа smart (стоимость 550 рублей в месяц) не хватает бесплатного лимита и в итоге они доплачивают за дополнительные 1-2 Гб, то есть 200-400 рублей. В итоге получается, среднестатистический пользователь тарифа smart готов платить около 900 рублей в месяц. \n",
    "\n",
    "Что касается пользователей тарифа ultra(стоимость 1950 рублей в месяц), то им практически всегда хватает бесплатного лимита, за исключением небольшого количества пользователей, которые доплачивают за 5 Гб(стоимость 1 Гб - 150 рублей).\n",
    "\n",
    "В итоге \"Мегалайну\" необходимо предложить клиентам промежуточный вариант между smart и ultra, который позволил бы клиенту более комфортно, без дополнительных затрат, пользоваться услугами связи (особенно мобильным интернетом). В среднем клиенты тарифа smart отдают около 1000 рублей в месяц, что свидетельствует о том, что большинство клиентов данного тарифа готовы отдавать такую сумму. Нарпимер, можно предложить тариф, который будет стоить 950 рублей и включать в себя 20 Гб. Но при этом бесплатные лимиты по звонкам и смс были бы похожи по значениям на smart. Скажем, некий smart plus."
   ]
  },
  {
   "cell_type": "markdown",
   "metadata": {},
   "source": [
    "## Общий вывод"
   ]
  },
  {
   "cell_type": "markdown",
   "metadata": {},
   "source": [
    "При анализе средней помесячной выручки различных пользователей удалось выяснить, что:\n",
    "- пользователям тарифа smart не хватает бесплатного лимита и по звонкам, и по смс, и по интернету\n",
    "- пользователям тарифа ultra с головой хватает бесплатного лимита, за исключением небольшого количества пользователей относительно интернета\n",
    "- средняя выручка пользователей тарифов ultra и smart различаются\n",
    "- средняя выручка московских пользователей не отличается от среднеей выручки пользователей из други регионов\n",
    "- Тариф smart приносит около 60% всей выручки, но при этом данным тарифом пользуются в два раза больше клиентов, чем ultra. Плюс ко всему очень много пользователей тарифа smart переплачивают за дополнительный пакет. Поэтому \"Мегалайну\" необходимо выработать промежуточное решение между smart и ultra"
   ]
  }
 ],
 "metadata": {
  "ExecuteTimeLog": [
   {
    "duration": 3,
    "start_time": "2021-12-01T09:19:05.807Z"
   },
   {
    "duration": 540,
    "start_time": "2021-12-01T09:42:12.661Z"
   },
   {
    "duration": 2,
    "start_time": "2021-12-01T09:42:16.517Z"
   },
   {
    "duration": 1297,
    "start_time": "2021-12-01T09:43:06.044Z"
   },
   {
    "duration": 35,
    "start_time": "2021-12-01T09:51:46.024Z"
   },
   {
    "duration": 19,
    "start_time": "2021-12-01T09:51:51.095Z"
   },
   {
    "duration": 39,
    "start_time": "2021-12-01T09:52:18.793Z"
   },
   {
    "duration": 43,
    "start_time": "2021-12-01T09:52:30.431Z"
   },
   {
    "duration": 6,
    "start_time": "2021-12-01T09:52:34.016Z"
   },
   {
    "duration": 7,
    "start_time": "2021-12-01T09:54:33.482Z"
   },
   {
    "duration": 153,
    "start_time": "2021-12-01T10:02:46.654Z"
   },
   {
    "duration": 7,
    "start_time": "2021-12-01T10:03:04.787Z"
   },
   {
    "duration": 19,
    "start_time": "2021-12-01T10:03:08.543Z"
   },
   {
    "duration": 106,
    "start_time": "2021-12-01T10:06:40.963Z"
   },
   {
    "duration": 15,
    "start_time": "2021-12-01T10:08:52.064Z"
   },
   {
    "duration": 17,
    "start_time": "2021-12-01T10:12:54.218Z"
   },
   {
    "duration": 14,
    "start_time": "2021-12-01T10:12:59.153Z"
   },
   {
    "duration": 15,
    "start_time": "2021-12-01T10:13:15.112Z"
   },
   {
    "duration": 130,
    "start_time": "2021-12-01T10:14:20.013Z"
   },
   {
    "duration": 19,
    "start_time": "2021-12-01T10:14:43.106Z"
   },
   {
    "duration": 61,
    "start_time": "2021-12-01T10:15:00.304Z"
   },
   {
    "duration": 154,
    "start_time": "2021-12-01T10:15:06.063Z"
   },
   {
    "duration": 91,
    "start_time": "2021-12-01T10:15:11.682Z"
   },
   {
    "duration": 17,
    "start_time": "2021-12-01T10:21:15.055Z"
   },
   {
    "duration": 23,
    "start_time": "2021-12-01T10:23:09.037Z"
   },
   {
    "duration": 6,
    "start_time": "2021-12-01T10:44:41.035Z"
   },
   {
    "duration": 10,
    "start_time": "2021-12-01T10:44:51.967Z"
   },
   {
    "duration": 189,
    "start_time": "2021-12-01T10:47:03.101Z"
   },
   {
    "duration": 221,
    "start_time": "2021-12-01T10:47:14.839Z"
   },
   {
    "duration": 197,
    "start_time": "2021-12-01T10:47:26.569Z"
   },
   {
    "duration": 185,
    "start_time": "2021-12-01T10:47:33.669Z"
   },
   {
    "duration": 17,
    "start_time": "2021-12-01T10:47:59.496Z"
   },
   {
    "duration": 13,
    "start_time": "2021-12-01T10:48:08.683Z"
   },
   {
    "duration": 4254,
    "start_time": "2021-12-01T10:48:12.690Z"
   },
   {
    "duration": 14,
    "start_time": "2021-12-01T10:48:21.915Z"
   },
   {
    "duration": 16,
    "start_time": "2021-12-01T10:48:31.673Z"
   },
   {
    "duration": 9,
    "start_time": "2021-12-01T10:52:39.015Z"
   },
   {
    "duration": 7,
    "start_time": "2021-12-01T10:52:45.591Z"
   },
   {
    "duration": 8,
    "start_time": "2021-12-01T10:52:50.125Z"
   },
   {
    "duration": 105,
    "start_time": "2021-12-01T10:52:56.193Z"
   },
   {
    "duration": 43,
    "start_time": "2021-12-01T10:53:03.475Z"
   },
   {
    "duration": 61,
    "start_time": "2021-12-01T10:53:11.370Z"
   },
   {
    "duration": 176,
    "start_time": "2021-12-01T10:53:21.727Z"
   },
   {
    "duration": 6,
    "start_time": "2021-12-01T10:53:29.449Z"
   },
   {
    "duration": 63,
    "start_time": "2021-12-01T10:54:42.210Z"
   },
   {
    "duration": 8,
    "start_time": "2021-12-01T10:55:17.320Z"
   },
   {
    "duration": 91,
    "start_time": "2021-12-01T10:55:35.841Z"
   },
   {
    "duration": 40,
    "start_time": "2021-12-01T10:55:44.252Z"
   },
   {
    "duration": 59,
    "start_time": "2021-12-01T10:55:54.443Z"
   },
   {
    "duration": 5,
    "start_time": "2021-12-01T10:55:57.613Z"
   },
   {
    "duration": 12,
    "start_time": "2021-12-01T11:00:23.604Z"
   },
   {
    "duration": 8,
    "start_time": "2021-12-01T11:04:28.185Z"
   },
   {
    "duration": 5,
    "start_time": "2021-12-01T11:07:04.765Z"
   },
   {
    "duration": 175,
    "start_time": "2021-12-01T11:07:13.672Z"
   },
   {
    "duration": 190,
    "start_time": "2021-12-01T11:07:16.889Z"
   },
   {
    "duration": 7,
    "start_time": "2021-12-01T11:07:19.090Z"
   },
   {
    "duration": 5,
    "start_time": "2021-12-01T11:07:28.594Z"
   },
   {
    "duration": 4,
    "start_time": "2021-12-01T11:07:42.234Z"
   },
   {
    "duration": 5,
    "start_time": "2021-12-01T11:08:26.030Z"
   },
   {
    "duration": 6,
    "start_time": "2021-12-01T11:12:47.475Z"
   },
   {
    "duration": 1205,
    "start_time": "2021-12-01T11:13:56.608Z"
   },
   {
    "duration": 1241,
    "start_time": "2021-12-01T11:14:14.540Z"
   },
   {
    "duration": 5,
    "start_time": "2021-12-01T11:14:20.484Z"
   },
   {
    "duration": 218,
    "start_time": "2021-12-01T11:14:29.736Z"
   },
   {
    "duration": 5,
    "start_time": "2021-12-01T11:14:32.417Z"
   },
   {
    "duration": 554,
    "start_time": "2021-12-01T11:37:55.199Z"
   },
   {
    "duration": 86,
    "start_time": "2021-12-01T11:37:55.755Z"
   },
   {
    "duration": 8,
    "start_time": "2021-12-01T11:37:55.844Z"
   },
   {
    "duration": 173,
    "start_time": "2021-12-01T11:37:55.854Z"
   },
   {
    "duration": 20,
    "start_time": "2021-12-01T11:37:56.029Z"
   },
   {
    "duration": 96,
    "start_time": "2021-12-01T11:37:56.050Z"
   },
   {
    "duration": 14,
    "start_time": "2021-12-01T11:37:56.148Z"
   },
   {
    "duration": 144,
    "start_time": "2021-12-01T11:37:56.164Z"
   },
   {
    "duration": 17,
    "start_time": "2021-12-01T11:37:56.310Z"
   },
   {
    "duration": 17,
    "start_time": "2021-12-01T11:37:56.328Z"
   },
   {
    "duration": 22,
    "start_time": "2021-12-01T11:37:56.347Z"
   },
   {
    "duration": 24,
    "start_time": "2021-12-01T11:37:56.370Z"
   },
   {
    "duration": 108,
    "start_time": "2021-12-01T11:37:56.396Z"
   },
   {
    "duration": 39,
    "start_time": "2021-12-01T11:37:56.506Z"
   },
   {
    "duration": 83,
    "start_time": "2021-12-01T11:37:56.546Z"
   },
   {
    "duration": 7,
    "start_time": "2021-12-01T11:37:56.631Z"
   },
   {
    "duration": 11,
    "start_time": "2021-12-01T11:37:56.640Z"
   },
   {
    "duration": 7,
    "start_time": "2021-12-01T11:37:56.652Z"
   },
   {
    "duration": 9,
    "start_time": "2021-12-01T11:37:56.661Z"
   },
   {
    "duration": 4,
    "start_time": "2021-12-01T11:37:56.692Z"
   },
   {
    "duration": 6,
    "start_time": "2021-12-01T11:37:56.698Z"
   },
   {
    "duration": 5,
    "start_time": "2021-12-01T11:37:56.706Z"
   },
   {
    "duration": 7,
    "start_time": "2021-12-01T11:37:56.714Z"
   },
   {
    "duration": 11,
    "start_time": "2021-12-01T11:39:00.088Z"
   },
   {
    "duration": 8,
    "start_time": "2021-12-01T11:39:12.681Z"
   },
   {
    "duration": 8,
    "start_time": "2021-12-01T11:45:16.965Z"
   },
   {
    "duration": 16,
    "start_time": "2021-12-01T11:45:31.802Z"
   },
   {
    "duration": 7,
    "start_time": "2021-12-01T11:45:56.239Z"
   },
   {
    "duration": 9,
    "start_time": "2021-12-01T11:48:01.355Z"
   },
   {
    "duration": 8,
    "start_time": "2021-12-01T11:48:44.880Z"
   },
   {
    "duration": 12,
    "start_time": "2021-12-01T11:50:42.580Z"
   },
   {
    "duration": 67,
    "start_time": "2021-12-01T11:50:58.390Z"
   },
   {
    "duration": 237,
    "start_time": "2021-12-01T11:51:01.306Z"
   },
   {
    "duration": 191,
    "start_time": "2021-12-01T11:51:10.000Z"
   },
   {
    "duration": 11,
    "start_time": "2021-12-01T11:51:32.826Z"
   },
   {
    "duration": 5,
    "start_time": "2021-12-01T11:51:46.122Z"
   },
   {
    "duration": 5,
    "start_time": "2021-12-01T11:54:43.624Z"
   },
   {
    "duration": 30,
    "start_time": "2021-12-01T11:55:28.019Z"
   },
   {
    "duration": 8,
    "start_time": "2021-12-01T11:55:43.995Z"
   },
   {
    "duration": 10,
    "start_time": "2021-12-01T12:01:24.327Z"
   },
   {
    "duration": 8,
    "start_time": "2021-12-01T12:01:39.776Z"
   },
   {
    "duration": 5,
    "start_time": "2021-12-01T12:03:53.793Z"
   },
   {
    "duration": 19,
    "start_time": "2021-12-01T12:05:00.364Z"
   },
   {
    "duration": 5,
    "start_time": "2021-12-01T12:05:16.284Z"
   },
   {
    "duration": 5,
    "start_time": "2021-12-01T12:05:47.887Z"
   },
   {
    "duration": 7,
    "start_time": "2021-12-01T12:06:19.712Z"
   },
   {
    "duration": 4,
    "start_time": "2021-12-01T12:06:29.076Z"
   },
   {
    "duration": 7,
    "start_time": "2021-12-01T12:06:35.623Z"
   },
   {
    "duration": 5,
    "start_time": "2021-12-01T12:08:09.260Z"
   },
   {
    "duration": 9,
    "start_time": "2021-12-01T12:08:58.985Z"
   },
   {
    "duration": 18,
    "start_time": "2021-12-01T12:14:33.941Z"
   },
   {
    "duration": 179,
    "start_time": "2021-12-01T12:14:52.460Z"
   },
   {
    "duration": 182,
    "start_time": "2021-12-01T12:14:57.162Z"
   },
   {
    "duration": 191,
    "start_time": "2021-12-01T12:15:00.771Z"
   },
   {
    "duration": 183,
    "start_time": "2021-12-01T12:15:05.462Z"
   },
   {
    "duration": 5,
    "start_time": "2021-12-01T12:15:08.830Z"
   },
   {
    "duration": 180,
    "start_time": "2021-12-01T12:27:13.325Z"
   },
   {
    "duration": 3,
    "start_time": "2021-12-01T12:27:26.797Z"
   },
   {
    "duration": 8,
    "start_time": "2021-12-01T12:27:39.549Z"
   },
   {
    "duration": 7,
    "start_time": "2021-12-01T12:27:48.385Z"
   },
   {
    "duration": 5,
    "start_time": "2021-12-01T12:31:19.109Z"
   },
   {
    "duration": 21,
    "start_time": "2021-12-01T12:31:34.986Z"
   },
   {
    "duration": 5,
    "start_time": "2021-12-01T12:31:46.380Z"
   },
   {
    "duration": 2,
    "start_time": "2021-12-01T12:50:32.120Z"
   },
   {
    "duration": 10,
    "start_time": "2021-12-01T12:50:52.991Z"
   },
   {
    "duration": 6,
    "start_time": "2021-12-01T12:51:22.328Z"
   },
   {
    "duration": 9,
    "start_time": "2021-12-01T12:51:24.579Z"
   },
   {
    "duration": 8,
    "start_time": "2021-12-01T12:51:57.690Z"
   },
   {
    "duration": 7,
    "start_time": "2021-12-01T12:55:40.823Z"
   },
   {
    "duration": 245,
    "start_time": "2021-12-01T12:55:54.004Z"
   },
   {
    "duration": 6,
    "start_time": "2021-12-01T12:55:57.106Z"
   },
   {
    "duration": 5,
    "start_time": "2021-12-01T13:02:36.341Z"
   },
   {
    "duration": 5,
    "start_time": "2021-12-01T13:02:46.179Z"
   },
   {
    "duration": 4,
    "start_time": "2021-12-01T13:02:49.756Z"
   },
   {
    "duration": 5,
    "start_time": "2021-12-01T13:02:51.663Z"
   },
   {
    "duration": 5,
    "start_time": "2021-12-01T13:03:06.184Z"
   },
   {
    "duration": 592,
    "start_time": "2021-12-01T13:37:17.774Z"
   },
   {
    "duration": 41,
    "start_time": "2021-12-01T13:37:18.369Z"
   },
   {
    "duration": 12,
    "start_time": "2021-12-01T13:37:18.412Z"
   },
   {
    "duration": 171,
    "start_time": "2021-12-01T13:37:18.426Z"
   },
   {
    "duration": 20,
    "start_time": "2021-12-01T13:37:18.599Z"
   },
   {
    "duration": 96,
    "start_time": "2021-12-01T13:37:18.621Z"
   },
   {
    "duration": 14,
    "start_time": "2021-12-01T13:37:18.718Z"
   },
   {
    "duration": 141,
    "start_time": "2021-12-01T13:37:18.735Z"
   },
   {
    "duration": 26,
    "start_time": "2021-12-01T13:37:18.879Z"
   },
   {
    "duration": 16,
    "start_time": "2021-12-01T13:37:18.907Z"
   },
   {
    "duration": 26,
    "start_time": "2021-12-01T13:37:18.925Z"
   },
   {
    "duration": 6,
    "start_time": "2021-12-01T13:37:18.953Z"
   },
   {
    "duration": 115,
    "start_time": "2021-12-01T13:37:18.961Z"
   },
   {
    "duration": 45,
    "start_time": "2021-12-01T13:37:19.078Z"
   },
   {
    "duration": 74,
    "start_time": "2021-12-01T13:37:19.125Z"
   },
   {
    "duration": 6,
    "start_time": "2021-12-01T13:37:19.201Z"
   },
   {
    "duration": 11,
    "start_time": "2021-12-01T13:37:19.208Z"
   },
   {
    "duration": 7,
    "start_time": "2021-12-01T13:37:19.221Z"
   },
   {
    "duration": 6,
    "start_time": "2021-12-01T13:37:19.230Z"
   },
   {
    "duration": 7,
    "start_time": "2021-12-01T13:37:19.238Z"
   },
   {
    "duration": 9,
    "start_time": "2021-12-01T13:37:19.246Z"
   },
   {
    "duration": 7,
    "start_time": "2021-12-01T13:37:19.256Z"
   },
   {
    "duration": 30,
    "start_time": "2021-12-01T13:37:19.266Z"
   },
   {
    "duration": 28,
    "start_time": "2021-12-01T13:37:19.299Z"
   },
   {
    "duration": 4,
    "start_time": "2021-12-01T13:37:19.329Z"
   },
   {
    "duration": 8,
    "start_time": "2021-12-01T13:37:19.334Z"
   },
   {
    "duration": 7,
    "start_time": "2021-12-01T13:37:19.343Z"
   },
   {
    "duration": 56,
    "start_time": "2021-12-01T13:37:19.352Z"
   },
   {
    "duration": 10,
    "start_time": "2021-12-01T13:37:19.410Z"
   },
   {
    "duration": 7,
    "start_time": "2021-12-01T13:37:19.422Z"
   },
   {
    "duration": 6,
    "start_time": "2021-12-01T13:37:19.431Z"
   },
   {
    "duration": 6,
    "start_time": "2021-12-01T13:37:19.439Z"
   },
   {
    "duration": 59,
    "start_time": "2021-12-01T13:37:19.447Z"
   },
   {
    "duration": 5,
    "start_time": "2021-12-01T13:37:19.508Z"
   },
   {
    "duration": 276,
    "start_time": "2021-12-01T13:37:19.515Z"
   },
   {
    "duration": 5,
    "start_time": "2021-12-01T13:37:27.715Z"
   },
   {
    "duration": 12,
    "start_time": "2021-12-01T13:53:13.376Z"
   },
   {
    "duration": 9,
    "start_time": "2021-12-01T13:53:24.842Z"
   },
   {
    "duration": 24,
    "start_time": "2021-12-01T13:55:36.244Z"
   },
   {
    "duration": 10,
    "start_time": "2021-12-01T13:55:44.094Z"
   },
   {
    "duration": 268,
    "start_time": "2021-12-01T14:00:20.505Z"
   },
   {
    "duration": 594,
    "start_time": "2021-12-01T14:00:39.264Z"
   },
   {
    "duration": 53,
    "start_time": "2021-12-01T14:00:39.860Z"
   },
   {
    "duration": 6,
    "start_time": "2021-12-01T14:00:39.915Z"
   },
   {
    "duration": 165,
    "start_time": "2021-12-01T14:00:39.922Z"
   },
   {
    "duration": 21,
    "start_time": "2021-12-01T14:00:40.089Z"
   },
   {
    "duration": 105,
    "start_time": "2021-12-01T14:00:40.112Z"
   },
   {
    "duration": 14,
    "start_time": "2021-12-01T14:00:40.218Z"
   },
   {
    "duration": 147,
    "start_time": "2021-12-01T14:00:40.235Z"
   },
   {
    "duration": 21,
    "start_time": "2021-12-01T14:00:40.385Z"
   },
   {
    "duration": 16,
    "start_time": "2021-12-01T14:00:40.408Z"
   },
   {
    "duration": 22,
    "start_time": "2021-12-01T14:00:40.426Z"
   },
   {
    "duration": 9,
    "start_time": "2021-12-01T14:00:40.450Z"
   },
   {
    "duration": 120,
    "start_time": "2021-12-01T14:00:40.460Z"
   },
   {
    "duration": 46,
    "start_time": "2021-12-01T14:00:40.582Z"
   },
   {
    "duration": 78,
    "start_time": "2021-12-01T14:00:40.630Z"
   },
   {
    "duration": 7,
    "start_time": "2021-12-01T14:00:40.710Z"
   },
   {
    "duration": 7,
    "start_time": "2021-12-01T14:00:40.718Z"
   },
   {
    "duration": 7,
    "start_time": "2021-12-01T14:00:40.727Z"
   },
   {
    "duration": 4,
    "start_time": "2021-12-01T14:00:40.736Z"
   },
   {
    "duration": 7,
    "start_time": "2021-12-01T14:00:40.742Z"
   },
   {
    "duration": 41,
    "start_time": "2021-12-01T14:00:40.750Z"
   },
   {
    "duration": 5,
    "start_time": "2021-12-01T14:00:40.793Z"
   },
   {
    "duration": 5,
    "start_time": "2021-12-01T14:00:40.802Z"
   },
   {
    "duration": 28,
    "start_time": "2021-12-01T14:00:40.809Z"
   },
   {
    "duration": 5,
    "start_time": "2021-12-01T14:00:40.839Z"
   },
   {
    "duration": 50,
    "start_time": "2021-12-01T14:00:40.846Z"
   },
   {
    "duration": 13,
    "start_time": "2021-12-01T14:00:40.897Z"
   },
   {
    "duration": 36,
    "start_time": "2021-12-01T14:00:40.913Z"
   },
   {
    "duration": 9,
    "start_time": "2021-12-01T14:00:40.952Z"
   },
   {
    "duration": 18,
    "start_time": "2021-12-01T14:00:40.962Z"
   },
   {
    "duration": 28,
    "start_time": "2021-12-01T14:00:40.982Z"
   },
   {
    "duration": 14,
    "start_time": "2021-12-01T14:00:41.012Z"
   },
   {
    "duration": 31,
    "start_time": "2021-12-01T14:00:41.028Z"
   },
   {
    "duration": 7,
    "start_time": "2021-12-01T14:00:41.061Z"
   },
   {
    "duration": 23,
    "start_time": "2021-12-01T14:00:41.069Z"
   },
   {
    "duration": 32,
    "start_time": "2021-12-01T14:00:41.094Z"
   },
   {
    "duration": 567,
    "start_time": "2021-12-01T14:01:45.904Z"
   },
   {
    "duration": 54,
    "start_time": "2021-12-01T14:01:46.473Z"
   },
   {
    "duration": 7,
    "start_time": "2021-12-01T14:01:46.529Z"
   },
   {
    "duration": 171,
    "start_time": "2021-12-01T14:01:46.538Z"
   },
   {
    "duration": 22,
    "start_time": "2021-12-01T14:01:46.710Z"
   },
   {
    "duration": 103,
    "start_time": "2021-12-01T14:01:46.733Z"
   },
   {
    "duration": 15,
    "start_time": "2021-12-01T14:01:46.838Z"
   },
   {
    "duration": 149,
    "start_time": "2021-12-01T14:01:46.856Z"
   },
   {
    "duration": 17,
    "start_time": "2021-12-01T14:01:47.008Z"
   },
   {
    "duration": 16,
    "start_time": "2021-12-01T14:01:47.027Z"
   },
   {
    "duration": 23,
    "start_time": "2021-12-01T14:01:47.045Z"
   },
   {
    "duration": 25,
    "start_time": "2021-12-01T14:01:47.070Z"
   },
   {
    "duration": 111,
    "start_time": "2021-12-01T14:01:47.096Z"
   },
   {
    "duration": 46,
    "start_time": "2021-12-01T14:01:47.209Z"
   },
   {
    "duration": 80,
    "start_time": "2021-12-01T14:01:47.257Z"
   },
   {
    "duration": 6,
    "start_time": "2021-12-01T14:01:47.339Z"
   },
   {
    "duration": 9,
    "start_time": "2021-12-01T14:01:47.346Z"
   },
   {
    "duration": 8,
    "start_time": "2021-12-01T14:01:47.357Z"
   },
   {
    "duration": 27,
    "start_time": "2021-12-01T14:01:47.366Z"
   },
   {
    "duration": 7,
    "start_time": "2021-12-01T14:01:47.395Z"
   },
   {
    "duration": 6,
    "start_time": "2021-12-01T14:01:47.404Z"
   },
   {
    "duration": 8,
    "start_time": "2021-12-01T14:01:47.411Z"
   },
   {
    "duration": 4,
    "start_time": "2021-12-01T14:01:47.423Z"
   },
   {
    "duration": 29,
    "start_time": "2021-12-01T14:01:47.429Z"
   },
   {
    "duration": 33,
    "start_time": "2021-12-01T14:01:47.459Z"
   },
   {
    "duration": 5,
    "start_time": "2021-12-01T14:01:47.494Z"
   },
   {
    "duration": 7,
    "start_time": "2021-12-01T14:01:47.501Z"
   },
   {
    "duration": 26,
    "start_time": "2021-12-01T14:01:47.510Z"
   },
   {
    "duration": 9,
    "start_time": "2021-12-01T14:01:47.538Z"
   },
   {
    "duration": 4,
    "start_time": "2021-12-01T14:01:47.549Z"
   },
   {
    "duration": 40,
    "start_time": "2021-12-01T14:01:47.554Z"
   },
   {
    "duration": 10,
    "start_time": "2021-12-01T14:01:47.595Z"
   },
   {
    "duration": 25,
    "start_time": "2021-12-01T14:01:47.606Z"
   },
   {
    "duration": 4,
    "start_time": "2021-12-01T14:01:47.633Z"
   },
   {
    "duration": 11,
    "start_time": "2021-12-01T14:01:47.639Z"
   },
   {
    "duration": 46,
    "start_time": "2021-12-01T14:01:47.652Z"
   },
   {
    "duration": 149,
    "start_time": "2021-12-01T14:01:47.700Z"
   },
   {
    "duration": 33,
    "start_time": "2021-12-01T14:01:59.336Z"
   },
   {
    "duration": 51,
    "start_time": "2021-12-01T14:03:14.518Z"
   },
   {
    "duration": 5,
    "start_time": "2021-12-01T14:04:11.300Z"
   },
   {
    "duration": 42,
    "start_time": "2021-12-01T14:04:21.924Z"
   },
   {
    "duration": 56,
    "start_time": "2021-12-01T14:04:32.393Z"
   },
   {
    "duration": 14,
    "start_time": "2021-12-01T14:05:16.887Z"
   },
   {
    "duration": 106,
    "start_time": "2021-12-01T14:06:52.279Z"
   },
   {
    "duration": 48,
    "start_time": "2021-12-01T14:07:09.777Z"
   },
   {
    "duration": 50,
    "start_time": "2021-12-01T14:08:43.135Z"
   },
   {
    "duration": 18,
    "start_time": "2021-12-01T14:08:53.974Z"
   },
   {
    "duration": 17,
    "start_time": "2021-12-01T14:12:06.706Z"
   },
   {
    "duration": 5,
    "start_time": "2021-12-01T14:12:18.079Z"
   },
   {
    "duration": 35,
    "start_time": "2021-12-01T14:14:59.450Z"
   },
   {
    "duration": 17,
    "start_time": "2021-12-01T14:15:00.790Z"
   },
   {
    "duration": 352,
    "start_time": "2021-12-01T14:16:28.117Z"
   },
   {
    "duration": 17,
    "start_time": "2021-12-01T14:16:30.336Z"
   },
   {
    "duration": 36,
    "start_time": "2021-12-01T14:16:35.636Z"
   },
   {
    "duration": 18,
    "start_time": "2021-12-01T14:16:36.769Z"
   },
   {
    "duration": 17,
    "start_time": "2021-12-01T14:19:07.616Z"
   },
   {
    "duration": 18,
    "start_time": "2021-12-01T14:19:13.890Z"
   },
   {
    "duration": 37,
    "start_time": "2021-12-01T14:19:59.235Z"
   },
   {
    "duration": 551,
    "start_time": "2021-12-01T14:20:43.809Z"
   },
   {
    "duration": 42,
    "start_time": "2021-12-01T14:20:44.638Z"
   },
   {
    "duration": 8,
    "start_time": "2021-12-01T14:20:44.813Z"
   },
   {
    "duration": 152,
    "start_time": "2021-12-01T14:20:45.139Z"
   },
   {
    "duration": 18,
    "start_time": "2021-12-01T14:20:45.303Z"
   },
   {
    "duration": 94,
    "start_time": "2021-12-01T14:20:45.646Z"
   },
   {
    "duration": 15,
    "start_time": "2021-12-01T14:20:45.804Z"
   },
   {
    "duration": 147,
    "start_time": "2021-12-01T14:20:46.147Z"
   },
   {
    "duration": 16,
    "start_time": "2021-12-01T14:20:46.305Z"
   },
   {
    "duration": 19,
    "start_time": "2021-12-01T14:20:46.389Z"
   },
   {
    "duration": 23,
    "start_time": "2021-12-01T14:20:46.730Z"
   },
   {
    "duration": 7,
    "start_time": "2021-12-01T14:20:47.063Z"
   },
   {
    "duration": 102,
    "start_time": "2021-12-01T14:20:47.138Z"
   },
   {
    "duration": 49,
    "start_time": "2021-12-01T14:20:47.242Z"
   },
   {
    "duration": 69,
    "start_time": "2021-12-01T14:20:47.304Z"
   },
   {
    "duration": 6,
    "start_time": "2021-12-01T14:20:47.388Z"
   },
   {
    "duration": 5,
    "start_time": "2021-12-01T14:20:47.731Z"
   },
   {
    "duration": 7,
    "start_time": "2021-12-01T14:20:47.972Z"
   },
   {
    "duration": 7,
    "start_time": "2021-12-01T14:20:48.138Z"
   },
   {
    "duration": 5,
    "start_time": "2021-12-01T14:20:48.389Z"
   },
   {
    "duration": 4,
    "start_time": "2021-12-01T14:20:48.555Z"
   },
   {
    "duration": 5,
    "start_time": "2021-12-01T14:20:48.814Z"
   },
   {
    "duration": 6,
    "start_time": "2021-12-01T14:20:49.056Z"
   },
   {
    "duration": 27,
    "start_time": "2021-12-01T14:20:49.222Z"
   },
   {
    "duration": 6,
    "start_time": "2021-12-01T14:20:49.563Z"
   },
   {
    "duration": 5,
    "start_time": "2021-12-01T14:20:49.805Z"
   },
   {
    "duration": 5,
    "start_time": "2021-12-01T14:20:50.057Z"
   },
   {
    "duration": 19,
    "start_time": "2021-12-01T14:20:50.223Z"
   },
   {
    "duration": 9,
    "start_time": "2021-12-01T14:20:50.388Z"
   },
   {
    "duration": 5,
    "start_time": "2021-12-01T14:20:50.555Z"
   },
   {
    "duration": 6,
    "start_time": "2021-12-01T14:20:50.722Z"
   },
   {
    "duration": 5,
    "start_time": "2021-12-01T14:20:50.972Z"
   },
   {
    "duration": 24,
    "start_time": "2021-12-01T14:20:51.138Z"
   },
   {
    "duration": 5,
    "start_time": "2021-12-01T14:20:51.388Z"
   },
   {
    "duration": 11,
    "start_time": "2021-12-01T14:20:55.862Z"
   },
   {
    "duration": 23,
    "start_time": "2021-12-01T14:21:04.975Z"
   },
   {
    "duration": 253,
    "start_time": "2021-12-01T14:21:08.271Z"
   },
   {
    "duration": 46,
    "start_time": "2021-12-01T14:21:14.805Z"
   },
   {
    "duration": 20,
    "start_time": "2021-12-01T14:21:30.319Z"
   },
   {
    "duration": 199,
    "start_time": "2021-12-01T14:21:31.836Z"
   },
   {
    "duration": 42,
    "start_time": "2021-12-01T14:21:36.466Z"
   },
   {
    "duration": 31,
    "start_time": "2021-12-01T14:22:48.681Z"
   },
   {
    "duration": 19,
    "start_time": "2021-12-01T14:22:57.135Z"
   },
   {
    "duration": 7,
    "start_time": "2021-12-01T14:24:06.421Z"
   },
   {
    "duration": 16,
    "start_time": "2021-12-01T14:32:36.274Z"
   },
   {
    "duration": 8,
    "start_time": "2021-12-01T14:32:39.237Z"
   },
   {
    "duration": 41,
    "start_time": "2021-12-01T14:34:04.556Z"
   },
   {
    "duration": 27,
    "start_time": "2021-12-01T14:34:28.681Z"
   },
   {
    "duration": 27,
    "start_time": "2021-12-01T14:35:09.435Z"
   },
   {
    "duration": 571,
    "start_time": "2021-12-01T14:52:17.577Z"
   },
   {
    "duration": 46,
    "start_time": "2021-12-01T14:52:18.149Z"
   },
   {
    "duration": 7,
    "start_time": "2021-12-01T14:52:18.197Z"
   },
   {
    "duration": 170,
    "start_time": "2021-12-01T14:52:18.206Z"
   },
   {
    "duration": 23,
    "start_time": "2021-12-01T14:52:18.378Z"
   },
   {
    "duration": 100,
    "start_time": "2021-12-01T14:52:18.402Z"
   },
   {
    "duration": 14,
    "start_time": "2021-12-01T14:52:18.504Z"
   },
   {
    "duration": 140,
    "start_time": "2021-12-01T14:52:18.520Z"
   },
   {
    "duration": 17,
    "start_time": "2021-12-01T14:52:18.662Z"
   },
   {
    "duration": 16,
    "start_time": "2021-12-01T14:52:18.691Z"
   },
   {
    "duration": 22,
    "start_time": "2021-12-01T14:52:18.709Z"
   },
   {
    "duration": 12,
    "start_time": "2021-12-01T14:52:18.733Z"
   },
   {
    "duration": 109,
    "start_time": "2021-12-01T14:52:18.746Z"
   },
   {
    "duration": 48,
    "start_time": "2021-12-01T14:52:18.857Z"
   },
   {
    "duration": 62,
    "start_time": "2021-12-01T14:52:18.906Z"
   },
   {
    "duration": 6,
    "start_time": "2021-12-01T14:52:18.970Z"
   },
   {
    "duration": 4,
    "start_time": "2021-12-01T14:52:18.991Z"
   },
   {
    "duration": 8,
    "start_time": "2021-12-01T14:52:18.997Z"
   },
   {
    "duration": 5,
    "start_time": "2021-12-01T14:52:19.007Z"
   },
   {
    "duration": 7,
    "start_time": "2021-12-01T14:52:19.014Z"
   },
   {
    "duration": 5,
    "start_time": "2021-12-01T14:52:19.023Z"
   },
   {
    "duration": 10,
    "start_time": "2021-12-01T14:52:19.029Z"
   },
   {
    "duration": 6,
    "start_time": "2021-12-01T14:52:19.041Z"
   },
   {
    "duration": 52,
    "start_time": "2021-12-01T14:52:19.049Z"
   },
   {
    "duration": 5,
    "start_time": "2021-12-01T14:52:19.103Z"
   },
   {
    "duration": 6,
    "start_time": "2021-12-01T14:52:19.110Z"
   },
   {
    "duration": 11,
    "start_time": "2021-12-01T14:52:19.118Z"
   },
   {
    "duration": 19,
    "start_time": "2021-12-01T14:52:19.131Z"
   },
   {
    "duration": 8,
    "start_time": "2021-12-01T14:52:19.152Z"
   },
   {
    "duration": 6,
    "start_time": "2021-12-01T14:52:19.161Z"
   },
   {
    "duration": 24,
    "start_time": "2021-12-01T14:52:19.169Z"
   },
   {
    "duration": 4,
    "start_time": "2021-12-01T14:52:19.195Z"
   },
   {
    "duration": 25,
    "start_time": "2021-12-01T14:52:19.201Z"
   },
   {
    "duration": 5,
    "start_time": "2021-12-01T14:52:19.227Z"
   },
   {
    "duration": 23,
    "start_time": "2021-12-01T14:52:19.234Z"
   },
   {
    "duration": 77,
    "start_time": "2021-12-01T14:52:19.259Z"
   },
   {
    "duration": 30,
    "start_time": "2021-12-01T14:52:19.338Z"
   },
   {
    "duration": 24,
    "start_time": "2021-12-01T14:52:19.370Z"
   },
   {
    "duration": 18,
    "start_time": "2021-12-01T14:52:19.396Z"
   },
   {
    "duration": 29,
    "start_time": "2021-12-01T14:52:19.416Z"
   },
   {
    "duration": 17,
    "start_time": "2021-12-01T14:52:19.447Z"
   },
   {
    "duration": 10,
    "start_time": "2021-12-01T14:57:59.493Z"
   },
   {
    "duration": 17,
    "start_time": "2021-12-01T14:59:53.373Z"
   },
   {
    "duration": 9,
    "start_time": "2021-12-01T14:59:55.908Z"
   },
   {
    "duration": 20,
    "start_time": "2021-12-01T15:03:40.333Z"
   },
   {
    "duration": 38,
    "start_time": "2021-12-01T15:04:12.828Z"
   },
   {
    "duration": 40,
    "start_time": "2021-12-01T15:06:21.863Z"
   },
   {
    "duration": 28,
    "start_time": "2021-12-01T15:07:35.071Z"
   },
   {
    "duration": 17,
    "start_time": "2021-12-01T15:07:39.623Z"
   },
   {
    "duration": 27,
    "start_time": "2021-12-01T15:07:47.115Z"
   },
   {
    "duration": 26,
    "start_time": "2021-12-01T15:08:22.409Z"
   },
   {
    "duration": 29,
    "start_time": "2021-12-01T15:09:29.585Z"
   },
   {
    "duration": 664,
    "start_time": "2021-12-01T17:16:02.832Z"
   },
   {
    "duration": 41,
    "start_time": "2021-12-01T17:16:03.498Z"
   },
   {
    "duration": 8,
    "start_time": "2021-12-01T17:16:03.541Z"
   },
   {
    "duration": 162,
    "start_time": "2021-12-01T17:16:03.551Z"
   },
   {
    "duration": 19,
    "start_time": "2021-12-01T17:16:03.715Z"
   },
   {
    "duration": 96,
    "start_time": "2021-12-01T17:16:03.735Z"
   },
   {
    "duration": 14,
    "start_time": "2021-12-01T17:16:03.832Z"
   },
   {
    "duration": 244,
    "start_time": "2021-12-01T17:16:03.849Z"
   },
   {
    "duration": 16,
    "start_time": "2021-12-01T17:16:04.095Z"
   },
   {
    "duration": 35,
    "start_time": "2021-12-01T17:16:04.112Z"
   },
   {
    "duration": 23,
    "start_time": "2021-12-01T17:16:04.149Z"
   },
   {
    "duration": 7,
    "start_time": "2021-12-01T17:16:04.173Z"
   },
   {
    "duration": 99,
    "start_time": "2021-12-01T17:16:04.182Z"
   },
   {
    "duration": 35,
    "start_time": "2021-12-01T17:16:04.282Z"
   },
   {
    "duration": 82,
    "start_time": "2021-12-01T17:16:04.319Z"
   },
   {
    "duration": 7,
    "start_time": "2021-12-01T17:16:04.403Z"
   },
   {
    "duration": 7,
    "start_time": "2021-12-01T17:16:04.412Z"
   },
   {
    "duration": 6,
    "start_time": "2021-12-01T17:16:04.421Z"
   },
   {
    "duration": 29,
    "start_time": "2021-12-01T17:16:04.429Z"
   },
   {
    "duration": 10,
    "start_time": "2021-12-01T17:16:04.461Z"
   },
   {
    "duration": 8,
    "start_time": "2021-12-01T17:16:04.472Z"
   },
   {
    "duration": 12,
    "start_time": "2021-12-01T17:16:04.482Z"
   },
   {
    "duration": 4,
    "start_time": "2021-12-01T17:16:04.498Z"
   },
   {
    "duration": 30,
    "start_time": "2021-12-01T17:16:04.504Z"
   },
   {
    "duration": 8,
    "start_time": "2021-12-01T17:16:04.536Z"
   },
   {
    "duration": 17,
    "start_time": "2021-12-01T17:16:04.546Z"
   },
   {
    "duration": 10,
    "start_time": "2021-12-01T17:16:04.564Z"
   },
   {
    "duration": 22,
    "start_time": "2021-12-01T17:16:04.575Z"
   },
   {
    "duration": 7,
    "start_time": "2021-12-01T17:16:04.599Z"
   },
   {
    "duration": 6,
    "start_time": "2021-12-01T17:16:04.608Z"
   },
   {
    "duration": 12,
    "start_time": "2021-12-01T17:16:04.615Z"
   },
   {
    "duration": 8,
    "start_time": "2021-12-01T17:16:04.628Z"
   },
   {
    "duration": 29,
    "start_time": "2021-12-01T17:16:04.645Z"
   },
   {
    "duration": 4,
    "start_time": "2021-12-01T17:16:04.676Z"
   },
   {
    "duration": 32,
    "start_time": "2021-12-01T17:16:04.681Z"
   },
   {
    "duration": 57,
    "start_time": "2021-12-01T17:16:04.715Z"
   },
   {
    "duration": 29,
    "start_time": "2021-12-01T17:16:04.774Z"
   },
   {
    "duration": 7,
    "start_time": "2021-12-01T17:16:04.804Z"
   },
   {
    "duration": 32,
    "start_time": "2021-12-01T17:16:04.813Z"
   },
   {
    "duration": 35,
    "start_time": "2021-12-01T17:16:04.848Z"
   },
   {
    "duration": 8,
    "start_time": "2021-12-01T17:16:04.885Z"
   },
   {
    "duration": 24,
    "start_time": "2021-12-01T17:16:04.894Z"
   },
   {
    "duration": 43,
    "start_time": "2021-12-01T17:16:04.920Z"
   },
   {
    "duration": 16,
    "start_time": "2021-12-01T17:22:04.091Z"
   },
   {
    "duration": 12,
    "start_time": "2021-12-01T17:23:44.068Z"
   },
   {
    "duration": 708,
    "start_time": "2021-12-02T10:51:01.237Z"
   },
   {
    "duration": 43,
    "start_time": "2021-12-02T10:51:01.947Z"
   },
   {
    "duration": 7,
    "start_time": "2021-12-02T10:51:01.992Z"
   },
   {
    "duration": 184,
    "start_time": "2021-12-02T10:51:02.002Z"
   },
   {
    "duration": 34,
    "start_time": "2021-12-02T10:51:02.188Z"
   },
   {
    "duration": 124,
    "start_time": "2021-12-02T10:51:02.223Z"
   },
   {
    "duration": 15,
    "start_time": "2021-12-02T10:51:02.348Z"
   },
   {
    "duration": 180,
    "start_time": "2021-12-02T10:51:02.365Z"
   },
   {
    "duration": 17,
    "start_time": "2021-12-02T10:51:02.548Z"
   },
   {
    "duration": 23,
    "start_time": "2021-12-02T10:51:02.568Z"
   },
   {
    "duration": 36,
    "start_time": "2021-12-02T10:51:02.593Z"
   },
   {
    "duration": 25,
    "start_time": "2021-12-02T10:51:02.630Z"
   },
   {
    "duration": 112,
    "start_time": "2021-12-02T10:51:02.657Z"
   },
   {
    "duration": 61,
    "start_time": "2021-12-02T10:51:02.771Z"
   },
   {
    "duration": 62,
    "start_time": "2021-12-02T10:51:02.834Z"
   },
   {
    "duration": 21,
    "start_time": "2021-12-02T10:51:02.897Z"
   },
   {
    "duration": 9,
    "start_time": "2021-12-02T10:51:02.920Z"
   },
   {
    "duration": 10,
    "start_time": "2021-12-02T10:51:02.930Z"
   },
   {
    "duration": 20,
    "start_time": "2021-12-02T10:51:02.941Z"
   },
   {
    "duration": 9,
    "start_time": "2021-12-02T10:51:02.962Z"
   },
   {
    "duration": 13,
    "start_time": "2021-12-02T10:51:02.972Z"
   },
   {
    "duration": 13,
    "start_time": "2021-12-02T10:51:02.987Z"
   },
   {
    "duration": 11,
    "start_time": "2021-12-02T10:51:03.007Z"
   },
   {
    "duration": 36,
    "start_time": "2021-12-02T10:51:03.021Z"
   },
   {
    "duration": 5,
    "start_time": "2021-12-02T10:51:03.059Z"
   },
   {
    "duration": 7,
    "start_time": "2021-12-02T10:51:03.066Z"
   },
   {
    "duration": 33,
    "start_time": "2021-12-02T10:51:03.076Z"
   },
   {
    "duration": 25,
    "start_time": "2021-12-02T10:51:03.113Z"
   },
   {
    "duration": 9,
    "start_time": "2021-12-02T10:51:03.140Z"
   },
   {
    "duration": 9,
    "start_time": "2021-12-02T10:51:03.151Z"
   },
   {
    "duration": 13,
    "start_time": "2021-12-02T10:51:03.162Z"
   },
   {
    "duration": 32,
    "start_time": "2021-12-02T10:51:03.176Z"
   },
   {
    "duration": 29,
    "start_time": "2021-12-02T10:51:03.212Z"
   },
   {
    "duration": 5,
    "start_time": "2021-12-02T10:51:03.243Z"
   },
   {
    "duration": 32,
    "start_time": "2021-12-02T10:51:03.249Z"
   },
   {
    "duration": 74,
    "start_time": "2021-12-02T10:51:03.282Z"
   },
   {
    "duration": 31,
    "start_time": "2021-12-02T10:51:03.358Z"
   },
   {
    "duration": 25,
    "start_time": "2021-12-02T10:51:03.390Z"
   },
   {
    "duration": 23,
    "start_time": "2021-12-02T10:51:03.419Z"
   },
   {
    "duration": 30,
    "start_time": "2021-12-02T10:51:03.444Z"
   },
   {
    "duration": 38,
    "start_time": "2021-12-02T10:51:03.476Z"
   },
   {
    "duration": 42,
    "start_time": "2021-12-02T10:51:03.516Z"
   },
   {
    "duration": 27,
    "start_time": "2021-12-02T10:51:03.560Z"
   },
   {
    "duration": 13,
    "start_time": "2021-12-02T10:51:03.588Z"
   },
   {
    "duration": 16,
    "start_time": "2021-12-02T10:51:30.156Z"
   },
   {
    "duration": 10175,
    "start_time": "2021-12-02T10:54:20.220Z"
   },
   {
    "duration": 884,
    "start_time": "2021-12-02T10:54:34.795Z"
   },
   {
    "duration": 5,
    "start_time": "2021-12-02T10:56:31.637Z"
   },
   {
    "duration": 5,
    "start_time": "2021-12-02T10:57:03.192Z"
   },
   {
    "duration": 18,
    "start_time": "2021-12-02T10:57:17.423Z"
   },
   {
    "duration": 4,
    "start_time": "2021-12-02T10:59:28.869Z"
   },
   {
    "duration": 4,
    "start_time": "2021-12-02T10:59:35.359Z"
   },
   {
    "duration": 20,
    "start_time": "2021-12-02T10:59:47.201Z"
   },
   {
    "duration": 35,
    "start_time": "2021-12-02T11:28:29.355Z"
   },
   {
    "duration": 387,
    "start_time": "2021-12-02T11:28:45.446Z"
   },
   {
    "duration": 32,
    "start_time": "2021-12-02T11:28:52.120Z"
   },
   {
    "duration": 383,
    "start_time": "2021-12-02T11:31:33.349Z"
   },
   {
    "duration": 4,
    "start_time": "2021-12-02T11:31:40.929Z"
   },
   {
    "duration": 18,
    "start_time": "2021-12-02T11:31:47.616Z"
   },
   {
    "duration": 6,
    "start_time": "2021-12-02T11:32:17.776Z"
   },
   {
    "duration": 6,
    "start_time": "2021-12-02T11:32:31.040Z"
   },
   {
    "duration": 422,
    "start_time": "2021-12-02T11:33:06.063Z"
   },
   {
    "duration": 610,
    "start_time": "2021-12-02T11:33:14.558Z"
   },
   {
    "duration": 49,
    "start_time": "2021-12-02T11:33:15.170Z"
   },
   {
    "duration": 7,
    "start_time": "2021-12-02T11:33:15.221Z"
   },
   {
    "duration": 174,
    "start_time": "2021-12-02T11:33:15.230Z"
   },
   {
    "duration": 20,
    "start_time": "2021-12-02T11:33:15.405Z"
   },
   {
    "duration": 113,
    "start_time": "2021-12-02T11:33:15.427Z"
   },
   {
    "duration": 15,
    "start_time": "2021-12-02T11:33:15.542Z"
   },
   {
    "duration": 145,
    "start_time": "2021-12-02T11:33:15.559Z"
   },
   {
    "duration": 17,
    "start_time": "2021-12-02T11:33:15.707Z"
   },
   {
    "duration": 27,
    "start_time": "2021-12-02T11:33:15.726Z"
   },
   {
    "duration": 24,
    "start_time": "2021-12-02T11:33:15.754Z"
   },
   {
    "duration": 16,
    "start_time": "2021-12-02T11:33:15.779Z"
   },
   {
    "duration": 100,
    "start_time": "2021-12-02T11:33:15.797Z"
   },
   {
    "duration": 44,
    "start_time": "2021-12-02T11:33:15.907Z"
   },
   {
    "duration": 71,
    "start_time": "2021-12-02T11:33:15.953Z"
   },
   {
    "duration": 7,
    "start_time": "2021-12-02T11:33:16.025Z"
   },
   {
    "duration": 12,
    "start_time": "2021-12-02T11:33:16.034Z"
   },
   {
    "duration": 17,
    "start_time": "2021-12-02T11:33:16.048Z"
   },
   {
    "duration": 9,
    "start_time": "2021-12-02T11:33:16.067Z"
   },
   {
    "duration": 8,
    "start_time": "2021-12-02T11:33:16.078Z"
   },
   {
    "duration": 4,
    "start_time": "2021-12-02T11:33:16.107Z"
   },
   {
    "duration": 7,
    "start_time": "2021-12-02T11:33:16.113Z"
   },
   {
    "duration": 11,
    "start_time": "2021-12-02T11:33:16.122Z"
   },
   {
    "duration": 39,
    "start_time": "2021-12-02T11:33:16.135Z"
   },
   {
    "duration": 5,
    "start_time": "2021-12-02T11:33:16.176Z"
   },
   {
    "duration": 23,
    "start_time": "2021-12-02T11:33:16.183Z"
   },
   {
    "duration": 5,
    "start_time": "2021-12-02T11:33:16.210Z"
   },
   {
    "duration": 24,
    "start_time": "2021-12-02T11:33:16.217Z"
   },
   {
    "duration": 11,
    "start_time": "2021-12-02T11:33:16.243Z"
   },
   {
    "duration": 7,
    "start_time": "2021-12-02T11:33:16.256Z"
   },
   {
    "duration": 9,
    "start_time": "2021-12-02T11:33:16.265Z"
   },
   {
    "duration": 14,
    "start_time": "2021-12-02T11:33:16.275Z"
   },
   {
    "duration": 23,
    "start_time": "2021-12-02T11:33:16.307Z"
   },
   {
    "duration": 4,
    "start_time": "2021-12-02T11:33:16.332Z"
   },
   {
    "duration": 34,
    "start_time": "2021-12-02T11:33:16.338Z"
   },
   {
    "duration": 58,
    "start_time": "2021-12-02T11:33:16.374Z"
   },
   {
    "duration": 31,
    "start_time": "2021-12-02T11:33:16.434Z"
   },
   {
    "duration": 8,
    "start_time": "2021-12-02T11:33:16.467Z"
   },
   {
    "duration": 36,
    "start_time": "2021-12-02T11:33:16.476Z"
   },
   {
    "duration": 32,
    "start_time": "2021-12-02T11:33:16.514Z"
   },
   {
    "duration": 9,
    "start_time": "2021-12-02T11:33:16.548Z"
   },
   {
    "duration": 20,
    "start_time": "2021-12-02T11:33:16.559Z"
   },
   {
    "duration": 53,
    "start_time": "2021-12-02T11:33:16.581Z"
   },
   {
    "duration": 13,
    "start_time": "2021-12-02T11:33:16.636Z"
   },
   {
    "duration": 57,
    "start_time": "2021-12-02T11:33:16.651Z"
   },
   {
    "duration": 2,
    "start_time": "2021-12-02T11:50:37.962Z"
   },
   {
    "duration": 53,
    "start_time": "2021-12-02T11:50:37.969Z"
   },
   {
    "duration": 7,
    "start_time": "2021-12-02T11:50:38.024Z"
   },
   {
    "duration": 172,
    "start_time": "2021-12-02T11:50:38.033Z"
   },
   {
    "duration": 28,
    "start_time": "2021-12-02T11:50:38.207Z"
   },
   {
    "duration": 95,
    "start_time": "2021-12-02T11:50:38.236Z"
   },
   {
    "duration": 14,
    "start_time": "2021-12-02T11:50:38.333Z"
   },
   {
    "duration": 140,
    "start_time": "2021-12-02T11:50:38.349Z"
   },
   {
    "duration": 37,
    "start_time": "2021-12-02T11:50:38.491Z"
   },
   {
    "duration": 29,
    "start_time": "2021-12-02T11:50:38.531Z"
   },
   {
    "duration": 24,
    "start_time": "2021-12-02T11:50:38.563Z"
   },
   {
    "duration": 9,
    "start_time": "2021-12-02T11:50:38.589Z"
   },
   {
    "duration": 103,
    "start_time": "2021-12-02T11:50:38.599Z"
   },
   {
    "duration": 44,
    "start_time": "2021-12-02T11:50:38.707Z"
   },
   {
    "duration": 75,
    "start_time": "2021-12-02T11:50:38.753Z"
   },
   {
    "duration": 6,
    "start_time": "2021-12-02T11:50:38.830Z"
   },
   {
    "duration": 11,
    "start_time": "2021-12-02T11:50:38.838Z"
   },
   {
    "duration": 8,
    "start_time": "2021-12-02T11:50:38.851Z"
   },
   {
    "duration": 7,
    "start_time": "2021-12-02T11:50:38.860Z"
   },
   {
    "duration": 15,
    "start_time": "2021-12-02T11:50:38.869Z"
   },
   {
    "duration": 25,
    "start_time": "2021-12-02T11:50:38.886Z"
   },
   {
    "duration": 10,
    "start_time": "2021-12-02T11:50:38.913Z"
   },
   {
    "duration": 10,
    "start_time": "2021-12-02T11:50:38.925Z"
   },
   {
    "duration": 34,
    "start_time": "2021-12-02T11:50:38.936Z"
   },
   {
    "duration": 4,
    "start_time": "2021-12-02T11:50:38.972Z"
   },
   {
    "duration": 8,
    "start_time": "2021-12-02T11:50:38.978Z"
   },
   {
    "duration": 24,
    "start_time": "2021-12-02T11:50:38.988Z"
   },
   {
    "duration": 20,
    "start_time": "2021-12-02T11:50:39.017Z"
   },
   {
    "duration": 8,
    "start_time": "2021-12-02T11:50:39.039Z"
   },
   {
    "duration": 9,
    "start_time": "2021-12-02T11:50:39.049Z"
   },
   {
    "duration": 7,
    "start_time": "2021-12-02T11:50:39.059Z"
   },
   {
    "duration": 8,
    "start_time": "2021-12-02T11:50:39.068Z"
   },
   {
    "duration": 48,
    "start_time": "2021-12-02T11:50:39.078Z"
   },
   {
    "duration": 12,
    "start_time": "2021-12-02T11:50:39.127Z"
   },
   {
    "duration": 29,
    "start_time": "2021-12-02T11:50:39.141Z"
   },
   {
    "duration": 60,
    "start_time": "2021-12-02T11:50:39.172Z"
   },
   {
    "duration": 30,
    "start_time": "2021-12-02T11:50:39.234Z"
   },
   {
    "duration": 8,
    "start_time": "2021-12-02T11:50:39.266Z"
   },
   {
    "duration": 37,
    "start_time": "2021-12-02T11:50:39.276Z"
   },
   {
    "duration": 33,
    "start_time": "2021-12-02T11:50:39.322Z"
   },
   {
    "duration": 9,
    "start_time": "2021-12-02T11:50:39.357Z"
   },
   {
    "duration": 25,
    "start_time": "2021-12-02T11:50:39.368Z"
   },
   {
    "duration": 42,
    "start_time": "2021-12-02T11:50:39.394Z"
   },
   {
    "duration": 13,
    "start_time": "2021-12-02T11:50:39.438Z"
   },
   {
    "duration": 34,
    "start_time": "2021-12-02T11:50:39.452Z"
   },
   {
    "duration": 406,
    "start_time": "2021-12-02T11:51:08.048Z"
   },
   {
    "duration": 34,
    "start_time": "2021-12-02T11:51:16.346Z"
   },
   {
    "duration": 5013,
    "start_time": "2021-12-02T11:52:12.712Z"
   },
   {
    "duration": 10343,
    "start_time": "2021-12-02T11:52:28.619Z"
   },
   {
    "duration": 10,
    "start_time": "2021-12-02T11:52:47.390Z"
   },
   {
    "duration": 4,
    "start_time": "2021-12-02T11:53:46.030Z"
   },
   {
    "duration": 12,
    "start_time": "2021-12-02T11:53:57.116Z"
   },
   {
    "duration": 24,
    "start_time": "2021-12-02T11:54:12.430Z"
   },
   {
    "duration": 28,
    "start_time": "2021-12-02T11:54:37.203Z"
   },
   {
    "duration": 24,
    "start_time": "2021-12-02T11:54:45.306Z"
   },
   {
    "duration": 21,
    "start_time": "2021-12-02T11:58:01.318Z"
   },
   {
    "duration": 23,
    "start_time": "2021-12-02T11:58:33.736Z"
   },
   {
    "duration": 26,
    "start_time": "2021-12-02T12:15:39.693Z"
   },
   {
    "duration": 657,
    "start_time": "2021-12-02T12:15:53.150Z"
   },
   {
    "duration": 56,
    "start_time": "2021-12-02T12:15:53.810Z"
   },
   {
    "duration": 7,
    "start_time": "2021-12-02T12:15:53.868Z"
   },
   {
    "duration": 177,
    "start_time": "2021-12-02T12:15:53.878Z"
   },
   {
    "duration": 21,
    "start_time": "2021-12-02T12:15:54.057Z"
   },
   {
    "duration": 112,
    "start_time": "2021-12-02T12:15:54.080Z"
   },
   {
    "duration": 28,
    "start_time": "2021-12-02T12:15:54.194Z"
   },
   {
    "duration": 145,
    "start_time": "2021-12-02T12:15:54.225Z"
   },
   {
    "duration": 17,
    "start_time": "2021-12-02T12:15:54.372Z"
   },
   {
    "duration": 35,
    "start_time": "2021-12-02T12:15:54.391Z"
   },
   {
    "duration": 23,
    "start_time": "2021-12-02T12:15:54.428Z"
   },
   {
    "duration": 9,
    "start_time": "2021-12-02T12:15:54.453Z"
   },
   {
    "duration": 108,
    "start_time": "2021-12-02T12:15:54.464Z"
   },
   {
    "duration": 56,
    "start_time": "2021-12-02T12:15:54.574Z"
   },
   {
    "duration": 75,
    "start_time": "2021-12-02T12:15:54.632Z"
   },
   {
    "duration": 8,
    "start_time": "2021-12-02T12:15:54.710Z"
   },
   {
    "duration": 13,
    "start_time": "2021-12-02T12:15:54.720Z"
   },
   {
    "duration": 10,
    "start_time": "2021-12-02T12:15:54.734Z"
   },
   {
    "duration": 12,
    "start_time": "2021-12-02T12:15:54.746Z"
   },
   {
    "duration": 13,
    "start_time": "2021-12-02T12:15:54.759Z"
   },
   {
    "duration": 9,
    "start_time": "2021-12-02T12:15:54.774Z"
   },
   {
    "duration": 7,
    "start_time": "2021-12-02T12:15:54.784Z"
   },
   {
    "duration": 17,
    "start_time": "2021-12-02T12:15:54.794Z"
   },
   {
    "duration": 32,
    "start_time": "2021-12-02T12:15:54.814Z"
   },
   {
    "duration": 6,
    "start_time": "2021-12-02T12:15:54.848Z"
   },
   {
    "duration": 7,
    "start_time": "2021-12-02T12:15:54.855Z"
   },
   {
    "duration": 13,
    "start_time": "2021-12-02T12:15:54.864Z"
   },
   {
    "duration": 135,
    "start_time": "2021-12-02T12:15:54.878Z"
   },
   {
    "duration": 13,
    "start_time": "2021-12-02T12:15:55.015Z"
   },
   {
    "duration": 10,
    "start_time": "2021-12-02T12:15:55.030Z"
   },
   {
    "duration": 18,
    "start_time": "2021-12-02T12:15:55.042Z"
   },
   {
    "duration": 15,
    "start_time": "2021-12-02T12:15:55.062Z"
   },
   {
    "duration": 40,
    "start_time": "2021-12-02T12:15:55.080Z"
   },
   {
    "duration": 5,
    "start_time": "2021-12-02T12:15:55.122Z"
   },
   {
    "duration": 28,
    "start_time": "2021-12-02T12:15:55.129Z"
   },
   {
    "duration": 55,
    "start_time": "2021-12-02T12:15:55.159Z"
   },
   {
    "duration": 34,
    "start_time": "2021-12-02T12:15:55.216Z"
   },
   {
    "duration": 8,
    "start_time": "2021-12-02T12:15:55.251Z"
   },
   {
    "duration": 18,
    "start_time": "2021-12-02T12:15:55.260Z"
   },
   {
    "duration": 55,
    "start_time": "2021-12-02T12:15:55.280Z"
   },
   {
    "duration": 9,
    "start_time": "2021-12-02T12:15:55.337Z"
   },
   {
    "duration": 23,
    "start_time": "2021-12-02T12:15:55.348Z"
   },
   {
    "duration": 47,
    "start_time": "2021-12-02T12:15:55.373Z"
   },
   {
    "duration": 4,
    "start_time": "2021-12-02T12:15:55.422Z"
   },
   {
    "duration": 18,
    "start_time": "2021-12-02T12:15:55.427Z"
   },
   {
    "duration": 14,
    "start_time": "2021-12-02T12:15:55.447Z"
   },
   {
    "duration": 28,
    "start_time": "2021-12-02T12:15:55.463Z"
   },
   {
    "duration": 9684,
    "start_time": "2021-12-02T12:18:56.268Z"
   },
   {
    "duration": 9962,
    "start_time": "2021-12-02T12:19:16.767Z"
   },
   {
    "duration": 9,
    "start_time": "2021-12-02T12:19:35.669Z"
   },
   {
    "duration": 10,
    "start_time": "2021-12-02T12:19:50.851Z"
   },
   {
    "duration": 13,
    "start_time": "2021-12-02T12:19:56.302Z"
   },
   {
    "duration": 12,
    "start_time": "2021-12-02T12:20:09.442Z"
   },
   {
    "duration": 11,
    "start_time": "2021-12-02T12:20:14.805Z"
   },
   {
    "duration": 12,
    "start_time": "2021-12-02T12:20:18.992Z"
   },
   {
    "duration": 23,
    "start_time": "2021-12-02T12:20:23.938Z"
   },
   {
    "duration": 8,
    "start_time": "2021-12-02T12:21:34.254Z"
   },
   {
    "duration": 23,
    "start_time": "2021-12-02T12:21:41.897Z"
   },
   {
    "duration": 5,
    "start_time": "2021-12-02T12:23:11.411Z"
   },
   {
    "duration": 6,
    "start_time": "2021-12-02T12:23:30.900Z"
   },
   {
    "duration": 3,
    "start_time": "2021-12-02T12:24:12.340Z"
   },
   {
    "duration": 4,
    "start_time": "2021-12-02T12:24:20.125Z"
   },
   {
    "duration": 17,
    "start_time": "2021-12-02T12:24:43.259Z"
   },
   {
    "duration": 17,
    "start_time": "2021-12-02T12:26:33.018Z"
   },
   {
    "duration": 26,
    "start_time": "2021-12-02T12:26:48.701Z"
   },
   {
    "duration": 13,
    "start_time": "2021-12-02T12:38:25.050Z"
   },
   {
    "duration": 374,
    "start_time": "2021-12-02T12:38:40.513Z"
   },
   {
    "duration": 15,
    "start_time": "2021-12-02T12:38:44.163Z"
   },
   {
    "duration": 34,
    "start_time": "2021-12-02T12:40:00.227Z"
   },
   {
    "duration": 46,
    "start_time": "2021-12-02T12:40:28.284Z"
   },
   {
    "duration": 33,
    "start_time": "2021-12-02T12:40:35.119Z"
   },
   {
    "duration": 27,
    "start_time": "2021-12-02T12:41:06.834Z"
   },
   {
    "duration": 15,
    "start_time": "2021-12-02T12:41:11.469Z"
   },
   {
    "duration": 13,
    "start_time": "2021-12-02T12:41:16.691Z"
   },
   {
    "duration": 10374,
    "start_time": "2021-12-02T12:42:08.853Z"
   },
   {
    "duration": 122,
    "start_time": "2021-12-02T12:42:47.540Z"
   },
   {
    "duration": 8,
    "start_time": "2021-12-02T12:42:53.052Z"
   },
   {
    "duration": 15,
    "start_time": "2021-12-02T12:43:05.180Z"
   },
   {
    "duration": 6,
    "start_time": "2021-12-02T12:43:13.686Z"
   },
   {
    "duration": 13,
    "start_time": "2021-12-02T12:43:47.716Z"
   },
   {
    "duration": 387,
    "start_time": "2021-12-02T12:45:18.931Z"
   },
   {
    "duration": 18,
    "start_time": "2021-12-02T12:45:34.892Z"
   },
   {
    "duration": 31,
    "start_time": "2021-12-02T12:45:54.438Z"
   },
   {
    "duration": 22,
    "start_time": "2021-12-02T12:45:55.511Z"
   },
   {
    "duration": 26,
    "start_time": "2021-12-02T12:46:31.838Z"
   },
   {
    "duration": 14,
    "start_time": "2021-12-02T12:46:32.162Z"
   },
   {
    "duration": 16,
    "start_time": "2021-12-02T12:47:47.474Z"
   },
   {
    "duration": 33,
    "start_time": "2021-12-02T12:47:54.839Z"
   },
   {
    "duration": 15,
    "start_time": "2021-12-02T12:47:55.215Z"
   },
   {
    "duration": 35,
    "start_time": "2021-12-02T12:48:16.812Z"
   },
   {
    "duration": 12,
    "start_time": "2021-12-02T12:48:17.304Z"
   },
   {
    "duration": 44,
    "start_time": "2021-12-02T12:48:41.830Z"
   },
   {
    "duration": 21,
    "start_time": "2021-12-02T12:48:42.298Z"
   },
   {
    "duration": 33,
    "start_time": "2021-12-02T12:48:52.187Z"
   },
   {
    "duration": 14,
    "start_time": "2021-12-02T12:48:53.740Z"
   },
   {
    "duration": 18,
    "start_time": "2021-12-02T12:49:15.640Z"
   },
   {
    "duration": 3,
    "start_time": "2021-12-02T12:53:27.441Z"
   },
   {
    "duration": 72,
    "start_time": "2021-12-02T12:53:27.445Z"
   },
   {
    "duration": 14,
    "start_time": "2021-12-02T12:53:27.523Z"
   },
   {
    "duration": 181,
    "start_time": "2021-12-02T12:53:27.539Z"
   },
   {
    "duration": 22,
    "start_time": "2021-12-02T12:53:27.722Z"
   },
   {
    "duration": 101,
    "start_time": "2021-12-02T12:53:27.746Z"
   },
   {
    "duration": 14,
    "start_time": "2021-12-02T12:53:27.848Z"
   },
   {
    "duration": 144,
    "start_time": "2021-12-02T12:53:27.863Z"
   },
   {
    "duration": 23,
    "start_time": "2021-12-02T12:53:28.010Z"
   },
   {
    "duration": 16,
    "start_time": "2021-12-02T12:53:28.036Z"
   },
   {
    "duration": 26,
    "start_time": "2021-12-02T12:53:28.053Z"
   },
   {
    "duration": 12,
    "start_time": "2021-12-02T12:53:28.081Z"
   },
   {
    "duration": 93,
    "start_time": "2021-12-02T12:53:28.095Z"
   },
   {
    "duration": 51,
    "start_time": "2021-12-02T12:53:28.190Z"
   },
   {
    "duration": 68,
    "start_time": "2021-12-02T12:53:28.243Z"
   },
   {
    "duration": 7,
    "start_time": "2021-12-02T12:53:28.313Z"
   },
   {
    "duration": 7,
    "start_time": "2021-12-02T12:53:28.322Z"
   },
   {
    "duration": 7,
    "start_time": "2021-12-02T12:53:28.331Z"
   },
   {
    "duration": 14,
    "start_time": "2021-12-02T12:53:28.339Z"
   },
   {
    "duration": 9,
    "start_time": "2021-12-02T12:53:28.355Z"
   },
   {
    "duration": 7,
    "start_time": "2021-12-02T12:53:28.366Z"
   },
   {
    "duration": 15,
    "start_time": "2021-12-02T12:53:28.375Z"
   },
   {
    "duration": 21,
    "start_time": "2021-12-02T12:53:28.391Z"
   },
   {
    "duration": 32,
    "start_time": "2021-12-02T12:53:28.414Z"
   },
   {
    "duration": 4,
    "start_time": "2021-12-02T12:53:28.447Z"
   },
   {
    "duration": 7,
    "start_time": "2021-12-02T12:53:28.453Z"
   },
   {
    "duration": 6,
    "start_time": "2021-12-02T12:53:28.463Z"
   },
   {
    "duration": 47,
    "start_time": "2021-12-02T12:53:28.472Z"
   },
   {
    "duration": 9,
    "start_time": "2021-12-02T12:53:28.521Z"
   },
   {
    "duration": 6,
    "start_time": "2021-12-02T12:53:28.532Z"
   },
   {
    "duration": 6,
    "start_time": "2021-12-02T12:53:28.540Z"
   },
   {
    "duration": 5,
    "start_time": "2021-12-02T12:53:28.548Z"
   },
   {
    "duration": 23,
    "start_time": "2021-12-02T12:53:28.555Z"
   },
   {
    "duration": 31,
    "start_time": "2021-12-02T12:53:28.579Z"
   },
   {
    "duration": 26,
    "start_time": "2021-12-02T12:53:28.613Z"
   },
   {
    "duration": 47,
    "start_time": "2021-12-02T12:53:28.641Z"
   },
   {
    "duration": 39,
    "start_time": "2021-12-02T12:53:28.690Z"
   },
   {
    "duration": 12,
    "start_time": "2021-12-02T12:53:28.730Z"
   },
   {
    "duration": 12,
    "start_time": "2021-12-02T12:53:28.744Z"
   },
   {
    "duration": 22,
    "start_time": "2021-12-02T12:53:28.757Z"
   },
   {
    "duration": 50,
    "start_time": "2021-12-02T12:53:28.781Z"
   },
   {
    "duration": 15,
    "start_time": "2021-12-02T12:53:28.832Z"
   },
   {
    "duration": 136,
    "start_time": "2021-12-02T12:53:28.849Z"
   },
   {
    "duration": 59,
    "start_time": "2021-12-02T12:53:28.928Z"
   },
   {
    "duration": 57,
    "start_time": "2021-12-02T12:53:28.931Z"
   },
   {
    "duration": 57,
    "start_time": "2021-12-02T12:53:28.932Z"
   },
   {
    "duration": 52,
    "start_time": "2021-12-02T12:53:28.938Z"
   },
   {
    "duration": 52,
    "start_time": "2021-12-02T12:53:28.940Z"
   },
   {
    "duration": 48,
    "start_time": "2021-12-02T12:53:28.945Z"
   },
   {
    "duration": 47,
    "start_time": "2021-12-02T12:53:28.947Z"
   },
   {
    "duration": 9,
    "start_time": "2021-12-02T12:53:46.344Z"
   },
   {
    "duration": 17,
    "start_time": "2021-12-02T12:55:06.625Z"
   },
   {
    "duration": 14,
    "start_time": "2021-12-02T12:55:09.233Z"
   },
   {
    "duration": 15,
    "start_time": "2021-12-02T12:55:17.094Z"
   },
   {
    "duration": 8,
    "start_time": "2021-12-02T12:55:18.650Z"
   },
   {
    "duration": 18,
    "start_time": "2021-12-02T12:55:26.033Z"
   },
   {
    "duration": 13,
    "start_time": "2021-12-02T12:55:26.330Z"
   },
   {
    "duration": 13,
    "start_time": "2021-12-02T12:55:42.827Z"
   },
   {
    "duration": 8,
    "start_time": "2021-12-02T12:55:44.558Z"
   },
   {
    "duration": 405,
    "start_time": "2021-12-02T12:56:03.678Z"
   },
   {
    "duration": 556,
    "start_time": "2021-12-03T10:37:16.102Z"
   },
   {
    "duration": 50,
    "start_time": "2021-12-03T10:37:16.660Z"
   },
   {
    "duration": 9,
    "start_time": "2021-12-03T10:37:16.712Z"
   },
   {
    "duration": 160,
    "start_time": "2021-12-03T10:37:16.724Z"
   },
   {
    "duration": 21,
    "start_time": "2021-12-03T10:37:16.886Z"
   },
   {
    "duration": 99,
    "start_time": "2021-12-03T10:37:16.909Z"
   },
   {
    "duration": 14,
    "start_time": "2021-12-03T10:37:17.009Z"
   },
   {
    "duration": 135,
    "start_time": "2021-12-03T10:37:17.025Z"
   },
   {
    "duration": 16,
    "start_time": "2021-12-03T10:37:17.162Z"
   },
   {
    "duration": 25,
    "start_time": "2021-12-03T10:37:17.179Z"
   },
   {
    "duration": 21,
    "start_time": "2021-12-03T10:37:17.205Z"
   },
   {
    "duration": 11,
    "start_time": "2021-12-03T10:37:17.228Z"
   },
   {
    "duration": 102,
    "start_time": "2021-12-03T10:37:17.240Z"
   },
   {
    "duration": 50,
    "start_time": "2021-12-03T10:37:17.343Z"
   },
   {
    "duration": 69,
    "start_time": "2021-12-03T10:37:17.395Z"
   },
   {
    "duration": 6,
    "start_time": "2021-12-03T10:37:17.466Z"
   },
   {
    "duration": 9,
    "start_time": "2021-12-03T10:37:17.474Z"
   },
   {
    "duration": 9,
    "start_time": "2021-12-03T10:37:17.484Z"
   },
   {
    "duration": 7,
    "start_time": "2021-12-03T10:37:17.494Z"
   },
   {
    "duration": 7,
    "start_time": "2021-12-03T10:37:17.503Z"
   },
   {
    "duration": 10,
    "start_time": "2021-12-03T10:37:17.512Z"
   },
   {
    "duration": 7,
    "start_time": "2021-12-03T10:37:17.524Z"
   },
   {
    "duration": 6,
    "start_time": "2021-12-03T10:37:17.565Z"
   },
   {
    "duration": 27,
    "start_time": "2021-12-03T10:37:17.573Z"
   },
   {
    "duration": 4,
    "start_time": "2021-12-03T10:37:17.602Z"
   },
   {
    "duration": 9,
    "start_time": "2021-12-03T10:37:17.607Z"
   },
   {
    "duration": 7,
    "start_time": "2021-12-03T10:37:17.617Z"
   },
   {
    "duration": 38,
    "start_time": "2021-12-03T10:37:17.625Z"
   },
   {
    "duration": 8,
    "start_time": "2021-12-03T10:37:17.665Z"
   },
   {
    "duration": 6,
    "start_time": "2021-12-03T10:37:17.675Z"
   },
   {
    "duration": 6,
    "start_time": "2021-12-03T10:37:17.683Z"
   },
   {
    "duration": 7,
    "start_time": "2021-12-03T10:37:17.690Z"
   },
   {
    "duration": 33,
    "start_time": "2021-12-03T10:37:17.699Z"
   },
   {
    "duration": 5,
    "start_time": "2021-12-03T10:37:17.733Z"
   },
   {
    "duration": 41,
    "start_time": "2021-12-03T10:37:17.740Z"
   },
   {
    "duration": 48,
    "start_time": "2021-12-03T10:37:17.783Z"
   },
   {
    "duration": 38,
    "start_time": "2021-12-03T10:37:17.833Z"
   },
   {
    "duration": 14,
    "start_time": "2021-12-03T10:37:17.872Z"
   },
   {
    "duration": 12,
    "start_time": "2021-12-03T10:37:17.888Z"
   },
   {
    "duration": 16,
    "start_time": "2021-12-03T10:37:17.902Z"
   },
   {
    "duration": 52,
    "start_time": "2021-12-03T10:37:17.920Z"
   },
   {
    "duration": 15,
    "start_time": "2021-12-03T10:37:17.974Z"
   },
   {
    "duration": 15,
    "start_time": "2021-12-03T10:37:17.992Z"
   },
   {
    "duration": 313,
    "start_time": "2021-12-03T10:37:18.009Z"
   },
   {
    "duration": -75,
    "start_time": "2021-12-03T10:37:18.399Z"
   },
   {
    "duration": -77,
    "start_time": "2021-12-03T10:37:18.402Z"
   },
   {
    "duration": -88,
    "start_time": "2021-12-03T10:37:18.415Z"
   },
   {
    "duration": -90,
    "start_time": "2021-12-03T10:37:18.418Z"
   },
   {
    "duration": -96,
    "start_time": "2021-12-03T10:37:18.426Z"
   },
   {
    "duration": 7,
    "start_time": "2021-12-03T10:38:17.972Z"
   },
   {
    "duration": 12,
    "start_time": "2021-12-03T10:40:31.505Z"
   },
   {
    "duration": 7,
    "start_time": "2021-12-03T10:40:31.720Z"
   },
   {
    "duration": 7,
    "start_time": "2021-12-03T10:40:37.783Z"
   },
   {
    "duration": 14,
    "start_time": "2021-12-03T10:40:50.124Z"
   },
   {
    "duration": 9,
    "start_time": "2021-12-03T10:40:50.332Z"
   },
   {
    "duration": 8,
    "start_time": "2021-12-03T10:42:45.511Z"
   },
   {
    "duration": 17,
    "start_time": "2021-12-03T10:42:51.958Z"
   },
   {
    "duration": 9,
    "start_time": "2021-12-03T10:42:54.368Z"
   },
   {
    "duration": 18,
    "start_time": "2021-12-03T10:42:57.199Z"
   },
   {
    "duration": 13,
    "start_time": "2021-12-03T10:44:59.637Z"
   },
   {
    "duration": 19,
    "start_time": "2021-12-03T10:45:22.041Z"
   },
   {
    "duration": 14,
    "start_time": "2021-12-03T10:45:22.441Z"
   },
   {
    "duration": 345,
    "start_time": "2021-12-03T10:45:41.678Z"
   },
   {
    "duration": 12,
    "start_time": "2021-12-03T10:45:44.381Z"
   },
   {
    "duration": 19,
    "start_time": "2021-12-03T10:45:59.152Z"
   },
   {
    "duration": 13,
    "start_time": "2021-12-03T10:46:01.643Z"
   },
   {
    "duration": 13,
    "start_time": "2021-12-03T10:46:12.057Z"
   },
   {
    "duration": 9,
    "start_time": "2021-12-03T10:46:13.295Z"
   },
   {
    "duration": 15,
    "start_time": "2021-12-03T10:46:28.050Z"
   },
   {
    "duration": 8,
    "start_time": "2021-12-03T10:46:28.658Z"
   },
   {
    "duration": 22,
    "start_time": "2021-12-03T10:46:39.343Z"
   },
   {
    "duration": 13,
    "start_time": "2021-12-03T10:46:39.729Z"
   },
   {
    "duration": 16,
    "start_time": "2021-12-03T10:46:44.226Z"
   },
   {
    "duration": 9,
    "start_time": "2021-12-03T10:46:44.595Z"
   },
   {
    "duration": 15,
    "start_time": "2021-12-03T10:46:47.365Z"
   },
   {
    "duration": 16,
    "start_time": "2021-12-03T10:46:48.062Z"
   },
   {
    "duration": 7,
    "start_time": "2021-12-03T10:46:49.631Z"
   },
   {
    "duration": 8,
    "start_time": "2021-12-03T10:46:52.153Z"
   },
   {
    "duration": 18,
    "start_time": "2021-12-03T10:46:54.451Z"
   },
   {
    "duration": 33,
    "start_time": "2021-12-03T10:47:14.787Z"
   },
   {
    "duration": 24,
    "start_time": "2021-12-03T10:47:25.361Z"
   },
   {
    "duration": 17,
    "start_time": "2021-12-03T10:47:26.937Z"
   },
   {
    "duration": 35,
    "start_time": "2021-12-03T10:47:36.835Z"
   },
   {
    "duration": 10,
    "start_time": "2021-12-03T10:47:39.828Z"
   },
   {
    "duration": 25,
    "start_time": "2021-12-03T10:47:51.488Z"
   },
   {
    "duration": 17,
    "start_time": "2021-12-03T10:47:53.077Z"
   },
   {
    "duration": 15,
    "start_time": "2021-12-03T10:47:58.354Z"
   },
   {
    "duration": 8,
    "start_time": "2021-12-03T10:48:00.459Z"
   },
   {
    "duration": 11,
    "start_time": "2021-12-03T10:53:12.595Z"
   },
   {
    "duration": 7,
    "start_time": "2021-12-03T10:53:19.579Z"
   },
   {
    "duration": 8,
    "start_time": "2021-12-03T10:53:38.046Z"
   },
   {
    "duration": 7,
    "start_time": "2021-12-03T10:53:48.568Z"
   },
   {
    "duration": 8,
    "start_time": "2021-12-03T10:54:07.783Z"
   },
   {
    "duration": 7,
    "start_time": "2021-12-03T10:54:19.484Z"
   },
   {
    "duration": 6,
    "start_time": "2021-12-03T10:54:23.581Z"
   },
   {
    "duration": 258,
    "start_time": "2021-12-03T10:54:32.786Z"
   },
   {
    "duration": 5,
    "start_time": "2021-12-03T10:54:40.943Z"
   },
   {
    "duration": 3,
    "start_time": "2021-12-03T10:55:06.786Z"
   },
   {
    "duration": 7,
    "start_time": "2021-12-03T10:55:17.191Z"
   },
   {
    "duration": 4,
    "start_time": "2021-12-03T10:55:21.437Z"
   },
   {
    "duration": 4,
    "start_time": "2021-12-03T10:55:31.877Z"
   },
   {
    "duration": 251,
    "start_time": "2021-12-03T10:56:18.630Z"
   },
   {
    "duration": 265,
    "start_time": "2021-12-03T10:58:07.937Z"
   },
   {
    "duration": 273,
    "start_time": "2021-12-03T10:58:13.880Z"
   },
   {
    "duration": 266,
    "start_time": "2021-12-03T10:59:30.763Z"
   },
   {
    "duration": 273,
    "start_time": "2021-12-03T10:59:35.781Z"
   },
   {
    "duration": 64,
    "start_time": "2021-12-03T11:00:04.328Z"
   },
   {
    "duration": 277,
    "start_time": "2021-12-03T11:00:17.306Z"
   },
   {
    "duration": 15,
    "start_time": "2021-12-03T11:04:12.079Z"
   },
   {
    "duration": 6,
    "start_time": "2021-12-03T11:14:37.606Z"
   },
   {
    "duration": 12,
    "start_time": "2021-12-03T11:14:50.709Z"
   },
   {
    "duration": 18,
    "start_time": "2021-12-03T11:16:25.479Z"
   },
   {
    "duration": 11,
    "start_time": "2021-12-03T11:16:26.534Z"
   },
   {
    "duration": 15,
    "start_time": "2021-12-03T11:16:46.527Z"
   },
   {
    "duration": 9,
    "start_time": "2021-12-03T11:16:48.123Z"
   },
   {
    "duration": 9,
    "start_time": "2021-12-03T11:23:47.742Z"
   },
   {
    "duration": 8,
    "start_time": "2021-12-03T11:23:59.275Z"
   },
   {
    "duration": 11,
    "start_time": "2021-12-03T11:24:04.909Z"
   },
   {
    "duration": 11,
    "start_time": "2021-12-03T11:24:05.571Z"
   },
   {
    "duration": 9,
    "start_time": "2021-12-03T11:24:16.968Z"
   },
   {
    "duration": 9,
    "start_time": "2021-12-03T11:24:17.166Z"
   },
   {
    "duration": 7,
    "start_time": "2021-12-03T11:24:17.903Z"
   },
   {
    "duration": 8,
    "start_time": "2021-12-03T11:24:18.115Z"
   },
   {
    "duration": 3,
    "start_time": "2021-12-03T11:24:18.366Z"
   },
   {
    "duration": 4,
    "start_time": "2021-12-03T11:24:18.638Z"
   },
   {
    "duration": 4,
    "start_time": "2021-12-03T11:24:18.828Z"
   },
   {
    "duration": 12,
    "start_time": "2021-12-03T11:24:19.183Z"
   },
   {
    "duration": 17,
    "start_time": "2021-12-03T11:25:07.032Z"
   },
   {
    "duration": 15,
    "start_time": "2021-12-03T11:25:49.846Z"
   },
   {
    "duration": 19,
    "start_time": "2021-12-03T11:25:56.849Z"
   },
   {
    "duration": 15,
    "start_time": "2021-12-03T11:26:02.414Z"
   },
   {
    "duration": 17,
    "start_time": "2021-12-03T11:29:23.342Z"
   },
   {
    "duration": 288,
    "start_time": "2021-12-03T11:31:58.175Z"
   },
   {
    "duration": 17,
    "start_time": "2021-12-03T11:32:06.342Z"
   },
   {
    "duration": 17,
    "start_time": "2021-12-03T11:41:34.795Z"
   },
   {
    "duration": 296,
    "start_time": "2021-12-03T11:42:09.439Z"
   },
   {
    "duration": 301,
    "start_time": "2021-12-03T11:42:19.934Z"
   },
   {
    "duration": 311,
    "start_time": "2021-12-03T11:42:32.255Z"
   },
   {
    "duration": 17,
    "start_time": "2021-12-03T11:42:48.367Z"
   },
   {
    "duration": 23,
    "start_time": "2021-12-03T11:43:22.605Z"
   },
   {
    "duration": 16,
    "start_time": "2021-12-03T11:43:36.225Z"
   },
   {
    "duration": 22,
    "start_time": "2021-12-03T11:44:28.212Z"
   },
   {
    "duration": 20,
    "start_time": "2021-12-03T11:44:35.802Z"
   },
   {
    "duration": 25,
    "start_time": "2021-12-03T11:44:44.149Z"
   },
   {
    "duration": 267,
    "start_time": "2021-12-03T11:44:47.783Z"
   },
   {
    "duration": 21,
    "start_time": "2021-12-03T11:44:51.849Z"
   },
   {
    "duration": 22,
    "start_time": "2021-12-03T11:44:59.608Z"
   },
   {
    "duration": 19,
    "start_time": "2021-12-03T11:45:05.996Z"
   },
   {
    "duration": 24,
    "start_time": "2021-12-03T11:45:13.055Z"
   },
   {
    "duration": 84,
    "start_time": "2021-12-03T11:49:06.358Z"
   },
   {
    "duration": 10,
    "start_time": "2021-12-03T11:49:12.750Z"
   },
   {
    "duration": 11,
    "start_time": "2021-12-03T11:54:12.139Z"
   },
   {
    "duration": 4,
    "start_time": "2021-12-03T11:54:21.922Z"
   },
   {
    "duration": 4,
    "start_time": "2021-12-03T11:54:35.226Z"
   },
   {
    "duration": 9,
    "start_time": "2021-12-03T11:54:42.519Z"
   },
   {
    "duration": 3,
    "start_time": "2021-12-03T11:56:07.403Z"
   },
   {
    "duration": 10,
    "start_time": "2021-12-03T11:56:07.603Z"
   },
   {
    "duration": 23,
    "start_time": "2021-12-03T11:56:17.259Z"
   },
   {
    "duration": 13,
    "start_time": "2021-12-03T11:57:46.081Z"
   },
   {
    "duration": 12,
    "start_time": "2021-12-03T11:57:50.068Z"
   },
   {
    "duration": 11,
    "start_time": "2021-12-03T11:58:00.792Z"
   },
   {
    "duration": 10,
    "start_time": "2021-12-03T11:58:08.606Z"
   },
   {
    "duration": 8,
    "start_time": "2021-12-03T11:58:21.521Z"
   },
   {
    "duration": 11,
    "start_time": "2021-12-03T11:58:33.440Z"
   },
   {
    "duration": 11,
    "start_time": "2021-12-03T11:58:43.818Z"
   },
   {
    "duration": 7,
    "start_time": "2021-12-03T11:59:32.438Z"
   },
   {
    "duration": 7,
    "start_time": "2021-12-03T11:59:39.152Z"
   },
   {
    "duration": 8,
    "start_time": "2021-12-03T11:59:45.528Z"
   },
   {
    "duration": 7,
    "start_time": "2021-12-03T11:59:53.631Z"
   },
   {
    "duration": 6,
    "start_time": "2021-12-03T11:59:57.913Z"
   },
   {
    "duration": 8,
    "start_time": "2021-12-03T12:00:00.610Z"
   },
   {
    "duration": 9,
    "start_time": "2021-12-03T12:00:03.683Z"
   },
   {
    "duration": 8,
    "start_time": "2021-12-03T12:00:11.522Z"
   },
   {
    "duration": 9,
    "start_time": "2021-12-03T12:00:16.788Z"
   },
   {
    "duration": 9,
    "start_time": "2021-12-03T12:00:25.405Z"
   },
   {
    "duration": 7,
    "start_time": "2021-12-03T12:00:52.386Z"
   },
   {
    "duration": 269,
    "start_time": "2021-12-03T12:01:29.318Z"
   },
   {
    "duration": 7,
    "start_time": "2021-12-03T12:01:40.451Z"
   },
   {
    "duration": 7,
    "start_time": "2021-12-03T12:01:56.999Z"
   },
   {
    "duration": 7,
    "start_time": "2021-12-03T12:02:12.599Z"
   },
   {
    "duration": 6,
    "start_time": "2021-12-03T12:09:37.382Z"
   },
   {
    "duration": 6,
    "start_time": "2021-12-03T12:09:42.966Z"
   },
   {
    "duration": 11,
    "start_time": "2021-12-03T12:09:48.826Z"
   },
   {
    "duration": 13,
    "start_time": "2021-12-03T12:11:22.498Z"
   },
   {
    "duration": 14,
    "start_time": "2021-12-03T12:11:33.191Z"
   },
   {
    "duration": 6,
    "start_time": "2021-12-03T12:22:14.383Z"
   },
   {
    "duration": 6464,
    "start_time": "2021-12-03T12:22:46.907Z"
   },
   {
    "duration": 12,
    "start_time": "2021-12-03T12:23:00.242Z"
   },
   {
    "duration": 11,
    "start_time": "2021-12-03T12:23:10.691Z"
   },
   {
    "duration": 18,
    "start_time": "2021-12-03T12:23:51.396Z"
   },
   {
    "duration": 18,
    "start_time": "2021-12-03T12:24:13.767Z"
   },
   {
    "duration": 17,
    "start_time": "2021-12-03T12:25:41.599Z"
   },
   {
    "duration": 7,
    "start_time": "2021-12-03T12:26:17.737Z"
   },
   {
    "duration": 7,
    "start_time": "2021-12-03T12:27:04.470Z"
   },
   {
    "duration": 260,
    "start_time": "2021-12-03T12:27:39.528Z"
   },
   {
    "duration": 8,
    "start_time": "2021-12-03T12:27:44.122Z"
   },
   {
    "duration": 9,
    "start_time": "2021-12-03T12:27:58.867Z"
   },
   {
    "duration": 7,
    "start_time": "2021-12-03T12:27:59.304Z"
   },
   {
    "duration": 9,
    "start_time": "2021-12-03T12:28:05.335Z"
   },
   {
    "duration": 7,
    "start_time": "2021-12-03T12:28:08.677Z"
   },
   {
    "duration": 7,
    "start_time": "2021-12-03T12:28:11.525Z"
   },
   {
    "duration": 18,
    "start_time": "2021-12-03T12:31:34.391Z"
   },
   {
    "duration": 8,
    "start_time": "2021-12-03T12:31:35.748Z"
   },
   {
    "duration": 14,
    "start_time": "2021-12-03T12:31:37.133Z"
   },
   {
    "duration": 19,
    "start_time": "2021-12-03T12:35:37.645Z"
   },
   {
    "duration": 8,
    "start_time": "2021-12-03T12:35:38.342Z"
   },
   {
    "duration": 14,
    "start_time": "2021-12-03T12:35:39.712Z"
   },
   {
    "duration": 6,
    "start_time": "2021-12-03T12:36:27.481Z"
   },
   {
    "duration": 7,
    "start_time": "2021-12-03T12:36:49.367Z"
   },
   {
    "duration": 6,
    "start_time": "2021-12-03T12:37:00.506Z"
   },
   {
    "duration": 8,
    "start_time": "2021-12-03T12:37:02.380Z"
   },
   {
    "duration": 7,
    "start_time": "2021-12-03T12:37:10.260Z"
   },
   {
    "duration": 7,
    "start_time": "2021-12-03T12:37:13.456Z"
   },
   {
    "duration": 6,
    "start_time": "2021-12-03T12:39:51.366Z"
   },
   {
    "duration": 6,
    "start_time": "2021-12-03T12:40:28.496Z"
   },
   {
    "duration": 7,
    "start_time": "2021-12-03T12:40:36.259Z"
   },
   {
    "duration": 6,
    "start_time": "2021-12-03T12:40:49.227Z"
   },
   {
    "duration": 4,
    "start_time": "2021-12-03T12:41:12.629Z"
   },
   {
    "duration": 4,
    "start_time": "2021-12-03T12:41:27.664Z"
   },
   {
    "duration": 256,
    "start_time": "2021-12-03T12:42:19.361Z"
   },
   {
    "duration": 267,
    "start_time": "2021-12-03T12:42:28.156Z"
   },
   {
    "duration": 7462,
    "start_time": "2021-12-03T12:42:38.784Z"
   },
   {
    "duration": 6,
    "start_time": "2021-12-03T12:42:57.480Z"
   },
   {
    "duration": 11,
    "start_time": "2021-12-03T12:44:42.749Z"
   },
   {
    "duration": 7,
    "start_time": "2021-12-03T12:44:59.929Z"
   },
   {
    "duration": 260,
    "start_time": "2021-12-03T12:45:05.164Z"
   },
   {
    "duration": 13,
    "start_time": "2021-12-03T13:12:41.051Z"
   },
   {
    "duration": 751,
    "start_time": "2021-12-03T15:32:46.320Z"
   },
   {
    "duration": 68,
    "start_time": "2021-12-03T15:32:47.074Z"
   },
   {
    "duration": 9,
    "start_time": "2021-12-03T15:32:47.145Z"
   },
   {
    "duration": 216,
    "start_time": "2021-12-03T15:32:47.158Z"
   },
   {
    "duration": 30,
    "start_time": "2021-12-03T15:32:47.376Z"
   },
   {
    "duration": 151,
    "start_time": "2021-12-03T15:32:47.408Z"
   },
   {
    "duration": 29,
    "start_time": "2021-12-03T15:32:47.561Z"
   },
   {
    "duration": 201,
    "start_time": "2021-12-03T15:32:47.594Z"
   },
   {
    "duration": 24,
    "start_time": "2021-12-03T15:32:47.798Z"
   },
   {
    "duration": 22,
    "start_time": "2021-12-03T15:32:47.824Z"
   },
   {
    "duration": 46,
    "start_time": "2021-12-03T15:32:47.849Z"
   },
   {
    "duration": 9,
    "start_time": "2021-12-03T15:32:47.898Z"
   },
   {
    "duration": 164,
    "start_time": "2021-12-03T15:32:47.910Z"
   },
   {
    "duration": 60,
    "start_time": "2021-12-03T15:32:48.081Z"
   },
   {
    "duration": 123,
    "start_time": "2021-12-03T15:32:48.144Z"
   },
   {
    "duration": 18,
    "start_time": "2021-12-03T15:32:48.269Z"
   },
   {
    "duration": 8,
    "start_time": "2021-12-03T15:32:48.289Z"
   },
   {
    "duration": 11,
    "start_time": "2021-12-03T15:32:48.300Z"
   },
   {
    "duration": 8,
    "start_time": "2021-12-03T15:32:48.314Z"
   },
   {
    "duration": 9,
    "start_time": "2021-12-03T15:32:48.324Z"
   },
   {
    "duration": 51,
    "start_time": "2021-12-03T15:32:48.335Z"
   },
   {
    "duration": 9,
    "start_time": "2021-12-03T15:32:48.389Z"
   },
   {
    "duration": 7,
    "start_time": "2021-12-03T15:32:48.406Z"
   },
   {
    "duration": 76,
    "start_time": "2021-12-03T15:32:48.416Z"
   },
   {
    "duration": 5,
    "start_time": "2021-12-03T15:32:48.494Z"
   },
   {
    "duration": 9,
    "start_time": "2021-12-03T15:32:48.501Z"
   },
   {
    "duration": 8,
    "start_time": "2021-12-03T15:32:48.513Z"
   },
   {
    "duration": 72,
    "start_time": "2021-12-03T15:32:48.524Z"
   },
   {
    "duration": 14,
    "start_time": "2021-12-03T15:32:48.599Z"
   },
   {
    "duration": 8,
    "start_time": "2021-12-03T15:32:48.616Z"
   },
   {
    "duration": 10,
    "start_time": "2021-12-03T15:32:48.626Z"
   },
   {
    "duration": 44,
    "start_time": "2021-12-03T15:32:48.639Z"
   },
   {
    "duration": 33,
    "start_time": "2021-12-03T15:32:48.686Z"
   },
   {
    "duration": 5,
    "start_time": "2021-12-03T15:32:48.722Z"
   },
   {
    "duration": 54,
    "start_time": "2021-12-03T15:32:48.729Z"
   },
   {
    "duration": 65,
    "start_time": "2021-12-03T15:32:48.785Z"
   },
   {
    "duration": 43,
    "start_time": "2021-12-03T15:32:48.852Z"
   },
   {
    "duration": 15,
    "start_time": "2021-12-03T15:32:48.897Z"
   },
   {
    "duration": 24,
    "start_time": "2021-12-03T15:32:48.915Z"
   },
   {
    "duration": 50,
    "start_time": "2021-12-03T15:32:48.942Z"
   },
   {
    "duration": 5,
    "start_time": "2021-12-03T15:32:48.994Z"
   },
   {
    "duration": 17,
    "start_time": "2021-12-03T15:32:49.001Z"
   },
   {
    "duration": 13,
    "start_time": "2021-12-03T15:32:49.020Z"
   },
   {
    "duration": 61,
    "start_time": "2021-12-03T15:32:49.036Z"
   },
   {
    "duration": 19,
    "start_time": "2021-12-03T15:32:49.099Z"
   },
   {
    "duration": 15,
    "start_time": "2021-12-03T15:32:49.120Z"
   },
   {
    "duration": 57,
    "start_time": "2021-12-03T15:32:49.137Z"
   },
   {
    "duration": 11,
    "start_time": "2021-12-03T15:32:49.196Z"
   },
   {
    "duration": 21,
    "start_time": "2021-12-03T15:32:49.209Z"
   },
   {
    "duration": 91,
    "start_time": "2021-12-03T15:32:49.233Z"
   },
   {
    "duration": 49,
    "start_time": "2021-12-03T17:52:45.853Z"
   },
   {
    "duration": 5,
    "start_time": "2021-12-03T17:54:25.055Z"
   },
   {
    "duration": 434,
    "start_time": "2021-12-03T17:54:57.948Z"
   },
   {
    "duration": 5,
    "start_time": "2021-12-03T17:55:34.984Z"
   },
   {
    "duration": 8,
    "start_time": "2021-12-03T17:55:46.020Z"
   },
   {
    "duration": 19,
    "start_time": "2021-12-03T17:55:55.881Z"
   },
   {
    "duration": 1110,
    "start_time": "2021-12-03T17:57:13.591Z"
   },
   {
    "duration": 12,
    "start_time": "2021-12-03T17:57:26.179Z"
   },
   {
    "duration": 13,
    "start_time": "2021-12-03T17:57:42.299Z"
   },
   {
    "duration": 13,
    "start_time": "2021-12-03T17:57:50.508Z"
   },
   {
    "duration": 13,
    "start_time": "2021-12-03T17:58:02.395Z"
   },
   {
    "duration": 10,
    "start_time": "2021-12-03T17:58:15.946Z"
   },
   {
    "duration": 18,
    "start_time": "2021-12-03T18:01:46.093Z"
   },
   {
    "duration": 482,
    "start_time": "2021-12-03T18:02:16.727Z"
   },
   {
    "duration": 816,
    "start_time": "2021-12-03T18:02:30.191Z"
   },
   {
    "duration": 62,
    "start_time": "2021-12-03T18:02:31.010Z"
   },
   {
    "duration": 10,
    "start_time": "2021-12-03T18:02:31.075Z"
   },
   {
    "duration": 244,
    "start_time": "2021-12-03T18:02:31.088Z"
   },
   {
    "duration": 29,
    "start_time": "2021-12-03T18:02:31.335Z"
   },
   {
    "duration": 136,
    "start_time": "2021-12-03T18:02:31.383Z"
   },
   {
    "duration": 20,
    "start_time": "2021-12-03T18:02:31.522Z"
   },
   {
    "duration": 225,
    "start_time": "2021-12-03T18:02:31.547Z"
   },
   {
    "duration": 29,
    "start_time": "2021-12-03T18:02:31.775Z"
   },
   {
    "duration": 25,
    "start_time": "2021-12-03T18:02:31.808Z"
   },
   {
    "duration": 59,
    "start_time": "2021-12-03T18:02:31.836Z"
   },
   {
    "duration": 12,
    "start_time": "2021-12-03T18:02:31.898Z"
   },
   {
    "duration": 183,
    "start_time": "2021-12-03T18:02:31.913Z"
   },
   {
    "duration": 83,
    "start_time": "2021-12-03T18:02:32.099Z"
   },
   {
    "duration": 138,
    "start_time": "2021-12-03T18:02:32.185Z"
   },
   {
    "duration": 10,
    "start_time": "2021-12-03T18:02:32.326Z"
   },
   {
    "duration": 19,
    "start_time": "2021-12-03T18:02:32.339Z"
   },
   {
    "duration": 27,
    "start_time": "2021-12-03T18:02:32.360Z"
   },
   {
    "duration": 11,
    "start_time": "2021-12-03T18:02:32.390Z"
   },
   {
    "duration": 19,
    "start_time": "2021-12-03T18:02:32.404Z"
   },
   {
    "duration": 13,
    "start_time": "2021-12-03T18:02:32.425Z"
   },
   {
    "duration": 16,
    "start_time": "2021-12-03T18:02:32.441Z"
   },
   {
    "duration": 9,
    "start_time": "2021-12-03T18:02:32.489Z"
   },
   {
    "duration": 52,
    "start_time": "2021-12-03T18:02:32.503Z"
   },
   {
    "duration": 28,
    "start_time": "2021-12-03T18:02:32.558Z"
   },
   {
    "duration": 10,
    "start_time": "2021-12-03T18:02:32.589Z"
   },
   {
    "duration": 9,
    "start_time": "2021-12-03T18:02:32.602Z"
   },
   {
    "duration": 27,
    "start_time": "2021-12-03T18:02:32.615Z"
   },
   {
    "duration": 50,
    "start_time": "2021-12-03T18:02:32.645Z"
   },
   {
    "duration": 15,
    "start_time": "2021-12-03T18:02:32.699Z"
   },
   {
    "duration": 12,
    "start_time": "2021-12-03T18:02:32.717Z"
   },
   {
    "duration": 10,
    "start_time": "2021-12-03T18:02:32.732Z"
   },
   {
    "duration": 66,
    "start_time": "2021-12-03T18:02:32.745Z"
   },
   {
    "duration": 6,
    "start_time": "2021-12-03T18:02:32.814Z"
   },
   {
    "duration": 38,
    "start_time": "2021-12-03T18:02:32.822Z"
   },
   {
    "duration": 82,
    "start_time": "2021-12-03T18:02:32.862Z"
   },
   {
    "duration": 41,
    "start_time": "2021-12-03T18:02:32.947Z"
   },
   {
    "duration": 16,
    "start_time": "2021-12-03T18:02:32.991Z"
   },
   {
    "duration": 21,
    "start_time": "2021-12-03T18:02:33.010Z"
   },
   {
    "duration": 55,
    "start_time": "2021-12-03T18:02:33.034Z"
   },
   {
    "duration": 12,
    "start_time": "2021-12-03T18:02:33.092Z"
   },
   {
    "duration": 28,
    "start_time": "2021-12-03T18:02:33.107Z"
   },
   {
    "duration": 15,
    "start_time": "2021-12-03T18:02:33.138Z"
   },
   {
    "duration": 43,
    "start_time": "2021-12-03T18:02:33.156Z"
   },
   {
    "duration": 19,
    "start_time": "2021-12-03T18:02:33.201Z"
   },
   {
    "duration": 18,
    "start_time": "2021-12-03T18:02:33.223Z"
   },
   {
    "duration": 63,
    "start_time": "2021-12-03T18:02:33.243Z"
   },
   {
    "duration": 12,
    "start_time": "2021-12-03T18:02:33.308Z"
   },
   {
    "duration": 22,
    "start_time": "2021-12-03T18:02:42.097Z"
   },
   {
    "duration": 21,
    "start_time": "2021-12-03T18:02:46.260Z"
   },
   {
    "duration": 6,
    "start_time": "2021-12-03T18:03:39.307Z"
   },
   {
    "duration": 27,
    "start_time": "2021-12-03T18:03:40.022Z"
   },
   {
    "duration": 7,
    "start_time": "2021-12-03T18:03:51.841Z"
   },
   {
    "duration": 18,
    "start_time": "2021-12-03T18:03:52.205Z"
   },
   {
    "duration": 780,
    "start_time": "2021-12-03T18:04:07.951Z"
   },
   {
    "duration": 55,
    "start_time": "2021-12-03T18:04:08.734Z"
   },
   {
    "duration": 9,
    "start_time": "2021-12-03T18:04:08.792Z"
   },
   {
    "duration": 227,
    "start_time": "2021-12-03T18:04:08.805Z"
   },
   {
    "duration": 28,
    "start_time": "2021-12-03T18:04:09.035Z"
   },
   {
    "duration": 142,
    "start_time": "2021-12-03T18:04:09.065Z"
   },
   {
    "duration": 19,
    "start_time": "2021-12-03T18:04:09.210Z"
   },
   {
    "duration": 202,
    "start_time": "2021-12-03T18:04:09.233Z"
   },
   {
    "duration": 49,
    "start_time": "2021-12-03T18:04:09.440Z"
   },
   {
    "duration": 33,
    "start_time": "2021-12-03T18:04:09.493Z"
   },
   {
    "duration": 23,
    "start_time": "2021-12-03T18:04:09.529Z"
   },
   {
    "duration": 32,
    "start_time": "2021-12-03T18:04:09.555Z"
   },
   {
    "duration": 157,
    "start_time": "2021-12-03T18:04:09.589Z"
   },
   {
    "duration": 72,
    "start_time": "2021-12-03T18:04:09.748Z"
   },
   {
    "duration": 119,
    "start_time": "2021-12-03T18:04:09.822Z"
   },
   {
    "duration": 9,
    "start_time": "2021-12-03T18:04:09.943Z"
   },
   {
    "duration": 34,
    "start_time": "2021-12-03T18:04:09.954Z"
   },
   {
    "duration": 9,
    "start_time": "2021-12-03T18:04:09.991Z"
   },
   {
    "duration": 16,
    "start_time": "2021-12-03T18:04:10.003Z"
   },
   {
    "duration": 27,
    "start_time": "2021-12-03T18:04:10.022Z"
   },
   {
    "duration": 13,
    "start_time": "2021-12-03T18:04:10.052Z"
   },
   {
    "duration": 15,
    "start_time": "2021-12-03T18:04:10.068Z"
   },
   {
    "duration": 6,
    "start_time": "2021-12-03T18:04:10.089Z"
   },
   {
    "duration": 42,
    "start_time": "2021-12-03T18:04:10.098Z"
   },
   {
    "duration": 6,
    "start_time": "2021-12-03T18:04:10.142Z"
   },
   {
    "duration": 34,
    "start_time": "2021-12-03T18:04:10.150Z"
   },
   {
    "duration": 8,
    "start_time": "2021-12-03T18:04:10.187Z"
   },
   {
    "duration": 28,
    "start_time": "2021-12-03T18:04:10.197Z"
   },
   {
    "duration": 11,
    "start_time": "2021-12-03T18:04:10.228Z"
   },
   {
    "duration": 4,
    "start_time": "2021-12-03T18:04:10.283Z"
   },
   {
    "duration": 10,
    "start_time": "2021-12-03T18:04:10.289Z"
   },
   {
    "duration": 8,
    "start_time": "2021-12-03T18:04:10.301Z"
   },
   {
    "duration": 75,
    "start_time": "2021-12-03T18:04:10.312Z"
   },
   {
    "duration": 5,
    "start_time": "2021-12-03T18:04:10.390Z"
   },
   {
    "duration": 35,
    "start_time": "2021-12-03T18:04:10.398Z"
   },
   {
    "duration": 101,
    "start_time": "2021-12-03T18:04:10.435Z"
   },
   {
    "duration": 30,
    "start_time": "2021-12-03T18:04:10.539Z"
   },
   {
    "duration": 15,
    "start_time": "2021-12-03T18:04:10.583Z"
   },
   {
    "duration": 33,
    "start_time": "2021-12-03T18:04:10.601Z"
   },
   {
    "duration": 23,
    "start_time": "2021-12-03T18:04:10.636Z"
   },
   {
    "duration": 24,
    "start_time": "2021-12-03T18:04:10.661Z"
   },
   {
    "duration": 14,
    "start_time": "2021-12-03T18:04:10.688Z"
   },
   {
    "duration": 19,
    "start_time": "2021-12-03T18:04:10.704Z"
   },
   {
    "duration": 28,
    "start_time": "2021-12-03T18:04:10.725Z"
   },
   {
    "duration": 44,
    "start_time": "2021-12-03T18:04:10.756Z"
   },
   {
    "duration": 15,
    "start_time": "2021-12-03T18:04:10.802Z"
   },
   {
    "duration": 27,
    "start_time": "2021-12-03T18:04:10.820Z"
   },
   {
    "duration": 41,
    "start_time": "2021-12-03T18:04:10.849Z"
   },
   {
    "duration": 15,
    "start_time": "2021-12-03T18:05:23.130Z"
   },
   {
    "duration": 22,
    "start_time": "2021-12-03T18:05:28.700Z"
   },
   {
    "duration": 763,
    "start_time": "2021-12-03T18:06:13.791Z"
   },
   {
    "duration": 56,
    "start_time": "2021-12-03T18:06:14.556Z"
   },
   {
    "duration": 10,
    "start_time": "2021-12-03T18:06:14.615Z"
   },
   {
    "duration": 235,
    "start_time": "2021-12-03T18:06:14.627Z"
   },
   {
    "duration": 37,
    "start_time": "2021-12-03T18:06:14.864Z"
   },
   {
    "duration": 147,
    "start_time": "2021-12-03T18:06:14.903Z"
   },
   {
    "duration": 29,
    "start_time": "2021-12-03T18:06:15.052Z"
   },
   {
    "duration": 203,
    "start_time": "2021-12-03T18:06:15.085Z"
   },
   {
    "duration": 22,
    "start_time": "2021-12-03T18:06:15.291Z"
   },
   {
    "duration": 22,
    "start_time": "2021-12-03T18:06:15.315Z"
   },
   {
    "duration": 56,
    "start_time": "2021-12-03T18:06:15.339Z"
   },
   {
    "duration": 21,
    "start_time": "2021-12-03T18:06:15.398Z"
   },
   {
    "duration": 159,
    "start_time": "2021-12-03T18:06:15.422Z"
   },
   {
    "duration": 63,
    "start_time": "2021-12-03T18:06:15.584Z"
   },
   {
    "duration": 139,
    "start_time": "2021-12-03T18:06:15.650Z"
   },
   {
    "duration": 9,
    "start_time": "2021-12-03T18:06:15.792Z"
   },
   {
    "duration": 11,
    "start_time": "2021-12-03T18:06:15.804Z"
   },
   {
    "duration": 9,
    "start_time": "2021-12-03T18:06:15.817Z"
   },
   {
    "duration": 8,
    "start_time": "2021-12-03T18:06:15.829Z"
   },
   {
    "duration": 45,
    "start_time": "2021-12-03T18:06:15.840Z"
   },
   {
    "duration": 6,
    "start_time": "2021-12-03T18:06:15.888Z"
   },
   {
    "duration": 9,
    "start_time": "2021-12-03T18:06:15.896Z"
   },
   {
    "duration": 6,
    "start_time": "2021-12-03T18:06:15.910Z"
   },
   {
    "duration": 103,
    "start_time": "2021-12-03T18:06:15.921Z"
   },
   {
    "duration": 6,
    "start_time": "2021-12-03T18:06:16.027Z"
   },
   {
    "duration": 10,
    "start_time": "2021-12-03T18:06:16.036Z"
   },
   {
    "duration": 34,
    "start_time": "2021-12-03T18:06:16.050Z"
   },
   {
    "duration": 26,
    "start_time": "2021-12-03T18:06:16.087Z"
   },
   {
    "duration": 12,
    "start_time": "2021-12-03T18:06:16.115Z"
   },
   {
    "duration": 11,
    "start_time": "2021-12-03T18:06:16.130Z"
   },
   {
    "duration": 43,
    "start_time": "2021-12-03T18:06:16.143Z"
   },
   {
    "duration": 10,
    "start_time": "2021-12-03T18:06:16.189Z"
   },
   {
    "duration": 37,
    "start_time": "2021-12-03T18:06:16.202Z"
   },
   {
    "duration": 6,
    "start_time": "2021-12-03T18:06:16.242Z"
   },
   {
    "duration": 34,
    "start_time": "2021-12-03T18:06:16.282Z"
   },
   {
    "duration": 96,
    "start_time": "2021-12-03T18:06:16.319Z"
   },
   {
    "duration": 25,
    "start_time": "2021-12-03T18:06:16.417Z"
   },
   {
    "duration": 15,
    "start_time": "2021-12-03T18:06:16.445Z"
   },
   {
    "duration": 39,
    "start_time": "2021-12-03T18:06:16.462Z"
   },
   {
    "duration": 21,
    "start_time": "2021-12-03T18:06:16.503Z"
   },
   {
    "duration": 8,
    "start_time": "2021-12-03T18:06:16.526Z"
   },
   {
    "duration": 48,
    "start_time": "2021-12-03T18:06:16.536Z"
   },
   {
    "duration": 11,
    "start_time": "2021-12-03T18:06:16.587Z"
   },
   {
    "duration": 28,
    "start_time": "2021-12-03T18:06:16.601Z"
   },
   {
    "duration": 19,
    "start_time": "2021-12-03T18:06:16.631Z"
   },
   {
    "duration": 43,
    "start_time": "2021-12-03T18:06:16.652Z"
   },
   {
    "duration": 31,
    "start_time": "2021-12-03T18:06:16.697Z"
   },
   {
    "duration": 11,
    "start_time": "2021-12-03T18:06:16.730Z"
   },
   {
    "duration": 10,
    "start_time": "2021-12-03T18:06:19.782Z"
   },
   {
    "duration": 14,
    "start_time": "2021-12-03T18:06:21.768Z"
   },
   {
    "duration": 19,
    "start_time": "2021-12-03T18:06:26.198Z"
   },
   {
    "duration": 21,
    "start_time": "2021-12-03T19:07:45.874Z"
   },
   {
    "duration": 746,
    "start_time": "2021-12-03T19:09:04.642Z"
   },
   {
    "duration": 27,
    "start_time": "2021-12-03T19:10:18.641Z"
   },
   {
    "duration": 586,
    "start_time": "2021-12-03T19:10:21.908Z"
   },
   {
    "duration": 5,
    "start_time": "2021-12-03T19:11:36.336Z"
   },
   {
    "duration": 3,
    "start_time": "2021-12-03T19:14:27.387Z"
   },
   {
    "duration": 9,
    "start_time": "2021-12-03T19:15:07.114Z"
   },
   {
    "duration": 5,
    "start_time": "2021-12-03T19:16:00.637Z"
   },
   {
    "duration": 22,
    "start_time": "2021-12-03T19:18:40.508Z"
   },
   {
    "duration": 602,
    "start_time": "2021-12-03T19:18:43.706Z"
   },
   {
    "duration": 24,
    "start_time": "2021-12-03T19:18:54.603Z"
   },
   {
    "duration": 6,
    "start_time": "2021-12-03T19:23:16.097Z"
   },
   {
    "duration": 31,
    "start_time": "2021-12-03T19:23:21.372Z"
   },
   {
    "duration": 806,
    "start_time": "2021-12-03T19:24:00.429Z"
   },
   {
    "duration": 60,
    "start_time": "2021-12-03T19:24:01.238Z"
   },
   {
    "duration": 10,
    "start_time": "2021-12-03T19:24:01.303Z"
   },
   {
    "duration": 259,
    "start_time": "2021-12-03T19:24:01.316Z"
   },
   {
    "duration": 42,
    "start_time": "2021-12-03T19:24:01.578Z"
   },
   {
    "duration": 144,
    "start_time": "2021-12-03T19:24:01.627Z"
   },
   {
    "duration": 32,
    "start_time": "2021-12-03T19:24:01.774Z"
   },
   {
    "duration": 208,
    "start_time": "2021-12-03T19:24:01.810Z"
   },
   {
    "duration": 26,
    "start_time": "2021-12-03T19:24:02.022Z"
   },
   {
    "duration": 53,
    "start_time": "2021-12-03T19:24:02.051Z"
   },
   {
    "duration": 24,
    "start_time": "2021-12-03T19:24:02.107Z"
   },
   {
    "duration": 28,
    "start_time": "2021-12-03T19:24:02.134Z"
   },
   {
    "duration": 166,
    "start_time": "2021-12-03T19:24:02.165Z"
   },
   {
    "duration": 74,
    "start_time": "2021-12-03T19:24:02.334Z"
   },
   {
    "duration": 127,
    "start_time": "2021-12-03T19:24:02.410Z"
   },
   {
    "duration": 20,
    "start_time": "2021-12-03T19:24:02.540Z"
   },
   {
    "duration": 25,
    "start_time": "2021-12-03T19:24:02.563Z"
   },
   {
    "duration": 12,
    "start_time": "2021-12-03T19:24:02.591Z"
   },
   {
    "duration": 10,
    "start_time": "2021-12-03T19:24:02.607Z"
   },
   {
    "duration": 9,
    "start_time": "2021-12-03T19:24:02.620Z"
   },
   {
    "duration": 7,
    "start_time": "2021-12-03T19:24:02.631Z"
   },
   {
    "duration": 43,
    "start_time": "2021-12-03T19:24:02.642Z"
   },
   {
    "duration": 11,
    "start_time": "2021-12-03T19:24:02.693Z"
   },
   {
    "duration": 91,
    "start_time": "2021-12-03T19:24:02.709Z"
   },
   {
    "duration": 7,
    "start_time": "2021-12-03T19:24:02.804Z"
   },
   {
    "duration": 9,
    "start_time": "2021-12-03T19:24:02.814Z"
   },
   {
    "duration": 10,
    "start_time": "2021-12-03T19:24:02.826Z"
   },
   {
    "duration": 74,
    "start_time": "2021-12-03T19:24:02.839Z"
   },
   {
    "duration": 18,
    "start_time": "2021-12-03T19:24:02.917Z"
   },
   {
    "duration": 27,
    "start_time": "2021-12-03T19:24:02.938Z"
   },
   {
    "duration": 38,
    "start_time": "2021-12-03T19:24:02.968Z"
   },
   {
    "duration": 21,
    "start_time": "2021-12-03T19:24:03.009Z"
   },
   {
    "duration": 42,
    "start_time": "2021-12-03T19:24:03.033Z"
   },
   {
    "duration": 5,
    "start_time": "2021-12-03T19:24:03.077Z"
   },
   {
    "duration": 41,
    "start_time": "2021-12-03T19:24:03.084Z"
   },
   {
    "duration": 91,
    "start_time": "2021-12-03T19:24:03.128Z"
   },
   {
    "duration": 23,
    "start_time": "2021-12-03T19:24:03.222Z"
   },
   {
    "duration": 34,
    "start_time": "2021-12-03T19:24:03.248Z"
   },
   {
    "duration": 26,
    "start_time": "2021-12-03T19:24:03.288Z"
   },
   {
    "duration": 31,
    "start_time": "2021-12-03T19:24:03.317Z"
   },
   {
    "duration": 37,
    "start_time": "2021-12-03T19:24:03.352Z"
   },
   {
    "duration": 22,
    "start_time": "2021-12-03T19:24:03.393Z"
   },
   {
    "duration": 18,
    "start_time": "2021-12-03T19:24:03.417Z"
   },
   {
    "duration": 63,
    "start_time": "2021-12-03T19:24:03.437Z"
   },
   {
    "duration": 22,
    "start_time": "2021-12-03T19:24:03.504Z"
   },
   {
    "duration": 18,
    "start_time": "2021-12-03T19:24:03.528Z"
   },
   {
    "duration": 62,
    "start_time": "2021-12-03T19:24:03.548Z"
   },
   {
    "duration": 11,
    "start_time": "2021-12-03T19:24:03.612Z"
   },
   {
    "duration": 14,
    "start_time": "2021-12-03T19:24:03.626Z"
   },
   {
    "duration": 43,
    "start_time": "2021-12-03T19:24:03.643Z"
   },
   {
    "duration": 615,
    "start_time": "2021-12-03T19:24:03.689Z"
   },
   {
    "duration": 32,
    "start_time": "2021-12-03T19:24:04.308Z"
   },
   {
    "duration": 7,
    "start_time": "2021-12-03T19:24:10.794Z"
   },
   {
    "duration": 21,
    "start_time": "2021-12-03T19:24:12.919Z"
   },
   {
    "duration": 24,
    "start_time": "2021-12-03T19:24:17.458Z"
   },
   {
    "duration": 769,
    "start_time": "2021-12-03T19:24:36.884Z"
   },
   {
    "duration": 55,
    "start_time": "2021-12-03T19:24:37.655Z"
   },
   {
    "duration": 10,
    "start_time": "2021-12-03T19:24:37.713Z"
   },
   {
    "duration": 244,
    "start_time": "2021-12-03T19:24:37.727Z"
   },
   {
    "duration": 49,
    "start_time": "2021-12-03T19:24:37.974Z"
   },
   {
    "duration": 176,
    "start_time": "2021-12-03T19:24:38.026Z"
   },
   {
    "duration": 28,
    "start_time": "2021-12-03T19:24:38.205Z"
   },
   {
    "duration": 202,
    "start_time": "2021-12-03T19:24:38.239Z"
   },
   {
    "duration": 38,
    "start_time": "2021-12-03T19:24:38.444Z"
   },
   {
    "duration": 27,
    "start_time": "2021-12-03T19:24:38.485Z"
   },
   {
    "duration": 39,
    "start_time": "2021-12-03T19:24:38.514Z"
   },
   {
    "duration": 9,
    "start_time": "2021-12-03T19:24:38.555Z"
   },
   {
    "duration": 160,
    "start_time": "2021-12-03T19:24:38.567Z"
   },
   {
    "duration": 72,
    "start_time": "2021-12-03T19:24:38.729Z"
   },
   {
    "duration": 123,
    "start_time": "2021-12-03T19:24:38.804Z"
   },
   {
    "duration": 12,
    "start_time": "2021-12-03T19:24:38.930Z"
   },
   {
    "duration": 8,
    "start_time": "2021-12-03T19:24:38.945Z"
   },
   {
    "duration": 10,
    "start_time": "2021-12-03T19:24:38.982Z"
   },
   {
    "duration": 10,
    "start_time": "2021-12-03T19:24:38.995Z"
   },
   {
    "duration": 10,
    "start_time": "2021-12-03T19:24:39.008Z"
   },
   {
    "duration": 8,
    "start_time": "2021-12-03T19:24:39.021Z"
   },
   {
    "duration": 8,
    "start_time": "2021-12-03T19:24:39.031Z"
   },
   {
    "duration": 9,
    "start_time": "2021-12-03T19:24:39.093Z"
   },
   {
    "duration": 41,
    "start_time": "2021-12-03T19:24:39.105Z"
   },
   {
    "duration": 33,
    "start_time": "2021-12-03T19:24:39.149Z"
   },
   {
    "duration": 8,
    "start_time": "2021-12-03T19:24:39.185Z"
   },
   {
    "duration": 10,
    "start_time": "2021-12-03T19:24:39.196Z"
   },
   {
    "duration": 32,
    "start_time": "2021-12-03T19:24:39.209Z"
   },
   {
    "duration": 41,
    "start_time": "2021-12-03T19:24:39.244Z"
   },
   {
    "duration": 6,
    "start_time": "2021-12-03T19:24:39.288Z"
   },
   {
    "duration": 10,
    "start_time": "2021-12-03T19:24:39.297Z"
   },
   {
    "duration": 7,
    "start_time": "2021-12-03T19:24:39.309Z"
   },
   {
    "duration": 82,
    "start_time": "2021-12-03T19:24:39.318Z"
   },
   {
    "duration": 7,
    "start_time": "2021-12-03T19:24:39.402Z"
   },
   {
    "duration": 35,
    "start_time": "2021-12-03T19:24:39.411Z"
   },
   {
    "duration": 86,
    "start_time": "2021-12-03T19:24:39.449Z"
   },
   {
    "duration": 44,
    "start_time": "2021-12-03T19:24:39.541Z"
   },
   {
    "duration": 20,
    "start_time": "2021-12-03T19:24:39.589Z"
   },
   {
    "duration": 21,
    "start_time": "2021-12-03T19:24:39.611Z"
   },
   {
    "duration": 56,
    "start_time": "2021-12-03T19:24:39.635Z"
   },
   {
    "duration": 6,
    "start_time": "2021-12-03T19:24:39.694Z"
   },
   {
    "duration": 18,
    "start_time": "2021-12-03T19:24:39.703Z"
   },
   {
    "duration": 20,
    "start_time": "2021-12-03T19:24:39.724Z"
   },
   {
    "duration": 55,
    "start_time": "2021-12-03T19:24:39.747Z"
   },
   {
    "duration": 24,
    "start_time": "2021-12-03T19:24:39.805Z"
   },
   {
    "duration": 18,
    "start_time": "2021-12-03T19:24:39.831Z"
   },
   {
    "duration": 42,
    "start_time": "2021-12-03T19:24:39.882Z"
   },
   {
    "duration": 14,
    "start_time": "2021-12-03T19:24:39.927Z"
   },
   {
    "duration": 29,
    "start_time": "2021-12-03T19:24:47.667Z"
   },
   {
    "duration": 7,
    "start_time": "2021-12-03T19:25:13.258Z"
   },
   {
    "duration": 27,
    "start_time": "2021-12-03T19:25:16.933Z"
   },
   {
    "duration": 402,
    "start_time": "2021-12-03T19:25:21.492Z"
   },
   {
    "duration": 21,
    "start_time": "2021-12-03T19:25:28.362Z"
   },
   {
    "duration": 8146,
    "start_time": "2021-12-03T19:25:33.923Z"
   },
   {
    "duration": 947,
    "start_time": "2021-12-03T19:26:25.312Z"
   },
   {
    "duration": 52,
    "start_time": "2021-12-03T19:26:26.262Z"
   },
   {
    "duration": 10,
    "start_time": "2021-12-03T19:26:26.318Z"
   },
   {
    "duration": 309,
    "start_time": "2021-12-03T19:26:26.331Z"
   },
   {
    "duration": 52,
    "start_time": "2021-12-03T19:26:26.643Z"
   },
   {
    "duration": 178,
    "start_time": "2021-12-03T19:26:26.699Z"
   },
   {
    "duration": 29,
    "start_time": "2021-12-03T19:26:26.882Z"
   },
   {
    "duration": 228,
    "start_time": "2021-12-03T19:26:26.916Z"
   },
   {
    "duration": 37,
    "start_time": "2021-12-03T19:26:27.147Z"
   },
   {
    "duration": 30,
    "start_time": "2021-12-03T19:26:27.186Z"
   },
   {
    "duration": 23,
    "start_time": "2021-12-03T19:26:27.219Z"
   },
   {
    "duration": 14,
    "start_time": "2021-12-03T19:26:27.244Z"
   },
   {
    "duration": 181,
    "start_time": "2021-12-03T19:26:27.289Z"
   },
   {
    "duration": 79,
    "start_time": "2021-12-03T19:26:27.473Z"
   },
   {
    "duration": 152,
    "start_time": "2021-12-03T19:26:27.555Z"
   },
   {
    "duration": 10,
    "start_time": "2021-12-03T19:26:27.710Z"
   },
   {
    "duration": 14,
    "start_time": "2021-12-03T19:26:27.723Z"
   },
   {
    "duration": 21,
    "start_time": "2021-12-03T19:26:27.739Z"
   },
   {
    "duration": 28,
    "start_time": "2021-12-03T19:26:27.763Z"
   },
   {
    "duration": 13,
    "start_time": "2021-12-03T19:26:27.794Z"
   },
   {
    "duration": 12,
    "start_time": "2021-12-03T19:26:27.810Z"
   },
   {
    "duration": 11,
    "start_time": "2021-12-03T19:26:27.825Z"
   },
   {
    "duration": 7,
    "start_time": "2021-12-03T19:26:27.843Z"
   },
   {
    "duration": 72,
    "start_time": "2021-12-03T19:26:27.853Z"
   },
   {
    "duration": 7,
    "start_time": "2021-12-03T19:26:27.927Z"
   },
   {
    "duration": 9,
    "start_time": "2021-12-03T19:26:27.937Z"
   },
   {
    "duration": 39,
    "start_time": "2021-12-03T19:26:27.948Z"
   },
   {
    "duration": 30,
    "start_time": "2021-12-03T19:26:27.990Z"
   },
   {
    "duration": 14,
    "start_time": "2021-12-03T19:26:28.022Z"
   },
   {
    "duration": 9,
    "start_time": "2021-12-03T19:26:28.038Z"
   },
   {
    "duration": 40,
    "start_time": "2021-12-03T19:26:28.049Z"
   },
   {
    "duration": 16,
    "start_time": "2021-12-03T19:26:28.091Z"
   },
   {
    "duration": 33,
    "start_time": "2021-12-03T19:26:28.109Z"
   },
   {
    "duration": 5,
    "start_time": "2021-12-03T19:26:28.145Z"
   },
   {
    "duration": 62,
    "start_time": "2021-12-03T19:26:28.153Z"
   },
   {
    "duration": 85,
    "start_time": "2021-12-03T19:26:28.217Z"
   },
   {
    "duration": 23,
    "start_time": "2021-12-03T19:26:28.305Z"
   },
   {
    "duration": 15,
    "start_time": "2021-12-03T19:26:28.331Z"
   },
   {
    "duration": 49,
    "start_time": "2021-12-03T19:26:28.349Z"
   },
   {
    "duration": 22,
    "start_time": "2021-12-03T19:26:28.401Z"
   },
   {
    "duration": 5,
    "start_time": "2021-12-03T19:26:28.425Z"
   },
   {
    "duration": 14,
    "start_time": "2021-12-03T19:26:28.433Z"
   },
   {
    "duration": 49,
    "start_time": "2021-12-03T19:26:28.449Z"
   },
   {
    "duration": 30,
    "start_time": "2021-12-03T19:26:28.501Z"
   },
   {
    "duration": 48,
    "start_time": "2021-12-03T19:26:28.534Z"
   },
   {
    "duration": 20,
    "start_time": "2021-12-03T19:26:28.585Z"
   },
   {
    "duration": 28,
    "start_time": "2021-12-03T19:26:28.607Z"
   },
   {
    "duration": 11,
    "start_time": "2021-12-03T19:26:28.637Z"
   },
   {
    "duration": 13,
    "start_time": "2021-12-03T19:26:30.818Z"
   },
   {
    "duration": 20,
    "start_time": "2021-12-03T19:26:40.777Z"
   },
   {
    "duration": 23,
    "start_time": "2021-12-03T19:27:24.174Z"
   },
   {
    "duration": 523,
    "start_time": "2021-12-03T19:27:36.713Z"
   },
   {
    "duration": 10,
    "start_time": "2021-12-03T19:27:41.610Z"
   },
   {
    "duration": 7,
    "start_time": "2021-12-03T19:28:33.782Z"
   },
   {
    "duration": 6,
    "start_time": "2021-12-03T19:29:18.871Z"
   },
   {
    "duration": 20,
    "start_time": "2021-12-03T19:29:30.677Z"
   },
   {
    "duration": 22,
    "start_time": "2021-12-03T19:29:47.064Z"
   },
   {
    "duration": 315,
    "start_time": "2021-12-03T19:29:52.074Z"
   },
   {
    "duration": 23,
    "start_time": "2021-12-03T19:30:05.525Z"
   },
   {
    "duration": 18,
    "start_time": "2021-12-03T19:33:17.765Z"
   },
   {
    "duration": 22,
    "start_time": "2021-12-03T19:33:40.126Z"
   },
   {
    "duration": 566,
    "start_time": "2021-12-04T09:20:39.476Z"
   },
   {
    "duration": 42,
    "start_time": "2021-12-04T09:20:40.043Z"
   },
   {
    "duration": 6,
    "start_time": "2021-12-04T09:20:40.087Z"
   },
   {
    "duration": 140,
    "start_time": "2021-12-04T09:20:40.094Z"
   },
   {
    "duration": 17,
    "start_time": "2021-12-04T09:20:40.236Z"
   },
   {
    "duration": 79,
    "start_time": "2021-12-04T09:20:40.254Z"
   },
   {
    "duration": 13,
    "start_time": "2021-12-04T09:20:40.334Z"
   },
   {
    "duration": 127,
    "start_time": "2021-12-04T09:20:40.348Z"
   },
   {
    "duration": 22,
    "start_time": "2021-12-04T09:20:40.478Z"
   },
   {
    "duration": 13,
    "start_time": "2021-12-04T09:20:40.502Z"
   },
   {
    "duration": 25,
    "start_time": "2021-12-04T09:20:40.517Z"
   },
   {
    "duration": 5,
    "start_time": "2021-12-04T09:20:40.544Z"
   },
   {
    "duration": 82,
    "start_time": "2021-12-04T09:20:40.550Z"
   },
   {
    "duration": 32,
    "start_time": "2021-12-04T09:20:40.633Z"
   },
   {
    "duration": 59,
    "start_time": "2021-12-04T09:20:40.667Z"
   },
   {
    "duration": 5,
    "start_time": "2021-12-04T09:20:40.727Z"
   },
   {
    "duration": 8,
    "start_time": "2021-12-04T09:20:40.733Z"
   },
   {
    "duration": 6,
    "start_time": "2021-12-04T09:20:40.743Z"
   },
   {
    "duration": 5,
    "start_time": "2021-12-04T09:20:40.751Z"
   },
   {
    "duration": 6,
    "start_time": "2021-12-04T09:20:40.757Z"
   },
   {
    "duration": 23,
    "start_time": "2021-12-04T09:20:40.765Z"
   },
   {
    "duration": 5,
    "start_time": "2021-12-04T09:20:40.789Z"
   },
   {
    "duration": 6,
    "start_time": "2021-12-04T09:20:40.795Z"
   },
   {
    "duration": 23,
    "start_time": "2021-12-04T09:20:40.803Z"
   },
   {
    "duration": 4,
    "start_time": "2021-12-04T09:20:40.827Z"
   },
   {
    "duration": 6,
    "start_time": "2021-12-04T09:20:40.832Z"
   },
   {
    "duration": 5,
    "start_time": "2021-12-04T09:20:40.841Z"
   },
   {
    "duration": 49,
    "start_time": "2021-12-04T09:20:40.847Z"
   },
   {
    "duration": 7,
    "start_time": "2021-12-04T09:20:40.898Z"
   },
   {
    "duration": 5,
    "start_time": "2021-12-04T09:20:40.906Z"
   },
   {
    "duration": 6,
    "start_time": "2021-12-04T09:20:40.912Z"
   },
   {
    "duration": 5,
    "start_time": "2021-12-04T09:20:40.919Z"
   },
   {
    "duration": 20,
    "start_time": "2021-12-04T09:20:40.926Z"
   },
   {
    "duration": 4,
    "start_time": "2021-12-04T09:20:40.948Z"
   },
   {
    "duration": 21,
    "start_time": "2021-12-04T09:20:40.987Z"
   },
   {
    "duration": 41,
    "start_time": "2021-12-04T09:20:41.010Z"
   },
   {
    "duration": 35,
    "start_time": "2021-12-04T09:20:41.053Z"
   },
   {
    "duration": 11,
    "start_time": "2021-12-04T09:20:41.089Z"
   },
   {
    "duration": 15,
    "start_time": "2021-12-04T09:20:41.101Z"
   },
   {
    "duration": 14,
    "start_time": "2021-12-04T09:20:41.118Z"
   },
   {
    "duration": 4,
    "start_time": "2021-12-04T09:20:41.134Z"
   },
   {
    "duration": 9,
    "start_time": "2021-12-04T09:20:41.139Z"
   },
   {
    "duration": 44,
    "start_time": "2021-12-04T09:20:41.149Z"
   },
   {
    "duration": 17,
    "start_time": "2021-12-04T09:20:41.194Z"
   },
   {
    "duration": 13,
    "start_time": "2021-12-04T09:20:41.212Z"
   },
   {
    "duration": 9,
    "start_time": "2021-12-04T09:20:41.227Z"
   },
   {
    "duration": 11,
    "start_time": "2021-12-04T09:20:43.605Z"
   },
   {
    "duration": 19,
    "start_time": "2021-12-04T09:21:00.634Z"
   },
   {
    "duration": 7,
    "start_time": "2021-12-04T09:21:04.603Z"
   },
   {
    "duration": 8,
    "start_time": "2021-12-04T09:21:07.969Z"
   },
   {
    "duration": 13,
    "start_time": "2021-12-04T09:21:16.490Z"
   },
   {
    "duration": 12,
    "start_time": "2021-12-04T09:21:48.565Z"
   },
   {
    "duration": 3,
    "start_time": "2021-12-04T09:22:00.358Z"
   },
   {
    "duration": 10,
    "start_time": "2021-12-04T09:22:05.068Z"
   },
   {
    "duration": 166,
    "start_time": "2021-12-04T09:22:11.290Z"
   },
   {
    "duration": 13,
    "start_time": "2021-12-04T09:22:14.030Z"
   },
   {
    "duration": 4,
    "start_time": "2021-12-04T09:38:44.141Z"
   },
   {
    "duration": 12,
    "start_time": "2021-12-04T09:38:47.919Z"
   },
   {
    "duration": 12,
    "start_time": "2021-12-04T09:38:50.186Z"
   },
   {
    "duration": 13,
    "start_time": "2021-12-04T09:39:07.361Z"
   },
   {
    "duration": 13,
    "start_time": "2021-12-04T09:46:21.949Z"
   },
   {
    "duration": 15,
    "start_time": "2021-12-04T09:47:51.379Z"
   },
   {
    "duration": 9,
    "start_time": "2021-12-04T09:48:36.393Z"
   },
   {
    "duration": 19,
    "start_time": "2021-12-04T09:48:56.065Z"
   },
   {
    "duration": 18,
    "start_time": "2021-12-04T09:49:08.514Z"
   },
   {
    "duration": 13,
    "start_time": "2021-12-04T09:50:40.936Z"
   },
   {
    "duration": 10,
    "start_time": "2021-12-04T09:50:50.422Z"
   },
   {
    "duration": 15,
    "start_time": "2021-12-04T09:52:12.546Z"
   },
   {
    "duration": 483,
    "start_time": "2021-12-04T09:52:37.275Z"
   },
   {
    "duration": 17,
    "start_time": "2021-12-04T09:52:42.701Z"
   },
   {
    "duration": 5,
    "start_time": "2021-12-04T09:53:22.718Z"
   },
   {
    "duration": 5,
    "start_time": "2021-12-04T09:53:54.566Z"
   },
   {
    "duration": 14,
    "start_time": "2021-12-04T09:54:06.116Z"
   },
   {
    "duration": 6085,
    "start_time": "2021-12-04T09:57:32.748Z"
   },
   {
    "duration": 6,
    "start_time": "2021-12-04T09:57:49.043Z"
   },
   {
    "duration": 271,
    "start_time": "2021-12-04T10:02:36.973Z"
   },
   {
    "duration": 543,
    "start_time": "2021-12-04T10:02:44.053Z"
   },
   {
    "duration": 41,
    "start_time": "2021-12-04T10:02:44.598Z"
   },
   {
    "duration": 6,
    "start_time": "2021-12-04T10:02:44.642Z"
   },
   {
    "duration": 136,
    "start_time": "2021-12-04T10:02:44.650Z"
   },
   {
    "duration": 17,
    "start_time": "2021-12-04T10:02:44.788Z"
   },
   {
    "duration": 88,
    "start_time": "2021-12-04T10:02:44.806Z"
   },
   {
    "duration": 13,
    "start_time": "2021-12-04T10:02:44.896Z"
   },
   {
    "duration": 121,
    "start_time": "2021-12-04T10:02:44.910Z"
   },
   {
    "duration": 15,
    "start_time": "2021-12-04T10:02:45.034Z"
   },
   {
    "duration": 14,
    "start_time": "2021-12-04T10:02:45.051Z"
   },
   {
    "duration": 24,
    "start_time": "2021-12-04T10:02:45.066Z"
   },
   {
    "duration": 5,
    "start_time": "2021-12-04T10:02:45.092Z"
   },
   {
    "duration": 95,
    "start_time": "2021-12-04T10:02:45.099Z"
   },
   {
    "duration": 32,
    "start_time": "2021-12-04T10:02:45.195Z"
   },
   {
    "duration": 68,
    "start_time": "2021-12-04T10:02:45.229Z"
   },
   {
    "duration": 5,
    "start_time": "2021-12-04T10:02:45.298Z"
   },
   {
    "duration": 7,
    "start_time": "2021-12-04T10:02:45.304Z"
   },
   {
    "duration": 6,
    "start_time": "2021-12-04T10:02:45.312Z"
   },
   {
    "duration": 6,
    "start_time": "2021-12-04T10:02:45.319Z"
   },
   {
    "duration": 5,
    "start_time": "2021-12-04T10:02:45.327Z"
   },
   {
    "duration": 5,
    "start_time": "2021-12-04T10:02:45.333Z"
   },
   {
    "duration": 6,
    "start_time": "2021-12-04T10:02:45.339Z"
   },
   {
    "duration": 5,
    "start_time": "2021-12-04T10:02:45.346Z"
   },
   {
    "duration": 54,
    "start_time": "2021-12-04T10:02:45.353Z"
   },
   {
    "duration": 4,
    "start_time": "2021-12-04T10:02:45.408Z"
   },
   {
    "duration": 5,
    "start_time": "2021-12-04T10:02:45.414Z"
   },
   {
    "duration": 4,
    "start_time": "2021-12-04T10:02:45.422Z"
   },
   {
    "duration": 17,
    "start_time": "2021-12-04T10:02:45.427Z"
   },
   {
    "duration": 7,
    "start_time": "2021-12-04T10:02:45.445Z"
   },
   {
    "duration": 5,
    "start_time": "2021-12-04T10:02:45.453Z"
   },
   {
    "duration": 31,
    "start_time": "2021-12-04T10:02:45.460Z"
   },
   {
    "duration": 9,
    "start_time": "2021-12-04T10:02:45.492Z"
   },
   {
    "duration": 22,
    "start_time": "2021-12-04T10:02:45.502Z"
   },
   {
    "duration": 4,
    "start_time": "2021-12-04T10:02:45.525Z"
   },
   {
    "duration": 21,
    "start_time": "2021-12-04T10:02:45.531Z"
   },
   {
    "duration": 62,
    "start_time": "2021-12-04T10:02:45.554Z"
   },
   {
    "duration": 14,
    "start_time": "2021-12-04T10:02:45.617Z"
   },
   {
    "duration": 9,
    "start_time": "2021-12-04T10:02:45.632Z"
   },
   {
    "duration": 14,
    "start_time": "2021-12-04T10:02:45.642Z"
   },
   {
    "duration": 37,
    "start_time": "2021-12-04T10:02:45.657Z"
   },
   {
    "duration": 3,
    "start_time": "2021-12-04T10:02:45.696Z"
   },
   {
    "duration": 10,
    "start_time": "2021-12-04T10:02:45.700Z"
   },
   {
    "duration": 12,
    "start_time": "2021-12-04T10:02:45.711Z"
   },
   {
    "duration": 19,
    "start_time": "2021-12-04T10:02:45.725Z"
   },
   {
    "duration": 12,
    "start_time": "2021-12-04T10:02:45.745Z"
   },
   {
    "duration": 9,
    "start_time": "2021-12-04T10:02:45.758Z"
   },
   {
    "duration": 15,
    "start_time": "2021-12-04T10:02:45.787Z"
   },
   {
    "duration": 6,
    "start_time": "2021-12-04T10:02:45.804Z"
   },
   {
    "duration": 8,
    "start_time": "2021-12-04T10:02:45.811Z"
   },
   {
    "duration": 3,
    "start_time": "2021-12-04T10:02:45.821Z"
   },
   {
    "duration": 12,
    "start_time": "2021-12-04T10:02:45.825Z"
   },
   {
    "duration": 184,
    "start_time": "2021-12-04T10:02:45.838Z"
   },
   {
    "duration": 9,
    "start_time": "2021-12-04T10:02:46.023Z"
   },
   {
    "duration": 16,
    "start_time": "2021-12-04T10:03:02.049Z"
   },
   {
    "duration": 9,
    "start_time": "2021-12-04T10:03:14.024Z"
   },
   {
    "duration": 6,
    "start_time": "2021-12-04T10:03:25.903Z"
   },
   {
    "duration": 12,
    "start_time": "2021-12-04T10:03:30.694Z"
   },
   {
    "duration": 7,
    "start_time": "2021-12-04T10:03:46.245Z"
   },
   {
    "duration": 5,
    "start_time": "2021-12-04T10:06:29.388Z"
   },
   {
    "duration": 247,
    "start_time": "2021-12-04T10:06:43.519Z"
   },
   {
    "duration": 234,
    "start_time": "2021-12-04T10:07:10.304Z"
   },
   {
    "duration": 85,
    "start_time": "2021-12-04T10:07:20.894Z"
   },
   {
    "duration": 5,
    "start_time": "2021-12-04T10:07:53.873Z"
   },
   {
    "duration": 5,
    "start_time": "2021-12-04T10:08:07.593Z"
   },
   {
    "duration": 7,
    "start_time": "2021-12-04T10:12:41.816Z"
   },
   {
    "duration": 7,
    "start_time": "2021-12-04T10:12:47.325Z"
   },
   {
    "duration": 7,
    "start_time": "2021-12-04T10:12:50.818Z"
   },
   {
    "duration": 7,
    "start_time": "2021-12-04T10:13:01.889Z"
   },
   {
    "duration": 521,
    "start_time": "2021-12-04T14:22:25.238Z"
   },
   {
    "duration": 40,
    "start_time": "2021-12-04T14:22:25.761Z"
   },
   {
    "duration": 5,
    "start_time": "2021-12-04T14:22:25.803Z"
   },
   {
    "duration": 138,
    "start_time": "2021-12-04T14:22:25.810Z"
   },
   {
    "duration": 18,
    "start_time": "2021-12-04T14:22:25.949Z"
   },
   {
    "duration": 83,
    "start_time": "2021-12-04T14:22:25.968Z"
   },
   {
    "duration": 12,
    "start_time": "2021-12-04T14:22:26.052Z"
   },
   {
    "duration": 121,
    "start_time": "2021-12-04T14:22:26.065Z"
   },
   {
    "duration": 15,
    "start_time": "2021-12-04T14:22:26.188Z"
   },
   {
    "duration": 13,
    "start_time": "2021-12-04T14:22:26.205Z"
   },
   {
    "duration": 20,
    "start_time": "2021-12-04T14:22:26.220Z"
   },
   {
    "duration": 7,
    "start_time": "2021-12-04T14:22:26.242Z"
   },
   {
    "duration": 94,
    "start_time": "2021-12-04T14:22:26.250Z"
   },
   {
    "duration": 43,
    "start_time": "2021-12-04T14:22:26.345Z"
   },
   {
    "duration": 53,
    "start_time": "2021-12-04T14:22:26.390Z"
   },
   {
    "duration": 6,
    "start_time": "2021-12-04T14:22:26.444Z"
   },
   {
    "duration": 6,
    "start_time": "2021-12-04T14:22:26.451Z"
   },
   {
    "duration": 6,
    "start_time": "2021-12-04T14:22:26.458Z"
   },
   {
    "duration": 25,
    "start_time": "2021-12-04T14:22:26.465Z"
   },
   {
    "duration": 7,
    "start_time": "2021-12-04T14:22:26.491Z"
   },
   {
    "duration": 5,
    "start_time": "2021-12-04T14:22:26.500Z"
   },
   {
    "duration": 7,
    "start_time": "2021-12-04T14:22:26.506Z"
   },
   {
    "duration": 4,
    "start_time": "2021-12-04T14:22:26.515Z"
   },
   {
    "duration": 25,
    "start_time": "2021-12-04T14:22:26.521Z"
   },
   {
    "duration": 4,
    "start_time": "2021-12-04T14:22:26.548Z"
   },
   {
    "duration": 4,
    "start_time": "2021-12-04T14:22:26.553Z"
   },
   {
    "duration": 30,
    "start_time": "2021-12-04T14:22:26.560Z"
   },
   {
    "duration": 16,
    "start_time": "2021-12-04T14:22:26.592Z"
   },
   {
    "duration": 7,
    "start_time": "2021-12-04T14:22:26.609Z"
   },
   {
    "duration": 5,
    "start_time": "2021-12-04T14:22:26.617Z"
   },
   {
    "duration": 5,
    "start_time": "2021-12-04T14:22:26.623Z"
   },
   {
    "duration": 6,
    "start_time": "2021-12-04T14:22:26.629Z"
   },
   {
    "duration": 22,
    "start_time": "2021-12-04T14:22:26.637Z"
   },
   {
    "duration": 4,
    "start_time": "2021-12-04T14:22:26.688Z"
   },
   {
    "duration": 21,
    "start_time": "2021-12-04T14:22:26.693Z"
   },
   {
    "duration": 40,
    "start_time": "2021-12-04T14:22:26.715Z"
   },
   {
    "duration": 32,
    "start_time": "2021-12-04T14:22:26.756Z"
   },
   {
    "duration": 9,
    "start_time": "2021-12-04T14:22:26.789Z"
   },
   {
    "duration": 13,
    "start_time": "2021-12-04T14:22:26.800Z"
   },
   {
    "duration": 14,
    "start_time": "2021-12-04T14:22:26.814Z"
   },
   {
    "duration": 3,
    "start_time": "2021-12-04T14:22:26.830Z"
   },
   {
    "duration": 8,
    "start_time": "2021-12-04T14:22:26.834Z"
   },
   {
    "duration": 8,
    "start_time": "2021-12-04T14:22:26.844Z"
   },
   {
    "duration": 44,
    "start_time": "2021-12-04T14:22:26.854Z"
   },
   {
    "duration": 12,
    "start_time": "2021-12-04T14:22:26.900Z"
   },
   {
    "duration": 8,
    "start_time": "2021-12-04T14:22:26.913Z"
   },
   {
    "duration": 16,
    "start_time": "2021-12-04T14:22:26.922Z"
   },
   {
    "duration": 6,
    "start_time": "2021-12-04T14:22:26.939Z"
   },
   {
    "duration": 12,
    "start_time": "2021-12-04T14:22:26.946Z"
   },
   {
    "duration": 3,
    "start_time": "2021-12-04T14:22:26.959Z"
   },
   {
    "duration": 33,
    "start_time": "2021-12-04T14:22:26.964Z"
   },
   {
    "duration": 168,
    "start_time": "2021-12-04T14:22:26.998Z"
   },
   {
    "duration": 9,
    "start_time": "2021-12-04T14:22:27.167Z"
   },
   {
    "duration": 289,
    "start_time": "2021-12-04T14:22:34.016Z"
   },
   {
    "duration": 6,
    "start_time": "2021-12-04T14:22:36.159Z"
   },
   {
    "duration": 7,
    "start_time": "2021-12-04T14:22:36.532Z"
   },
   {
    "duration": 4,
    "start_time": "2021-12-04T14:22:39.746Z"
   },
   {
    "duration": 5,
    "start_time": "2021-12-04T14:23:20.839Z"
   },
   {
    "duration": 4,
    "start_time": "2021-12-04T14:24:27.362Z"
   },
   {
    "duration": 219,
    "start_time": "2021-12-04T14:25:15.371Z"
   },
   {
    "duration": 261,
    "start_time": "2021-12-04T14:27:45.416Z"
   },
   {
    "duration": 2,
    "start_time": "2021-12-04T14:27:52.317Z"
   },
   {
    "duration": 4,
    "start_time": "2021-12-04T14:27:55.974Z"
   },
   {
    "duration": 4,
    "start_time": "2021-12-04T14:28:05.842Z"
   },
   {
    "duration": 7,
    "start_time": "2021-12-04T14:28:24.681Z"
   },
   {
    "duration": 10,
    "start_time": "2021-12-04T14:28:43.865Z"
   },
   {
    "duration": 242,
    "start_time": "2021-12-04T14:28:53.166Z"
   },
   {
    "duration": 4,
    "start_time": "2021-12-04T14:29:14.894Z"
   },
   {
    "duration": 5,
    "start_time": "2021-12-04T14:29:48.891Z"
   },
   {
    "duration": 239,
    "start_time": "2021-12-04T14:30:02.342Z"
   },
   {
    "duration": 4,
    "start_time": "2021-12-04T14:30:06.705Z"
   },
   {
    "duration": 4,
    "start_time": "2021-12-04T14:33:27.422Z"
   },
   {
    "duration": 9,
    "start_time": "2021-12-04T14:33:46.381Z"
   },
   {
    "duration": 5,
    "start_time": "2021-12-04T14:34:10.780Z"
   },
   {
    "duration": 7,
    "start_time": "2021-12-04T14:34:30.455Z"
   },
   {
    "duration": 6,
    "start_time": "2021-12-04T14:34:45.559Z"
   },
   {
    "duration": 5,
    "start_time": "2021-12-04T14:35:06.702Z"
   },
   {
    "duration": 5,
    "start_time": "2021-12-04T14:35:47.095Z"
   },
   {
    "duration": 5,
    "start_time": "2021-12-04T14:36:00.163Z"
   },
   {
    "duration": 5,
    "start_time": "2021-12-04T14:36:05.453Z"
   },
   {
    "duration": 6,
    "start_time": "2021-12-04T14:37:23.909Z"
   },
   {
    "duration": 296,
    "start_time": "2021-12-04T14:37:49.744Z"
   },
   {
    "duration": 194,
    "start_time": "2021-12-04T14:38:02.448Z"
   },
   {
    "duration": 3,
    "start_time": "2021-12-04T14:38:53.376Z"
   },
   {
    "duration": 527,
    "start_time": "2021-12-04T14:39:04.403Z"
   },
   {
    "duration": 481,
    "start_time": "2021-12-04T14:39:50.112Z"
   },
   {
    "duration": 390,
    "start_time": "2021-12-04T14:41:41.535Z"
   },
   {
    "duration": 481,
    "start_time": "2021-12-04T14:41:50.981Z"
   },
   {
    "duration": 582,
    "start_time": "2021-12-04T14:41:59.035Z"
   },
   {
    "duration": 609,
    "start_time": "2021-12-04T14:42:05.757Z"
   },
   {
    "duration": 499,
    "start_time": "2021-12-04T14:42:15.000Z"
   },
   {
    "duration": 467,
    "start_time": "2021-12-04T14:42:46.014Z"
   },
   {
    "duration": 531,
    "start_time": "2021-12-04T14:43:12.935Z"
   },
   {
    "duration": 485,
    "start_time": "2021-12-04T14:43:57.645Z"
   },
   {
    "duration": 164,
    "start_time": "2021-12-04T14:44:38.724Z"
   },
   {
    "duration": 158,
    "start_time": "2021-12-04T14:44:46.416Z"
   },
   {
    "duration": 160,
    "start_time": "2021-12-04T14:44:57.239Z"
   },
   {
    "duration": 8,
    "start_time": "2021-12-04T14:56:29.431Z"
   },
   {
    "duration": 7,
    "start_time": "2021-12-04T15:00:58.289Z"
   },
   {
    "duration": 14,
    "start_time": "2021-12-04T16:02:30.027Z"
   },
   {
    "duration": 4,
    "start_time": "2021-12-04T16:02:45.679Z"
   },
   {
    "duration": 5,
    "start_time": "2021-12-04T16:03:53.890Z"
   },
   {
    "duration": 13,
    "start_time": "2021-12-04T16:03:59.068Z"
   },
   {
    "duration": 3,
    "start_time": "2021-12-04T16:05:44.432Z"
   },
   {
    "duration": 480,
    "start_time": "2021-12-04T16:06:11.583Z"
   },
   {
    "duration": -97,
    "start_time": "2021-12-04T16:09:13.357Z"
   },
   {
    "duration": 7,
    "start_time": "2021-12-04T16:09:16.947Z"
   },
   {
    "duration": 8,
    "start_time": "2021-12-04T16:09:57.742Z"
   },
   {
    "duration": 4,
    "start_time": "2021-12-04T16:14:06.063Z"
   },
   {
    "duration": 4,
    "start_time": "2021-12-04T16:18:48.514Z"
   },
   {
    "duration": 5,
    "start_time": "2021-12-04T16:18:59.491Z"
   },
   {
    "duration": 462,
    "start_time": "2021-12-04T16:27:22.925Z"
   },
   {
    "duration": 924,
    "start_time": "2021-12-04T16:48:27.724Z"
   },
   {
    "duration": 36,
    "start_time": "2021-12-04T16:48:28.649Z"
   },
   {
    "duration": 5,
    "start_time": "2021-12-04T16:48:28.687Z"
   },
   {
    "duration": 141,
    "start_time": "2021-12-04T16:48:28.694Z"
   },
   {
    "duration": 17,
    "start_time": "2021-12-04T16:48:28.837Z"
   },
   {
    "duration": 82,
    "start_time": "2021-12-04T16:48:28.855Z"
   },
   {
    "duration": 13,
    "start_time": "2021-12-04T16:48:28.938Z"
   },
   {
    "duration": 113,
    "start_time": "2021-12-04T16:48:28.953Z"
   },
   {
    "duration": 18,
    "start_time": "2021-12-04T16:48:29.069Z"
   },
   {
    "duration": 15,
    "start_time": "2021-12-04T16:48:29.089Z"
   },
   {
    "duration": 21,
    "start_time": "2021-12-04T16:48:29.105Z"
   },
   {
    "duration": 5,
    "start_time": "2021-12-04T16:48:29.128Z"
   },
   {
    "duration": 88,
    "start_time": "2021-12-04T16:48:29.135Z"
   },
   {
    "duration": 31,
    "start_time": "2021-12-04T16:48:29.224Z"
   },
   {
    "duration": 57,
    "start_time": "2021-12-04T16:48:29.257Z"
   },
   {
    "duration": 6,
    "start_time": "2021-12-04T16:48:29.315Z"
   },
   {
    "duration": 5,
    "start_time": "2021-12-04T16:48:29.322Z"
   },
   {
    "duration": 7,
    "start_time": "2021-12-04T16:48:29.329Z"
   },
   {
    "duration": 5,
    "start_time": "2021-12-04T16:48:29.338Z"
   },
   {
    "duration": 6,
    "start_time": "2021-12-04T16:48:29.344Z"
   },
   {
    "duration": 4,
    "start_time": "2021-12-04T16:48:29.352Z"
   },
   {
    "duration": 33,
    "start_time": "2021-12-04T16:48:29.357Z"
   },
   {
    "duration": 4,
    "start_time": "2021-12-04T16:48:29.391Z"
   },
   {
    "duration": 28,
    "start_time": "2021-12-04T16:48:29.396Z"
   },
   {
    "duration": 3,
    "start_time": "2021-12-04T16:48:29.426Z"
   },
   {
    "duration": 5,
    "start_time": "2021-12-04T16:48:29.431Z"
   },
   {
    "duration": 4,
    "start_time": "2021-12-04T16:48:29.439Z"
   },
   {
    "duration": 43,
    "start_time": "2021-12-04T16:48:29.446Z"
   },
   {
    "duration": 32,
    "start_time": "2021-12-04T16:48:29.491Z"
   },
   {
    "duration": 9,
    "start_time": "2021-12-04T16:48:29.524Z"
   },
   {
    "duration": 8,
    "start_time": "2021-12-04T16:48:29.535Z"
   },
   {
    "duration": 11,
    "start_time": "2021-12-04T16:48:29.544Z"
   },
   {
    "duration": 52,
    "start_time": "2021-12-04T16:48:29.556Z"
   },
   {
    "duration": 11,
    "start_time": "2021-12-04T16:48:29.610Z"
   },
   {
    "duration": 37,
    "start_time": "2021-12-04T16:48:29.623Z"
   },
   {
    "duration": 70,
    "start_time": "2021-12-04T16:48:29.661Z"
   },
   {
    "duration": 24,
    "start_time": "2021-12-04T16:48:29.733Z"
   },
   {
    "duration": 17,
    "start_time": "2021-12-04T16:48:29.758Z"
   },
   {
    "duration": 31,
    "start_time": "2021-12-04T16:48:29.776Z"
   },
   {
    "duration": 26,
    "start_time": "2021-12-04T16:48:29.809Z"
   },
   {
    "duration": 4,
    "start_time": "2021-12-04T16:48:29.836Z"
   },
   {
    "duration": 44,
    "start_time": "2021-12-04T16:48:29.842Z"
   },
   {
    "duration": 9,
    "start_time": "2021-12-04T16:48:29.887Z"
   },
   {
    "duration": 19,
    "start_time": "2021-12-04T16:48:29.897Z"
   },
   {
    "duration": 13,
    "start_time": "2021-12-04T16:48:29.917Z"
   },
   {
    "duration": 9,
    "start_time": "2021-12-04T16:48:29.931Z"
   },
   {
    "duration": 16,
    "start_time": "2021-12-04T16:48:29.942Z"
   },
   {
    "duration": 6,
    "start_time": "2021-12-04T16:48:29.959Z"
   },
   {
    "duration": 28,
    "start_time": "2021-12-04T16:48:29.966Z"
   },
   {
    "duration": 5,
    "start_time": "2021-12-04T16:48:29.995Z"
   },
   {
    "duration": 14,
    "start_time": "2021-12-04T16:48:30.002Z"
   },
   {
    "duration": 175,
    "start_time": "2021-12-04T16:48:30.017Z"
   },
   {
    "duration": 9,
    "start_time": "2021-12-04T16:48:30.194Z"
   },
   {
    "duration": 8,
    "start_time": "2021-12-04T16:48:30.205Z"
   },
   {
    "duration": 499,
    "start_time": "2021-12-04T16:48:30.214Z"
   },
   {
    "duration": 4,
    "start_time": "2021-12-04T16:48:30.715Z"
   },
   {
    "duration": 488,
    "start_time": "2021-12-04T16:48:30.721Z"
   },
   {
    "duration": 13,
    "start_time": "2021-12-04T16:49:35.159Z"
   },
   {
    "duration": 15,
    "start_time": "2021-12-04T16:50:04.566Z"
   },
   {
    "duration": 6,
    "start_time": "2021-12-04T16:50:12.135Z"
   },
   {
    "duration": 7,
    "start_time": "2021-12-04T16:50:24.576Z"
   },
   {
    "duration": 15,
    "start_time": "2021-12-04T16:50:28.647Z"
   },
   {
    "duration": 7,
    "start_time": "2021-12-04T16:50:31.807Z"
   },
   {
    "duration": 7,
    "start_time": "2021-12-04T16:51:09.083Z"
   },
   {
    "duration": 4,
    "start_time": "2021-12-04T16:51:18.372Z"
   },
   {
    "duration": 3,
    "start_time": "2021-12-04T16:51:37.347Z"
   },
   {
    "duration": 3,
    "start_time": "2021-12-04T16:51:44.260Z"
   },
   {
    "duration": 6,
    "start_time": "2021-12-04T16:52:33.895Z"
   },
   {
    "duration": 6,
    "start_time": "2021-12-04T16:52:41.083Z"
   },
   {
    "duration": 3,
    "start_time": "2021-12-04T16:52:42.543Z"
   },
   {
    "duration": 7,
    "start_time": "2021-12-04T16:59:49.607Z"
   },
   {
    "duration": 974,
    "start_time": "2021-12-04T17:00:32.671Z"
   },
   {
    "duration": 38,
    "start_time": "2021-12-04T17:00:33.647Z"
   },
   {
    "duration": 8,
    "start_time": "2021-12-04T17:00:33.687Z"
   },
   {
    "duration": 159,
    "start_time": "2021-12-04T17:00:33.697Z"
   },
   {
    "duration": 18,
    "start_time": "2021-12-04T17:00:33.857Z"
   },
   {
    "duration": 90,
    "start_time": "2021-12-04T17:00:33.876Z"
   },
   {
    "duration": 13,
    "start_time": "2021-12-04T17:00:33.967Z"
   },
   {
    "duration": 125,
    "start_time": "2021-12-04T17:00:33.982Z"
   },
   {
    "duration": 16,
    "start_time": "2021-12-04T17:00:34.110Z"
   },
   {
    "duration": 17,
    "start_time": "2021-12-04T17:00:34.128Z"
   },
   {
    "duration": 24,
    "start_time": "2021-12-04T17:00:34.147Z"
   },
   {
    "duration": 16,
    "start_time": "2021-12-04T17:00:34.173Z"
   },
   {
    "duration": 97,
    "start_time": "2021-12-04T17:00:34.191Z"
   },
   {
    "duration": 34,
    "start_time": "2021-12-04T17:00:34.290Z"
   },
   {
    "duration": 61,
    "start_time": "2021-12-04T17:00:34.326Z"
   },
   {
    "duration": 6,
    "start_time": "2021-12-04T17:00:34.389Z"
   },
   {
    "duration": 13,
    "start_time": "2021-12-04T17:00:34.397Z"
   },
   {
    "duration": 17,
    "start_time": "2021-12-04T17:00:34.412Z"
   },
   {
    "duration": 9,
    "start_time": "2021-12-04T17:00:34.430Z"
   },
   {
    "duration": 31,
    "start_time": "2021-12-04T17:00:34.441Z"
   },
   {
    "duration": 20,
    "start_time": "2021-12-04T17:00:34.474Z"
   },
   {
    "duration": 31,
    "start_time": "2021-12-04T17:00:34.496Z"
   },
   {
    "duration": 20,
    "start_time": "2021-12-04T17:00:34.528Z"
   },
   {
    "duration": 50,
    "start_time": "2021-12-04T17:00:34.550Z"
   },
   {
    "duration": 4,
    "start_time": "2021-12-04T17:00:34.602Z"
   },
   {
    "duration": 27,
    "start_time": "2021-12-04T17:00:34.607Z"
   },
   {
    "duration": 28,
    "start_time": "2021-12-04T17:00:34.639Z"
   },
   {
    "duration": 34,
    "start_time": "2021-12-04T17:00:34.669Z"
   },
   {
    "duration": 9,
    "start_time": "2021-12-04T17:00:34.704Z"
   },
   {
    "duration": 20,
    "start_time": "2021-12-04T17:00:34.715Z"
   },
   {
    "duration": 22,
    "start_time": "2021-12-04T17:00:34.737Z"
   },
   {
    "duration": 29,
    "start_time": "2021-12-04T17:00:34.761Z"
   },
   {
    "duration": 33,
    "start_time": "2021-12-04T17:00:34.791Z"
   },
   {
    "duration": 5,
    "start_time": "2021-12-04T17:00:34.826Z"
   },
   {
    "duration": 38,
    "start_time": "2021-12-04T17:00:34.832Z"
   },
   {
    "duration": 40,
    "start_time": "2021-12-04T17:00:34.872Z"
   },
   {
    "duration": 14,
    "start_time": "2021-12-04T17:00:34.914Z"
   },
   {
    "duration": 16,
    "start_time": "2021-12-04T17:00:34.929Z"
   },
   {
    "duration": 18,
    "start_time": "2021-12-04T17:00:34.946Z"
   },
   {
    "duration": 23,
    "start_time": "2021-12-04T17:00:34.966Z"
   },
   {
    "duration": 4,
    "start_time": "2021-12-04T17:00:34.991Z"
   },
   {
    "duration": 18,
    "start_time": "2021-12-04T17:00:34.997Z"
   },
   {
    "duration": 19,
    "start_time": "2021-12-04T17:00:35.017Z"
   },
   {
    "duration": 19,
    "start_time": "2021-12-04T17:00:35.037Z"
   },
   {
    "duration": 15,
    "start_time": "2021-12-04T17:00:35.057Z"
   },
   {
    "duration": 15,
    "start_time": "2021-12-04T17:00:35.073Z"
   },
   {
    "duration": 22,
    "start_time": "2021-12-04T17:00:35.090Z"
   },
   {
    "duration": 16,
    "start_time": "2021-12-04T17:00:35.114Z"
   },
   {
    "duration": 32,
    "start_time": "2021-12-04T17:00:35.132Z"
   },
   {
    "duration": 7,
    "start_time": "2021-12-04T17:00:35.166Z"
   },
   {
    "duration": 15,
    "start_time": "2021-12-04T17:00:35.175Z"
   },
   {
    "duration": 171,
    "start_time": "2021-12-04T17:00:35.192Z"
   },
   {
    "duration": 10,
    "start_time": "2021-12-04T17:00:35.364Z"
   },
   {
    "duration": 20,
    "start_time": "2021-12-04T17:00:35.375Z"
   },
   {
    "duration": 484,
    "start_time": "2021-12-04T17:00:35.396Z"
   },
   {
    "duration": 10,
    "start_time": "2021-12-04T17:00:35.881Z"
   },
   {
    "duration": 485,
    "start_time": "2021-12-04T17:00:35.892Z"
   },
   {
    "duration": 13,
    "start_time": "2021-12-04T17:00:36.379Z"
   },
   {
    "duration": 13,
    "start_time": "2021-12-04T17:03:50.393Z"
   },
   {
    "duration": 10,
    "start_time": "2021-12-04T17:03:54.106Z"
   },
   {
    "duration": 9,
    "start_time": "2021-12-04T17:04:13.531Z"
   },
   {
    "duration": 13,
    "start_time": "2021-12-04T17:04:16.640Z"
   },
   {
    "duration": 27,
    "start_time": "2021-12-04T17:04:48.508Z"
   },
   {
    "duration": 19,
    "start_time": "2021-12-04T17:05:14.571Z"
   },
   {
    "duration": 310,
    "start_time": "2021-12-04T17:05:26.971Z"
   },
   {
    "duration": 19,
    "start_time": "2021-12-04T17:05:30.957Z"
   },
   {
    "duration": 18,
    "start_time": "2021-12-04T17:05:41.246Z"
   },
   {
    "duration": 11,
    "start_time": "2021-12-04T17:06:04.756Z"
   },
   {
    "duration": 16,
    "start_time": "2021-12-04T17:06:09.549Z"
   },
   {
    "duration": 18,
    "start_time": "2021-12-04T17:06:57.187Z"
   },
   {
    "duration": 10,
    "start_time": "2021-12-04T17:12:31.121Z"
   },
   {
    "duration": 16,
    "start_time": "2021-12-04T17:12:53.383Z"
   },
   {
    "duration": 16,
    "start_time": "2021-12-04T17:13:00.728Z"
   },
   {
    "duration": 17,
    "start_time": "2021-12-04T17:13:05.658Z"
   },
   {
    "duration": 7,
    "start_time": "2021-12-04T17:13:19.448Z"
   },
   {
    "duration": 8,
    "start_time": "2021-12-04T17:29:10.072Z"
   },
   {
    "duration": 8,
    "start_time": "2021-12-04T17:29:23.764Z"
   },
   {
    "duration": 14,
    "start_time": "2021-12-04T18:14:51.791Z"
   },
   {
    "duration": 8,
    "start_time": "2021-12-04T18:14:59.386Z"
   },
   {
    "duration": 7,
    "start_time": "2021-12-04T18:15:58.948Z"
   },
   {
    "duration": 6,
    "start_time": "2021-12-04T18:27:11.541Z"
   },
   {
    "duration": 6,
    "start_time": "2021-12-04T18:27:19.739Z"
   },
   {
    "duration": 8,
    "start_time": "2021-12-04T18:28:57.793Z"
   },
   {
    "duration": 983,
    "start_time": "2021-12-04T18:31:44.070Z"
   },
   {
    "duration": 38,
    "start_time": "2021-12-04T18:31:45.055Z"
   },
   {
    "duration": 6,
    "start_time": "2021-12-04T18:31:45.095Z"
   },
   {
    "duration": 140,
    "start_time": "2021-12-04T18:31:45.102Z"
   },
   {
    "duration": 18,
    "start_time": "2021-12-04T18:31:45.243Z"
   },
   {
    "duration": 78,
    "start_time": "2021-12-04T18:31:45.263Z"
   },
   {
    "duration": 13,
    "start_time": "2021-12-04T18:31:45.343Z"
   },
   {
    "duration": 116,
    "start_time": "2021-12-04T18:31:45.358Z"
   },
   {
    "duration": 19,
    "start_time": "2021-12-04T18:31:45.476Z"
   },
   {
    "duration": 21,
    "start_time": "2021-12-04T18:31:45.497Z"
   },
   {
    "duration": 7,
    "start_time": "2021-12-04T18:31:45.519Z"
   },
   {
    "duration": 79,
    "start_time": "2021-12-04T18:31:45.527Z"
   },
   {
    "duration": 34,
    "start_time": "2021-12-04T18:31:45.608Z"
   },
   {
    "duration": 64,
    "start_time": "2021-12-04T18:31:45.643Z"
   },
   {
    "duration": 5,
    "start_time": "2021-12-04T18:31:45.709Z"
   },
   {
    "duration": 6,
    "start_time": "2021-12-04T18:31:45.716Z"
   },
   {
    "duration": 7,
    "start_time": "2021-12-04T18:31:45.723Z"
   },
   {
    "duration": 5,
    "start_time": "2021-12-04T18:31:45.732Z"
   },
   {
    "duration": 6,
    "start_time": "2021-12-04T18:31:45.738Z"
   },
   {
    "duration": 5,
    "start_time": "2021-12-04T18:31:45.746Z"
   },
   {
    "duration": 37,
    "start_time": "2021-12-04T18:31:45.752Z"
   },
   {
    "duration": 6,
    "start_time": "2021-12-04T18:31:45.790Z"
   },
   {
    "duration": 26,
    "start_time": "2021-12-04T18:31:45.800Z"
   },
   {
    "duration": 4,
    "start_time": "2021-12-04T18:31:45.829Z"
   },
   {
    "duration": 6,
    "start_time": "2021-12-04T18:31:45.835Z"
   },
   {
    "duration": 5,
    "start_time": "2021-12-04T18:31:45.842Z"
   },
   {
    "duration": 45,
    "start_time": "2021-12-04T18:31:45.849Z"
   },
   {
    "duration": 9,
    "start_time": "2021-12-04T18:31:45.895Z"
   },
   {
    "duration": 5,
    "start_time": "2021-12-04T18:31:45.905Z"
   },
   {
    "duration": 6,
    "start_time": "2021-12-04T18:31:45.911Z"
   },
   {
    "duration": 5,
    "start_time": "2021-12-04T18:31:45.918Z"
   },
   {
    "duration": 22,
    "start_time": "2021-12-04T18:31:45.925Z"
   },
   {
    "duration": 41,
    "start_time": "2021-12-04T18:31:45.948Z"
   },
   {
    "duration": 22,
    "start_time": "2021-12-04T18:31:45.990Z"
   },
   {
    "duration": 44,
    "start_time": "2021-12-04T18:31:46.014Z"
   },
   {
    "duration": 33,
    "start_time": "2021-12-04T18:31:46.059Z"
   },
   {
    "duration": 14,
    "start_time": "2021-12-04T18:31:46.094Z"
   },
   {
    "duration": 15,
    "start_time": "2021-12-04T18:31:46.110Z"
   },
   {
    "duration": 5,
    "start_time": "2021-12-04T18:31:46.126Z"
   },
   {
    "duration": 20,
    "start_time": "2021-12-04T18:31:46.132Z"
   },
   {
    "duration": 12,
    "start_time": "2021-12-04T18:31:46.187Z"
   },
   {
    "duration": 16,
    "start_time": "2021-12-04T18:31:46.200Z"
   },
   {
    "duration": 8,
    "start_time": "2021-12-04T18:31:46.217Z"
   },
   {
    "duration": 3,
    "start_time": "2021-12-04T18:31:46.227Z"
   },
   {
    "duration": 13,
    "start_time": "2021-12-04T18:31:46.231Z"
   },
   {
    "duration": 185,
    "start_time": "2021-12-04T18:31:46.245Z"
   },
   {
    "duration": 9,
    "start_time": "2021-12-04T18:31:46.431Z"
   },
   {
    "duration": 6,
    "start_time": "2021-12-04T18:31:46.442Z"
   },
   {
    "duration": 499,
    "start_time": "2021-12-04T18:31:46.450Z"
   },
   {
    "duration": 5,
    "start_time": "2021-12-04T18:31:46.951Z"
   },
   {
    "duration": 483,
    "start_time": "2021-12-04T18:31:46.957Z"
   },
   {
    "duration": 6,
    "start_time": "2021-12-04T18:31:47.442Z"
   },
   {
    "duration": 6,
    "start_time": "2021-12-04T18:31:47.450Z"
   },
   {
    "duration": 7,
    "start_time": "2021-12-04T18:31:47.457Z"
   },
   {
    "duration": 963,
    "start_time": "2021-12-04T18:32:33.878Z"
   },
   {
    "duration": 37,
    "start_time": "2021-12-04T18:32:34.843Z"
   },
   {
    "duration": 5,
    "start_time": "2021-12-04T18:32:34.882Z"
   },
   {
    "duration": 142,
    "start_time": "2021-12-04T18:32:34.889Z"
   },
   {
    "duration": 19,
    "start_time": "2021-12-04T18:32:35.033Z"
   },
   {
    "duration": 107,
    "start_time": "2021-12-04T18:32:35.054Z"
   },
   {
    "duration": 20,
    "start_time": "2021-12-04T18:32:35.163Z"
   },
   {
    "duration": 117,
    "start_time": "2021-12-04T18:32:35.185Z"
   },
   {
    "duration": 15,
    "start_time": "2021-12-04T18:32:35.303Z"
   },
   {
    "duration": 26,
    "start_time": "2021-12-04T18:32:35.320Z"
   },
   {
    "duration": 9,
    "start_time": "2021-12-04T18:32:35.347Z"
   },
   {
    "duration": 75,
    "start_time": "2021-12-04T18:32:35.357Z"
   },
   {
    "duration": 33,
    "start_time": "2021-12-04T18:32:35.434Z"
   },
   {
    "duration": 57,
    "start_time": "2021-12-04T18:32:35.468Z"
   },
   {
    "duration": 5,
    "start_time": "2021-12-04T18:32:35.526Z"
   },
   {
    "duration": 6,
    "start_time": "2021-12-04T18:32:35.533Z"
   },
   {
    "duration": 7,
    "start_time": "2021-12-04T18:32:35.541Z"
   },
   {
    "duration": 6,
    "start_time": "2021-12-04T18:32:35.550Z"
   },
   {
    "duration": 6,
    "start_time": "2021-12-04T18:32:35.558Z"
   },
   {
    "duration": 23,
    "start_time": "2021-12-04T18:32:35.565Z"
   },
   {
    "duration": 8,
    "start_time": "2021-12-04T18:32:35.589Z"
   },
   {
    "duration": 5,
    "start_time": "2021-12-04T18:32:35.598Z"
   },
   {
    "duration": 27,
    "start_time": "2021-12-04T18:32:35.606Z"
   },
   {
    "duration": 3,
    "start_time": "2021-12-04T18:32:35.635Z"
   },
   {
    "duration": 6,
    "start_time": "2021-12-04T18:32:35.639Z"
   },
   {
    "duration": 6,
    "start_time": "2021-12-04T18:32:35.647Z"
   },
   {
    "duration": 47,
    "start_time": "2021-12-04T18:32:35.654Z"
   },
   {
    "duration": 8,
    "start_time": "2021-12-04T18:32:35.702Z"
   },
   {
    "duration": 5,
    "start_time": "2021-12-04T18:32:35.711Z"
   },
   {
    "duration": 6,
    "start_time": "2021-12-04T18:32:35.717Z"
   },
   {
    "duration": 5,
    "start_time": "2021-12-04T18:32:35.724Z"
   },
   {
    "duration": 22,
    "start_time": "2021-12-04T18:32:35.731Z"
   },
   {
    "duration": 4,
    "start_time": "2021-12-04T18:32:35.754Z"
   },
   {
    "duration": 43,
    "start_time": "2021-12-04T18:32:35.759Z"
   },
   {
    "duration": 46,
    "start_time": "2021-12-04T18:32:35.804Z"
   },
   {
    "duration": 16,
    "start_time": "2021-12-04T18:32:35.852Z"
   },
   {
    "duration": 26,
    "start_time": "2021-12-04T18:32:35.870Z"
   },
   {
    "duration": 14,
    "start_time": "2021-12-04T18:32:35.897Z"
   },
   {
    "duration": 3,
    "start_time": "2021-12-04T18:32:35.913Z"
   },
   {
    "duration": 18,
    "start_time": "2021-12-04T18:32:35.917Z"
   },
   {
    "duration": 12,
    "start_time": "2021-12-04T18:32:35.936Z"
   },
   {
    "duration": 16,
    "start_time": "2021-12-04T18:32:35.949Z"
   },
   {
    "duration": 28,
    "start_time": "2021-12-04T18:32:35.966Z"
   },
   {
    "duration": 3,
    "start_time": "2021-12-04T18:32:35.995Z"
   },
   {
    "duration": 13,
    "start_time": "2021-12-04T18:32:36.000Z"
   },
   {
    "duration": 172,
    "start_time": "2021-12-04T18:32:36.015Z"
   },
   {
    "duration": 9,
    "start_time": "2021-12-04T18:32:36.189Z"
   },
   {
    "duration": 7,
    "start_time": "2021-12-04T18:32:36.200Z"
   },
   {
    "duration": 495,
    "start_time": "2021-12-04T18:32:36.208Z"
   },
   {
    "duration": 4,
    "start_time": "2021-12-04T18:32:36.705Z"
   },
   {
    "duration": 504,
    "start_time": "2021-12-04T18:32:36.710Z"
   },
   {
    "duration": 7,
    "start_time": "2021-12-04T18:32:37.216Z"
   },
   {
    "duration": 7,
    "start_time": "2021-12-04T18:32:37.224Z"
   },
   {
    "duration": 7,
    "start_time": "2021-12-04T18:32:37.232Z"
   },
   {
    "duration": 1209,
    "start_time": "2021-12-05T09:04:23.931Z"
   },
   {
    "duration": 38,
    "start_time": "2021-12-05T09:04:25.142Z"
   },
   {
    "duration": 7,
    "start_time": "2021-12-05T09:04:25.182Z"
   },
   {
    "duration": 162,
    "start_time": "2021-12-05T09:04:25.190Z"
   },
   {
    "duration": 21,
    "start_time": "2021-12-05T09:04:25.354Z"
   },
   {
    "duration": 106,
    "start_time": "2021-12-05T09:04:25.377Z"
   },
   {
    "duration": 15,
    "start_time": "2021-12-05T09:04:25.485Z"
   },
   {
    "duration": 153,
    "start_time": "2021-12-05T09:04:25.503Z"
   },
   {
    "duration": 20,
    "start_time": "2021-12-05T09:04:25.658Z"
   },
   {
    "duration": 24,
    "start_time": "2021-12-05T09:04:25.680Z"
   },
   {
    "duration": 8,
    "start_time": "2021-12-05T09:04:25.707Z"
   },
   {
    "duration": 119,
    "start_time": "2021-12-05T09:04:25.717Z"
   },
   {
    "duration": 45,
    "start_time": "2021-12-05T09:04:25.845Z"
   },
   {
    "duration": 75,
    "start_time": "2021-12-05T09:04:25.892Z"
   },
   {
    "duration": 7,
    "start_time": "2021-12-05T09:04:25.969Z"
   },
   {
    "duration": 7,
    "start_time": "2021-12-05T09:04:25.977Z"
   },
   {
    "duration": 7,
    "start_time": "2021-12-05T09:04:25.985Z"
   },
   {
    "duration": 7,
    "start_time": "2021-12-05T09:04:25.994Z"
   },
   {
    "duration": 7,
    "start_time": "2021-12-05T09:04:26.002Z"
   },
   {
    "duration": 34,
    "start_time": "2021-12-05T09:04:26.011Z"
   },
   {
    "duration": 6,
    "start_time": "2021-12-05T09:04:26.047Z"
   },
   {
    "duration": 6,
    "start_time": "2021-12-05T09:04:26.055Z"
   },
   {
    "duration": 27,
    "start_time": "2021-12-05T09:04:26.065Z"
   },
   {
    "duration": 4,
    "start_time": "2021-12-05T09:04:26.094Z"
   },
   {
    "duration": 6,
    "start_time": "2021-12-05T09:04:26.100Z"
   },
   {
    "duration": 38,
    "start_time": "2021-12-05T09:04:26.108Z"
   },
   {
    "duration": 20,
    "start_time": "2021-12-05T09:04:26.147Z"
   },
   {
    "duration": 11,
    "start_time": "2021-12-05T09:04:26.168Z"
   },
   {
    "duration": 5,
    "start_time": "2021-12-05T09:04:26.181Z"
   },
   {
    "duration": 7,
    "start_time": "2021-12-05T09:04:26.187Z"
   },
   {
    "duration": 5,
    "start_time": "2021-12-05T09:04:26.196Z"
   },
   {
    "duration": 65,
    "start_time": "2021-12-05T09:04:26.203Z"
   },
   {
    "duration": 6,
    "start_time": "2021-12-05T09:04:26.269Z"
   },
   {
    "duration": 25,
    "start_time": "2021-12-05T09:04:26.277Z"
   },
   {
    "duration": 78,
    "start_time": "2021-12-05T09:04:26.303Z"
   },
   {
    "duration": 18,
    "start_time": "2021-12-05T09:04:26.382Z"
   },
   {
    "duration": 16,
    "start_time": "2021-12-05T09:04:26.402Z"
   },
   {
    "duration": 29,
    "start_time": "2021-12-05T09:04:26.419Z"
   },
   {
    "duration": 4,
    "start_time": "2021-12-05T09:04:26.450Z"
   },
   {
    "duration": 24,
    "start_time": "2021-12-05T09:04:26.456Z"
   },
   {
    "duration": 13,
    "start_time": "2021-12-05T09:04:26.482Z"
   },
   {
    "duration": 18,
    "start_time": "2021-12-05T09:04:26.497Z"
   },
   {
    "duration": 30,
    "start_time": "2021-12-05T09:04:26.517Z"
   },
   {
    "duration": 3,
    "start_time": "2021-12-05T09:04:26.549Z"
   },
   {
    "duration": 14,
    "start_time": "2021-12-05T09:04:26.554Z"
   },
   {
    "duration": 203,
    "start_time": "2021-12-05T09:04:26.570Z"
   },
   {
    "duration": 11,
    "start_time": "2021-12-05T09:04:26.775Z"
   },
   {
    "duration": 6,
    "start_time": "2021-12-05T09:04:26.788Z"
   },
   {
    "duration": 583,
    "start_time": "2021-12-05T09:04:26.795Z"
   },
   {
    "duration": 5,
    "start_time": "2021-12-05T09:04:27.380Z"
   },
   {
    "duration": 580,
    "start_time": "2021-12-05T09:04:27.387Z"
   },
   {
    "duration": 9,
    "start_time": "2021-12-05T09:04:27.968Z"
   },
   {
    "duration": 10,
    "start_time": "2021-12-05T09:04:27.979Z"
   },
   {
    "duration": 8,
    "start_time": "2021-12-05T09:04:27.991Z"
   },
   {
    "duration": 17,
    "start_time": "2021-12-05T09:21:25.579Z"
   },
   {
    "duration": 1515,
    "start_time": "2021-12-05T13:10:14.048Z"
   },
   {
    "duration": 54,
    "start_time": "2021-12-05T13:10:15.566Z"
   },
   {
    "duration": 13,
    "start_time": "2021-12-05T13:10:15.623Z"
   },
   {
    "duration": 222,
    "start_time": "2021-12-05T13:10:15.642Z"
   },
   {
    "duration": 37,
    "start_time": "2021-12-05T13:10:15.866Z"
   },
   {
    "duration": 126,
    "start_time": "2021-12-05T13:10:15.905Z"
   },
   {
    "duration": 19,
    "start_time": "2021-12-05T13:10:16.034Z"
   },
   {
    "duration": 200,
    "start_time": "2021-12-05T13:10:16.057Z"
   },
   {
    "duration": 31,
    "start_time": "2021-12-05T13:10:16.260Z"
   },
   {
    "duration": 25,
    "start_time": "2021-12-05T13:10:16.293Z"
   },
   {
    "duration": 8,
    "start_time": "2021-12-05T13:10:16.321Z"
   },
   {
    "duration": 151,
    "start_time": "2021-12-05T13:10:16.332Z"
   },
   {
    "duration": 58,
    "start_time": "2021-12-05T13:10:16.486Z"
   },
   {
    "duration": 138,
    "start_time": "2021-12-05T13:10:16.547Z"
   },
   {
    "duration": 8,
    "start_time": "2021-12-05T13:10:16.687Z"
   },
   {
    "duration": 11,
    "start_time": "2021-12-05T13:10:16.697Z"
   },
   {
    "duration": 16,
    "start_time": "2021-12-05T13:10:16.710Z"
   },
   {
    "duration": 7,
    "start_time": "2021-12-05T13:10:16.729Z"
   },
   {
    "duration": 46,
    "start_time": "2021-12-05T13:10:16.738Z"
   },
   {
    "duration": 9,
    "start_time": "2021-12-05T13:10:16.787Z"
   },
   {
    "duration": 10,
    "start_time": "2021-12-05T13:10:16.799Z"
   },
   {
    "duration": 9,
    "start_time": "2021-12-05T13:10:16.812Z"
   },
   {
    "duration": 94,
    "start_time": "2021-12-05T13:10:16.827Z"
   },
   {
    "duration": 5,
    "start_time": "2021-12-05T13:10:16.923Z"
   },
   {
    "duration": 10,
    "start_time": "2021-12-05T13:10:16.930Z"
   },
   {
    "duration": 9,
    "start_time": "2021-12-05T13:10:16.942Z"
   },
   {
    "duration": 47,
    "start_time": "2021-12-05T13:10:16.953Z"
   },
   {
    "duration": 12,
    "start_time": "2021-12-05T13:10:17.002Z"
   },
   {
    "duration": 5,
    "start_time": "2021-12-05T13:10:17.017Z"
   },
   {
    "duration": 7,
    "start_time": "2021-12-05T13:10:17.024Z"
   },
   {
    "duration": 49,
    "start_time": "2021-12-05T13:10:17.034Z"
   },
   {
    "duration": 32,
    "start_time": "2021-12-05T13:10:17.086Z"
   },
   {
    "duration": 3,
    "start_time": "2021-12-05T13:10:36.637Z"
   },
   {
    "duration": 32,
    "start_time": "2021-12-05T13:11:07.023Z"
   },
   {
    "duration": 66,
    "start_time": "2021-12-05T13:11:15.853Z"
   },
   {
    "duration": 31,
    "start_time": "2021-12-05T13:11:29.219Z"
   },
   {
    "duration": 27,
    "start_time": "2021-12-05T13:11:31.972Z"
   },
   {
    "duration": 27,
    "start_time": "2021-12-05T13:11:32.692Z"
   },
   {
    "duration": 6,
    "start_time": "2021-12-05T13:11:35.382Z"
   },
   {
    "duration": 25,
    "start_time": "2021-12-05T13:11:56.788Z"
   },
   {
    "duration": 20,
    "start_time": "2021-12-05T13:12:02.967Z"
   },
   {
    "duration": 19,
    "start_time": "2021-12-05T13:12:15.075Z"
   },
   {
    "duration": 17,
    "start_time": "2021-12-05T13:14:44.279Z"
   },
   {
    "duration": 27,
    "start_time": "2021-12-05T13:15:00.312Z"
   },
   {
    "duration": 7,
    "start_time": "2021-12-05T13:15:16.147Z"
   },
   {
    "duration": 7,
    "start_time": "2021-12-05T13:16:36.638Z"
   },
   {
    "duration": 11,
    "start_time": "2021-12-05T13:16:43.975Z"
   },
   {
    "duration": 7444,
    "start_time": "2021-12-05T13:16:52.569Z"
   },
   {
    "duration": 8018,
    "start_time": "2021-12-05T13:35:00.661Z"
   },
   {
    "duration": 8,
    "start_time": "2021-12-05T13:35:15.694Z"
   },
   {
    "duration": 9,
    "start_time": "2021-12-05T13:35:51.528Z"
   },
   {
    "duration": 7,
    "start_time": "2021-12-05T13:36:34.714Z"
   },
   {
    "duration": 7,
    "start_time": "2021-12-05T13:37:23.721Z"
   },
   {
    "duration": 7,
    "start_time": "2021-12-05T13:37:30.601Z"
   },
   {
    "duration": 5,
    "start_time": "2021-12-05T13:39:55.815Z"
   },
   {
    "duration": 7,
    "start_time": "2021-12-05T13:39:58.266Z"
   },
   {
    "duration": 19,
    "start_time": "2021-12-05T13:46:36.143Z"
   },
   {
    "duration": 296,
    "start_time": "2021-12-05T13:46:55.558Z"
   },
   {
    "duration": 26,
    "start_time": "2021-12-05T13:47:01.872Z"
   },
   {
    "duration": 20,
    "start_time": "2021-12-05T13:47:10.067Z"
   },
   {
    "duration": 24,
    "start_time": "2021-12-05T13:47:20.496Z"
   },
   {
    "duration": 19,
    "start_time": "2021-12-05T13:47:40.677Z"
   },
   {
    "duration": 26,
    "start_time": "2021-12-05T13:47:46.969Z"
   },
   {
    "duration": 34,
    "start_time": "2021-12-05T13:48:02.859Z"
   },
   {
    "duration": 22,
    "start_time": "2021-12-05T13:48:22.006Z"
   },
   {
    "duration": 26,
    "start_time": "2021-12-05T13:48:29.290Z"
   },
   {
    "duration": 21,
    "start_time": "2021-12-05T13:48:49.683Z"
   },
   {
    "duration": 20,
    "start_time": "2021-12-05T13:49:15.049Z"
   },
   {
    "duration": 23,
    "start_time": "2021-12-05T14:00:44.732Z"
   },
   {
    "duration": 29,
    "start_time": "2021-12-05T14:00:58.798Z"
   },
   {
    "duration": 320,
    "start_time": "2021-12-05T14:08:36.086Z"
   },
   {
    "duration": 7,
    "start_time": "2021-12-05T14:08:40.438Z"
   },
   {
    "duration": 7,
    "start_time": "2021-12-05T14:08:58.790Z"
   },
   {
    "duration": 25,
    "start_time": "2021-12-05T14:09:48.859Z"
   },
   {
    "duration": 7,
    "start_time": "2021-12-05T14:10:04.814Z"
   },
   {
    "duration": 7,
    "start_time": "2021-12-05T14:10:25.837Z"
   },
   {
    "duration": 23,
    "start_time": "2021-12-05T14:10:32.220Z"
   },
   {
    "duration": 7,
    "start_time": "2021-12-05T14:10:33.189Z"
   },
   {
    "duration": 8,
    "start_time": "2021-12-05T14:10:57.296Z"
   },
   {
    "duration": 9,
    "start_time": "2021-12-05T14:11:00.653Z"
   },
   {
    "duration": 11,
    "start_time": "2021-12-05T14:11:04.704Z"
   },
   {
    "duration": 43,
    "start_time": "2021-12-05T14:12:00.398Z"
   },
   {
    "duration": 7,
    "start_time": "2021-12-05T14:12:21.366Z"
   },
   {
    "duration": 1401,
    "start_time": "2021-12-05T14:21:09.231Z"
   },
   {
    "duration": 43,
    "start_time": "2021-12-05T14:21:10.635Z"
   },
   {
    "duration": 9,
    "start_time": "2021-12-05T14:21:10.681Z"
   },
   {
    "duration": 214,
    "start_time": "2021-12-05T14:21:10.694Z"
   },
   {
    "duration": 28,
    "start_time": "2021-12-05T14:21:10.910Z"
   },
   {
    "duration": 133,
    "start_time": "2021-12-05T14:21:10.940Z"
   },
   {
    "duration": 26,
    "start_time": "2021-12-05T14:21:11.076Z"
   },
   {
    "duration": 193,
    "start_time": "2021-12-05T14:21:11.104Z"
   },
   {
    "duration": 23,
    "start_time": "2021-12-05T14:21:11.302Z"
   },
   {
    "duration": 26,
    "start_time": "2021-12-05T14:21:11.328Z"
   },
   {
    "duration": 26,
    "start_time": "2021-12-05T14:21:11.357Z"
   },
   {
    "duration": 140,
    "start_time": "2021-12-05T14:21:11.386Z"
   },
   {
    "duration": 75,
    "start_time": "2021-12-05T14:21:11.530Z"
   },
   {
    "duration": 109,
    "start_time": "2021-12-05T14:21:11.607Z"
   },
   {
    "duration": 9,
    "start_time": "2021-12-05T14:21:11.718Z"
   },
   {
    "duration": 10,
    "start_time": "2021-12-05T14:21:11.729Z"
   },
   {
    "duration": 9,
    "start_time": "2021-12-05T14:21:11.741Z"
   },
   {
    "duration": 35,
    "start_time": "2021-12-05T14:21:11.753Z"
   },
   {
    "duration": 14,
    "start_time": "2021-12-05T14:21:11.790Z"
   },
   {
    "duration": 9,
    "start_time": "2021-12-05T14:21:11.807Z"
   },
   {
    "duration": 9,
    "start_time": "2021-12-05T14:21:11.819Z"
   },
   {
    "duration": 9,
    "start_time": "2021-12-05T14:21:11.831Z"
   },
   {
    "duration": 75,
    "start_time": "2021-12-05T14:21:11.842Z"
   },
   {
    "duration": 6,
    "start_time": "2021-12-05T14:21:11.919Z"
   },
   {
    "duration": 8,
    "start_time": "2021-12-05T14:21:11.927Z"
   },
   {
    "duration": 9,
    "start_time": "2021-12-05T14:21:11.938Z"
   },
   {
    "duration": 25,
    "start_time": "2021-12-05T14:21:11.985Z"
   },
   {
    "duration": 12,
    "start_time": "2021-12-05T14:21:12.013Z"
   },
   {
    "duration": 7,
    "start_time": "2021-12-05T14:21:12.028Z"
   },
   {
    "duration": 8,
    "start_time": "2021-12-05T14:21:12.037Z"
   },
   {
    "duration": 39,
    "start_time": "2021-12-05T14:21:12.047Z"
   },
   {
    "duration": 35,
    "start_time": "2021-12-05T14:21:12.089Z"
   },
   {
    "duration": 8,
    "start_time": "2021-12-05T14:21:12.126Z"
   },
   {
    "duration": 61,
    "start_time": "2021-12-05T14:21:12.137Z"
   },
   {
    "duration": 33,
    "start_time": "2021-12-05T14:21:12.201Z"
   },
   {
    "duration": 90,
    "start_time": "2021-12-05T14:21:12.236Z"
   },
   {
    "duration": 25,
    "start_time": "2021-12-05T14:21:12.328Z"
   },
   {
    "duration": 37,
    "start_time": "2021-12-05T14:21:12.355Z"
   },
   {
    "duration": 21,
    "start_time": "2021-12-05T14:21:12.394Z"
   },
   {
    "duration": 5,
    "start_time": "2021-12-05T14:21:12.418Z"
   },
   {
    "duration": 25,
    "start_time": "2021-12-05T14:21:12.425Z"
   },
   {
    "duration": 45,
    "start_time": "2021-12-05T14:21:12.452Z"
   },
   {
    "duration": 28,
    "start_time": "2021-12-05T14:21:12.499Z"
   },
   {
    "duration": 11,
    "start_time": "2021-12-05T14:21:12.530Z"
   },
   {
    "duration": 4,
    "start_time": "2021-12-05T14:21:12.544Z"
   },
   {
    "duration": 6,
    "start_time": "2021-12-05T14:21:12.583Z"
   },
   {
    "duration": 20,
    "start_time": "2021-12-05T14:21:12.592Z"
   },
   {
    "duration": 340,
    "start_time": "2021-12-05T14:21:12.615Z"
   },
   {
    "duration": 32,
    "start_time": "2021-12-05T14:21:12.957Z"
   },
   {
    "duration": 14,
    "start_time": "2021-12-05T14:21:12.991Z"
   },
   {
    "duration": 10,
    "start_time": "2021-12-05T14:21:13.007Z"
   },
   {
    "duration": 923,
    "start_time": "2021-12-05T14:21:13.019Z"
   },
   {
    "duration": 7,
    "start_time": "2021-12-05T14:21:13.945Z"
   },
   {
    "duration": 903,
    "start_time": "2021-12-05T14:21:13.955Z"
   },
   {
    "duration": 7,
    "start_time": "2021-12-05T14:22:21.502Z"
   },
   {
    "duration": 1369,
    "start_time": "2021-12-05T14:37:15.786Z"
   },
   {
    "duration": 42,
    "start_time": "2021-12-05T14:37:17.161Z"
   },
   {
    "duration": 9,
    "start_time": "2021-12-05T14:37:17.206Z"
   },
   {
    "duration": 245,
    "start_time": "2021-12-05T14:37:17.217Z"
   },
   {
    "duration": 45,
    "start_time": "2021-12-05T14:37:17.465Z"
   },
   {
    "duration": 160,
    "start_time": "2021-12-05T14:37:17.512Z"
   },
   {
    "duration": 30,
    "start_time": "2021-12-05T14:37:17.683Z"
   },
   {
    "duration": 198,
    "start_time": "2021-12-05T14:37:17.719Z"
   },
   {
    "duration": 22,
    "start_time": "2021-12-05T14:37:17.920Z"
   },
   {
    "duration": 38,
    "start_time": "2021-12-05T14:37:17.945Z"
   },
   {
    "duration": 11,
    "start_time": "2021-12-05T14:37:17.985Z"
   },
   {
    "duration": 148,
    "start_time": "2021-12-05T14:37:17.999Z"
   },
   {
    "duration": 64,
    "start_time": "2021-12-05T14:37:18.150Z"
   },
   {
    "duration": 118,
    "start_time": "2021-12-05T14:37:18.216Z"
   },
   {
    "duration": 9,
    "start_time": "2021-12-05T14:37:18.337Z"
   },
   {
    "duration": 16,
    "start_time": "2021-12-05T14:37:18.349Z"
   },
   {
    "duration": 9,
    "start_time": "2021-12-05T14:37:18.382Z"
   },
   {
    "duration": 9,
    "start_time": "2021-12-05T14:37:18.394Z"
   },
   {
    "duration": 12,
    "start_time": "2021-12-05T14:37:18.406Z"
   },
   {
    "duration": 14,
    "start_time": "2021-12-05T14:37:18.420Z"
   },
   {
    "duration": 47,
    "start_time": "2021-12-05T14:37:18.436Z"
   },
   {
    "duration": 7,
    "start_time": "2021-12-05T14:37:18.486Z"
   },
   {
    "duration": 42,
    "start_time": "2021-12-05T14:37:18.495Z"
   },
   {
    "duration": 5,
    "start_time": "2021-12-05T14:37:18.539Z"
   },
   {
    "duration": 37,
    "start_time": "2021-12-05T14:37:18.547Z"
   },
   {
    "duration": 8,
    "start_time": "2021-12-05T14:37:18.592Z"
   },
   {
    "duration": 27,
    "start_time": "2021-12-05T14:37:18.603Z"
   },
   {
    "duration": 11,
    "start_time": "2021-12-05T14:37:18.633Z"
   },
   {
    "duration": 4,
    "start_time": "2021-12-05T14:37:18.682Z"
   },
   {
    "duration": 17,
    "start_time": "2021-12-05T14:37:18.689Z"
   },
   {
    "duration": 11,
    "start_time": "2021-12-05T14:37:18.709Z"
   },
   {
    "duration": 38,
    "start_time": "2021-12-05T14:37:18.723Z"
   },
   {
    "duration": 42,
    "start_time": "2021-12-05T14:37:18.763Z"
   },
   {
    "duration": 32,
    "start_time": "2021-12-05T14:37:18.808Z"
   },
   {
    "duration": 95,
    "start_time": "2021-12-05T14:37:18.843Z"
   },
   {
    "duration": 22,
    "start_time": "2021-12-05T14:37:18.941Z"
   },
   {
    "duration": 29,
    "start_time": "2021-12-05T14:37:18.965Z"
   },
   {
    "duration": 20,
    "start_time": "2021-12-05T14:37:18.996Z"
   },
   {
    "duration": 5,
    "start_time": "2021-12-05T14:37:19.019Z"
   },
   {
    "duration": 29,
    "start_time": "2021-12-05T14:37:19.026Z"
   },
   {
    "duration": 38,
    "start_time": "2021-12-05T14:37:19.057Z"
   },
   {
    "duration": 27,
    "start_time": "2021-12-05T14:37:19.097Z"
   },
   {
    "duration": 12,
    "start_time": "2021-12-05T14:37:19.127Z"
   },
   {
    "duration": 6,
    "start_time": "2021-12-05T14:37:19.141Z"
   },
   {
    "duration": 34,
    "start_time": "2021-12-05T14:37:19.149Z"
   },
   {
    "duration": 21,
    "start_time": "2021-12-05T14:37:19.185Z"
   },
   {
    "duration": 342,
    "start_time": "2021-12-05T14:37:19.209Z"
   },
   {
    "duration": 32,
    "start_time": "2021-12-05T14:37:19.553Z"
   },
   {
    "duration": 20,
    "start_time": "2021-12-05T14:37:19.587Z"
   },
   {
    "duration": 12,
    "start_time": "2021-12-05T14:37:19.609Z"
   },
   {
    "duration": 922,
    "start_time": "2021-12-05T14:37:19.624Z"
   },
   {
    "duration": 7,
    "start_time": "2021-12-05T14:37:20.548Z"
   },
   {
    "duration": 947,
    "start_time": "2021-12-05T14:37:20.557Z"
   },
   {
    "duration": 12,
    "start_time": "2021-12-05T14:37:21.506Z"
   },
   {
    "duration": 11,
    "start_time": "2021-12-05T14:37:21.520Z"
   },
   {
    "duration": 24,
    "start_time": "2021-12-05T14:37:21.533Z"
   },
   {
    "duration": 467,
    "start_time": "2021-12-05T14:59:21.567Z"
   },
   {
    "duration": 26,
    "start_time": "2021-12-05T14:59:33.772Z"
   },
   {
    "duration": 22,
    "start_time": "2021-12-05T14:59:52.085Z"
   },
   {
    "duration": 7,
    "start_time": "2021-12-05T15:03:39.151Z"
   },
   {
    "duration": 9,
    "start_time": "2021-12-05T15:05:05.644Z"
   },
   {
    "duration": 8,
    "start_time": "2021-12-05T15:05:25.004Z"
   },
   {
    "duration": 311,
    "start_time": "2021-12-05T15:07:55.073Z"
   },
   {
    "duration": 103,
    "start_time": "2021-12-05T15:08:18.416Z"
   },
   {
    "duration": 100,
    "start_time": "2021-12-05T15:08:36.410Z"
   },
   {
    "duration": 544,
    "start_time": "2021-12-05T15:09:21.042Z"
   },
   {
    "duration": 100,
    "start_time": "2021-12-05T15:09:26.425Z"
   },
   {
    "duration": 106,
    "start_time": "2021-12-05T15:09:35.587Z"
   },
   {
    "duration": 96,
    "start_time": "2021-12-05T15:09:43.138Z"
   },
   {
    "duration": 105,
    "start_time": "2021-12-05T15:10:13.458Z"
   },
   {
    "duration": 105,
    "start_time": "2021-12-05T15:10:37.025Z"
   },
   {
    "duration": 144,
    "start_time": "2021-12-05T15:10:43.813Z"
   },
   {
    "duration": 224,
    "start_time": "2021-12-05T15:11:37.499Z"
   },
   {
    "duration": 415,
    "start_time": "2021-12-05T15:11:46.070Z"
   },
   {
    "duration": 133,
    "start_time": "2021-12-05T15:11:53.732Z"
   },
   {
    "duration": 292,
    "start_time": "2021-12-05T15:11:58.165Z"
   },
   {
    "duration": 139,
    "start_time": "2021-12-05T15:12:02.628Z"
   },
   {
    "duration": 174,
    "start_time": "2021-12-05T15:12:08.504Z"
   },
   {
    "duration": 199,
    "start_time": "2021-12-05T15:12:13.026Z"
   },
   {
    "duration": 158,
    "start_time": "2021-12-05T15:12:41.141Z"
   },
   {
    "duration": 161,
    "start_time": "2021-12-05T15:12:48.292Z"
   },
   {
    "duration": 201,
    "start_time": "2021-12-05T15:14:17.439Z"
   },
   {
    "duration": 178,
    "start_time": "2021-12-05T15:17:54.007Z"
   },
   {
    "duration": 633,
    "start_time": "2021-12-05T15:19:10.567Z"
   },
   {
    "duration": 283,
    "start_time": "2021-12-05T15:19:16.582Z"
   },
   {
    "duration": 116,
    "start_time": "2021-12-05T15:19:24.185Z"
   },
   {
    "duration": 853,
    "start_time": "2021-12-05T15:19:30.094Z"
   },
   {
    "duration": 174,
    "start_time": "2021-12-05T15:20:15.936Z"
   },
   {
    "duration": 292,
    "start_time": "2021-12-05T15:21:42.173Z"
   },
   {
    "duration": 185,
    "start_time": "2021-12-05T15:22:01.348Z"
   },
   {
    "duration": 190,
    "start_time": "2021-12-05T15:22:16.619Z"
   },
   {
    "duration": 172,
    "start_time": "2021-12-05T15:27:50.610Z"
   },
   {
    "duration": 179,
    "start_time": "2021-12-05T15:28:07.520Z"
   },
   {
    "duration": 10,
    "start_time": "2021-12-05T15:29:45.552Z"
   },
   {
    "duration": 87,
    "start_time": "2021-12-05T15:31:11.575Z"
   },
   {
    "duration": 7,
    "start_time": "2021-12-05T15:31:36.062Z"
   },
   {
    "duration": 192,
    "start_time": "2021-12-05T15:31:39.756Z"
   },
   {
    "duration": 197,
    "start_time": "2021-12-05T15:32:05.491Z"
   },
   {
    "duration": 173,
    "start_time": "2021-12-05T15:32:18.623Z"
   },
   {
    "duration": 178,
    "start_time": "2021-12-05T15:32:29.693Z"
   },
   {
    "duration": 176,
    "start_time": "2021-12-05T15:32:36.029Z"
   },
   {
    "duration": 215,
    "start_time": "2021-12-05T15:33:15.702Z"
   },
   {
    "duration": 326,
    "start_time": "2021-12-05T15:34:53.913Z"
   },
   {
    "duration": 15,
    "start_time": "2021-12-05T15:44:22.489Z"
   },
   {
    "duration": 23,
    "start_time": "2021-12-05T15:50:31.904Z"
   },
   {
    "duration": 33,
    "start_time": "2021-12-05T15:51:00.503Z"
   },
   {
    "duration": 12,
    "start_time": "2021-12-05T15:51:31.955Z"
   },
   {
    "duration": 9,
    "start_time": "2021-12-05T15:51:36.869Z"
   },
   {
    "duration": 23,
    "start_time": "2021-12-05T15:57:22.402Z"
   },
   {
    "duration": 7,
    "start_time": "2021-12-05T15:57:31.943Z"
   },
   {
    "duration": 8,
    "start_time": "2021-12-05T15:57:47.015Z"
   },
   {
    "duration": 28,
    "start_time": "2021-12-05T15:58:32.430Z"
   },
   {
    "duration": 6,
    "start_time": "2021-12-05T16:00:56.533Z"
   },
   {
    "duration": 978,
    "start_time": "2021-12-05T16:19:57.909Z"
   },
   {
    "duration": 1029,
    "start_time": "2021-12-05T16:20:10.664Z"
   },
   {
    "duration": 890,
    "start_time": "2021-12-05T16:20:19.126Z"
   },
   {
    "duration": 1029,
    "start_time": "2021-12-05T16:20:26.332Z"
   },
   {
    "duration": 1209,
    "start_time": "2021-12-05T16:20:33.473Z"
   },
   {
    "duration": 1211,
    "start_time": "2021-12-05T16:21:20.025Z"
   },
   {
    "duration": 925,
    "start_time": "2021-12-05T16:22:45.949Z"
   },
   {
    "duration": 1358,
    "start_time": "2021-12-05T16:23:28.492Z"
   },
   {
    "duration": 1326,
    "start_time": "2021-12-05T16:23:43.331Z"
   },
   {
    "duration": 1274,
    "start_time": "2021-12-05T16:23:48.891Z"
   },
   {
    "duration": 1210,
    "start_time": "2021-12-05T16:24:46.409Z"
   },
   {
    "duration": 782,
    "start_time": "2021-12-05T16:26:01.632Z"
   },
   {
    "duration": 1222,
    "start_time": "2021-12-05T16:27:31.477Z"
   },
   {
    "duration": 1266,
    "start_time": "2021-12-05T16:28:27.664Z"
   },
   {
    "duration": 1185,
    "start_time": "2021-12-05T16:28:47.474Z"
   },
   {
    "duration": 1095,
    "start_time": "2021-12-05T16:29:10.145Z"
   },
   {
    "duration": 1179,
    "start_time": "2021-12-05T16:29:19.512Z"
   },
   {
    "duration": 1262,
    "start_time": "2021-12-05T16:29:36.576Z"
   },
   {
    "duration": 1485,
    "start_time": "2021-12-05T16:29:41.574Z"
   },
   {
    "duration": 1206,
    "start_time": "2021-12-05T16:30:51.203Z"
   },
   {
    "duration": 1108,
    "start_time": "2021-12-05T16:31:02.545Z"
   },
   {
    "duration": 1584,
    "start_time": "2021-12-05T16:31:24.755Z"
   },
   {
    "duration": 1231,
    "start_time": "2021-12-05T16:31:30.805Z"
   },
   {
    "duration": 1233,
    "start_time": "2021-12-05T16:31:34.777Z"
   },
   {
    "duration": 1232,
    "start_time": "2021-12-05T16:31:38.640Z"
   },
   {
    "duration": 1502,
    "start_time": "2021-12-05T16:31:57.291Z"
   },
   {
    "duration": 1458,
    "start_time": "2021-12-05T16:32:02.866Z"
   },
   {
    "duration": 1055,
    "start_time": "2021-12-05T16:32:16.234Z"
   },
   {
    "duration": 1094,
    "start_time": "2021-12-05T16:32:26.235Z"
   },
   {
    "duration": 1439,
    "start_time": "2021-12-05T16:33:30.907Z"
   },
   {
    "duration": 1393,
    "start_time": "2021-12-05T16:33:40.692Z"
   },
   {
    "duration": 773,
    "start_time": "2021-12-05T16:34:10.766Z"
   },
   {
    "duration": 1528,
    "start_time": "2021-12-05T16:34:16.991Z"
   },
   {
    "duration": 1185,
    "start_time": "2021-12-05T16:36:39.250Z"
   },
   {
    "duration": 1337,
    "start_time": "2021-12-05T16:37:09.323Z"
   },
   {
    "duration": 1494,
    "start_time": "2021-12-05T16:37:37.048Z"
   },
   {
    "duration": 47,
    "start_time": "2021-12-05T16:37:38.545Z"
   },
   {
    "duration": 10,
    "start_time": "2021-12-05T16:37:38.597Z"
   },
   {
    "duration": 341,
    "start_time": "2021-12-05T16:37:38.611Z"
   },
   {
    "duration": 59,
    "start_time": "2021-12-05T16:37:38.955Z"
   },
   {
    "duration": 133,
    "start_time": "2021-12-05T16:37:39.017Z"
   },
   {
    "duration": 33,
    "start_time": "2021-12-05T16:37:39.153Z"
   },
   {
    "duration": 189,
    "start_time": "2021-12-05T16:37:39.190Z"
   },
   {
    "duration": 26,
    "start_time": "2021-12-05T16:37:39.383Z"
   },
   {
    "duration": 29,
    "start_time": "2021-12-05T16:37:39.412Z"
   },
   {
    "duration": 39,
    "start_time": "2021-12-05T16:37:39.443Z"
   },
   {
    "duration": 144,
    "start_time": "2021-12-05T16:37:39.485Z"
   },
   {
    "duration": 84,
    "start_time": "2021-12-05T16:37:39.632Z"
   },
   {
    "duration": 126,
    "start_time": "2021-12-05T16:37:39.719Z"
   },
   {
    "duration": 11,
    "start_time": "2021-12-05T16:37:39.848Z"
   },
   {
    "duration": 25,
    "start_time": "2021-12-05T16:37:39.862Z"
   },
   {
    "duration": 12,
    "start_time": "2021-12-05T16:37:39.889Z"
   },
   {
    "duration": 14,
    "start_time": "2021-12-05T16:37:39.904Z"
   },
   {
    "duration": 10,
    "start_time": "2021-12-05T16:37:39.921Z"
   },
   {
    "duration": 11,
    "start_time": "2021-12-05T16:37:39.934Z"
   },
   {
    "duration": 17,
    "start_time": "2021-12-05T16:37:39.982Z"
   },
   {
    "duration": 13,
    "start_time": "2021-12-05T16:37:40.001Z"
   },
   {
    "duration": 61,
    "start_time": "2021-12-05T16:37:40.021Z"
   },
   {
    "duration": 5,
    "start_time": "2021-12-05T16:37:40.086Z"
   },
   {
    "duration": 9,
    "start_time": "2021-12-05T16:37:40.094Z"
   },
   {
    "duration": 18,
    "start_time": "2021-12-05T16:37:40.106Z"
   },
   {
    "duration": 67,
    "start_time": "2021-12-05T16:37:40.127Z"
   },
   {
    "duration": 13,
    "start_time": "2021-12-05T16:37:40.197Z"
   },
   {
    "duration": 6,
    "start_time": "2021-12-05T16:37:40.213Z"
   },
   {
    "duration": 9,
    "start_time": "2021-12-05T16:37:40.222Z"
   },
   {
    "duration": 7,
    "start_time": "2021-12-05T16:37:40.234Z"
   },
   {
    "duration": 34,
    "start_time": "2021-12-05T16:37:40.283Z"
   },
   {
    "duration": 33,
    "start_time": "2021-12-05T16:37:40.320Z"
   },
   {
    "duration": 33,
    "start_time": "2021-12-05T16:37:40.382Z"
   },
   {
    "duration": 86,
    "start_time": "2021-12-05T16:37:40.417Z"
   },
   {
    "duration": 27,
    "start_time": "2021-12-05T16:37:40.505Z"
   },
   {
    "duration": 21,
    "start_time": "2021-12-05T16:37:40.534Z"
   },
   {
    "duration": 23,
    "start_time": "2021-12-05T16:37:40.583Z"
   },
   {
    "duration": 8,
    "start_time": "2021-12-05T16:37:40.609Z"
   },
   {
    "duration": 41,
    "start_time": "2021-12-05T16:37:40.620Z"
   },
   {
    "duration": 38,
    "start_time": "2021-12-05T16:37:40.663Z"
   },
   {
    "duration": 32,
    "start_time": "2021-12-05T16:37:40.703Z"
   },
   {
    "duration": 44,
    "start_time": "2021-12-05T16:37:40.738Z"
   },
   {
    "duration": 6,
    "start_time": "2021-12-05T16:37:40.785Z"
   },
   {
    "duration": 8,
    "start_time": "2021-12-05T16:37:40.795Z"
   },
   {
    "duration": 31,
    "start_time": "2021-12-05T16:37:40.806Z"
   },
   {
    "duration": 415,
    "start_time": "2021-12-05T16:37:40.840Z"
   },
   {
    "duration": 35,
    "start_time": "2021-12-05T16:37:41.257Z"
   },
   {
    "duration": 24,
    "start_time": "2021-12-05T16:37:41.294Z"
   },
   {
    "duration": 11,
    "start_time": "2021-12-05T16:37:41.321Z"
   },
   {
    "duration": 1368,
    "start_time": "2021-12-05T16:37:41.335Z"
   },
   {
    "duration": 11,
    "start_time": "2021-12-05T16:37:42.706Z"
   },
   {
    "duration": 1305,
    "start_time": "2021-12-05T16:37:42.721Z"
   },
   {
    "duration": 1773,
    "start_time": "2021-12-05T16:37:44.029Z"
   },
   {
    "duration": 17,
    "start_time": "2021-12-05T16:37:45.809Z"
   },
   {
    "duration": 13,
    "start_time": "2021-12-05T16:37:45.830Z"
   },
   {
    "duration": 48,
    "start_time": "2021-12-05T16:37:45.846Z"
   },
   {
    "duration": 260,
    "start_time": "2021-12-05T16:37:45.898Z"
   },
   {
    "duration": 234,
    "start_time": "2021-12-05T16:37:46.161Z"
   },
   {
    "duration": 1460,
    "start_time": "2021-12-05T17:03:41.497Z"
   },
   {
    "duration": 1406,
    "start_time": "2021-12-05T17:03:55.853Z"
   },
   {
    "duration": 17,
    "start_time": "2021-12-05T17:05:07.812Z"
   },
   {
    "duration": 555,
    "start_time": "2021-12-05T17:08:50.690Z"
   },
   {
    "duration": 1259,
    "start_time": "2021-12-05T17:08:58.635Z"
   },
   {
    "duration": 1333,
    "start_time": "2021-12-05T17:09:04.289Z"
   },
   {
    "duration": 1572,
    "start_time": "2021-12-05T17:09:09.778Z"
   },
   {
    "duration": 1475,
    "start_time": "2021-12-05T17:09:27.946Z"
   },
   {
    "duration": 1482,
    "start_time": "2021-12-05T17:09:41.415Z"
   },
   {
    "duration": 181,
    "start_time": "2021-12-05T17:23:04.262Z"
   },
   {
    "duration": 900,
    "start_time": "2021-12-06T04:42:14.444Z"
   },
   {
    "duration": 46,
    "start_time": "2021-12-06T04:42:15.346Z"
   },
   {
    "duration": 5,
    "start_time": "2021-12-06T04:42:15.394Z"
   },
   {
    "duration": 186,
    "start_time": "2021-12-06T04:42:15.401Z"
   },
   {
    "duration": 18,
    "start_time": "2021-12-06T04:42:15.589Z"
   },
   {
    "duration": 387,
    "start_time": "2021-12-06T04:42:15.608Z"
   },
   {
    "duration": 12,
    "start_time": "2021-12-06T04:42:15.996Z"
   },
   {
    "duration": 463,
    "start_time": "2021-12-06T04:42:16.011Z"
   },
   {
    "duration": 16,
    "start_time": "2021-12-06T04:42:16.476Z"
   },
   {
    "duration": 47,
    "start_time": "2021-12-06T04:42:16.494Z"
   },
   {
    "duration": 7,
    "start_time": "2021-12-06T04:42:16.543Z"
   },
   {
    "duration": 78,
    "start_time": "2021-12-06T04:42:16.551Z"
   },
   {
    "duration": 33,
    "start_time": "2021-12-06T04:42:16.631Z"
   },
   {
    "duration": 59,
    "start_time": "2021-12-06T04:42:16.666Z"
   },
   {
    "duration": 5,
    "start_time": "2021-12-06T04:42:16.727Z"
   },
   {
    "duration": 7,
    "start_time": "2021-12-06T04:42:16.734Z"
   },
   {
    "duration": 14,
    "start_time": "2021-12-06T04:42:16.742Z"
   },
   {
    "duration": 4,
    "start_time": "2021-12-06T04:42:16.757Z"
   },
   {
    "duration": 19,
    "start_time": "2021-12-06T04:42:16.763Z"
   },
   {
    "duration": 16,
    "start_time": "2021-12-06T04:42:16.783Z"
   },
   {
    "duration": 12,
    "start_time": "2021-12-06T04:42:16.800Z"
   },
   {
    "duration": 15,
    "start_time": "2021-12-06T04:42:16.813Z"
   },
   {
    "duration": 25,
    "start_time": "2021-12-06T04:42:16.832Z"
   },
   {
    "duration": 4,
    "start_time": "2021-12-06T04:42:16.859Z"
   },
   {
    "duration": 4,
    "start_time": "2021-12-06T04:42:16.865Z"
   },
   {
    "duration": 16,
    "start_time": "2021-12-06T04:42:16.870Z"
   },
   {
    "duration": 22,
    "start_time": "2021-12-06T04:42:16.888Z"
   },
   {
    "duration": 13,
    "start_time": "2021-12-06T04:42:16.911Z"
   },
   {
    "duration": 8,
    "start_time": "2021-12-06T04:42:16.926Z"
   },
   {
    "duration": 16,
    "start_time": "2021-12-06T04:42:16.935Z"
   },
   {
    "duration": 21,
    "start_time": "2021-12-06T04:42:16.952Z"
   },
   {
    "duration": 21,
    "start_time": "2021-12-06T04:42:16.974Z"
   },
   {
    "duration": 19,
    "start_time": "2021-12-06T04:42:16.997Z"
   },
   {
    "duration": 20,
    "start_time": "2021-12-06T04:42:17.018Z"
   },
   {
    "duration": 60,
    "start_time": "2021-12-06T04:42:17.040Z"
   },
   {
    "duration": 15,
    "start_time": "2021-12-06T04:42:17.102Z"
   },
   {
    "duration": 15,
    "start_time": "2021-12-06T04:42:17.119Z"
   },
   {
    "duration": 15,
    "start_time": "2021-12-06T04:42:17.135Z"
   },
   {
    "duration": 4,
    "start_time": "2021-12-06T04:42:17.152Z"
   },
   {
    "duration": 40,
    "start_time": "2021-12-06T04:42:17.157Z"
   },
   {
    "duration": 13,
    "start_time": "2021-12-06T04:42:17.198Z"
   },
   {
    "duration": 18,
    "start_time": "2021-12-06T04:42:17.212Z"
   },
   {
    "duration": 8,
    "start_time": "2021-12-06T04:42:17.232Z"
   },
   {
    "duration": 4,
    "start_time": "2021-12-06T04:42:17.242Z"
   },
   {
    "duration": 17,
    "start_time": "2021-12-06T04:42:17.247Z"
   },
   {
    "duration": 31,
    "start_time": "2021-12-06T04:42:17.266Z"
   },
   {
    "duration": 170,
    "start_time": "2021-12-06T04:42:17.299Z"
   },
   {
    "duration": 18,
    "start_time": "2021-12-06T04:42:17.470Z"
   },
   {
    "duration": 8,
    "start_time": "2021-12-06T04:42:17.490Z"
   },
   {
    "duration": 6,
    "start_time": "2021-12-06T04:42:17.500Z"
   },
   {
    "duration": 482,
    "start_time": "2021-12-06T04:42:17.508Z"
   },
   {
    "duration": 6,
    "start_time": "2021-12-06T04:42:17.992Z"
   },
   {
    "duration": 490,
    "start_time": "2021-12-06T04:42:17.999Z"
   },
   {
    "duration": 645,
    "start_time": "2021-12-06T04:42:18.491Z"
   },
   {
    "duration": 8,
    "start_time": "2021-12-06T04:42:19.138Z"
   },
   {
    "duration": 8,
    "start_time": "2021-12-06T04:42:19.148Z"
   },
   {
    "duration": 30,
    "start_time": "2021-12-06T04:42:19.158Z"
   },
   {
    "duration": 108,
    "start_time": "2021-12-06T04:42:19.189Z"
   },
   {
    "duration": 117,
    "start_time": "2021-12-06T04:42:19.299Z"
   },
   {
    "duration": 477,
    "start_time": "2021-12-06T04:45:03.342Z"
   },
   {
    "duration": 671,
    "start_time": "2021-12-06T04:45:07.477Z"
   },
   {
    "duration": 794,
    "start_time": "2021-12-06T04:47:09.329Z"
   },
   {
    "duration": 678,
    "start_time": "2021-12-06T04:47:39.064Z"
   },
   {
    "duration": 562,
    "start_time": "2021-12-06T04:47:51.225Z"
   },
   {
    "duration": 590,
    "start_time": "2021-12-06T04:48:00.147Z"
   },
   {
    "duration": 399,
    "start_time": "2021-12-10T09:24:32.528Z"
   },
   {
    "duration": 1331,
    "start_time": "2021-12-10T09:24:42.049Z"
   },
   {
    "duration": 55,
    "start_time": "2021-12-10T09:24:43.383Z"
   },
   {
    "duration": 10,
    "start_time": "2021-12-10T09:24:43.441Z"
   },
   {
    "duration": 204,
    "start_time": "2021-12-10T09:24:43.453Z"
   },
   {
    "duration": 26,
    "start_time": "2021-12-10T09:24:43.660Z"
   },
   {
    "duration": 135,
    "start_time": "2021-12-10T09:24:43.688Z"
   },
   {
    "duration": 17,
    "start_time": "2021-12-10T09:24:43.825Z"
   },
   {
    "duration": 185,
    "start_time": "2021-12-10T09:24:43.847Z"
   },
   {
    "duration": 22,
    "start_time": "2021-12-10T09:24:44.035Z"
   },
   {
    "duration": 34,
    "start_time": "2021-12-10T09:24:44.060Z"
   },
   {
    "duration": 16,
    "start_time": "2021-12-10T09:24:44.097Z"
   },
   {
    "duration": 125,
    "start_time": "2021-12-10T09:24:44.124Z"
   },
   {
    "duration": 53,
    "start_time": "2021-12-10T09:24:44.252Z"
   },
   {
    "duration": 82,
    "start_time": "2021-12-10T09:24:44.324Z"
   },
   {
    "duration": 20,
    "start_time": "2021-12-10T09:24:44.409Z"
   },
   {
    "duration": 10,
    "start_time": "2021-12-10T09:24:44.431Z"
   },
   {
    "duration": 9,
    "start_time": "2021-12-10T09:24:44.443Z"
   },
   {
    "duration": 7,
    "start_time": "2021-12-10T09:24:44.454Z"
   },
   {
    "duration": 8,
    "start_time": "2021-12-10T09:24:44.464Z"
   },
   {
    "duration": 6,
    "start_time": "2021-12-10T09:24:44.522Z"
   },
   {
    "duration": 10,
    "start_time": "2021-12-10T09:24:44.531Z"
   },
   {
    "duration": 8,
    "start_time": "2021-12-10T09:24:44.544Z"
   },
   {
    "duration": 68,
    "start_time": "2021-12-10T09:24:44.560Z"
   },
   {
    "duration": 5,
    "start_time": "2021-12-10T09:24:44.631Z"
   },
   {
    "duration": 8,
    "start_time": "2021-12-10T09:24:44.638Z"
   },
   {
    "duration": 6,
    "start_time": "2021-12-10T09:24:44.648Z"
   },
   {
    "duration": 25,
    "start_time": "2021-12-10T09:24:44.656Z"
   },
   {
    "duration": 42,
    "start_time": "2021-12-10T09:24:44.683Z"
   },
   {
    "duration": 7,
    "start_time": "2021-12-10T09:24:44.727Z"
   },
   {
    "duration": 7,
    "start_time": "2021-12-10T09:24:44.736Z"
   },
   {
    "duration": 9,
    "start_time": "2021-12-10T09:24:44.745Z"
   },
   {
    "duration": 30,
    "start_time": "2021-12-10T09:24:44.756Z"
   },
   {
    "duration": 59,
    "start_time": "2021-12-10T09:24:44.788Z"
   },
   {
    "duration": 30,
    "start_time": "2021-12-10T09:24:44.849Z"
   },
   {
    "duration": 80,
    "start_time": "2021-12-10T09:24:44.881Z"
   },
   {
    "duration": 28,
    "start_time": "2021-12-10T09:24:44.964Z"
   },
   {
    "duration": 40,
    "start_time": "2021-12-10T09:24:44.996Z"
   },
   {
    "duration": 30,
    "start_time": "2021-12-10T09:24:45.039Z"
   },
   {
    "duration": 5,
    "start_time": "2021-12-10T09:24:45.072Z"
   },
   {
    "duration": 49,
    "start_time": "2021-12-10T09:24:45.080Z"
   },
   {
    "duration": 16,
    "start_time": "2021-12-10T09:24:45.131Z"
   },
   {
    "duration": 27,
    "start_time": "2021-12-10T09:24:45.149Z"
   },
   {
    "duration": 11,
    "start_time": "2021-12-10T09:24:45.178Z"
   },
   {
    "duration": 4,
    "start_time": "2021-12-10T09:24:45.192Z"
   },
   {
    "duration": 5,
    "start_time": "2021-12-10T09:24:45.222Z"
   },
   {
    "duration": 20,
    "start_time": "2021-12-10T09:24:45.230Z"
   },
   {
    "duration": 319,
    "start_time": "2021-12-10T09:24:45.252Z"
   },
   {
    "duration": 23,
    "start_time": "2021-12-10T09:24:45.573Z"
   },
   {
    "duration": 30,
    "start_time": "2021-12-10T09:24:45.598Z"
   },
   {
    "duration": 14,
    "start_time": "2021-12-10T09:24:45.631Z"
   },
   {
    "duration": 879,
    "start_time": "2021-12-10T09:24:45.647Z"
   },
   {
    "duration": 7,
    "start_time": "2021-12-10T09:24:46.529Z"
   },
   {
    "duration": 917,
    "start_time": "2021-12-10T09:24:46.539Z"
   },
   {
    "duration": 1185,
    "start_time": "2021-12-10T09:24:47.459Z"
   },
   {
    "duration": 11,
    "start_time": "2021-12-10T09:24:48.647Z"
   },
   {
    "duration": 10,
    "start_time": "2021-12-10T09:24:48.661Z"
   },
   {
    "duration": 11,
    "start_time": "2021-12-10T09:24:48.673Z"
   },
   {
    "duration": 45,
    "start_time": "2021-12-10T09:24:48.686Z"
   },
   {
    "duration": 202,
    "start_time": "2021-12-10T09:24:48.733Z"
   },
   {
    "duration": 198,
    "start_time": "2021-12-10T09:24:48.937Z"
   },
   {
    "duration": 10,
    "start_time": "2021-12-10T09:25:03.172Z"
   },
   {
    "duration": 9,
    "start_time": "2021-12-10T09:56:36.743Z"
   },
   {
    "duration": 9,
    "start_time": "2021-12-10T09:56:43.627Z"
   },
   {
    "duration": 1044,
    "start_time": "2022-01-15T13:21:40.077Z"
   },
   {
    "duration": 39,
    "start_time": "2022-01-15T13:21:41.122Z"
   },
   {
    "duration": 6,
    "start_time": "2022-01-15T13:21:41.163Z"
   },
   {
    "duration": 156,
    "start_time": "2022-01-15T13:21:41.171Z"
   },
   {
    "duration": 19,
    "start_time": "2022-01-15T13:21:41.329Z"
   },
   {
    "duration": 95,
    "start_time": "2022-01-15T13:21:41.350Z"
   },
   {
    "duration": 14,
    "start_time": "2022-01-15T13:21:41.446Z"
   },
   {
    "duration": 127,
    "start_time": "2022-01-15T13:21:41.463Z"
   },
   {
    "duration": 17,
    "start_time": "2022-01-15T13:21:41.592Z"
   },
   {
    "duration": 22,
    "start_time": "2022-01-15T13:21:41.610Z"
   },
   {
    "duration": 13,
    "start_time": "2022-01-15T13:21:41.634Z"
   },
   {
    "duration": 98,
    "start_time": "2022-01-15T13:21:41.649Z"
   },
   {
    "duration": 37,
    "start_time": "2022-01-15T13:21:41.748Z"
   },
   {
    "duration": 64,
    "start_time": "2022-01-15T13:21:41.787Z"
   },
   {
    "duration": 6,
    "start_time": "2022-01-15T13:21:41.852Z"
   },
   {
    "duration": 9,
    "start_time": "2022-01-15T13:21:41.859Z"
   },
   {
    "duration": 8,
    "start_time": "2022-01-15T13:21:41.869Z"
   },
   {
    "duration": 6,
    "start_time": "2022-01-15T13:21:41.878Z"
   },
   {
    "duration": 7,
    "start_time": "2022-01-15T13:21:41.885Z"
   },
   {
    "duration": 5,
    "start_time": "2022-01-15T13:21:41.894Z"
   },
   {
    "duration": 8,
    "start_time": "2022-01-15T13:21:41.900Z"
   },
   {
    "duration": 6,
    "start_time": "2022-01-15T13:21:41.909Z"
   },
   {
    "duration": 25,
    "start_time": "2022-01-15T13:21:41.943Z"
   },
   {
    "duration": 4,
    "start_time": "2022-01-15T13:21:41.970Z"
   },
   {
    "duration": 6,
    "start_time": "2022-01-15T13:21:41.975Z"
   },
   {
    "duration": 7,
    "start_time": "2022-01-15T13:21:41.983Z"
   },
   {
    "duration": 21,
    "start_time": "2022-01-15T13:21:41.992Z"
   },
   {
    "duration": 28,
    "start_time": "2022-01-15T13:21:42.014Z"
   },
   {
    "duration": 3,
    "start_time": "2022-01-15T13:21:42.043Z"
   },
   {
    "duration": 7,
    "start_time": "2022-01-15T13:21:42.047Z"
   },
   {
    "duration": 10,
    "start_time": "2022-01-15T13:21:42.055Z"
   },
   {
    "duration": 27,
    "start_time": "2022-01-15T13:21:42.066Z"
   },
   {
    "duration": 21,
    "start_time": "2022-01-15T13:21:42.095Z"
   },
   {
    "duration": 38,
    "start_time": "2022-01-15T13:21:42.117Z"
   },
   {
    "duration": 43,
    "start_time": "2022-01-15T13:21:42.157Z"
   },
   {
    "duration": 14,
    "start_time": "2022-01-15T13:21:42.202Z"
   },
   {
    "duration": 27,
    "start_time": "2022-01-15T13:21:42.217Z"
   },
   {
    "duration": 14,
    "start_time": "2022-01-15T13:21:42.246Z"
   },
   {
    "duration": 4,
    "start_time": "2022-01-15T13:21:42.262Z"
   },
   {
    "duration": 21,
    "start_time": "2022-01-15T13:21:42.267Z"
   },
   {
    "duration": 11,
    "start_time": "2022-01-15T13:21:42.290Z"
   },
   {
    "duration": 42,
    "start_time": "2022-01-15T13:21:42.303Z"
   },
   {
    "duration": 9,
    "start_time": "2022-01-15T13:21:42.346Z"
   },
   {
    "duration": 3,
    "start_time": "2022-01-15T13:21:42.356Z"
   },
   {
    "duration": 6,
    "start_time": "2022-01-15T13:21:42.361Z"
   },
   {
    "duration": 15,
    "start_time": "2022-01-15T13:21:42.368Z"
   },
   {
    "duration": 188,
    "start_time": "2022-01-15T13:21:42.385Z"
   },
   {
    "duration": 14,
    "start_time": "2022-01-15T13:21:42.575Z"
   },
   {
    "duration": 10,
    "start_time": "2022-01-15T13:21:42.591Z"
   },
   {
    "duration": 9,
    "start_time": "2022-01-15T13:21:42.603Z"
   },
   {
    "duration": 517,
    "start_time": "2022-01-15T13:21:42.614Z"
   },
   {
    "duration": 6,
    "start_time": "2022-01-15T13:21:43.141Z"
   },
   {
    "duration": 524,
    "start_time": "2022-01-15T13:21:43.148Z"
   },
   {
    "duration": 721,
    "start_time": "2022-01-15T13:21:43.674Z"
   },
   {
    "duration": 8,
    "start_time": "2022-01-15T13:21:44.397Z"
   },
   {
    "duration": 11,
    "start_time": "2022-01-15T13:21:44.406Z"
   },
   {
    "duration": 12,
    "start_time": "2022-01-15T13:21:44.418Z"
   },
   {
    "duration": 114,
    "start_time": "2022-01-15T13:21:44.441Z"
   },
   {
    "duration": 122,
    "start_time": "2022-01-15T13:21:44.556Z"
   },
   {
    "duration": 15,
    "start_time": "2022-01-15T13:22:18.001Z"
   },
   {
    "duration": 11,
    "start_time": "2022-01-15T13:36:48.085Z"
   },
   {
    "duration": 1441,
    "start_time": "2022-01-16T13:40:45.981Z"
   },
   {
    "duration": 48,
    "start_time": "2022-01-16T13:40:47.424Z"
   },
   {
    "duration": 10,
    "start_time": "2022-01-16T13:40:47.474Z"
   },
   {
    "duration": 228,
    "start_time": "2022-01-16T13:40:47.486Z"
   },
   {
    "duration": 26,
    "start_time": "2022-01-16T13:40:47.716Z"
   },
   {
    "duration": 135,
    "start_time": "2022-01-16T13:40:47.745Z"
   },
   {
    "duration": 19,
    "start_time": "2022-01-16T13:40:47.883Z"
   },
   {
    "duration": 184,
    "start_time": "2022-01-16T13:40:47.905Z"
   },
   {
    "duration": 22,
    "start_time": "2022-01-16T13:40:48.093Z"
   },
   {
    "duration": 30,
    "start_time": "2022-01-16T13:40:48.118Z"
   },
   {
    "duration": 13,
    "start_time": "2022-01-16T13:40:48.163Z"
   },
   {
    "duration": 195,
    "start_time": "2022-01-16T13:40:48.179Z"
   },
   {
    "duration": 86,
    "start_time": "2022-01-16T13:40:48.378Z"
   },
   {
    "duration": 137,
    "start_time": "2022-01-16T13:40:48.468Z"
   },
   {
    "duration": 12,
    "start_time": "2022-01-16T13:40:48.608Z"
   },
   {
    "duration": 7,
    "start_time": "2022-01-16T13:40:48.623Z"
   },
   {
    "duration": 33,
    "start_time": "2022-01-16T13:40:48.633Z"
   },
   {
    "duration": 7,
    "start_time": "2022-01-16T13:40:48.669Z"
   },
   {
    "duration": 9,
    "start_time": "2022-01-16T13:40:48.678Z"
   },
   {
    "duration": 7,
    "start_time": "2022-01-16T13:40:48.690Z"
   },
   {
    "duration": 10,
    "start_time": "2022-01-16T13:40:48.700Z"
   },
   {
    "duration": 7,
    "start_time": "2022-01-16T13:40:48.763Z"
   },
   {
    "duration": 42,
    "start_time": "2022-01-16T13:40:48.773Z"
   },
   {
    "duration": 6,
    "start_time": "2022-01-16T13:40:48.818Z"
   },
   {
    "duration": 41,
    "start_time": "2022-01-16T13:40:48.827Z"
   },
   {
    "duration": 9,
    "start_time": "2022-01-16T13:40:48.871Z"
   },
   {
    "duration": 75,
    "start_time": "2022-01-16T13:40:48.888Z"
   },
   {
    "duration": 17,
    "start_time": "2022-01-16T13:40:48.968Z"
   },
   {
    "duration": 6,
    "start_time": "2022-01-16T13:40:48.987Z"
   },
   {
    "duration": 8,
    "start_time": "2022-01-16T13:40:48.995Z"
   },
   {
    "duration": 7,
    "start_time": "2022-01-16T13:40:49.006Z"
   },
   {
    "duration": 72,
    "start_time": "2022-01-16T13:40:49.016Z"
   },
   {
    "duration": 27,
    "start_time": "2022-01-16T13:40:49.090Z"
   },
   {
    "duration": 53,
    "start_time": "2022-01-16T13:40:49.119Z"
   },
   {
    "duration": 62,
    "start_time": "2022-01-16T13:40:49.174Z"
   },
   {
    "duration": 40,
    "start_time": "2022-01-16T13:40:49.238Z"
   },
   {
    "duration": 22,
    "start_time": "2022-01-16T13:40:49.280Z"
   },
   {
    "duration": 26,
    "start_time": "2022-01-16T13:40:49.305Z"
   },
   {
    "duration": 35,
    "start_time": "2022-01-16T13:40:49.333Z"
   },
   {
    "duration": 29,
    "start_time": "2022-01-16T13:40:49.370Z"
   },
   {
    "duration": 18,
    "start_time": "2022-01-16T13:40:49.402Z"
   },
   {
    "duration": 58,
    "start_time": "2022-01-16T13:40:49.423Z"
   },
   {
    "duration": 14,
    "start_time": "2022-01-16T13:40:49.483Z"
   },
   {
    "duration": 4,
    "start_time": "2022-01-16T13:40:49.499Z"
   },
   {
    "duration": 12,
    "start_time": "2022-01-16T13:40:49.505Z"
   },
   {
    "duration": 21,
    "start_time": "2022-01-16T13:40:49.520Z"
   },
   {
    "duration": 318,
    "start_time": "2022-01-16T13:40:49.563Z"
   },
   {
    "duration": 24,
    "start_time": "2022-01-16T13:40:49.884Z"
   },
   {
    "duration": 20,
    "start_time": "2022-01-16T13:40:49.910Z"
   },
   {
    "duration": 33,
    "start_time": "2022-01-16T13:40:49.932Z"
   },
   {
    "duration": 921,
    "start_time": "2022-01-16T13:40:49.967Z"
   },
   {
    "duration": 8,
    "start_time": "2022-01-16T13:40:50.891Z"
   },
   {
    "duration": 924,
    "start_time": "2022-01-16T13:40:50.901Z"
   },
   {
    "duration": 1240,
    "start_time": "2022-01-16T13:40:51.828Z"
   },
   {
    "duration": 11,
    "start_time": "2022-01-16T13:40:53.070Z"
   },
   {
    "duration": 11,
    "start_time": "2022-01-16T13:40:53.084Z"
   },
   {
    "duration": 12,
    "start_time": "2022-01-16T13:40:53.097Z"
   },
   {
    "duration": 234,
    "start_time": "2022-01-16T13:40:53.112Z"
   },
   {
    "duration": 220,
    "start_time": "2022-01-16T13:40:53.349Z"
   }
  ],
  "kernelspec": {
   "display_name": "Python 3",
   "language": "python",
   "name": "python3"
  },
  "language_info": {
   "codemirror_mode": {
    "name": "ipython",
    "version": 3
   },
   "file_extension": ".py",
   "mimetype": "text/x-python",
   "name": "python",
   "nbconvert_exporter": "python",
   "pygments_lexer": "ipython3",
   "version": "3.8.5"
  },
  "toc": {
   "base_numbering": 1,
   "nav_menu": {},
   "number_sections": true,
   "sideBar": true,
   "skip_h1_title": true,
   "title_cell": "Table of Contents",
   "title_sidebar": "Contents",
   "toc_cell": false,
   "toc_position": {
    "height": "531px",
    "left": "263px",
    "top": "185.125px",
    "width": "279.391px"
   },
   "toc_section_display": true,
   "toc_window_display": true
  }
 },
 "nbformat": 4,
 "nbformat_minor": 2
}
